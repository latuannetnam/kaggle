{
 "cells": [
  {
   "cell_type": "code",
   "execution_count": null,
   "metadata": {
    "collapsed": true
   },
   "outputs": [],
   "source": []
  },
  {
   "cell_type": "markdown",
   "metadata": {
    "toc": "true"
   },
   "source": [
    "# Table of Contents\n",
    " <p><div class=\"lev1 toc-item\"><a href=\"#New-York-City-Taxi-Trip-Duration\" data-toc-modified-id=\"New-York-City-Taxi-Trip-Duration-1\"><span class=\"toc-item-num\">1&nbsp;&nbsp;</span>New York City Taxi Trip Duration</a></div><div class=\"lev2 toc-item\"><a href=\"#Credit-to:\" data-toc-modified-id=\"Credit-to:-11\"><span class=\"toc-item-num\">1.1&nbsp;&nbsp;</span>Credit to:</a></div><div class=\"lev1 toc-item\"><a href=\"#Load-data\" data-toc-modified-id=\"Load-data-2\"><span class=\"toc-item-num\">2&nbsp;&nbsp;</span>Load data</a></div><div class=\"lev3 toc-item\"><a href=\"#Load-another-dataset-with-distance-from-OSMR\" data-toc-modified-id=\"Load-another-dataset-with-distance-from-OSMR-201\"><span class=\"toc-item-num\">2.0.1&nbsp;&nbsp;</span>Load another dataset with distance from OSMR</a></div><div class=\"lev3 toc-item\"><a href=\"#Check-different-between-orginal-train-data-and-OSM-data-set\" data-toc-modified-id=\"Check-different-between-orginal-train-data-and-OSM-data-set-202\"><span class=\"toc-item-num\">2.0.2&nbsp;&nbsp;</span>Check different between orginal train data and OSM data set</a></div><div class=\"lev3 toc-item\"><a href=\"#Combine-train-data-and-eval-data\" data-toc-modified-id=\"Combine-train-data-and-eval-data-203\"><span class=\"toc-item-num\">2.0.3&nbsp;&nbsp;</span>Combine train data and eval data</a></div><div class=\"lev1 toc-item\"><a href=\"#Pre-process-data\" data-toc-modified-id=\"Pre-process-data-3\"><span class=\"toc-item-num\">3&nbsp;&nbsp;</span>Pre-process data</a></div><div class=\"lev2 toc-item\"><a href=\"#Check&amp;-Fill--NaN\" data-toc-modified-id=\"Check&amp;-Fill--NaN-31\"><span class=\"toc-item-num\">3.1&nbsp;&nbsp;</span>Check&amp; Fill  NaN</a></div><div class=\"lev3 toc-item\"><a href=\"#FillNA-for-total_distance\" data-toc-modified-id=\"FillNA-for-total_distance-311\"><span class=\"toc-item-num\">3.1.1&nbsp;&nbsp;</span>FillNA for total_distance</a></div><div class=\"lev3 toc-item\"><a href=\"#FillNaN-for-number_of_streets\" data-toc-modified-id=\"FillNaN-for-number_of_streets-312\"><span class=\"toc-item-num\">3.1.2&nbsp;&nbsp;</span>FillNaN for number_of_streets</a></div><div class=\"lev2 toc-item\"><a href=\"#Transform-object-data\" data-toc-modified-id=\"Transform-object-data-32\"><span class=\"toc-item-num\">3.2&nbsp;&nbsp;</span>Transform object data</a></div><div class=\"lev3 toc-item\"><a href=\"#Convert-datetime-string-to-object\" data-toc-modified-id=\"Convert-datetime-string-to-object-321\"><span class=\"toc-item-num\">3.2.1&nbsp;&nbsp;</span>Convert datetime string to object</a></div><div class=\"lev3 toc-item\"><a href=\"#store_and_fwd_flag\" data-toc-modified-id=\"store_and_fwd_flag-322\"><span class=\"toc-item-num\">3.2.2&nbsp;&nbsp;</span>store_and_fwd_flag</a></div><div class=\"lev3 toc-item\"><a href=\"#start_street\" data-toc-modified-id=\"start_street-323\"><span class=\"toc-item-num\">3.2.3&nbsp;&nbsp;</span>start_street</a></div><div class=\"lev3 toc-item\"><a href=\"#end_street\" data-toc-modified-id=\"end_street-324\"><span class=\"toc-item-num\">3.2.4&nbsp;&nbsp;</span>end_street</a></div><div class=\"lev3 toc-item\"><a href=\"#Drop-unused-cols\" data-toc-modified-id=\"Drop-unused-cols-325\"><span class=\"toc-item-num\">3.2.5&nbsp;&nbsp;</span>Drop unused cols</a></div><div class=\"lev2 toc-item\"><a href=\"#Feature-engineering\" data-toc-modified-id=\"Feature-engineering-33\"><span class=\"toc-item-num\">3.3&nbsp;&nbsp;</span>Feature engineering</a></div><div class=\"lev3 toc-item\"><a href=\"#Distance-between-pickup-and-dropoff\" data-toc-modified-id=\"Distance-between-pickup-and-dropoff-331\"><span class=\"toc-item-num\">3.3.1&nbsp;&nbsp;</span>Distance between pickup and dropoff</a></div><div class=\"lev3 toc-item\"><a href=\"#total_distance\" data-toc-modified-id=\"total_distance-332\"><span class=\"toc-item-num\">3.3.2&nbsp;&nbsp;</span>total_distance</a></div><div class=\"lev4 toc-item\"><a href=\"#check-for-haversine_distance=0\" data-toc-modified-id=\"check-for-haversine_distance=0-3321\"><span class=\"toc-item-num\">3.3.2.1&nbsp;&nbsp;</span>check for haversine_distance=0</a></div><div class=\"lev4 toc-item\"><a href=\"#check-for-total_distance=0-and-haversine_distance=0\" data-toc-modified-id=\"check-for-total_distance=0-and-haversine_distance=0-3322\"><span class=\"toc-item-num\">3.3.2.2&nbsp;&nbsp;</span>check for total_distance=0 and haversine_distance=0</a></div><div class=\"lev4 toc-item\"><a href=\"#Update-target\" data-toc-modified-id=\"Update-target-3323\"><span class=\"toc-item-num\">3.3.2.3&nbsp;&nbsp;</span>Update target</a></div><div class=\"lev4 toc-item\"><a href=\"#Estimate-total_distance\" data-toc-modified-id=\"Estimate-total_distance-3324\"><span class=\"toc-item-num\">3.3.2.4&nbsp;&nbsp;</span>Estimate total_distance</a></div><div class=\"lev3 toc-item\"><a href=\"#Average-speed\" data-toc-modified-id=\"Average-speed-333\"><span class=\"toc-item-num\">3.3.3&nbsp;&nbsp;</span>Average speed</a></div><div class=\"lev4 toc-item\"><a href=\"#Calculate-speed-from-total_distance-and-trip_duration\" data-toc-modified-id=\"Calculate-speed-from-total_distance-and-trip_duration-3331\"><span class=\"toc-item-num\">3.3.3.1&nbsp;&nbsp;</span>Calculate speed from total_distance and trip_duration</a></div><div class=\"lev4 toc-item\"><a href=\"#speed_mean-by-hour\" data-toc-modified-id=\"speed_mean-by-hour-3332\"><span class=\"toc-item-num\">3.3.3.2&nbsp;&nbsp;</span>speed_mean by hour</a></div><div class=\"lev4 toc-item\"><a href=\"#speed_mean-by-week_day\" data-toc-modified-id=\"speed_mean-by-week_day-3333\"><span class=\"toc-item-num\">3.3.3.3&nbsp;&nbsp;</span>speed_mean by week_day</a></div><div class=\"lev4 toc-item\"><a href=\"#speed_mean-by-day\" data-toc-modified-id=\"speed_mean-by-day-3334\"><span class=\"toc-item-num\">3.3.3.4&nbsp;&nbsp;</span>speed_mean by day</a></div><div class=\"lev4 toc-item\"><a href=\"#speed_mean-by-month\" data-toc-modified-id=\"speed_mean-by-month-3335\"><span class=\"toc-item-num\">3.3.3.5&nbsp;&nbsp;</span>speed_mean by month</a></div><div class=\"lev3 toc-item\"><a href=\"#starting_street_tf\" data-toc-modified-id=\"starting_street_tf-334\"><span class=\"toc-item-num\">3.3.4&nbsp;&nbsp;</span>starting_street_tf</a></div><div class=\"lev3 toc-item\"><a href=\"#end_street_tf\" data-toc-modified-id=\"end_street_tf-335\"><span class=\"toc-item-num\">3.3.5&nbsp;&nbsp;</span>end_street_tf</a></div><div class=\"lev3 toc-item\"><a href=\"#Check-data\" data-toc-modified-id=\"Check-data-336\"><span class=\"toc-item-num\">3.3.6&nbsp;&nbsp;</span>Check data</a></div><div class=\"lev2 toc-item\"><a href=\"#Clearning-data\" data-toc-modified-id=\"Clearning-data-34\"><span class=\"toc-item-num\">3.4&nbsp;&nbsp;</span>Clearning data</a></div><div class=\"lev3 toc-item\"><a href=\"#Split-train_set-and-eval_set\" data-toc-modified-id=\"Split-train_set-and-eval_set-341\"><span class=\"toc-item-num\">3.4.1&nbsp;&nbsp;</span>Split train_set and eval_set</a></div><div class=\"lev3 toc-item\"><a href=\"#Trip-duration-outliner\" data-toc-modified-id=\"Trip-duration-outliner-342\"><span class=\"toc-item-num\">3.4.2&nbsp;&nbsp;</span>Trip duration outliner</a></div><div class=\"lev4 toc-item\"><a href=\"#Search-for-outliner\" data-toc-modified-id=\"Search-for-outliner-3421\"><span class=\"toc-item-num\">3.4.2.1&nbsp;&nbsp;</span>Search for outliner</a></div><div class=\"lev4 toc-item\"><a href=\"#Drop-trip-duration-outliner\" data-toc-modified-id=\"Drop-trip-duration-outliner-3422\"><span class=\"toc-item-num\">3.4.2.2&nbsp;&nbsp;</span>Drop trip-duration outliner</a></div><div class=\"lev4 toc-item\"><a href=\"#drop-trip_duration=0\" data-toc-modified-id=\"drop-trip_duration=0-3423\"><span class=\"toc-item-num\">3.4.2.3&nbsp;&nbsp;</span>drop trip_duration=0</a></div><div class=\"lev3 toc-item\"><a href=\"#Trip-duration-distribution\" data-toc-modified-id=\"Trip-duration-distribution-343\"><span class=\"toc-item-num\">3.4.3&nbsp;&nbsp;</span>Trip duration distribution</a></div><div class=\"lev2 toc-item\"><a href=\"#Feature-scaling-(not-use)\" data-toc-modified-id=\"Feature-scaling-(not-use)-35\"><span class=\"toc-item-num\">3.5&nbsp;&nbsp;</span>Feature scaling (not use)</a></div><div class=\"lev2 toc-item\"><a href=\"#Feature-correlation\" data-toc-modified-id=\"Feature-correlation-36\"><span class=\"toc-item-num\">3.6&nbsp;&nbsp;</span>Feature correlation</a></div><div class=\"lev1 toc-item\"><a href=\"#Train-model\" data-toc-modified-id=\"Train-model-4\"><span class=\"toc-item-num\">4&nbsp;&nbsp;</span>Train model</a></div><div class=\"lev2 toc-item\"><a href=\"#Model-definition\" data-toc-modified-id=\"Model-definition-41\"><span class=\"toc-item-num\">4.1&nbsp;&nbsp;</span>Model definition</a></div><div class=\"lev3 toc-item\"><a href=\"#Split-train/test-set\" data-toc-modified-id=\"Split-train/test-set-411\"><span class=\"toc-item-num\">4.1.1&nbsp;&nbsp;</span>Split train/test set</a></div><div class=\"lev2 toc-item\"><a href=\"#Train-data\" data-toc-modified-id=\"Train-data-42\"><span class=\"toc-item-num\">4.2&nbsp;&nbsp;</span>Train data</a></div><div class=\"lev3 toc-item\"><a href=\"#Predict-for-test-data\" data-toc-modified-id=\"Predict-for-test-data-421\"><span class=\"toc-item-num\">4.2.1&nbsp;&nbsp;</span>Predict for test data</a></div><div class=\"lev3 toc-item\"><a href=\"#Feature-importances\" data-toc-modified-id=\"Feature-importances-422\"><span class=\"toc-item-num\">4.2.2&nbsp;&nbsp;</span>Feature importances</a></div><div class=\"lev1 toc-item\"><a href=\"#Predict-and-save-submission\" data-toc-modified-id=\"Predict-and-save-submission-5\"><span class=\"toc-item-num\">5&nbsp;&nbsp;</span>Predict and save submission</a></div><div class=\"lev2 toc-item\"><a href=\"#Leader-board\" data-toc-modified-id=\"Leader-board-51\"><span class=\"toc-item-num\">5.1&nbsp;&nbsp;</span>Leader board</a></div>"
   ]
  },
  {
   "cell_type": "markdown",
   "metadata": {},
   "source": [
    "# New York City Taxi Trip Duration\n",
    "- Share code and data to improve ride time predictions\n",
    "- https://www.kaggle.com/c/nyc-taxi-trip-duration/data\n",
    "- install: http://jupyter-contrib-nbextensions.readthedocs.io/en/latest/install.html\n",
    "- install: https://github.com/Jupyter-contrib/jupyter_nbextensions_configurator\n",
    "- install GDAL: https://sandbox.idre.ucla.edu/sandbox/tutorials/installing-gdal-for-windows\n",
    "- install osmnx: http://geoffboeing.com/2014/09/using-geopandas-windows/\n"
   ]
  },
  {
   "cell_type": "markdown",
   "metadata": {},
   "source": [
    "## Credit to:\n",
    "- https://www.kaggle.com/ankasor/driving-distance-using-open-street-maps-data/notebook\n",
    "- https://www.kaggle.com/oscarleo/new-york-city-taxi-with-osrm\n",
    "- https://www.kaggle.com/gaborfodor/from-eda-to-the-top-lb-0-368/notebook"
   ]
  },
  {
   "cell_type": "code",
   "execution_count": 1,
   "metadata": {
    "ExecuteTime": {
     "end_time": "2017-07-28T13:08:37.957218Z",
     "start_time": "2017-07-28T13:08:20.843339Z"
    }
   },
   "outputs": [
    {
     "name": "stderr",
     "output_type": "stream",
     "text": [
      "c:\\users\\le anh tuan\\appdata\\local\\programs\\python\\python35\\lib\\site-packages\\sklearn\\cross_validation.py:44: DeprecationWarning: This module was deprecated in version 0.18 in favor of the model_selection module into which all the refactored classes and functions are moved. Also note that the interface of the new CV iterators are different from that of this module. This module will be removed in 0.20.\n",
      "  \"This module will be removed in 0.20.\", DeprecationWarning)\n",
      "c:\\users\\le anh tuan\\appdata\\local\\programs\\python\\python35\\lib\\site-packages\\sklearn\\grid_search.py:43: DeprecationWarning: This module was deprecated in version 0.18 in favor of the model_selection module into which all the refactored classes and functions are moved. This module will be removed in 0.20.\n",
      "  DeprecationWarning)\n"
     ]
    }
   ],
   "source": [
    "# data processing\n",
    "import pandas as pd\n",
    "import matplotlib.pyplot as plt\n",
    "import seaborn as sns\n",
    "import numpy as np\n",
    "from math import sqrt\n",
    "from scipy import stats\n",
    "from scipy.stats import norm\n",
    "import math\n",
    "from math import radians, cos, sin, asin, sqrt\n",
    "from numpy import sort\n",
    "\n",
    "# ML\n",
    "# # Scikit-learn\n",
    "from sklearn.preprocessing import StandardScaler\n",
    "from sklearn.tree import DecisionTreeRegressor\n",
    "from sklearn.linear_model import LinearRegression\n",
    "from sklearn.ensemble import RandomForestRegressor, AdaBoostRegressor, GradientBoostingRegressor, ExtraTreesRegressor\n",
    "from sklearn.model_selection import cross_val_score, train_test_split, learning_curve, validation_curve, KFold\n",
    "from sklearn.metrics import mean_squared_error, make_scorer\n",
    "from sklearn.grid_search import GridSearchCV\n",
    "from sklearn.preprocessing import LabelEncoder, StandardScaler\n",
    "from sklearn.feature_selection import SelectFromModel\n",
    "# # XGB\n",
    "from xgboost.sklearn import XGBRegressor\n",
    "import xgboost as xgb\n",
    "from xgboost import plot_importance\n",
    "# # CatBoost\n",
    "#from catboost import Pool, CatBoostRegressor, cv, CatboostIpythonWidget\n",
    "# System\n",
    "import datetime as dtime\n",
    "from datetime import datetime\n",
    "import sys\n",
    "from inspect import getsourcefile\n",
    "import os.path\n",
    "import re\n",
    "import time\n",
    "\n",
    "# Other\n",
    "from geographiclib.geodesic import Geodesic\n",
    "#import osmnx as ox\n",
    "#import networkx as nx\n",
    "\n",
    "import warnings\n",
    "warnings.filterwarnings('ignore')\n",
    "%matplotlib inline"
   ]
  },
  {
   "cell_type": "markdown",
   "metadata": {},
   "source": [
    "# Load data"
   ]
  },
  {
   "cell_type": "code",
   "execution_count": 2,
   "metadata": {
    "ExecuteTime": {
     "end_time": "2017-07-28T13:08:45.893683Z",
     "start_time": "2017-07-28T13:08:37.957218Z"
    },
    "collapsed": true
   },
   "outputs": [],
   "source": [
    "pd.options.display.float_format = '{:,.4f}'.format\n",
    "# Input data files are available in the DATA_DIR directory.\n",
    "DATA_DIR = \"data-temp\"\n",
    "# Load data. Download from:https://www.kaggle.com/c/nyc-taxi-trip-duration/data\n",
    "train_data = pd.read_csv(DATA_DIR + \"/train.csv\")\n",
    "eval_data =  pd.read_csv(DATA_DIR + \"/test.csv\")"
   ]
  },
  {
   "cell_type": "code",
   "execution_count": 3,
   "metadata": {
    "ExecuteTime": {
     "end_time": "2017-07-28T13:08:45.909308Z",
     "start_time": "2017-07-28T13:08:45.893683Z"
    }
   },
   "outputs": [
    {
     "name": "stdout",
     "output_type": "stream",
     "text": [
      "train size: (1458644, 11)  test size: (625134, 9)\n"
     ]
    }
   ],
   "source": [
    "print(\"train size:\", train_data.shape, \" test size:\", eval_data.shape)"
   ]
  },
  {
   "cell_type": "code",
   "execution_count": 4,
   "metadata": {
    "ExecuteTime": {
     "end_time": "2017-07-28T13:08:45.993946Z",
     "start_time": "2017-07-28T13:08:45.909308Z"
    },
    "scrolled": true
   },
   "outputs": [
    {
     "data": {
      "text/html": [
       "<div>\n",
       "<style>\n",
       "    .dataframe thead tr:only-child th {\n",
       "        text-align: right;\n",
       "    }\n",
       "\n",
       "    .dataframe thead th {\n",
       "        text-align: left;\n",
       "    }\n",
       "\n",
       "    .dataframe tbody tr th {\n",
       "        vertical-align: top;\n",
       "    }\n",
       "</style>\n",
       "<table border=\"1\" class=\"dataframe\">\n",
       "  <thead>\n",
       "    <tr style=\"text-align: right;\">\n",
       "      <th></th>\n",
       "      <th>id</th>\n",
       "      <th>vendor_id</th>\n",
       "      <th>pickup_datetime</th>\n",
       "      <th>dropoff_datetime</th>\n",
       "      <th>passenger_count</th>\n",
       "      <th>pickup_longitude</th>\n",
       "      <th>pickup_latitude</th>\n",
       "      <th>dropoff_longitude</th>\n",
       "      <th>dropoff_latitude</th>\n",
       "      <th>store_and_fwd_flag</th>\n",
       "      <th>trip_duration</th>\n",
       "    </tr>\n",
       "  </thead>\n",
       "  <tbody>\n",
       "    <tr>\n",
       "      <th>0</th>\n",
       "      <td>id2875421</td>\n",
       "      <td>2</td>\n",
       "      <td>2016-03-14 17:24:55</td>\n",
       "      <td>2016-03-14 17:32:30</td>\n",
       "      <td>1</td>\n",
       "      <td>-73.9822</td>\n",
       "      <td>40.7679</td>\n",
       "      <td>-73.9646</td>\n",
       "      <td>40.7656</td>\n",
       "      <td>N</td>\n",
       "      <td>455</td>\n",
       "    </tr>\n",
       "    <tr>\n",
       "      <th>1</th>\n",
       "      <td>id2377394</td>\n",
       "      <td>1</td>\n",
       "      <td>2016-06-12 00:43:35</td>\n",
       "      <td>2016-06-12 00:54:38</td>\n",
       "      <td>1</td>\n",
       "      <td>-73.9804</td>\n",
       "      <td>40.7386</td>\n",
       "      <td>-73.9995</td>\n",
       "      <td>40.7312</td>\n",
       "      <td>N</td>\n",
       "      <td>663</td>\n",
       "    </tr>\n",
       "    <tr>\n",
       "      <th>2</th>\n",
       "      <td>id3858529</td>\n",
       "      <td>2</td>\n",
       "      <td>2016-01-19 11:35:24</td>\n",
       "      <td>2016-01-19 12:10:48</td>\n",
       "      <td>1</td>\n",
       "      <td>-73.9790</td>\n",
       "      <td>40.7639</td>\n",
       "      <td>-74.0053</td>\n",
       "      <td>40.7101</td>\n",
       "      <td>N</td>\n",
       "      <td>2124</td>\n",
       "    </tr>\n",
       "    <tr>\n",
       "      <th>3</th>\n",
       "      <td>id3504673</td>\n",
       "      <td>2</td>\n",
       "      <td>2016-04-06 19:32:31</td>\n",
       "      <td>2016-04-06 19:39:40</td>\n",
       "      <td>1</td>\n",
       "      <td>-74.0100</td>\n",
       "      <td>40.7200</td>\n",
       "      <td>-74.0123</td>\n",
       "      <td>40.7067</td>\n",
       "      <td>N</td>\n",
       "      <td>429</td>\n",
       "    </tr>\n",
       "    <tr>\n",
       "      <th>4</th>\n",
       "      <td>id2181028</td>\n",
       "      <td>2</td>\n",
       "      <td>2016-03-26 13:30:55</td>\n",
       "      <td>2016-03-26 13:38:10</td>\n",
       "      <td>1</td>\n",
       "      <td>-73.9731</td>\n",
       "      <td>40.7932</td>\n",
       "      <td>-73.9729</td>\n",
       "      <td>40.7825</td>\n",
       "      <td>N</td>\n",
       "      <td>435</td>\n",
       "    </tr>\n",
       "  </tbody>\n",
       "</table>\n",
       "</div>"
      ],
      "text/plain": [
       "          id  vendor_id      pickup_datetime     dropoff_datetime  \\\n",
       "0  id2875421          2  2016-03-14 17:24:55  2016-03-14 17:32:30   \n",
       "1  id2377394          1  2016-06-12 00:43:35  2016-06-12 00:54:38   \n",
       "2  id3858529          2  2016-01-19 11:35:24  2016-01-19 12:10:48   \n",
       "3  id3504673          2  2016-04-06 19:32:31  2016-04-06 19:39:40   \n",
       "4  id2181028          2  2016-03-26 13:30:55  2016-03-26 13:38:10   \n",
       "\n",
       "   passenger_count  pickup_longitude  pickup_latitude  dropoff_longitude  \\\n",
       "0                1          -73.9822          40.7679           -73.9646   \n",
       "1                1          -73.9804          40.7386           -73.9995   \n",
       "2                1          -73.9790          40.7639           -74.0053   \n",
       "3                1          -74.0100          40.7200           -74.0123   \n",
       "4                1          -73.9731          40.7932           -73.9729   \n",
       "\n",
       "   dropoff_latitude store_and_fwd_flag  trip_duration  \n",
       "0           40.7656                  N            455  \n",
       "1           40.7312                  N            663  \n",
       "2           40.7101                  N           2124  \n",
       "3           40.7067                  N            429  \n",
       "4           40.7825                  N            435  "
      ]
     },
     "execution_count": 4,
     "metadata": {},
     "output_type": "execute_result"
    }
   ],
   "source": [
    "train_data.head(5)"
   ]
  },
  {
   "cell_type": "code",
   "execution_count": 5,
   "metadata": {
    "ExecuteTime": {
     "end_time": "2017-07-28T13:08:46.062963Z",
     "start_time": "2017-07-28T13:08:45.993946Z"
    }
   },
   "outputs": [
    {
     "data": {
      "text/html": [
       "<div>\n",
       "<style>\n",
       "    .dataframe thead tr:only-child th {\n",
       "        text-align: right;\n",
       "    }\n",
       "\n",
       "    .dataframe thead th {\n",
       "        text-align: left;\n",
       "    }\n",
       "\n",
       "    .dataframe tbody tr th {\n",
       "        vertical-align: top;\n",
       "    }\n",
       "</style>\n",
       "<table border=\"1\" class=\"dataframe\">\n",
       "  <thead>\n",
       "    <tr style=\"text-align: right;\">\n",
       "      <th></th>\n",
       "      <th>id</th>\n",
       "      <th>vendor_id</th>\n",
       "      <th>pickup_datetime</th>\n",
       "      <th>passenger_count</th>\n",
       "      <th>pickup_longitude</th>\n",
       "      <th>pickup_latitude</th>\n",
       "      <th>dropoff_longitude</th>\n",
       "      <th>dropoff_latitude</th>\n",
       "      <th>store_and_fwd_flag</th>\n",
       "    </tr>\n",
       "  </thead>\n",
       "  <tbody>\n",
       "    <tr>\n",
       "      <th>0</th>\n",
       "      <td>id3004672</td>\n",
       "      <td>1</td>\n",
       "      <td>2016-06-30 23:59:58</td>\n",
       "      <td>1</td>\n",
       "      <td>-73.9881</td>\n",
       "      <td>40.7320</td>\n",
       "      <td>-73.9902</td>\n",
       "      <td>40.7567</td>\n",
       "      <td>N</td>\n",
       "    </tr>\n",
       "    <tr>\n",
       "      <th>1</th>\n",
       "      <td>id3505355</td>\n",
       "      <td>1</td>\n",
       "      <td>2016-06-30 23:59:53</td>\n",
       "      <td>1</td>\n",
       "      <td>-73.9642</td>\n",
       "      <td>40.6800</td>\n",
       "      <td>-73.9598</td>\n",
       "      <td>40.6554</td>\n",
       "      <td>N</td>\n",
       "    </tr>\n",
       "    <tr>\n",
       "      <th>2</th>\n",
       "      <td>id1217141</td>\n",
       "      <td>1</td>\n",
       "      <td>2016-06-30 23:59:47</td>\n",
       "      <td>1</td>\n",
       "      <td>-73.9974</td>\n",
       "      <td>40.7376</td>\n",
       "      <td>-73.9862</td>\n",
       "      <td>40.7295</td>\n",
       "      <td>N</td>\n",
       "    </tr>\n",
       "    <tr>\n",
       "      <th>3</th>\n",
       "      <td>id2150126</td>\n",
       "      <td>2</td>\n",
       "      <td>2016-06-30 23:59:41</td>\n",
       "      <td>1</td>\n",
       "      <td>-73.9561</td>\n",
       "      <td>40.7719</td>\n",
       "      <td>-73.9864</td>\n",
       "      <td>40.7305</td>\n",
       "      <td>N</td>\n",
       "    </tr>\n",
       "    <tr>\n",
       "      <th>4</th>\n",
       "      <td>id1598245</td>\n",
       "      <td>1</td>\n",
       "      <td>2016-06-30 23:59:33</td>\n",
       "      <td>1</td>\n",
       "      <td>-73.9702</td>\n",
       "      <td>40.7615</td>\n",
       "      <td>-73.9615</td>\n",
       "      <td>40.7559</td>\n",
       "      <td>N</td>\n",
       "    </tr>\n",
       "  </tbody>\n",
       "</table>\n",
       "</div>"
      ],
      "text/plain": [
       "          id  vendor_id      pickup_datetime  passenger_count  \\\n",
       "0  id3004672          1  2016-06-30 23:59:58                1   \n",
       "1  id3505355          1  2016-06-30 23:59:53                1   \n",
       "2  id1217141          1  2016-06-30 23:59:47                1   \n",
       "3  id2150126          2  2016-06-30 23:59:41                1   \n",
       "4  id1598245          1  2016-06-30 23:59:33                1   \n",
       "\n",
       "   pickup_longitude  pickup_latitude  dropoff_longitude  dropoff_latitude  \\\n",
       "0          -73.9881          40.7320           -73.9902           40.7567   \n",
       "1          -73.9642          40.6800           -73.9598           40.6554   \n",
       "2          -73.9974          40.7376           -73.9862           40.7295   \n",
       "3          -73.9561          40.7719           -73.9864           40.7305   \n",
       "4          -73.9702          40.7615           -73.9615           40.7559   \n",
       "\n",
       "  store_and_fwd_flag  \n",
       "0                  N  \n",
       "1                  N  \n",
       "2                  N  \n",
       "3                  N  \n",
       "4                  N  "
      ]
     },
     "execution_count": 5,
     "metadata": {},
     "output_type": "execute_result"
    }
   ],
   "source": [
    "eval_data.head(5)"
   ]
  },
  {
   "cell_type": "code",
   "execution_count": 6,
   "metadata": {
    "ExecuteTime": {
     "end_time": "2017-07-28T13:08:46.178858Z",
     "start_time": "2017-07-28T13:08:46.062963Z"
    }
   },
   "outputs": [
    {
     "data": {
      "text/plain": [
       "array(['dropoff_datetime', 'trip_duration'], dtype=object)"
      ]
     },
     "execution_count": 6,
     "metadata": {},
     "output_type": "execute_result"
    }
   ],
   "source": [
    "diff_cols = np.setdiff1d(train_data.columns.values, eval_data.columns.values)\n",
    "diff_cols"
   ]
  },
  {
   "cell_type": "markdown",
   "metadata": {},
   "source": [
    "### Load another dataset with distance from OSMR"
   ]
  },
  {
   "cell_type": "code",
   "execution_count": 7,
   "metadata": {
    "ExecuteTime": {
     "end_time": "2017-07-28T13:09:03.342405Z",
     "start_time": "2017-07-28T13:08:46.178858Z"
    },
    "collapsed": true
   },
   "outputs": [],
   "source": [
    "# Download from: https://www.kaggle.com/oscarleo/new-york-city-taxi-with-osrm\n",
    "train_osm = pd.read_csv(DATA_DIR + \"/train_2.csv\")\n",
    "eval_osm =  pd.read_csv(DATA_DIR + \"/test_2.csv\")"
   ]
  },
  {
   "cell_type": "code",
   "execution_count": 8,
   "metadata": {
    "ExecuteTime": {
     "end_time": "2017-07-28T13:09:03.358025Z",
     "start_time": "2017-07-28T13:09:03.342405Z"
    }
   },
   "outputs": [
    {
     "name": "stdout",
     "output_type": "stream",
     "text": [
      "train_osm size: (1458644, 18)  test osm size: (625134, 17)\n"
     ]
    }
   ],
   "source": [
    "print(\"train_osm size:\", train_osm.shape, \" test osm size:\", eval_osm.shape)"
   ]
  },
  {
   "cell_type": "code",
   "execution_count": 9,
   "metadata": {
    "ExecuteTime": {
     "end_time": "2017-07-28T13:09:03.442669Z",
     "start_time": "2017-07-28T13:09:03.358025Z"
    }
   },
   "outputs": [
    {
     "data": {
      "text/html": [
       "<div>\n",
       "<style>\n",
       "    .dataframe thead tr:only-child th {\n",
       "        text-align: right;\n",
       "    }\n",
       "\n",
       "    .dataframe thead th {\n",
       "        text-align: left;\n",
       "    }\n",
       "\n",
       "    .dataframe tbody tr th {\n",
       "        vertical-align: top;\n",
       "    }\n",
       "</style>\n",
       "<table border=\"1\" class=\"dataframe\">\n",
       "  <thead>\n",
       "    <tr style=\"text-align: right;\">\n",
       "      <th></th>\n",
       "      <th>id</th>\n",
       "      <th>vendor_id</th>\n",
       "      <th>pickup_datetime</th>\n",
       "      <th>passenger_count</th>\n",
       "      <th>pickup_longitude</th>\n",
       "      <th>pickup_latitude</th>\n",
       "      <th>dropoff_longitude</th>\n",
       "      <th>dropoff_latitude</th>\n",
       "      <th>store_and_fwd_flag</th>\n",
       "      <th>trip_duration</th>\n",
       "      <th>starting_street</th>\n",
       "      <th>end_street</th>\n",
       "      <th>total_distance</th>\n",
       "      <th>total_duration</th>\n",
       "      <th>number_of_streets</th>\n",
       "      <th>street_list</th>\n",
       "      <th>distance_per_street_list</th>\n",
       "      <th>duration_per_street_list</th>\n",
       "    </tr>\n",
       "  </thead>\n",
       "  <tbody>\n",
       "    <tr>\n",
       "      <th>0</th>\n",
       "      <td>id2875421</td>\n",
       "      <td>2</td>\n",
       "      <td>2016-03-14 17:24:55</td>\n",
       "      <td>1</td>\n",
       "      <td>-73.9822</td>\n",
       "      <td>40.7679</td>\n",
       "      <td>-73.9646</td>\n",
       "      <td>40.7656</td>\n",
       "      <td>N</td>\n",
       "      <td>455</td>\n",
       "      <td>Columbus Circle</td>\n",
       "      <td>East 65th Street</td>\n",
       "      <td>2,009.1000</td>\n",
       "      <td>164.9000</td>\n",
       "      <td>5.0000</td>\n",
       "      <td>Columbus Circle,Central Park West,65th Street ...</td>\n",
       "      <td>0,576.4,885.6,547.1,0</td>\n",
       "      <td>0,61.1,60.1,43.7,0</td>\n",
       "    </tr>\n",
       "    <tr>\n",
       "      <th>1</th>\n",
       "      <td>id2377394</td>\n",
       "      <td>1</td>\n",
       "      <td>2016-06-12 00:43:35</td>\n",
       "      <td>1</td>\n",
       "      <td>-73.9804</td>\n",
       "      <td>40.7386</td>\n",
       "      <td>-73.9995</td>\n",
       "      <td>40.7312</td>\n",
       "      <td>N</td>\n",
       "      <td>663</td>\n",
       "      <td>2nd Avenue</td>\n",
       "      <td>Washington Square West</td>\n",
       "      <td>2,513.2000</td>\n",
       "      <td>332.0000</td>\n",
       "      <td>6.0000</td>\n",
       "      <td>2nd Avenue,East 13th Street,5th Avenue,Washing...</td>\n",
       "      <td>877.3,836.5,496.1,164.2,139.1,0</td>\n",
       "      <td>111.7,109,69.9,25.8,15.6,0</td>\n",
       "    </tr>\n",
       "    <tr>\n",
       "      <th>2</th>\n",
       "      <td>id3858529</td>\n",
       "      <td>2</td>\n",
       "      <td>2016-01-19 11:35:24</td>\n",
       "      <td>1</td>\n",
       "      <td>-73.9790</td>\n",
       "      <td>40.7639</td>\n",
       "      <td>-74.0053</td>\n",
       "      <td>40.7101</td>\n",
       "      <td>N</td>\n",
       "      <td>2124</td>\n",
       "      <td>West 56th Street</td>\n",
       "      <td>Beekman Street</td>\n",
       "      <td>11,060.8000</td>\n",
       "      <td>767.6000</td>\n",
       "      <td>16.0000</td>\n",
       "      <td>West 56th Street,6th Avenue,West 57th Street,S...</td>\n",
       "      <td>114.7,85.9,1593,246.7,234.9,71.5,219.9,7463.4,...</td>\n",
       "      <td>24,9.7,115.8,22.2,22.2,6.3,17.4,414.6,16,19.4,...</td>\n",
       "    </tr>\n",
       "    <tr>\n",
       "      <th>3</th>\n",
       "      <td>id3504673</td>\n",
       "      <td>2</td>\n",
       "      <td>2016-04-06 19:32:31</td>\n",
       "      <td>1</td>\n",
       "      <td>-74.0100</td>\n",
       "      <td>40.7200</td>\n",
       "      <td>-74.0123</td>\n",
       "      <td>40.7067</td>\n",
       "      <td>N</td>\n",
       "      <td>429</td>\n",
       "      <td>Greenwich Street</td>\n",
       "      <td>Broadway</td>\n",
       "      <td>1,779.4000</td>\n",
       "      <td>235.8000</td>\n",
       "      <td>4.0000</td>\n",
       "      <td>Greenwich Street,Park Place,Broadway,Broadway</td>\n",
       "      <td>644.2,379.9,755.3,0</td>\n",
       "      <td>80.5,50.8,104.5,0</td>\n",
       "    </tr>\n",
       "    <tr>\n",
       "      <th>4</th>\n",
       "      <td>id2181028</td>\n",
       "      <td>2</td>\n",
       "      <td>2016-03-26 13:30:55</td>\n",
       "      <td>1</td>\n",
       "      <td>-73.9731</td>\n",
       "      <td>40.7932</td>\n",
       "      <td>-73.9729</td>\n",
       "      <td>40.7825</td>\n",
       "      <td>N</td>\n",
       "      <td>435</td>\n",
       "      <td>Broadway</td>\n",
       "      <td>West 81st Street</td>\n",
       "      <td>1,614.9000</td>\n",
       "      <td>140.1000</td>\n",
       "      <td>5.0000</td>\n",
       "      <td>Broadway,West 86th Street,Columbus Avenue,West...</td>\n",
       "      <td>617,427.4,412.2,158.3,0</td>\n",
       "      <td>56,36,37.8,10.3,0</td>\n",
       "    </tr>\n",
       "  </tbody>\n",
       "</table>\n",
       "</div>"
      ],
      "text/plain": [
       "          id  vendor_id      pickup_datetime  passenger_count  \\\n",
       "0  id2875421          2  2016-03-14 17:24:55                1   \n",
       "1  id2377394          1  2016-06-12 00:43:35                1   \n",
       "2  id3858529          2  2016-01-19 11:35:24                1   \n",
       "3  id3504673          2  2016-04-06 19:32:31                1   \n",
       "4  id2181028          2  2016-03-26 13:30:55                1   \n",
       "\n",
       "   pickup_longitude  pickup_latitude  dropoff_longitude  dropoff_latitude  \\\n",
       "0          -73.9822          40.7679           -73.9646           40.7656   \n",
       "1          -73.9804          40.7386           -73.9995           40.7312   \n",
       "2          -73.9790          40.7639           -74.0053           40.7101   \n",
       "3          -74.0100          40.7200           -74.0123           40.7067   \n",
       "4          -73.9731          40.7932           -73.9729           40.7825   \n",
       "\n",
       "  store_and_fwd_flag  trip_duration   starting_street              end_street  \\\n",
       "0                  N            455   Columbus Circle        East 65th Street   \n",
       "1                  N            663        2nd Avenue  Washington Square West   \n",
       "2                  N           2124  West 56th Street          Beekman Street   \n",
       "3                  N            429  Greenwich Street                Broadway   \n",
       "4                  N            435          Broadway        West 81st Street   \n",
       "\n",
       "   total_distance  total_duration  number_of_streets  \\\n",
       "0      2,009.1000        164.9000             5.0000   \n",
       "1      2,513.2000        332.0000             6.0000   \n",
       "2     11,060.8000        767.6000            16.0000   \n",
       "3      1,779.4000        235.8000             4.0000   \n",
       "4      1,614.9000        140.1000             5.0000   \n",
       "\n",
       "                                         street_list  \\\n",
       "0  Columbus Circle,Central Park West,65th Street ...   \n",
       "1  2nd Avenue,East 13th Street,5th Avenue,Washing...   \n",
       "2  West 56th Street,6th Avenue,West 57th Street,S...   \n",
       "3      Greenwich Street,Park Place,Broadway,Broadway   \n",
       "4  Broadway,West 86th Street,Columbus Avenue,West...   \n",
       "\n",
       "                            distance_per_street_list  \\\n",
       "0                              0,576.4,885.6,547.1,0   \n",
       "1                    877.3,836.5,496.1,164.2,139.1,0   \n",
       "2  114.7,85.9,1593,246.7,234.9,71.5,219.9,7463.4,...   \n",
       "3                                644.2,379.9,755.3,0   \n",
       "4                            617,427.4,412.2,158.3,0   \n",
       "\n",
       "                            duration_per_street_list  \n",
       "0                                 0,61.1,60.1,43.7,0  \n",
       "1                         111.7,109,69.9,25.8,15.6,0  \n",
       "2  24,9.7,115.8,22.2,22.2,6.3,17.4,414.6,16,19.4,...  \n",
       "3                                  80.5,50.8,104.5,0  \n",
       "4                                  56,36,37.8,10.3,0  "
      ]
     },
     "execution_count": 9,
     "metadata": {},
     "output_type": "execute_result"
    }
   ],
   "source": [
    "train_osm[:5]"
   ]
  },
  {
   "cell_type": "code",
   "execution_count": 10,
   "metadata": {
    "ExecuteTime": {
     "end_time": "2017-07-28T13:09:03.658824Z",
     "start_time": "2017-07-28T13:09:03.442669Z"
    }
   },
   "outputs": [
    {
     "data": {
      "text/html": [
       "<div>\n",
       "<style>\n",
       "    .dataframe thead tr:only-child th {\n",
       "        text-align: right;\n",
       "    }\n",
       "\n",
       "    .dataframe thead th {\n",
       "        text-align: left;\n",
       "    }\n",
       "\n",
       "    .dataframe tbody tr th {\n",
       "        vertical-align: top;\n",
       "    }\n",
       "</style>\n",
       "<table border=\"1\" class=\"dataframe\">\n",
       "  <thead>\n",
       "    <tr style=\"text-align: right;\">\n",
       "      <th></th>\n",
       "      <th>id</th>\n",
       "      <th>vendor_id</th>\n",
       "      <th>pickup_datetime</th>\n",
       "      <th>passenger_count</th>\n",
       "      <th>pickup_longitude</th>\n",
       "      <th>pickup_latitude</th>\n",
       "      <th>dropoff_longitude</th>\n",
       "      <th>dropoff_latitude</th>\n",
       "      <th>store_and_fwd_flag</th>\n",
       "      <th>starting_street</th>\n",
       "      <th>end_street</th>\n",
       "      <th>total_distance</th>\n",
       "      <th>total_duration</th>\n",
       "      <th>number_of_streets</th>\n",
       "      <th>street_list</th>\n",
       "      <th>distance_per_street_list</th>\n",
       "      <th>duration_per_street_list</th>\n",
       "    </tr>\n",
       "  </thead>\n",
       "  <tbody>\n",
       "    <tr>\n",
       "      <th>0</th>\n",
       "      <td>id3004672</td>\n",
       "      <td>1</td>\n",
       "      <td>2016-06-30 23:59:58</td>\n",
       "      <td>1</td>\n",
       "      <td>-73.9881</td>\n",
       "      <td>40.7320</td>\n",
       "      <td>-73.9902</td>\n",
       "      <td>40.7567</td>\n",
       "      <td>N</td>\n",
       "      <td>3rd Avenue</td>\n",
       "      <td>8th Avenue</td>\n",
       "      <td>3,795.9000</td>\n",
       "      <td>424.6000</td>\n",
       "      <td>4</td>\n",
       "      <td>3rd Avenue,East 37th Street,8th Avenue,8th Avenue</td>\n",
       "      <td>1983.3,1482.8,329.7,0</td>\n",
       "      <td>270.9,116.9,36.8,0</td>\n",
       "    </tr>\n",
       "    <tr>\n",
       "      <th>1</th>\n",
       "      <td>id3505355</td>\n",
       "      <td>1</td>\n",
       "      <td>2016-06-30 23:59:53</td>\n",
       "      <td>1</td>\n",
       "      <td>-73.9642</td>\n",
       "      <td>40.6800</td>\n",
       "      <td>-73.9598</td>\n",
       "      <td>40.6554</td>\n",
       "      <td>N</td>\n",
       "      <td>Washington Avenue</td>\n",
       "      <td>Flatbush Avenue</td>\n",
       "      <td>2,904.5000</td>\n",
       "      <td>200.0000</td>\n",
       "      <td>4</td>\n",
       "      <td>Washington Avenue,Empire Boulevard,Flatbush Av...</td>\n",
       "      <td>1878.5,125.2,900.8,0</td>\n",
       "      <td>135.9,14.4,49.7,0</td>\n",
       "    </tr>\n",
       "    <tr>\n",
       "      <th>2</th>\n",
       "      <td>id1217141</td>\n",
       "      <td>1</td>\n",
       "      <td>2016-06-30 23:59:47</td>\n",
       "      <td>1</td>\n",
       "      <td>-73.9974</td>\n",
       "      <td>40.7376</td>\n",
       "      <td>-73.9862</td>\n",
       "      <td>40.7295</td>\n",
       "      <td>N</td>\n",
       "      <td>West 14th Street</td>\n",
       "      <td>East 10th Street</td>\n",
       "      <td>1,499.5000</td>\n",
       "      <td>193.2000</td>\n",
       "      <td>4</td>\n",
       "      <td>West 14th Street,Broadway,East 10th Street,Eas...</td>\n",
       "      <td>641.9,346.9,510.7,0</td>\n",
       "      <td>80.5,49.6,63.1,0</td>\n",
       "    </tr>\n",
       "    <tr>\n",
       "      <th>3</th>\n",
       "      <td>id2150126</td>\n",
       "      <td>2</td>\n",
       "      <td>2016-06-30 23:59:41</td>\n",
       "      <td>1</td>\n",
       "      <td>-73.9561</td>\n",
       "      <td>40.7719</td>\n",
       "      <td>-73.9864</td>\n",
       "      <td>40.7305</td>\n",
       "      <td>N</td>\n",
       "      <td>2nd Avenue</td>\n",
       "      <td>East 11th Street</td>\n",
       "      <td>7,023.9000</td>\n",
       "      <td>494.8000</td>\n",
       "      <td>11</td>\n",
       "      <td>2nd Avenue,East 76th Street,1st Avenue,East 79...</td>\n",
       "      <td>65.5,228.2,247.6,559.3,123.1,4132,49.2,494.1,1...</td>\n",
       "      <td>10.9,40.3,21.7,40.7,9.8,157.9,5.5,64.7,142.4,0...</td>\n",
       "    </tr>\n",
       "    <tr>\n",
       "      <th>4</th>\n",
       "      <td>id1598245</td>\n",
       "      <td>1</td>\n",
       "      <td>2016-06-30 23:59:33</td>\n",
       "      <td>1</td>\n",
       "      <td>-73.9702</td>\n",
       "      <td>40.7615</td>\n",
       "      <td>-73.9615</td>\n",
       "      <td>40.7559</td>\n",
       "      <td>N</td>\n",
       "      <td>East 57th Street</td>\n",
       "      <td>East 55th Street</td>\n",
       "      <td>1,108.2000</td>\n",
       "      <td>103.2000</td>\n",
       "      <td>4</td>\n",
       "      <td>East 57th Street,Sutton Place South,East 55th ...</td>\n",
       "      <td>925,165.8,17.4,0</td>\n",
       "      <td>67.4,33.3,2.5,0</td>\n",
       "    </tr>\n",
       "  </tbody>\n",
       "</table>\n",
       "</div>"
      ],
      "text/plain": [
       "          id  vendor_id      pickup_datetime  passenger_count  \\\n",
       "0  id3004672          1  2016-06-30 23:59:58                1   \n",
       "1  id3505355          1  2016-06-30 23:59:53                1   \n",
       "2  id1217141          1  2016-06-30 23:59:47                1   \n",
       "3  id2150126          2  2016-06-30 23:59:41                1   \n",
       "4  id1598245          1  2016-06-30 23:59:33                1   \n",
       "\n",
       "   pickup_longitude  pickup_latitude  dropoff_longitude  dropoff_latitude  \\\n",
       "0          -73.9881          40.7320           -73.9902           40.7567   \n",
       "1          -73.9642          40.6800           -73.9598           40.6554   \n",
       "2          -73.9974          40.7376           -73.9862           40.7295   \n",
       "3          -73.9561          40.7719           -73.9864           40.7305   \n",
       "4          -73.9702          40.7615           -73.9615           40.7559   \n",
       "\n",
       "  store_and_fwd_flag    starting_street        end_street  total_distance  \\\n",
       "0                  N         3rd Avenue        8th Avenue      3,795.9000   \n",
       "1                  N  Washington Avenue   Flatbush Avenue      2,904.5000   \n",
       "2                  N   West 14th Street  East 10th Street      1,499.5000   \n",
       "3                  N         2nd Avenue  East 11th Street      7,023.9000   \n",
       "4                  N   East 57th Street  East 55th Street      1,108.2000   \n",
       "\n",
       "   total_duration  number_of_streets  \\\n",
       "0        424.6000                  4   \n",
       "1        200.0000                  4   \n",
       "2        193.2000                  4   \n",
       "3        494.8000                 11   \n",
       "4        103.2000                  4   \n",
       "\n",
       "                                         street_list  \\\n",
       "0  3rd Avenue,East 37th Street,8th Avenue,8th Avenue   \n",
       "1  Washington Avenue,Empire Boulevard,Flatbush Av...   \n",
       "2  West 14th Street,Broadway,East 10th Street,Eas...   \n",
       "3  2nd Avenue,East 76th Street,1st Avenue,East 79...   \n",
       "4  East 57th Street,Sutton Place South,East 55th ...   \n",
       "\n",
       "                            distance_per_street_list  \\\n",
       "0                              1983.3,1482.8,329.7,0   \n",
       "1                               1878.5,125.2,900.8,0   \n",
       "2                                641.9,346.9,510.7,0   \n",
       "3  65.5,228.2,247.6,559.3,123.1,4132,49.2,494.1,1...   \n",
       "4                                   925,165.8,17.4,0   \n",
       "\n",
       "                            duration_per_street_list  \n",
       "0                                 270.9,116.9,36.8,0  \n",
       "1                                  135.9,14.4,49.7,0  \n",
       "2                                   80.5,49.6,63.1,0  \n",
       "3  10.9,40.3,21.7,40.7,9.8,157.9,5.5,64.7,142.4,0...  \n",
       "4                                    67.4,33.3,2.5,0  "
      ]
     },
     "execution_count": 10,
     "metadata": {},
     "output_type": "execute_result"
    }
   ],
   "source": [
    "eval_osm[:5]"
   ]
  },
  {
   "cell_type": "markdown",
   "metadata": {},
   "source": [
    "### Check different between orginal train data and OSM data set"
   ]
  },
  {
   "cell_type": "code",
   "execution_count": 11,
   "metadata": {
    "ExecuteTime": {
     "end_time": "2017-07-28T13:09:03.743464Z",
     "start_time": "2017-07-28T13:09:03.658824Z"
    }
   },
   "outputs": [
    {
     "data": {
      "text/plain": [
       "array(['distance_per_street_list', 'duration_per_street_list',\n",
       "       'end_street', 'number_of_streets', 'starting_street', 'street_list',\n",
       "       'total_distance', 'total_duration'], dtype=object)"
      ]
     },
     "execution_count": 11,
     "metadata": {},
     "output_type": "execute_result"
    }
   ],
   "source": [
    "diff_cols = np.setdiff1d(train_osm.columns.values, train_data.columns.values)\n",
    "diff_cols"
   ]
  },
  {
   "cell_type": "code",
   "execution_count": 12,
   "metadata": {
    "ExecuteTime": {
     "end_time": "2017-07-28T13:09:03.897118Z",
     "start_time": "2017-07-28T13:09:03.743464Z"
    }
   },
   "outputs": [
    {
     "data": {
      "text/html": [
       "<div>\n",
       "<style>\n",
       "    .dataframe thead tr:only-child th {\n",
       "        text-align: right;\n",
       "    }\n",
       "\n",
       "    .dataframe thead th {\n",
       "        text-align: left;\n",
       "    }\n",
       "\n",
       "    .dataframe tbody tr th {\n",
       "        vertical-align: top;\n",
       "    }\n",
       "</style>\n",
       "<table border=\"1\" class=\"dataframe\">\n",
       "  <thead>\n",
       "    <tr style=\"text-align: right;\">\n",
       "      <th></th>\n",
       "      <th>id</th>\n",
       "      <th>total_distance</th>\n",
       "      <th>number_of_streets</th>\n",
       "      <th>starting_street</th>\n",
       "      <th>end_street</th>\n",
       "    </tr>\n",
       "  </thead>\n",
       "  <tbody>\n",
       "    <tr>\n",
       "      <th>0</th>\n",
       "      <td>id2875421</td>\n",
       "      <td>2,009.1000</td>\n",
       "      <td>5.0000</td>\n",
       "      <td>Columbus Circle</td>\n",
       "      <td>East 65th Street</td>\n",
       "    </tr>\n",
       "    <tr>\n",
       "      <th>1</th>\n",
       "      <td>id2377394</td>\n",
       "      <td>2,513.2000</td>\n",
       "      <td>6.0000</td>\n",
       "      <td>2nd Avenue</td>\n",
       "      <td>Washington Square West</td>\n",
       "    </tr>\n",
       "    <tr>\n",
       "      <th>2</th>\n",
       "      <td>id3858529</td>\n",
       "      <td>11,060.8000</td>\n",
       "      <td>16.0000</td>\n",
       "      <td>West 56th Street</td>\n",
       "      <td>Beekman Street</td>\n",
       "    </tr>\n",
       "    <tr>\n",
       "      <th>3</th>\n",
       "      <td>id3504673</td>\n",
       "      <td>1,779.4000</td>\n",
       "      <td>4.0000</td>\n",
       "      <td>Greenwich Street</td>\n",
       "      <td>Broadway</td>\n",
       "    </tr>\n",
       "    <tr>\n",
       "      <th>4</th>\n",
       "      <td>id2181028</td>\n",
       "      <td>1,614.9000</td>\n",
       "      <td>5.0000</td>\n",
       "      <td>Broadway</td>\n",
       "      <td>West 81st Street</td>\n",
       "    </tr>\n",
       "  </tbody>\n",
       "</table>\n",
       "</div>"
      ],
      "text/plain": [
       "          id  total_distance  number_of_streets   starting_street  \\\n",
       "0  id2875421      2,009.1000             5.0000   Columbus Circle   \n",
       "1  id2377394      2,513.2000             6.0000        2nd Avenue   \n",
       "2  id3858529     11,060.8000            16.0000  West 56th Street   \n",
       "3  id3504673      1,779.4000             4.0000  Greenwich Street   \n",
       "4  id2181028      1,614.9000             5.0000          Broadway   \n",
       "\n",
       "               end_street  \n",
       "0        East 65th Street  \n",
       "1  Washington Square West  \n",
       "2          Beekman Street  \n",
       "3                Broadway  \n",
       "4        West 81st Street  "
      ]
     },
     "execution_count": 12,
     "metadata": {},
     "output_type": "execute_result"
    }
   ],
   "source": [
    "col_use =['id', 'total_distance', 'number_of_streets', 'starting_street', 'end_street']\n",
    "train_osm_data = train_osm[col_use]\n",
    "train_osm_data[:5]"
   ]
  },
  {
   "cell_type": "code",
   "execution_count": 13,
   "metadata": {
    "ExecuteTime": {
     "end_time": "2017-07-28T13:09:03.997388Z",
     "start_time": "2017-07-28T13:09:03.897118Z"
    }
   },
   "outputs": [
    {
     "data": {
      "text/html": [
       "<div>\n",
       "<style>\n",
       "    .dataframe thead tr:only-child th {\n",
       "        text-align: right;\n",
       "    }\n",
       "\n",
       "    .dataframe thead th {\n",
       "        text-align: left;\n",
       "    }\n",
       "\n",
       "    .dataframe tbody tr th {\n",
       "        vertical-align: top;\n",
       "    }\n",
       "</style>\n",
       "<table border=\"1\" class=\"dataframe\">\n",
       "  <thead>\n",
       "    <tr style=\"text-align: right;\">\n",
       "      <th></th>\n",
       "      <th>id</th>\n",
       "      <th>total_distance</th>\n",
       "      <th>number_of_streets</th>\n",
       "      <th>starting_street</th>\n",
       "      <th>end_street</th>\n",
       "    </tr>\n",
       "  </thead>\n",
       "  <tbody>\n",
       "    <tr>\n",
       "      <th>0</th>\n",
       "      <td>id3004672</td>\n",
       "      <td>3,795.9000</td>\n",
       "      <td>4</td>\n",
       "      <td>3rd Avenue</td>\n",
       "      <td>8th Avenue</td>\n",
       "    </tr>\n",
       "    <tr>\n",
       "      <th>1</th>\n",
       "      <td>id3505355</td>\n",
       "      <td>2,904.5000</td>\n",
       "      <td>4</td>\n",
       "      <td>Washington Avenue</td>\n",
       "      <td>Flatbush Avenue</td>\n",
       "    </tr>\n",
       "    <tr>\n",
       "      <th>2</th>\n",
       "      <td>id1217141</td>\n",
       "      <td>1,499.5000</td>\n",
       "      <td>4</td>\n",
       "      <td>West 14th Street</td>\n",
       "      <td>East 10th Street</td>\n",
       "    </tr>\n",
       "    <tr>\n",
       "      <th>3</th>\n",
       "      <td>id2150126</td>\n",
       "      <td>7,023.9000</td>\n",
       "      <td>11</td>\n",
       "      <td>2nd Avenue</td>\n",
       "      <td>East 11th Street</td>\n",
       "    </tr>\n",
       "    <tr>\n",
       "      <th>4</th>\n",
       "      <td>id1598245</td>\n",
       "      <td>1,108.2000</td>\n",
       "      <td>4</td>\n",
       "      <td>East 57th Street</td>\n",
       "      <td>East 55th Street</td>\n",
       "    </tr>\n",
       "  </tbody>\n",
       "</table>\n",
       "</div>"
      ],
      "text/plain": [
       "          id  total_distance  number_of_streets    starting_street  \\\n",
       "0  id3004672      3,795.9000                  4         3rd Avenue   \n",
       "1  id3505355      2,904.5000                  4  Washington Avenue   \n",
       "2  id1217141      1,499.5000                  4   West 14th Street   \n",
       "3  id2150126      7,023.9000                 11         2nd Avenue   \n",
       "4  id1598245      1,108.2000                  4   East 57th Street   \n",
       "\n",
       "         end_street  \n",
       "0        8th Avenue  \n",
       "1   Flatbush Avenue  \n",
       "2  East 10th Street  \n",
       "3  East 11th Street  \n",
       "4  East 55th Street  "
      ]
     },
     "execution_count": 13,
     "metadata": {},
     "output_type": "execute_result"
    }
   ],
   "source": [
    "eval_osm_data = eval_osm[col_use]\n",
    "eval_osm_data[:5] "
   ]
  },
  {
   "cell_type": "code",
   "execution_count": 14,
   "metadata": {
    "ExecuteTime": {
     "end_time": "2017-07-28T13:09:04.075517Z",
     "start_time": "2017-07-28T13:09:03.997388Z"
    },
    "collapsed": true
   },
   "outputs": [],
   "source": [
    "del train_osm"
   ]
  },
  {
   "cell_type": "code",
   "execution_count": 15,
   "metadata": {
    "ExecuteTime": {
     "end_time": "2017-07-28T13:09:04.297891Z",
     "start_time": "2017-07-28T13:09:04.077523Z"
    },
    "collapsed": true
   },
   "outputs": [],
   "source": [
    "del eval_osm"
   ]
  },
  {
   "cell_type": "markdown",
   "metadata": {},
   "source": [
    "### Combine train data and eval data"
   ]
  },
  {
   "cell_type": "code",
   "execution_count": 16,
   "metadata": {
    "ExecuteTime": {
     "end_time": "2017-07-28T13:09:05.899778Z",
     "start_time": "2017-07-28T13:09:04.297891Z"
    }
   },
   "outputs": [
    {
     "data": {
      "text/html": [
       "<div>\n",
       "<style>\n",
       "    .dataframe thead tr:only-child th {\n",
       "        text-align: right;\n",
       "    }\n",
       "\n",
       "    .dataframe thead th {\n",
       "        text-align: left;\n",
       "    }\n",
       "\n",
       "    .dataframe tbody tr th {\n",
       "        vertical-align: top;\n",
       "    }\n",
       "</style>\n",
       "<table border=\"1\" class=\"dataframe\">\n",
       "  <thead>\n",
       "    <tr style=\"text-align: right;\">\n",
       "      <th></th>\n",
       "      <th>id</th>\n",
       "      <th>vendor_id</th>\n",
       "      <th>pickup_datetime</th>\n",
       "      <th>dropoff_datetime</th>\n",
       "      <th>passenger_count</th>\n",
       "      <th>pickup_longitude</th>\n",
       "      <th>pickup_latitude</th>\n",
       "      <th>dropoff_longitude</th>\n",
       "      <th>dropoff_latitude</th>\n",
       "      <th>store_and_fwd_flag</th>\n",
       "      <th>trip_duration</th>\n",
       "      <th>total_distance</th>\n",
       "      <th>number_of_streets</th>\n",
       "      <th>starting_street</th>\n",
       "      <th>end_street</th>\n",
       "    </tr>\n",
       "  </thead>\n",
       "  <tbody>\n",
       "    <tr>\n",
       "      <th>0</th>\n",
       "      <td>id2875421</td>\n",
       "      <td>2</td>\n",
       "      <td>2016-03-14 17:24:55</td>\n",
       "      <td>2016-03-14 17:32:30</td>\n",
       "      <td>1</td>\n",
       "      <td>-73.9822</td>\n",
       "      <td>40.7679</td>\n",
       "      <td>-73.9646</td>\n",
       "      <td>40.7656</td>\n",
       "      <td>N</td>\n",
       "      <td>455</td>\n",
       "      <td>2,009.1000</td>\n",
       "      <td>5.0000</td>\n",
       "      <td>Columbus Circle</td>\n",
       "      <td>East 65th Street</td>\n",
       "    </tr>\n",
       "    <tr>\n",
       "      <th>1</th>\n",
       "      <td>id2377394</td>\n",
       "      <td>1</td>\n",
       "      <td>2016-06-12 00:43:35</td>\n",
       "      <td>2016-06-12 00:54:38</td>\n",
       "      <td>1</td>\n",
       "      <td>-73.9804</td>\n",
       "      <td>40.7386</td>\n",
       "      <td>-73.9995</td>\n",
       "      <td>40.7312</td>\n",
       "      <td>N</td>\n",
       "      <td>663</td>\n",
       "      <td>2,513.2000</td>\n",
       "      <td>6.0000</td>\n",
       "      <td>2nd Avenue</td>\n",
       "      <td>Washington Square West</td>\n",
       "    </tr>\n",
       "    <tr>\n",
       "      <th>2</th>\n",
       "      <td>id3858529</td>\n",
       "      <td>2</td>\n",
       "      <td>2016-01-19 11:35:24</td>\n",
       "      <td>2016-01-19 12:10:48</td>\n",
       "      <td>1</td>\n",
       "      <td>-73.9790</td>\n",
       "      <td>40.7639</td>\n",
       "      <td>-74.0053</td>\n",
       "      <td>40.7101</td>\n",
       "      <td>N</td>\n",
       "      <td>2124</td>\n",
       "      <td>11,060.8000</td>\n",
       "      <td>16.0000</td>\n",
       "      <td>West 56th Street</td>\n",
       "      <td>Beekman Street</td>\n",
       "    </tr>\n",
       "    <tr>\n",
       "      <th>3</th>\n",
       "      <td>id3504673</td>\n",
       "      <td>2</td>\n",
       "      <td>2016-04-06 19:32:31</td>\n",
       "      <td>2016-04-06 19:39:40</td>\n",
       "      <td>1</td>\n",
       "      <td>-74.0100</td>\n",
       "      <td>40.7200</td>\n",
       "      <td>-74.0123</td>\n",
       "      <td>40.7067</td>\n",
       "      <td>N</td>\n",
       "      <td>429</td>\n",
       "      <td>1,779.4000</td>\n",
       "      <td>4.0000</td>\n",
       "      <td>Greenwich Street</td>\n",
       "      <td>Broadway</td>\n",
       "    </tr>\n",
       "    <tr>\n",
       "      <th>4</th>\n",
       "      <td>id2181028</td>\n",
       "      <td>2</td>\n",
       "      <td>2016-03-26 13:30:55</td>\n",
       "      <td>2016-03-26 13:38:10</td>\n",
       "      <td>1</td>\n",
       "      <td>-73.9731</td>\n",
       "      <td>40.7932</td>\n",
       "      <td>-73.9729</td>\n",
       "      <td>40.7825</td>\n",
       "      <td>N</td>\n",
       "      <td>435</td>\n",
       "      <td>1,614.9000</td>\n",
       "      <td>5.0000</td>\n",
       "      <td>Broadway</td>\n",
       "      <td>West 81st Street</td>\n",
       "    </tr>\n",
       "  </tbody>\n",
       "</table>\n",
       "</div>"
      ],
      "text/plain": [
       "          id  vendor_id      pickup_datetime     dropoff_datetime  \\\n",
       "0  id2875421          2  2016-03-14 17:24:55  2016-03-14 17:32:30   \n",
       "1  id2377394          1  2016-06-12 00:43:35  2016-06-12 00:54:38   \n",
       "2  id3858529          2  2016-01-19 11:35:24  2016-01-19 12:10:48   \n",
       "3  id3504673          2  2016-04-06 19:32:31  2016-04-06 19:39:40   \n",
       "4  id2181028          2  2016-03-26 13:30:55  2016-03-26 13:38:10   \n",
       "\n",
       "   passenger_count  pickup_longitude  pickup_latitude  dropoff_longitude  \\\n",
       "0                1          -73.9822          40.7679           -73.9646   \n",
       "1                1          -73.9804          40.7386           -73.9995   \n",
       "2                1          -73.9790          40.7639           -74.0053   \n",
       "3                1          -74.0100          40.7200           -74.0123   \n",
       "4                1          -73.9731          40.7932           -73.9729   \n",
       "\n",
       "   dropoff_latitude store_and_fwd_flag  trip_duration  total_distance  \\\n",
       "0           40.7656                  N            455      2,009.1000   \n",
       "1           40.7312                  N            663      2,513.2000   \n",
       "2           40.7101                  N           2124     11,060.8000   \n",
       "3           40.7067                  N            429      1,779.4000   \n",
       "4           40.7825                  N            435      1,614.9000   \n",
       "\n",
       "   number_of_streets   starting_street              end_street  \n",
       "0             5.0000   Columbus Circle        East 65th Street  \n",
       "1             6.0000        2nd Avenue  Washington Square West  \n",
       "2            16.0000  West 56th Street          Beekman Street  \n",
       "3             4.0000  Greenwich Street                Broadway  \n",
       "4             5.0000          Broadway        West 81st Street  "
      ]
     },
     "execution_count": 16,
     "metadata": {},
     "output_type": "execute_result"
    }
   ],
   "source": [
    "train_data = train_data.join(train_osm_data.set_index('id'), on='id')\n",
    "train_data[:5]"
   ]
  },
  {
   "cell_type": "code",
   "execution_count": 17,
   "metadata": {
    "ExecuteTime": {
     "end_time": "2017-07-28T13:09:06.484766Z",
     "start_time": "2017-07-28T13:09:05.901779Z"
    }
   },
   "outputs": [
    {
     "data": {
      "text/html": [
       "<div>\n",
       "<style>\n",
       "    .dataframe thead tr:only-child th {\n",
       "        text-align: right;\n",
       "    }\n",
       "\n",
       "    .dataframe thead th {\n",
       "        text-align: left;\n",
       "    }\n",
       "\n",
       "    .dataframe tbody tr th {\n",
       "        vertical-align: top;\n",
       "    }\n",
       "</style>\n",
       "<table border=\"1\" class=\"dataframe\">\n",
       "  <thead>\n",
       "    <tr style=\"text-align: right;\">\n",
       "      <th></th>\n",
       "      <th>id</th>\n",
       "      <th>vendor_id</th>\n",
       "      <th>pickup_datetime</th>\n",
       "      <th>passenger_count</th>\n",
       "      <th>pickup_longitude</th>\n",
       "      <th>pickup_latitude</th>\n",
       "      <th>dropoff_longitude</th>\n",
       "      <th>dropoff_latitude</th>\n",
       "      <th>store_and_fwd_flag</th>\n",
       "      <th>total_distance</th>\n",
       "      <th>number_of_streets</th>\n",
       "      <th>starting_street</th>\n",
       "      <th>end_street</th>\n",
       "    </tr>\n",
       "  </thead>\n",
       "  <tbody>\n",
       "    <tr>\n",
       "      <th>0</th>\n",
       "      <td>id3004672</td>\n",
       "      <td>1</td>\n",
       "      <td>2016-06-30 23:59:58</td>\n",
       "      <td>1</td>\n",
       "      <td>-73.9881</td>\n",
       "      <td>40.7320</td>\n",
       "      <td>-73.9902</td>\n",
       "      <td>40.7567</td>\n",
       "      <td>N</td>\n",
       "      <td>3,795.9000</td>\n",
       "      <td>4</td>\n",
       "      <td>3rd Avenue</td>\n",
       "      <td>8th Avenue</td>\n",
       "    </tr>\n",
       "    <tr>\n",
       "      <th>1</th>\n",
       "      <td>id3505355</td>\n",
       "      <td>1</td>\n",
       "      <td>2016-06-30 23:59:53</td>\n",
       "      <td>1</td>\n",
       "      <td>-73.9642</td>\n",
       "      <td>40.6800</td>\n",
       "      <td>-73.9598</td>\n",
       "      <td>40.6554</td>\n",
       "      <td>N</td>\n",
       "      <td>2,904.5000</td>\n",
       "      <td>4</td>\n",
       "      <td>Washington Avenue</td>\n",
       "      <td>Flatbush Avenue</td>\n",
       "    </tr>\n",
       "    <tr>\n",
       "      <th>2</th>\n",
       "      <td>id1217141</td>\n",
       "      <td>1</td>\n",
       "      <td>2016-06-30 23:59:47</td>\n",
       "      <td>1</td>\n",
       "      <td>-73.9974</td>\n",
       "      <td>40.7376</td>\n",
       "      <td>-73.9862</td>\n",
       "      <td>40.7295</td>\n",
       "      <td>N</td>\n",
       "      <td>1,499.5000</td>\n",
       "      <td>4</td>\n",
       "      <td>West 14th Street</td>\n",
       "      <td>East 10th Street</td>\n",
       "    </tr>\n",
       "    <tr>\n",
       "      <th>3</th>\n",
       "      <td>id2150126</td>\n",
       "      <td>2</td>\n",
       "      <td>2016-06-30 23:59:41</td>\n",
       "      <td>1</td>\n",
       "      <td>-73.9561</td>\n",
       "      <td>40.7719</td>\n",
       "      <td>-73.9864</td>\n",
       "      <td>40.7305</td>\n",
       "      <td>N</td>\n",
       "      <td>7,023.9000</td>\n",
       "      <td>11</td>\n",
       "      <td>2nd Avenue</td>\n",
       "      <td>East 11th Street</td>\n",
       "    </tr>\n",
       "    <tr>\n",
       "      <th>4</th>\n",
       "      <td>id1598245</td>\n",
       "      <td>1</td>\n",
       "      <td>2016-06-30 23:59:33</td>\n",
       "      <td>1</td>\n",
       "      <td>-73.9702</td>\n",
       "      <td>40.7615</td>\n",
       "      <td>-73.9615</td>\n",
       "      <td>40.7559</td>\n",
       "      <td>N</td>\n",
       "      <td>1,108.2000</td>\n",
       "      <td>4</td>\n",
       "      <td>East 57th Street</td>\n",
       "      <td>East 55th Street</td>\n",
       "    </tr>\n",
       "  </tbody>\n",
       "</table>\n",
       "</div>"
      ],
      "text/plain": [
       "          id  vendor_id      pickup_datetime  passenger_count  \\\n",
       "0  id3004672          1  2016-06-30 23:59:58                1   \n",
       "1  id3505355          1  2016-06-30 23:59:53                1   \n",
       "2  id1217141          1  2016-06-30 23:59:47                1   \n",
       "3  id2150126          2  2016-06-30 23:59:41                1   \n",
       "4  id1598245          1  2016-06-30 23:59:33                1   \n",
       "\n",
       "   pickup_longitude  pickup_latitude  dropoff_longitude  dropoff_latitude  \\\n",
       "0          -73.9881          40.7320           -73.9902           40.7567   \n",
       "1          -73.9642          40.6800           -73.9598           40.6554   \n",
       "2          -73.9974          40.7376           -73.9862           40.7295   \n",
       "3          -73.9561          40.7719           -73.9864           40.7305   \n",
       "4          -73.9702          40.7615           -73.9615           40.7559   \n",
       "\n",
       "  store_and_fwd_flag  total_distance  number_of_streets    starting_street  \\\n",
       "0                  N      3,795.9000                  4         3rd Avenue   \n",
       "1                  N      2,904.5000                  4  Washington Avenue   \n",
       "2                  N      1,499.5000                  4   West 14th Street   \n",
       "3                  N      7,023.9000                 11         2nd Avenue   \n",
       "4                  N      1,108.2000                  4   East 57th Street   \n",
       "\n",
       "         end_street  \n",
       "0        8th Avenue  \n",
       "1   Flatbush Avenue  \n",
       "2  East 10th Street  \n",
       "3  East 11th Street  \n",
       "4  East 55th Street  "
      ]
     },
     "execution_count": 17,
     "metadata": {},
     "output_type": "execute_result"
    }
   ],
   "source": [
    "eval_data = eval_data.join(eval_osm_data.set_index('id'), on='id')\n",
    "eval_data[:5]"
   ]
  },
  {
   "cell_type": "code",
   "execution_count": 18,
   "metadata": {
    "ExecuteTime": {
     "end_time": "2017-07-28T13:09:06.500392Z",
     "start_time": "2017-07-28T13:09:06.484766Z"
    },
    "collapsed": true
   },
   "outputs": [],
   "source": [
    "del train_osm_data\n",
    "del eval_osm_data"
   ]
  },
  {
   "cell_type": "code",
   "execution_count": 19,
   "metadata": {
    "ExecuteTime": {
     "end_time": "2017-07-28T13:09:07.832293Z",
     "start_time": "2017-07-28T13:09:06.501897Z"
    }
   },
   "outputs": [
    {
     "name": "stdout",
     "output_type": "stream",
     "text": [
      "combine data: 2083778\n"
     ]
    },
    {
     "data": {
      "text/html": [
       "<div>\n",
       "<style>\n",
       "    .dataframe thead tr:only-child th {\n",
       "        text-align: right;\n",
       "    }\n",
       "\n",
       "    .dataframe thead th {\n",
       "        text-align: left;\n",
       "    }\n",
       "\n",
       "    .dataframe tbody tr th {\n",
       "        vertical-align: top;\n",
       "    }\n",
       "</style>\n",
       "<table border=\"1\" class=\"dataframe\">\n",
       "  <thead>\n",
       "    <tr style=\"text-align: right;\">\n",
       "      <th></th>\n",
       "      <th></th>\n",
       "      <th>id</th>\n",
       "      <th>vendor_id</th>\n",
       "      <th>pickup_datetime</th>\n",
       "      <th>passenger_count</th>\n",
       "      <th>pickup_longitude</th>\n",
       "      <th>pickup_latitude</th>\n",
       "      <th>dropoff_longitude</th>\n",
       "      <th>dropoff_latitude</th>\n",
       "      <th>store_and_fwd_flag</th>\n",
       "      <th>total_distance</th>\n",
       "      <th>number_of_streets</th>\n",
       "      <th>starting_street</th>\n",
       "      <th>end_street</th>\n",
       "    </tr>\n",
       "  </thead>\n",
       "  <tbody>\n",
       "    <tr>\n",
       "      <th rowspan=\"5\" valign=\"top\">train</th>\n",
       "      <th>0</th>\n",
       "      <td>id2875421</td>\n",
       "      <td>2</td>\n",
       "      <td>2016-03-14 17:24:55</td>\n",
       "      <td>1</td>\n",
       "      <td>-73.9822</td>\n",
       "      <td>40.7679</td>\n",
       "      <td>-73.9646</td>\n",
       "      <td>40.7656</td>\n",
       "      <td>N</td>\n",
       "      <td>2,009.1000</td>\n",
       "      <td>5.0000</td>\n",
       "      <td>Columbus Circle</td>\n",
       "      <td>East 65th Street</td>\n",
       "    </tr>\n",
       "    <tr>\n",
       "      <th>1</th>\n",
       "      <td>id2377394</td>\n",
       "      <td>1</td>\n",
       "      <td>2016-06-12 00:43:35</td>\n",
       "      <td>1</td>\n",
       "      <td>-73.9804</td>\n",
       "      <td>40.7386</td>\n",
       "      <td>-73.9995</td>\n",
       "      <td>40.7312</td>\n",
       "      <td>N</td>\n",
       "      <td>2,513.2000</td>\n",
       "      <td>6.0000</td>\n",
       "      <td>2nd Avenue</td>\n",
       "      <td>Washington Square West</td>\n",
       "    </tr>\n",
       "    <tr>\n",
       "      <th>2</th>\n",
       "      <td>id3858529</td>\n",
       "      <td>2</td>\n",
       "      <td>2016-01-19 11:35:24</td>\n",
       "      <td>1</td>\n",
       "      <td>-73.9790</td>\n",
       "      <td>40.7639</td>\n",
       "      <td>-74.0053</td>\n",
       "      <td>40.7101</td>\n",
       "      <td>N</td>\n",
       "      <td>11,060.8000</td>\n",
       "      <td>16.0000</td>\n",
       "      <td>West 56th Street</td>\n",
       "      <td>Beekman Street</td>\n",
       "    </tr>\n",
       "    <tr>\n",
       "      <th>3</th>\n",
       "      <td>id3504673</td>\n",
       "      <td>2</td>\n",
       "      <td>2016-04-06 19:32:31</td>\n",
       "      <td>1</td>\n",
       "      <td>-74.0100</td>\n",
       "      <td>40.7200</td>\n",
       "      <td>-74.0123</td>\n",
       "      <td>40.7067</td>\n",
       "      <td>N</td>\n",
       "      <td>1,779.4000</td>\n",
       "      <td>4.0000</td>\n",
       "      <td>Greenwich Street</td>\n",
       "      <td>Broadway</td>\n",
       "    </tr>\n",
       "    <tr>\n",
       "      <th>4</th>\n",
       "      <td>id2181028</td>\n",
       "      <td>2</td>\n",
       "      <td>2016-03-26 13:30:55</td>\n",
       "      <td>1</td>\n",
       "      <td>-73.9731</td>\n",
       "      <td>40.7932</td>\n",
       "      <td>-73.9729</td>\n",
       "      <td>40.7825</td>\n",
       "      <td>N</td>\n",
       "      <td>1,614.9000</td>\n",
       "      <td>5.0000</td>\n",
       "      <td>Broadway</td>\n",
       "      <td>West 81st Street</td>\n",
       "    </tr>\n",
       "  </tbody>\n",
       "</table>\n",
       "</div>"
      ],
      "text/plain": [
       "                id  vendor_id      pickup_datetime  passenger_count  \\\n",
       "train 0  id2875421          2  2016-03-14 17:24:55                1   \n",
       "      1  id2377394          1  2016-06-12 00:43:35                1   \n",
       "      2  id3858529          2  2016-01-19 11:35:24                1   \n",
       "      3  id3504673          2  2016-04-06 19:32:31                1   \n",
       "      4  id2181028          2  2016-03-26 13:30:55                1   \n",
       "\n",
       "         pickup_longitude  pickup_latitude  dropoff_longitude  \\\n",
       "train 0          -73.9822          40.7679           -73.9646   \n",
       "      1          -73.9804          40.7386           -73.9995   \n",
       "      2          -73.9790          40.7639           -74.0053   \n",
       "      3          -74.0100          40.7200           -74.0123   \n",
       "      4          -73.9731          40.7932           -73.9729   \n",
       "\n",
       "         dropoff_latitude store_and_fwd_flag  total_distance  \\\n",
       "train 0           40.7656                  N      2,009.1000   \n",
       "      1           40.7312                  N      2,513.2000   \n",
       "      2           40.7101                  N     11,060.8000   \n",
       "      3           40.7067                  N      1,779.4000   \n",
       "      4           40.7825                  N      1,614.9000   \n",
       "\n",
       "         number_of_streets   starting_street              end_street  \n",
       "train 0             5.0000   Columbus Circle        East 65th Street  \n",
       "      1             6.0000        2nd Avenue  Washington Square West  \n",
       "      2            16.0000  West 56th Street          Beekman Street  \n",
       "      3             4.0000  Greenwich Street                Broadway  \n",
       "      4             5.0000          Broadway        West 81st Street  "
      ]
     },
     "execution_count": 19,
     "metadata": {},
     "output_type": "execute_result"
    }
   ],
   "source": [
    "label = 'trip_duration'\n",
    "features = eval_data.columns.values\n",
    "target = train_data[label]\n",
    "combine_data = pd.concat([train_data[features], eval_data], keys=['train','eval'])\n",
    "print(\"combine data:\", len(combine_data))\n",
    "combine_data.head(5)"
   ]
  },
  {
   "cell_type": "code",
   "execution_count": 20,
   "metadata": {
    "ExecuteTime": {
     "end_time": "2017-07-28T13:09:07.854433Z",
     "start_time": "2017-07-28T13:09:07.834298Z"
    },
    "collapsed": true
   },
   "outputs": [],
   "source": [
    "del train_data\n",
    "del eval_data"
   ]
  },
  {
   "cell_type": "markdown",
   "metadata": {},
   "source": [
    "# Pre-process data"
   ]
  },
  {
   "cell_type": "markdown",
   "metadata": {},
   "source": [
    "## Check& Fill  NaN "
   ]
  },
  {
   "cell_type": "code",
   "execution_count": 21,
   "metadata": {
    "ExecuteTime": {
     "end_time": "2017-07-28T13:09:07.932562Z",
     "start_time": "2017-07-28T13:09:07.854433Z"
    },
    "collapsed": true
   },
   "outputs": [],
   "source": [
    "def check_null_data(data):\n",
    "    #Get high percent of NaN data\n",
    "    null_data = data.isnull()\n",
    "    total = null_data.sum().sort_values(ascending=False)\n",
    "    percent = (null_data.sum()/null_data.count()).sort_values(ascending=False)\n",
    "    missing_data = pd.concat([total, percent], axis=1, keys=['Total', 'Percent'])\n",
    "    high_percent_miss_data = missing_data[missing_data['Percent']>0]\n",
    "    #print(missing_data)\n",
    "    print(high_percent_miss_data)\n",
    "    miss_data_cols = high_percent_miss_data.index.values\n",
    "    return miss_data_cols"
   ]
  },
  {
   "cell_type": "code",
   "execution_count": 22,
   "metadata": {
    "ExecuteTime": {
     "end_time": "2017-07-28T13:09:09.613627Z",
     "start_time": "2017-07-28T13:09:07.934568Z"
    },
    "scrolled": true
   },
   "outputs": [
    {
     "name": "stdout",
     "output_type": "stream",
     "text": [
      "                   Total  Percent\n",
      "starting_street    56416   0.0271\n",
      "end_street         40491   0.0194\n",
      "number_of_streets      1   0.0000\n",
      "total_distance         1   0.0000\n"
     ]
    },
    {
     "data": {
      "text/plain": [
       "array(['starting_street', 'end_street', 'number_of_streets',\n",
       "       'total_distance'], dtype=object)"
      ]
     },
     "execution_count": 22,
     "metadata": {},
     "output_type": "execute_result"
    }
   ],
   "source": [
    "# combine data for null\n",
    "check_null_data(combine_data)"
   ]
  },
  {
   "cell_type": "code",
   "execution_count": 23,
   "metadata": {
    "ExecuteTime": {
     "end_time": "2017-07-28T13:09:09.629138Z",
     "start_time": "2017-07-28T13:09:09.615628Z"
    },
    "scrolled": false
   },
   "outputs": [
    {
     "data": {
      "text/plain": [
       "id                     object\n",
       "vendor_id               int64\n",
       "pickup_datetime        object\n",
       "passenger_count         int64\n",
       "pickup_longitude      float64\n",
       "pickup_latitude       float64\n",
       "dropoff_longitude     float64\n",
       "dropoff_latitude      float64\n",
       "store_and_fwd_flag     object\n",
       "total_distance        float64\n",
       "number_of_streets     float64\n",
       "starting_street        object\n",
       "end_street             object\n",
       "dtype: object"
      ]
     },
     "execution_count": 23,
     "metadata": {},
     "output_type": "execute_result"
    }
   ],
   "source": [
    "combine_data.dtypes"
   ]
  },
  {
   "cell_type": "markdown",
   "metadata": {},
   "source": [
    "### FillNA for total_distance"
   ]
  },
  {
   "cell_type": "code",
   "execution_count": 24,
   "metadata": {
    "ExecuteTime": {
     "end_time": "2017-07-28T13:09:09.709774Z",
     "start_time": "2017-07-28T13:09:09.631138Z"
    },
    "collapsed": true
   },
   "outputs": [],
   "source": [
    "combine_data['total_distance'].fillna(0, inplace=True)"
   ]
  },
  {
   "cell_type": "markdown",
   "metadata": {},
   "source": [
    "### FillNaN for number_of_streets"
   ]
  },
  {
   "cell_type": "code",
   "execution_count": 25,
   "metadata": {
    "ExecuteTime": {
     "end_time": "2017-07-28T13:09:09.778324Z",
     "start_time": "2017-07-28T13:09:09.709774Z"
    },
    "collapsed": true
   },
   "outputs": [],
   "source": [
    "combine_data['number_of_streets'].fillna(1, inplace=True)"
   ]
  },
  {
   "cell_type": "markdown",
   "metadata": {},
   "source": [
    "## Transform object data"
   ]
  },
  {
   "cell_type": "code",
   "execution_count": 26,
   "metadata": {
    "ExecuteTime": {
     "end_time": "2017-07-28T13:09:09.847841Z",
     "start_time": "2017-07-28T13:09:09.778324Z"
    },
    "collapsed": true
   },
   "outputs": [],
   "source": [
    "data = combine_data"
   ]
  },
  {
   "cell_type": "markdown",
   "metadata": {},
   "source": [
    "### Convert datetime string to object"
   ]
  },
  {
   "cell_type": "code",
   "execution_count": 27,
   "metadata": {
    "ExecuteTime": {
     "end_time": "2017-07-28T13:09:09.948105Z",
     "start_time": "2017-07-28T13:09:09.847841Z"
    },
    "collapsed": true
   },
   "outputs": [],
   "source": [
    "def pd_datetime(data):\n",
    "    date_format = \"%Y-%m-%d %H:%M:%S\"\n",
    "    datetime_obj = data['pickup_datetime'].apply(lambda x: datetime.strptime(x, date_format))\n",
    "    return datetime_obj "
   ]
  },
  {
   "cell_type": "code",
   "execution_count": 28,
   "metadata": {
    "ExecuteTime": {
     "end_time": "2017-07-28T13:09:10.881782Z",
     "start_time": "2017-07-28T13:09:09.948105Z"
    }
   },
   "outputs": [
    {
     "data": {
      "text/plain": [
       "train  0   2016-03-14 17:24:55\n",
       "       1   2016-06-12 00:43:35\n",
       "       2   2016-01-19 11:35:24\n",
       "       3   2016-04-06 19:32:31\n",
       "       4   2016-03-26 13:30:55\n",
       "Name: datetime_obj, dtype: datetime64[ns]"
      ]
     },
     "execution_count": 28,
     "metadata": {},
     "output_type": "execute_result"
    }
   ],
   "source": [
    "#data['datetime_obj'] = pd_datetime(data)\n",
    "data['datetime_obj'] = pd.to_datetime(data['pickup_datetime'])\n",
    "data['datetime_obj'][:5]"
   ]
  },
  {
   "cell_type": "code",
   "execution_count": 29,
   "metadata": {
    "ExecuteTime": {
     "end_time": "2017-07-28T13:09:11.858131Z",
     "start_time": "2017-07-28T13:09:10.881782Z"
    },
    "collapsed": true
   },
   "outputs": [],
   "source": [
    "data['pickup_year'] = data['datetime_obj'].dt.year\n",
    "data['pickup_month'] = data['datetime_obj'].dt.month\n",
    "data['pickup_weekday'] = data['datetime_obj'].dt.weekday\n",
    "data['pickup_day'] = data['datetime_obj'].dt.day\n",
    "data['pickup_hour'] = data['datetime_obj'].dt.hour\n",
    "data['pickup_minute'] = data['datetime_obj'].dt.minute"
   ]
  },
  {
   "cell_type": "code",
   "execution_count": 30,
   "metadata": {
    "ExecuteTime": {
     "end_time": "2017-07-28T13:09:11.889151Z",
     "start_time": "2017-07-28T13:09:11.859631Z"
    }
   },
   "outputs": [
    {
     "data": {
      "text/html": [
       "<div>\n",
       "<style>\n",
       "    .dataframe thead tr:only-child th {\n",
       "        text-align: right;\n",
       "    }\n",
       "\n",
       "    .dataframe thead th {\n",
       "        text-align: left;\n",
       "    }\n",
       "\n",
       "    .dataframe tbody tr th {\n",
       "        vertical-align: top;\n",
       "    }\n",
       "</style>\n",
       "<table border=\"1\" class=\"dataframe\">\n",
       "  <thead>\n",
       "    <tr style=\"text-align: right;\">\n",
       "      <th></th>\n",
       "      <th></th>\n",
       "      <th>id</th>\n",
       "      <th>vendor_id</th>\n",
       "      <th>pickup_datetime</th>\n",
       "      <th>passenger_count</th>\n",
       "      <th>pickup_longitude</th>\n",
       "      <th>pickup_latitude</th>\n",
       "      <th>dropoff_longitude</th>\n",
       "      <th>dropoff_latitude</th>\n",
       "      <th>store_and_fwd_flag</th>\n",
       "      <th>total_distance</th>\n",
       "      <th>number_of_streets</th>\n",
       "      <th>starting_street</th>\n",
       "      <th>end_street</th>\n",
       "      <th>datetime_obj</th>\n",
       "      <th>pickup_year</th>\n",
       "      <th>pickup_month</th>\n",
       "      <th>pickup_weekday</th>\n",
       "      <th>pickup_day</th>\n",
       "      <th>pickup_hour</th>\n",
       "      <th>pickup_minute</th>\n",
       "    </tr>\n",
       "  </thead>\n",
       "  <tbody>\n",
       "    <tr>\n",
       "      <th rowspan=\"5\" valign=\"top\">train</th>\n",
       "      <th>0</th>\n",
       "      <td>id2875421</td>\n",
       "      <td>2</td>\n",
       "      <td>2016-03-14 17:24:55</td>\n",
       "      <td>1</td>\n",
       "      <td>-73.9822</td>\n",
       "      <td>40.7679</td>\n",
       "      <td>-73.9646</td>\n",
       "      <td>40.7656</td>\n",
       "      <td>N</td>\n",
       "      <td>2,009.1000</td>\n",
       "      <td>5.0000</td>\n",
       "      <td>Columbus Circle</td>\n",
       "      <td>East 65th Street</td>\n",
       "      <td>2016-03-14 17:24:55</td>\n",
       "      <td>2016</td>\n",
       "      <td>3</td>\n",
       "      <td>0</td>\n",
       "      <td>14</td>\n",
       "      <td>17</td>\n",
       "      <td>24</td>\n",
       "    </tr>\n",
       "    <tr>\n",
       "      <th>1</th>\n",
       "      <td>id2377394</td>\n",
       "      <td>1</td>\n",
       "      <td>2016-06-12 00:43:35</td>\n",
       "      <td>1</td>\n",
       "      <td>-73.9804</td>\n",
       "      <td>40.7386</td>\n",
       "      <td>-73.9995</td>\n",
       "      <td>40.7312</td>\n",
       "      <td>N</td>\n",
       "      <td>2,513.2000</td>\n",
       "      <td>6.0000</td>\n",
       "      <td>2nd Avenue</td>\n",
       "      <td>Washington Square West</td>\n",
       "      <td>2016-06-12 00:43:35</td>\n",
       "      <td>2016</td>\n",
       "      <td>6</td>\n",
       "      <td>6</td>\n",
       "      <td>12</td>\n",
       "      <td>0</td>\n",
       "      <td>43</td>\n",
       "    </tr>\n",
       "    <tr>\n",
       "      <th>2</th>\n",
       "      <td>id3858529</td>\n",
       "      <td>2</td>\n",
       "      <td>2016-01-19 11:35:24</td>\n",
       "      <td>1</td>\n",
       "      <td>-73.9790</td>\n",
       "      <td>40.7639</td>\n",
       "      <td>-74.0053</td>\n",
       "      <td>40.7101</td>\n",
       "      <td>N</td>\n",
       "      <td>11,060.8000</td>\n",
       "      <td>16.0000</td>\n",
       "      <td>West 56th Street</td>\n",
       "      <td>Beekman Street</td>\n",
       "      <td>2016-01-19 11:35:24</td>\n",
       "      <td>2016</td>\n",
       "      <td>1</td>\n",
       "      <td>1</td>\n",
       "      <td>19</td>\n",
       "      <td>11</td>\n",
       "      <td>35</td>\n",
       "    </tr>\n",
       "    <tr>\n",
       "      <th>3</th>\n",
       "      <td>id3504673</td>\n",
       "      <td>2</td>\n",
       "      <td>2016-04-06 19:32:31</td>\n",
       "      <td>1</td>\n",
       "      <td>-74.0100</td>\n",
       "      <td>40.7200</td>\n",
       "      <td>-74.0123</td>\n",
       "      <td>40.7067</td>\n",
       "      <td>N</td>\n",
       "      <td>1,779.4000</td>\n",
       "      <td>4.0000</td>\n",
       "      <td>Greenwich Street</td>\n",
       "      <td>Broadway</td>\n",
       "      <td>2016-04-06 19:32:31</td>\n",
       "      <td>2016</td>\n",
       "      <td>4</td>\n",
       "      <td>2</td>\n",
       "      <td>6</td>\n",
       "      <td>19</td>\n",
       "      <td>32</td>\n",
       "    </tr>\n",
       "    <tr>\n",
       "      <th>4</th>\n",
       "      <td>id2181028</td>\n",
       "      <td>2</td>\n",
       "      <td>2016-03-26 13:30:55</td>\n",
       "      <td>1</td>\n",
       "      <td>-73.9731</td>\n",
       "      <td>40.7932</td>\n",
       "      <td>-73.9729</td>\n",
       "      <td>40.7825</td>\n",
       "      <td>N</td>\n",
       "      <td>1,614.9000</td>\n",
       "      <td>5.0000</td>\n",
       "      <td>Broadway</td>\n",
       "      <td>West 81st Street</td>\n",
       "      <td>2016-03-26 13:30:55</td>\n",
       "      <td>2016</td>\n",
       "      <td>3</td>\n",
       "      <td>5</td>\n",
       "      <td>26</td>\n",
       "      <td>13</td>\n",
       "      <td>30</td>\n",
       "    </tr>\n",
       "  </tbody>\n",
       "</table>\n",
       "</div>"
      ],
      "text/plain": [
       "                id  vendor_id      pickup_datetime  passenger_count  \\\n",
       "train 0  id2875421          2  2016-03-14 17:24:55                1   \n",
       "      1  id2377394          1  2016-06-12 00:43:35                1   \n",
       "      2  id3858529          2  2016-01-19 11:35:24                1   \n",
       "      3  id3504673          2  2016-04-06 19:32:31                1   \n",
       "      4  id2181028          2  2016-03-26 13:30:55                1   \n",
       "\n",
       "         pickup_longitude  pickup_latitude  dropoff_longitude  \\\n",
       "train 0          -73.9822          40.7679           -73.9646   \n",
       "      1          -73.9804          40.7386           -73.9995   \n",
       "      2          -73.9790          40.7639           -74.0053   \n",
       "      3          -74.0100          40.7200           -74.0123   \n",
       "      4          -73.9731          40.7932           -73.9729   \n",
       "\n",
       "         dropoff_latitude store_and_fwd_flag  total_distance  \\\n",
       "train 0           40.7656                  N      2,009.1000   \n",
       "      1           40.7312                  N      2,513.2000   \n",
       "      2           40.7101                  N     11,060.8000   \n",
       "      3           40.7067                  N      1,779.4000   \n",
       "      4           40.7825                  N      1,614.9000   \n",
       "\n",
       "         number_of_streets   starting_street              end_street  \\\n",
       "train 0             5.0000   Columbus Circle        East 65th Street   \n",
       "      1             6.0000        2nd Avenue  Washington Square West   \n",
       "      2            16.0000  West 56th Street          Beekman Street   \n",
       "      3             4.0000  Greenwich Street                Broadway   \n",
       "      4             5.0000          Broadway        West 81st Street   \n",
       "\n",
       "               datetime_obj  pickup_year  pickup_month  pickup_weekday  \\\n",
       "train 0 2016-03-14 17:24:55         2016             3               0   \n",
       "      1 2016-06-12 00:43:35         2016             6               6   \n",
       "      2 2016-01-19 11:35:24         2016             1               1   \n",
       "      3 2016-04-06 19:32:31         2016             4               2   \n",
       "      4 2016-03-26 13:30:55         2016             3               5   \n",
       "\n",
       "         pickup_day  pickup_hour  pickup_minute  \n",
       "train 0          14           17             24  \n",
       "      1          12            0             43  \n",
       "      2          19           11             35  \n",
       "      3           6           19             32  \n",
       "      4          26           13             30  "
      ]
     },
     "execution_count": 30,
     "metadata": {},
     "output_type": "execute_result"
    }
   ],
   "source": [
    "data[:5]"
   ]
  },
  {
   "cell_type": "markdown",
   "metadata": {},
   "source": [
    "### store_and_fwd_flag"
   ]
  },
  {
   "cell_type": "code",
   "execution_count": 31,
   "metadata": {
    "ExecuteTime": {
     "end_time": "2017-07-28T13:09:12.290720Z",
     "start_time": "2017-07-28T13:09:11.891152Z"
    }
   },
   "outputs": [
    {
     "data": {
      "text/plain": [
       "N    2072303\n",
       "Y      11475\n",
       "Name: store_and_fwd_flag, dtype: int64"
      ]
     },
     "execution_count": 31,
     "metadata": {},
     "output_type": "execute_result"
    }
   ],
   "source": [
    "col = 'store_and_fwd_flag'\n",
    "data[col].value_counts()"
   ]
  },
  {
   "cell_type": "code",
   "execution_count": 32,
   "metadata": {
    "ExecuteTime": {
     "end_time": "2017-07-28T13:09:12.813446Z",
     "start_time": "2017-07-28T13:09:12.292727Z"
    }
   },
   "outputs": [
    {
     "data": {
      "text/html": [
       "<div>\n",
       "<style>\n",
       "    .dataframe thead tr:only-child th {\n",
       "        text-align: right;\n",
       "    }\n",
       "\n",
       "    .dataframe thead th {\n",
       "        text-align: left;\n",
       "    }\n",
       "\n",
       "    .dataframe tbody tr th {\n",
       "        vertical-align: top;\n",
       "    }\n",
       "</style>\n",
       "<table border=\"1\" class=\"dataframe\">\n",
       "  <thead>\n",
       "    <tr style=\"text-align: right;\">\n",
       "      <th></th>\n",
       "      <th></th>\n",
       "      <th>id</th>\n",
       "      <th>vendor_id</th>\n",
       "      <th>pickup_datetime</th>\n",
       "      <th>passenger_count</th>\n",
       "      <th>pickup_longitude</th>\n",
       "      <th>pickup_latitude</th>\n",
       "      <th>dropoff_longitude</th>\n",
       "      <th>dropoff_latitude</th>\n",
       "      <th>store_and_fwd_flag</th>\n",
       "      <th>total_distance</th>\n",
       "      <th>number_of_streets</th>\n",
       "      <th>starting_street</th>\n",
       "      <th>end_street</th>\n",
       "      <th>datetime_obj</th>\n",
       "      <th>pickup_year</th>\n",
       "      <th>pickup_month</th>\n",
       "      <th>pickup_weekday</th>\n",
       "      <th>pickup_day</th>\n",
       "      <th>pickup_hour</th>\n",
       "      <th>pickup_minute</th>\n",
       "    </tr>\n",
       "  </thead>\n",
       "  <tbody>\n",
       "    <tr>\n",
       "      <th rowspan=\"5\" valign=\"top\">train</th>\n",
       "      <th>0</th>\n",
       "      <td>id2875421</td>\n",
       "      <td>2</td>\n",
       "      <td>2016-03-14 17:24:55</td>\n",
       "      <td>1</td>\n",
       "      <td>-73.9822</td>\n",
       "      <td>40.7679</td>\n",
       "      <td>-73.9646</td>\n",
       "      <td>40.7656</td>\n",
       "      <td>0</td>\n",
       "      <td>2,009.1000</td>\n",
       "      <td>5.0000</td>\n",
       "      <td>Columbus Circle</td>\n",
       "      <td>East 65th Street</td>\n",
       "      <td>2016-03-14 17:24:55</td>\n",
       "      <td>2016</td>\n",
       "      <td>3</td>\n",
       "      <td>0</td>\n",
       "      <td>14</td>\n",
       "      <td>17</td>\n",
       "      <td>24</td>\n",
       "    </tr>\n",
       "    <tr>\n",
       "      <th>1</th>\n",
       "      <td>id2377394</td>\n",
       "      <td>1</td>\n",
       "      <td>2016-06-12 00:43:35</td>\n",
       "      <td>1</td>\n",
       "      <td>-73.9804</td>\n",
       "      <td>40.7386</td>\n",
       "      <td>-73.9995</td>\n",
       "      <td>40.7312</td>\n",
       "      <td>0</td>\n",
       "      <td>2,513.2000</td>\n",
       "      <td>6.0000</td>\n",
       "      <td>2nd Avenue</td>\n",
       "      <td>Washington Square West</td>\n",
       "      <td>2016-06-12 00:43:35</td>\n",
       "      <td>2016</td>\n",
       "      <td>6</td>\n",
       "      <td>6</td>\n",
       "      <td>12</td>\n",
       "      <td>0</td>\n",
       "      <td>43</td>\n",
       "    </tr>\n",
       "    <tr>\n",
       "      <th>2</th>\n",
       "      <td>id3858529</td>\n",
       "      <td>2</td>\n",
       "      <td>2016-01-19 11:35:24</td>\n",
       "      <td>1</td>\n",
       "      <td>-73.9790</td>\n",
       "      <td>40.7639</td>\n",
       "      <td>-74.0053</td>\n",
       "      <td>40.7101</td>\n",
       "      <td>0</td>\n",
       "      <td>11,060.8000</td>\n",
       "      <td>16.0000</td>\n",
       "      <td>West 56th Street</td>\n",
       "      <td>Beekman Street</td>\n",
       "      <td>2016-01-19 11:35:24</td>\n",
       "      <td>2016</td>\n",
       "      <td>1</td>\n",
       "      <td>1</td>\n",
       "      <td>19</td>\n",
       "      <td>11</td>\n",
       "      <td>35</td>\n",
       "    </tr>\n",
       "    <tr>\n",
       "      <th>3</th>\n",
       "      <td>id3504673</td>\n",
       "      <td>2</td>\n",
       "      <td>2016-04-06 19:32:31</td>\n",
       "      <td>1</td>\n",
       "      <td>-74.0100</td>\n",
       "      <td>40.7200</td>\n",
       "      <td>-74.0123</td>\n",
       "      <td>40.7067</td>\n",
       "      <td>0</td>\n",
       "      <td>1,779.4000</td>\n",
       "      <td>4.0000</td>\n",
       "      <td>Greenwich Street</td>\n",
       "      <td>Broadway</td>\n",
       "      <td>2016-04-06 19:32:31</td>\n",
       "      <td>2016</td>\n",
       "      <td>4</td>\n",
       "      <td>2</td>\n",
       "      <td>6</td>\n",
       "      <td>19</td>\n",
       "      <td>32</td>\n",
       "    </tr>\n",
       "    <tr>\n",
       "      <th>4</th>\n",
       "      <td>id2181028</td>\n",
       "      <td>2</td>\n",
       "      <td>2016-03-26 13:30:55</td>\n",
       "      <td>1</td>\n",
       "      <td>-73.9731</td>\n",
       "      <td>40.7932</td>\n",
       "      <td>-73.9729</td>\n",
       "      <td>40.7825</td>\n",
       "      <td>0</td>\n",
       "      <td>1,614.9000</td>\n",
       "      <td>5.0000</td>\n",
       "      <td>Broadway</td>\n",
       "      <td>West 81st Street</td>\n",
       "      <td>2016-03-26 13:30:55</td>\n",
       "      <td>2016</td>\n",
       "      <td>3</td>\n",
       "      <td>5</td>\n",
       "      <td>26</td>\n",
       "      <td>13</td>\n",
       "      <td>30</td>\n",
       "    </tr>\n",
       "  </tbody>\n",
       "</table>\n",
       "</div>"
      ],
      "text/plain": [
       "                id  vendor_id      pickup_datetime  passenger_count  \\\n",
       "train 0  id2875421          2  2016-03-14 17:24:55                1   \n",
       "      1  id2377394          1  2016-06-12 00:43:35                1   \n",
       "      2  id3858529          2  2016-01-19 11:35:24                1   \n",
       "      3  id3504673          2  2016-04-06 19:32:31                1   \n",
       "      4  id2181028          2  2016-03-26 13:30:55                1   \n",
       "\n",
       "         pickup_longitude  pickup_latitude  dropoff_longitude  \\\n",
       "train 0          -73.9822          40.7679           -73.9646   \n",
       "      1          -73.9804          40.7386           -73.9995   \n",
       "      2          -73.9790          40.7639           -74.0053   \n",
       "      3          -74.0100          40.7200           -74.0123   \n",
       "      4          -73.9731          40.7932           -73.9729   \n",
       "\n",
       "         dropoff_latitude store_and_fwd_flag  total_distance  \\\n",
       "train 0           40.7656                  0      2,009.1000   \n",
       "      1           40.7312                  0      2,513.2000   \n",
       "      2           40.7101                  0     11,060.8000   \n",
       "      3           40.7067                  0      1,779.4000   \n",
       "      4           40.7825                  0      1,614.9000   \n",
       "\n",
       "         number_of_streets   starting_street              end_street  \\\n",
       "train 0             5.0000   Columbus Circle        East 65th Street   \n",
       "      1             6.0000        2nd Avenue  Washington Square West   \n",
       "      2            16.0000  West 56th Street          Beekman Street   \n",
       "      3             4.0000  Greenwich Street                Broadway   \n",
       "      4             5.0000          Broadway        West 81st Street   \n",
       "\n",
       "               datetime_obj  pickup_year  pickup_month  pickup_weekday  \\\n",
       "train 0 2016-03-14 17:24:55         2016             3               0   \n",
       "      1 2016-06-12 00:43:35         2016             6               6   \n",
       "      2 2016-01-19 11:35:24         2016             1               1   \n",
       "      3 2016-04-06 19:32:31         2016             4               2   \n",
       "      4 2016-03-26 13:30:55         2016             3               5   \n",
       "\n",
       "         pickup_day  pickup_hour  pickup_minute  \n",
       "train 0          14           17             24  \n",
       "      1          12            0             43  \n",
       "      2          19           11             35  \n",
       "      3           6           19             32  \n",
       "      4          26           13             30  "
      ]
     },
     "execution_count": 32,
     "metadata": {},
     "output_type": "execute_result"
    }
   ],
   "source": [
    "data_dict = {'Y':1, 'N':0}\n",
    "data_tf = data[col].map(data_dict)\n",
    "data[col].update(data_tf)\n",
    "data[:5]"
   ]
  },
  {
   "cell_type": "markdown",
   "metadata": {},
   "source": [
    "### start_street"
   ]
  },
  {
   "cell_type": "code",
   "execution_count": 33,
   "metadata": {
    "ExecuteTime": {
     "end_time": "2017-07-28T13:09:13.304226Z",
     "start_time": "2017-07-28T13:09:12.813446Z"
    }
   },
   "outputs": [
    {
     "name": "stdout",
     "output_type": "stream",
     "text": [
      "2027362\n"
     ]
    },
    {
     "data": {
      "text/html": [
       "<div>\n",
       "<style>\n",
       "    .dataframe thead tr:only-child th {\n",
       "        text-align: right;\n",
       "    }\n",
       "\n",
       "    .dataframe thead th {\n",
       "        text-align: left;\n",
       "    }\n",
       "\n",
       "    .dataframe tbody tr th {\n",
       "        vertical-align: top;\n",
       "    }\n",
       "</style>\n",
       "<table border=\"1\" class=\"dataframe\">\n",
       "  <thead>\n",
       "    <tr style=\"text-align: right;\">\n",
       "      <th></th>\n",
       "      <th></th>\n",
       "      <th>id</th>\n",
       "      <th>vendor_id</th>\n",
       "      <th>pickup_datetime</th>\n",
       "      <th>passenger_count</th>\n",
       "      <th>pickup_longitude</th>\n",
       "      <th>pickup_latitude</th>\n",
       "      <th>dropoff_longitude</th>\n",
       "      <th>dropoff_latitude</th>\n",
       "      <th>store_and_fwd_flag</th>\n",
       "      <th>total_distance</th>\n",
       "      <th>number_of_streets</th>\n",
       "      <th>starting_street</th>\n",
       "      <th>end_street</th>\n",
       "      <th>datetime_obj</th>\n",
       "      <th>pickup_year</th>\n",
       "      <th>pickup_month</th>\n",
       "      <th>pickup_weekday</th>\n",
       "      <th>pickup_day</th>\n",
       "      <th>pickup_hour</th>\n",
       "      <th>pickup_minute</th>\n",
       "    </tr>\n",
       "  </thead>\n",
       "  <tbody>\n",
       "    <tr>\n",
       "      <th rowspan=\"5\" valign=\"top\">train</th>\n",
       "      <th>0</th>\n",
       "      <td>id2875421</td>\n",
       "      <td>2</td>\n",
       "      <td>2016-03-14 17:24:55</td>\n",
       "      <td>1</td>\n",
       "      <td>-73.9822</td>\n",
       "      <td>40.7679</td>\n",
       "      <td>-73.9646</td>\n",
       "      <td>40.7656</td>\n",
       "      <td>0</td>\n",
       "      <td>2,009.1000</td>\n",
       "      <td>5.0000</td>\n",
       "      <td>Columbus Circle</td>\n",
       "      <td>East 65th Street</td>\n",
       "      <td>2016-03-14 17:24:55</td>\n",
       "      <td>2016</td>\n",
       "      <td>3</td>\n",
       "      <td>0</td>\n",
       "      <td>14</td>\n",
       "      <td>17</td>\n",
       "      <td>24</td>\n",
       "    </tr>\n",
       "    <tr>\n",
       "      <th>1</th>\n",
       "      <td>id2377394</td>\n",
       "      <td>1</td>\n",
       "      <td>2016-06-12 00:43:35</td>\n",
       "      <td>1</td>\n",
       "      <td>-73.9804</td>\n",
       "      <td>40.7386</td>\n",
       "      <td>-73.9995</td>\n",
       "      <td>40.7312</td>\n",
       "      <td>0</td>\n",
       "      <td>2,513.2000</td>\n",
       "      <td>6.0000</td>\n",
       "      <td>2nd Avenue</td>\n",
       "      <td>Washington Square West</td>\n",
       "      <td>2016-06-12 00:43:35</td>\n",
       "      <td>2016</td>\n",
       "      <td>6</td>\n",
       "      <td>6</td>\n",
       "      <td>12</td>\n",
       "      <td>0</td>\n",
       "      <td>43</td>\n",
       "    </tr>\n",
       "    <tr>\n",
       "      <th>2</th>\n",
       "      <td>id3858529</td>\n",
       "      <td>2</td>\n",
       "      <td>2016-01-19 11:35:24</td>\n",
       "      <td>1</td>\n",
       "      <td>-73.9790</td>\n",
       "      <td>40.7639</td>\n",
       "      <td>-74.0053</td>\n",
       "      <td>40.7101</td>\n",
       "      <td>0</td>\n",
       "      <td>11,060.8000</td>\n",
       "      <td>16.0000</td>\n",
       "      <td>West 56th Street</td>\n",
       "      <td>Beekman Street</td>\n",
       "      <td>2016-01-19 11:35:24</td>\n",
       "      <td>2016</td>\n",
       "      <td>1</td>\n",
       "      <td>1</td>\n",
       "      <td>19</td>\n",
       "      <td>11</td>\n",
       "      <td>35</td>\n",
       "    </tr>\n",
       "    <tr>\n",
       "      <th>3</th>\n",
       "      <td>id3504673</td>\n",
       "      <td>2</td>\n",
       "      <td>2016-04-06 19:32:31</td>\n",
       "      <td>1</td>\n",
       "      <td>-74.0100</td>\n",
       "      <td>40.7200</td>\n",
       "      <td>-74.0123</td>\n",
       "      <td>40.7067</td>\n",
       "      <td>0</td>\n",
       "      <td>1,779.4000</td>\n",
       "      <td>4.0000</td>\n",
       "      <td>Greenwich Street</td>\n",
       "      <td>Broadway</td>\n",
       "      <td>2016-04-06 19:32:31</td>\n",
       "      <td>2016</td>\n",
       "      <td>4</td>\n",
       "      <td>2</td>\n",
       "      <td>6</td>\n",
       "      <td>19</td>\n",
       "      <td>32</td>\n",
       "    </tr>\n",
       "    <tr>\n",
       "      <th>4</th>\n",
       "      <td>id2181028</td>\n",
       "      <td>2</td>\n",
       "      <td>2016-03-26 13:30:55</td>\n",
       "      <td>1</td>\n",
       "      <td>-73.9731</td>\n",
       "      <td>40.7932</td>\n",
       "      <td>-73.9729</td>\n",
       "      <td>40.7825</td>\n",
       "      <td>0</td>\n",
       "      <td>1,614.9000</td>\n",
       "      <td>5.0000</td>\n",
       "      <td>Broadway</td>\n",
       "      <td>West 81st Street</td>\n",
       "      <td>2016-03-26 13:30:55</td>\n",
       "      <td>2016</td>\n",
       "      <td>3</td>\n",
       "      <td>5</td>\n",
       "      <td>26</td>\n",
       "      <td>13</td>\n",
       "      <td>30</td>\n",
       "    </tr>\n",
       "  </tbody>\n",
       "</table>\n",
       "</div>"
      ],
      "text/plain": [
       "                id  vendor_id      pickup_datetime  passenger_count  \\\n",
       "train 0  id2875421          2  2016-03-14 17:24:55                1   \n",
       "      1  id2377394          1  2016-06-12 00:43:35                1   \n",
       "      2  id3858529          2  2016-01-19 11:35:24                1   \n",
       "      3  id3504673          2  2016-04-06 19:32:31                1   \n",
       "      4  id2181028          2  2016-03-26 13:30:55                1   \n",
       "\n",
       "         pickup_longitude  pickup_latitude  dropoff_longitude  \\\n",
       "train 0          -73.9822          40.7679           -73.9646   \n",
       "      1          -73.9804          40.7386           -73.9995   \n",
       "      2          -73.9790          40.7639           -74.0053   \n",
       "      3          -74.0100          40.7200           -74.0123   \n",
       "      4          -73.9731          40.7932           -73.9729   \n",
       "\n",
       "         dropoff_latitude store_and_fwd_flag  total_distance  \\\n",
       "train 0           40.7656                  0      2,009.1000   \n",
       "      1           40.7312                  0      2,513.2000   \n",
       "      2           40.7101                  0     11,060.8000   \n",
       "      3           40.7067                  0      1,779.4000   \n",
       "      4           40.7825                  0      1,614.9000   \n",
       "\n",
       "         number_of_streets   starting_street              end_street  \\\n",
       "train 0             5.0000   Columbus Circle        East 65th Street   \n",
       "      1             6.0000        2nd Avenue  Washington Square West   \n",
       "      2            16.0000  West 56th Street          Beekman Street   \n",
       "      3             4.0000  Greenwich Street                Broadway   \n",
       "      4             5.0000          Broadway        West 81st Street   \n",
       "\n",
       "               datetime_obj  pickup_year  pickup_month  pickup_weekday  \\\n",
       "train 0 2016-03-14 17:24:55         2016             3               0   \n",
       "      1 2016-06-12 00:43:35         2016             6               6   \n",
       "      2 2016-01-19 11:35:24         2016             1               1   \n",
       "      3 2016-04-06 19:32:31         2016             4               2   \n",
       "      4 2016-03-26 13:30:55         2016             3               5   \n",
       "\n",
       "         pickup_day  pickup_hour  pickup_minute  \n",
       "train 0          14           17             24  \n",
       "      1          12            0             43  \n",
       "      2          19           11             35  \n",
       "      3           6           19             32  \n",
       "      4          26           13             30  "
      ]
     },
     "execution_count": 33,
     "metadata": {},
     "output_type": "execute_result"
    }
   ],
   "source": [
    "col = 'starting_street'\n",
    "data_not_null = data[data[col].notnull()]\n",
    "print(len(data_not_null))\n",
    "data_not_null[:5]"
   ]
  },
  {
   "cell_type": "code",
   "execution_count": 34,
   "metadata": {
    "ExecuteTime": {
     "end_time": "2017-07-28T13:09:16.250007Z",
     "start_time": "2017-07-28T13:09:13.304226Z"
    }
   },
   "outputs": [
    {
     "data": {
      "text/plain": [
       "array([ 774,  166, 2613, 1316,  609], dtype=int64)"
      ]
     },
     "execution_count": 34,
     "metadata": {},
     "output_type": "execute_result"
    }
   ],
   "source": [
    "le = LabelEncoder()\n",
    "data_tf = le.fit_transform(data_not_null[col])\n",
    "data_tf[:5]"
   ]
  },
  {
   "cell_type": "code",
   "execution_count": 35,
   "metadata": {
    "ExecuteTime": {
     "end_time": "2017-07-28T13:09:16.730086Z",
     "start_time": "2017-07-28T13:09:16.250007Z"
    },
    "collapsed": true
   },
   "outputs": [],
   "source": [
    "col_tf = col + '_tf'\n",
    "data_not_null.loc[:,col_tf] = data_tf"
   ]
  },
  {
   "cell_type": "code",
   "execution_count": 36,
   "metadata": {
    "ExecuteTime": {
     "end_time": "2017-07-28T13:09:17.261177Z",
     "start_time": "2017-07-28T13:09:16.732088Z"
    },
    "collapsed": true
   },
   "outputs": [],
   "source": [
    "data[col_tf] = data_not_null[col_tf]"
   ]
  },
  {
   "cell_type": "code",
   "execution_count": 37,
   "metadata": {
    "ExecuteTime": {
     "end_time": "2017-07-28T13:09:17.496476Z",
     "start_time": "2017-07-28T13:09:17.263178Z"
    },
    "scrolled": true
   },
   "outputs": [
    {
     "data": {
      "text/html": [
       "<div>\n",
       "<style>\n",
       "    .dataframe thead tr:only-child th {\n",
       "        text-align: right;\n",
       "    }\n",
       "\n",
       "    .dataframe thead th {\n",
       "        text-align: left;\n",
       "    }\n",
       "\n",
       "    .dataframe tbody tr th {\n",
       "        vertical-align: top;\n",
       "    }\n",
       "</style>\n",
       "<table border=\"1\" class=\"dataframe\">\n",
       "  <thead>\n",
       "    <tr style=\"text-align: right;\">\n",
       "      <th></th>\n",
       "      <th></th>\n",
       "      <th>id</th>\n",
       "      <th>vendor_id</th>\n",
       "      <th>pickup_datetime</th>\n",
       "      <th>passenger_count</th>\n",
       "      <th>pickup_longitude</th>\n",
       "      <th>pickup_latitude</th>\n",
       "      <th>dropoff_longitude</th>\n",
       "      <th>dropoff_latitude</th>\n",
       "      <th>store_and_fwd_flag</th>\n",
       "      <th>total_distance</th>\n",
       "      <th>...</th>\n",
       "      <th>starting_street</th>\n",
       "      <th>end_street</th>\n",
       "      <th>datetime_obj</th>\n",
       "      <th>pickup_year</th>\n",
       "      <th>pickup_month</th>\n",
       "      <th>pickup_weekday</th>\n",
       "      <th>pickup_day</th>\n",
       "      <th>pickup_hour</th>\n",
       "      <th>pickup_minute</th>\n",
       "      <th>starting_street_tf</th>\n",
       "    </tr>\n",
       "  </thead>\n",
       "  <tbody>\n",
       "    <tr>\n",
       "      <th rowspan=\"5\" valign=\"top\">train</th>\n",
       "      <th>18</th>\n",
       "      <td>id3552682</td>\n",
       "      <td>1</td>\n",
       "      <td>2016-06-27 09:55:13</td>\n",
       "      <td>1</td>\n",
       "      <td>-74.0040</td>\n",
       "      <td>40.7130</td>\n",
       "      <td>-73.9792</td>\n",
       "      <td>40.7499</td>\n",
       "      <td>0</td>\n",
       "      <td>4,673.9000</td>\n",
       "      <td>...</td>\n",
       "      <td>NaN</td>\n",
       "      <td>Park Avenue</td>\n",
       "      <td>2016-06-27 09:55:13</td>\n",
       "      <td>2016</td>\n",
       "      <td>6</td>\n",
       "      <td>0</td>\n",
       "      <td>27</td>\n",
       "      <td>9</td>\n",
       "      <td>55</td>\n",
       "      <td>nan</td>\n",
       "    </tr>\n",
       "    <tr>\n",
       "      <th>70</th>\n",
       "      <td>id3896508</td>\n",
       "      <td>2</td>\n",
       "      <td>2016-06-07 22:32:32</td>\n",
       "      <td>1</td>\n",
       "      <td>-73.8634</td>\n",
       "      <td>40.7699</td>\n",
       "      <td>-73.8371</td>\n",
       "      <td>40.7214</td>\n",
       "      <td>0</td>\n",
       "      <td>8,171.9000</td>\n",
       "      <td>...</td>\n",
       "      <td>NaN</td>\n",
       "      <td>72nd Road</td>\n",
       "      <td>2016-06-07 22:32:32</td>\n",
       "      <td>2016</td>\n",
       "      <td>6</td>\n",
       "      <td>1</td>\n",
       "      <td>7</td>\n",
       "      <td>22</td>\n",
       "      <td>32</td>\n",
       "      <td>nan</td>\n",
       "    </tr>\n",
       "    <tr>\n",
       "      <th>93</th>\n",
       "      <td>id2030290</td>\n",
       "      <td>1</td>\n",
       "      <td>2016-03-31 11:33:30</td>\n",
       "      <td>3</td>\n",
       "      <td>-73.8643</td>\n",
       "      <td>40.7698</td>\n",
       "      <td>-73.9859</td>\n",
       "      <td>40.7610</td>\n",
       "      <td>0</td>\n",
       "      <td>16,077.1000</td>\n",
       "      <td>...</td>\n",
       "      <td>NaN</td>\n",
       "      <td>West 48th Street</td>\n",
       "      <td>2016-03-31 11:33:30</td>\n",
       "      <td>2016</td>\n",
       "      <td>3</td>\n",
       "      <td>3</td>\n",
       "      <td>31</td>\n",
       "      <td>11</td>\n",
       "      <td>33</td>\n",
       "      <td>nan</td>\n",
       "    </tr>\n",
       "    <tr>\n",
       "      <th>98</th>\n",
       "      <td>id2102594</td>\n",
       "      <td>1</td>\n",
       "      <td>2016-03-30 16:14:29</td>\n",
       "      <td>1</td>\n",
       "      <td>-73.7898</td>\n",
       "      <td>40.6436</td>\n",
       "      <td>-73.9707</td>\n",
       "      <td>40.6873</td>\n",
       "      <td>0</td>\n",
       "      <td>20,236.7000</td>\n",
       "      <td>...</td>\n",
       "      <td>NaN</td>\n",
       "      <td>Adelphi Street</td>\n",
       "      <td>2016-03-30 16:14:29</td>\n",
       "      <td>2016</td>\n",
       "      <td>3</td>\n",
       "      <td>2</td>\n",
       "      <td>30</td>\n",
       "      <td>16</td>\n",
       "      <td>14</td>\n",
       "      <td>nan</td>\n",
       "    </tr>\n",
       "    <tr>\n",
       "      <th>102</th>\n",
       "      <td>id0105610</td>\n",
       "      <td>1</td>\n",
       "      <td>2016-02-19 20:01:24</td>\n",
       "      <td>3</td>\n",
       "      <td>-73.7897</td>\n",
       "      <td>40.6437</td>\n",
       "      <td>-73.9787</td>\n",
       "      <td>40.7503</td>\n",
       "      <td>0</td>\n",
       "      <td>27,983.1000</td>\n",
       "      <td>...</td>\n",
       "      <td>NaN</td>\n",
       "      <td>Park Avenue</td>\n",
       "      <td>2016-02-19 20:01:24</td>\n",
       "      <td>2016</td>\n",
       "      <td>2</td>\n",
       "      <td>4</td>\n",
       "      <td>19</td>\n",
       "      <td>20</td>\n",
       "      <td>1</td>\n",
       "      <td>nan</td>\n",
       "    </tr>\n",
       "  </tbody>\n",
       "</table>\n",
       "<p>5 rows × 21 columns</p>\n",
       "</div>"
      ],
      "text/plain": [
       "                  id  vendor_id      pickup_datetime  passenger_count  \\\n",
       "train 18   id3552682          1  2016-06-27 09:55:13                1   \n",
       "      70   id3896508          2  2016-06-07 22:32:32                1   \n",
       "      93   id2030290          1  2016-03-31 11:33:30                3   \n",
       "      98   id2102594          1  2016-03-30 16:14:29                1   \n",
       "      102  id0105610          1  2016-02-19 20:01:24                3   \n",
       "\n",
       "           pickup_longitude  pickup_latitude  dropoff_longitude  \\\n",
       "train 18           -74.0040          40.7130           -73.9792   \n",
       "      70           -73.8634          40.7699           -73.8371   \n",
       "      93           -73.8643          40.7698           -73.9859   \n",
       "      98           -73.7898          40.6436           -73.9707   \n",
       "      102          -73.7897          40.6437           -73.9787   \n",
       "\n",
       "           dropoff_latitude store_and_fwd_flag  total_distance  \\\n",
       "train 18            40.7499                  0      4,673.9000   \n",
       "      70            40.7214                  0      8,171.9000   \n",
       "      93            40.7610                  0     16,077.1000   \n",
       "      98            40.6873                  0     20,236.7000   \n",
       "      102           40.7503                  0     27,983.1000   \n",
       "\n",
       "                  ...          starting_street        end_street  \\\n",
       "train 18          ...                      NaN       Park Avenue   \n",
       "      70          ...                      NaN         72nd Road   \n",
       "      93          ...                      NaN  West 48th Street   \n",
       "      98          ...                      NaN    Adelphi Street   \n",
       "      102         ...                      NaN       Park Avenue   \n",
       "\n",
       "                 datetime_obj pickup_year  pickup_month  pickup_weekday  \\\n",
       "train 18  2016-06-27 09:55:13        2016             6               0   \n",
       "      70  2016-06-07 22:32:32        2016             6               1   \n",
       "      93  2016-03-31 11:33:30        2016             3               3   \n",
       "      98  2016-03-30 16:14:29        2016             3               2   \n",
       "      102 2016-02-19 20:01:24        2016             2               4   \n",
       "\n",
       "           pickup_day  pickup_hour  pickup_minute  starting_street_tf  \n",
       "train 18           27            9             55                 nan  \n",
       "      70            7           22             32                 nan  \n",
       "      93           31           11             33                 nan  \n",
       "      98           30           16             14                 nan  \n",
       "      102          19           20              1                 nan  \n",
       "\n",
       "[5 rows x 21 columns]"
      ]
     },
     "execution_count": 37,
     "metadata": {},
     "output_type": "execute_result"
    }
   ],
   "source": [
    "data[data[col].isnull()][:5]"
   ]
  },
  {
   "cell_type": "markdown",
   "metadata": {},
   "source": [
    "### end_street"
   ]
  },
  {
   "cell_type": "code",
   "execution_count": 38,
   "metadata": {
    "ExecuteTime": {
     "end_time": "2017-07-28T13:09:17.859796Z",
     "start_time": "2017-07-28T13:09:17.496476Z"
    }
   },
   "outputs": [
    {
     "name": "stdout",
     "output_type": "stream",
     "text": [
      "2043287\n"
     ]
    },
    {
     "data": {
      "text/html": [
       "<div>\n",
       "<style>\n",
       "    .dataframe thead tr:only-child th {\n",
       "        text-align: right;\n",
       "    }\n",
       "\n",
       "    .dataframe thead th {\n",
       "        text-align: left;\n",
       "    }\n",
       "\n",
       "    .dataframe tbody tr th {\n",
       "        vertical-align: top;\n",
       "    }\n",
       "</style>\n",
       "<table border=\"1\" class=\"dataframe\">\n",
       "  <thead>\n",
       "    <tr style=\"text-align: right;\">\n",
       "      <th></th>\n",
       "      <th></th>\n",
       "      <th>id</th>\n",
       "      <th>vendor_id</th>\n",
       "      <th>pickup_datetime</th>\n",
       "      <th>passenger_count</th>\n",
       "      <th>pickup_longitude</th>\n",
       "      <th>pickup_latitude</th>\n",
       "      <th>dropoff_longitude</th>\n",
       "      <th>dropoff_latitude</th>\n",
       "      <th>store_and_fwd_flag</th>\n",
       "      <th>total_distance</th>\n",
       "      <th>...</th>\n",
       "      <th>starting_street</th>\n",
       "      <th>end_street</th>\n",
       "      <th>datetime_obj</th>\n",
       "      <th>pickup_year</th>\n",
       "      <th>pickup_month</th>\n",
       "      <th>pickup_weekday</th>\n",
       "      <th>pickup_day</th>\n",
       "      <th>pickup_hour</th>\n",
       "      <th>pickup_minute</th>\n",
       "      <th>starting_street_tf</th>\n",
       "    </tr>\n",
       "  </thead>\n",
       "  <tbody>\n",
       "    <tr>\n",
       "      <th rowspan=\"5\" valign=\"top\">train</th>\n",
       "      <th>0</th>\n",
       "      <td>id2875421</td>\n",
       "      <td>2</td>\n",
       "      <td>2016-03-14 17:24:55</td>\n",
       "      <td>1</td>\n",
       "      <td>-73.9822</td>\n",
       "      <td>40.7679</td>\n",
       "      <td>-73.9646</td>\n",
       "      <td>40.7656</td>\n",
       "      <td>0</td>\n",
       "      <td>2,009.1000</td>\n",
       "      <td>...</td>\n",
       "      <td>Columbus Circle</td>\n",
       "      <td>East 65th Street</td>\n",
       "      <td>2016-03-14 17:24:55</td>\n",
       "      <td>2016</td>\n",
       "      <td>3</td>\n",
       "      <td>0</td>\n",
       "      <td>14</td>\n",
       "      <td>17</td>\n",
       "      <td>24</td>\n",
       "      <td>774.0000</td>\n",
       "    </tr>\n",
       "    <tr>\n",
       "      <th>1</th>\n",
       "      <td>id2377394</td>\n",
       "      <td>1</td>\n",
       "      <td>2016-06-12 00:43:35</td>\n",
       "      <td>1</td>\n",
       "      <td>-73.9804</td>\n",
       "      <td>40.7386</td>\n",
       "      <td>-73.9995</td>\n",
       "      <td>40.7312</td>\n",
       "      <td>0</td>\n",
       "      <td>2,513.2000</td>\n",
       "      <td>...</td>\n",
       "      <td>2nd Avenue</td>\n",
       "      <td>Washington Square West</td>\n",
       "      <td>2016-06-12 00:43:35</td>\n",
       "      <td>2016</td>\n",
       "      <td>6</td>\n",
       "      <td>6</td>\n",
       "      <td>12</td>\n",
       "      <td>0</td>\n",
       "      <td>43</td>\n",
       "      <td>166.0000</td>\n",
       "    </tr>\n",
       "    <tr>\n",
       "      <th>2</th>\n",
       "      <td>id3858529</td>\n",
       "      <td>2</td>\n",
       "      <td>2016-01-19 11:35:24</td>\n",
       "      <td>1</td>\n",
       "      <td>-73.9790</td>\n",
       "      <td>40.7639</td>\n",
       "      <td>-74.0053</td>\n",
       "      <td>40.7101</td>\n",
       "      <td>0</td>\n",
       "      <td>11,060.8000</td>\n",
       "      <td>...</td>\n",
       "      <td>West 56th Street</td>\n",
       "      <td>Beekman Street</td>\n",
       "      <td>2016-01-19 11:35:24</td>\n",
       "      <td>2016</td>\n",
       "      <td>1</td>\n",
       "      <td>1</td>\n",
       "      <td>19</td>\n",
       "      <td>11</td>\n",
       "      <td>35</td>\n",
       "      <td>2,613.0000</td>\n",
       "    </tr>\n",
       "    <tr>\n",
       "      <th>3</th>\n",
       "      <td>id3504673</td>\n",
       "      <td>2</td>\n",
       "      <td>2016-04-06 19:32:31</td>\n",
       "      <td>1</td>\n",
       "      <td>-74.0100</td>\n",
       "      <td>40.7200</td>\n",
       "      <td>-74.0123</td>\n",
       "      <td>40.7067</td>\n",
       "      <td>0</td>\n",
       "      <td>1,779.4000</td>\n",
       "      <td>...</td>\n",
       "      <td>Greenwich Street</td>\n",
       "      <td>Broadway</td>\n",
       "      <td>2016-04-06 19:32:31</td>\n",
       "      <td>2016</td>\n",
       "      <td>4</td>\n",
       "      <td>2</td>\n",
       "      <td>6</td>\n",
       "      <td>19</td>\n",
       "      <td>32</td>\n",
       "      <td>1,316.0000</td>\n",
       "    </tr>\n",
       "    <tr>\n",
       "      <th>4</th>\n",
       "      <td>id2181028</td>\n",
       "      <td>2</td>\n",
       "      <td>2016-03-26 13:30:55</td>\n",
       "      <td>1</td>\n",
       "      <td>-73.9731</td>\n",
       "      <td>40.7932</td>\n",
       "      <td>-73.9729</td>\n",
       "      <td>40.7825</td>\n",
       "      <td>0</td>\n",
       "      <td>1,614.9000</td>\n",
       "      <td>...</td>\n",
       "      <td>Broadway</td>\n",
       "      <td>West 81st Street</td>\n",
       "      <td>2016-03-26 13:30:55</td>\n",
       "      <td>2016</td>\n",
       "      <td>3</td>\n",
       "      <td>5</td>\n",
       "      <td>26</td>\n",
       "      <td>13</td>\n",
       "      <td>30</td>\n",
       "      <td>609.0000</td>\n",
       "    </tr>\n",
       "  </tbody>\n",
       "</table>\n",
       "<p>5 rows × 21 columns</p>\n",
       "</div>"
      ],
      "text/plain": [
       "                id  vendor_id      pickup_datetime  passenger_count  \\\n",
       "train 0  id2875421          2  2016-03-14 17:24:55                1   \n",
       "      1  id2377394          1  2016-06-12 00:43:35                1   \n",
       "      2  id3858529          2  2016-01-19 11:35:24                1   \n",
       "      3  id3504673          2  2016-04-06 19:32:31                1   \n",
       "      4  id2181028          2  2016-03-26 13:30:55                1   \n",
       "\n",
       "         pickup_longitude  pickup_latitude  dropoff_longitude  \\\n",
       "train 0          -73.9822          40.7679           -73.9646   \n",
       "      1          -73.9804          40.7386           -73.9995   \n",
       "      2          -73.9790          40.7639           -74.0053   \n",
       "      3          -74.0100          40.7200           -74.0123   \n",
       "      4          -73.9731          40.7932           -73.9729   \n",
       "\n",
       "         dropoff_latitude store_and_fwd_flag  total_distance  \\\n",
       "train 0           40.7656                  0      2,009.1000   \n",
       "      1           40.7312                  0      2,513.2000   \n",
       "      2           40.7101                  0     11,060.8000   \n",
       "      3           40.7067                  0      1,779.4000   \n",
       "      4           40.7825                  0      1,614.9000   \n",
       "\n",
       "                ...           starting_street              end_street  \\\n",
       "train 0         ...           Columbus Circle        East 65th Street   \n",
       "      1         ...                2nd Avenue  Washington Square West   \n",
       "      2         ...          West 56th Street          Beekman Street   \n",
       "      3         ...          Greenwich Street                Broadway   \n",
       "      4         ...                  Broadway        West 81st Street   \n",
       "\n",
       "               datetime_obj pickup_year  pickup_month  pickup_weekday  \\\n",
       "train 0 2016-03-14 17:24:55        2016             3               0   \n",
       "      1 2016-06-12 00:43:35        2016             6               6   \n",
       "      2 2016-01-19 11:35:24        2016             1               1   \n",
       "      3 2016-04-06 19:32:31        2016             4               2   \n",
       "      4 2016-03-26 13:30:55        2016             3               5   \n",
       "\n",
       "         pickup_day  pickup_hour  pickup_minute  starting_street_tf  \n",
       "train 0          14           17             24            774.0000  \n",
       "      1          12            0             43            166.0000  \n",
       "      2          19           11             35          2,613.0000  \n",
       "      3           6           19             32          1,316.0000  \n",
       "      4          26           13             30            609.0000  \n",
       "\n",
       "[5 rows x 21 columns]"
      ]
     },
     "execution_count": 38,
     "metadata": {},
     "output_type": "execute_result"
    }
   ],
   "source": [
    "col = 'end_street'\n",
    "data_not_null = data[data[col].notnull()]\n",
    "print(len(data_not_null))\n",
    "data_not_null[:5]"
   ]
  },
  {
   "cell_type": "code",
   "execution_count": 39,
   "metadata": {
    "ExecuteTime": {
     "end_time": "2017-07-28T13:09:20.931046Z",
     "start_time": "2017-07-28T13:09:17.861802Z"
    }
   },
   "outputs": [
    {
     "data": {
      "text/plain": [
       "array([2224, 5465, 1129, 1308, 5735], dtype=int64)"
      ]
     },
     "execution_count": 39,
     "metadata": {},
     "output_type": "execute_result"
    }
   ],
   "source": [
    "le = LabelEncoder()\n",
    "data_tf = le.fit_transform(data_not_null[col])\n",
    "data_tf[:5]"
   ]
  },
  {
   "cell_type": "code",
   "execution_count": 40,
   "metadata": {
    "ExecuteTime": {
     "end_time": "2017-07-28T13:09:21.363386Z",
     "start_time": "2017-07-28T13:09:20.931046Z"
    },
    "collapsed": true
   },
   "outputs": [],
   "source": [
    "col_tf = col + '_tf'\n",
    "data_not_null.loc[:,col_tf] = data_tf"
   ]
  },
  {
   "cell_type": "code",
   "execution_count": 41,
   "metadata": {
    "ExecuteTime": {
     "end_time": "2017-07-28T13:09:21.810926Z",
     "start_time": "2017-07-28T13:09:21.363386Z"
    },
    "collapsed": true
   },
   "outputs": [],
   "source": [
    "data[col_tf] = data_not_null[col_tf]"
   ]
  },
  {
   "cell_type": "code",
   "execution_count": 42,
   "metadata": {
    "ExecuteTime": {
     "end_time": "2017-07-28T13:09:22.088718Z",
     "start_time": "2017-07-28T13:09:21.812926Z"
    },
    "scrolled": true
   },
   "outputs": [
    {
     "data": {
      "text/html": [
       "<div>\n",
       "<style>\n",
       "    .dataframe thead tr:only-child th {\n",
       "        text-align: right;\n",
       "    }\n",
       "\n",
       "    .dataframe thead th {\n",
       "        text-align: left;\n",
       "    }\n",
       "\n",
       "    .dataframe tbody tr th {\n",
       "        vertical-align: top;\n",
       "    }\n",
       "</style>\n",
       "<table border=\"1\" class=\"dataframe\">\n",
       "  <thead>\n",
       "    <tr style=\"text-align: right;\">\n",
       "      <th></th>\n",
       "      <th></th>\n",
       "      <th>id</th>\n",
       "      <th>vendor_id</th>\n",
       "      <th>pickup_datetime</th>\n",
       "      <th>passenger_count</th>\n",
       "      <th>pickup_longitude</th>\n",
       "      <th>pickup_latitude</th>\n",
       "      <th>dropoff_longitude</th>\n",
       "      <th>dropoff_latitude</th>\n",
       "      <th>store_and_fwd_flag</th>\n",
       "      <th>total_distance</th>\n",
       "      <th>...</th>\n",
       "      <th>end_street</th>\n",
       "      <th>datetime_obj</th>\n",
       "      <th>pickup_year</th>\n",
       "      <th>pickup_month</th>\n",
       "      <th>pickup_weekday</th>\n",
       "      <th>pickup_day</th>\n",
       "      <th>pickup_hour</th>\n",
       "      <th>pickup_minute</th>\n",
       "      <th>starting_street_tf</th>\n",
       "      <th>end_street_tf</th>\n",
       "    </tr>\n",
       "  </thead>\n",
       "  <tbody>\n",
       "    <tr>\n",
       "      <th rowspan=\"5\" valign=\"top\">train</th>\n",
       "      <th>20</th>\n",
       "      <td>id2070428</td>\n",
       "      <td>1</td>\n",
       "      <td>2016-02-28 02:23:02</td>\n",
       "      <td>1</td>\n",
       "      <td>-73.9804</td>\n",
       "      <td>40.7424</td>\n",
       "      <td>-73.9629</td>\n",
       "      <td>40.7606</td>\n",
       "      <td>0</td>\n",
       "      <td>7,355.4000</td>\n",
       "      <td>...</td>\n",
       "      <td>NaN</td>\n",
       "      <td>2016-02-28 02:23:02</td>\n",
       "      <td>2016</td>\n",
       "      <td>2</td>\n",
       "      <td>6</td>\n",
       "      <td>28</td>\n",
       "      <td>2</td>\n",
       "      <td>23</td>\n",
       "      <td>201.0000</td>\n",
       "      <td>nan</td>\n",
       "    </tr>\n",
       "    <tr>\n",
       "      <th>25</th>\n",
       "      <td>id0129640</td>\n",
       "      <td>2</td>\n",
       "      <td>2016-02-14 13:27:56</td>\n",
       "      <td>1</td>\n",
       "      <td>-73.9566</td>\n",
       "      <td>40.7714</td>\n",
       "      <td>-73.9750</td>\n",
       "      <td>40.7328</td>\n",
       "      <td>0</td>\n",
       "      <td>5,296.1000</td>\n",
       "      <td>...</td>\n",
       "      <td>NaN</td>\n",
       "      <td>2016-02-14 13:27:56</td>\n",
       "      <td>2016</td>\n",
       "      <td>2</td>\n",
       "      <td>6</td>\n",
       "      <td>14</td>\n",
       "      <td>13</td>\n",
       "      <td>27</td>\n",
       "      <td>166.0000</td>\n",
       "      <td>nan</td>\n",
       "    </tr>\n",
       "    <tr>\n",
       "      <th>94</th>\n",
       "      <td>id3770790</td>\n",
       "      <td>1</td>\n",
       "      <td>2016-02-13 13:12:49</td>\n",
       "      <td>1</td>\n",
       "      <td>-73.9922</td>\n",
       "      <td>40.7443</td>\n",
       "      <td>-74.0082</td>\n",
       "      <td>40.7488</td>\n",
       "      <td>0</td>\n",
       "      <td>1,788.7000</td>\n",
       "      <td>...</td>\n",
       "      <td>NaN</td>\n",
       "      <td>2016-02-13 13:12:49</td>\n",
       "      <td>2016</td>\n",
       "      <td>2</td>\n",
       "      <td>5</td>\n",
       "      <td>13</td>\n",
       "      <td>13</td>\n",
       "      <td>12</td>\n",
       "      <td>2,579.0000</td>\n",
       "      <td>nan</td>\n",
       "    </tr>\n",
       "    <tr>\n",
       "      <th>109</th>\n",
       "      <td>id3962434</td>\n",
       "      <td>2</td>\n",
       "      <td>2016-01-10 08:45:31</td>\n",
       "      <td>2</td>\n",
       "      <td>-73.9893</td>\n",
       "      <td>40.7565</td>\n",
       "      <td>-74.0028</td>\n",
       "      <td>40.7605</td>\n",
       "      <td>0</td>\n",
       "      <td>1,496.5000</td>\n",
       "      <td>...</td>\n",
       "      <td>NaN</td>\n",
       "      <td>2016-01-10 08:45:31</td>\n",
       "      <td>2016</td>\n",
       "      <td>1</td>\n",
       "      <td>6</td>\n",
       "      <td>10</td>\n",
       "      <td>8</td>\n",
       "      <td>45</td>\n",
       "      <td>2,597.0000</td>\n",
       "      <td>nan</td>\n",
       "    </tr>\n",
       "    <tr>\n",
       "      <th>137</th>\n",
       "      <td>id0659170</td>\n",
       "      <td>2</td>\n",
       "      <td>2016-03-26 13:07:08</td>\n",
       "      <td>1</td>\n",
       "      <td>-73.9687</td>\n",
       "      <td>40.7645</td>\n",
       "      <td>-73.8728</td>\n",
       "      <td>40.7715</td>\n",
       "      <td>0</td>\n",
       "      <td>10,240.6000</td>\n",
       "      <td>...</td>\n",
       "      <td>NaN</td>\n",
       "      <td>2016-03-26 13:07:08</td>\n",
       "      <td>2016</td>\n",
       "      <td>3</td>\n",
       "      <td>5</td>\n",
       "      <td>26</td>\n",
       "      <td>13</td>\n",
       "      <td>7</td>\n",
       "      <td>1,905.0000</td>\n",
       "      <td>nan</td>\n",
       "    </tr>\n",
       "  </tbody>\n",
       "</table>\n",
       "<p>5 rows × 22 columns</p>\n",
       "</div>"
      ],
      "text/plain": [
       "                  id  vendor_id      pickup_datetime  passenger_count  \\\n",
       "train 20   id2070428          1  2016-02-28 02:23:02                1   \n",
       "      25   id0129640          2  2016-02-14 13:27:56                1   \n",
       "      94   id3770790          1  2016-02-13 13:12:49                1   \n",
       "      109  id3962434          2  2016-01-10 08:45:31                2   \n",
       "      137  id0659170          2  2016-03-26 13:07:08                1   \n",
       "\n",
       "           pickup_longitude  pickup_latitude  dropoff_longitude  \\\n",
       "train 20           -73.9804          40.7424           -73.9629   \n",
       "      25           -73.9566          40.7714           -73.9750   \n",
       "      94           -73.9922          40.7443           -74.0082   \n",
       "      109          -73.9893          40.7565           -74.0028   \n",
       "      137          -73.9687          40.7645           -73.8728   \n",
       "\n",
       "           dropoff_latitude store_and_fwd_flag  total_distance      ...        \\\n",
       "train 20            40.7606                  0      7,355.4000      ...         \n",
       "      25            40.7328                  0      5,296.1000      ...         \n",
       "      94            40.7488                  0      1,788.7000      ...         \n",
       "      109           40.7605                  0      1,496.5000      ...         \n",
       "      137           40.7715                  0     10,240.6000      ...         \n",
       "\n",
       "           end_street        datetime_obj pickup_year pickup_month  \\\n",
       "train 20          NaN 2016-02-28 02:23:02        2016            2   \n",
       "      25          NaN 2016-02-14 13:27:56        2016            2   \n",
       "      94          NaN 2016-02-13 13:12:49        2016            2   \n",
       "      109         NaN 2016-01-10 08:45:31        2016            1   \n",
       "      137         NaN 2016-03-26 13:07:08        2016            3   \n",
       "\n",
       "           pickup_weekday  pickup_day  pickup_hour  pickup_minute  \\\n",
       "train 20                6          28            2             23   \n",
       "      25                6          14           13             27   \n",
       "      94                5          13           13             12   \n",
       "      109               6          10            8             45   \n",
       "      137               5          26           13              7   \n",
       "\n",
       "           starting_street_tf  end_street_tf  \n",
       "train 20             201.0000            nan  \n",
       "      25             166.0000            nan  \n",
       "      94           2,579.0000            nan  \n",
       "      109          2,597.0000            nan  \n",
       "      137          1,905.0000            nan  \n",
       "\n",
       "[5 rows x 22 columns]"
      ]
     },
     "execution_count": 42,
     "metadata": {},
     "output_type": "execute_result"
    }
   ],
   "source": [
    "data[data[col].isnull()][:5]"
   ]
  },
  {
   "cell_type": "markdown",
   "metadata": {},
   "source": [
    "### Drop unused cols"
   ]
  },
  {
   "cell_type": "code",
   "execution_count": 43,
   "metadata": {
    "ExecuteTime": {
     "end_time": "2017-07-28T13:09:22.930922Z",
     "start_time": "2017-07-28T13:09:22.088718Z"
    },
    "collapsed": true
   },
   "outputs": [],
   "source": [
    "# Drop pickup_datetime\n",
    "data.drop('pickup_datetime', axis=1, inplace=True)\n",
    "data.drop('datetime_obj', axis=1, inplace=True)\n",
    "data.drop('starting_street', axis=1, inplace=True)\n",
    "data.drop('end_street', axis=1, inplace=True)"
   ]
  },
  {
   "cell_type": "markdown",
   "metadata": {},
   "source": [
    "## Feature engineering"
   ]
  },
  {
   "cell_type": "code",
   "execution_count": 44,
   "metadata": {
    "ExecuteTime": {
     "end_time": "2017-07-28T13:09:22.946432Z",
     "start_time": "2017-07-28T13:09:22.932924Z"
    },
    "collapsed": true
   },
   "outputs": [],
   "source": [
    "combine_data_tf = data"
   ]
  },
  {
   "cell_type": "markdown",
   "metadata": {},
   "source": [
    "### Distance between pickup and dropoff"
   ]
  },
  {
   "cell_type": "raw",
   "metadata": {
    "ExecuteTime": {
     "end_time": "2017-07-23T11:26:39.686748Z",
     "start_time": "2017-07-23T11:22:26.446325Z"
    },
    "collapsed": true
   },
   "source": [
    "# credit: https://www.kaggle.com/ankasor/driving-distance-using-open-street-maps-data/notebook\n",
    "# Settings for Streetnetwork-Download\n",
    "STREETGRAPH_FILENAME = 'streetnetwork.graphml'\n",
    "FORCE_CREATE = False\n",
    "# This Checks if the Streetnetwork File exists (or creation is overwritten\n",
    "# using FORCE_CREATE)\n",
    "if (not os.path.isfile(\".//data//\"+STREETGRAPH_FILENAME) )or FORCE_CREATE:\n",
    "    #There are many different ways to create the Network Graph. See the osmnx documentation for details\n",
    "    area_graph = ox.graph_from_place('New York, USA', network_type='drive_service')\n",
    "    ox.save_graphml(area_graph, filename=STREETGRAPH_FILENAME)\n",
    "else:\n",
    "    area_graph = ox.load_graphml(STREETGRAPH_FILENAME)"
   ]
  },
  {
   "cell_type": "code",
   "execution_count": 45,
   "metadata": {
    "ExecuteTime": {
     "end_time": "2017-07-28T13:09:23.031455Z",
     "start_time": "2017-07-28T13:09:22.947934Z"
    },
    "collapsed": true
   },
   "outputs": [],
   "source": [
    "geod = Geodesic.WGS84  # define the WGS84 ellipsoid\n",
    "\n",
    "\n",
    "def point_distance(startpoint, endpoint):\n",
    "    distance = geod.Inverse(\n",
    "        startpoint[0], startpoint[1], endpoint[0], endpoint[1])\n",
    "    return distance['s12']"
   ]
  },
  {
   "cell_type": "code",
   "execution_count": 46,
   "metadata": {
    "ExecuteTime": {
     "end_time": "2017-07-28T13:09:23.162971Z",
     "start_time": "2017-07-28T13:09:23.031455Z"
    },
    "collapsed": true
   },
   "outputs": [],
   "source": [
    "def driving_distance(area_graph, startpoint, endpoint):\n",
    "    \"\"\"\n",
    "    Calculates the driving distance along an osmnx street network between two coordinate-points.\n",
    "    The Driving distance is calculated from the closest nodes to the coordinate points.\n",
    "    This can lead to problems if the coordinates fall outside the area encompassed by the network.\n",
    "\n",
    "    Arguments:\n",
    "    area_graph -- An osmnx street network\n",
    "    startpoint -- The Starting point as coordinate Tuple\n",
    "    endpoint -- The Ending point as coordinate Tuple\n",
    "    \"\"\"\n",
    "\n",
    "    # Find nodes closest to the specified Coordinates\n",
    "    node_start = ox.utils.get_nearest_node(area_graph, startpoint)\n",
    "    node_stop = ox.utils.get_nearest_node(area_graph, endpoint)\n",
    "    #print(\"node_start:\", node_start, \" node_stop:\", node_stop)\n",
    "    # Calculate the shortest network distance between the nodes via the edges\n",
    "    # \"length\" attribute\n",
    "    try:\n",
    "        distance = nx.shortest_path_length(\n",
    "            area_graph, node_start, node_stop, weight=\"length\")\n",
    "    except:\n",
    "        print(\"Can not calculate path from \", startpoint,\n",
    "              \" to \", endpoint, \". Using backup function\")\n",
    "        distance = point_distance(startpoint, endpoint)\n",
    "\n",
    "    return distance"
   ]
  },
  {
   "cell_type": "code",
   "execution_count": 47,
   "metadata": {
    "ExecuteTime": {
     "end_time": "2017-07-28T13:09:23.316630Z",
     "start_time": "2017-07-28T13:09:23.164978Z"
    },
    "collapsed": true
   },
   "outputs": [],
   "source": [
    "# credit to: https://stackoverflow.com/questions/15736995/how-can-i-quickly-estimate-the-distance-between-two-latitude-longitude-points\n",
    "def haversine(lon1, lat1, lon2, lat2):\n",
    "    \"\"\"\n",
    "    Calculate the great circle distance between two points \n",
    "    on the earth (specified in decimal degrees)\n",
    "    \"\"\"\n",
    "    # convert decimal degrees to radians \n",
    "    lon1, lat1, lon2, lat2 = map(radians, [lon1, lat1, lon2, lat2])\n",
    "    # haversine formula \n",
    "    dlon = lon2 - lon1 \n",
    "    dlat = lat2 - lat1 \n",
    "    a = sin(dlat/2)**2 + cos(lat1) * cos(lat2) * sin(dlon/2)**2\n",
    "    c = 2 * asin(sqrt(a)) \n",
    "    km = 6367 * c\n",
    "    return km"
   ]
  },
  {
   "cell_type": "raw",
   "metadata": {
    "ExecuteTime": {
     "end_time": "2017-07-23T11:56:54.693946Z",
     "start_time": "2017-07-23T11:56:54.104555Z"
    }
   },
   "source": [
    "# Usage example:\n",
    "row = combine_data_tf.ix[115]\n",
    "# Coordinates of the first drive in the train dataset\n",
    "startpoint = (row['pickup_latitude'], row['pickup_longitude'])\n",
    "endpoint = (row['dropoff_latitude'], row['dropoff_longitude'])\n",
    "#startpoint = (40.797779, -73.969276)\n",
    "#endpoint = (40.760559, -73.922470)\n",
    "#startpoint = (40.767937, -73.982155)\n",
    "#endpoint = (40.765602, -73.964630)\n",
    "print(driving_distance(area_graph, startpoint, endpoint))"
   ]
  },
  {
   "cell_type": "code",
   "execution_count": 48,
   "metadata": {
    "ExecuteTime": {
     "end_time": "2017-07-28T13:13:41.978381Z",
     "start_time": "2017-07-28T13:09:23.316630Z"
    },
    "scrolled": true
   },
   "outputs": [
    {
     "data": {
      "text/html": [
       "<div>\n",
       "<style>\n",
       "    .dataframe thead tr:only-child th {\n",
       "        text-align: right;\n",
       "    }\n",
       "\n",
       "    .dataframe thead th {\n",
       "        text-align: left;\n",
       "    }\n",
       "\n",
       "    .dataframe tbody tr th {\n",
       "        vertical-align: top;\n",
       "    }\n",
       "</style>\n",
       "<table border=\"1\" class=\"dataframe\">\n",
       "  <thead>\n",
       "    <tr style=\"text-align: right;\">\n",
       "      <th></th>\n",
       "      <th></th>\n",
       "      <th>id</th>\n",
       "      <th>vendor_id</th>\n",
       "      <th>passenger_count</th>\n",
       "      <th>pickup_longitude</th>\n",
       "      <th>pickup_latitude</th>\n",
       "      <th>dropoff_longitude</th>\n",
       "      <th>dropoff_latitude</th>\n",
       "      <th>store_and_fwd_flag</th>\n",
       "      <th>total_distance</th>\n",
       "      <th>number_of_streets</th>\n",
       "      <th>pickup_year</th>\n",
       "      <th>pickup_month</th>\n",
       "      <th>pickup_weekday</th>\n",
       "      <th>pickup_day</th>\n",
       "      <th>pickup_hour</th>\n",
       "      <th>pickup_minute</th>\n",
       "      <th>starting_street_tf</th>\n",
       "      <th>end_street_tf</th>\n",
       "      <th>haversine_distance</th>\n",
       "    </tr>\n",
       "  </thead>\n",
       "  <tbody>\n",
       "    <tr>\n",
       "      <th rowspan=\"5\" valign=\"top\">train</th>\n",
       "      <th>0</th>\n",
       "      <td>id2875421</td>\n",
       "      <td>2</td>\n",
       "      <td>1</td>\n",
       "      <td>-73.9822</td>\n",
       "      <td>40.7679</td>\n",
       "      <td>-73.9646</td>\n",
       "      <td>40.7656</td>\n",
       "      <td>0</td>\n",
       "      <td>2,009.1000</td>\n",
       "      <td>5.0000</td>\n",
       "      <td>2016</td>\n",
       "      <td>3</td>\n",
       "      <td>0</td>\n",
       "      <td>14</td>\n",
       "      <td>17</td>\n",
       "      <td>24</td>\n",
       "      <td>774.0000</td>\n",
       "      <td>2,224.0000</td>\n",
       "      <td>1.9488</td>\n",
       "    </tr>\n",
       "    <tr>\n",
       "      <th>1</th>\n",
       "      <td>id2377394</td>\n",
       "      <td>1</td>\n",
       "      <td>1</td>\n",
       "      <td>-73.9804</td>\n",
       "      <td>40.7386</td>\n",
       "      <td>-73.9995</td>\n",
       "      <td>40.7312</td>\n",
       "      <td>0</td>\n",
       "      <td>2,513.2000</td>\n",
       "      <td>6.0000</td>\n",
       "      <td>2016</td>\n",
       "      <td>6</td>\n",
       "      <td>6</td>\n",
       "      <td>12</td>\n",
       "      <td>0</td>\n",
       "      <td>43</td>\n",
       "      <td>166.0000</td>\n",
       "      <td>5,465.0000</td>\n",
       "      <td>2.1308</td>\n",
       "    </tr>\n",
       "    <tr>\n",
       "      <th>2</th>\n",
       "      <td>id3858529</td>\n",
       "      <td>2</td>\n",
       "      <td>1</td>\n",
       "      <td>-73.9790</td>\n",
       "      <td>40.7639</td>\n",
       "      <td>-74.0053</td>\n",
       "      <td>40.7101</td>\n",
       "      <td>0</td>\n",
       "      <td>11,060.8000</td>\n",
       "      <td>16.0000</td>\n",
       "      <td>2016</td>\n",
       "      <td>1</td>\n",
       "      <td>1</td>\n",
       "      <td>19</td>\n",
       "      <td>11</td>\n",
       "      <td>35</td>\n",
       "      <td>2,613.0000</td>\n",
       "      <td>1,129.0000</td>\n",
       "      <td>3.3569</td>\n",
       "    </tr>\n",
       "    <tr>\n",
       "      <th>3</th>\n",
       "      <td>id3504673</td>\n",
       "      <td>2</td>\n",
       "      <td>1</td>\n",
       "      <td>-74.0100</td>\n",
       "      <td>40.7200</td>\n",
       "      <td>-74.0123</td>\n",
       "      <td>40.7067</td>\n",
       "      <td>0</td>\n",
       "      <td>1,779.4000</td>\n",
       "      <td>4.0000</td>\n",
       "      <td>2016</td>\n",
       "      <td>4</td>\n",
       "      <td>2</td>\n",
       "      <td>6</td>\n",
       "      <td>19</td>\n",
       "      <td>32</td>\n",
       "      <td>1,316.0000</td>\n",
       "      <td>1,308.0000</td>\n",
       "      <td>0.4752</td>\n",
       "    </tr>\n",
       "    <tr>\n",
       "      <th>4</th>\n",
       "      <td>id2181028</td>\n",
       "      <td>2</td>\n",
       "      <td>1</td>\n",
       "      <td>-73.9731</td>\n",
       "      <td>40.7932</td>\n",
       "      <td>-73.9729</td>\n",
       "      <td>40.7825</td>\n",
       "      <td>0</td>\n",
       "      <td>1,614.9000</td>\n",
       "      <td>5.0000</td>\n",
       "      <td>2016</td>\n",
       "      <td>3</td>\n",
       "      <td>5</td>\n",
       "      <td>26</td>\n",
       "      <td>13</td>\n",
       "      <td>30</td>\n",
       "      <td>609.0000</td>\n",
       "      <td>5,735.0000</td>\n",
       "      <td>0.3283</td>\n",
       "    </tr>\n",
       "  </tbody>\n",
       "</table>\n",
       "</div>"
      ],
      "text/plain": [
       "                id  vendor_id  passenger_count  pickup_longitude  \\\n",
       "train 0  id2875421          2                1          -73.9822   \n",
       "      1  id2377394          1                1          -73.9804   \n",
       "      2  id3858529          2                1          -73.9790   \n",
       "      3  id3504673          2                1          -74.0100   \n",
       "      4  id2181028          2                1          -73.9731   \n",
       "\n",
       "         pickup_latitude  dropoff_longitude  dropoff_latitude  \\\n",
       "train 0          40.7679           -73.9646           40.7656   \n",
       "      1          40.7386           -73.9995           40.7312   \n",
       "      2          40.7639           -74.0053           40.7101   \n",
       "      3          40.7200           -74.0123           40.7067   \n",
       "      4          40.7932           -73.9729           40.7825   \n",
       "\n",
       "        store_and_fwd_flag  total_distance  number_of_streets  pickup_year  \\\n",
       "train 0                  0      2,009.1000             5.0000         2016   \n",
       "      1                  0      2,513.2000             6.0000         2016   \n",
       "      2                  0     11,060.8000            16.0000         2016   \n",
       "      3                  0      1,779.4000             4.0000         2016   \n",
       "      4                  0      1,614.9000             5.0000         2016   \n",
       "\n",
       "         pickup_month  pickup_weekday  pickup_day  pickup_hour  pickup_minute  \\\n",
       "train 0             3               0          14           17             24   \n",
       "      1             6               6          12            0             43   \n",
       "      2             1               1          19           11             35   \n",
       "      3             4               2           6           19             32   \n",
       "      4             3               5          26           13             30   \n",
       "\n",
       "         starting_street_tf  end_street_tf  haversine_distance  \n",
       "train 0            774.0000     2,224.0000              1.9488  \n",
       "      1            166.0000     5,465.0000              2.1308  \n",
       "      2          2,613.0000     1,129.0000              3.3569  \n",
       "      3          1,316.0000     1,308.0000              0.4752  \n",
       "      4            609.0000     5,735.0000              0.3283  "
      ]
     },
     "execution_count": 48,
     "metadata": {},
     "output_type": "execute_result"
    }
   ],
   "source": [
    "data = combine_data_tf\n",
    "data['haversine_distance'] = combine_data_tf.apply(lambda row: haversine(row['pickup_latitude'], row['pickup_longitude'], row['dropoff_latitude'], row['dropoff_longitude']), axis=1)\n",
    "combine_data_tf[:5]"
   ]
  },
  {
   "cell_type": "markdown",
   "metadata": {},
   "source": [
    "### total_distance"
   ]
  },
  {
   "cell_type": "markdown",
   "metadata": {},
   "source": [
    "#### check for haversine_distance=0"
   ]
  },
  {
   "cell_type": "code",
   "execution_count": 49,
   "metadata": {
    "ExecuteTime": {
     "end_time": "2017-07-28T13:13:42.172298Z",
     "start_time": "2017-07-28T13:13:41.978381Z"
    }
   },
   "outputs": [
    {
     "name": "stdout",
     "output_type": "stream",
     "text": [
      "8372\n"
     ]
    },
    {
     "data": {
      "text/html": [
       "<div>\n",
       "<style>\n",
       "    .dataframe thead tr:only-child th {\n",
       "        text-align: right;\n",
       "    }\n",
       "\n",
       "    .dataframe thead th {\n",
       "        text-align: left;\n",
       "    }\n",
       "\n",
       "    .dataframe tbody tr th {\n",
       "        vertical-align: top;\n",
       "    }\n",
       "</style>\n",
       "<table border=\"1\" class=\"dataframe\">\n",
       "  <thead>\n",
       "    <tr style=\"text-align: right;\">\n",
       "      <th></th>\n",
       "      <th></th>\n",
       "      <th>id</th>\n",
       "      <th>vendor_id</th>\n",
       "      <th>passenger_count</th>\n",
       "      <th>pickup_longitude</th>\n",
       "      <th>pickup_latitude</th>\n",
       "      <th>dropoff_longitude</th>\n",
       "      <th>dropoff_latitude</th>\n",
       "      <th>store_and_fwd_flag</th>\n",
       "      <th>total_distance</th>\n",
       "      <th>number_of_streets</th>\n",
       "      <th>pickup_year</th>\n",
       "      <th>pickup_month</th>\n",
       "      <th>pickup_weekday</th>\n",
       "      <th>pickup_day</th>\n",
       "      <th>pickup_hour</th>\n",
       "      <th>pickup_minute</th>\n",
       "      <th>starting_street_tf</th>\n",
       "      <th>end_street_tf</th>\n",
       "      <th>haversine_distance</th>\n",
       "    </tr>\n",
       "  </thead>\n",
       "  <tbody>\n",
       "    <tr>\n",
       "      <th rowspan=\"5\" valign=\"top\">train</th>\n",
       "      <th>246</th>\n",
       "      <td>id3487442</td>\n",
       "      <td>2</td>\n",
       "      <td>1</td>\n",
       "      <td>-73.9818</td>\n",
       "      <td>40.7690</td>\n",
       "      <td>-73.9818</td>\n",
       "      <td>40.7690</td>\n",
       "      <td>0</td>\n",
       "      <td>0.0000</td>\n",
       "      <td>2.0000</td>\n",
       "      <td>2016</td>\n",
       "      <td>2</td>\n",
       "      <td>0</td>\n",
       "      <td>29</td>\n",
       "      <td>18</td>\n",
       "      <td>39</td>\n",
       "      <td>609.0000</td>\n",
       "      <td>1,308.0000</td>\n",
       "      <td>0.0000</td>\n",
       "    </tr>\n",
       "    <tr>\n",
       "      <th>291</th>\n",
       "      <td>id0924324</td>\n",
       "      <td>2</td>\n",
       "      <td>2</td>\n",
       "      <td>-73.9591</td>\n",
       "      <td>40.7757</td>\n",
       "      <td>-73.9591</td>\n",
       "      <td>40.7757</td>\n",
       "      <td>0</td>\n",
       "      <td>0.0000</td>\n",
       "      <td>2.0000</td>\n",
       "      <td>2016</td>\n",
       "      <td>5</td>\n",
       "      <td>1</td>\n",
       "      <td>10</td>\n",
       "      <td>18</td>\n",
       "      <td>7</td>\n",
       "      <td>1,074.0000</td>\n",
       "      <td>2,241.0000</td>\n",
       "      <td>0.0000</td>\n",
       "    </tr>\n",
       "    <tr>\n",
       "      <th>407</th>\n",
       "      <td>id1145809</td>\n",
       "      <td>2</td>\n",
       "      <td>6</td>\n",
       "      <td>-73.8085</td>\n",
       "      <td>40.6873</td>\n",
       "      <td>-73.8085</td>\n",
       "      <td>40.6873</td>\n",
       "      <td>0</td>\n",
       "      <td>0.0000</td>\n",
       "      <td>2.0000</td>\n",
       "      <td>2016</td>\n",
       "      <td>5</td>\n",
       "      <td>0</td>\n",
       "      <td>16</td>\n",
       "      <td>23</td>\n",
       "      <td>15</td>\n",
       "      <td>2,386.0000</td>\n",
       "      <td>5,360.0000</td>\n",
       "      <td>0.0000</td>\n",
       "    </tr>\n",
       "    <tr>\n",
       "      <th>702</th>\n",
       "      <td>id3499387</td>\n",
       "      <td>1</td>\n",
       "      <td>1</td>\n",
       "      <td>-73.7867</td>\n",
       "      <td>40.6470</td>\n",
       "      <td>-73.7867</td>\n",
       "      <td>40.6470</td>\n",
       "      <td>0</td>\n",
       "      <td>0.0000</td>\n",
       "      <td>2.0000</td>\n",
       "      <td>2016</td>\n",
       "      <td>1</td>\n",
       "      <td>0</td>\n",
       "      <td>25</td>\n",
       "      <td>19</td>\n",
       "      <td>45</td>\n",
       "      <td>nan</td>\n",
       "      <td>nan</td>\n",
       "      <td>0.0000</td>\n",
       "    </tr>\n",
       "    <tr>\n",
       "      <th>1620</th>\n",
       "      <td>id0753277</td>\n",
       "      <td>1</td>\n",
       "      <td>1</td>\n",
       "      <td>-74.2099</td>\n",
       "      <td>40.8169</td>\n",
       "      <td>-74.2099</td>\n",
       "      <td>40.8169</td>\n",
       "      <td>0</td>\n",
       "      <td>0.0000</td>\n",
       "      <td>2.0000</td>\n",
       "      <td>2016</td>\n",
       "      <td>1</td>\n",
       "      <td>2</td>\n",
       "      <td>27</td>\n",
       "      <td>22</td>\n",
       "      <td>29</td>\n",
       "      <td>nan</td>\n",
       "      <td>nan</td>\n",
       "      <td>0.0000</td>\n",
       "    </tr>\n",
       "  </tbody>\n",
       "</table>\n",
       "</div>"
      ],
      "text/plain": [
       "                   id  vendor_id  passenger_count  pickup_longitude  \\\n",
       "train 246   id3487442          2                1          -73.9818   \n",
       "      291   id0924324          2                2          -73.9591   \n",
       "      407   id1145809          2                6          -73.8085   \n",
       "      702   id3499387          1                1          -73.7867   \n",
       "      1620  id0753277          1                1          -74.2099   \n",
       "\n",
       "            pickup_latitude  dropoff_longitude  dropoff_latitude  \\\n",
       "train 246           40.7690           -73.9818           40.7690   \n",
       "      291           40.7757           -73.9591           40.7757   \n",
       "      407           40.6873           -73.8085           40.6873   \n",
       "      702           40.6470           -73.7867           40.6470   \n",
       "      1620          40.8169           -74.2099           40.8169   \n",
       "\n",
       "           store_and_fwd_flag  total_distance  number_of_streets  pickup_year  \\\n",
       "train 246                   0          0.0000             2.0000         2016   \n",
       "      291                   0          0.0000             2.0000         2016   \n",
       "      407                   0          0.0000             2.0000         2016   \n",
       "      702                   0          0.0000             2.0000         2016   \n",
       "      1620                  0          0.0000             2.0000         2016   \n",
       "\n",
       "            pickup_month  pickup_weekday  pickup_day  pickup_hour  \\\n",
       "train 246              2               0          29           18   \n",
       "      291              5               1          10           18   \n",
       "      407              5               0          16           23   \n",
       "      702              1               0          25           19   \n",
       "      1620             1               2          27           22   \n",
       "\n",
       "            pickup_minute  starting_street_tf  end_street_tf  \\\n",
       "train 246              39            609.0000     1,308.0000   \n",
       "      291               7          1,074.0000     2,241.0000   \n",
       "      407              15          2,386.0000     5,360.0000   \n",
       "      702              45                 nan            nan   \n",
       "      1620             29                 nan            nan   \n",
       "\n",
       "            haversine_distance  \n",
       "train 246               0.0000  \n",
       "      291               0.0000  \n",
       "      407               0.0000  \n",
       "      702               0.0000  \n",
       "      1620              0.0000  "
      ]
     },
     "execution_count": 49,
     "metadata": {},
     "output_type": "execute_result"
    }
   ],
   "source": [
    "col1 = 'haversine_distance'\n",
    "col = 'total_distance'\n",
    "data = combine_data_tf\n",
    "data_zero = data[data[col1]==0]\n",
    "print(len(data_zero))\n",
    "data_zero[:5]"
   ]
  },
  {
   "cell_type": "code",
   "execution_count": 50,
   "metadata": {
    "ExecuteTime": {
     "end_time": "2017-07-28T13:13:42.399048Z",
     "start_time": "2017-07-28T13:13:42.173799Z"
    },
    "collapsed": true
   },
   "outputs": [],
   "source": [
    "data.loc[data[col1]==0, col] = 0\n",
    "data.loc[data[col1]==0, 'number_of_streets'] = 0"
   ]
  },
  {
   "cell_type": "code",
   "execution_count": 51,
   "metadata": {
    "ExecuteTime": {
     "end_time": "2017-07-28T13:13:42.430300Z",
     "start_time": "2017-07-28T13:13:42.399048Z"
    }
   },
   "outputs": [
    {
     "name": "stdout",
     "output_type": "stream",
     "text": [
      "0\n"
     ]
    }
   ],
   "source": [
    "data_zero = data[(data[col]>0) & (data[col1]==0)]\n",
    "print(len(data_zero))"
   ]
  },
  {
   "cell_type": "markdown",
   "metadata": {},
   "source": [
    "####  check for total_distance=0 and haversine_distance=0"
   ]
  },
  {
   "cell_type": "code",
   "execution_count": 52,
   "metadata": {
    "ExecuteTime": {
     "end_time": "2017-07-28T13:13:42.800131Z",
     "start_time": "2017-07-28T13:13:42.430300Z"
    },
    "collapsed": true
   },
   "outputs": [],
   "source": [
    "train_set = data.loc['train']\n",
    "train_set[label] = target"
   ]
  },
  {
   "cell_type": "code",
   "execution_count": 53,
   "metadata": {
    "ExecuteTime": {
     "end_time": "2017-07-28T13:13:42.978538Z",
     "start_time": "2017-07-28T13:13:42.800131Z"
    }
   },
   "outputs": [
    {
     "data": {
      "text/html": [
       "<div>\n",
       "<style>\n",
       "    .dataframe thead tr:only-child th {\n",
       "        text-align: right;\n",
       "    }\n",
       "\n",
       "    .dataframe thead th {\n",
       "        text-align: left;\n",
       "    }\n",
       "\n",
       "    .dataframe tbody tr th {\n",
       "        vertical-align: top;\n",
       "    }\n",
       "</style>\n",
       "<table border=\"1\" class=\"dataframe\">\n",
       "  <thead>\n",
       "    <tr style=\"text-align: right;\">\n",
       "      <th></th>\n",
       "      <th>id</th>\n",
       "      <th>vendor_id</th>\n",
       "      <th>passenger_count</th>\n",
       "      <th>pickup_longitude</th>\n",
       "      <th>pickup_latitude</th>\n",
       "      <th>dropoff_longitude</th>\n",
       "      <th>dropoff_latitude</th>\n",
       "      <th>store_and_fwd_flag</th>\n",
       "      <th>total_distance</th>\n",
       "      <th>number_of_streets</th>\n",
       "      <th>pickup_year</th>\n",
       "      <th>pickup_month</th>\n",
       "      <th>pickup_weekday</th>\n",
       "      <th>pickup_day</th>\n",
       "      <th>pickup_hour</th>\n",
       "      <th>pickup_minute</th>\n",
       "      <th>starting_street_tf</th>\n",
       "      <th>end_street_tf</th>\n",
       "      <th>haversine_distance</th>\n",
       "      <th>trip_duration</th>\n",
       "    </tr>\n",
       "  </thead>\n",
       "  <tbody>\n",
       "    <tr>\n",
       "      <th>0</th>\n",
       "      <td>id2875421</td>\n",
       "      <td>2</td>\n",
       "      <td>1</td>\n",
       "      <td>-73.9822</td>\n",
       "      <td>40.7679</td>\n",
       "      <td>-73.9646</td>\n",
       "      <td>40.7656</td>\n",
       "      <td>0</td>\n",
       "      <td>2,009.1000</td>\n",
       "      <td>5.0000</td>\n",
       "      <td>2016</td>\n",
       "      <td>3</td>\n",
       "      <td>0</td>\n",
       "      <td>14</td>\n",
       "      <td>17</td>\n",
       "      <td>24</td>\n",
       "      <td>774.0000</td>\n",
       "      <td>2,224.0000</td>\n",
       "      <td>1.9488</td>\n",
       "      <td>455</td>\n",
       "    </tr>\n",
       "    <tr>\n",
       "      <th>1</th>\n",
       "      <td>id2377394</td>\n",
       "      <td>1</td>\n",
       "      <td>1</td>\n",
       "      <td>-73.9804</td>\n",
       "      <td>40.7386</td>\n",
       "      <td>-73.9995</td>\n",
       "      <td>40.7312</td>\n",
       "      <td>0</td>\n",
       "      <td>2,513.2000</td>\n",
       "      <td>6.0000</td>\n",
       "      <td>2016</td>\n",
       "      <td>6</td>\n",
       "      <td>6</td>\n",
       "      <td>12</td>\n",
       "      <td>0</td>\n",
       "      <td>43</td>\n",
       "      <td>166.0000</td>\n",
       "      <td>5,465.0000</td>\n",
       "      <td>2.1308</td>\n",
       "      <td>663</td>\n",
       "    </tr>\n",
       "    <tr>\n",
       "      <th>2</th>\n",
       "      <td>id3858529</td>\n",
       "      <td>2</td>\n",
       "      <td>1</td>\n",
       "      <td>-73.9790</td>\n",
       "      <td>40.7639</td>\n",
       "      <td>-74.0053</td>\n",
       "      <td>40.7101</td>\n",
       "      <td>0</td>\n",
       "      <td>11,060.8000</td>\n",
       "      <td>16.0000</td>\n",
       "      <td>2016</td>\n",
       "      <td>1</td>\n",
       "      <td>1</td>\n",
       "      <td>19</td>\n",
       "      <td>11</td>\n",
       "      <td>35</td>\n",
       "      <td>2,613.0000</td>\n",
       "      <td>1,129.0000</td>\n",
       "      <td>3.3569</td>\n",
       "      <td>2124</td>\n",
       "    </tr>\n",
       "    <tr>\n",
       "      <th>3</th>\n",
       "      <td>id3504673</td>\n",
       "      <td>2</td>\n",
       "      <td>1</td>\n",
       "      <td>-74.0100</td>\n",
       "      <td>40.7200</td>\n",
       "      <td>-74.0123</td>\n",
       "      <td>40.7067</td>\n",
       "      <td>0</td>\n",
       "      <td>1,779.4000</td>\n",
       "      <td>4.0000</td>\n",
       "      <td>2016</td>\n",
       "      <td>4</td>\n",
       "      <td>2</td>\n",
       "      <td>6</td>\n",
       "      <td>19</td>\n",
       "      <td>32</td>\n",
       "      <td>1,316.0000</td>\n",
       "      <td>1,308.0000</td>\n",
       "      <td>0.4752</td>\n",
       "      <td>429</td>\n",
       "    </tr>\n",
       "    <tr>\n",
       "      <th>4</th>\n",
       "      <td>id2181028</td>\n",
       "      <td>2</td>\n",
       "      <td>1</td>\n",
       "      <td>-73.9731</td>\n",
       "      <td>40.7932</td>\n",
       "      <td>-73.9729</td>\n",
       "      <td>40.7825</td>\n",
       "      <td>0</td>\n",
       "      <td>1,614.9000</td>\n",
       "      <td>5.0000</td>\n",
       "      <td>2016</td>\n",
       "      <td>3</td>\n",
       "      <td>5</td>\n",
       "      <td>26</td>\n",
       "      <td>13</td>\n",
       "      <td>30</td>\n",
       "      <td>609.0000</td>\n",
       "      <td>5,735.0000</td>\n",
       "      <td>0.3283</td>\n",
       "      <td>435</td>\n",
       "    </tr>\n",
       "  </tbody>\n",
       "</table>\n",
       "</div>"
      ],
      "text/plain": [
       "          id  vendor_id  passenger_count  pickup_longitude  pickup_latitude  \\\n",
       "0  id2875421          2                1          -73.9822          40.7679   \n",
       "1  id2377394          1                1          -73.9804          40.7386   \n",
       "2  id3858529          2                1          -73.9790          40.7639   \n",
       "3  id3504673          2                1          -74.0100          40.7200   \n",
       "4  id2181028          2                1          -73.9731          40.7932   \n",
       "\n",
       "   dropoff_longitude  dropoff_latitude store_and_fwd_flag  total_distance  \\\n",
       "0           -73.9646           40.7656                  0      2,009.1000   \n",
       "1           -73.9995           40.7312                  0      2,513.2000   \n",
       "2           -74.0053           40.7101                  0     11,060.8000   \n",
       "3           -74.0123           40.7067                  0      1,779.4000   \n",
       "4           -73.9729           40.7825                  0      1,614.9000   \n",
       "\n",
       "   number_of_streets  pickup_year  pickup_month  pickup_weekday  pickup_day  \\\n",
       "0             5.0000         2016             3               0          14   \n",
       "1             6.0000         2016             6               6          12   \n",
       "2            16.0000         2016             1               1          19   \n",
       "3             4.0000         2016             4               2           6   \n",
       "4             5.0000         2016             3               5          26   \n",
       "\n",
       "   pickup_hour  pickup_minute  starting_street_tf  end_street_tf  \\\n",
       "0           17             24            774.0000     2,224.0000   \n",
       "1            0             43            166.0000     5,465.0000   \n",
       "2           11             35          2,613.0000     1,129.0000   \n",
       "3           19             32          1,316.0000     1,308.0000   \n",
       "4           13             30            609.0000     5,735.0000   \n",
       "\n",
       "   haversine_distance  trip_duration  \n",
       "0              1.9488            455  \n",
       "1              2.1308            663  \n",
       "2              3.3569           2124  \n",
       "3              0.4752            429  \n",
       "4              0.3283            435  "
      ]
     },
     "execution_count": 53,
     "metadata": {},
     "output_type": "execute_result"
    }
   ],
   "source": [
    "train_set.loc[(train_set[col]==0.) & (train_set[col1]==0.),label]=0\n",
    "#train_set_1[label].update(data_zero[label])\n",
    "train_set[:5]"
   ]
  },
  {
   "cell_type": "code",
   "execution_count": 54,
   "metadata": {
    "ExecuteTime": {
     "end_time": "2017-07-28T13:13:43.063183Z",
     "start_time": "2017-07-28T13:13:42.981044Z"
    }
   },
   "outputs": [
    {
     "data": {
      "text/html": [
       "<div>\n",
       "<style>\n",
       "    .dataframe thead tr:only-child th {\n",
       "        text-align: right;\n",
       "    }\n",
       "\n",
       "    .dataframe thead th {\n",
       "        text-align: left;\n",
       "    }\n",
       "\n",
       "    .dataframe tbody tr th {\n",
       "        vertical-align: top;\n",
       "    }\n",
       "</style>\n",
       "<table border=\"1\" class=\"dataframe\">\n",
       "  <thead>\n",
       "    <tr style=\"text-align: right;\">\n",
       "      <th></th>\n",
       "      <th>id</th>\n",
       "      <th>vendor_id</th>\n",
       "      <th>passenger_count</th>\n",
       "      <th>pickup_longitude</th>\n",
       "      <th>pickup_latitude</th>\n",
       "      <th>dropoff_longitude</th>\n",
       "      <th>dropoff_latitude</th>\n",
       "      <th>store_and_fwd_flag</th>\n",
       "      <th>total_distance</th>\n",
       "      <th>number_of_streets</th>\n",
       "      <th>pickup_year</th>\n",
       "      <th>pickup_month</th>\n",
       "      <th>pickup_weekday</th>\n",
       "      <th>pickup_day</th>\n",
       "      <th>pickup_hour</th>\n",
       "      <th>pickup_minute</th>\n",
       "      <th>starting_street_tf</th>\n",
       "      <th>end_street_tf</th>\n",
       "      <th>haversine_distance</th>\n",
       "      <th>trip_duration</th>\n",
       "    </tr>\n",
       "  </thead>\n",
       "  <tbody>\n",
       "  </tbody>\n",
       "</table>\n",
       "</div>"
      ],
      "text/plain": [
       "Empty DataFrame\n",
       "Columns: [id, vendor_id, passenger_count, pickup_longitude, pickup_latitude, dropoff_longitude, dropoff_latitude, store_and_fwd_flag, total_distance, number_of_streets, pickup_year, pickup_month, pickup_weekday, pickup_day, pickup_hour, pickup_minute, starting_street_tf, end_street_tf, haversine_distance, trip_duration]\n",
       "Index: []"
      ]
     },
     "execution_count": 54,
     "metadata": {},
     "output_type": "execute_result"
    }
   ],
   "source": [
    "train_set[(train_set[col] > 0.) & (train_set[col1] == 0)]"
   ]
  },
  {
   "cell_type": "markdown",
   "metadata": {},
   "source": [
    "#### Update target"
   ]
  },
  {
   "cell_type": "code",
   "execution_count": 55,
   "metadata": {
    "ExecuteTime": {
     "end_time": "2017-07-28T13:13:43.417036Z",
     "start_time": "2017-07-28T13:13:43.063183Z"
    }
   },
   "outputs": [
    {
     "name": "stdout",
     "output_type": "stream",
     "text": [
      "1458644\n"
     ]
    },
    {
     "data": {
      "text/plain": [
       "count   1,458,644.0000\n",
       "mean          957.3273\n",
       "std         5,236.2466\n",
       "min             0.0000\n",
       "25%           395.0000\n",
       "50%           661.0000\n",
       "75%         1,074.0000\n",
       "max     3,526,282.0000\n",
       "Name: trip_duration, dtype: float64"
      ]
     },
     "execution_count": 55,
     "metadata": {},
     "output_type": "execute_result"
    }
   ],
   "source": [
    "# update target\n",
    "target = train_set[label]\n",
    "print(len(target))\n",
    "target.describe()"
   ]
  },
  {
   "cell_type": "markdown",
   "metadata": {},
   "source": [
    "#### Estimate total_distance"
   ]
  },
  {
   "cell_type": "code",
   "execution_count": 56,
   "metadata": {
    "ExecuteTime": {
     "end_time": "2017-07-28T13:13:43.432662Z",
     "start_time": "2017-07-28T13:13:43.417036Z"
    },
    "collapsed": true
   },
   "outputs": [],
   "source": [
    "data = combine_data_tf"
   ]
  },
  {
   "cell_type": "code",
   "execution_count": 57,
   "metadata": {
    "ExecuteTime": {
     "end_time": "2017-07-28T13:13:43.664445Z",
     "start_time": "2017-07-28T13:13:43.432662Z"
    }
   },
   "outputs": [
    {
     "name": "stdout",
     "output_type": "stream",
     "text": [
      "173\n"
     ]
    },
    {
     "data": {
      "text/html": [
       "<div>\n",
       "<style>\n",
       "    .dataframe thead tr:only-child th {\n",
       "        text-align: right;\n",
       "    }\n",
       "\n",
       "    .dataframe thead th {\n",
       "        text-align: left;\n",
       "    }\n",
       "\n",
       "    .dataframe tbody tr th {\n",
       "        vertical-align: top;\n",
       "    }\n",
       "</style>\n",
       "<table border=\"1\" class=\"dataframe\">\n",
       "  <thead>\n",
       "    <tr style=\"text-align: right;\">\n",
       "      <th></th>\n",
       "      <th></th>\n",
       "      <th>id</th>\n",
       "      <th>vendor_id</th>\n",
       "      <th>passenger_count</th>\n",
       "      <th>pickup_longitude</th>\n",
       "      <th>pickup_latitude</th>\n",
       "      <th>dropoff_longitude</th>\n",
       "      <th>dropoff_latitude</th>\n",
       "      <th>store_and_fwd_flag</th>\n",
       "      <th>total_distance</th>\n",
       "      <th>number_of_streets</th>\n",
       "      <th>pickup_year</th>\n",
       "      <th>pickup_month</th>\n",
       "      <th>pickup_weekday</th>\n",
       "      <th>pickup_day</th>\n",
       "      <th>pickup_hour</th>\n",
       "      <th>pickup_minute</th>\n",
       "      <th>starting_street_tf</th>\n",
       "      <th>end_street_tf</th>\n",
       "      <th>haversine_distance</th>\n",
       "    </tr>\n",
       "  </thead>\n",
       "  <tbody>\n",
       "    <tr>\n",
       "      <th rowspan=\"5\" valign=\"top\">train</th>\n",
       "      <th>2731</th>\n",
       "      <td>id1928232</td>\n",
       "      <td>1</td>\n",
       "      <td>1</td>\n",
       "      <td>-73.8343</td>\n",
       "      <td>40.7663</td>\n",
       "      <td>-73.8342</td>\n",
       "      <td>40.7661</td>\n",
       "      <td>0</td>\n",
       "      <td>0.0000</td>\n",
       "      <td>2.0000</td>\n",
       "      <td>2016</td>\n",
       "      <td>6</td>\n",
       "      <td>1</td>\n",
       "      <td>21</td>\n",
       "      <td>17</td>\n",
       "      <td>4</td>\n",
       "      <td>1,730.0000</td>\n",
       "      <td>3,815.0000</td>\n",
       "      <td>0.0130</td>\n",
       "    </tr>\n",
       "    <tr>\n",
       "      <th>47474</th>\n",
       "      <td>id0873981</td>\n",
       "      <td>1</td>\n",
       "      <td>1</td>\n",
       "      <td>-73.7898</td>\n",
       "      <td>40.6439</td>\n",
       "      <td>-73.7898</td>\n",
       "      <td>40.6439</td>\n",
       "      <td>0</td>\n",
       "      <td>0.0000</td>\n",
       "      <td>2.0000</td>\n",
       "      <td>2016</td>\n",
       "      <td>1</td>\n",
       "      <td>6</td>\n",
       "      <td>17</td>\n",
       "      <td>19</td>\n",
       "      <td>51</td>\n",
       "      <td>nan</td>\n",
       "      <td>nan</td>\n",
       "      <td>0.0027</td>\n",
       "    </tr>\n",
       "    <tr>\n",
       "      <th>52657</th>\n",
       "      <td>id3156582</td>\n",
       "      <td>1</td>\n",
       "      <td>1</td>\n",
       "      <td>-73.9432</td>\n",
       "      <td>40.7499</td>\n",
       "      <td>-73.9432</td>\n",
       "      <td>40.7499</td>\n",
       "      <td>0</td>\n",
       "      <td>0.0000</td>\n",
       "      <td>2.0000</td>\n",
       "      <td>2016</td>\n",
       "      <td>6</td>\n",
       "      <td>3</td>\n",
       "      <td>9</td>\n",
       "      <td>6</td>\n",
       "      <td>13</td>\n",
       "      <td>142.0000</td>\n",
       "      <td>348.0000</td>\n",
       "      <td>0.0009</td>\n",
       "    </tr>\n",
       "    <tr>\n",
       "      <th>61068</th>\n",
       "      <td>id3369460</td>\n",
       "      <td>1</td>\n",
       "      <td>1</td>\n",
       "      <td>-73.7494</td>\n",
       "      <td>40.5252</td>\n",
       "      <td>-73.7485</td>\n",
       "      <td>40.5255</td>\n",
       "      <td>0</td>\n",
       "      <td>0.0000</td>\n",
       "      <td>2.0000</td>\n",
       "      <td>2016</td>\n",
       "      <td>3</td>\n",
       "      <td>5</td>\n",
       "      <td>12</td>\n",
       "      <td>16</td>\n",
       "      <td>46</td>\n",
       "      <td>449.0000</td>\n",
       "      <td>865.0000</td>\n",
       "      <td>0.1015</td>\n",
       "    </tr>\n",
       "    <tr>\n",
       "      <th>61710</th>\n",
       "      <td>id2572940</td>\n",
       "      <td>2</td>\n",
       "      <td>1</td>\n",
       "      <td>-73.8632</td>\n",
       "      <td>40.7700</td>\n",
       "      <td>-73.8632</td>\n",
       "      <td>40.7699</td>\n",
       "      <td>0</td>\n",
       "      <td>0.0000</td>\n",
       "      <td>2.0000</td>\n",
       "      <td>2016</td>\n",
       "      <td>1</td>\n",
       "      <td>2</td>\n",
       "      <td>6</td>\n",
       "      <td>14</td>\n",
       "      <td>58</td>\n",
       "      <td>nan</td>\n",
       "      <td>nan</td>\n",
       "      <td>0.0058</td>\n",
       "    </tr>\n",
       "  </tbody>\n",
       "</table>\n",
       "</div>"
      ],
      "text/plain": [
       "                    id  vendor_id  passenger_count  pickup_longitude  \\\n",
       "train 2731   id1928232          1                1          -73.8343   \n",
       "      47474  id0873981          1                1          -73.7898   \n",
       "      52657  id3156582          1                1          -73.9432   \n",
       "      61068  id3369460          1                1          -73.7494   \n",
       "      61710  id2572940          2                1          -73.8632   \n",
       "\n",
       "             pickup_latitude  dropoff_longitude  dropoff_latitude  \\\n",
       "train 2731           40.7663           -73.8342           40.7661   \n",
       "      47474          40.6439           -73.7898           40.6439   \n",
       "      52657          40.7499           -73.9432           40.7499   \n",
       "      61068          40.5252           -73.7485           40.5255   \n",
       "      61710          40.7700           -73.8632           40.7699   \n",
       "\n",
       "            store_and_fwd_flag  total_distance  number_of_streets  \\\n",
       "train 2731                   0          0.0000             2.0000   \n",
       "      47474                  0          0.0000             2.0000   \n",
       "      52657                  0          0.0000             2.0000   \n",
       "      61068                  0          0.0000             2.0000   \n",
       "      61710                  0          0.0000             2.0000   \n",
       "\n",
       "             pickup_year  pickup_month  pickup_weekday  pickup_day  \\\n",
       "train 2731          2016             6               1          21   \n",
       "      47474         2016             1               6          17   \n",
       "      52657         2016             6               3           9   \n",
       "      61068         2016             3               5          12   \n",
       "      61710         2016             1               2           6   \n",
       "\n",
       "             pickup_hour  pickup_minute  starting_street_tf  end_street_tf  \\\n",
       "train 2731            17              4          1,730.0000     3,815.0000   \n",
       "      47474           19             51                 nan            nan   \n",
       "      52657            6             13            142.0000       348.0000   \n",
       "      61068           16             46            449.0000       865.0000   \n",
       "      61710           14             58                 nan            nan   \n",
       "\n",
       "             haversine_distance  \n",
       "train 2731               0.0130  \n",
       "      47474              0.0027  \n",
       "      52657              0.0009  \n",
       "      61068              0.1015  \n",
       "      61710              0.0058  "
      ]
     },
     "execution_count": 57,
     "metadata": {},
     "output_type": "execute_result"
    }
   ],
   "source": [
    "# check for total_distance=0 and haversine_distance>0\n",
    "data_zero = data[(data[col]==0) & (data[col1]>0)]\n",
    "print(len(data_zero))\n",
    "data_zero[:5]"
   ]
  },
  {
   "cell_type": "code",
   "execution_count": 58,
   "metadata": {
    "ExecuteTime": {
     "end_time": "2017-07-28T13:13:44.034070Z",
     "start_time": "2017-07-28T13:13:43.664445Z"
    },
    "scrolled": true
   },
   "outputs": [
    {
     "name": "stdout",
     "output_type": "stream",
     "text": [
      "2075233\n"
     ]
    },
    {
     "data": {
      "text/plain": [
       "train  0    2,009.1000\n",
       "       1    2,513.2000\n",
       "       2   11,060.8000\n",
       "       3    1,779.4000\n",
       "       4    1,614.9000\n",
       "Name: total_distance, dtype: float64"
      ]
     },
     "execution_count": 58,
     "metadata": {},
     "output_type": "execute_result"
    }
   ],
   "source": [
    "data_not_zero = data[(data[col]>0.) & (data[col]>0.)]\n",
    "print(len(data_not_zero))\n",
    "data_not_zero[col][:5]"
   ]
  },
  {
   "cell_type": "code",
   "execution_count": 59,
   "metadata": {
    "ExecuteTime": {
     "end_time": "2017-07-28T13:13:44.118714Z",
     "start_time": "2017-07-28T13:13:44.034070Z"
    }
   },
   "outputs": [
    {
     "data": {
      "text/plain": [
       "train  0   7.6054\n",
       "       1   7.8293\n",
       "       2   9.3112\n",
       "       3   7.4840\n",
       "       4   7.3870\n",
       "Name: total_distance, dtype: float64"
      ]
     },
     "execution_count": 59,
     "metadata": {},
     "output_type": "execute_result"
    }
   ],
   "source": [
    "features=['pickup_longitude', 'pickup_latitude', 'dropoff_longitude', 'dropoff_latitude', 'haversine_distance']\n",
    "X = data_not_zero[features]\n",
    "Y = np.log(data_not_zero[col])\n",
    "Y[:5]"
   ]
  },
  {
   "cell_type": "code",
   "execution_count": 60,
   "metadata": {
    "ExecuteTime": {
     "end_time": "2017-07-28T13:13:44.218242Z",
     "start_time": "2017-07-28T13:13:44.118714Z"
    },
    "collapsed": true
   },
   "outputs": [],
   "source": [
    "model_tf = LinearRegression(n_jobs=-1)\n",
    "#model_tf = XGBRegressor(n_estimators=100, max_depth=5,\n",
    "#                     learning_rate=0.3, min_child_weight=1, n_jobs=-1)"
   ]
  },
  {
   "cell_type": "code",
   "execution_count": 61,
   "metadata": {
    "ExecuteTime": {
     "end_time": "2017-07-28T13:13:53.727261Z",
     "start_time": "2017-07-28T13:13:44.218242Z"
    }
   },
   "outputs": [
    {
     "data": {
      "text/plain": [
       "LinearRegression(copy_X=True, fit_intercept=True, n_jobs=-1, normalize=False)"
      ]
     },
     "execution_count": 61,
     "metadata": {},
     "output_type": "execute_result"
    }
   ],
   "source": [
    "model_tf.fit(X,Y)"
   ]
  },
  {
   "cell_type": "code",
   "execution_count": 62,
   "metadata": {
    "ExecuteTime": {
     "end_time": "2017-07-28T13:13:53.959051Z",
     "start_time": "2017-07-28T13:13:53.727261Z"
    }
   },
   "outputs": [
    {
     "data": {
      "text/plain": [
       "array([ 1934.06594428,  2019.8424651 ,  1974.84029664,  2143.73651789,\n",
       "        1936.68196762])"
      ]
     },
     "execution_count": 62,
     "metadata": {},
     "output_type": "execute_result"
    }
   ],
   "source": [
    "X_eval = data_zero[features]\n",
    "total_distance_log = model_tf.predict(X_eval)\n",
    "total_distance = np.exp(total_distance_log)\n",
    "total_distance[:5]"
   ]
  },
  {
   "cell_type": "code",
   "execution_count": 63,
   "metadata": {
    "ExecuteTime": {
     "end_time": "2017-07-28T13:13:54.059320Z",
     "start_time": "2017-07-28T13:13:53.959051Z"
    },
    "scrolled": true
   },
   "outputs": [
    {
     "data": {
      "text/html": [
       "<div>\n",
       "<style>\n",
       "    .dataframe thead tr:only-child th {\n",
       "        text-align: right;\n",
       "    }\n",
       "\n",
       "    .dataframe thead th {\n",
       "        text-align: left;\n",
       "    }\n",
       "\n",
       "    .dataframe tbody tr th {\n",
       "        vertical-align: top;\n",
       "    }\n",
       "</style>\n",
       "<table border=\"1\" class=\"dataframe\">\n",
       "  <thead>\n",
       "    <tr style=\"text-align: right;\">\n",
       "      <th></th>\n",
       "      <th></th>\n",
       "      <th>id</th>\n",
       "      <th>vendor_id</th>\n",
       "      <th>passenger_count</th>\n",
       "      <th>pickup_longitude</th>\n",
       "      <th>pickup_latitude</th>\n",
       "      <th>dropoff_longitude</th>\n",
       "      <th>dropoff_latitude</th>\n",
       "      <th>store_and_fwd_flag</th>\n",
       "      <th>total_distance</th>\n",
       "      <th>number_of_streets</th>\n",
       "      <th>pickup_year</th>\n",
       "      <th>pickup_month</th>\n",
       "      <th>pickup_weekday</th>\n",
       "      <th>pickup_day</th>\n",
       "      <th>pickup_hour</th>\n",
       "      <th>pickup_minute</th>\n",
       "      <th>starting_street_tf</th>\n",
       "      <th>end_street_tf</th>\n",
       "      <th>haversine_distance</th>\n",
       "    </tr>\n",
       "  </thead>\n",
       "  <tbody>\n",
       "    <tr>\n",
       "      <th rowspan=\"5\" valign=\"top\">train</th>\n",
       "      <th>2731</th>\n",
       "      <td>id1928232</td>\n",
       "      <td>1</td>\n",
       "      <td>1</td>\n",
       "      <td>-73.8343</td>\n",
       "      <td>40.7663</td>\n",
       "      <td>-73.8342</td>\n",
       "      <td>40.7661</td>\n",
       "      <td>0</td>\n",
       "      <td>1,934.0659</td>\n",
       "      <td>2.0000</td>\n",
       "      <td>2016</td>\n",
       "      <td>6</td>\n",
       "      <td>1</td>\n",
       "      <td>21</td>\n",
       "      <td>17</td>\n",
       "      <td>4</td>\n",
       "      <td>1,730.0000</td>\n",
       "      <td>3,815.0000</td>\n",
       "      <td>0.0130</td>\n",
       "    </tr>\n",
       "    <tr>\n",
       "      <th>47474</th>\n",
       "      <td>id0873981</td>\n",
       "      <td>1</td>\n",
       "      <td>1</td>\n",
       "      <td>-73.7898</td>\n",
       "      <td>40.6439</td>\n",
       "      <td>-73.7898</td>\n",
       "      <td>40.6439</td>\n",
       "      <td>0</td>\n",
       "      <td>2,019.8425</td>\n",
       "      <td>2.0000</td>\n",
       "      <td>2016</td>\n",
       "      <td>1</td>\n",
       "      <td>6</td>\n",
       "      <td>17</td>\n",
       "      <td>19</td>\n",
       "      <td>51</td>\n",
       "      <td>nan</td>\n",
       "      <td>nan</td>\n",
       "      <td>0.0027</td>\n",
       "    </tr>\n",
       "    <tr>\n",
       "      <th>52657</th>\n",
       "      <td>id3156582</td>\n",
       "      <td>1</td>\n",
       "      <td>1</td>\n",
       "      <td>-73.9432</td>\n",
       "      <td>40.7499</td>\n",
       "      <td>-73.9432</td>\n",
       "      <td>40.7499</td>\n",
       "      <td>0</td>\n",
       "      <td>1,974.8403</td>\n",
       "      <td>2.0000</td>\n",
       "      <td>2016</td>\n",
       "      <td>6</td>\n",
       "      <td>3</td>\n",
       "      <td>9</td>\n",
       "      <td>6</td>\n",
       "      <td>13</td>\n",
       "      <td>142.0000</td>\n",
       "      <td>348.0000</td>\n",
       "      <td>0.0009</td>\n",
       "    </tr>\n",
       "    <tr>\n",
       "      <th>61068</th>\n",
       "      <td>id3369460</td>\n",
       "      <td>1</td>\n",
       "      <td>1</td>\n",
       "      <td>-73.7494</td>\n",
       "      <td>40.5252</td>\n",
       "      <td>-73.7485</td>\n",
       "      <td>40.5255</td>\n",
       "      <td>0</td>\n",
       "      <td>2,143.7365</td>\n",
       "      <td>2.0000</td>\n",
       "      <td>2016</td>\n",
       "      <td>3</td>\n",
       "      <td>5</td>\n",
       "      <td>12</td>\n",
       "      <td>16</td>\n",
       "      <td>46</td>\n",
       "      <td>449.0000</td>\n",
       "      <td>865.0000</td>\n",
       "      <td>0.1015</td>\n",
       "    </tr>\n",
       "    <tr>\n",
       "      <th>61710</th>\n",
       "      <td>id2572940</td>\n",
       "      <td>2</td>\n",
       "      <td>1</td>\n",
       "      <td>-73.8632</td>\n",
       "      <td>40.7700</td>\n",
       "      <td>-73.8632</td>\n",
       "      <td>40.7699</td>\n",
       "      <td>0</td>\n",
       "      <td>1,936.6820</td>\n",
       "      <td>2.0000</td>\n",
       "      <td>2016</td>\n",
       "      <td>1</td>\n",
       "      <td>2</td>\n",
       "      <td>6</td>\n",
       "      <td>14</td>\n",
       "      <td>58</td>\n",
       "      <td>nan</td>\n",
       "      <td>nan</td>\n",
       "      <td>0.0058</td>\n",
       "    </tr>\n",
       "  </tbody>\n",
       "</table>\n",
       "</div>"
      ],
      "text/plain": [
       "                    id  vendor_id  passenger_count  pickup_longitude  \\\n",
       "train 2731   id1928232          1                1          -73.8343   \n",
       "      47474  id0873981          1                1          -73.7898   \n",
       "      52657  id3156582          1                1          -73.9432   \n",
       "      61068  id3369460          1                1          -73.7494   \n",
       "      61710  id2572940          2                1          -73.8632   \n",
       "\n",
       "             pickup_latitude  dropoff_longitude  dropoff_latitude  \\\n",
       "train 2731           40.7663           -73.8342           40.7661   \n",
       "      47474          40.6439           -73.7898           40.6439   \n",
       "      52657          40.7499           -73.9432           40.7499   \n",
       "      61068          40.5252           -73.7485           40.5255   \n",
       "      61710          40.7700           -73.8632           40.7699   \n",
       "\n",
       "            store_and_fwd_flag  total_distance  number_of_streets  \\\n",
       "train 2731                   0      1,934.0659             2.0000   \n",
       "      47474                  0      2,019.8425             2.0000   \n",
       "      52657                  0      1,974.8403             2.0000   \n",
       "      61068                  0      2,143.7365             2.0000   \n",
       "      61710                  0      1,936.6820             2.0000   \n",
       "\n",
       "             pickup_year  pickup_month  pickup_weekday  pickup_day  \\\n",
       "train 2731          2016             6               1          21   \n",
       "      47474         2016             1               6          17   \n",
       "      52657         2016             6               3           9   \n",
       "      61068         2016             3               5          12   \n",
       "      61710         2016             1               2           6   \n",
       "\n",
       "             pickup_hour  pickup_minute  starting_street_tf  end_street_tf  \\\n",
       "train 2731            17              4          1,730.0000     3,815.0000   \n",
       "      47474           19             51                 nan            nan   \n",
       "      52657            6             13            142.0000       348.0000   \n",
       "      61068           16             46            449.0000       865.0000   \n",
       "      61710           14             58                 nan            nan   \n",
       "\n",
       "             haversine_distance  \n",
       "train 2731               0.0130  \n",
       "      47474              0.0027  \n",
       "      52657              0.0009  \n",
       "      61068              0.1015  \n",
       "      61710              0.0058  "
      ]
     },
     "execution_count": 63,
     "metadata": {},
     "output_type": "execute_result"
    }
   ],
   "source": [
    "data_zero[col] = total_distance\n",
    "data_zero[:5]"
   ]
  },
  {
   "cell_type": "code",
   "execution_count": 64,
   "metadata": {
    "ExecuteTime": {
     "end_time": "2017-07-28T13:13:54.429136Z",
     "start_time": "2017-07-28T13:13:54.059320Z"
    }
   },
   "outputs": [
    {
     "data": {
      "text/plain": [
       "train  1060807   22,467,613,506,071,532.0000\n",
       "       1359910              258,170,953.5676\n",
       "eval   324125                 9,599,150.9903\n",
       "train  1068810                9,584,525.1698\n",
       "       1184454                9,577,350.3142\n",
       "       656806                   308,472.1574\n",
       "       775976                    53,088.2354\n",
       "       1348373                    8,724.5274\n",
       "       1152997                    2,699.0264\n",
       "eval   499072                     2,621.5111\n",
       "Name: total_distance, dtype: float64"
      ]
     },
     "execution_count": 64,
     "metadata": {},
     "output_type": "execute_result"
    }
   ],
   "source": [
    "sorted_data = data_zero[col].sort_values(ascending=False)\n",
    "sorted_data[:10]"
   ]
  },
  {
   "cell_type": "code",
   "execution_count": 65,
   "metadata": {
    "ExecuteTime": {
     "end_time": "2017-07-28T13:13:54.676550Z",
     "start_time": "2017-07-28T13:13:54.429136Z"
    }
   },
   "outputs": [
    {
     "data": {
      "text/plain": [
       "2008.9025808097767"
      ]
     },
     "execution_count": 65,
     "metadata": {},
     "output_type": "execute_result"
    }
   ],
   "source": [
    "normal_data = data_zero[col][data_zero[col]<50000]\n",
    "normal_data.mean()"
   ]
  },
  {
   "cell_type": "code",
   "execution_count": 66,
   "metadata": {
    "ExecuteTime": {
     "end_time": "2017-07-28T13:13:54.930107Z",
     "start_time": "2017-07-28T13:13:54.676550Z"
    },
    "collapsed": true
   },
   "outputs": [],
   "source": [
    "# Correct too big value\n",
    "data_zero.loc[data_zero[col] > 50000, col] = normal_data.mean()"
   ]
  },
  {
   "cell_type": "code",
   "execution_count": 67,
   "metadata": {
    "ExecuteTime": {
     "end_time": "2017-07-28T13:13:55.193146Z",
     "start_time": "2017-07-28T13:13:54.930107Z"
    }
   },
   "outputs": [
    {
     "data": {
      "text/plain": [
       "count     173.0000\n",
       "mean    2,008.9026\n",
       "std       559.6399\n",
       "min     1,347.2715\n",
       "25%     1,935.5251\n",
       "50%     1,974.6586\n",
       "75%     2,018.1293\n",
       "max     8,724.5274\n",
       "Name: total_distance, dtype: float64"
      ]
     },
     "execution_count": 67,
     "metadata": {},
     "output_type": "execute_result"
    }
   ],
   "source": [
    "data_zero[col].describe()"
   ]
  },
  {
   "cell_type": "code",
   "execution_count": 68,
   "metadata": {
    "ExecuteTime": {
     "end_time": "2017-07-28T13:13:55.631997Z",
     "start_time": "2017-07-28T13:13:55.196655Z"
    },
    "scrolled": true
   },
   "outputs": [
    {
     "data": {
      "text/plain": [
       "count   2,083,778.0000\n",
       "mean        4,623.7045\n",
       "std         5,296.3981\n",
       "min             0.0000\n",
       "25%         1,666.2000\n",
       "50%         2,754.9500\n",
       "75%         5,114.5000\n",
       "max        94,204.2000\n",
       "Name: total_distance, dtype: float64"
      ]
     },
     "execution_count": 68,
     "metadata": {},
     "output_type": "execute_result"
    }
   ],
   "source": [
    "data.loc[(data[col]==0.) & (data[col1]>0.), col] = data_zero[col]\n",
    "data[col].describe()"
   ]
  },
  {
   "cell_type": "markdown",
   "metadata": {},
   "source": [
    "### Average speed"
   ]
  },
  {
   "cell_type": "code",
   "execution_count": 69,
   "metadata": {
    "ExecuteTime": {
     "end_time": "2017-07-28T13:13:55.732265Z",
     "start_time": "2017-07-28T13:13:55.631997Z"
    },
    "collapsed": true
   },
   "outputs": [],
   "source": [
    "data_speed = combine_data_tf.loc['train']\n",
    "data_speed[label] = target"
   ]
  },
  {
   "cell_type": "markdown",
   "metadata": {},
   "source": [
    "#### Calculate speed from total_distance and trip_duration"
   ]
  },
  {
   "cell_type": "code",
   "execution_count": 70,
   "metadata": {
    "ExecuteTime": {
     "end_time": "2017-07-28T13:13:56.233630Z",
     "start_time": "2017-07-28T13:13:55.732265Z"
    },
    "collapsed": true
   },
   "outputs": [],
   "source": [
    "def cal_speed(row):\n",
    "    if row[label]==0:\n",
    "        return 0\n",
    "    else:\n",
    "        return row['total_distance'] / row[label]"
   ]
  },
  {
   "cell_type": "code",
   "execution_count": 71,
   "metadata": {
    "ExecuteTime": {
     "end_time": "2017-07-28T13:15:02.243054Z",
     "start_time": "2017-07-28T13:13:56.233630Z"
    }
   },
   "outputs": [
    {
     "data": {
      "text/html": [
       "<div>\n",
       "<style>\n",
       "    .dataframe thead tr:only-child th {\n",
       "        text-align: right;\n",
       "    }\n",
       "\n",
       "    .dataframe thead th {\n",
       "        text-align: left;\n",
       "    }\n",
       "\n",
       "    .dataframe tbody tr th {\n",
       "        vertical-align: top;\n",
       "    }\n",
       "</style>\n",
       "<table border=\"1\" class=\"dataframe\">\n",
       "  <thead>\n",
       "    <tr style=\"text-align: right;\">\n",
       "      <th></th>\n",
       "      <th>id</th>\n",
       "      <th>vendor_id</th>\n",
       "      <th>passenger_count</th>\n",
       "      <th>pickup_longitude</th>\n",
       "      <th>pickup_latitude</th>\n",
       "      <th>dropoff_longitude</th>\n",
       "      <th>dropoff_latitude</th>\n",
       "      <th>store_and_fwd_flag</th>\n",
       "      <th>total_distance</th>\n",
       "      <th>number_of_streets</th>\n",
       "      <th>...</th>\n",
       "      <th>pickup_month</th>\n",
       "      <th>pickup_weekday</th>\n",
       "      <th>pickup_day</th>\n",
       "      <th>pickup_hour</th>\n",
       "      <th>pickup_minute</th>\n",
       "      <th>starting_street_tf</th>\n",
       "      <th>end_street_tf</th>\n",
       "      <th>haversine_distance</th>\n",
       "      <th>trip_duration</th>\n",
       "      <th>speed</th>\n",
       "    </tr>\n",
       "  </thead>\n",
       "  <tbody>\n",
       "    <tr>\n",
       "      <th>0</th>\n",
       "      <td>id2875421</td>\n",
       "      <td>2</td>\n",
       "      <td>1</td>\n",
       "      <td>-73.9822</td>\n",
       "      <td>40.7679</td>\n",
       "      <td>-73.9646</td>\n",
       "      <td>40.7656</td>\n",
       "      <td>0</td>\n",
       "      <td>2,009.1000</td>\n",
       "      <td>5.0000</td>\n",
       "      <td>...</td>\n",
       "      <td>3</td>\n",
       "      <td>0</td>\n",
       "      <td>14</td>\n",
       "      <td>17</td>\n",
       "      <td>24</td>\n",
       "      <td>774.0000</td>\n",
       "      <td>2,224.0000</td>\n",
       "      <td>1.9488</td>\n",
       "      <td>455</td>\n",
       "      <td>4.4156</td>\n",
       "    </tr>\n",
       "    <tr>\n",
       "      <th>1</th>\n",
       "      <td>id2377394</td>\n",
       "      <td>1</td>\n",
       "      <td>1</td>\n",
       "      <td>-73.9804</td>\n",
       "      <td>40.7386</td>\n",
       "      <td>-73.9995</td>\n",
       "      <td>40.7312</td>\n",
       "      <td>0</td>\n",
       "      <td>2,513.2000</td>\n",
       "      <td>6.0000</td>\n",
       "      <td>...</td>\n",
       "      <td>6</td>\n",
       "      <td>6</td>\n",
       "      <td>12</td>\n",
       "      <td>0</td>\n",
       "      <td>43</td>\n",
       "      <td>166.0000</td>\n",
       "      <td>5,465.0000</td>\n",
       "      <td>2.1308</td>\n",
       "      <td>663</td>\n",
       "      <td>3.7906</td>\n",
       "    </tr>\n",
       "    <tr>\n",
       "      <th>2</th>\n",
       "      <td>id3858529</td>\n",
       "      <td>2</td>\n",
       "      <td>1</td>\n",
       "      <td>-73.9790</td>\n",
       "      <td>40.7639</td>\n",
       "      <td>-74.0053</td>\n",
       "      <td>40.7101</td>\n",
       "      <td>0</td>\n",
       "      <td>11,060.8000</td>\n",
       "      <td>16.0000</td>\n",
       "      <td>...</td>\n",
       "      <td>1</td>\n",
       "      <td>1</td>\n",
       "      <td>19</td>\n",
       "      <td>11</td>\n",
       "      <td>35</td>\n",
       "      <td>2,613.0000</td>\n",
       "      <td>1,129.0000</td>\n",
       "      <td>3.3569</td>\n",
       "      <td>2124</td>\n",
       "      <td>5.2075</td>\n",
       "    </tr>\n",
       "    <tr>\n",
       "      <th>3</th>\n",
       "      <td>id3504673</td>\n",
       "      <td>2</td>\n",
       "      <td>1</td>\n",
       "      <td>-74.0100</td>\n",
       "      <td>40.7200</td>\n",
       "      <td>-74.0123</td>\n",
       "      <td>40.7067</td>\n",
       "      <td>0</td>\n",
       "      <td>1,779.4000</td>\n",
       "      <td>4.0000</td>\n",
       "      <td>...</td>\n",
       "      <td>4</td>\n",
       "      <td>2</td>\n",
       "      <td>6</td>\n",
       "      <td>19</td>\n",
       "      <td>32</td>\n",
       "      <td>1,316.0000</td>\n",
       "      <td>1,308.0000</td>\n",
       "      <td>0.4752</td>\n",
       "      <td>429</td>\n",
       "      <td>4.1478</td>\n",
       "    </tr>\n",
       "    <tr>\n",
       "      <th>4</th>\n",
       "      <td>id2181028</td>\n",
       "      <td>2</td>\n",
       "      <td>1</td>\n",
       "      <td>-73.9731</td>\n",
       "      <td>40.7932</td>\n",
       "      <td>-73.9729</td>\n",
       "      <td>40.7825</td>\n",
       "      <td>0</td>\n",
       "      <td>1,614.9000</td>\n",
       "      <td>5.0000</td>\n",
       "      <td>...</td>\n",
       "      <td>3</td>\n",
       "      <td>5</td>\n",
       "      <td>26</td>\n",
       "      <td>13</td>\n",
       "      <td>30</td>\n",
       "      <td>609.0000</td>\n",
       "      <td>5,735.0000</td>\n",
       "      <td>0.3283</td>\n",
       "      <td>435</td>\n",
       "      <td>3.7124</td>\n",
       "    </tr>\n",
       "  </tbody>\n",
       "</table>\n",
       "<p>5 rows × 21 columns</p>\n",
       "</div>"
      ],
      "text/plain": [
       "          id  vendor_id  passenger_count  pickup_longitude  pickup_latitude  \\\n",
       "0  id2875421          2                1          -73.9822          40.7679   \n",
       "1  id2377394          1                1          -73.9804          40.7386   \n",
       "2  id3858529          2                1          -73.9790          40.7639   \n",
       "3  id3504673          2                1          -74.0100          40.7200   \n",
       "4  id2181028          2                1          -73.9731          40.7932   \n",
       "\n",
       "   dropoff_longitude  dropoff_latitude store_and_fwd_flag  total_distance  \\\n",
       "0           -73.9646           40.7656                  0      2,009.1000   \n",
       "1           -73.9995           40.7312                  0      2,513.2000   \n",
       "2           -74.0053           40.7101                  0     11,060.8000   \n",
       "3           -74.0123           40.7067                  0      1,779.4000   \n",
       "4           -73.9729           40.7825                  0      1,614.9000   \n",
       "\n",
       "   number_of_streets  ...    pickup_month  pickup_weekday  pickup_day  \\\n",
       "0             5.0000  ...               3               0          14   \n",
       "1             6.0000  ...               6               6          12   \n",
       "2            16.0000  ...               1               1          19   \n",
       "3             4.0000  ...               4               2           6   \n",
       "4             5.0000  ...               3               5          26   \n",
       "\n",
       "   pickup_hour  pickup_minute  starting_street_tf  end_street_tf  \\\n",
       "0           17             24            774.0000     2,224.0000   \n",
       "1            0             43            166.0000     5,465.0000   \n",
       "2           11             35          2,613.0000     1,129.0000   \n",
       "3           19             32          1,316.0000     1,308.0000   \n",
       "4           13             30            609.0000     5,735.0000   \n",
       "\n",
       "   haversine_distance  trip_duration  speed  \n",
       "0              1.9488            455 4.4156  \n",
       "1              2.1308            663 3.7906  \n",
       "2              3.3569           2124 5.2075  \n",
       "3              0.4752            429 4.1478  \n",
       "4              0.3283            435 3.7124  \n",
       "\n",
       "[5 rows x 21 columns]"
      ]
     },
     "execution_count": 71,
     "metadata": {},
     "output_type": "execute_result"
    }
   ],
   "source": [
    "col = 'speed'\n",
    "data_speed[col] = data_speed.apply(lambda row: cal_speed(row), axis=1)\n",
    "data_speed[:5]"
   ]
  },
  {
   "cell_type": "code",
   "execution_count": 72,
   "metadata": {
    "ExecuteTime": {
     "end_time": "2017-07-28T13:15:02.374583Z",
     "start_time": "2017-07-28T13:15:02.243054Z"
    }
   },
   "outputs": [
    {
     "data": {
      "text/plain": [
       "count   1,458,644.0000\n",
       "mean            5.4223\n",
       "std             7.3120\n",
       "min             0.0000\n",
       "25%             3.4475\n",
       "50%             4.7528\n",
       "75%             6.5294\n",
       "max         3,452.3286\n",
       "Name: speed, dtype: float64"
      ]
     },
     "execution_count": 72,
     "metadata": {},
     "output_type": "execute_result"
    }
   ],
   "source": [
    "data_speed[col].describe()"
   ]
  },
  {
   "cell_type": "markdown",
   "metadata": {},
   "source": [
    "#### speed_mean by hour"
   ]
  },
  {
   "cell_type": "code",
   "execution_count": 73,
   "metadata": {
    "ExecuteTime": {
     "end_time": "2017-07-28T13:15:02.644106Z",
     "start_time": "2017-07-28T13:15:02.374583Z"
    }
   },
   "outputs": [
    {
     "data": {
      "text/html": [
       "<div>\n",
       "<style>\n",
       "    .dataframe thead tr:only-child th {\n",
       "        text-align: right;\n",
       "    }\n",
       "\n",
       "    .dataframe thead th {\n",
       "        text-align: left;\n",
       "    }\n",
       "\n",
       "    .dataframe tbody tr th {\n",
       "        vertical-align: top;\n",
       "    }\n",
       "</style>\n",
       "<table border=\"1\" class=\"dataframe\">\n",
       "  <thead>\n",
       "    <tr style=\"text-align: right;\">\n",
       "      <th></th>\n",
       "      <th>index</th>\n",
       "      <th>pickup_hour</th>\n",
       "      <th>speed</th>\n",
       "    </tr>\n",
       "  </thead>\n",
       "  <tbody>\n",
       "    <tr>\n",
       "      <th>0</th>\n",
       "      <td>0</td>\n",
       "      <td>0</td>\n",
       "      <td>6.6375</td>\n",
       "    </tr>\n",
       "    <tr>\n",
       "      <th>1</th>\n",
       "      <td>1</td>\n",
       "      <td>1</td>\n",
       "      <td>6.8673</td>\n",
       "    </tr>\n",
       "    <tr>\n",
       "      <th>2</th>\n",
       "      <td>2</td>\n",
       "      <td>2</td>\n",
       "      <td>7.0167</td>\n",
       "    </tr>\n",
       "    <tr>\n",
       "      <th>3</th>\n",
       "      <td>3</td>\n",
       "      <td>3</td>\n",
       "      <td>7.4569</td>\n",
       "    </tr>\n",
       "    <tr>\n",
       "      <th>4</th>\n",
       "      <td>4</td>\n",
       "      <td>4</td>\n",
       "      <td>8.3471</td>\n",
       "    </tr>\n",
       "    <tr>\n",
       "      <th>5</th>\n",
       "      <td>5</td>\n",
       "      <td>5</td>\n",
       "      <td>9.2589</td>\n",
       "    </tr>\n",
       "    <tr>\n",
       "      <th>6</th>\n",
       "      <td>6</td>\n",
       "      <td>6</td>\n",
       "      <td>7.7763</td>\n",
       "    </tr>\n",
       "    <tr>\n",
       "      <th>7</th>\n",
       "      <td>7</td>\n",
       "      <td>7</td>\n",
       "      <td>5.9282</td>\n",
       "    </tr>\n",
       "    <tr>\n",
       "      <th>8</th>\n",
       "      <td>8</td>\n",
       "      <td>8</td>\n",
       "      <td>4.8672</td>\n",
       "    </tr>\n",
       "    <tr>\n",
       "      <th>9</th>\n",
       "      <td>9</td>\n",
       "      <td>9</td>\n",
       "      <td>4.7839</td>\n",
       "    </tr>\n",
       "    <tr>\n",
       "      <th>10</th>\n",
       "      <td>10</td>\n",
       "      <td>10</td>\n",
       "      <td>4.8057</td>\n",
       "    </tr>\n",
       "    <tr>\n",
       "      <th>11</th>\n",
       "      <td>11</td>\n",
       "      <td>11</td>\n",
       "      <td>4.7020</td>\n",
       "    </tr>\n",
       "    <tr>\n",
       "      <th>12</th>\n",
       "      <td>12</td>\n",
       "      <td>12</td>\n",
       "      <td>4.6136</td>\n",
       "    </tr>\n",
       "    <tr>\n",
       "      <th>13</th>\n",
       "      <td>13</td>\n",
       "      <td>13</td>\n",
       "      <td>4.7184</td>\n",
       "    </tr>\n",
       "    <tr>\n",
       "      <th>14</th>\n",
       "      <td>14</td>\n",
       "      <td>14</td>\n",
       "      <td>4.6221</td>\n",
       "    </tr>\n",
       "    <tr>\n",
       "      <th>15</th>\n",
       "      <td>15</td>\n",
       "      <td>15</td>\n",
       "      <td>4.5844</td>\n",
       "    </tr>\n",
       "    <tr>\n",
       "      <th>16</th>\n",
       "      <td>16</td>\n",
       "      <td>16</td>\n",
       "      <td>4.7603</td>\n",
       "    </tr>\n",
       "    <tr>\n",
       "      <th>17</th>\n",
       "      <td>17</td>\n",
       "      <td>17</td>\n",
       "      <td>4.6887</td>\n",
       "    </tr>\n",
       "    <tr>\n",
       "      <th>18</th>\n",
       "      <td>18</td>\n",
       "      <td>18</td>\n",
       "      <td>4.6891</td>\n",
       "    </tr>\n",
       "    <tr>\n",
       "      <th>19</th>\n",
       "      <td>19</td>\n",
       "      <td>19</td>\n",
       "      <td>5.0890</td>\n",
       "    </tr>\n",
       "    <tr>\n",
       "      <th>20</th>\n",
       "      <td>20</td>\n",
       "      <td>20</td>\n",
       "      <td>5.7076</td>\n",
       "    </tr>\n",
       "    <tr>\n",
       "      <th>21</th>\n",
       "      <td>21</td>\n",
       "      <td>21</td>\n",
       "      <td>5.9050</td>\n",
       "    </tr>\n",
       "    <tr>\n",
       "      <th>22</th>\n",
       "      <td>22</td>\n",
       "      <td>22</td>\n",
       "      <td>5.9910</td>\n",
       "    </tr>\n",
       "    <tr>\n",
       "      <th>23</th>\n",
       "      <td>23</td>\n",
       "      <td>23</td>\n",
       "      <td>6.3584</td>\n",
       "    </tr>\n",
       "  </tbody>\n",
       "</table>\n",
       "</div>"
      ],
      "text/plain": [
       "    index  pickup_hour  speed\n",
       "0       0            0 6.6375\n",
       "1       1            1 6.8673\n",
       "2       2            2 7.0167\n",
       "3       3            3 7.4569\n",
       "4       4            4 8.3471\n",
       "5       5            5 9.2589\n",
       "6       6            6 7.7763\n",
       "7       7            7 5.9282\n",
       "8       8            8 4.8672\n",
       "9       9            9 4.7839\n",
       "10     10           10 4.8057\n",
       "11     11           11 4.7020\n",
       "12     12           12 4.6136\n",
       "13     13           13 4.7184\n",
       "14     14           14 4.6221\n",
       "15     15           15 4.5844\n",
       "16     16           16 4.7603\n",
       "17     17           17 4.6887\n",
       "18     18           18 4.6891\n",
       "19     19           19 5.0890\n",
       "20     20           20 5.7076\n",
       "21     21           21 5.9050\n",
       "22     22           22 5.9910\n",
       "23     23           23 6.3584"
      ]
     },
     "execution_count": 73,
     "metadata": {},
     "output_type": "execute_result"
    }
   ],
   "source": [
    "col = 'pickup_hour'\n",
    "group_col ='speed'\n",
    "data_grp = data_speed[[col, group_col]] \n",
    "data_st = data_grp.groupby(col,as_index=False).mean().sort_values(col).reset_index()\n",
    "data_st"
   ]
  },
  {
   "cell_type": "code",
   "execution_count": 74,
   "metadata": {
    "ExecuteTime": {
     "end_time": "2017-07-28T13:15:02.659730Z",
     "start_time": "2017-07-28T13:15:02.644106Z"
    },
    "collapsed": true
   },
   "outputs": [],
   "source": [
    "data_sr = pd.Series(data_st[group_col], index=data_st[col])\n",
    "data_dict = data_sr.to_dict()"
   ]
  },
  {
   "cell_type": "code",
   "execution_count": 75,
   "metadata": {
    "ExecuteTime": {
     "end_time": "2017-07-28T13:15:03.029548Z",
     "start_time": "2017-07-28T13:15:02.659730Z"
    },
    "scrolled": true
   },
   "outputs": [
    {
     "data": {
      "text/html": [
       "<div>\n",
       "<style>\n",
       "    .dataframe thead tr:only-child th {\n",
       "        text-align: right;\n",
       "    }\n",
       "\n",
       "    .dataframe thead th {\n",
       "        text-align: left;\n",
       "    }\n",
       "\n",
       "    .dataframe tbody tr th {\n",
       "        vertical-align: top;\n",
       "    }\n",
       "</style>\n",
       "<table border=\"1\" class=\"dataframe\">\n",
       "  <thead>\n",
       "    <tr style=\"text-align: right;\">\n",
       "      <th></th>\n",
       "      <th></th>\n",
       "      <th>id</th>\n",
       "      <th>vendor_id</th>\n",
       "      <th>passenger_count</th>\n",
       "      <th>pickup_longitude</th>\n",
       "      <th>pickup_latitude</th>\n",
       "      <th>dropoff_longitude</th>\n",
       "      <th>dropoff_latitude</th>\n",
       "      <th>store_and_fwd_flag</th>\n",
       "      <th>total_distance</th>\n",
       "      <th>number_of_streets</th>\n",
       "      <th>pickup_year</th>\n",
       "      <th>pickup_month</th>\n",
       "      <th>pickup_weekday</th>\n",
       "      <th>pickup_day</th>\n",
       "      <th>pickup_hour</th>\n",
       "      <th>pickup_minute</th>\n",
       "      <th>starting_street_tf</th>\n",
       "      <th>end_street_tf</th>\n",
       "      <th>haversine_distance</th>\n",
       "      <th>pickup_hour_speed_mean</th>\n",
       "    </tr>\n",
       "  </thead>\n",
       "  <tbody>\n",
       "    <tr>\n",
       "      <th rowspan=\"5\" valign=\"top\">train</th>\n",
       "      <th>0</th>\n",
       "      <td>id2875421</td>\n",
       "      <td>2</td>\n",
       "      <td>1</td>\n",
       "      <td>-73.9822</td>\n",
       "      <td>40.7679</td>\n",
       "      <td>-73.9646</td>\n",
       "      <td>40.7656</td>\n",
       "      <td>0</td>\n",
       "      <td>2,009.1000</td>\n",
       "      <td>5.0000</td>\n",
       "      <td>2016</td>\n",
       "      <td>3</td>\n",
       "      <td>0</td>\n",
       "      <td>14</td>\n",
       "      <td>17</td>\n",
       "      <td>24</td>\n",
       "      <td>774.0000</td>\n",
       "      <td>2,224.0000</td>\n",
       "      <td>1.9488</td>\n",
       "      <td>4.6887</td>\n",
       "    </tr>\n",
       "    <tr>\n",
       "      <th>1</th>\n",
       "      <td>id2377394</td>\n",
       "      <td>1</td>\n",
       "      <td>1</td>\n",
       "      <td>-73.9804</td>\n",
       "      <td>40.7386</td>\n",
       "      <td>-73.9995</td>\n",
       "      <td>40.7312</td>\n",
       "      <td>0</td>\n",
       "      <td>2,513.2000</td>\n",
       "      <td>6.0000</td>\n",
       "      <td>2016</td>\n",
       "      <td>6</td>\n",
       "      <td>6</td>\n",
       "      <td>12</td>\n",
       "      <td>0</td>\n",
       "      <td>43</td>\n",
       "      <td>166.0000</td>\n",
       "      <td>5,465.0000</td>\n",
       "      <td>2.1308</td>\n",
       "      <td>6.6375</td>\n",
       "    </tr>\n",
       "    <tr>\n",
       "      <th>2</th>\n",
       "      <td>id3858529</td>\n",
       "      <td>2</td>\n",
       "      <td>1</td>\n",
       "      <td>-73.9790</td>\n",
       "      <td>40.7639</td>\n",
       "      <td>-74.0053</td>\n",
       "      <td>40.7101</td>\n",
       "      <td>0</td>\n",
       "      <td>11,060.8000</td>\n",
       "      <td>16.0000</td>\n",
       "      <td>2016</td>\n",
       "      <td>1</td>\n",
       "      <td>1</td>\n",
       "      <td>19</td>\n",
       "      <td>11</td>\n",
       "      <td>35</td>\n",
       "      <td>2,613.0000</td>\n",
       "      <td>1,129.0000</td>\n",
       "      <td>3.3569</td>\n",
       "      <td>4.7020</td>\n",
       "    </tr>\n",
       "    <tr>\n",
       "      <th>3</th>\n",
       "      <td>id3504673</td>\n",
       "      <td>2</td>\n",
       "      <td>1</td>\n",
       "      <td>-74.0100</td>\n",
       "      <td>40.7200</td>\n",
       "      <td>-74.0123</td>\n",
       "      <td>40.7067</td>\n",
       "      <td>0</td>\n",
       "      <td>1,779.4000</td>\n",
       "      <td>4.0000</td>\n",
       "      <td>2016</td>\n",
       "      <td>4</td>\n",
       "      <td>2</td>\n",
       "      <td>6</td>\n",
       "      <td>19</td>\n",
       "      <td>32</td>\n",
       "      <td>1,316.0000</td>\n",
       "      <td>1,308.0000</td>\n",
       "      <td>0.4752</td>\n",
       "      <td>5.0890</td>\n",
       "    </tr>\n",
       "    <tr>\n",
       "      <th>4</th>\n",
       "      <td>id2181028</td>\n",
       "      <td>2</td>\n",
       "      <td>1</td>\n",
       "      <td>-73.9731</td>\n",
       "      <td>40.7932</td>\n",
       "      <td>-73.9729</td>\n",
       "      <td>40.7825</td>\n",
       "      <td>0</td>\n",
       "      <td>1,614.9000</td>\n",
       "      <td>5.0000</td>\n",
       "      <td>2016</td>\n",
       "      <td>3</td>\n",
       "      <td>5</td>\n",
       "      <td>26</td>\n",
       "      <td>13</td>\n",
       "      <td>30</td>\n",
       "      <td>609.0000</td>\n",
       "      <td>5,735.0000</td>\n",
       "      <td>0.3283</td>\n",
       "      <td>4.7184</td>\n",
       "    </tr>\n",
       "  </tbody>\n",
       "</table>\n",
       "</div>"
      ],
      "text/plain": [
       "                id  vendor_id  passenger_count  pickup_longitude  \\\n",
       "train 0  id2875421          2                1          -73.9822   \n",
       "      1  id2377394          1                1          -73.9804   \n",
       "      2  id3858529          2                1          -73.9790   \n",
       "      3  id3504673          2                1          -74.0100   \n",
       "      4  id2181028          2                1          -73.9731   \n",
       "\n",
       "         pickup_latitude  dropoff_longitude  dropoff_latitude  \\\n",
       "train 0          40.7679           -73.9646           40.7656   \n",
       "      1          40.7386           -73.9995           40.7312   \n",
       "      2          40.7639           -74.0053           40.7101   \n",
       "      3          40.7200           -74.0123           40.7067   \n",
       "      4          40.7932           -73.9729           40.7825   \n",
       "\n",
       "        store_and_fwd_flag  total_distance  number_of_streets  pickup_year  \\\n",
       "train 0                  0      2,009.1000             5.0000         2016   \n",
       "      1                  0      2,513.2000             6.0000         2016   \n",
       "      2                  0     11,060.8000            16.0000         2016   \n",
       "      3                  0      1,779.4000             4.0000         2016   \n",
       "      4                  0      1,614.9000             5.0000         2016   \n",
       "\n",
       "         pickup_month  pickup_weekday  pickup_day  pickup_hour  pickup_minute  \\\n",
       "train 0             3               0          14           17             24   \n",
       "      1             6               6          12            0             43   \n",
       "      2             1               1          19           11             35   \n",
       "      3             4               2           6           19             32   \n",
       "      4             3               5          26           13             30   \n",
       "\n",
       "         starting_street_tf  end_street_tf  haversine_distance  \\\n",
       "train 0            774.0000     2,224.0000              1.9488   \n",
       "      1            166.0000     5,465.0000              2.1308   \n",
       "      2          2,613.0000     1,129.0000              3.3569   \n",
       "      3          1,316.0000     1,308.0000              0.4752   \n",
       "      4            609.0000     5,735.0000              0.3283   \n",
       "\n",
       "         pickup_hour_speed_mean  \n",
       "train 0                  4.6887  \n",
       "      1                  6.6375  \n",
       "      2                  4.7020  \n",
       "      3                  5.0890  \n",
       "      4                  4.7184  "
      ]
     },
     "execution_count": 75,
     "metadata": {},
     "output_type": "execute_result"
    }
   ],
   "source": [
    "col_mean = col + '_' + 'speed_mean'\n",
    "combine_data_tf[col_mean] = data[col].map(data_dict)\n",
    "combine_data_tf[:5]"
   ]
  },
  {
   "cell_type": "code",
   "execution_count": 76,
   "metadata": {
    "ExecuteTime": {
     "end_time": "2017-07-28T13:15:03.492922Z",
     "start_time": "2017-07-28T13:15:03.029548Z"
    },
    "collapsed": true
   },
   "outputs": [],
   "source": [
    "combine_data_tf[col_mean].fillna(combine_data_tf[col_mean].mean(), inplace=True)"
   ]
  },
  {
   "cell_type": "markdown",
   "metadata": {},
   "source": [
    "#### speed_mean by week_day"
   ]
  },
  {
   "cell_type": "code",
   "execution_count": 77,
   "metadata": {
    "ExecuteTime": {
     "end_time": "2017-07-28T13:15:03.677423Z",
     "start_time": "2017-07-28T13:15:03.492922Z"
    }
   },
   "outputs": [
    {
     "data": {
      "text/html": [
       "<div>\n",
       "<style>\n",
       "    .dataframe thead tr:only-child th {\n",
       "        text-align: right;\n",
       "    }\n",
       "\n",
       "    .dataframe thead th {\n",
       "        text-align: left;\n",
       "    }\n",
       "\n",
       "    .dataframe tbody tr th {\n",
       "        vertical-align: top;\n",
       "    }\n",
       "</style>\n",
       "<table border=\"1\" class=\"dataframe\">\n",
       "  <thead>\n",
       "    <tr style=\"text-align: right;\">\n",
       "      <th></th>\n",
       "      <th>index</th>\n",
       "      <th>pickup_weekday</th>\n",
       "      <th>speed</th>\n",
       "    </tr>\n",
       "  </thead>\n",
       "  <tbody>\n",
       "    <tr>\n",
       "      <th>0</th>\n",
       "      <td>0</td>\n",
       "      <td>0</td>\n",
       "      <td>5.6874</td>\n",
       "    </tr>\n",
       "    <tr>\n",
       "      <th>1</th>\n",
       "      <td>1</td>\n",
       "      <td>1</td>\n",
       "      <td>5.1908</td>\n",
       "    </tr>\n",
       "    <tr>\n",
       "      <th>2</th>\n",
       "      <td>2</td>\n",
       "      <td>2</td>\n",
       "      <td>5.0525</td>\n",
       "    </tr>\n",
       "    <tr>\n",
       "      <th>3</th>\n",
       "      <td>3</td>\n",
       "      <td>3</td>\n",
       "      <td>5.0712</td>\n",
       "    </tr>\n",
       "    <tr>\n",
       "      <th>4</th>\n",
       "      <td>4</td>\n",
       "      <td>4</td>\n",
       "      <td>5.1594</td>\n",
       "    </tr>\n",
       "    <tr>\n",
       "      <th>5</th>\n",
       "      <td>5</td>\n",
       "      <td>5</td>\n",
       "      <td>5.6155</td>\n",
       "    </tr>\n",
       "    <tr>\n",
       "      <th>6</th>\n",
       "      <td>6</td>\n",
       "      <td>6</td>\n",
       "      <td>6.2816</td>\n",
       "    </tr>\n",
       "  </tbody>\n",
       "</table>\n",
       "</div>"
      ],
      "text/plain": [
       "   index  pickup_weekday  speed\n",
       "0      0               0 5.6874\n",
       "1      1               1 5.1908\n",
       "2      2               2 5.0525\n",
       "3      3               3 5.0712\n",
       "4      4               4 5.1594\n",
       "5      5               5 5.6155\n",
       "6      6               6 6.2816"
      ]
     },
     "execution_count": 77,
     "metadata": {},
     "output_type": "execute_result"
    }
   ],
   "source": [
    "col = 'pickup_weekday'\n",
    "group_col ='speed'\n",
    "data_grp = data_speed[[col, group_col]] \n",
    "data_st = data_grp.groupby(col,as_index=False).mean().sort_values(col).reset_index()\n",
    "data_st"
   ]
  },
  {
   "cell_type": "code",
   "execution_count": 78,
   "metadata": {
    "ExecuteTime": {
     "end_time": "2017-07-28T13:15:03.931356Z",
     "start_time": "2017-07-28T13:15:03.677423Z"
    },
    "collapsed": true
   },
   "outputs": [],
   "source": [
    "data_sr = pd.Series(data_st[group_col], index=data_st[col])\n",
    "data_dict = data_sr.to_dict()"
   ]
  },
  {
   "cell_type": "code",
   "execution_count": 79,
   "metadata": {
    "ExecuteTime": {
     "end_time": "2017-07-28T13:15:04.294670Z",
     "start_time": "2017-07-28T13:15:03.931356Z"
    },
    "scrolled": false
   },
   "outputs": [
    {
     "data": {
      "text/html": [
       "<div>\n",
       "<style>\n",
       "    .dataframe thead tr:only-child th {\n",
       "        text-align: right;\n",
       "    }\n",
       "\n",
       "    .dataframe thead th {\n",
       "        text-align: left;\n",
       "    }\n",
       "\n",
       "    .dataframe tbody tr th {\n",
       "        vertical-align: top;\n",
       "    }\n",
       "</style>\n",
       "<table border=\"1\" class=\"dataframe\">\n",
       "  <thead>\n",
       "    <tr style=\"text-align: right;\">\n",
       "      <th></th>\n",
       "      <th></th>\n",
       "      <th>id</th>\n",
       "      <th>vendor_id</th>\n",
       "      <th>passenger_count</th>\n",
       "      <th>pickup_longitude</th>\n",
       "      <th>pickup_latitude</th>\n",
       "      <th>dropoff_longitude</th>\n",
       "      <th>dropoff_latitude</th>\n",
       "      <th>store_and_fwd_flag</th>\n",
       "      <th>total_distance</th>\n",
       "      <th>number_of_streets</th>\n",
       "      <th>...</th>\n",
       "      <th>pickup_month</th>\n",
       "      <th>pickup_weekday</th>\n",
       "      <th>pickup_day</th>\n",
       "      <th>pickup_hour</th>\n",
       "      <th>pickup_minute</th>\n",
       "      <th>starting_street_tf</th>\n",
       "      <th>end_street_tf</th>\n",
       "      <th>haversine_distance</th>\n",
       "      <th>pickup_hour_speed_mean</th>\n",
       "      <th>pickup_weekday_mean</th>\n",
       "    </tr>\n",
       "  </thead>\n",
       "  <tbody>\n",
       "    <tr>\n",
       "      <th rowspan=\"5\" valign=\"top\">train</th>\n",
       "      <th>0</th>\n",
       "      <td>id2875421</td>\n",
       "      <td>2</td>\n",
       "      <td>1</td>\n",
       "      <td>-73.9822</td>\n",
       "      <td>40.7679</td>\n",
       "      <td>-73.9646</td>\n",
       "      <td>40.7656</td>\n",
       "      <td>0</td>\n",
       "      <td>2,009.1000</td>\n",
       "      <td>5.0000</td>\n",
       "      <td>...</td>\n",
       "      <td>3</td>\n",
       "      <td>0</td>\n",
       "      <td>14</td>\n",
       "      <td>17</td>\n",
       "      <td>24</td>\n",
       "      <td>774.0000</td>\n",
       "      <td>2,224.0000</td>\n",
       "      <td>1.9488</td>\n",
       "      <td>4.6887</td>\n",
       "      <td>5.6874</td>\n",
       "    </tr>\n",
       "    <tr>\n",
       "      <th>1</th>\n",
       "      <td>id2377394</td>\n",
       "      <td>1</td>\n",
       "      <td>1</td>\n",
       "      <td>-73.9804</td>\n",
       "      <td>40.7386</td>\n",
       "      <td>-73.9995</td>\n",
       "      <td>40.7312</td>\n",
       "      <td>0</td>\n",
       "      <td>2,513.2000</td>\n",
       "      <td>6.0000</td>\n",
       "      <td>...</td>\n",
       "      <td>6</td>\n",
       "      <td>6</td>\n",
       "      <td>12</td>\n",
       "      <td>0</td>\n",
       "      <td>43</td>\n",
       "      <td>166.0000</td>\n",
       "      <td>5,465.0000</td>\n",
       "      <td>2.1308</td>\n",
       "      <td>6.6375</td>\n",
       "      <td>6.2816</td>\n",
       "    </tr>\n",
       "    <tr>\n",
       "      <th>2</th>\n",
       "      <td>id3858529</td>\n",
       "      <td>2</td>\n",
       "      <td>1</td>\n",
       "      <td>-73.9790</td>\n",
       "      <td>40.7639</td>\n",
       "      <td>-74.0053</td>\n",
       "      <td>40.7101</td>\n",
       "      <td>0</td>\n",
       "      <td>11,060.8000</td>\n",
       "      <td>16.0000</td>\n",
       "      <td>...</td>\n",
       "      <td>1</td>\n",
       "      <td>1</td>\n",
       "      <td>19</td>\n",
       "      <td>11</td>\n",
       "      <td>35</td>\n",
       "      <td>2,613.0000</td>\n",
       "      <td>1,129.0000</td>\n",
       "      <td>3.3569</td>\n",
       "      <td>4.7020</td>\n",
       "      <td>5.1908</td>\n",
       "    </tr>\n",
       "    <tr>\n",
       "      <th>3</th>\n",
       "      <td>id3504673</td>\n",
       "      <td>2</td>\n",
       "      <td>1</td>\n",
       "      <td>-74.0100</td>\n",
       "      <td>40.7200</td>\n",
       "      <td>-74.0123</td>\n",
       "      <td>40.7067</td>\n",
       "      <td>0</td>\n",
       "      <td>1,779.4000</td>\n",
       "      <td>4.0000</td>\n",
       "      <td>...</td>\n",
       "      <td>4</td>\n",
       "      <td>2</td>\n",
       "      <td>6</td>\n",
       "      <td>19</td>\n",
       "      <td>32</td>\n",
       "      <td>1,316.0000</td>\n",
       "      <td>1,308.0000</td>\n",
       "      <td>0.4752</td>\n",
       "      <td>5.0890</td>\n",
       "      <td>5.0525</td>\n",
       "    </tr>\n",
       "    <tr>\n",
       "      <th>4</th>\n",
       "      <td>id2181028</td>\n",
       "      <td>2</td>\n",
       "      <td>1</td>\n",
       "      <td>-73.9731</td>\n",
       "      <td>40.7932</td>\n",
       "      <td>-73.9729</td>\n",
       "      <td>40.7825</td>\n",
       "      <td>0</td>\n",
       "      <td>1,614.9000</td>\n",
       "      <td>5.0000</td>\n",
       "      <td>...</td>\n",
       "      <td>3</td>\n",
       "      <td>5</td>\n",
       "      <td>26</td>\n",
       "      <td>13</td>\n",
       "      <td>30</td>\n",
       "      <td>609.0000</td>\n",
       "      <td>5,735.0000</td>\n",
       "      <td>0.3283</td>\n",
       "      <td>4.7184</td>\n",
       "      <td>5.6155</td>\n",
       "    </tr>\n",
       "  </tbody>\n",
       "</table>\n",
       "<p>5 rows × 21 columns</p>\n",
       "</div>"
      ],
      "text/plain": [
       "                id  vendor_id  passenger_count  pickup_longitude  \\\n",
       "train 0  id2875421          2                1          -73.9822   \n",
       "      1  id2377394          1                1          -73.9804   \n",
       "      2  id3858529          2                1          -73.9790   \n",
       "      3  id3504673          2                1          -74.0100   \n",
       "      4  id2181028          2                1          -73.9731   \n",
       "\n",
       "         pickup_latitude  dropoff_longitude  dropoff_latitude  \\\n",
       "train 0          40.7679           -73.9646           40.7656   \n",
       "      1          40.7386           -73.9995           40.7312   \n",
       "      2          40.7639           -74.0053           40.7101   \n",
       "      3          40.7200           -74.0123           40.7067   \n",
       "      4          40.7932           -73.9729           40.7825   \n",
       "\n",
       "        store_and_fwd_flag  total_distance  number_of_streets  \\\n",
       "train 0                  0      2,009.1000             5.0000   \n",
       "      1                  0      2,513.2000             6.0000   \n",
       "      2                  0     11,060.8000            16.0000   \n",
       "      3                  0      1,779.4000             4.0000   \n",
       "      4                  0      1,614.9000             5.0000   \n",
       "\n",
       "                ...           pickup_month  pickup_weekday  pickup_day  \\\n",
       "train 0         ...                      3               0          14   \n",
       "      1         ...                      6               6          12   \n",
       "      2         ...                      1               1          19   \n",
       "      3         ...                      4               2           6   \n",
       "      4         ...                      3               5          26   \n",
       "\n",
       "         pickup_hour  pickup_minute  starting_street_tf  end_street_tf  \\\n",
       "train 0           17             24            774.0000     2,224.0000   \n",
       "      1            0             43            166.0000     5,465.0000   \n",
       "      2           11             35          2,613.0000     1,129.0000   \n",
       "      3           19             32          1,316.0000     1,308.0000   \n",
       "      4           13             30            609.0000     5,735.0000   \n",
       "\n",
       "         haversine_distance  pickup_hour_speed_mean  pickup_weekday_mean  \n",
       "train 0              1.9488                  4.6887               5.6874  \n",
       "      1              2.1308                  6.6375               6.2816  \n",
       "      2              3.3569                  4.7020               5.1908  \n",
       "      3              0.4752                  5.0890               5.0525  \n",
       "      4              0.3283                  4.7184               5.6155  \n",
       "\n",
       "[5 rows x 21 columns]"
      ]
     },
     "execution_count": 79,
     "metadata": {},
     "output_type": "execute_result"
    }
   ],
   "source": [
    "col_mean = col + '_' + 'mean'\n",
    "combine_data_tf[col_mean] = data[col].map(data_dict)\n",
    "combine_data_tf[:5]"
   ]
  },
  {
   "cell_type": "code",
   "execution_count": 80,
   "metadata": {
    "ExecuteTime": {
     "end_time": "2017-07-28T13:15:04.432707Z",
     "start_time": "2017-07-28T13:15:04.294670Z"
    },
    "collapsed": true
   },
   "outputs": [],
   "source": [
    "combine_data_tf[col_mean].fillna(combine_data_tf[col_mean].mean(), inplace=True)"
   ]
  },
  {
   "cell_type": "markdown",
   "metadata": {},
   "source": [
    "#### speed_mean by day"
   ]
  },
  {
   "cell_type": "code",
   "execution_count": 81,
   "metadata": {
    "ExecuteTime": {
     "end_time": "2017-07-28T13:15:04.579863Z",
     "start_time": "2017-07-28T13:15:04.432707Z"
    }
   },
   "outputs": [
    {
     "data": {
      "text/html": [
       "<div>\n",
       "<style>\n",
       "    .dataframe thead tr:only-child th {\n",
       "        text-align: right;\n",
       "    }\n",
       "\n",
       "    .dataframe thead th {\n",
       "        text-align: left;\n",
       "    }\n",
       "\n",
       "    .dataframe tbody tr th {\n",
       "        vertical-align: top;\n",
       "    }\n",
       "</style>\n",
       "<table border=\"1\" class=\"dataframe\">\n",
       "  <thead>\n",
       "    <tr style=\"text-align: right;\">\n",
       "      <th></th>\n",
       "      <th>index</th>\n",
       "      <th>pickup_day</th>\n",
       "      <th>speed</th>\n",
       "    </tr>\n",
       "  </thead>\n",
       "  <tbody>\n",
       "    <tr>\n",
       "      <th>0</th>\n",
       "      <td>0</td>\n",
       "      <td>1</td>\n",
       "      <td>5.6004</td>\n",
       "    </tr>\n",
       "    <tr>\n",
       "      <th>1</th>\n",
       "      <td>1</td>\n",
       "      <td>2</td>\n",
       "      <td>5.4512</td>\n",
       "    </tr>\n",
       "    <tr>\n",
       "      <th>2</th>\n",
       "      <td>2</td>\n",
       "      <td>3</td>\n",
       "      <td>5.4274</td>\n",
       "    </tr>\n",
       "    <tr>\n",
       "      <th>3</th>\n",
       "      <td>3</td>\n",
       "      <td>4</td>\n",
       "      <td>5.2898</td>\n",
       "    </tr>\n",
       "    <tr>\n",
       "      <th>4</th>\n",
       "      <td>4</td>\n",
       "      <td>5</td>\n",
       "      <td>5.4049</td>\n",
       "    </tr>\n",
       "    <tr>\n",
       "      <th>5</th>\n",
       "      <td>5</td>\n",
       "      <td>6</td>\n",
       "      <td>5.4786</td>\n",
       "    </tr>\n",
       "    <tr>\n",
       "      <th>6</th>\n",
       "      <td>6</td>\n",
       "      <td>7</td>\n",
       "      <td>5.5201</td>\n",
       "    </tr>\n",
       "    <tr>\n",
       "      <th>7</th>\n",
       "      <td>7</td>\n",
       "      <td>8</td>\n",
       "      <td>5.4114</td>\n",
       "    </tr>\n",
       "    <tr>\n",
       "      <th>8</th>\n",
       "      <td>8</td>\n",
       "      <td>9</td>\n",
       "      <td>5.3423</td>\n",
       "    </tr>\n",
       "    <tr>\n",
       "      <th>9</th>\n",
       "      <td>9</td>\n",
       "      <td>10</td>\n",
       "      <td>5.5146</td>\n",
       "    </tr>\n",
       "    <tr>\n",
       "      <th>10</th>\n",
       "      <td>10</td>\n",
       "      <td>11</td>\n",
       "      <td>5.3198</td>\n",
       "    </tr>\n",
       "    <tr>\n",
       "      <th>11</th>\n",
       "      <td>11</td>\n",
       "      <td>12</td>\n",
       "      <td>5.3375</td>\n",
       "    </tr>\n",
       "    <tr>\n",
       "      <th>12</th>\n",
       "      <td>12</td>\n",
       "      <td>13</td>\n",
       "      <td>5.5073</td>\n",
       "    </tr>\n",
       "    <tr>\n",
       "      <th>13</th>\n",
       "      <td>13</td>\n",
       "      <td>14</td>\n",
       "      <td>5.3633</td>\n",
       "    </tr>\n",
       "    <tr>\n",
       "      <th>14</th>\n",
       "      <td>14</td>\n",
       "      <td>15</td>\n",
       "      <td>5.4938</td>\n",
       "    </tr>\n",
       "    <tr>\n",
       "      <th>15</th>\n",
       "      <td>15</td>\n",
       "      <td>16</td>\n",
       "      <td>5.3516</td>\n",
       "    </tr>\n",
       "    <tr>\n",
       "      <th>16</th>\n",
       "      <td>16</td>\n",
       "      <td>17</td>\n",
       "      <td>5.5523</td>\n",
       "    </tr>\n",
       "    <tr>\n",
       "      <th>17</th>\n",
       "      <td>17</td>\n",
       "      <td>18</td>\n",
       "      <td>5.4648</td>\n",
       "    </tr>\n",
       "    <tr>\n",
       "      <th>18</th>\n",
       "      <td>18</td>\n",
       "      <td>19</td>\n",
       "      <td>5.4256</td>\n",
       "    </tr>\n",
       "    <tr>\n",
       "      <th>19</th>\n",
       "      <td>19</td>\n",
       "      <td>20</td>\n",
       "      <td>5.4773</td>\n",
       "    </tr>\n",
       "    <tr>\n",
       "      <th>20</th>\n",
       "      <td>20</td>\n",
       "      <td>21</td>\n",
       "      <td>5.4027</td>\n",
       "    </tr>\n",
       "    <tr>\n",
       "      <th>21</th>\n",
       "      <td>21</td>\n",
       "      <td>22</td>\n",
       "      <td>5.3526</td>\n",
       "    </tr>\n",
       "    <tr>\n",
       "      <th>22</th>\n",
       "      <td>22</td>\n",
       "      <td>23</td>\n",
       "      <td>5.3052</td>\n",
       "    </tr>\n",
       "    <tr>\n",
       "      <th>23</th>\n",
       "      <td>23</td>\n",
       "      <td>24</td>\n",
       "      <td>5.2637</td>\n",
       "    </tr>\n",
       "    <tr>\n",
       "      <th>24</th>\n",
       "      <td>24</td>\n",
       "      <td>25</td>\n",
       "      <td>5.2922</td>\n",
       "    </tr>\n",
       "    <tr>\n",
       "      <th>25</th>\n",
       "      <td>25</td>\n",
       "      <td>26</td>\n",
       "      <td>5.3082</td>\n",
       "    </tr>\n",
       "    <tr>\n",
       "      <th>26</th>\n",
       "      <td>26</td>\n",
       "      <td>27</td>\n",
       "      <td>5.4610</td>\n",
       "    </tr>\n",
       "    <tr>\n",
       "      <th>27</th>\n",
       "      <td>27</td>\n",
       "      <td>28</td>\n",
       "      <td>5.5580</td>\n",
       "    </tr>\n",
       "    <tr>\n",
       "      <th>28</th>\n",
       "      <td>28</td>\n",
       "      <td>29</td>\n",
       "      <td>5.3691</td>\n",
       "    </tr>\n",
       "    <tr>\n",
       "      <th>29</th>\n",
       "      <td>29</td>\n",
       "      <td>30</td>\n",
       "      <td>5.5700</td>\n",
       "    </tr>\n",
       "    <tr>\n",
       "      <th>30</th>\n",
       "      <td>30</td>\n",
       "      <td>31</td>\n",
       "      <td>5.5545</td>\n",
       "    </tr>\n",
       "  </tbody>\n",
       "</table>\n",
       "</div>"
      ],
      "text/plain": [
       "    index  pickup_day  speed\n",
       "0       0           1 5.6004\n",
       "1       1           2 5.4512\n",
       "2       2           3 5.4274\n",
       "3       3           4 5.2898\n",
       "4       4           5 5.4049\n",
       "5       5           6 5.4786\n",
       "6       6           7 5.5201\n",
       "7       7           8 5.4114\n",
       "8       8           9 5.3423\n",
       "9       9          10 5.5146\n",
       "10     10          11 5.3198\n",
       "11     11          12 5.3375\n",
       "12     12          13 5.5073\n",
       "13     13          14 5.3633\n",
       "14     14          15 5.4938\n",
       "15     15          16 5.3516\n",
       "16     16          17 5.5523\n",
       "17     17          18 5.4648\n",
       "18     18          19 5.4256\n",
       "19     19          20 5.4773\n",
       "20     20          21 5.4027\n",
       "21     21          22 5.3526\n",
       "22     22          23 5.3052\n",
       "23     23          24 5.2637\n",
       "24     24          25 5.2922\n",
       "25     25          26 5.3082\n",
       "26     26          27 5.4610\n",
       "27     27          28 5.5580\n",
       "28     28          29 5.3691\n",
       "29     29          30 5.5700\n",
       "30     30          31 5.5545"
      ]
     },
     "execution_count": 81,
     "metadata": {},
     "output_type": "execute_result"
    }
   ],
   "source": [
    "col = 'pickup_day'\n",
    "group_col ='speed'\n",
    "data_grp = data_speed[[col, group_col]] \n",
    "data_st = data_grp.groupby(col,as_index=False).mean().sort_values(col).reset_index()\n",
    "data_st"
   ]
  },
  {
   "cell_type": "code",
   "execution_count": 82,
   "metadata": {
    "ExecuteTime": {
     "end_time": "2017-07-28T13:15:04.996560Z",
     "start_time": "2017-07-28T13:15:04.579863Z"
    },
    "collapsed": true
   },
   "outputs": [],
   "source": [
    "data_sr = pd.Series(data_st[group_col], index=data_st[col])\n",
    "data_dict = data_sr.to_dict()"
   ]
  },
  {
   "cell_type": "code",
   "execution_count": 83,
   "metadata": {
    "ExecuteTime": {
     "end_time": "2017-07-28T13:15:05.297365Z",
     "start_time": "2017-07-28T13:15:04.996560Z"
    },
    "scrolled": false
   },
   "outputs": [
    {
     "data": {
      "text/html": [
       "<div>\n",
       "<style>\n",
       "    .dataframe thead tr:only-child th {\n",
       "        text-align: right;\n",
       "    }\n",
       "\n",
       "    .dataframe thead th {\n",
       "        text-align: left;\n",
       "    }\n",
       "\n",
       "    .dataframe tbody tr th {\n",
       "        vertical-align: top;\n",
       "    }\n",
       "</style>\n",
       "<table border=\"1\" class=\"dataframe\">\n",
       "  <thead>\n",
       "    <tr style=\"text-align: right;\">\n",
       "      <th></th>\n",
       "      <th></th>\n",
       "      <th>id</th>\n",
       "      <th>vendor_id</th>\n",
       "      <th>passenger_count</th>\n",
       "      <th>pickup_longitude</th>\n",
       "      <th>pickup_latitude</th>\n",
       "      <th>dropoff_longitude</th>\n",
       "      <th>dropoff_latitude</th>\n",
       "      <th>store_and_fwd_flag</th>\n",
       "      <th>total_distance</th>\n",
       "      <th>number_of_streets</th>\n",
       "      <th>...</th>\n",
       "      <th>pickup_weekday</th>\n",
       "      <th>pickup_day</th>\n",
       "      <th>pickup_hour</th>\n",
       "      <th>pickup_minute</th>\n",
       "      <th>starting_street_tf</th>\n",
       "      <th>end_street_tf</th>\n",
       "      <th>haversine_distance</th>\n",
       "      <th>pickup_hour_speed_mean</th>\n",
       "      <th>pickup_weekday_mean</th>\n",
       "      <th>pickup_day_mean</th>\n",
       "    </tr>\n",
       "  </thead>\n",
       "  <tbody>\n",
       "    <tr>\n",
       "      <th rowspan=\"5\" valign=\"top\">train</th>\n",
       "      <th>0</th>\n",
       "      <td>id2875421</td>\n",
       "      <td>2</td>\n",
       "      <td>1</td>\n",
       "      <td>-73.9822</td>\n",
       "      <td>40.7679</td>\n",
       "      <td>-73.9646</td>\n",
       "      <td>40.7656</td>\n",
       "      <td>0</td>\n",
       "      <td>2,009.1000</td>\n",
       "      <td>5.0000</td>\n",
       "      <td>...</td>\n",
       "      <td>0</td>\n",
       "      <td>14</td>\n",
       "      <td>17</td>\n",
       "      <td>24</td>\n",
       "      <td>774.0000</td>\n",
       "      <td>2,224.0000</td>\n",
       "      <td>1.9488</td>\n",
       "      <td>4.6887</td>\n",
       "      <td>5.6874</td>\n",
       "      <td>5.4938</td>\n",
       "    </tr>\n",
       "    <tr>\n",
       "      <th>1</th>\n",
       "      <td>id2377394</td>\n",
       "      <td>1</td>\n",
       "      <td>1</td>\n",
       "      <td>-73.9804</td>\n",
       "      <td>40.7386</td>\n",
       "      <td>-73.9995</td>\n",
       "      <td>40.7312</td>\n",
       "      <td>0</td>\n",
       "      <td>2,513.2000</td>\n",
       "      <td>6.0000</td>\n",
       "      <td>...</td>\n",
       "      <td>6</td>\n",
       "      <td>12</td>\n",
       "      <td>0</td>\n",
       "      <td>43</td>\n",
       "      <td>166.0000</td>\n",
       "      <td>5,465.0000</td>\n",
       "      <td>2.1308</td>\n",
       "      <td>6.6375</td>\n",
       "      <td>6.2816</td>\n",
       "      <td>5.5073</td>\n",
       "    </tr>\n",
       "    <tr>\n",
       "      <th>2</th>\n",
       "      <td>id3858529</td>\n",
       "      <td>2</td>\n",
       "      <td>1</td>\n",
       "      <td>-73.9790</td>\n",
       "      <td>40.7639</td>\n",
       "      <td>-74.0053</td>\n",
       "      <td>40.7101</td>\n",
       "      <td>0</td>\n",
       "      <td>11,060.8000</td>\n",
       "      <td>16.0000</td>\n",
       "      <td>...</td>\n",
       "      <td>1</td>\n",
       "      <td>19</td>\n",
       "      <td>11</td>\n",
       "      <td>35</td>\n",
       "      <td>2,613.0000</td>\n",
       "      <td>1,129.0000</td>\n",
       "      <td>3.3569</td>\n",
       "      <td>4.7020</td>\n",
       "      <td>5.1908</td>\n",
       "      <td>5.4773</td>\n",
       "    </tr>\n",
       "    <tr>\n",
       "      <th>3</th>\n",
       "      <td>id3504673</td>\n",
       "      <td>2</td>\n",
       "      <td>1</td>\n",
       "      <td>-74.0100</td>\n",
       "      <td>40.7200</td>\n",
       "      <td>-74.0123</td>\n",
       "      <td>40.7067</td>\n",
       "      <td>0</td>\n",
       "      <td>1,779.4000</td>\n",
       "      <td>4.0000</td>\n",
       "      <td>...</td>\n",
       "      <td>2</td>\n",
       "      <td>6</td>\n",
       "      <td>19</td>\n",
       "      <td>32</td>\n",
       "      <td>1,316.0000</td>\n",
       "      <td>1,308.0000</td>\n",
       "      <td>0.4752</td>\n",
       "      <td>5.0890</td>\n",
       "      <td>5.0525</td>\n",
       "      <td>5.5201</td>\n",
       "    </tr>\n",
       "    <tr>\n",
       "      <th>4</th>\n",
       "      <td>id2181028</td>\n",
       "      <td>2</td>\n",
       "      <td>1</td>\n",
       "      <td>-73.9731</td>\n",
       "      <td>40.7932</td>\n",
       "      <td>-73.9729</td>\n",
       "      <td>40.7825</td>\n",
       "      <td>0</td>\n",
       "      <td>1,614.9000</td>\n",
       "      <td>5.0000</td>\n",
       "      <td>...</td>\n",
       "      <td>5</td>\n",
       "      <td>26</td>\n",
       "      <td>13</td>\n",
       "      <td>30</td>\n",
       "      <td>609.0000</td>\n",
       "      <td>5,735.0000</td>\n",
       "      <td>0.3283</td>\n",
       "      <td>4.7184</td>\n",
       "      <td>5.6155</td>\n",
       "      <td>5.4610</td>\n",
       "    </tr>\n",
       "  </tbody>\n",
       "</table>\n",
       "<p>5 rows × 22 columns</p>\n",
       "</div>"
      ],
      "text/plain": [
       "                id  vendor_id  passenger_count  pickup_longitude  \\\n",
       "train 0  id2875421          2                1          -73.9822   \n",
       "      1  id2377394          1                1          -73.9804   \n",
       "      2  id3858529          2                1          -73.9790   \n",
       "      3  id3504673          2                1          -74.0100   \n",
       "      4  id2181028          2                1          -73.9731   \n",
       "\n",
       "         pickup_latitude  dropoff_longitude  dropoff_latitude  \\\n",
       "train 0          40.7679           -73.9646           40.7656   \n",
       "      1          40.7386           -73.9995           40.7312   \n",
       "      2          40.7639           -74.0053           40.7101   \n",
       "      3          40.7200           -74.0123           40.7067   \n",
       "      4          40.7932           -73.9729           40.7825   \n",
       "\n",
       "        store_and_fwd_flag  total_distance  number_of_streets  \\\n",
       "train 0                  0      2,009.1000             5.0000   \n",
       "      1                  0      2,513.2000             6.0000   \n",
       "      2                  0     11,060.8000            16.0000   \n",
       "      3                  0      1,779.4000             4.0000   \n",
       "      4                  0      1,614.9000             5.0000   \n",
       "\n",
       "              ...         pickup_weekday  pickup_day  pickup_hour  \\\n",
       "train 0       ...                      0          14           17   \n",
       "      1       ...                      6          12            0   \n",
       "      2       ...                      1          19           11   \n",
       "      3       ...                      2           6           19   \n",
       "      4       ...                      5          26           13   \n",
       "\n",
       "         pickup_minute  starting_street_tf  end_street_tf  haversine_distance  \\\n",
       "train 0             24            774.0000     2,224.0000              1.9488   \n",
       "      1             43            166.0000     5,465.0000              2.1308   \n",
       "      2             35          2,613.0000     1,129.0000              3.3569   \n",
       "      3             32          1,316.0000     1,308.0000              0.4752   \n",
       "      4             30            609.0000     5,735.0000              0.3283   \n",
       "\n",
       "         pickup_hour_speed_mean  pickup_weekday_mean  pickup_day_mean  \n",
       "train 0                  4.6887               5.6874           5.4938  \n",
       "      1                  6.6375               6.2816           5.5073  \n",
       "      2                  4.7020               5.1908           5.4773  \n",
       "      3                  5.0890               5.0525           5.5201  \n",
       "      4                  4.7184               5.6155           5.4610  \n",
       "\n",
       "[5 rows x 22 columns]"
      ]
     },
     "execution_count": 83,
     "metadata": {},
     "output_type": "execute_result"
    }
   ],
   "source": [
    "col_mean = col + '_' + 'mean'\n",
    "combine_data_tf[col_mean] = data[col].map(data_dict)\n",
    "combine_data_tf[:5]"
   ]
  },
  {
   "cell_type": "code",
   "execution_count": 84,
   "metadata": {
    "ExecuteTime": {
     "end_time": "2017-07-28T13:15:05.382010Z",
     "start_time": "2017-07-28T13:15:05.297365Z"
    },
    "collapsed": true
   },
   "outputs": [],
   "source": [
    "combine_data_tf[col_mean].fillna(combine_data_tf[col_mean].mean(), inplace=True)"
   ]
  },
  {
   "cell_type": "markdown",
   "metadata": {},
   "source": [
    "#### speed_mean by month"
   ]
  },
  {
   "cell_type": "code",
   "execution_count": 85,
   "metadata": {
    "ExecuteTime": {
     "end_time": "2017-07-28T13:15:05.651571Z",
     "start_time": "2017-07-28T13:15:05.382010Z"
    }
   },
   "outputs": [
    {
     "data": {
      "text/plain": [
       "count   2,083,778.0000\n",
       "mean            3.5183\n",
       "std             1.6807\n",
       "min             1.0000\n",
       "25%             2.0000\n",
       "50%             4.0000\n",
       "75%             5.0000\n",
       "max             6.0000\n",
       "Name: pickup_month, dtype: float64"
      ]
     },
     "execution_count": 85,
     "metadata": {},
     "output_type": "execute_result"
    }
   ],
   "source": [
    "combine_data_tf['pickup_month'].describe()"
   ]
  },
  {
   "cell_type": "code",
   "execution_count": 86,
   "metadata": {
    "ExecuteTime": {
     "end_time": "2017-07-28T13:15:05.783109Z",
     "start_time": "2017-07-28T13:15:05.651571Z"
    }
   },
   "outputs": [
    {
     "data": {
      "text/html": [
       "<div>\n",
       "<style>\n",
       "    .dataframe thead tr:only-child th {\n",
       "        text-align: right;\n",
       "    }\n",
       "\n",
       "    .dataframe thead th {\n",
       "        text-align: left;\n",
       "    }\n",
       "\n",
       "    .dataframe tbody tr th {\n",
       "        vertical-align: top;\n",
       "    }\n",
       "</style>\n",
       "<table border=\"1\" class=\"dataframe\">\n",
       "  <thead>\n",
       "    <tr style=\"text-align: right;\">\n",
       "      <th></th>\n",
       "      <th>index</th>\n",
       "      <th>pickup_month</th>\n",
       "      <th>speed</th>\n",
       "    </tr>\n",
       "  </thead>\n",
       "  <tbody>\n",
       "    <tr>\n",
       "      <th>0</th>\n",
       "      <td>0</td>\n",
       "      <td>1</td>\n",
       "      <td>5.5701</td>\n",
       "    </tr>\n",
       "    <tr>\n",
       "      <th>1</th>\n",
       "      <td>1</td>\n",
       "      <td>2</td>\n",
       "      <td>5.4949</td>\n",
       "    </tr>\n",
       "    <tr>\n",
       "      <th>2</th>\n",
       "      <td>2</td>\n",
       "      <td>3</td>\n",
       "      <td>5.4836</td>\n",
       "    </tr>\n",
       "    <tr>\n",
       "      <th>3</th>\n",
       "      <td>3</td>\n",
       "      <td>4</td>\n",
       "      <td>5.3419</td>\n",
       "    </tr>\n",
       "    <tr>\n",
       "      <th>4</th>\n",
       "      <td>4</td>\n",
       "      <td>5</td>\n",
       "      <td>5.3554</td>\n",
       "    </tr>\n",
       "    <tr>\n",
       "      <th>5</th>\n",
       "      <td>5</td>\n",
       "      <td>6</td>\n",
       "      <td>5.2941</td>\n",
       "    </tr>\n",
       "  </tbody>\n",
       "</table>\n",
       "</div>"
      ],
      "text/plain": [
       "   index  pickup_month  speed\n",
       "0      0             1 5.5701\n",
       "1      1             2 5.4949\n",
       "2      2             3 5.4836\n",
       "3      3             4 5.3419\n",
       "4      4             5 5.3554\n",
       "5      5             6 5.2941"
      ]
     },
     "execution_count": 86,
     "metadata": {},
     "output_type": "execute_result"
    }
   ],
   "source": [
    "col = 'pickup_month'\n",
    "group_col ='speed'\n",
    "data_grp = data_speed[[col, group_col]] \n",
    "data_st = data_grp.groupby(col,as_index=False).mean().sort_values(col).reset_index()\n",
    "data_st"
   ]
  },
  {
   "cell_type": "code",
   "execution_count": 87,
   "metadata": {
    "ExecuteTime": {
     "end_time": "2017-07-28T13:15:05.951706Z",
     "start_time": "2017-07-28T13:15:05.783109Z"
    },
    "collapsed": true
   },
   "outputs": [],
   "source": [
    "data_sr = pd.Series(data_st[group_col], index=data_st[col])\n",
    "data_dict = data_sr.to_dict()"
   ]
  },
  {
   "cell_type": "code",
   "execution_count": 88,
   "metadata": {
    "ExecuteTime": {
     "end_time": "2017-07-28T13:15:06.314625Z",
     "start_time": "2017-07-28T13:15:05.951706Z"
    },
    "scrolled": true
   },
   "outputs": [
    {
     "data": {
      "text/html": [
       "<div>\n",
       "<style>\n",
       "    .dataframe thead tr:only-child th {\n",
       "        text-align: right;\n",
       "    }\n",
       "\n",
       "    .dataframe thead th {\n",
       "        text-align: left;\n",
       "    }\n",
       "\n",
       "    .dataframe tbody tr th {\n",
       "        vertical-align: top;\n",
       "    }\n",
       "</style>\n",
       "<table border=\"1\" class=\"dataframe\">\n",
       "  <thead>\n",
       "    <tr style=\"text-align: right;\">\n",
       "      <th></th>\n",
       "      <th></th>\n",
       "      <th>id</th>\n",
       "      <th>vendor_id</th>\n",
       "      <th>passenger_count</th>\n",
       "      <th>pickup_longitude</th>\n",
       "      <th>pickup_latitude</th>\n",
       "      <th>dropoff_longitude</th>\n",
       "      <th>dropoff_latitude</th>\n",
       "      <th>store_and_fwd_flag</th>\n",
       "      <th>total_distance</th>\n",
       "      <th>number_of_streets</th>\n",
       "      <th>...</th>\n",
       "      <th>pickup_day</th>\n",
       "      <th>pickup_hour</th>\n",
       "      <th>pickup_minute</th>\n",
       "      <th>starting_street_tf</th>\n",
       "      <th>end_street_tf</th>\n",
       "      <th>haversine_distance</th>\n",
       "      <th>pickup_hour_speed_mean</th>\n",
       "      <th>pickup_weekday_mean</th>\n",
       "      <th>pickup_day_mean</th>\n",
       "      <th>pickup_month_mean</th>\n",
       "    </tr>\n",
       "  </thead>\n",
       "  <tbody>\n",
       "    <tr>\n",
       "      <th rowspan=\"5\" valign=\"top\">train</th>\n",
       "      <th>0</th>\n",
       "      <td>id2875421</td>\n",
       "      <td>2</td>\n",
       "      <td>1</td>\n",
       "      <td>-73.9822</td>\n",
       "      <td>40.7679</td>\n",
       "      <td>-73.9646</td>\n",
       "      <td>40.7656</td>\n",
       "      <td>0</td>\n",
       "      <td>2,009.1000</td>\n",
       "      <td>5.0000</td>\n",
       "      <td>...</td>\n",
       "      <td>14</td>\n",
       "      <td>17</td>\n",
       "      <td>24</td>\n",
       "      <td>774.0000</td>\n",
       "      <td>2,224.0000</td>\n",
       "      <td>1.9488</td>\n",
       "      <td>4.6887</td>\n",
       "      <td>5.6874</td>\n",
       "      <td>5.4938</td>\n",
       "      <td>5.3419</td>\n",
       "    </tr>\n",
       "    <tr>\n",
       "      <th>1</th>\n",
       "      <td>id2377394</td>\n",
       "      <td>1</td>\n",
       "      <td>1</td>\n",
       "      <td>-73.9804</td>\n",
       "      <td>40.7386</td>\n",
       "      <td>-73.9995</td>\n",
       "      <td>40.7312</td>\n",
       "      <td>0</td>\n",
       "      <td>2,513.2000</td>\n",
       "      <td>6.0000</td>\n",
       "      <td>...</td>\n",
       "      <td>12</td>\n",
       "      <td>0</td>\n",
       "      <td>43</td>\n",
       "      <td>166.0000</td>\n",
       "      <td>5,465.0000</td>\n",
       "      <td>2.1308</td>\n",
       "      <td>6.6375</td>\n",
       "      <td>6.2816</td>\n",
       "      <td>5.5073</td>\n",
       "      <td>nan</td>\n",
       "    </tr>\n",
       "    <tr>\n",
       "      <th>2</th>\n",
       "      <td>id3858529</td>\n",
       "      <td>2</td>\n",
       "      <td>1</td>\n",
       "      <td>-73.9790</td>\n",
       "      <td>40.7639</td>\n",
       "      <td>-74.0053</td>\n",
       "      <td>40.7101</td>\n",
       "      <td>0</td>\n",
       "      <td>11,060.8000</td>\n",
       "      <td>16.0000</td>\n",
       "      <td>...</td>\n",
       "      <td>19</td>\n",
       "      <td>11</td>\n",
       "      <td>35</td>\n",
       "      <td>2,613.0000</td>\n",
       "      <td>1,129.0000</td>\n",
       "      <td>3.3569</td>\n",
       "      <td>4.7020</td>\n",
       "      <td>5.1908</td>\n",
       "      <td>5.4773</td>\n",
       "      <td>5.4949</td>\n",
       "    </tr>\n",
       "    <tr>\n",
       "      <th>3</th>\n",
       "      <td>id3504673</td>\n",
       "      <td>2</td>\n",
       "      <td>1</td>\n",
       "      <td>-74.0100</td>\n",
       "      <td>40.7200</td>\n",
       "      <td>-74.0123</td>\n",
       "      <td>40.7067</td>\n",
       "      <td>0</td>\n",
       "      <td>1,779.4000</td>\n",
       "      <td>4.0000</td>\n",
       "      <td>...</td>\n",
       "      <td>6</td>\n",
       "      <td>19</td>\n",
       "      <td>32</td>\n",
       "      <td>1,316.0000</td>\n",
       "      <td>1,308.0000</td>\n",
       "      <td>0.4752</td>\n",
       "      <td>5.0890</td>\n",
       "      <td>5.0525</td>\n",
       "      <td>5.5201</td>\n",
       "      <td>5.3554</td>\n",
       "    </tr>\n",
       "    <tr>\n",
       "      <th>4</th>\n",
       "      <td>id2181028</td>\n",
       "      <td>2</td>\n",
       "      <td>1</td>\n",
       "      <td>-73.9731</td>\n",
       "      <td>40.7932</td>\n",
       "      <td>-73.9729</td>\n",
       "      <td>40.7825</td>\n",
       "      <td>0</td>\n",
       "      <td>1,614.9000</td>\n",
       "      <td>5.0000</td>\n",
       "      <td>...</td>\n",
       "      <td>26</td>\n",
       "      <td>13</td>\n",
       "      <td>30</td>\n",
       "      <td>609.0000</td>\n",
       "      <td>5,735.0000</td>\n",
       "      <td>0.3283</td>\n",
       "      <td>4.7184</td>\n",
       "      <td>5.6155</td>\n",
       "      <td>5.4610</td>\n",
       "      <td>5.3419</td>\n",
       "    </tr>\n",
       "  </tbody>\n",
       "</table>\n",
       "<p>5 rows × 23 columns</p>\n",
       "</div>"
      ],
      "text/plain": [
       "                id  vendor_id  passenger_count  pickup_longitude  \\\n",
       "train 0  id2875421          2                1          -73.9822   \n",
       "      1  id2377394          1                1          -73.9804   \n",
       "      2  id3858529          2                1          -73.9790   \n",
       "      3  id3504673          2                1          -74.0100   \n",
       "      4  id2181028          2                1          -73.9731   \n",
       "\n",
       "         pickup_latitude  dropoff_longitude  dropoff_latitude  \\\n",
       "train 0          40.7679           -73.9646           40.7656   \n",
       "      1          40.7386           -73.9995           40.7312   \n",
       "      2          40.7639           -74.0053           40.7101   \n",
       "      3          40.7200           -74.0123           40.7067   \n",
       "      4          40.7932           -73.9729           40.7825   \n",
       "\n",
       "        store_and_fwd_flag  total_distance  number_of_streets  \\\n",
       "train 0                  0      2,009.1000             5.0000   \n",
       "      1                  0      2,513.2000             6.0000   \n",
       "      2                  0     11,060.8000            16.0000   \n",
       "      3                  0      1,779.4000             4.0000   \n",
       "      4                  0      1,614.9000             5.0000   \n",
       "\n",
       "               ...          pickup_day  pickup_hour  pickup_minute  \\\n",
       "train 0        ...                  14           17             24   \n",
       "      1        ...                  12            0             43   \n",
       "      2        ...                  19           11             35   \n",
       "      3        ...                   6           19             32   \n",
       "      4        ...                  26           13             30   \n",
       "\n",
       "         starting_street_tf  end_street_tf  haversine_distance  \\\n",
       "train 0            774.0000     2,224.0000              1.9488   \n",
       "      1            166.0000     5,465.0000              2.1308   \n",
       "      2          2,613.0000     1,129.0000              3.3569   \n",
       "      3          1,316.0000     1,308.0000              0.4752   \n",
       "      4            609.0000     5,735.0000              0.3283   \n",
       "\n",
       "         pickup_hour_speed_mean  pickup_weekday_mean  pickup_day_mean  \\\n",
       "train 0                  4.6887               5.6874           5.4938   \n",
       "      1                  6.6375               6.2816           5.5073   \n",
       "      2                  4.7020               5.1908           5.4773   \n",
       "      3                  5.0890               5.0525           5.5201   \n",
       "      4                  4.7184               5.6155           5.4610   \n",
       "\n",
       "         pickup_month_mean  \n",
       "train 0             5.3419  \n",
       "      1                nan  \n",
       "      2             5.4949  \n",
       "      3             5.3554  \n",
       "      4             5.3419  \n",
       "\n",
       "[5 rows x 23 columns]"
      ]
     },
     "execution_count": 88,
     "metadata": {},
     "output_type": "execute_result"
    }
   ],
   "source": [
    "col_mean = col + '_' + 'mean'\n",
    "combine_data_tf[col_mean] = data[col].map(data_dict)\n",
    "combine_data_tf[:5]"
   ]
  },
  {
   "cell_type": "code",
   "execution_count": 89,
   "metadata": {
    "ExecuteTime": {
     "end_time": "2017-07-28T13:15:06.399268Z",
     "start_time": "2017-07-28T13:15:06.316631Z"
    },
    "collapsed": true
   },
   "outputs": [],
   "source": [
    "combine_data_tf[col_mean].fillna(combine_data_tf[col_mean].mean(), inplace=True)"
   ]
  },
  {
   "cell_type": "markdown",
   "metadata": {},
   "source": [
    "### starting_street_tf\n",
    " - Estimate with starting_street_tf=NaN"
   ]
  },
  {
   "cell_type": "code",
   "execution_count": 134,
   "metadata": {
    "ExecuteTime": {
     "end_time": "2017-07-28T07:41:16.867380Z",
     "start_time": "2017-07-28T07:41:16.864624Z"
    },
    "collapsed": true
   },
   "outputs": [],
   "source": [
    "data = combine_data_tf\n",
    "col = 'starting_street_tf'"
   ]
  },
  {
   "cell_type": "code",
   "execution_count": 136,
   "metadata": {
    "ExecuteTime": {
     "end_time": "2017-07-28T07:41:48.310769Z",
     "start_time": "2017-07-28T07:41:47.885204Z"
    }
   },
   "outputs": [
    {
     "name": "stdout",
     "output_type": "stream",
     "text": [
      "56416\n"
     ]
    },
    {
     "data": {
      "text/html": [
       "<div>\n",
       "<style>\n",
       "    .dataframe thead tr:only-child th {\n",
       "        text-align: right;\n",
       "    }\n",
       "\n",
       "    .dataframe thead th {\n",
       "        text-align: left;\n",
       "    }\n",
       "\n",
       "    .dataframe tbody tr th {\n",
       "        vertical-align: top;\n",
       "    }\n",
       "</style>\n",
       "<table border=\"1\" class=\"dataframe\">\n",
       "  <thead>\n",
       "    <tr style=\"text-align: right;\">\n",
       "      <th></th>\n",
       "      <th></th>\n",
       "      <th>id</th>\n",
       "      <th>vendor_id</th>\n",
       "      <th>passenger_count</th>\n",
       "      <th>pickup_longitude</th>\n",
       "      <th>pickup_latitude</th>\n",
       "      <th>dropoff_longitude</th>\n",
       "      <th>dropoff_latitude</th>\n",
       "      <th>store_and_fwd_flag</th>\n",
       "      <th>total_distance</th>\n",
       "      <th>number_of_streets</th>\n",
       "      <th>...</th>\n",
       "      <th>pickup_day</th>\n",
       "      <th>pickup_hour</th>\n",
       "      <th>pickup_minute</th>\n",
       "      <th>starting_street_tf</th>\n",
       "      <th>end_street_tf</th>\n",
       "      <th>haversine_distance</th>\n",
       "      <th>pickup_hour_speed_mean</th>\n",
       "      <th>pickup_weekday_mean</th>\n",
       "      <th>pickup_day_mean</th>\n",
       "      <th>pickup_month_mean</th>\n",
       "    </tr>\n",
       "  </thead>\n",
       "  <tbody>\n",
       "    <tr>\n",
       "      <th rowspan=\"5\" valign=\"top\">train</th>\n",
       "      <th>18</th>\n",
       "      <td>id3552682</td>\n",
       "      <td>1</td>\n",
       "      <td>1</td>\n",
       "      <td>-74.0040</td>\n",
       "      <td>40.7130</td>\n",
       "      <td>-73.9792</td>\n",
       "      <td>40.7499</td>\n",
       "      <td>0</td>\n",
       "      <td>4,673.9000</td>\n",
       "      <td>9.0000</td>\n",
       "      <td>...</td>\n",
       "      <td>27</td>\n",
       "      <td>9</td>\n",
       "      <td>55</td>\n",
       "      <td>nan</td>\n",
       "      <td>4,219.0000</td>\n",
       "      <td>2.9778</td>\n",
       "      <td>4.7839</td>\n",
       "      <td>5.6874</td>\n",
       "      <td>5.5580</td>\n",
       "      <td>5.3912</td>\n",
       "    </tr>\n",
       "    <tr>\n",
       "      <th>70</th>\n",
       "      <td>id3896508</td>\n",
       "      <td>2</td>\n",
       "      <td>1</td>\n",
       "      <td>-73.8634</td>\n",
       "      <td>40.7699</td>\n",
       "      <td>-73.8371</td>\n",
       "      <td>40.7214</td>\n",
       "      <td>0</td>\n",
       "      <td>8,171.9000</td>\n",
       "      <td>13.0000</td>\n",
       "      <td>...</td>\n",
       "      <td>7</td>\n",
       "      <td>22</td>\n",
       "      <td>32</td>\n",
       "      <td>nan</td>\n",
       "      <td>599.0000</td>\n",
       "      <td>3.2804</td>\n",
       "      <td>5.9910</td>\n",
       "      <td>5.1908</td>\n",
       "      <td>5.4114</td>\n",
       "      <td>5.3912</td>\n",
       "    </tr>\n",
       "    <tr>\n",
       "      <th>93</th>\n",
       "      <td>id2030290</td>\n",
       "      <td>1</td>\n",
       "      <td>3</td>\n",
       "      <td>-73.8643</td>\n",
       "      <td>40.7698</td>\n",
       "      <td>-73.9859</td>\n",
       "      <td>40.7610</td>\n",
       "      <td>0</td>\n",
       "      <td>16,077.1000</td>\n",
       "      <td>19.0000</td>\n",
       "      <td>...</td>\n",
       "      <td>31</td>\n",
       "      <td>11</td>\n",
       "      <td>33</td>\n",
       "      <td>nan</td>\n",
       "      <td>5,698.0000</td>\n",
       "      <td>13.5093</td>\n",
       "      <td>4.7020</td>\n",
       "      <td>5.0712</td>\n",
       "      <td>5.4198</td>\n",
       "      <td>5.3419</td>\n",
       "    </tr>\n",
       "    <tr>\n",
       "      <th>98</th>\n",
       "      <td>id2102594</td>\n",
       "      <td>1</td>\n",
       "      <td>1</td>\n",
       "      <td>-73.7898</td>\n",
       "      <td>40.6436</td>\n",
       "      <td>-73.9707</td>\n",
       "      <td>40.6873</td>\n",
       "      <td>0</td>\n",
       "      <td>20,236.7000</td>\n",
       "      <td>20.0000</td>\n",
       "      <td>...</td>\n",
       "      <td>30</td>\n",
       "      <td>16</td>\n",
       "      <td>14</td>\n",
       "      <td>nan</td>\n",
       "      <td>733.0000</td>\n",
       "      <td>20.1393</td>\n",
       "      <td>4.7603</td>\n",
       "      <td>5.0525</td>\n",
       "      <td>5.5545</td>\n",
       "      <td>5.3419</td>\n",
       "    </tr>\n",
       "    <tr>\n",
       "      <th>102</th>\n",
       "      <td>id0105610</td>\n",
       "      <td>1</td>\n",
       "      <td>3</td>\n",
       "      <td>-73.7897</td>\n",
       "      <td>40.6437</td>\n",
       "      <td>-73.9787</td>\n",
       "      <td>40.7503</td>\n",
       "      <td>0</td>\n",
       "      <td>27,983.1000</td>\n",
       "      <td>15.0000</td>\n",
       "      <td>...</td>\n",
       "      <td>19</td>\n",
       "      <td>20</td>\n",
       "      <td>1</td>\n",
       "      <td>nan</td>\n",
       "      <td>4,219.0000</td>\n",
       "      <td>21.2565</td>\n",
       "      <td>5.7076</td>\n",
       "      <td>5.1594</td>\n",
       "      <td>5.4773</td>\n",
       "      <td>5.4836</td>\n",
       "    </tr>\n",
       "  </tbody>\n",
       "</table>\n",
       "<p>5 rows × 23 columns</p>\n",
       "</div>"
      ],
      "text/plain": [
       "                  id  vendor_id  passenger_count  pickup_longitude  \\\n",
       "train 18   id3552682          1                1          -74.0040   \n",
       "      70   id3896508          2                1          -73.8634   \n",
       "      93   id2030290          1                3          -73.8643   \n",
       "      98   id2102594          1                1          -73.7898   \n",
       "      102  id0105610          1                3          -73.7897   \n",
       "\n",
       "           pickup_latitude  dropoff_longitude  dropoff_latitude  \\\n",
       "train 18           40.7130           -73.9792           40.7499   \n",
       "      70           40.7699           -73.8371           40.7214   \n",
       "      93           40.7698           -73.9859           40.7610   \n",
       "      98           40.6436           -73.9707           40.6873   \n",
       "      102          40.6437           -73.9787           40.7503   \n",
       "\n",
       "          store_and_fwd_flag  total_distance  number_of_streets  \\\n",
       "train 18                   0      4,673.9000             9.0000   \n",
       "      70                   0      8,171.9000            13.0000   \n",
       "      93                   0     16,077.1000            19.0000   \n",
       "      98                   0     20,236.7000            20.0000   \n",
       "      102                  0     27,983.1000            15.0000   \n",
       "\n",
       "                 ...          pickup_day  pickup_hour  pickup_minute  \\\n",
       "train 18         ...                  27            9             55   \n",
       "      70         ...                   7           22             32   \n",
       "      93         ...                  31           11             33   \n",
       "      98         ...                  30           16             14   \n",
       "      102        ...                  19           20              1   \n",
       "\n",
       "           starting_street_tf  end_street_tf  haversine_distance  \\\n",
       "train 18                  nan     4,219.0000              2.9778   \n",
       "      70                  nan       599.0000              3.2804   \n",
       "      93                  nan     5,698.0000             13.5093   \n",
       "      98                  nan       733.0000             20.1393   \n",
       "      102                 nan     4,219.0000             21.2565   \n",
       "\n",
       "           pickup_hour_speed_mean  pickup_weekday_mean  pickup_day_mean  \\\n",
       "train 18                   4.7839               5.6874           5.5580   \n",
       "      70                   5.9910               5.1908           5.4114   \n",
       "      93                   4.7020               5.0712           5.4198   \n",
       "      98                   4.7603               5.0525           5.5545   \n",
       "      102                  5.7076               5.1594           5.4773   \n",
       "\n",
       "           pickup_month_mean  \n",
       "train 18              5.3912  \n",
       "      70              5.3912  \n",
       "      93              5.3419  \n",
       "      98              5.3419  \n",
       "      102             5.4836  \n",
       "\n",
       "[5 rows x 23 columns]"
      ]
     },
     "execution_count": 136,
     "metadata": {},
     "output_type": "execute_result"
    }
   ],
   "source": [
    "# check for total_distance=0 and haversine_distance>0\n",
    "data_zero = data[data[col].isnull()]\n",
    "print(len(data_zero))\n",
    "data_zero[:5]"
   ]
  },
  {
   "cell_type": "code",
   "execution_count": 138,
   "metadata": {
    "ExecuteTime": {
     "end_time": "2017-07-28T07:42:37.285448Z",
     "start_time": "2017-07-28T07:42:37.128895Z"
    },
    "scrolled": true
   },
   "outputs": [
    {
     "name": "stdout",
     "output_type": "stream",
     "text": [
      "2027362\n"
     ]
    },
    {
     "data": {
      "text/plain": [
       "train  0     774.0000\n",
       "       1     166.0000\n",
       "       2   2,613.0000\n",
       "       3   1,316.0000\n",
       "       4     609.0000\n",
       "Name: starting_street_tf, dtype: float64"
      ]
     },
     "execution_count": 138,
     "metadata": {},
     "output_type": "execute_result"
    }
   ],
   "source": [
    "data_not_zero = data[data[col].notnull()]\n",
    "print(len(data_not_zero))\n",
    "data_not_zero[col][:5]"
   ]
  },
  {
   "cell_type": "code",
   "execution_count": 149,
   "metadata": {
    "ExecuteTime": {
     "end_time": "2017-07-28T07:47:33.933679Z",
     "start_time": "2017-07-28T07:47:33.920726Z"
    }
   },
   "outputs": [
    {
     "data": {
      "text/plain": [
       "train  0     774.0000\n",
       "       1     166.0000\n",
       "       2   2,613.0000\n",
       "       3   1,316.0000\n",
       "       4     609.0000\n",
       "Name: starting_street_tf, dtype: float64"
      ]
     },
     "execution_count": 149,
     "metadata": {},
     "output_type": "execute_result"
    }
   ],
   "source": [
    "features=['pickup_longitude', 'pickup_latitude']\n",
    "X = data_not_zero[features]\n",
    "Y = data_not_zero[col]\n",
    "Y[:5]"
   ]
  },
  {
   "cell_type": "code",
   "execution_count": 150,
   "metadata": {
    "ExecuteTime": {
     "end_time": "2017-07-28T07:47:37.214862Z",
     "start_time": "2017-07-28T07:47:37.128111Z"
    }
   },
   "outputs": [
    {
     "data": {
      "text/plain": [
       "pickup_longitude    True\n",
       "pickup_latitude     True\n",
       "dtype: bool"
      ]
     },
     "execution_count": 150,
     "metadata": {},
     "output_type": "execute_result"
    }
   ],
   "source": [
    "np.isfinite(X).all()"
   ]
  },
  {
   "cell_type": "code",
   "execution_count": 147,
   "metadata": {
    "ExecuteTime": {
     "end_time": "2017-07-28T07:46:16.992662Z",
     "start_time": "2017-07-28T07:46:16.988365Z"
    },
    "collapsed": true
   },
   "outputs": [],
   "source": [
    "model_tf = LinearRegression(n_jobs=-1)\n",
    "#model_tf = XGBRegressor(n_estimators=100, max_depth=5,\n",
    "#                     learning_rate=0.3, min_child_weight=1, n_jobs=-1)"
   ]
  },
  {
   "cell_type": "code",
   "execution_count": 151,
   "metadata": {
    "ExecuteTime": {
     "end_time": "2017-07-28T07:47:40.992704Z",
     "start_time": "2017-07-28T07:47:40.789324Z"
    }
   },
   "outputs": [
    {
     "data": {
      "text/plain": [
       "LinearRegression(copy_X=True, fit_intercept=True, n_jobs=-1, normalize=False)"
      ]
     },
     "execution_count": 151,
     "metadata": {},
     "output_type": "execute_result"
    }
   ],
   "source": [
    "model_tf.fit(X,Y)"
   ]
  },
  {
   "cell_type": "code",
   "execution_count": 153,
   "metadata": {
    "ExecuteTime": {
     "end_time": "2017-07-28T07:48:17.456951Z",
     "start_time": "2017-07-28T07:48:17.449933Z"
    }
   },
   "outputs": [
    {
     "data": {
      "text/plain": [
       "array([ 1303.60789897,  1228.19257563,  1227.96965766,  1544.56233857,\n",
       "        1544.27027849])"
      ]
     },
     "execution_count": 153,
     "metadata": {},
     "output_type": "execute_result"
    }
   ],
   "source": [
    "X_eval = data_zero[features]\n",
    "Y_pred = model_tf.predict(X_eval)\n",
    "Y_pred[:5]"
   ]
  },
  {
   "cell_type": "code",
   "execution_count": 154,
   "metadata": {
    "ExecuteTime": {
     "end_time": "2017-07-28T07:48:24.901869Z",
     "start_time": "2017-07-28T07:48:24.815729Z"
    },
    "scrolled": true
   },
   "outputs": [
    {
     "data": {
      "text/html": [
       "<div>\n",
       "<style>\n",
       "    .dataframe thead tr:only-child th {\n",
       "        text-align: right;\n",
       "    }\n",
       "\n",
       "    .dataframe thead th {\n",
       "        text-align: left;\n",
       "    }\n",
       "\n",
       "    .dataframe tbody tr th {\n",
       "        vertical-align: top;\n",
       "    }\n",
       "</style>\n",
       "<table border=\"1\" class=\"dataframe\">\n",
       "  <thead>\n",
       "    <tr style=\"text-align: right;\">\n",
       "      <th></th>\n",
       "      <th></th>\n",
       "      <th>id</th>\n",
       "      <th>vendor_id</th>\n",
       "      <th>passenger_count</th>\n",
       "      <th>pickup_longitude</th>\n",
       "      <th>pickup_latitude</th>\n",
       "      <th>dropoff_longitude</th>\n",
       "      <th>dropoff_latitude</th>\n",
       "      <th>store_and_fwd_flag</th>\n",
       "      <th>total_distance</th>\n",
       "      <th>number_of_streets</th>\n",
       "      <th>...</th>\n",
       "      <th>pickup_day</th>\n",
       "      <th>pickup_hour</th>\n",
       "      <th>pickup_minute</th>\n",
       "      <th>starting_street_tf</th>\n",
       "      <th>end_street_tf</th>\n",
       "      <th>haversine_distance</th>\n",
       "      <th>pickup_hour_speed_mean</th>\n",
       "      <th>pickup_weekday_mean</th>\n",
       "      <th>pickup_day_mean</th>\n",
       "      <th>pickup_month_mean</th>\n",
       "    </tr>\n",
       "  </thead>\n",
       "  <tbody>\n",
       "    <tr>\n",
       "      <th rowspan=\"5\" valign=\"top\">train</th>\n",
       "      <th>18</th>\n",
       "      <td>id3552682</td>\n",
       "      <td>1</td>\n",
       "      <td>1</td>\n",
       "      <td>-74.0040</td>\n",
       "      <td>40.7130</td>\n",
       "      <td>-73.9792</td>\n",
       "      <td>40.7499</td>\n",
       "      <td>0</td>\n",
       "      <td>4,673.9000</td>\n",
       "      <td>9.0000</td>\n",
       "      <td>...</td>\n",
       "      <td>27</td>\n",
       "      <td>9</td>\n",
       "      <td>55</td>\n",
       "      <td>1,303.6079</td>\n",
       "      <td>4,219.0000</td>\n",
       "      <td>2.9778</td>\n",
       "      <td>4.7839</td>\n",
       "      <td>5.6874</td>\n",
       "      <td>5.5580</td>\n",
       "      <td>5.3912</td>\n",
       "    </tr>\n",
       "    <tr>\n",
       "      <th>70</th>\n",
       "      <td>id3896508</td>\n",
       "      <td>2</td>\n",
       "      <td>1</td>\n",
       "      <td>-73.8634</td>\n",
       "      <td>40.7699</td>\n",
       "      <td>-73.8371</td>\n",
       "      <td>40.7214</td>\n",
       "      <td>0</td>\n",
       "      <td>8,171.9000</td>\n",
       "      <td>13.0000</td>\n",
       "      <td>...</td>\n",
       "      <td>7</td>\n",
       "      <td>22</td>\n",
       "      <td>32</td>\n",
       "      <td>1,228.1926</td>\n",
       "      <td>599.0000</td>\n",
       "      <td>3.2804</td>\n",
       "      <td>5.9910</td>\n",
       "      <td>5.1908</td>\n",
       "      <td>5.4114</td>\n",
       "      <td>5.3912</td>\n",
       "    </tr>\n",
       "    <tr>\n",
       "      <th>93</th>\n",
       "      <td>id2030290</td>\n",
       "      <td>1</td>\n",
       "      <td>3</td>\n",
       "      <td>-73.8643</td>\n",
       "      <td>40.7698</td>\n",
       "      <td>-73.9859</td>\n",
       "      <td>40.7610</td>\n",
       "      <td>0</td>\n",
       "      <td>16,077.1000</td>\n",
       "      <td>19.0000</td>\n",
       "      <td>...</td>\n",
       "      <td>31</td>\n",
       "      <td>11</td>\n",
       "      <td>33</td>\n",
       "      <td>1,227.9697</td>\n",
       "      <td>5,698.0000</td>\n",
       "      <td>13.5093</td>\n",
       "      <td>4.7020</td>\n",
       "      <td>5.0712</td>\n",
       "      <td>5.4198</td>\n",
       "      <td>5.3419</td>\n",
       "    </tr>\n",
       "    <tr>\n",
       "      <th>98</th>\n",
       "      <td>id2102594</td>\n",
       "      <td>1</td>\n",
       "      <td>1</td>\n",
       "      <td>-73.7898</td>\n",
       "      <td>40.6436</td>\n",
       "      <td>-73.9707</td>\n",
       "      <td>40.6873</td>\n",
       "      <td>0</td>\n",
       "      <td>20,236.7000</td>\n",
       "      <td>20.0000</td>\n",
       "      <td>...</td>\n",
       "      <td>30</td>\n",
       "      <td>16</td>\n",
       "      <td>14</td>\n",
       "      <td>1,544.5623</td>\n",
       "      <td>733.0000</td>\n",
       "      <td>20.1393</td>\n",
       "      <td>4.7603</td>\n",
       "      <td>5.0525</td>\n",
       "      <td>5.5545</td>\n",
       "      <td>5.3419</td>\n",
       "    </tr>\n",
       "    <tr>\n",
       "      <th>102</th>\n",
       "      <td>id0105610</td>\n",
       "      <td>1</td>\n",
       "      <td>3</td>\n",
       "      <td>-73.7897</td>\n",
       "      <td>40.6437</td>\n",
       "      <td>-73.9787</td>\n",
       "      <td>40.7503</td>\n",
       "      <td>0</td>\n",
       "      <td>27,983.1000</td>\n",
       "      <td>15.0000</td>\n",
       "      <td>...</td>\n",
       "      <td>19</td>\n",
       "      <td>20</td>\n",
       "      <td>1</td>\n",
       "      <td>1,544.2703</td>\n",
       "      <td>4,219.0000</td>\n",
       "      <td>21.2565</td>\n",
       "      <td>5.7076</td>\n",
       "      <td>5.1594</td>\n",
       "      <td>5.4773</td>\n",
       "      <td>5.4836</td>\n",
       "    </tr>\n",
       "  </tbody>\n",
       "</table>\n",
       "<p>5 rows × 23 columns</p>\n",
       "</div>"
      ],
      "text/plain": [
       "                  id  vendor_id  passenger_count  pickup_longitude  \\\n",
       "train 18   id3552682          1                1          -74.0040   \n",
       "      70   id3896508          2                1          -73.8634   \n",
       "      93   id2030290          1                3          -73.8643   \n",
       "      98   id2102594          1                1          -73.7898   \n",
       "      102  id0105610          1                3          -73.7897   \n",
       "\n",
       "           pickup_latitude  dropoff_longitude  dropoff_latitude  \\\n",
       "train 18           40.7130           -73.9792           40.7499   \n",
       "      70           40.7699           -73.8371           40.7214   \n",
       "      93           40.7698           -73.9859           40.7610   \n",
       "      98           40.6436           -73.9707           40.6873   \n",
       "      102          40.6437           -73.9787           40.7503   \n",
       "\n",
       "          store_and_fwd_flag  total_distance  number_of_streets  \\\n",
       "train 18                   0      4,673.9000             9.0000   \n",
       "      70                   0      8,171.9000            13.0000   \n",
       "      93                   0     16,077.1000            19.0000   \n",
       "      98                   0     20,236.7000            20.0000   \n",
       "      102                  0     27,983.1000            15.0000   \n",
       "\n",
       "                 ...          pickup_day  pickup_hour  pickup_minute  \\\n",
       "train 18         ...                  27            9             55   \n",
       "      70         ...                   7           22             32   \n",
       "      93         ...                  31           11             33   \n",
       "      98         ...                  30           16             14   \n",
       "      102        ...                  19           20              1   \n",
       "\n",
       "           starting_street_tf  end_street_tf  haversine_distance  \\\n",
       "train 18           1,303.6079     4,219.0000              2.9778   \n",
       "      70           1,228.1926       599.0000              3.2804   \n",
       "      93           1,227.9697     5,698.0000             13.5093   \n",
       "      98           1,544.5623       733.0000             20.1393   \n",
       "      102          1,544.2703     4,219.0000             21.2565   \n",
       "\n",
       "           pickup_hour_speed_mean  pickup_weekday_mean  pickup_day_mean  \\\n",
       "train 18                   4.7839               5.6874           5.5580   \n",
       "      70                   5.9910               5.1908           5.4114   \n",
       "      93                   4.7020               5.0712           5.4198   \n",
       "      98                   4.7603               5.0525           5.5545   \n",
       "      102                  5.7076               5.1594           5.4773   \n",
       "\n",
       "           pickup_month_mean  \n",
       "train 18              5.3912  \n",
       "      70              5.3912  \n",
       "      93              5.3419  \n",
       "      98              5.3419  \n",
       "      102             5.4836  \n",
       "\n",
       "[5 rows x 23 columns]"
      ]
     },
     "execution_count": 154,
     "metadata": {},
     "output_type": "execute_result"
    }
   ],
   "source": [
    "data_zero[col] = Y_pred\n",
    "data_zero[:5]"
   ]
  },
  {
   "cell_type": "code",
   "execution_count": 156,
   "metadata": {
    "ExecuteTime": {
     "end_time": "2017-07-28T07:49:43.575760Z",
     "start_time": "2017-07-28T07:49:43.360090Z"
    },
    "scrolled": true
   },
   "outputs": [
    {
     "data": {
      "text/plain": [
       "count   2,083,778.0000\n",
       "mean        1,228.9356\n",
       "std           886.4339\n",
       "min        -9,612.0214\n",
       "25%           364.0000\n",
       "50%         1,046.0000\n",
       "75%         1,909.0000\n",
       "max        13,793.7211\n",
       "Name: starting_street_tf, dtype: float64"
      ]
     },
     "execution_count": 156,
     "metadata": {},
     "output_type": "execute_result"
    }
   ],
   "source": [
    "data.loc[data[col].isnull(), col] = data_zero[col]\n",
    "data[col].describe()"
   ]
  },
  {
   "cell_type": "markdown",
   "metadata": {},
   "source": [
    "### end_street_tf\n",
    " - Estimate with end_street_tf=NaN"
   ]
  },
  {
   "cell_type": "code",
   "execution_count": 159,
   "metadata": {
    "ExecuteTime": {
     "end_time": "2017-07-28T07:51:29.886605Z",
     "start_time": "2017-07-28T07:51:29.883674Z"
    },
    "collapsed": true
   },
   "outputs": [],
   "source": [
    "data = combine_data_tf\n",
    "col = 'end_street_tf'"
   ]
  },
  {
   "cell_type": "code",
   "execution_count": 160,
   "metadata": {
    "ExecuteTime": {
     "end_time": "2017-07-28T07:51:32.865727Z",
     "start_time": "2017-07-28T07:51:32.825971Z"
    }
   },
   "outputs": [
    {
     "name": "stdout",
     "output_type": "stream",
     "text": [
      "40491\n"
     ]
    },
    {
     "data": {
      "text/html": [
       "<div>\n",
       "<style>\n",
       "    .dataframe thead tr:only-child th {\n",
       "        text-align: right;\n",
       "    }\n",
       "\n",
       "    .dataframe thead th {\n",
       "        text-align: left;\n",
       "    }\n",
       "\n",
       "    .dataframe tbody tr th {\n",
       "        vertical-align: top;\n",
       "    }\n",
       "</style>\n",
       "<table border=\"1\" class=\"dataframe\">\n",
       "  <thead>\n",
       "    <tr style=\"text-align: right;\">\n",
       "      <th></th>\n",
       "      <th></th>\n",
       "      <th>id</th>\n",
       "      <th>vendor_id</th>\n",
       "      <th>passenger_count</th>\n",
       "      <th>pickup_longitude</th>\n",
       "      <th>pickup_latitude</th>\n",
       "      <th>dropoff_longitude</th>\n",
       "      <th>dropoff_latitude</th>\n",
       "      <th>store_and_fwd_flag</th>\n",
       "      <th>total_distance</th>\n",
       "      <th>number_of_streets</th>\n",
       "      <th>...</th>\n",
       "      <th>pickup_day</th>\n",
       "      <th>pickup_hour</th>\n",
       "      <th>pickup_minute</th>\n",
       "      <th>starting_street_tf</th>\n",
       "      <th>end_street_tf</th>\n",
       "      <th>haversine_distance</th>\n",
       "      <th>pickup_hour_speed_mean</th>\n",
       "      <th>pickup_weekday_mean</th>\n",
       "      <th>pickup_day_mean</th>\n",
       "      <th>pickup_month_mean</th>\n",
       "    </tr>\n",
       "  </thead>\n",
       "  <tbody>\n",
       "    <tr>\n",
       "      <th rowspan=\"5\" valign=\"top\">train</th>\n",
       "      <th>20</th>\n",
       "      <td>id2070428</td>\n",
       "      <td>1</td>\n",
       "      <td>1</td>\n",
       "      <td>-73.9804</td>\n",
       "      <td>40.7424</td>\n",
       "      <td>-73.9629</td>\n",
       "      <td>40.7606</td>\n",
       "      <td>0</td>\n",
       "      <td>7,355.4000</td>\n",
       "      <td>13.0000</td>\n",
       "      <td>...</td>\n",
       "      <td>28</td>\n",
       "      <td>2</td>\n",
       "      <td>23</td>\n",
       "      <td>201.0000</td>\n",
       "      <td>nan</td>\n",
       "      <td>2.0252</td>\n",
       "      <td>7.0167</td>\n",
       "      <td>6.2816</td>\n",
       "      <td>5.3691</td>\n",
       "      <td>5.4836</td>\n",
       "    </tr>\n",
       "    <tr>\n",
       "      <th>25</th>\n",
       "      <td>id0129640</td>\n",
       "      <td>2</td>\n",
       "      <td>1</td>\n",
       "      <td>-73.9566</td>\n",
       "      <td>40.7714</td>\n",
       "      <td>-73.9750</td>\n",
       "      <td>40.7328</td>\n",
       "      <td>0</td>\n",
       "      <td>5,296.1000</td>\n",
       "      <td>13.0000</td>\n",
       "      <td>...</td>\n",
       "      <td>14</td>\n",
       "      <td>13</td>\n",
       "      <td>27</td>\n",
       "      <td>166.0000</td>\n",
       "      <td>nan</td>\n",
       "      <td>2.3614</td>\n",
       "      <td>4.7184</td>\n",
       "      <td>6.2816</td>\n",
       "      <td>5.4938</td>\n",
       "      <td>5.4836</td>\n",
       "    </tr>\n",
       "    <tr>\n",
       "      <th>94</th>\n",
       "      <td>id3770790</td>\n",
       "      <td>1</td>\n",
       "      <td>1</td>\n",
       "      <td>-73.9922</td>\n",
       "      <td>40.7443</td>\n",
       "      <td>-74.0082</td>\n",
       "      <td>40.7488</td>\n",
       "      <td>0</td>\n",
       "      <td>1,788.7000</td>\n",
       "      <td>6.0000</td>\n",
       "      <td>...</td>\n",
       "      <td>13</td>\n",
       "      <td>13</td>\n",
       "      <td>12</td>\n",
       "      <td>2,579.0000</td>\n",
       "      <td>nan</td>\n",
       "      <td>1.7833</td>\n",
       "      <td>4.7184</td>\n",
       "      <td>5.6155</td>\n",
       "      <td>5.3633</td>\n",
       "      <td>5.4836</td>\n",
       "    </tr>\n",
       "    <tr>\n",
       "      <th>109</th>\n",
       "      <td>id3962434</td>\n",
       "      <td>2</td>\n",
       "      <td>2</td>\n",
       "      <td>-73.9893</td>\n",
       "      <td>40.7565</td>\n",
       "      <td>-74.0028</td>\n",
       "      <td>40.7605</td>\n",
       "      <td>0</td>\n",
       "      <td>1,496.5000</td>\n",
       "      <td>6.0000</td>\n",
       "      <td>...</td>\n",
       "      <td>10</td>\n",
       "      <td>8</td>\n",
       "      <td>45</td>\n",
       "      <td>2,597.0000</td>\n",
       "      <td>nan</td>\n",
       "      <td>1.5082</td>\n",
       "      <td>4.8672</td>\n",
       "      <td>6.2816</td>\n",
       "      <td>5.3198</td>\n",
       "      <td>5.4949</td>\n",
       "    </tr>\n",
       "    <tr>\n",
       "      <th>137</th>\n",
       "      <td>id0659170</td>\n",
       "      <td>2</td>\n",
       "      <td>1</td>\n",
       "      <td>-73.9687</td>\n",
       "      <td>40.7645</td>\n",
       "      <td>-73.8728</td>\n",
       "      <td>40.7715</td>\n",
       "      <td>0</td>\n",
       "      <td>10,240.6000</td>\n",
       "      <td>12.0000</td>\n",
       "      <td>...</td>\n",
       "      <td>26</td>\n",
       "      <td>13</td>\n",
       "      <td>7</td>\n",
       "      <td>1,905.0000</td>\n",
       "      <td>nan</td>\n",
       "      <td>10.6507</td>\n",
       "      <td>4.7184</td>\n",
       "      <td>5.6155</td>\n",
       "      <td>5.4610</td>\n",
       "      <td>5.3419</td>\n",
       "    </tr>\n",
       "  </tbody>\n",
       "</table>\n",
       "<p>5 rows × 23 columns</p>\n",
       "</div>"
      ],
      "text/plain": [
       "                  id  vendor_id  passenger_count  pickup_longitude  \\\n",
       "train 20   id2070428          1                1          -73.9804   \n",
       "      25   id0129640          2                1          -73.9566   \n",
       "      94   id3770790          1                1          -73.9922   \n",
       "      109  id3962434          2                2          -73.9893   \n",
       "      137  id0659170          2                1          -73.9687   \n",
       "\n",
       "           pickup_latitude  dropoff_longitude  dropoff_latitude  \\\n",
       "train 20           40.7424           -73.9629           40.7606   \n",
       "      25           40.7714           -73.9750           40.7328   \n",
       "      94           40.7443           -74.0082           40.7488   \n",
       "      109          40.7565           -74.0028           40.7605   \n",
       "      137          40.7645           -73.8728           40.7715   \n",
       "\n",
       "          store_and_fwd_flag  total_distance  number_of_streets  \\\n",
       "train 20                   0      7,355.4000            13.0000   \n",
       "      25                   0      5,296.1000            13.0000   \n",
       "      94                   0      1,788.7000             6.0000   \n",
       "      109                  0      1,496.5000             6.0000   \n",
       "      137                  0     10,240.6000            12.0000   \n",
       "\n",
       "                 ...          pickup_day  pickup_hour  pickup_minute  \\\n",
       "train 20         ...                  28            2             23   \n",
       "      25         ...                  14           13             27   \n",
       "      94         ...                  13           13             12   \n",
       "      109        ...                  10            8             45   \n",
       "      137        ...                  26           13              7   \n",
       "\n",
       "           starting_street_tf  end_street_tf  haversine_distance  \\\n",
       "train 20             201.0000            nan              2.0252   \n",
       "      25             166.0000            nan              2.3614   \n",
       "      94           2,579.0000            nan              1.7833   \n",
       "      109          2,597.0000            nan              1.5082   \n",
       "      137          1,905.0000            nan             10.6507   \n",
       "\n",
       "           pickup_hour_speed_mean  pickup_weekday_mean  pickup_day_mean  \\\n",
       "train 20                   7.0167               6.2816           5.3691   \n",
       "      25                   4.7184               6.2816           5.4938   \n",
       "      94                   4.7184               5.6155           5.3633   \n",
       "      109                  4.8672               6.2816           5.3198   \n",
       "      137                  4.7184               5.6155           5.4610   \n",
       "\n",
       "           pickup_month_mean  \n",
       "train 20              5.4836  \n",
       "      25              5.4836  \n",
       "      94              5.4836  \n",
       "      109             5.4949  \n",
       "      137             5.3419  \n",
       "\n",
       "[5 rows x 23 columns]"
      ]
     },
     "execution_count": 160,
     "metadata": {},
     "output_type": "execute_result"
    }
   ],
   "source": [
    "# check for total_distance=0 and haversine_distance>0\n",
    "data_zero = data[data[col].isnull()]\n",
    "print(len(data_zero))\n",
    "data_zero[:5]"
   ]
  },
  {
   "cell_type": "code",
   "execution_count": 161,
   "metadata": {
    "ExecuteTime": {
     "end_time": "2017-07-28T07:51:59.705813Z",
     "start_time": "2017-07-28T07:51:59.429239Z"
    },
    "scrolled": true
   },
   "outputs": [
    {
     "name": "stdout",
     "output_type": "stream",
     "text": [
      "2043287\n"
     ]
    },
    {
     "data": {
      "text/plain": [
       "train  0   2,224.0000\n",
       "       1   5,465.0000\n",
       "       2   1,129.0000\n",
       "       3   1,308.0000\n",
       "       4   5,735.0000\n",
       "Name: end_street_tf, dtype: float64"
      ]
     },
     "execution_count": 161,
     "metadata": {},
     "output_type": "execute_result"
    }
   ],
   "source": [
    "data_not_zero = data[data[col].notnull()]\n",
    "print(len(data_not_zero))\n",
    "data_not_zero[col][:5]"
   ]
  },
  {
   "cell_type": "code",
   "execution_count": 162,
   "metadata": {
    "ExecuteTime": {
     "end_time": "2017-07-28T07:52:20.479809Z",
     "start_time": "2017-07-28T07:52:20.438342Z"
    }
   },
   "outputs": [
    {
     "data": {
      "text/plain": [
       "train  0   2,224.0000\n",
       "       1   5,465.0000\n",
       "       2   1,129.0000\n",
       "       3   1,308.0000\n",
       "       4   5,735.0000\n",
       "Name: end_street_tf, dtype: float64"
      ]
     },
     "execution_count": 162,
     "metadata": {},
     "output_type": "execute_result"
    }
   ],
   "source": [
    "features=['dropoff_longitude', 'dropoff_latitude']\n",
    "X = data_not_zero[features]\n",
    "Y = data_not_zero[col]\n",
    "Y[:5]"
   ]
  },
  {
   "cell_type": "code",
   "execution_count": 163,
   "metadata": {
    "ExecuteTime": {
     "end_time": "2017-07-28T07:52:23.647861Z",
     "start_time": "2017-07-28T07:52:23.563648Z"
    }
   },
   "outputs": [
    {
     "data": {
      "text/plain": [
       "dropoff_longitude    True\n",
       "dropoff_latitude     True\n",
       "dtype: bool"
      ]
     },
     "execution_count": 163,
     "metadata": {},
     "output_type": "execute_result"
    }
   ],
   "source": [
    "np.isfinite(X).all()"
   ]
  },
  {
   "cell_type": "code",
   "execution_count": 164,
   "metadata": {
    "ExecuteTime": {
     "end_time": "2017-07-28T07:52:26.415755Z",
     "start_time": "2017-07-28T07:52:26.411974Z"
    },
    "collapsed": true
   },
   "outputs": [],
   "source": [
    "model_tf = LinearRegression(n_jobs=-1)\n",
    "#model_tf = XGBRegressor(n_estimators=100, max_depth=5,\n",
    "#                     learning_rate=0.3, min_child_weight=1, n_jobs=-1)"
   ]
  },
  {
   "cell_type": "code",
   "execution_count": 165,
   "metadata": {
    "ExecuteTime": {
     "end_time": "2017-07-28T07:52:29.765053Z",
     "start_time": "2017-07-28T07:52:29.619853Z"
    }
   },
   "outputs": [
    {
     "data": {
      "text/plain": [
       "LinearRegression(copy_X=True, fit_intercept=True, n_jobs=-1, normalize=False)"
      ]
     },
     "execution_count": 165,
     "metadata": {},
     "output_type": "execute_result"
    }
   ],
   "source": [
    "model_tf.fit(X,Y)"
   ]
  },
  {
   "cell_type": "code",
   "execution_count": 166,
   "metadata": {
    "ExecuteTime": {
     "end_time": "2017-07-28T07:52:34.531168Z",
     "start_time": "2017-07-28T07:52:34.521447Z"
    }
   },
   "outputs": [
    {
     "data": {
      "text/plain": [
       "array([ 2925.25014647,  2938.19050367,  3099.66715882,  3092.76588259,\n",
       "        2562.08771504])"
      ]
     },
     "execution_count": 166,
     "metadata": {},
     "output_type": "execute_result"
    }
   ],
   "source": [
    "X_eval = data_zero[features]\n",
    "Y_pred = model_tf.predict(X_eval)\n",
    "Y_pred[:5]"
   ]
  },
  {
   "cell_type": "code",
   "execution_count": 167,
   "metadata": {
    "ExecuteTime": {
     "end_time": "2017-07-28T07:52:39.501787Z",
     "start_time": "2017-07-28T07:52:39.381192Z"
    },
    "scrolled": true
   },
   "outputs": [
    {
     "data": {
      "text/html": [
       "<div>\n",
       "<style>\n",
       "    .dataframe thead tr:only-child th {\n",
       "        text-align: right;\n",
       "    }\n",
       "\n",
       "    .dataframe thead th {\n",
       "        text-align: left;\n",
       "    }\n",
       "\n",
       "    .dataframe tbody tr th {\n",
       "        vertical-align: top;\n",
       "    }\n",
       "</style>\n",
       "<table border=\"1\" class=\"dataframe\">\n",
       "  <thead>\n",
       "    <tr style=\"text-align: right;\">\n",
       "      <th></th>\n",
       "      <th></th>\n",
       "      <th>id</th>\n",
       "      <th>vendor_id</th>\n",
       "      <th>passenger_count</th>\n",
       "      <th>pickup_longitude</th>\n",
       "      <th>pickup_latitude</th>\n",
       "      <th>dropoff_longitude</th>\n",
       "      <th>dropoff_latitude</th>\n",
       "      <th>store_and_fwd_flag</th>\n",
       "      <th>total_distance</th>\n",
       "      <th>number_of_streets</th>\n",
       "      <th>...</th>\n",
       "      <th>pickup_day</th>\n",
       "      <th>pickup_hour</th>\n",
       "      <th>pickup_minute</th>\n",
       "      <th>starting_street_tf</th>\n",
       "      <th>end_street_tf</th>\n",
       "      <th>haversine_distance</th>\n",
       "      <th>pickup_hour_speed_mean</th>\n",
       "      <th>pickup_weekday_mean</th>\n",
       "      <th>pickup_day_mean</th>\n",
       "      <th>pickup_month_mean</th>\n",
       "    </tr>\n",
       "  </thead>\n",
       "  <tbody>\n",
       "    <tr>\n",
       "      <th rowspan=\"5\" valign=\"top\">train</th>\n",
       "      <th>20</th>\n",
       "      <td>id2070428</td>\n",
       "      <td>1</td>\n",
       "      <td>1</td>\n",
       "      <td>-73.9804</td>\n",
       "      <td>40.7424</td>\n",
       "      <td>-73.9629</td>\n",
       "      <td>40.7606</td>\n",
       "      <td>0</td>\n",
       "      <td>7,355.4000</td>\n",
       "      <td>13.0000</td>\n",
       "      <td>...</td>\n",
       "      <td>28</td>\n",
       "      <td>2</td>\n",
       "      <td>23</td>\n",
       "      <td>201.0000</td>\n",
       "      <td>2,925.2501</td>\n",
       "      <td>2.0252</td>\n",
       "      <td>7.0167</td>\n",
       "      <td>6.2816</td>\n",
       "      <td>5.3691</td>\n",
       "      <td>5.4836</td>\n",
       "    </tr>\n",
       "    <tr>\n",
       "      <th>25</th>\n",
       "      <td>id0129640</td>\n",
       "      <td>2</td>\n",
       "      <td>1</td>\n",
       "      <td>-73.9566</td>\n",
       "      <td>40.7714</td>\n",
       "      <td>-73.9750</td>\n",
       "      <td>40.7328</td>\n",
       "      <td>0</td>\n",
       "      <td>5,296.1000</td>\n",
       "      <td>13.0000</td>\n",
       "      <td>...</td>\n",
       "      <td>14</td>\n",
       "      <td>13</td>\n",
       "      <td>27</td>\n",
       "      <td>166.0000</td>\n",
       "      <td>2,938.1905</td>\n",
       "      <td>2.3614</td>\n",
       "      <td>4.7184</td>\n",
       "      <td>6.2816</td>\n",
       "      <td>5.4938</td>\n",
       "      <td>5.4836</td>\n",
       "    </tr>\n",
       "    <tr>\n",
       "      <th>94</th>\n",
       "      <td>id3770790</td>\n",
       "      <td>1</td>\n",
       "      <td>1</td>\n",
       "      <td>-73.9922</td>\n",
       "      <td>40.7443</td>\n",
       "      <td>-74.0082</td>\n",
       "      <td>40.7488</td>\n",
       "      <td>0</td>\n",
       "      <td>1,788.7000</td>\n",
       "      <td>6.0000</td>\n",
       "      <td>...</td>\n",
       "      <td>13</td>\n",
       "      <td>13</td>\n",
       "      <td>12</td>\n",
       "      <td>2,579.0000</td>\n",
       "      <td>3,099.6672</td>\n",
       "      <td>1.7833</td>\n",
       "      <td>4.7184</td>\n",
       "      <td>5.6155</td>\n",
       "      <td>5.3633</td>\n",
       "      <td>5.4836</td>\n",
       "    </tr>\n",
       "    <tr>\n",
       "      <th>109</th>\n",
       "      <td>id3962434</td>\n",
       "      <td>2</td>\n",
       "      <td>2</td>\n",
       "      <td>-73.9893</td>\n",
       "      <td>40.7565</td>\n",
       "      <td>-74.0028</td>\n",
       "      <td>40.7605</td>\n",
       "      <td>0</td>\n",
       "      <td>1,496.5000</td>\n",
       "      <td>6.0000</td>\n",
       "      <td>...</td>\n",
       "      <td>10</td>\n",
       "      <td>8</td>\n",
       "      <td>45</td>\n",
       "      <td>2,597.0000</td>\n",
       "      <td>3,092.7659</td>\n",
       "      <td>1.5082</td>\n",
       "      <td>4.8672</td>\n",
       "      <td>6.2816</td>\n",
       "      <td>5.3198</td>\n",
       "      <td>5.4949</td>\n",
       "    </tr>\n",
       "    <tr>\n",
       "      <th>137</th>\n",
       "      <td>id0659170</td>\n",
       "      <td>2</td>\n",
       "      <td>1</td>\n",
       "      <td>-73.9687</td>\n",
       "      <td>40.7645</td>\n",
       "      <td>-73.8728</td>\n",
       "      <td>40.7715</td>\n",
       "      <td>0</td>\n",
       "      <td>10,240.6000</td>\n",
       "      <td>12.0000</td>\n",
       "      <td>...</td>\n",
       "      <td>26</td>\n",
       "      <td>13</td>\n",
       "      <td>7</td>\n",
       "      <td>1,905.0000</td>\n",
       "      <td>2,562.0877</td>\n",
       "      <td>10.6507</td>\n",
       "      <td>4.7184</td>\n",
       "      <td>5.6155</td>\n",
       "      <td>5.4610</td>\n",
       "      <td>5.3419</td>\n",
       "    </tr>\n",
       "  </tbody>\n",
       "</table>\n",
       "<p>5 rows × 23 columns</p>\n",
       "</div>"
      ],
      "text/plain": [
       "                  id  vendor_id  passenger_count  pickup_longitude  \\\n",
       "train 20   id2070428          1                1          -73.9804   \n",
       "      25   id0129640          2                1          -73.9566   \n",
       "      94   id3770790          1                1          -73.9922   \n",
       "      109  id3962434          2                2          -73.9893   \n",
       "      137  id0659170          2                1          -73.9687   \n",
       "\n",
       "           pickup_latitude  dropoff_longitude  dropoff_latitude  \\\n",
       "train 20           40.7424           -73.9629           40.7606   \n",
       "      25           40.7714           -73.9750           40.7328   \n",
       "      94           40.7443           -74.0082           40.7488   \n",
       "      109          40.7565           -74.0028           40.7605   \n",
       "      137          40.7645           -73.8728           40.7715   \n",
       "\n",
       "          store_and_fwd_flag  total_distance  number_of_streets  \\\n",
       "train 20                   0      7,355.4000            13.0000   \n",
       "      25                   0      5,296.1000            13.0000   \n",
       "      94                   0      1,788.7000             6.0000   \n",
       "      109                  0      1,496.5000             6.0000   \n",
       "      137                  0     10,240.6000            12.0000   \n",
       "\n",
       "                 ...          pickup_day  pickup_hour  pickup_minute  \\\n",
       "train 20         ...                  28            2             23   \n",
       "      25         ...                  14           13             27   \n",
       "      94         ...                  13           13             12   \n",
       "      109        ...                  10            8             45   \n",
       "      137        ...                  26           13              7   \n",
       "\n",
       "           starting_street_tf  end_street_tf  haversine_distance  \\\n",
       "train 20             201.0000     2,925.2501              2.0252   \n",
       "      25             166.0000     2,938.1905              2.3614   \n",
       "      94           2,579.0000     3,099.6672              1.7833   \n",
       "      109          2,597.0000     3,092.7659              1.5082   \n",
       "      137          1,905.0000     2,562.0877             10.6507   \n",
       "\n",
       "           pickup_hour_speed_mean  pickup_weekday_mean  pickup_day_mean  \\\n",
       "train 20                   7.0167               6.2816           5.3691   \n",
       "      25                   4.7184               6.2816           5.4938   \n",
       "      94                   4.7184               5.6155           5.3633   \n",
       "      109                  4.8672               6.2816           5.3198   \n",
       "      137                  4.7184               5.6155           5.4610   \n",
       "\n",
       "           pickup_month_mean  \n",
       "train 20              5.4836  \n",
       "      25              5.4836  \n",
       "      94              5.4836  \n",
       "      109             5.4949  \n",
       "      137             5.3419  \n",
       "\n",
       "[5 rows x 23 columns]"
      ]
     },
     "execution_count": 167,
     "metadata": {},
     "output_type": "execute_result"
    }
   ],
   "source": [
    "data_zero[col] = Y_pred\n",
    "data_zero[:5]"
   ]
  },
  {
   "cell_type": "code",
   "execution_count": 168,
   "metadata": {
    "ExecuteTime": {
     "end_time": "2017-07-28T07:52:47.448378Z",
     "start_time": "2017-07-28T07:52:47.290342Z"
    },
    "scrolled": false
   },
   "outputs": [
    {
     "data": {
      "text/plain": [
       "count   2,083,778.0000\n",
       "mean        2,957.6214\n",
       "std         1,968.3590\n",
       "min       -25,160.6987\n",
       "25%         1,308.0000\n",
       "50%         2,246.0000\n",
       "75%         5,305.0000\n",
       "max       199,711.6045\n",
       "Name: end_street_tf, dtype: float64"
      ]
     },
     "execution_count": 168,
     "metadata": {},
     "output_type": "execute_result"
    }
   ],
   "source": [
    "data.loc[data[col].isnull(), col] = data_zero[col]\n",
    "data[col].describe()"
   ]
  },
  {
   "cell_type": "markdown",
   "metadata": {},
   "source": [
    "### Check data"
   ]
  },
  {
   "cell_type": "code",
   "execution_count": 174,
   "metadata": {
    "ExecuteTime": {
     "end_time": "2017-07-28T07:57:54.165981Z",
     "start_time": "2017-07-28T07:57:52.401029Z"
    }
   },
   "outputs": [
    {
     "name": "stdout",
     "output_type": "stream",
     "text": [
      "Empty DataFrame\n",
      "Columns: [Total, Percent]\n",
      "Index: []\n"
     ]
    },
    {
     "data": {
      "text/plain": [
       "array([], dtype=object)"
      ]
     },
     "execution_count": 174,
     "metadata": {},
     "output_type": "execute_result"
    }
   ],
   "source": [
    "check_null_data(combine_data_tf)"
   ]
  },
  {
   "cell_type": "markdown",
   "metadata": {},
   "source": [
    "## Clearning data"
   ]
  },
  {
   "cell_type": "markdown",
   "metadata": {},
   "source": [
    "### Split train_set and eval_set"
   ]
  },
  {
   "cell_type": "code",
   "execution_count": 175,
   "metadata": {
    "ExecuteTime": {
     "end_time": "2017-07-28T07:58:13.457764Z",
     "start_time": "2017-07-28T07:58:13.322235Z"
    }
   },
   "outputs": [
    {
     "data": {
      "text/html": [
       "<div>\n",
       "<style>\n",
       "    .dataframe thead tr:only-child th {\n",
       "        text-align: right;\n",
       "    }\n",
       "\n",
       "    .dataframe thead th {\n",
       "        text-align: left;\n",
       "    }\n",
       "\n",
       "    .dataframe tbody tr th {\n",
       "        vertical-align: top;\n",
       "    }\n",
       "</style>\n",
       "<table border=\"1\" class=\"dataframe\">\n",
       "  <thead>\n",
       "    <tr style=\"text-align: right;\">\n",
       "      <th></th>\n",
       "      <th>id</th>\n",
       "      <th>vendor_id</th>\n",
       "      <th>passenger_count</th>\n",
       "      <th>pickup_longitude</th>\n",
       "      <th>pickup_latitude</th>\n",
       "      <th>dropoff_longitude</th>\n",
       "      <th>dropoff_latitude</th>\n",
       "      <th>store_and_fwd_flag</th>\n",
       "      <th>total_distance</th>\n",
       "      <th>number_of_streets</th>\n",
       "      <th>...</th>\n",
       "      <th>pickup_hour</th>\n",
       "      <th>pickup_minute</th>\n",
       "      <th>starting_street_tf</th>\n",
       "      <th>end_street_tf</th>\n",
       "      <th>haversine_distance</th>\n",
       "      <th>pickup_hour_speed_mean</th>\n",
       "      <th>pickup_weekday_mean</th>\n",
       "      <th>pickup_day_mean</th>\n",
       "      <th>pickup_month_mean</th>\n",
       "      <th>trip_duration</th>\n",
       "    </tr>\n",
       "  </thead>\n",
       "  <tbody>\n",
       "    <tr>\n",
       "      <th>0</th>\n",
       "      <td>id2875421</td>\n",
       "      <td>2</td>\n",
       "      <td>1</td>\n",
       "      <td>-73.9822</td>\n",
       "      <td>40.7679</td>\n",
       "      <td>-73.9646</td>\n",
       "      <td>40.7656</td>\n",
       "      <td>0</td>\n",
       "      <td>2,009.1000</td>\n",
       "      <td>5.0000</td>\n",
       "      <td>...</td>\n",
       "      <td>17</td>\n",
       "      <td>24</td>\n",
       "      <td>774.0000</td>\n",
       "      <td>2,224.0000</td>\n",
       "      <td>1.9488</td>\n",
       "      <td>4.6887</td>\n",
       "      <td>5.6874</td>\n",
       "      <td>5.4938</td>\n",
       "      <td>5.3419</td>\n",
       "      <td>455</td>\n",
       "    </tr>\n",
       "    <tr>\n",
       "      <th>1</th>\n",
       "      <td>id2377394</td>\n",
       "      <td>1</td>\n",
       "      <td>1</td>\n",
       "      <td>-73.9804</td>\n",
       "      <td>40.7386</td>\n",
       "      <td>-73.9995</td>\n",
       "      <td>40.7312</td>\n",
       "      <td>0</td>\n",
       "      <td>2,513.2000</td>\n",
       "      <td>6.0000</td>\n",
       "      <td>...</td>\n",
       "      <td>0</td>\n",
       "      <td>43</td>\n",
       "      <td>166.0000</td>\n",
       "      <td>5,465.0000</td>\n",
       "      <td>2.1308</td>\n",
       "      <td>6.6375</td>\n",
       "      <td>6.2816</td>\n",
       "      <td>5.5073</td>\n",
       "      <td>5.3912</td>\n",
       "      <td>663</td>\n",
       "    </tr>\n",
       "    <tr>\n",
       "      <th>2</th>\n",
       "      <td>id3858529</td>\n",
       "      <td>2</td>\n",
       "      <td>1</td>\n",
       "      <td>-73.9790</td>\n",
       "      <td>40.7639</td>\n",
       "      <td>-74.0053</td>\n",
       "      <td>40.7101</td>\n",
       "      <td>0</td>\n",
       "      <td>11,060.8000</td>\n",
       "      <td>16.0000</td>\n",
       "      <td>...</td>\n",
       "      <td>11</td>\n",
       "      <td>35</td>\n",
       "      <td>2,613.0000</td>\n",
       "      <td>1,129.0000</td>\n",
       "      <td>3.3569</td>\n",
       "      <td>4.7020</td>\n",
       "      <td>5.1908</td>\n",
       "      <td>5.4773</td>\n",
       "      <td>5.4949</td>\n",
       "      <td>2124</td>\n",
       "    </tr>\n",
       "    <tr>\n",
       "      <th>3</th>\n",
       "      <td>id3504673</td>\n",
       "      <td>2</td>\n",
       "      <td>1</td>\n",
       "      <td>-74.0100</td>\n",
       "      <td>40.7200</td>\n",
       "      <td>-74.0123</td>\n",
       "      <td>40.7067</td>\n",
       "      <td>0</td>\n",
       "      <td>1,779.4000</td>\n",
       "      <td>4.0000</td>\n",
       "      <td>...</td>\n",
       "      <td>19</td>\n",
       "      <td>32</td>\n",
       "      <td>1,316.0000</td>\n",
       "      <td>1,308.0000</td>\n",
       "      <td>0.4752</td>\n",
       "      <td>5.0890</td>\n",
       "      <td>5.0525</td>\n",
       "      <td>5.5201</td>\n",
       "      <td>5.3554</td>\n",
       "      <td>429</td>\n",
       "    </tr>\n",
       "    <tr>\n",
       "      <th>4</th>\n",
       "      <td>id2181028</td>\n",
       "      <td>2</td>\n",
       "      <td>1</td>\n",
       "      <td>-73.9731</td>\n",
       "      <td>40.7932</td>\n",
       "      <td>-73.9729</td>\n",
       "      <td>40.7825</td>\n",
       "      <td>0</td>\n",
       "      <td>1,614.9000</td>\n",
       "      <td>5.0000</td>\n",
       "      <td>...</td>\n",
       "      <td>13</td>\n",
       "      <td>30</td>\n",
       "      <td>609.0000</td>\n",
       "      <td>5,735.0000</td>\n",
       "      <td>0.3283</td>\n",
       "      <td>4.7184</td>\n",
       "      <td>5.6155</td>\n",
       "      <td>5.4610</td>\n",
       "      <td>5.3419</td>\n",
       "      <td>435</td>\n",
       "    </tr>\n",
       "  </tbody>\n",
       "</table>\n",
       "<p>5 rows × 24 columns</p>\n",
       "</div>"
      ],
      "text/plain": [
       "          id  vendor_id  passenger_count  pickup_longitude  pickup_latitude  \\\n",
       "0  id2875421          2                1          -73.9822          40.7679   \n",
       "1  id2377394          1                1          -73.9804          40.7386   \n",
       "2  id3858529          2                1          -73.9790          40.7639   \n",
       "3  id3504673          2                1          -74.0100          40.7200   \n",
       "4  id2181028          2                1          -73.9731          40.7932   \n",
       "\n",
       "   dropoff_longitude  dropoff_latitude store_and_fwd_flag  total_distance  \\\n",
       "0           -73.9646           40.7656                  0      2,009.1000   \n",
       "1           -73.9995           40.7312                  0      2,513.2000   \n",
       "2           -74.0053           40.7101                  0     11,060.8000   \n",
       "3           -74.0123           40.7067                  0      1,779.4000   \n",
       "4           -73.9729           40.7825                  0      1,614.9000   \n",
       "\n",
       "   number_of_streets      ...        pickup_hour  pickup_minute  \\\n",
       "0             5.0000      ...                 17             24   \n",
       "1             6.0000      ...                  0             43   \n",
       "2            16.0000      ...                 11             35   \n",
       "3             4.0000      ...                 19             32   \n",
       "4             5.0000      ...                 13             30   \n",
       "\n",
       "   starting_street_tf  end_street_tf  haversine_distance  \\\n",
       "0            774.0000     2,224.0000              1.9488   \n",
       "1            166.0000     5,465.0000              2.1308   \n",
       "2          2,613.0000     1,129.0000              3.3569   \n",
       "3          1,316.0000     1,308.0000              0.4752   \n",
       "4            609.0000     5,735.0000              0.3283   \n",
       "\n",
       "   pickup_hour_speed_mean  pickup_weekday_mean  pickup_day_mean  \\\n",
       "0                  4.6887               5.6874           5.4938   \n",
       "1                  6.6375               6.2816           5.5073   \n",
       "2                  4.7020               5.1908           5.4773   \n",
       "3                  5.0890               5.0525           5.5201   \n",
       "4                  4.7184               5.6155           5.4610   \n",
       "\n",
       "   pickup_month_mean  trip_duration  \n",
       "0             5.3419            455  \n",
       "1             5.3912            663  \n",
       "2             5.4949           2124  \n",
       "3             5.3554            429  \n",
       "4             5.3419            435  \n",
       "\n",
       "[5 rows x 24 columns]"
      ]
     },
     "execution_count": 175,
     "metadata": {},
     "output_type": "execute_result"
    }
   ],
   "source": [
    "data = combine_data_tf\n",
    "train_set = data.loc['train']\n",
    "eval_set = data.loc['eval']\n",
    "data = train_set\n",
    "data[label] = target\n",
    "target_log = np.log(target)\n",
    "data[:5]"
   ]
  },
  {
   "cell_type": "markdown",
   "metadata": {},
   "source": [
    "### Trip duration outliner"
   ]
  },
  {
   "cell_type": "markdown",
   "metadata": {},
   "source": [
    "####  Search for outliner"
   ]
  },
  {
   "cell_type": "code",
   "execution_count": 176,
   "metadata": {
    "ExecuteTime": {
     "end_time": "2017-07-28T07:59:02.868935Z",
     "start_time": "2017-07-28T07:58:53.051385Z"
    }
   },
   "outputs": [
    {
     "data": {
      "text/plain": [
       "<matplotlib.collections.PathCollection at 0x7f83a39361d0>"
      ]
     },
     "execution_count": 176,
     "metadata": {},
     "output_type": "execute_result"
    },
    {
     "data": {
      "image/png": "[encoded data removed]",
      "text/plain": [
       "<matplotlib.figure.Figure at 0x7f83a3c48390>"
      ]
     },
     "metadata": {},
     "output_type": "display_data"
    }
   ],
   "source": [
    "plt.scatter(data.index, data[label])"
   ]
  },
  {
   "cell_type": "markdown",
   "metadata": {},
   "source": [
    " - Note: Outliners are trip_duration> 1800000"
   ]
  },
  {
   "cell_type": "code",
   "execution_count": 177,
   "metadata": {
    "ExecuteTime": {
     "end_time": "2017-07-28T07:59:03.098082Z",
     "start_time": "2017-07-28T07:59:02.870232Z"
    }
   },
   "outputs": [
    {
     "data": {
      "text/html": [
       "<div>\n",
       "<style>\n",
       "    .dataframe thead tr:only-child th {\n",
       "        text-align: right;\n",
       "    }\n",
       "\n",
       "    .dataframe thead th {\n",
       "        text-align: left;\n",
       "    }\n",
       "\n",
       "    .dataframe tbody tr th {\n",
       "        vertical-align: top;\n",
       "    }\n",
       "</style>\n",
       "<table border=\"1\" class=\"dataframe\">\n",
       "  <thead>\n",
       "    <tr style=\"text-align: right;\">\n",
       "      <th></th>\n",
       "      <th>id</th>\n",
       "      <th>vendor_id</th>\n",
       "      <th>passenger_count</th>\n",
       "      <th>pickup_longitude</th>\n",
       "      <th>pickup_latitude</th>\n",
       "      <th>dropoff_longitude</th>\n",
       "      <th>dropoff_latitude</th>\n",
       "      <th>store_and_fwd_flag</th>\n",
       "      <th>total_distance</th>\n",
       "      <th>number_of_streets</th>\n",
       "      <th>...</th>\n",
       "      <th>pickup_hour</th>\n",
       "      <th>pickup_minute</th>\n",
       "      <th>starting_street_tf</th>\n",
       "      <th>end_street_tf</th>\n",
       "      <th>haversine_distance</th>\n",
       "      <th>pickup_hour_speed_mean</th>\n",
       "      <th>pickup_weekday_mean</th>\n",
       "      <th>pickup_day_mean</th>\n",
       "      <th>pickup_month_mean</th>\n",
       "      <th>trip_duration</th>\n",
       "    </tr>\n",
       "  </thead>\n",
       "  <tbody>\n",
       "    <tr>\n",
       "      <th>355003</th>\n",
       "      <td>id1864733</td>\n",
       "      <td>1</td>\n",
       "      <td>1</td>\n",
       "      <td>-73.7896</td>\n",
       "      <td>40.6436</td>\n",
       "      <td>-73.9568</td>\n",
       "      <td>40.7731</td>\n",
       "      <td>0</td>\n",
       "      <td>29,232.6000</td>\n",
       "      <td>19.0000</td>\n",
       "      <td>...</td>\n",
       "      <td>0</td>\n",
       "      <td>19</td>\n",
       "      <td>1,544.6359</td>\n",
       "      <td>2,238.0000</td>\n",
       "      <td>19.0011</td>\n",
       "      <td>6.6375</td>\n",
       "      <td>5.1908</td>\n",
       "      <td>5.4786</td>\n",
       "      <td>5.4949</td>\n",
       "      <td>1939736</td>\n",
       "    </tr>\n",
       "    <tr>\n",
       "      <th>680594</th>\n",
       "      <td>id0369307</td>\n",
       "      <td>1</td>\n",
       "      <td>2</td>\n",
       "      <td>-73.9217</td>\n",
       "      <td>40.7353</td>\n",
       "      <td>-73.9847</td>\n",
       "      <td>40.7600</td>\n",
       "      <td>0</td>\n",
       "      <td>7,503.0000</td>\n",
       "      <td>10.0000</td>\n",
       "      <td>...</td>\n",
       "      <td>22</td>\n",
       "      <td>38</td>\n",
       "      <td>1,284.6635</td>\n",
       "      <td>1,308.0000</td>\n",
       "      <td>7.0499</td>\n",
       "      <td>5.9910</td>\n",
       "      <td>5.6155</td>\n",
       "      <td>5.3633</td>\n",
       "      <td>5.4836</td>\n",
       "      <td>2049578</td>\n",
       "    </tr>\n",
       "    <tr>\n",
       "      <th>924150</th>\n",
       "      <td>id1325766</td>\n",
       "      <td>1</td>\n",
       "      <td>1</td>\n",
       "      <td>-73.9838</td>\n",
       "      <td>40.7423</td>\n",
       "      <td>-73.9855</td>\n",
       "      <td>40.7277</td>\n",
       "      <td>0</td>\n",
       "      <td>2,318.9000</td>\n",
       "      <td>6.0000</td>\n",
       "      <td>...</td>\n",
       "      <td>6</td>\n",
       "      <td>14</td>\n",
       "      <td>1,015.0000</td>\n",
       "      <td>4,722.0000</td>\n",
       "      <td>0.4873</td>\n",
       "      <td>7.7763</td>\n",
       "      <td>5.1908</td>\n",
       "      <td>5.4786</td>\n",
       "      <td>5.4949</td>\n",
       "      <td>2227612</td>\n",
       "    </tr>\n",
       "    <tr>\n",
       "      <th>978383</th>\n",
       "      <td>id0053347</td>\n",
       "      <td>1</td>\n",
       "      <td>1</td>\n",
       "      <td>-73.7839</td>\n",
       "      <td>40.6486</td>\n",
       "      <td>-73.9783</td>\n",
       "      <td>40.7502</td>\n",
       "      <td>0</td>\n",
       "      <td>27,223.8000</td>\n",
       "      <td>14.0000</td>\n",
       "      <td>...</td>\n",
       "      <td>22</td>\n",
       "      <td>46</td>\n",
       "      <td>2,297.0000</td>\n",
       "      <td>2,193.0000</td>\n",
       "      <td>21.8251</td>\n",
       "      <td>5.9910</td>\n",
       "      <td>5.6155</td>\n",
       "      <td>5.3633</td>\n",
       "      <td>5.4836</td>\n",
       "      <td>3526282</td>\n",
       "    </tr>\n",
       "  </tbody>\n",
       "</table>\n",
       "<p>4 rows × 24 columns</p>\n",
       "</div>"
      ],
      "text/plain": [
       "               id  vendor_id  passenger_count  pickup_longitude  \\\n",
       "355003  id1864733          1                1          -73.7896   \n",
       "680594  id0369307          1                2          -73.9217   \n",
       "924150  id1325766          1                1          -73.9838   \n",
       "978383  id0053347          1                1          -73.7839   \n",
       "\n",
       "        pickup_latitude  dropoff_longitude  dropoff_latitude  \\\n",
       "355003          40.6436           -73.9568           40.7731   \n",
       "680594          40.7353           -73.9847           40.7600   \n",
       "924150          40.7423           -73.9855           40.7277   \n",
       "978383          40.6486           -73.9783           40.7502   \n",
       "\n",
       "       store_and_fwd_flag  total_distance  number_of_streets      ...        \\\n",
       "355003                  0     29,232.6000            19.0000      ...         \n",
       "680594                  0      7,503.0000            10.0000      ...         \n",
       "924150                  0      2,318.9000             6.0000      ...         \n",
       "978383                  0     27,223.8000            14.0000      ...         \n",
       "\n",
       "        pickup_hour  pickup_minute  starting_street_tf  end_street_tf  \\\n",
       "355003            0             19          1,544.6359     2,238.0000   \n",
       "680594           22             38          1,284.6635     1,308.0000   \n",
       "924150            6             14          1,015.0000     4,722.0000   \n",
       "978383           22             46          2,297.0000     2,193.0000   \n",
       "\n",
       "        haversine_distance  pickup_hour_speed_mean  pickup_weekday_mean  \\\n",
       "355003             19.0011                  6.6375               5.1908   \n",
       "680594              7.0499                  5.9910               5.6155   \n",
       "924150              0.4873                  7.7763               5.1908   \n",
       "978383             21.8251                  5.9910               5.6155   \n",
       "\n",
       "        pickup_day_mean  pickup_month_mean  trip_duration  \n",
       "355003           5.4786             5.4949        1939736  \n",
       "680594           5.3633             5.4836        2049578  \n",
       "924150           5.4786             5.4949        2227612  \n",
       "978383           5.3633             5.4836        3526282  \n",
       "\n",
       "[4 rows x 24 columns]"
      ]
     },
     "execution_count": 177,
     "metadata": {},
     "output_type": "execute_result"
    }
   ],
   "source": [
    "data = train_set\n",
    "data_ol = data[data[label] > 1800000]\n",
    "data_ol[-5:]"
   ]
  },
  {
   "cell_type": "markdown",
   "metadata": {},
   "source": [
    "#### Drop trip-duration outliner"
   ]
  },
  {
   "cell_type": "code",
   "execution_count": 178,
   "metadata": {
    "ExecuteTime": {
     "end_time": "2017-07-28T07:59:12.605102Z",
     "start_time": "2017-07-28T07:59:03.099444Z"
    }
   },
   "outputs": [
    {
     "data": {
      "text/plain": [
       "<matplotlib.collections.PathCollection at 0x7f83a33d6048>"
      ]
     },
     "execution_count": 178,
     "metadata": {},
     "output_type": "execute_result"
    },
    {
     "data": {
      "image/png": "[encoded data removed]",
      "text/plain": [
       "<matplotlib.figure.Figure at 0x7f83a3c48f60>"
      ]
     },
     "metadata": {},
     "output_type": "display_data"
    }
   ],
   "source": [
    "data_ol = data[data[label] < 1800000]\n",
    "plt.scatter(data_ol.index, data_ol[label])"
   ]
  },
  {
   "cell_type": "code",
   "execution_count": 179,
   "metadata": {
    "ExecuteTime": {
     "end_time": "2017-07-28T07:59:12.669919Z",
     "start_time": "2017-07-28T07:59:12.606380Z"
    },
    "collapsed": true
   },
   "outputs": [],
   "source": [
    "train_set = data_ol\n",
    "data = train_set\n",
    "# use np.log to balance distribution\n",
    "target_log = np.log(train_set[label].values)"
   ]
  },
  {
   "cell_type": "markdown",
   "metadata": {},
   "source": [
    "#### drop trip_duration=0"
   ]
  },
  {
   "cell_type": "code",
   "execution_count": 185,
   "metadata": {
    "ExecuteTime": {
     "end_time": "2017-07-28T08:04:02.002229Z",
     "start_time": "2017-07-28T08:04:01.991673Z"
    }
   },
   "outputs": [
    {
     "name": "stdout",
     "output_type": "stream",
     "text": [
      "5897\n"
     ]
    }
   ],
   "source": [
    "# drop trip_duration=0\n",
    "data_zero = data[data[label]==0]\n",
    "print(len(data_zero))"
   ]
  },
  {
   "cell_type": "code",
   "execution_count": 186,
   "metadata": {
    "ExecuteTime": {
     "end_time": "2017-07-28T08:04:52.485120Z",
     "start_time": "2017-07-28T08:04:52.116761Z"
    },
    "collapsed": true
   },
   "outputs": [],
   "source": [
    "train_set = train_set[train_set[label]>0]"
   ]
  },
  {
   "cell_type": "code",
   "execution_count": 187,
   "metadata": {
    "ExecuteTime": {
     "end_time": "2017-07-28T08:04:56.368242Z",
     "start_time": "2017-07-28T08:04:56.282404Z"
    },
    "scrolled": true
   },
   "outputs": [
    {
     "data": {
      "text/plain": [
       "count   1,452,743.0000\n",
       "mean          954.5092\n",
       "std         3,175.2062\n",
       "min             1.0000\n",
       "25%           398.0000\n",
       "50%           664.0000\n",
       "75%         1,076.0000\n",
       "max        86,392.0000\n",
       "Name: trip_duration, dtype: float64"
      ]
     },
     "execution_count": 187,
     "metadata": {},
     "output_type": "execute_result"
    }
   ],
   "source": [
    "train_set[label].describe()"
   ]
  },
  {
   "cell_type": "code",
   "execution_count": 188,
   "metadata": {
    "ExecuteTime": {
     "end_time": "2017-07-28T08:05:20.419295Z",
     "start_time": "2017-07-28T08:05:20.365712Z"
    },
    "collapsed": true
   },
   "outputs": [],
   "source": [
    "target = train_set[label]\n",
    "target_log = np.log(target)"
   ]
  },
  {
   "cell_type": "markdown",
   "metadata": {},
   "source": [
    "### Trip duration distribution"
   ]
  },
  {
   "cell_type": "code",
   "execution_count": 189,
   "metadata": {
    "ExecuteTime": {
     "end_time": "2017-07-28T08:05:35.259215Z",
     "start_time": "2017-07-28T08:05:23.307680Z"
    },
    "scrolled": true
   },
   "outputs": [
    {
     "data": {
      "text/plain": [
       "<matplotlib.text.Text at 0x7f83a336a358>"
      ]
     },
     "execution_count": 189,
     "metadata": {},
     "output_type": "execute_result"
    },
    {
     "data": {
      "image/png": "[encoded data removed]",
      "text/plain": [
       "<matplotlib.figure.Figure at 0x7f83a3b3ca90>"
      ]
     },
     "metadata": {},
     "output_type": "display_data"
    }
   ],
   "source": [
    "plt.figure(figsize=(10,5))\n",
    "plt.subplot(1,2,1)\n",
    "sns.distplot(data[label], bins=50)\n",
    "plt.title('Original Data')\n",
    "plt.xlabel(label)\n",
    "plt.subplot(1,2,2)\n",
    "sns.distplot(target_log, bins=50)\n",
    "plt.title('Natural Log of Data')\n",
    "plt.xlabel('Natural Log of ' + label)\n"
   ]
  },
  {
   "cell_type": "markdown",
   "metadata": {},
   "source": [
    "## Feature scaling (not use)"
   ]
  },
  {
   "cell_type": "raw",
   "metadata": {
    "ExecuteTime": {
     "end_time": "2017-07-22T15:04:57.780151Z",
     "start_time": "2017-07-22T15:04:55.834361Z"
    }
   },
   "source": [
    "data = combine_data_tf.drop('id', axis=1).astype(float)\n",
    "std_scale = data.apply(StandardScaler().fit_transform)\n",
    "combine_data_tf.update(std_scale)\n",
    "combine_data_tf[:5]"
   ]
  },
  {
   "cell_type": "code",
   "execution_count": null,
   "metadata": {
    "ExecuteTime": {
     "end_time": "2017-07-26T08:51:03.368609Z",
     "start_time": "2017-07-26T08:51:03.315224Z"
    },
    "collapsed": true
   },
   "outputs": [],
   "source": [
    "combine_data_tf['pickup_year'].value_counts()"
   ]
  },
  {
   "cell_type": "code",
   "execution_count": null,
   "metadata": {
    "ExecuteTime": {
     "end_time": "2017-07-26T08:51:05.817003Z",
     "start_time": "2017-07-26T08:51:05.638481Z"
    },
    "collapsed": true
   },
   "outputs": [],
   "source": [
    "# Drop pickup year\n",
    "# combine_data_tf.drop('pickup_year', axis=1, inplace=True)"
   ]
  },
  {
   "cell_type": "markdown",
   "metadata": {},
   "source": [
    "## Feature correlation"
   ]
  },
  {
   "cell_type": "code",
   "execution_count": 190,
   "metadata": {
    "ExecuteTime": {
     "end_time": "2017-07-28T08:05:49.519510Z",
     "start_time": "2017-07-28T08:05:47.866239Z"
    }
   },
   "outputs": [
    {
     "data": {
      "text/plain": [
       "pickup_hour_speed_mean   -0.0174\n",
       "pickup_weekday_mean      -0.0111\n",
       "pickup_month_mean        -0.0101\n",
       "pickup_minute            -0.0041\n",
       "pickup_day_mean          -0.0021\n",
       "pickup_weekday           -0.0014\n",
       "pickup_day                0.0024\n",
       "pickup_hour               0.0060\n",
       "end_street_tf             0.0107\n",
       "pickup_month              0.0133\n",
       "passenger_count           0.0146\n",
       "starting_street_tf        0.0169\n",
       "dropoff_longitude         0.0241\n",
       "vendor_id                 0.0355\n",
       "pickup_longitude          0.0402\n",
       "haversine_distance        0.1461\n",
       "number_of_streets         0.1464\n",
       "total_distance            0.1670\n",
       "trip_duration             1.0000\n",
       "pickup_year                  nan\n",
       "Name: trip_duration, dtype: float64"
      ]
     },
     "execution_count": 190,
     "metadata": {},
     "output_type": "execute_result"
    }
   ],
   "source": [
    "correlation = data.corr()[label].sort_values()[-20:]\n",
    "correlation"
   ]
  },
  {
   "cell_type": "code",
   "execution_count": 191,
   "metadata": {
    "ExecuteTime": {
     "end_time": "2017-07-28T08:06:07.664600Z",
     "start_time": "2017-07-28T08:06:04.314968Z"
    },
    "scrolled": false
   },
   "outputs": [
    {
     "name": "stdout",
     "output_type": "stream",
     "text": [
      "['trip_duration' 'total_distance' 'number_of_streets' 'haversine_distance'\n",
      " 'pickup_longitude' 'vendor_id' 'dropoff_longitude' 'starting_street_tf'\n",
      " 'passenger_count' 'pickup_month' 'end_street_tf' 'pickup_hour'\n",
      " 'pickup_day' 'pickup_weekday' 'pickup_day_mean']\n"
     ]
    },
    {
     "data": {
      "image/png": "[encoded data removed]",
      "text/plain": [
       "<matplotlib.figure.Figure at 0x7f83a34d2c50>"
      ]
     },
     "metadata": {},
     "output_type": "display_data"
    }
   ],
   "source": [
    "#correlation matrix\n",
    "corrmat = data.corr()\n",
    "k = 15 #number of variables for heatmap\n",
    "cols = corrmat.nlargest(k, label)[label].index\n",
    "print(cols.values)\n",
    "cm = np.corrcoef(data[cols].values.T)\n",
    "sns.set(font_scale=1.25)\n",
    "hm = sns.heatmap(cm, cbar=True, annot=True, square=True, fmt='.2f', annot_kws={'size': 10}, yticklabels=cols.values, xticklabels=cols.values)\n",
    "plt.show()"
   ]
  },
  {
   "cell_type": "code",
   "execution_count": 192,
   "metadata": {
    "ExecuteTime": {
     "end_time": "2017-07-28T08:07:19.067729Z",
     "start_time": "2017-07-28T08:07:17.961896Z"
    }
   },
   "outputs": [
    {
     "data": {
      "image/png": "[encoded data removed]",
      "text/plain": [
       "<matplotlib.figure.Figure at 0x7f83a31fd278>"
      ]
     },
     "metadata": {},
     "output_type": "display_data"
    }
   ],
   "source": [
    "# Correlation matrix of cols except label\n",
    "other_cols = np.setdiff1d(cols.values, label)\n",
    "cm = np.corrcoef(data[other_cols].values.T)\n",
    "sns.set(font_scale=1.25)\n",
    "hm = sns.heatmap(cm, cbar=True, annot=True, square=True, fmt='.2f', annot_kws={'size': 10}, yticklabels=other_cols, xticklabels=other_cols)\n",
    "plt.show()"
   ]
  },
  {
   "cell_type": "markdown",
   "metadata": {},
   "source": [
    "# Train model"
   ]
  },
  {
   "cell_type": "code",
   "execution_count": 193,
   "metadata": {
    "ExecuteTime": {
     "end_time": "2017-07-28T08:07:55.899648Z",
     "start_time": "2017-07-28T08:07:49.057183Z"
    }
   },
   "outputs": [
    {
     "name": "stdout",
     "output_type": "stream",
     "text": [
      "(1452743, 22)\n"
     ]
    },
    {
     "data": {
      "text/html": [
       "<div>\n",
       "<style>\n",
       "    .dataframe thead tr:only-child th {\n",
       "        text-align: right;\n",
       "    }\n",
       "\n",
       "    .dataframe thead th {\n",
       "        text-align: left;\n",
       "    }\n",
       "\n",
       "    .dataframe tbody tr th {\n",
       "        vertical-align: top;\n",
       "    }\n",
       "</style>\n",
       "<table border=\"1\" class=\"dataframe\">\n",
       "  <thead>\n",
       "    <tr style=\"text-align: right;\">\n",
       "      <th></th>\n",
       "      <th>vendor_id</th>\n",
       "      <th>passenger_count</th>\n",
       "      <th>pickup_longitude</th>\n",
       "      <th>pickup_latitude</th>\n",
       "      <th>dropoff_longitude</th>\n",
       "      <th>dropoff_latitude</th>\n",
       "      <th>store_and_fwd_flag</th>\n",
       "      <th>total_distance</th>\n",
       "      <th>number_of_streets</th>\n",
       "      <th>pickup_year</th>\n",
       "      <th>...</th>\n",
       "      <th>pickup_day</th>\n",
       "      <th>pickup_hour</th>\n",
       "      <th>pickup_minute</th>\n",
       "      <th>starting_street_tf</th>\n",
       "      <th>end_street_tf</th>\n",
       "      <th>haversine_distance</th>\n",
       "      <th>pickup_hour_speed_mean</th>\n",
       "      <th>pickup_weekday_mean</th>\n",
       "      <th>pickup_day_mean</th>\n",
       "      <th>pickup_month_mean</th>\n",
       "    </tr>\n",
       "  </thead>\n",
       "  <tbody>\n",
       "    <tr>\n",
       "      <th>0</th>\n",
       "      <td>2.0000</td>\n",
       "      <td>1.0000</td>\n",
       "      <td>-73.9822</td>\n",
       "      <td>40.7679</td>\n",
       "      <td>-73.9646</td>\n",
       "      <td>40.7656</td>\n",
       "      <td>0.0000</td>\n",
       "      <td>2,009.1000</td>\n",
       "      <td>5.0000</td>\n",
       "      <td>2,016.0000</td>\n",
       "      <td>...</td>\n",
       "      <td>14.0000</td>\n",
       "      <td>17.0000</td>\n",
       "      <td>24.0000</td>\n",
       "      <td>774.0000</td>\n",
       "      <td>2,224.0000</td>\n",
       "      <td>1.9488</td>\n",
       "      <td>4.6887</td>\n",
       "      <td>5.6874</td>\n",
       "      <td>5.4938</td>\n",
       "      <td>5.3419</td>\n",
       "    </tr>\n",
       "    <tr>\n",
       "      <th>1</th>\n",
       "      <td>1.0000</td>\n",
       "      <td>1.0000</td>\n",
       "      <td>-73.9804</td>\n",
       "      <td>40.7386</td>\n",
       "      <td>-73.9995</td>\n",
       "      <td>40.7312</td>\n",
       "      <td>0.0000</td>\n",
       "      <td>2,513.2000</td>\n",
       "      <td>6.0000</td>\n",
       "      <td>2,016.0000</td>\n",
       "      <td>...</td>\n",
       "      <td>12.0000</td>\n",
       "      <td>0.0000</td>\n",
       "      <td>43.0000</td>\n",
       "      <td>166.0000</td>\n",
       "      <td>5,465.0000</td>\n",
       "      <td>2.1308</td>\n",
       "      <td>6.6375</td>\n",
       "      <td>6.2816</td>\n",
       "      <td>5.5073</td>\n",
       "      <td>5.3912</td>\n",
       "    </tr>\n",
       "    <tr>\n",
       "      <th>2</th>\n",
       "      <td>2.0000</td>\n",
       "      <td>1.0000</td>\n",
       "      <td>-73.9790</td>\n",
       "      <td>40.7639</td>\n",
       "      <td>-74.0053</td>\n",
       "      <td>40.7101</td>\n",
       "      <td>0.0000</td>\n",
       "      <td>11,060.8000</td>\n",
       "      <td>16.0000</td>\n",
       "      <td>2,016.0000</td>\n",
       "      <td>...</td>\n",
       "      <td>19.0000</td>\n",
       "      <td>11.0000</td>\n",
       "      <td>35.0000</td>\n",
       "      <td>2,613.0000</td>\n",
       "      <td>1,129.0000</td>\n",
       "      <td>3.3569</td>\n",
       "      <td>4.7020</td>\n",
       "      <td>5.1908</td>\n",
       "      <td>5.4773</td>\n",
       "      <td>5.4949</td>\n",
       "    </tr>\n",
       "    <tr>\n",
       "      <th>3</th>\n",
       "      <td>2.0000</td>\n",
       "      <td>1.0000</td>\n",
       "      <td>-74.0100</td>\n",
       "      <td>40.7200</td>\n",
       "      <td>-74.0123</td>\n",
       "      <td>40.7067</td>\n",
       "      <td>0.0000</td>\n",
       "      <td>1,779.4000</td>\n",
       "      <td>4.0000</td>\n",
       "      <td>2,016.0000</td>\n",
       "      <td>...</td>\n",
       "      <td>6.0000</td>\n",
       "      <td>19.0000</td>\n",
       "      <td>32.0000</td>\n",
       "      <td>1,316.0000</td>\n",
       "      <td>1,308.0000</td>\n",
       "      <td>0.4752</td>\n",
       "      <td>5.0890</td>\n",
       "      <td>5.0525</td>\n",
       "      <td>5.5201</td>\n",
       "      <td>5.3554</td>\n",
       "    </tr>\n",
       "    <tr>\n",
       "      <th>4</th>\n",
       "      <td>2.0000</td>\n",
       "      <td>1.0000</td>\n",
       "      <td>-73.9731</td>\n",
       "      <td>40.7932</td>\n",
       "      <td>-73.9729</td>\n",
       "      <td>40.7825</td>\n",
       "      <td>0.0000</td>\n",
       "      <td>1,614.9000</td>\n",
       "      <td>5.0000</td>\n",
       "      <td>2,016.0000</td>\n",
       "      <td>...</td>\n",
       "      <td>26.0000</td>\n",
       "      <td>13.0000</td>\n",
       "      <td>30.0000</td>\n",
       "      <td>609.0000</td>\n",
       "      <td>5,735.0000</td>\n",
       "      <td>0.3283</td>\n",
       "      <td>4.7184</td>\n",
       "      <td>5.6155</td>\n",
       "      <td>5.4610</td>\n",
       "      <td>5.3419</td>\n",
       "    </tr>\n",
       "  </tbody>\n",
       "</table>\n",
       "<p>5 rows × 22 columns</p>\n",
       "</div>"
      ],
      "text/plain": [
       "   vendor_id  passenger_count  pickup_longitude  pickup_latitude  \\\n",
       "0     2.0000           1.0000          -73.9822          40.7679   \n",
       "1     1.0000           1.0000          -73.9804          40.7386   \n",
       "2     2.0000           1.0000          -73.9790          40.7639   \n",
       "3     2.0000           1.0000          -74.0100          40.7200   \n",
       "4     2.0000           1.0000          -73.9731          40.7932   \n",
       "\n",
       "   dropoff_longitude  dropoff_latitude  store_and_fwd_flag  total_distance  \\\n",
       "0           -73.9646           40.7656              0.0000      2,009.1000   \n",
       "1           -73.9995           40.7312              0.0000      2,513.2000   \n",
       "2           -74.0053           40.7101              0.0000     11,060.8000   \n",
       "3           -74.0123           40.7067              0.0000      1,779.4000   \n",
       "4           -73.9729           40.7825              0.0000      1,614.9000   \n",
       "\n",
       "   number_of_streets  pickup_year        ...          pickup_day  pickup_hour  \\\n",
       "0             5.0000   2,016.0000        ...             14.0000      17.0000   \n",
       "1             6.0000   2,016.0000        ...             12.0000       0.0000   \n",
       "2            16.0000   2,016.0000        ...             19.0000      11.0000   \n",
       "3             4.0000   2,016.0000        ...              6.0000      19.0000   \n",
       "4             5.0000   2,016.0000        ...             26.0000      13.0000   \n",
       "\n",
       "   pickup_minute  starting_street_tf  end_street_tf  haversine_distance  \\\n",
       "0        24.0000            774.0000     2,224.0000              1.9488   \n",
       "1        43.0000            166.0000     5,465.0000              2.1308   \n",
       "2        35.0000          2,613.0000     1,129.0000              3.3569   \n",
       "3        32.0000          1,316.0000     1,308.0000              0.4752   \n",
       "4        30.0000            609.0000     5,735.0000              0.3283   \n",
       "\n",
       "   pickup_hour_speed_mean  pickup_weekday_mean  pickup_day_mean  \\\n",
       "0                  4.6887               5.6874           5.4938   \n",
       "1                  6.6375               6.2816           5.5073   \n",
       "2                  4.7020               5.1908           5.4773   \n",
       "3                  5.0890               5.0525           5.5201   \n",
       "4                  4.7184               5.6155           5.4610   \n",
       "\n",
       "   pickup_month_mean  \n",
       "0             5.3419  \n",
       "1             5.3912  \n",
       "2             5.4949  \n",
       "3             5.3554  \n",
       "4             5.3419  \n",
       "\n",
       "[5 rows x 22 columns]"
      ]
     },
     "execution_count": 193,
     "metadata": {},
     "output_type": "execute_result"
    }
   ],
   "source": [
    "data = train_set.drop(['id', label], axis=1).astype(float)\n",
    "print(data.shape)\n",
    "data[:5]"
   ]
  },
  {
   "cell_type": "markdown",
   "metadata": {},
   "source": [
    "## Model definition"
   ]
  },
  {
   "cell_type": "code",
   "execution_count": 195,
   "metadata": {
    "ExecuteTime": {
     "end_time": "2017-07-28T08:09:51.332732Z",
     "start_time": "2017-07-28T08:09:51.320500Z"
    },
    "code_folding": [],
    "collapsed": true
   },
   "outputs": [],
   "source": [
    "# A function to calculate Root Mean Squared Logarithmic Error (RMSLE)\n",
    "# credit: https://www.kaggle.com/marknagelberg/rmsle-function\n",
    "\n",
    "\n",
    "def rmsle(y, y_pred, log=True):\n",
    "    assert len(y) == len(y_pred)\n",
    "    terms_to_sum = 0\n",
    "    if log:\n",
    "        terms_to_sum = [(math.log(math.fabs(y_pred[i]) + 1) -\n",
    "                         math.log(y[i] + 1)) ** 2.0 for i, pred in enumerate(y_pred)]\n",
    "    else:\n",
    "        terms_to_sum = [(math.fabs(y_pred[i]) - y[i]) **\n",
    "                        2.0 for i, pred in enumerate(y_pred)]\n",
    "    return (sum(terms_to_sum) * (1.0 / len(y))) ** 0.5"
   ]
  },
  {
   "cell_type": "code",
   "execution_count": 196,
   "metadata": {
    "ExecuteTime": {
     "end_time": "2017-07-28T08:09:54.336882Z",
     "start_time": "2017-07-28T08:09:54.334300Z"
    },
    "collapsed": true
   },
   "outputs": [],
   "source": [
    "#model = CatBoostRegressor(iterations=100, depth=5, thread_count=4, use_best_model=True)\n",
    "model = XGBRegressor(n_estimators=10000, max_depth=5,\n",
    "                     learning_rate=0.1, min_child_weight=1, n_jobs=-1)"
   ]
  },
  {
   "cell_type": "markdown",
   "metadata": {},
   "source": [
    "### Split train/test set"
   ]
  },
  {
   "cell_type": "code",
   "execution_count": 198,
   "metadata": {
    "ExecuteTime": {
     "end_time": "2017-07-28T08:12:05.381027Z",
     "start_time": "2017-07-28T08:12:01.476488Z"
    }
   },
   "outputs": [
    {
     "name": "stdout",
     "output_type": "stream",
     "text": [
      "X_train: (1234831, 22)  Y_train: (1234831,)  X_test: (217912, 22)  Y_test: (217912,)\n"
     ]
    },
    {
     "data": {
      "text/html": [
       "<div>\n",
       "<style>\n",
       "    .dataframe thead tr:only-child th {\n",
       "        text-align: right;\n",
       "    }\n",
       "\n",
       "    .dataframe thead th {\n",
       "        text-align: left;\n",
       "    }\n",
       "\n",
       "    .dataframe tbody tr th {\n",
       "        vertical-align: top;\n",
       "    }\n",
       "</style>\n",
       "<table border=\"1\" class=\"dataframe\">\n",
       "  <thead>\n",
       "    <tr style=\"text-align: right;\">\n",
       "      <th></th>\n",
       "      <th>vendor_id</th>\n",
       "      <th>passenger_count</th>\n",
       "      <th>pickup_longitude</th>\n",
       "      <th>pickup_latitude</th>\n",
       "      <th>dropoff_longitude</th>\n",
       "      <th>dropoff_latitude</th>\n",
       "      <th>store_and_fwd_flag</th>\n",
       "      <th>total_distance</th>\n",
       "      <th>number_of_streets</th>\n",
       "      <th>pickup_year</th>\n",
       "      <th>...</th>\n",
       "      <th>pickup_day</th>\n",
       "      <th>pickup_hour</th>\n",
       "      <th>pickup_minute</th>\n",
       "      <th>starting_street_tf</th>\n",
       "      <th>end_street_tf</th>\n",
       "      <th>haversine_distance</th>\n",
       "      <th>pickup_hour_speed_mean</th>\n",
       "      <th>pickup_weekday_mean</th>\n",
       "      <th>pickup_day_mean</th>\n",
       "      <th>pickup_month_mean</th>\n",
       "    </tr>\n",
       "  </thead>\n",
       "  <tbody>\n",
       "    <tr>\n",
       "      <th>566569</th>\n",
       "      <td>2.0000</td>\n",
       "      <td>2.0000</td>\n",
       "      <td>-73.9703</td>\n",
       "      <td>40.7564</td>\n",
       "      <td>-73.9604</td>\n",
       "      <td>40.7682</td>\n",
       "      <td>0.0000</td>\n",
       "      <td>1,633.1000</td>\n",
       "      <td>4.0000</td>\n",
       "      <td>2,016.0000</td>\n",
       "      <td>...</td>\n",
       "      <td>23.0000</td>\n",
       "      <td>19.0000</td>\n",
       "      <td>39.0000</td>\n",
       "      <td>201.0000</td>\n",
       "      <td>2,230.0000</td>\n",
       "      <td>1.1513</td>\n",
       "      <td>5.0890</td>\n",
       "      <td>5.0525</td>\n",
       "      <td>5.2637</td>\n",
       "      <td>5.3419</td>\n",
       "    </tr>\n",
       "    <tr>\n",
       "      <th>994306</th>\n",
       "      <td>2.0000</td>\n",
       "      <td>1.0000</td>\n",
       "      <td>-73.9853</td>\n",
       "      <td>40.7418</td>\n",
       "      <td>-73.9844</td>\n",
       "      <td>40.7372</td>\n",
       "      <td>0.0000</td>\n",
       "      <td>734.6000</td>\n",
       "      <td>4.0000</td>\n",
       "      <td>2,016.0000</td>\n",
       "      <td>...</td>\n",
       "      <td>2.0000</td>\n",
       "      <td>15.0000</td>\n",
       "      <td>1.0000</td>\n",
       "      <td>1,907.0000</td>\n",
       "      <td>441.0000</td>\n",
       "      <td>0.1690</td>\n",
       "      <td>4.5844</td>\n",
       "      <td>5.6155</td>\n",
       "      <td>5.4274</td>\n",
       "      <td>5.4949</td>\n",
       "    </tr>\n",
       "    <tr>\n",
       "      <th>540810</th>\n",
       "      <td>2.0000</td>\n",
       "      <td>1.0000</td>\n",
       "      <td>-73.9878</td>\n",
       "      <td>40.7498</td>\n",
       "      <td>-73.9998</td>\n",
       "      <td>40.7544</td>\n",
       "      <td>0.0000</td>\n",
       "      <td>2,011.7000</td>\n",
       "      <td>10.0000</td>\n",
       "      <td>2,016.0000</td>\n",
       "      <td>...</td>\n",
       "      <td>9.0000</td>\n",
       "      <td>12.0000</td>\n",
       "      <td>54.0000</td>\n",
       "      <td>303.0000</td>\n",
       "      <td>27.0000</td>\n",
       "      <td>1.3385</td>\n",
       "      <td>4.6136</td>\n",
       "      <td>5.6874</td>\n",
       "      <td>5.5146</td>\n",
       "      <td>5.2941</td>\n",
       "    </tr>\n",
       "    <tr>\n",
       "      <th>434193</th>\n",
       "      <td>1.0000</td>\n",
       "      <td>2.0000</td>\n",
       "      <td>-73.9839</td>\n",
       "      <td>40.7804</td>\n",
       "      <td>-73.9842</td>\n",
       "      <td>40.7699</td>\n",
       "      <td>0.0000</td>\n",
       "      <td>1,478.2000</td>\n",
       "      <td>6.0000</td>\n",
       "      <td>2,016.0000</td>\n",
       "      <td>...</td>\n",
       "      <td>9.0000</td>\n",
       "      <td>16.0000</td>\n",
       "      <td>40.0000</td>\n",
       "      <td>2,631.0000</td>\n",
       "      <td>1,677.0000</td>\n",
       "      <td>0.3249</td>\n",
       "      <td>4.7603</td>\n",
       "      <td>5.6155</td>\n",
       "      <td>5.5146</td>\n",
       "      <td>5.3554</td>\n",
       "    </tr>\n",
       "    <tr>\n",
       "      <th>476714</th>\n",
       "      <td>2.0000</td>\n",
       "      <td>2.0000</td>\n",
       "      <td>-73.9616</td>\n",
       "      <td>40.7959</td>\n",
       "      <td>-73.9806</td>\n",
       "      <td>40.7700</td>\n",
       "      <td>0.0000</td>\n",
       "      <td>3,312.1000</td>\n",
       "      <td>3.0000</td>\n",
       "      <td>2,016.0000</td>\n",
       "      <td>...</td>\n",
       "      <td>26.0000</td>\n",
       "      <td>8.0000</td>\n",
       "      <td>31.0000</td>\n",
       "      <td>696.0000</td>\n",
       "      <td>5,714.0000</td>\n",
       "      <td>2.2620</td>\n",
       "      <td>4.8672</td>\n",
       "      <td>5.6155</td>\n",
       "      <td>5.4610</td>\n",
       "      <td>5.3419</td>\n",
       "    </tr>\n",
       "  </tbody>\n",
       "</table>\n",
       "<p>5 rows × 22 columns</p>\n",
       "</div>"
      ],
      "text/plain": [
       "        vendor_id  passenger_count  pickup_longitude  pickup_latitude  \\\n",
       "566569     2.0000           2.0000          -73.9703          40.7564   \n",
       "994306     2.0000           1.0000          -73.9853          40.7418   \n",
       "540810     2.0000           1.0000          -73.9878          40.7498   \n",
       "434193     1.0000           2.0000          -73.9839          40.7804   \n",
       "476714     2.0000           2.0000          -73.9616          40.7959   \n",
       "\n",
       "        dropoff_longitude  dropoff_latitude  store_and_fwd_flag  \\\n",
       "566569           -73.9604           40.7682              0.0000   \n",
       "994306           -73.9844           40.7372              0.0000   \n",
       "540810           -73.9998           40.7544              0.0000   \n",
       "434193           -73.9842           40.7699              0.0000   \n",
       "476714           -73.9806           40.7700              0.0000   \n",
       "\n",
       "        total_distance  number_of_streets  pickup_year        ...          \\\n",
       "566569      1,633.1000             4.0000   2,016.0000        ...           \n",
       "994306        734.6000             4.0000   2,016.0000        ...           \n",
       "540810      2,011.7000            10.0000   2,016.0000        ...           \n",
       "434193      1,478.2000             6.0000   2,016.0000        ...           \n",
       "476714      3,312.1000             3.0000   2,016.0000        ...           \n",
       "\n",
       "        pickup_day  pickup_hour  pickup_minute  starting_street_tf  \\\n",
       "566569     23.0000      19.0000        39.0000            201.0000   \n",
       "994306      2.0000      15.0000         1.0000          1,907.0000   \n",
       "540810      9.0000      12.0000        54.0000            303.0000   \n",
       "434193      9.0000      16.0000        40.0000          2,631.0000   \n",
       "476714     26.0000       8.0000        31.0000            696.0000   \n",
       "\n",
       "        end_street_tf  haversine_distance  pickup_hour_speed_mean  \\\n",
       "566569     2,230.0000              1.1513                  5.0890   \n",
       "994306       441.0000              0.1690                  4.5844   \n",
       "540810        27.0000              1.3385                  4.6136   \n",
       "434193     1,677.0000              0.3249                  4.7603   \n",
       "476714     5,714.0000              2.2620                  4.8672   \n",
       "\n",
       "        pickup_weekday_mean  pickup_day_mean  pickup_month_mean  \n",
       "566569               5.0525           5.2637             5.3419  \n",
       "994306               5.6155           5.4274             5.4949  \n",
       "540810               5.6874           5.5146             5.2941  \n",
       "434193               5.6155           5.5146             5.3554  \n",
       "476714               5.6155           5.4610             5.3419  \n",
       "\n",
       "[5 rows x 22 columns]"
      ]
     },
     "execution_count": 198,
     "metadata": {},
     "output_type": "execute_result"
    }
   ],
   "source": [
    "X_train, X_test, Y_train, Y_test = train_test_split(\n",
    "    data, target_log, train_size=0.85, random_state=1234)\n",
    "print(\"X_train:\", X_train.shape, \" Y_train:\", Y_train.shape,\n",
    "      \" X_test:\", X_test.shape, \" Y_test:\", Y_test.shape)\n",
    "X_train[:5]"
   ]
  },
  {
   "cell_type": "markdown",
   "metadata": {},
   "source": [
    "## Train data"
   ]
  },
  {
   "cell_type": "code",
   "execution_count": 199,
   "metadata": {
    "ExecuteTime": {
     "end_time": "2017-07-28T08:45:16.020703Z",
     "start_time": "2017-07-28T08:12:52.701750Z"
    }
   },
   "outputs": [
    {
     "name": "stdout",
     "output_type": "stream",
     "text": [
      "[0]\tvalidation_0-rmse:5.42389\n",
      "Will train until validation_0-rmse hasn't improved in 50 rounds.\n",
      "[50]\tvalidation_0-rmse:0.409919\n",
      "[100]\tvalidation_0-rmse:0.397474\n",
      "[150]\tvalidation_0-rmse:0.392081\n",
      "[200]\tvalidation_0-rmse:0.388077\n",
      "[250]\tvalidation_0-rmse:0.385593\n",
      "[300]\tvalidation_0-rmse:0.383376\n",
      "[350]\tvalidation_0-rmse:0.38206\n",
      "[400]\tvalidation_0-rmse:0.380927\n",
      "[450]\tvalidation_0-rmse:0.379956\n",
      "[500]\tvalidation_0-rmse:0.379026\n",
      "[550]\tvalidation_0-rmse:0.378503\n",
      "[600]\tvalidation_0-rmse:0.377718\n",
      "[650]\tvalidation_0-rmse:0.377037\n",
      "[700]\tvalidation_0-rmse:0.376564\n",
      "[750]\tvalidation_0-rmse:0.375733\n",
      "[800]\tvalidation_0-rmse:0.375361\n",
      "[850]\tvalidation_0-rmse:0.375068\n",
      "[900]\tvalidation_0-rmse:0.37488\n",
      "[950]\tvalidation_0-rmse:0.374583\n",
      "[1000]\tvalidation_0-rmse:0.374245\n",
      "[1050]\tvalidation_0-rmse:0.373876\n",
      "[1100]\tvalidation_0-rmse:0.373462\n",
      "[1150]\tvalidation_0-rmse:0.373275\n",
      "[1200]\tvalidation_0-rmse:0.373037\n",
      "[1250]\tvalidation_0-rmse:0.37294\n",
      "[1300]\tvalidation_0-rmse:0.372698\n",
      "[1350]\tvalidation_0-rmse:0.372464\n",
      "[1400]\tvalidation_0-rmse:0.372232\n",
      "[1450]\tvalidation_0-rmse:0.372104\n",
      "[1500]\tvalidation_0-rmse:0.371758\n",
      "[1550]\tvalidation_0-rmse:0.371608\n",
      "[1600]\tvalidation_0-rmse:0.371465\n",
      "[1650]\tvalidation_0-rmse:0.371216\n",
      "[1700]\tvalidation_0-rmse:0.371067\n",
      "[1750]\tvalidation_0-rmse:0.370967\n",
      "[1800]\tvalidation_0-rmse:0.37077\n",
      "[1850]\tvalidation_0-rmse:0.370654\n",
      "[1900]\tvalidation_0-rmse:0.370563\n",
      "[1950]\tvalidation_0-rmse:0.370486\n",
      "[2000]\tvalidation_0-rmse:0.370399\n",
      "[2050]\tvalidation_0-rmse:0.370239\n",
      "[2100]\tvalidation_0-rmse:0.370135\n",
      "[2150]\tvalidation_0-rmse:0.370095\n",
      "[2200]\tvalidation_0-rmse:0.370024\n",
      "[2250]\tvalidation_0-rmse:0.369933\n",
      "[2300]\tvalidation_0-rmse:0.369832\n",
      "[2350]\tvalidation_0-rmse:0.369713\n",
      "[2400]\tvalidation_0-rmse:0.369654\n",
      "[2450]\tvalidation_0-rmse:0.36955\n",
      "[2500]\tvalidation_0-rmse:0.36945\n",
      "[2550]\tvalidation_0-rmse:0.369417\n",
      "[2600]\tvalidation_0-rmse:0.369413\n",
      "Stopping. Best iteration:\n",
      "[2567]\tvalidation_0-rmse:0.36939\n",
      "\n",
      "1943.313801765442\n"
     ]
    }
   ],
   "source": [
    "start = time.time()\n",
    "early_stopping_rounds = 50\n",
    "model.fit(\n",
    "    X_train, Y_train, eval_set = [(X_test, Y_test)],\n",
    "    eval_metric=\"rmse\", early_stopping_rounds=early_stopping_rounds,\n",
    "    verbose=early_stopping_rounds\n",
    ")\n",
    "end = time.time() - start\n",
    "print(end)"
   ]
  },
  {
   "cell_type": "markdown",
   "metadata": {},
   "source": [
    "### Predict for test data"
   ]
  },
  {
   "cell_type": "code",
   "execution_count": 200,
   "metadata": {
    "ExecuteTime": {
     "end_time": "2017-07-28T08:47:55.255558Z",
     "start_time": "2017-07-28T08:47:49.914142Z"
    }
   },
   "outputs": [
    {
     "data": {
      "text/plain": [
       "5.3372087478637695"
      ]
     },
     "execution_count": 200,
     "metadata": {},
     "output_type": "execute_result"
    }
   ],
   "source": [
    "start = time.time()\n",
    "y_pred = model.predict(X_test)\n",
    "end = time.time() - start\n",
    "end"
   ]
  },
  {
   "cell_type": "code",
   "execution_count": 214,
   "metadata": {
    "ExecuteTime": {
     "end_time": "2017-07-28T09:03:33.651357Z",
     "start_time": "2017-07-28T09:03:33.285343Z"
    }
   },
   "outputs": [
    {
     "name": "stdout",
     "output_type": "stream",
     "text": [
      "[ 6.2947607   6.83376408  6.17176342  7.1453433   5.98182249]\n",
      "RMSLE score: 0.05279258067208589  RMSLE without-log: 0.369416883687\n"
     ]
    }
   ],
   "source": [
    "# Evaluate score\n",
    "print(y_pred[:5])\n",
    "score = rmsle(Y_test.values, y_pred)\n",
    "score1 = rmsle(Y_test.values, y_pred, log=False)\n",
    "print(\"RMSLE score:\", score, \" RMSLE without-log:\", score1)"
   ]
  },
  {
   "cell_type": "markdown",
   "metadata": {},
   "source": [
    "### Feature importances"
   ]
  },
  {
   "cell_type": "code",
   "execution_count": 207,
   "metadata": {
    "ExecuteTime": {
     "end_time": "2017-07-28T08:51:01.408834Z",
     "start_time": "2017-07-28T08:51:00.629399Z"
    }
   },
   "outputs": [
    {
     "data": {
      "image/png": "[encoded data removed]",
      "text/plain": [
       "<matplotlib.figure.Figure at 0x7f83a16b0f60>"
      ]
     },
     "metadata": {},
     "output_type": "display_data"
    }
   ],
   "source": [
    "plot_importance(model)\n",
    "plt.show()"
   ]
  },
  {
   "cell_type": "markdown",
   "metadata": {},
   "source": [
    "# Predict and save submission"
   ]
  },
  {
   "cell_type": "code",
   "execution_count": 208,
   "metadata": {
    "ExecuteTime": {
     "end_time": "2017-07-28T08:51:45.778924Z",
     "start_time": "2017-07-28T08:51:31.217446Z"
    }
   },
   "outputs": [
    {
     "name": "stdout",
     "output_type": "stream",
     "text": [
      "14.55059003829956\n",
      "[ 6.74940586  6.21871471  6.00658131  6.90098286  5.67353821]\n",
      "[ 853.55151367  502.05752563  406.09265137  993.25048828  291.06256104]\n"
     ]
    }
   ],
   "source": [
    "start = time.time()\n",
    "data = eval_set.drop('id', axis=1).astype(float)\n",
    "Y_eval_log = model.predict(data)\n",
    "Y_eval = np.exp(Y_eval_log.ravel())\n",
    "end = time.time() - start\n",
    "print(end)\n",
    "print(Y_eval_log[:5])\n",
    "print(Y_eval[:5])"
   ]
  },
  {
   "cell_type": "code",
   "execution_count": 209,
   "metadata": {
    "ExecuteTime": {
     "end_time": "2017-07-28T08:51:57.260225Z",
     "start_time": "2017-07-28T08:51:57.215683Z"
    }
   },
   "outputs": [
    {
     "name": "stdout",
     "output_type": "stream",
     "text": [
      "625134\n"
     ]
    },
    {
     "data": {
      "text/html": [
       "<div>\n",
       "<style>\n",
       "    .dataframe thead tr:only-child th {\n",
       "        text-align: right;\n",
       "    }\n",
       "\n",
       "    .dataframe thead th {\n",
       "        text-align: left;\n",
       "    }\n",
       "\n",
       "    .dataframe tbody tr th {\n",
       "        vertical-align: top;\n",
       "    }\n",
       "</style>\n",
       "<table border=\"1\" class=\"dataframe\">\n",
       "  <thead>\n",
       "    <tr style=\"text-align: right;\">\n",
       "      <th></th>\n",
       "      <th>id</th>\n",
       "      <th>trip_duration</th>\n",
       "    </tr>\n",
       "  </thead>\n",
       "  <tbody>\n",
       "    <tr>\n",
       "      <th>0</th>\n",
       "      <td>id3004672</td>\n",
       "      <td>853.5515</td>\n",
       "    </tr>\n",
       "    <tr>\n",
       "      <th>1</th>\n",
       "      <td>id3505355</td>\n",
       "      <td>502.0575</td>\n",
       "    </tr>\n",
       "    <tr>\n",
       "      <th>2</th>\n",
       "      <td>id1217141</td>\n",
       "      <td>406.0927</td>\n",
       "    </tr>\n",
       "    <tr>\n",
       "      <th>3</th>\n",
       "      <td>id2150126</td>\n",
       "      <td>993.2505</td>\n",
       "    </tr>\n",
       "    <tr>\n",
       "      <th>4</th>\n",
       "      <td>id1598245</td>\n",
       "      <td>291.0626</td>\n",
       "    </tr>\n",
       "  </tbody>\n",
       "</table>\n",
       "</div>"
      ],
      "text/plain": [
       "          id  trip_duration\n",
       "0  id3004672       853.5515\n",
       "1  id3505355       502.0575\n",
       "2  id1217141       406.0927\n",
       "3  id2150126       993.2505\n",
       "4  id1598245       291.0626"
      ]
     },
     "execution_count": 209,
     "metadata": {},
     "output_type": "execute_result"
    }
   ],
   "source": [
    "eval_output = pd.DataFrame({'id': eval_set['id'], 'trip_duration': Y_eval}, columns=['id', 'trip_duration'])\n",
    "print(len(eval_output))\n",
    "eval_output.head()"
   ]
  },
  {
   "cell_type": "code",
   "execution_count": 210,
   "metadata": {
    "ExecuteTime": {
     "end_time": "2017-07-28T08:52:05.241758Z",
     "start_time": "2017-07-28T08:52:01.180193Z"
    }
   },
   "outputs": [
    {
     "name": "stdout",
     "output_type": "stream",
     "text": [
      "2017-07-28\n"
     ]
    },
    {
     "data": {
      "text/plain": [
       "4.052799940109253"
      ]
     },
     "execution_count": 210,
     "metadata": {},
     "output_type": "execute_result"
    }
   ],
   "source": [
    "start = time.time()\n",
    "today = str(dtime.date.today())\n",
    "print(today)\n",
    "eval_output.to_csv(DATA_DIR +'/' +today+'-submission.csv.gz',index=False, compression='gzip')\n",
    "end = time.time() - start\n",
    "end"
   ]
  },
  {
   "cell_type": "markdown",
   "metadata": {
    "collapsed": true
   },
   "source": [
    "## Leader board"
   ]
  },
  {
   "cell_type": "markdown",
   "metadata": {},
   "source": [
    "- Round 12:\n",
    "    + Base model: \n",
    "        * XGBRegressor(n_estimators=10000, max_depth=5,\n",
    "                     learning_rate=0.1, min_child_weight=1, n_jobs=-1)\n",
    "\t* remove pickup_year (correl = 0)\n",
    "\t* remove outliners: train_set[label] > 1800000\n",
    "    * remove outliners: train_set['total_distance_mean] = 0\n",
    "\t* Added distance between pickup and dropoff using outside dataset (OpenStreetMap - osmr)\n",
    "\t* Added distance between pickup and dropoff using haversine dataset\n",
    "\t* correct speed_mean formular\n",
    "\t* train_size = 0.85\n",
    "\t* target_log = np.log(target)\n",
    "\t* best model train round: \n",
    "\t* train time: \n",
    "\t* RMSLE without-log: 0.383703421188 => \n",
    "    + Submision score: 0.390 => \t"
   ]
  },
  {
   "cell_type": "markdown",
   "metadata": {},
   "source": [
    "- Round 13:\n",
    "    + Base model: \n",
    "        * XGBRegressor(n_estimators=10000, max_depth=5,\n",
    "                     learning_rate=0.1, min_child_weight=1, n_jobs=-1)\n",
    "        * remove outliners: train_set[label] > 1800000\n",
    "        * added distance between pickup and dropoff using outside dataset (OpenStreetMap - osmr)\n",
    "        * added distance between pickup and dropoff using haversine dataset\n",
    "        * added number_of_streets, starting_street, end_street\n",
    "        * predict total_distance (for total_distance=0)\n",
    "        * predict starting_street, end_street (for NaN starting_street, end_street)\n",
    "        * added pickup_hour_speed_mean, pickup_weekday_speed_mean, pickup_day_speed_mean, pickup_month_speed_mean\n",
    "        * train_size = 0.85\n",
    "        * target_log = np.log(target)\n",
    "        * best model train round: 2567\n",
    "        * train time: 1943.313801765442\n",
    "        * RMSLE without-log: 0.384153 => 0.36939\n",
    "    + Submision score:  0.428\n"
   ]
  },
  {
   "cell_type": "code",
   "execution_count": null,
   "metadata": {
    "collapsed": true
   },
   "outputs": [],
   "source": []
  }
 ],
 "metadata": {
  "kernelspec": {
   "display_name": "Python 3",
   "language": "python",
   "name": "python3"
  },
  "language_info": {
   "codemirror_mode": {
    "name": "ipython",
    "version": 3
   },
   "file_extension": ".py",
   "mimetype": "text/x-python",
   "name": "python",
   "nbconvert_exporter": "python",
   "pygments_lexer": "ipython3",
   "version": "3.5.3"
  },
  "toc": {
   "colors": {
    "hover_highlight": "#DAA520",
    "navigate_num": "#000000",
    "navigate_text": "#333333",
    "running_highlight": "#FF0000",
    "selected_highlight": "#FFD700",
    "sidebar_border": "#EEEEEE",
    "wrapper_background": "#FFFFFF"
   },
   "moveMenuLeft": true,
   "nav_menu": {
    "height": "512px",
    "width": "252px"
   },
   "navigate_menu": true,
   "number_sections": true,
   "sideBar": true,
   "threshold": 4,
   "toc_cell": true,
   "toc_position": {
    "height": "537px",
    "left": "0px",
    "right": "1090px",
    "top": "107px",
    "width": "270px"
   },
   "toc_section_display": "block",
   "toc_window_display": true,
   "widenNotebook": false
  },
  "varInspector": {
   "cols": {
    "lenName": 16,
    "lenType": 16,
    "lenVar": 40
   },
   "kernels_config": {
    "python": {
     "delete_cmd_postfix": "",
     "delete_cmd_prefix": "del ",
     "library": "var_list.py",
     "varRefreshCmd": "print(var_dic_list())"
    },
    "r": {
     "delete_cmd_postfix": ") ",
     "delete_cmd_prefix": "rm(",
     "library": "var_list.r",
     "varRefreshCmd": "cat(var_dic_list()) "
    }
   },
   "position": {
    "height": "607px",
    "left": "1139px",
    "right": "20px",
    "top": "68px",
    "width": "310px"
   },
   "types_to_exclude": [
    "module",
    "function",
    "builtin_function_or_method",
    "instance",
    "_Feature"
   ],
   "window_display": false
  }
 },
 "nbformat": 4,
 "nbformat_minor": 2
}
