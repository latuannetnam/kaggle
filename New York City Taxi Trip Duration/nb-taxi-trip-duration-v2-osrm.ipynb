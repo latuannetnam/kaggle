{
 "cells": [
  {
   "cell_type": "markdown",
   "metadata": {
    "toc": "true"
   },
   "source": [
    "# Table of Contents\n",
    " <p><div class=\"lev1 toc-item\"><a href=\"#New-York-City-Taxi-Trip-Duration\" data-toc-modified-id=\"New-York-City-Taxi-Trip-Duration-1\"><span class=\"toc-item-num\">1&nbsp;&nbsp;</span>New York City Taxi Trip Duration</a></div><div class=\"lev2 toc-item\"><a href=\"#Credit-to:\" data-toc-modified-id=\"Credit-to:-11\"><span class=\"toc-item-num\">1.1&nbsp;&nbsp;</span>Credit to:</a></div><div class=\"lev1 toc-item\"><a href=\"#Load-data\" data-toc-modified-id=\"Load-data-2\"><span class=\"toc-item-num\">2&nbsp;&nbsp;</span>Load data</a></div><div class=\"lev3 toc-item\"><a href=\"#Load-another-dataset-with-distance-from-OSMR\" data-toc-modified-id=\"Load-another-dataset-with-distance-from-OSMR-201\"><span class=\"toc-item-num\">2.0.1&nbsp;&nbsp;</span>Load another dataset with distance from OSMR</a></div><div class=\"lev3 toc-item\"><a href=\"#Check-different-between-orginal-train-data-and-OSM-data-set\" data-toc-modified-id=\"Check-different-between-orginal-train-data-and-OSM-data-set-202\"><span class=\"toc-item-num\">2.0.2&nbsp;&nbsp;</span>Check different between orginal train data and OSM data set</a></div><div class=\"lev3 toc-item\"><a href=\"#Combine-train-data-and-eval-data\" data-toc-modified-id=\"Combine-train-data-and-eval-data-203\"><span class=\"toc-item-num\">2.0.3&nbsp;&nbsp;</span>Combine train data and eval data</a></div><div class=\"lev1 toc-item\"><a href=\"#Pre-process-data\" data-toc-modified-id=\"Pre-process-data-3\"><span class=\"toc-item-num\">3&nbsp;&nbsp;</span>Pre-process data</a></div><div class=\"lev3 toc-item\"><a href=\"#Check-NaN-columns\" data-toc-modified-id=\"Check-NaN-columns-301\"><span class=\"toc-item-num\">3.0.1&nbsp;&nbsp;</span>Check NaN columns</a></div><div class=\"lev2 toc-item\"><a href=\"#Transform-object-data\" data-toc-modified-id=\"Transform-object-data-31\"><span class=\"toc-item-num\">3.1&nbsp;&nbsp;</span>Transform object data</a></div><div class=\"lev3 toc-item\"><a href=\"#Convert-datetime-string-to-object\" data-toc-modified-id=\"Convert-datetime-string-to-object-311\"><span class=\"toc-item-num\">3.1.1&nbsp;&nbsp;</span>Convert datetime string to object</a></div><div class=\"lev3 toc-item\"><a href=\"#store_and_fwd_flag\" data-toc-modified-id=\"store_and_fwd_flag-312\"><span class=\"toc-item-num\">3.1.2&nbsp;&nbsp;</span>store_and_fwd_flag</a></div><div class=\"lev3 toc-item\"><a href=\"#Drop-unused-cols\" data-toc-modified-id=\"Drop-unused-cols-313\"><span class=\"toc-item-num\">3.1.3&nbsp;&nbsp;</span>Drop unused cols</a></div><div class=\"lev2 toc-item\"><a href=\"#Feature-scaling-(not-use)\" data-toc-modified-id=\"Feature-scaling-(not-use)-32\"><span class=\"toc-item-num\">3.2&nbsp;&nbsp;</span>Feature scaling (not use)</a></div><div class=\"lev2 toc-item\"><a href=\"#Feature-engineering\" data-toc-modified-id=\"Feature-engineering-33\"><span class=\"toc-item-num\">3.3&nbsp;&nbsp;</span>Feature engineering</a></div><div class=\"lev3 toc-item\"><a href=\"#Distance-between-pickup-and-dropoff\" data-toc-modified-id=\"Distance-between-pickup-and-dropoff-331\"><span class=\"toc-item-num\">3.3.1&nbsp;&nbsp;</span>Distance between pickup and dropoff</a></div><div class=\"lev3 toc-item\"><a href=\"#Average-speed\" data-toc-modified-id=\"Average-speed-332\"><span class=\"toc-item-num\">3.3.2&nbsp;&nbsp;</span>Average speed</a></div><div class=\"lev3 toc-item\"><a href=\"#Average-distance\" data-toc-modified-id=\"Average-distance-333\"><span class=\"toc-item-num\">3.3.3&nbsp;&nbsp;</span>Average distance</a></div><div class=\"lev2 toc-item\"><a href=\"#Clearning-data\" data-toc-modified-id=\"Clearning-data-34\"><span class=\"toc-item-num\">3.4&nbsp;&nbsp;</span>Clearning data</a></div><div class=\"lev3 toc-item\"><a href=\"#Split-train_set-and-eval_set\" data-toc-modified-id=\"Split-train_set-and-eval_set-341\"><span class=\"toc-item-num\">3.4.1&nbsp;&nbsp;</span>Split train_set and eval_set</a></div><div class=\"lev3 toc-item\"><a href=\"#Trip-duration-outliner\" data-toc-modified-id=\"Trip-duration-outliner-342\"><span class=\"toc-item-num\">3.4.2&nbsp;&nbsp;</span>Trip duration outliner</a></div><div class=\"lev4 toc-item\"><a href=\"#Search-for-outliner\" data-toc-modified-id=\"Search-for-outliner-3421\"><span class=\"toc-item-num\">3.4.2.1&nbsp;&nbsp;</span>Search for outliner</a></div><div class=\"lev4 toc-item\"><a href=\"#Drop-trip-duration-outliner\" data-toc-modified-id=\"Drop-trip-duration-outliner-3422\"><span class=\"toc-item-num\">3.4.2.2&nbsp;&nbsp;</span>Drop trip-duration outliner</a></div><div class=\"lev3 toc-item\"><a href=\"#Trip-duration-distribution\" data-toc-modified-id=\"Trip-duration-distribution-343\"><span class=\"toc-item-num\">3.4.3&nbsp;&nbsp;</span>Trip duration distribution</a></div><div class=\"lev3 toc-item\"><a href=\"#total_distance-outliner\" data-toc-modified-id=\"total_distance-outliner-344\"><span class=\"toc-item-num\">3.4.4&nbsp;&nbsp;</span>total_distance outliner</a></div><div class=\"lev2 toc-item\"><a href=\"#Feature-correlation\" data-toc-modified-id=\"Feature-correlation-35\"><span class=\"toc-item-num\">3.5&nbsp;&nbsp;</span>Feature correlation</a></div><div class=\"lev1 toc-item\"><a href=\"#Train-model\" data-toc-modified-id=\"Train-model-4\"><span class=\"toc-item-num\">4&nbsp;&nbsp;</span>Train model</a></div><div class=\"lev2 toc-item\"><a href=\"#Model-definition\" data-toc-modified-id=\"Model-definition-41\"><span class=\"toc-item-num\">4.1&nbsp;&nbsp;</span>Model definition</a></div><div class=\"lev3 toc-item\"><a href=\"#Split-train/test-set\" data-toc-modified-id=\"Split-train/test-set-411\"><span class=\"toc-item-num\">4.1.1&nbsp;&nbsp;</span>Split train/test set</a></div><div class=\"lev2 toc-item\"><a href=\"#Train-data\" data-toc-modified-id=\"Train-data-42\"><span class=\"toc-item-num\">4.2&nbsp;&nbsp;</span>Train data</a></div><div class=\"lev3 toc-item\"><a href=\"#Predict-for-test-data\" data-toc-modified-id=\"Predict-for-test-data-421\"><span class=\"toc-item-num\">4.2.1&nbsp;&nbsp;</span>Predict for test data</a></div><div class=\"lev3 toc-item\"><a href=\"#Feature-importances\" data-toc-modified-id=\"Feature-importances-422\"><span class=\"toc-item-num\">4.2.2&nbsp;&nbsp;</span>Feature importances</a></div><div class=\"lev1 toc-item\"><a href=\"#Predict-and-save-submission\" data-toc-modified-id=\"Predict-and-save-submission-5\"><span class=\"toc-item-num\">5&nbsp;&nbsp;</span>Predict and save submission</a></div>"
   ]
  },
  {
   "cell_type": "markdown",
   "metadata": {},
   "source": [
    "# New York City Taxi Trip Duration\n",
    "- Share code and data to improve ride time predictions\n",
    "- https://www.kaggle.com/c/nyc-taxi-trip-duration/data\n",
    "- install: http://jupyter-contrib-nbextensions.readthedocs.io/en/latest/install.html\n",
    "- install: https://github.com/Jupyter-contrib/jupyter_nbextensions_configurator\n",
    "- install GDAL: https://sandbox.idre.ucla.edu/sandbox/tutorials/installing-gdal-for-windows\n",
    "- install osmnx: http://geoffboeing.com/2014/09/using-geopandas-windows/\n"
   ]
  },
  {
   "cell_type": "markdown",
   "metadata": {},
   "source": [
    "## Credit to:\n",
    "- https://www.kaggle.com/ankasor/driving-distance-using-open-street-maps-data/notebook\n",
    "- https://www.kaggle.com/oscarleo/new-york-city-taxi-with-osrm"
   ]
  },
  {
   "cell_type": "code",
   "execution_count": 79,
   "metadata": {
    "ExecuteTime": {
     "end_time": "2017-07-26T09:32:17.693908Z",
     "start_time": "2017-07-26T09:32:17.466112Z"
    }
   },
   "outputs": [],
   "source": [
    "# data processing\n",
    "import pandas as pd\n",
    "import matplotlib.pyplot as plt\n",
    "import seaborn as sns\n",
    "import numpy as np\n",
    "from math import sqrt\n",
    "from scipy import stats\n",
    "from scipy.stats import norm\n",
    "import math\n",
    "from math import radians, cos, sin, asin, sqrt\n",
    "from numpy import sort\n",
    "\n",
    "# ML\n",
    "# # Scikit-learn\n",
    "from sklearn.preprocessing import StandardScaler\n",
    "from sklearn.tree import DecisionTreeRegressor\n",
    "from sklearn.linear_model import LinearRegression\n",
    "from sklearn.ensemble import RandomForestRegressor, AdaBoostRegressor, GradientBoostingRegressor, ExtraTreesRegressor\n",
    "from sklearn.model_selection import cross_val_score, train_test_split, learning_curve, validation_curve, KFold\n",
    "from sklearn.metrics import mean_squared_error, make_scorer\n",
    "from sklearn.grid_search import GridSearchCV\n",
    "from sklearn.preprocessing import LabelEncoder, StandardScaler\n",
    "from sklearn.feature_selection import SelectFromModel\n",
    "# # XGB\n",
    "from xgboost.sklearn import XGBRegressor\n",
    "import xgboost as xgb\n",
    "from xgboost import plot_importance\n",
    "# # CatBoost\n",
    "#from catboost import Pool, CatBoostRegressor, cv, CatboostIpythonWidget\n",
    "# System\n",
    "import datetime as dtime\n",
    "from datetime import datetime\n",
    "import sys\n",
    "from inspect import getsourcefile\n",
    "import os.path\n",
    "import re\n",
    "import time\n",
    "\n",
    "# Other\n",
    "from geographiclib.geodesic import Geodesic\n",
    "#import osmnx as ox\n",
    "#import networkx as nx\n",
    "\n",
    "import warnings\n",
    "warnings.filterwarnings('ignore')\n",
    "%matplotlib inline"
   ]
  },
  {
   "cell_type": "markdown",
   "metadata": {},
   "source": [
    "# Load data"
   ]
  },
  {
   "cell_type": "code",
   "execution_count": 127,
   "metadata": {
    "ExecuteTime": {
     "end_time": "2017-07-26T13:04:54.002004Z",
     "start_time": "2017-07-26T13:04:45.829997Z"
    },
    "collapsed": true
   },
   "outputs": [],
   "source": [
    "# Input data files are available in the DATA_DIR directory.\n",
    "DATA_DIR = \"data-temp\"\n",
    "# Load data. Download from:https://www.kaggle.com/c/nyc-taxi-trip-duration/data\n",
    "train_data = pd.read_csv(DATA_DIR + \"/train.csv\")\n",
    "eval_data =  pd.read_csv(DATA_DIR + \"/test.csv\")"
   ]
  },
  {
   "cell_type": "code",
   "execution_count": 37,
   "metadata": {
    "ExecuteTime": {
     "end_time": "2017-07-26T08:48:58.069022Z",
     "start_time": "2017-07-26T08:48:58.037792Z"
    }
   },
   "outputs": [
    {
     "name": "stdout",
     "output_type": "stream",
     "text": [
      "train size: (1458644, 11)  test size: (625134, 9)\n"
     ]
    }
   ],
   "source": [
    "print(\"train size:\", train_data.shape, \" test size:\", eval_data.shape)"
   ]
  },
  {
   "cell_type": "code",
   "execution_count": 4,
   "metadata": {
    "ExecuteTime": {
     "end_time": "2017-07-26T08:15:02.520138Z",
     "start_time": "2017-07-26T08:15:02.501126Z"
    },
    "scrolled": true
   },
   "outputs": [
    {
     "data": {
      "text/html": [
       "<div>\n",
       "<style>\n",
       "    .dataframe thead tr:only-child th {\n",
       "        text-align: right;\n",
       "    }\n",
       "\n",
       "    .dataframe thead th {\n",
       "        text-align: left;\n",
       "    }\n",
       "\n",
       "    .dataframe tbody tr th {\n",
       "        vertical-align: top;\n",
       "    }\n",
       "</style>\n",
       "<table border=\"1\" class=\"dataframe\">\n",
       "  <thead>\n",
       "    <tr style=\"text-align: right;\">\n",
       "      <th></th>\n",
       "      <th>id</th>\n",
       "      <th>vendor_id</th>\n",
       "      <th>pickup_datetime</th>\n",
       "      <th>dropoff_datetime</th>\n",
       "      <th>passenger_count</th>\n",
       "      <th>pickup_longitude</th>\n",
       "      <th>pickup_latitude</th>\n",
       "      <th>dropoff_longitude</th>\n",
       "      <th>dropoff_latitude</th>\n",
       "      <th>store_and_fwd_flag</th>\n",
       "      <th>trip_duration</th>\n",
       "    </tr>\n",
       "  </thead>\n",
       "  <tbody>\n",
       "    <tr>\n",
       "      <th>0</th>\n",
       "      <td>id2875421</td>\n",
       "      <td>2</td>\n",
       "      <td>2016-03-14 17:24:55</td>\n",
       "      <td>2016-03-14 17:32:30</td>\n",
       "      <td>1</td>\n",
       "      <td>-73.982155</td>\n",
       "      <td>40.767937</td>\n",
       "      <td>-73.964630</td>\n",
       "      <td>40.765602</td>\n",
       "      <td>N</td>\n",
       "      <td>455</td>\n",
       "    </tr>\n",
       "    <tr>\n",
       "      <th>1</th>\n",
       "      <td>id2377394</td>\n",
       "      <td>1</td>\n",
       "      <td>2016-06-12 00:43:35</td>\n",
       "      <td>2016-06-12 00:54:38</td>\n",
       "      <td>1</td>\n",
       "      <td>-73.980415</td>\n",
       "      <td>40.738564</td>\n",
       "      <td>-73.999481</td>\n",
       "      <td>40.731152</td>\n",
       "      <td>N</td>\n",
       "      <td>663</td>\n",
       "    </tr>\n",
       "    <tr>\n",
       "      <th>2</th>\n",
       "      <td>id3858529</td>\n",
       "      <td>2</td>\n",
       "      <td>2016-01-19 11:35:24</td>\n",
       "      <td>2016-01-19 12:10:48</td>\n",
       "      <td>1</td>\n",
       "      <td>-73.979027</td>\n",
       "      <td>40.763939</td>\n",
       "      <td>-74.005333</td>\n",
       "      <td>40.710087</td>\n",
       "      <td>N</td>\n",
       "      <td>2124</td>\n",
       "    </tr>\n",
       "    <tr>\n",
       "      <th>3</th>\n",
       "      <td>id3504673</td>\n",
       "      <td>2</td>\n",
       "      <td>2016-04-06 19:32:31</td>\n",
       "      <td>2016-04-06 19:39:40</td>\n",
       "      <td>1</td>\n",
       "      <td>-74.010040</td>\n",
       "      <td>40.719971</td>\n",
       "      <td>-74.012268</td>\n",
       "      <td>40.706718</td>\n",
       "      <td>N</td>\n",
       "      <td>429</td>\n",
       "    </tr>\n",
       "    <tr>\n",
       "      <th>4</th>\n",
       "      <td>id2181028</td>\n",
       "      <td>2</td>\n",
       "      <td>2016-03-26 13:30:55</td>\n",
       "      <td>2016-03-26 13:38:10</td>\n",
       "      <td>1</td>\n",
       "      <td>-73.973053</td>\n",
       "      <td>40.793209</td>\n",
       "      <td>-73.972923</td>\n",
       "      <td>40.782520</td>\n",
       "      <td>N</td>\n",
       "      <td>435</td>\n",
       "    </tr>\n",
       "  </tbody>\n",
       "</table>\n",
       "</div>"
      ],
      "text/plain": [
       "          id  vendor_id      pickup_datetime     dropoff_datetime  \\\n",
       "0  id2875421          2  2016-03-14 17:24:55  2016-03-14 17:32:30   \n",
       "1  id2377394          1  2016-06-12 00:43:35  2016-06-12 00:54:38   \n",
       "2  id3858529          2  2016-01-19 11:35:24  2016-01-19 12:10:48   \n",
       "3  id3504673          2  2016-04-06 19:32:31  2016-04-06 19:39:40   \n",
       "4  id2181028          2  2016-03-26 13:30:55  2016-03-26 13:38:10   \n",
       "\n",
       "   passenger_count  pickup_longitude  pickup_latitude  dropoff_longitude  \\\n",
       "0                1        -73.982155        40.767937         -73.964630   \n",
       "1                1        -73.980415        40.738564         -73.999481   \n",
       "2                1        -73.979027        40.763939         -74.005333   \n",
       "3                1        -74.010040        40.719971         -74.012268   \n",
       "4                1        -73.973053        40.793209         -73.972923   \n",
       "\n",
       "   dropoff_latitude store_and_fwd_flag  trip_duration  \n",
       "0         40.765602                  N            455  \n",
       "1         40.731152                  N            663  \n",
       "2         40.710087                  N           2124  \n",
       "3         40.706718                  N            429  \n",
       "4         40.782520                  N            435  "
      ]
     },
     "execution_count": 4,
     "metadata": {},
     "output_type": "execute_result"
    }
   ],
   "source": [
    "train_data.head(5)"
   ]
  },
  {
   "cell_type": "code",
   "execution_count": 5,
   "metadata": {
    "ExecuteTime": {
     "end_time": "2017-07-26T08:15:06.162134Z",
     "start_time": "2017-07-26T08:15:06.147622Z"
    }
   },
   "outputs": [
    {
     "data": {
      "text/html": [
       "<div>\n",
       "<style>\n",
       "    .dataframe thead tr:only-child th {\n",
       "        text-align: right;\n",
       "    }\n",
       "\n",
       "    .dataframe thead th {\n",
       "        text-align: left;\n",
       "    }\n",
       "\n",
       "    .dataframe tbody tr th {\n",
       "        vertical-align: top;\n",
       "    }\n",
       "</style>\n",
       "<table border=\"1\" class=\"dataframe\">\n",
       "  <thead>\n",
       "    <tr style=\"text-align: right;\">\n",
       "      <th></th>\n",
       "      <th>id</th>\n",
       "      <th>vendor_id</th>\n",
       "      <th>pickup_datetime</th>\n",
       "      <th>passenger_count</th>\n",
       "      <th>pickup_longitude</th>\n",
       "      <th>pickup_latitude</th>\n",
       "      <th>dropoff_longitude</th>\n",
       "      <th>dropoff_latitude</th>\n",
       "      <th>store_and_fwd_flag</th>\n",
       "    </tr>\n",
       "  </thead>\n",
       "  <tbody>\n",
       "    <tr>\n",
       "      <th>0</th>\n",
       "      <td>id3004672</td>\n",
       "      <td>1</td>\n",
       "      <td>2016-06-30 23:59:58</td>\n",
       "      <td>1</td>\n",
       "      <td>-73.988129</td>\n",
       "      <td>40.732029</td>\n",
       "      <td>-73.990173</td>\n",
       "      <td>40.756680</td>\n",
       "      <td>N</td>\n",
       "    </tr>\n",
       "    <tr>\n",
       "      <th>1</th>\n",
       "      <td>id3505355</td>\n",
       "      <td>1</td>\n",
       "      <td>2016-06-30 23:59:53</td>\n",
       "      <td>1</td>\n",
       "      <td>-73.964203</td>\n",
       "      <td>40.679993</td>\n",
       "      <td>-73.959808</td>\n",
       "      <td>40.655403</td>\n",
       "      <td>N</td>\n",
       "    </tr>\n",
       "    <tr>\n",
       "      <th>2</th>\n",
       "      <td>id1217141</td>\n",
       "      <td>1</td>\n",
       "      <td>2016-06-30 23:59:47</td>\n",
       "      <td>1</td>\n",
       "      <td>-73.997437</td>\n",
       "      <td>40.737583</td>\n",
       "      <td>-73.986160</td>\n",
       "      <td>40.729523</td>\n",
       "      <td>N</td>\n",
       "    </tr>\n",
       "    <tr>\n",
       "      <th>3</th>\n",
       "      <td>id2150126</td>\n",
       "      <td>2</td>\n",
       "      <td>2016-06-30 23:59:41</td>\n",
       "      <td>1</td>\n",
       "      <td>-73.956070</td>\n",
       "      <td>40.771900</td>\n",
       "      <td>-73.986427</td>\n",
       "      <td>40.730469</td>\n",
       "      <td>N</td>\n",
       "    </tr>\n",
       "    <tr>\n",
       "      <th>4</th>\n",
       "      <td>id1598245</td>\n",
       "      <td>1</td>\n",
       "      <td>2016-06-30 23:59:33</td>\n",
       "      <td>1</td>\n",
       "      <td>-73.970215</td>\n",
       "      <td>40.761475</td>\n",
       "      <td>-73.961510</td>\n",
       "      <td>40.755890</td>\n",
       "      <td>N</td>\n",
       "    </tr>\n",
       "  </tbody>\n",
       "</table>\n",
       "</div>"
      ],
      "text/plain": [
       "          id  vendor_id      pickup_datetime  passenger_count  \\\n",
       "0  id3004672          1  2016-06-30 23:59:58                1   \n",
       "1  id3505355          1  2016-06-30 23:59:53                1   \n",
       "2  id1217141          1  2016-06-30 23:59:47                1   \n",
       "3  id2150126          2  2016-06-30 23:59:41                1   \n",
       "4  id1598245          1  2016-06-30 23:59:33                1   \n",
       "\n",
       "   pickup_longitude  pickup_latitude  dropoff_longitude  dropoff_latitude  \\\n",
       "0        -73.988129        40.732029         -73.990173         40.756680   \n",
       "1        -73.964203        40.679993         -73.959808         40.655403   \n",
       "2        -73.997437        40.737583         -73.986160         40.729523   \n",
       "3        -73.956070        40.771900         -73.986427         40.730469   \n",
       "4        -73.970215        40.761475         -73.961510         40.755890   \n",
       "\n",
       "  store_and_fwd_flag  \n",
       "0                  N  \n",
       "1                  N  \n",
       "2                  N  \n",
       "3                  N  \n",
       "4                  N  "
      ]
     },
     "execution_count": 5,
     "metadata": {},
     "output_type": "execute_result"
    }
   ],
   "source": [
    "eval_data.head(5)"
   ]
  },
  {
   "cell_type": "code",
   "execution_count": 6,
   "metadata": {
    "ExecuteTime": {
     "end_time": "2017-07-26T08:15:12.131395Z",
     "start_time": "2017-07-26T08:15:12.116385Z"
    }
   },
   "outputs": [
    {
     "data": {
      "text/plain": [
       "array(['dropoff_datetime', 'trip_duration'], dtype=object)"
      ]
     },
     "execution_count": 6,
     "metadata": {},
     "output_type": "execute_result"
    }
   ],
   "source": [
    "diff_cols = np.setdiff1d(train_data.columns.values, eval_data.columns.values)\n",
    "diff_cols"
   ]
  },
  {
   "cell_type": "markdown",
   "metadata": {},
   "source": [
    "### Load another dataset with distance from OSMR"
   ]
  },
  {
   "cell_type": "code",
   "execution_count": 128,
   "metadata": {
    "ExecuteTime": {
     "end_time": "2017-07-26T13:05:15.629403Z",
     "start_time": "2017-07-26T13:04:55.539595Z"
    },
    "collapsed": true
   },
   "outputs": [],
   "source": [
    "# Download from: https://www.kaggle.com/oscarleo/new-york-city-taxi-with-osrm\n",
    "train_osm = pd.read_csv(DATA_DIR + \"/train_2.csv\")\n",
    "eval_osm =  pd.read_csv(DATA_DIR + \"/test_2.csv\")"
   ]
  },
  {
   "cell_type": "code",
   "execution_count": 39,
   "metadata": {
    "ExecuteTime": {
     "end_time": "2017-07-26T08:49:20.667911Z",
     "start_time": "2017-07-26T08:49:20.652286Z"
    }
   },
   "outputs": [
    {
     "name": "stdout",
     "output_type": "stream",
     "text": [
      "train_osm size: (1458644, 18)  test osm size: (625134, 17)\n"
     ]
    }
   ],
   "source": [
    "print(\"train_osm size:\", train_osm.shape, \" test osm size:\", eval_osm.shape)"
   ]
  },
  {
   "cell_type": "markdown",
   "metadata": {},
   "source": [
    "### Check different between orginal train data and OSM data set"
   ]
  },
  {
   "cell_type": "code",
   "execution_count": 10,
   "metadata": {
    "ExecuteTime": {
     "end_time": "2017-07-26T08:19:48.078547Z",
     "start_time": "2017-07-26T08:19:48.073543Z"
    }
   },
   "outputs": [
    {
     "data": {
      "text/plain": [
       "array(['distance_per_street_list', 'duration_per_street_list',\n",
       "       'end_street', 'number_of_streets', 'starting_street', 'street_list',\n",
       "       'total_distance', 'total_duration'], dtype=object)"
      ]
     },
     "execution_count": 10,
     "metadata": {},
     "output_type": "execute_result"
    }
   ],
   "source": [
    "diff_cols = np.setdiff1d(train_osm.columns.values, train_data.columns.values)\n",
    "diff_cols"
   ]
  },
  {
   "cell_type": "code",
   "execution_count": 129,
   "metadata": {
    "ExecuteTime": {
     "end_time": "2017-07-26T13:05:16.456121Z",
     "start_time": "2017-07-26T13:05:16.404087Z"
    }
   },
   "outputs": [
    {
     "data": {
      "text/html": [
       "<div>\n",
       "<style>\n",
       "    .dataframe thead tr:only-child th {\n",
       "        text-align: right;\n",
       "    }\n",
       "\n",
       "    .dataframe thead th {\n",
       "        text-align: left;\n",
       "    }\n",
       "\n",
       "    .dataframe tbody tr th {\n",
       "        vertical-align: top;\n",
       "    }\n",
       "</style>\n",
       "<table border=\"1\" class=\"dataframe\">\n",
       "  <thead>\n",
       "    <tr style=\"text-align: right;\">\n",
       "      <th></th>\n",
       "      <th>id</th>\n",
       "      <th>total_distance</th>\n",
       "    </tr>\n",
       "  </thead>\n",
       "  <tbody>\n",
       "    <tr>\n",
       "      <th>0</th>\n",
       "      <td>id2875421</td>\n",
       "      <td>2009.1</td>\n",
       "    </tr>\n",
       "    <tr>\n",
       "      <th>1</th>\n",
       "      <td>id2377394</td>\n",
       "      <td>2513.2</td>\n",
       "    </tr>\n",
       "    <tr>\n",
       "      <th>2</th>\n",
       "      <td>id3858529</td>\n",
       "      <td>11060.8</td>\n",
       "    </tr>\n",
       "    <tr>\n",
       "      <th>3</th>\n",
       "      <td>id3504673</td>\n",
       "      <td>1779.4</td>\n",
       "    </tr>\n",
       "    <tr>\n",
       "      <th>4</th>\n",
       "      <td>id2181028</td>\n",
       "      <td>1614.9</td>\n",
       "    </tr>\n",
       "  </tbody>\n",
       "</table>\n",
       "</div>"
      ],
      "text/plain": [
       "          id  total_distance\n",
       "0  id2875421          2009.1\n",
       "1  id2377394          2513.2\n",
       "2  id3858529         11060.8\n",
       "3  id3504673          1779.4\n",
       "4  id2181028          1614.9"
      ]
     },
     "execution_count": 129,
     "metadata": {},
     "output_type": "execute_result"
    }
   ],
   "source": [
    "train_osm_data = train_osm[['id', 'total_distance']]\n",
    "train_osm_data[:5]"
   ]
  },
  {
   "cell_type": "code",
   "execution_count": 130,
   "metadata": {
    "ExecuteTime": {
     "end_time": "2017-07-26T13:05:17.307796Z",
     "start_time": "2017-07-26T13:05:17.265262Z"
    }
   },
   "outputs": [
    {
     "data": {
      "text/html": [
       "<div>\n",
       "<style>\n",
       "    .dataframe thead tr:only-child th {\n",
       "        text-align: right;\n",
       "    }\n",
       "\n",
       "    .dataframe thead th {\n",
       "        text-align: left;\n",
       "    }\n",
       "\n",
       "    .dataframe tbody tr th {\n",
       "        vertical-align: top;\n",
       "    }\n",
       "</style>\n",
       "<table border=\"1\" class=\"dataframe\">\n",
       "  <thead>\n",
       "    <tr style=\"text-align: right;\">\n",
       "      <th></th>\n",
       "      <th>id</th>\n",
       "      <th>total_distance</th>\n",
       "    </tr>\n",
       "  </thead>\n",
       "  <tbody>\n",
       "    <tr>\n",
       "      <th>0</th>\n",
       "      <td>id3004672</td>\n",
       "      <td>3795.9</td>\n",
       "    </tr>\n",
       "    <tr>\n",
       "      <th>1</th>\n",
       "      <td>id3505355</td>\n",
       "      <td>2904.5</td>\n",
       "    </tr>\n",
       "    <tr>\n",
       "      <th>2</th>\n",
       "      <td>id1217141</td>\n",
       "      <td>1499.5</td>\n",
       "    </tr>\n",
       "    <tr>\n",
       "      <th>3</th>\n",
       "      <td>id2150126</td>\n",
       "      <td>7023.9</td>\n",
       "    </tr>\n",
       "    <tr>\n",
       "      <th>4</th>\n",
       "      <td>id1598245</td>\n",
       "      <td>1108.2</td>\n",
       "    </tr>\n",
       "  </tbody>\n",
       "</table>\n",
       "</div>"
      ],
      "text/plain": [
       "          id  total_distance\n",
       "0  id3004672          3795.9\n",
       "1  id3505355          2904.5\n",
       "2  id1217141          1499.5\n",
       "3  id2150126          7023.9\n",
       "4  id1598245          1108.2"
      ]
     },
     "execution_count": 130,
     "metadata": {},
     "output_type": "execute_result"
    }
   ],
   "source": [
    "eval_osm_data = eval_osm[['id', 'total_distance']]\n",
    "eval_osm_data[:5] "
   ]
  },
  {
   "cell_type": "code",
   "execution_count": 131,
   "metadata": {
    "ExecuteTime": {
     "end_time": "2017-07-26T13:05:18.273216Z",
     "start_time": "2017-07-26T13:05:18.201144Z"
    },
    "collapsed": true
   },
   "outputs": [],
   "source": [
    "del train_osm"
   ]
  },
  {
   "cell_type": "code",
   "execution_count": 132,
   "metadata": {
    "ExecuteTime": {
     "end_time": "2017-07-26T13:05:18.960194Z",
     "start_time": "2017-07-26T13:05:18.956191Z"
    },
    "collapsed": true
   },
   "outputs": [],
   "source": [
    "del eval_osm"
   ]
  },
  {
   "cell_type": "markdown",
   "metadata": {},
   "source": [
    "### Combine train data and eval data"
   ]
  },
  {
   "cell_type": "code",
   "execution_count": 133,
   "metadata": {
    "ExecuteTime": {
     "end_time": "2017-07-26T13:05:42.407699Z",
     "start_time": "2017-07-26T13:05:40.829182Z"
    }
   },
   "outputs": [
    {
     "data": {
      "text/html": [
       "<div>\n",
       "<style>\n",
       "    .dataframe thead tr:only-child th {\n",
       "        text-align: right;\n",
       "    }\n",
       "\n",
       "    .dataframe thead th {\n",
       "        text-align: left;\n",
       "    }\n",
       "\n",
       "    .dataframe tbody tr th {\n",
       "        vertical-align: top;\n",
       "    }\n",
       "</style>\n",
       "<table border=\"1\" class=\"dataframe\">\n",
       "  <thead>\n",
       "    <tr style=\"text-align: right;\">\n",
       "      <th></th>\n",
       "      <th>id</th>\n",
       "      <th>vendor_id</th>\n",
       "      <th>pickup_datetime</th>\n",
       "      <th>dropoff_datetime</th>\n",
       "      <th>passenger_count</th>\n",
       "      <th>pickup_longitude</th>\n",
       "      <th>pickup_latitude</th>\n",
       "      <th>dropoff_longitude</th>\n",
       "      <th>dropoff_latitude</th>\n",
       "      <th>store_and_fwd_flag</th>\n",
       "      <th>trip_duration</th>\n",
       "      <th>total_distance</th>\n",
       "    </tr>\n",
       "  </thead>\n",
       "  <tbody>\n",
       "    <tr>\n",
       "      <th>0</th>\n",
       "      <td>id2875421</td>\n",
       "      <td>2</td>\n",
       "      <td>2016-03-14 17:24:55</td>\n",
       "      <td>2016-03-14 17:32:30</td>\n",
       "      <td>1</td>\n",
       "      <td>-73.982155</td>\n",
       "      <td>40.767937</td>\n",
       "      <td>-73.964630</td>\n",
       "      <td>40.765602</td>\n",
       "      <td>N</td>\n",
       "      <td>455</td>\n",
       "      <td>2009.1</td>\n",
       "    </tr>\n",
       "    <tr>\n",
       "      <th>1</th>\n",
       "      <td>id2377394</td>\n",
       "      <td>1</td>\n",
       "      <td>2016-06-12 00:43:35</td>\n",
       "      <td>2016-06-12 00:54:38</td>\n",
       "      <td>1</td>\n",
       "      <td>-73.980415</td>\n",
       "      <td>40.738564</td>\n",
       "      <td>-73.999481</td>\n",
       "      <td>40.731152</td>\n",
       "      <td>N</td>\n",
       "      <td>663</td>\n",
       "      <td>2513.2</td>\n",
       "    </tr>\n",
       "    <tr>\n",
       "      <th>2</th>\n",
       "      <td>id3858529</td>\n",
       "      <td>2</td>\n",
       "      <td>2016-01-19 11:35:24</td>\n",
       "      <td>2016-01-19 12:10:48</td>\n",
       "      <td>1</td>\n",
       "      <td>-73.979027</td>\n",
       "      <td>40.763939</td>\n",
       "      <td>-74.005333</td>\n",
       "      <td>40.710087</td>\n",
       "      <td>N</td>\n",
       "      <td>2124</td>\n",
       "      <td>11060.8</td>\n",
       "    </tr>\n",
       "    <tr>\n",
       "      <th>3</th>\n",
       "      <td>id3504673</td>\n",
       "      <td>2</td>\n",
       "      <td>2016-04-06 19:32:31</td>\n",
       "      <td>2016-04-06 19:39:40</td>\n",
       "      <td>1</td>\n",
       "      <td>-74.010040</td>\n",
       "      <td>40.719971</td>\n",
       "      <td>-74.012268</td>\n",
       "      <td>40.706718</td>\n",
       "      <td>N</td>\n",
       "      <td>429</td>\n",
       "      <td>1779.4</td>\n",
       "    </tr>\n",
       "    <tr>\n",
       "      <th>4</th>\n",
       "      <td>id2181028</td>\n",
       "      <td>2</td>\n",
       "      <td>2016-03-26 13:30:55</td>\n",
       "      <td>2016-03-26 13:38:10</td>\n",
       "      <td>1</td>\n",
       "      <td>-73.973053</td>\n",
       "      <td>40.793209</td>\n",
       "      <td>-73.972923</td>\n",
       "      <td>40.782520</td>\n",
       "      <td>N</td>\n",
       "      <td>435</td>\n",
       "      <td>1614.9</td>\n",
       "    </tr>\n",
       "  </tbody>\n",
       "</table>\n",
       "</div>"
      ],
      "text/plain": [
       "          id  vendor_id      pickup_datetime     dropoff_datetime  \\\n",
       "0  id2875421          2  2016-03-14 17:24:55  2016-03-14 17:32:30   \n",
       "1  id2377394          1  2016-06-12 00:43:35  2016-06-12 00:54:38   \n",
       "2  id3858529          2  2016-01-19 11:35:24  2016-01-19 12:10:48   \n",
       "3  id3504673          2  2016-04-06 19:32:31  2016-04-06 19:39:40   \n",
       "4  id2181028          2  2016-03-26 13:30:55  2016-03-26 13:38:10   \n",
       "\n",
       "   passenger_count  pickup_longitude  pickup_latitude  dropoff_longitude  \\\n",
       "0                1        -73.982155        40.767937         -73.964630   \n",
       "1                1        -73.980415        40.738564         -73.999481   \n",
       "2                1        -73.979027        40.763939         -74.005333   \n",
       "3                1        -74.010040        40.719971         -74.012268   \n",
       "4                1        -73.973053        40.793209         -73.972923   \n",
       "\n",
       "   dropoff_latitude store_and_fwd_flag  trip_duration  total_distance  \n",
       "0         40.765602                  N            455          2009.1  \n",
       "1         40.731152                  N            663          2513.2  \n",
       "2         40.710087                  N           2124         11060.8  \n",
       "3         40.706718                  N            429          1779.4  \n",
       "4         40.782520                  N            435          1614.9  "
      ]
     },
     "execution_count": 133,
     "metadata": {},
     "output_type": "execute_result"
    }
   ],
   "source": [
    "train_data = train_data.join(train_osm_data.set_index('id'), on='id')\n",
    "train_data[:5]"
   ]
  },
  {
   "cell_type": "code",
   "execution_count": 134,
   "metadata": {
    "ExecuteTime": {
     "end_time": "2017-07-26T13:05:45.926326Z",
     "start_time": "2017-07-26T13:05:45.278541Z"
    }
   },
   "outputs": [
    {
     "data": {
      "text/html": [
       "<div>\n",
       "<style>\n",
       "    .dataframe thead tr:only-child th {\n",
       "        text-align: right;\n",
       "    }\n",
       "\n",
       "    .dataframe thead th {\n",
       "        text-align: left;\n",
       "    }\n",
       "\n",
       "    .dataframe tbody tr th {\n",
       "        vertical-align: top;\n",
       "    }\n",
       "</style>\n",
       "<table border=\"1\" class=\"dataframe\">\n",
       "  <thead>\n",
       "    <tr style=\"text-align: right;\">\n",
       "      <th></th>\n",
       "      <th>id</th>\n",
       "      <th>vendor_id</th>\n",
       "      <th>pickup_datetime</th>\n",
       "      <th>passenger_count</th>\n",
       "      <th>pickup_longitude</th>\n",
       "      <th>pickup_latitude</th>\n",
       "      <th>dropoff_longitude</th>\n",
       "      <th>dropoff_latitude</th>\n",
       "      <th>store_and_fwd_flag</th>\n",
       "      <th>total_distance</th>\n",
       "    </tr>\n",
       "  </thead>\n",
       "  <tbody>\n",
       "    <tr>\n",
       "      <th>0</th>\n",
       "      <td>id3004672</td>\n",
       "      <td>1</td>\n",
       "      <td>2016-06-30 23:59:58</td>\n",
       "      <td>1</td>\n",
       "      <td>-73.988129</td>\n",
       "      <td>40.732029</td>\n",
       "      <td>-73.990173</td>\n",
       "      <td>40.756680</td>\n",
       "      <td>N</td>\n",
       "      <td>3795.9</td>\n",
       "    </tr>\n",
       "    <tr>\n",
       "      <th>1</th>\n",
       "      <td>id3505355</td>\n",
       "      <td>1</td>\n",
       "      <td>2016-06-30 23:59:53</td>\n",
       "      <td>1</td>\n",
       "      <td>-73.964203</td>\n",
       "      <td>40.679993</td>\n",
       "      <td>-73.959808</td>\n",
       "      <td>40.655403</td>\n",
       "      <td>N</td>\n",
       "      <td>2904.5</td>\n",
       "    </tr>\n",
       "    <tr>\n",
       "      <th>2</th>\n",
       "      <td>id1217141</td>\n",
       "      <td>1</td>\n",
       "      <td>2016-06-30 23:59:47</td>\n",
       "      <td>1</td>\n",
       "      <td>-73.997437</td>\n",
       "      <td>40.737583</td>\n",
       "      <td>-73.986160</td>\n",
       "      <td>40.729523</td>\n",
       "      <td>N</td>\n",
       "      <td>1499.5</td>\n",
       "    </tr>\n",
       "    <tr>\n",
       "      <th>3</th>\n",
       "      <td>id2150126</td>\n",
       "      <td>2</td>\n",
       "      <td>2016-06-30 23:59:41</td>\n",
       "      <td>1</td>\n",
       "      <td>-73.956070</td>\n",
       "      <td>40.771900</td>\n",
       "      <td>-73.986427</td>\n",
       "      <td>40.730469</td>\n",
       "      <td>N</td>\n",
       "      <td>7023.9</td>\n",
       "    </tr>\n",
       "    <tr>\n",
       "      <th>4</th>\n",
       "      <td>id1598245</td>\n",
       "      <td>1</td>\n",
       "      <td>2016-06-30 23:59:33</td>\n",
       "      <td>1</td>\n",
       "      <td>-73.970215</td>\n",
       "      <td>40.761475</td>\n",
       "      <td>-73.961510</td>\n",
       "      <td>40.755890</td>\n",
       "      <td>N</td>\n",
       "      <td>1108.2</td>\n",
       "    </tr>\n",
       "  </tbody>\n",
       "</table>\n",
       "</div>"
      ],
      "text/plain": [
       "          id  vendor_id      pickup_datetime  passenger_count  \\\n",
       "0  id3004672          1  2016-06-30 23:59:58                1   \n",
       "1  id3505355          1  2016-06-30 23:59:53                1   \n",
       "2  id1217141          1  2016-06-30 23:59:47                1   \n",
       "3  id2150126          2  2016-06-30 23:59:41                1   \n",
       "4  id1598245          1  2016-06-30 23:59:33                1   \n",
       "\n",
       "   pickup_longitude  pickup_latitude  dropoff_longitude  dropoff_latitude  \\\n",
       "0        -73.988129        40.732029         -73.990173         40.756680   \n",
       "1        -73.964203        40.679993         -73.959808         40.655403   \n",
       "2        -73.997437        40.737583         -73.986160         40.729523   \n",
       "3        -73.956070        40.771900         -73.986427         40.730469   \n",
       "4        -73.970215        40.761475         -73.961510         40.755890   \n",
       "\n",
       "  store_and_fwd_flag  total_distance  \n",
       "0                  N          3795.9  \n",
       "1                  N          2904.5  \n",
       "2                  N          1499.5  \n",
       "3                  N          7023.9  \n",
       "4                  N          1108.2  "
      ]
     },
     "execution_count": 134,
     "metadata": {},
     "output_type": "execute_result"
    }
   ],
   "source": [
    "eval_data = eval_data.join(eval_osm_data.set_index('id'), on='id')\n",
    "eval_data[:5]"
   ]
  },
  {
   "cell_type": "code",
   "execution_count": 135,
   "metadata": {
    "ExecuteTime": {
     "end_time": "2017-07-26T13:05:48.544012Z",
     "start_time": "2017-07-26T13:05:48.528385Z"
    },
    "collapsed": true
   },
   "outputs": [],
   "source": [
    "del train_osm_data\n",
    "del eval_osm_data"
   ]
  },
  {
   "cell_type": "code",
   "execution_count": 136,
   "metadata": {
    "ExecuteTime": {
     "end_time": "2017-07-26T13:05:51.649843Z",
     "start_time": "2017-07-26T13:05:50.500048Z"
    }
   },
   "outputs": [
    {
     "name": "stdout",
     "output_type": "stream",
     "text": [
      "combine data: 2083778\n"
     ]
    },
    {
     "data": {
      "text/html": [
       "<div>\n",
       "<style>\n",
       "    .dataframe thead tr:only-child th {\n",
       "        text-align: right;\n",
       "    }\n",
       "\n",
       "    .dataframe thead th {\n",
       "        text-align: left;\n",
       "    }\n",
       "\n",
       "    .dataframe tbody tr th {\n",
       "        vertical-align: top;\n",
       "    }\n",
       "</style>\n",
       "<table border=\"1\" class=\"dataframe\">\n",
       "  <thead>\n",
       "    <tr style=\"text-align: right;\">\n",
       "      <th></th>\n",
       "      <th></th>\n",
       "      <th>id</th>\n",
       "      <th>vendor_id</th>\n",
       "      <th>pickup_datetime</th>\n",
       "      <th>passenger_count</th>\n",
       "      <th>pickup_longitude</th>\n",
       "      <th>pickup_latitude</th>\n",
       "      <th>dropoff_longitude</th>\n",
       "      <th>dropoff_latitude</th>\n",
       "      <th>store_and_fwd_flag</th>\n",
       "      <th>total_distance</th>\n",
       "    </tr>\n",
       "  </thead>\n",
       "  <tbody>\n",
       "    <tr>\n",
       "      <th rowspan=\"5\" valign=\"top\">train</th>\n",
       "      <th>0</th>\n",
       "      <td>id2875421</td>\n",
       "      <td>2</td>\n",
       "      <td>2016-03-14 17:24:55</td>\n",
       "      <td>1</td>\n",
       "      <td>-73.982155</td>\n",
       "      <td>40.767937</td>\n",
       "      <td>-73.964630</td>\n",
       "      <td>40.765602</td>\n",
       "      <td>N</td>\n",
       "      <td>2009.1</td>\n",
       "    </tr>\n",
       "    <tr>\n",
       "      <th>1</th>\n",
       "      <td>id2377394</td>\n",
       "      <td>1</td>\n",
       "      <td>2016-06-12 00:43:35</td>\n",
       "      <td>1</td>\n",
       "      <td>-73.980415</td>\n",
       "      <td>40.738564</td>\n",
       "      <td>-73.999481</td>\n",
       "      <td>40.731152</td>\n",
       "      <td>N</td>\n",
       "      <td>2513.2</td>\n",
       "    </tr>\n",
       "    <tr>\n",
       "      <th>2</th>\n",
       "      <td>id3858529</td>\n",
       "      <td>2</td>\n",
       "      <td>2016-01-19 11:35:24</td>\n",
       "      <td>1</td>\n",
       "      <td>-73.979027</td>\n",
       "      <td>40.763939</td>\n",
       "      <td>-74.005333</td>\n",
       "      <td>40.710087</td>\n",
       "      <td>N</td>\n",
       "      <td>11060.8</td>\n",
       "    </tr>\n",
       "    <tr>\n",
       "      <th>3</th>\n",
       "      <td>id3504673</td>\n",
       "      <td>2</td>\n",
       "      <td>2016-04-06 19:32:31</td>\n",
       "      <td>1</td>\n",
       "      <td>-74.010040</td>\n",
       "      <td>40.719971</td>\n",
       "      <td>-74.012268</td>\n",
       "      <td>40.706718</td>\n",
       "      <td>N</td>\n",
       "      <td>1779.4</td>\n",
       "    </tr>\n",
       "    <tr>\n",
       "      <th>4</th>\n",
       "      <td>id2181028</td>\n",
       "      <td>2</td>\n",
       "      <td>2016-03-26 13:30:55</td>\n",
       "      <td>1</td>\n",
       "      <td>-73.973053</td>\n",
       "      <td>40.793209</td>\n",
       "      <td>-73.972923</td>\n",
       "      <td>40.782520</td>\n",
       "      <td>N</td>\n",
       "      <td>1614.9</td>\n",
       "    </tr>\n",
       "  </tbody>\n",
       "</table>\n",
       "</div>"
      ],
      "text/plain": [
       "                id  vendor_id      pickup_datetime  passenger_count  \\\n",
       "train 0  id2875421          2  2016-03-14 17:24:55                1   \n",
       "      1  id2377394          1  2016-06-12 00:43:35                1   \n",
       "      2  id3858529          2  2016-01-19 11:35:24                1   \n",
       "      3  id3504673          2  2016-04-06 19:32:31                1   \n",
       "      4  id2181028          2  2016-03-26 13:30:55                1   \n",
       "\n",
       "         pickup_longitude  pickup_latitude  dropoff_longitude  \\\n",
       "train 0        -73.982155        40.767937         -73.964630   \n",
       "      1        -73.980415        40.738564         -73.999481   \n",
       "      2        -73.979027        40.763939         -74.005333   \n",
       "      3        -74.010040        40.719971         -74.012268   \n",
       "      4        -73.973053        40.793209         -73.972923   \n",
       "\n",
       "         dropoff_latitude store_and_fwd_flag  total_distance  \n",
       "train 0         40.765602                  N          2009.1  \n",
       "      1         40.731152                  N          2513.2  \n",
       "      2         40.710087                  N         11060.8  \n",
       "      3         40.706718                  N          1779.4  \n",
       "      4         40.782520                  N          1614.9  "
      ]
     },
     "execution_count": 136,
     "metadata": {},
     "output_type": "execute_result"
    }
   ],
   "source": [
    "label = 'trip_duration'\n",
    "features = eval_data.columns.values\n",
    "target = train_data[label].values\n",
    "combine_data = pd.concat([train_data[features], eval_data], keys=['train','eval'])\n",
    "print(\"combine data:\", len(combine_data))\n",
    "combine_data.head(5)"
   ]
  },
  {
   "cell_type": "markdown",
   "metadata": {},
   "source": [
    "# Pre-process data"
   ]
  },
  {
   "cell_type": "markdown",
   "metadata": {},
   "source": [
    "### Check NaN columns"
   ]
  },
  {
   "cell_type": "code",
   "execution_count": 13,
   "metadata": {
    "ExecuteTime": {
     "end_time": "2017-07-26T08:40:55.694457Z",
     "start_time": "2017-07-26T08:40:55.674598Z"
    },
    "collapsed": true
   },
   "outputs": [],
   "source": [
    "def check_null_data(data):\n",
    "    #Get high percent of NaN data\n",
    "    null_data = combine_data.isnull()\n",
    "    total = null_data.sum().sort_values(ascending=False)\n",
    "    percent = (null_data.sum()/null_data.count()).sort_values(ascending=False)\n",
    "    missing_data = pd.concat([total, percent], axis=1, keys=['Total', 'Percent'])\n",
    "    high_percent_miss_data = missing_data[missing_data['Percent']>0]\n",
    "    #print(missing_data)\n",
    "    print(high_percent_miss_data)\n",
    "    miss_data_cols = high_percent_miss_data.index.values\n",
    "    return miss_data_cols"
   ]
  },
  {
   "cell_type": "code",
   "execution_count": 9,
   "metadata": {},
   "outputs": [
    {
     "name": "stdout",
     "output_type": "stream",
     "text": [
      "Empty DataFrame\n",
      "Columns: [Total, Percent]\n",
      "Index: []\n"
     ]
    },
    {
     "data": {
      "text/plain": [
       "array([], dtype=object)"
      ]
     },
     "execution_count": 9,
     "metadata": {},
     "output_type": "execute_result"
    }
   ],
   "source": [
    "# Check target for null\n",
    "check_null_data(target)"
   ]
  },
  {
   "cell_type": "code",
   "execution_count": 10,
   "metadata": {},
   "outputs": [
    {
     "name": "stdout",
     "output_type": "stream",
     "text": [
      "Empty DataFrame\n",
      "Columns: [Total, Percent]\n",
      "Index: []\n"
     ]
    },
    {
     "data": {
      "text/plain": [
       "array([], dtype=object)"
      ]
     },
     "execution_count": 10,
     "metadata": {},
     "output_type": "execute_result"
    }
   ],
   "source": [
    "# combine data for null\n",
    "check_null_data(combine_data)"
   ]
  },
  {
   "cell_type": "code",
   "execution_count": 11,
   "metadata": {},
   "outputs": [
    {
     "data": {
      "text/plain": [
       "id                     object\n",
       "vendor_id               int64\n",
       "pickup_datetime        object\n",
       "passenger_count         int64\n",
       "pickup_longitude      float64\n",
       "pickup_latitude       float64\n",
       "dropoff_longitude     float64\n",
       "dropoff_latitude      float64\n",
       "store_and_fwd_flag     object\n",
       "dtype: object"
      ]
     },
     "execution_count": 11,
     "metadata": {},
     "output_type": "execute_result"
    }
   ],
   "source": [
    "combine_data.dtypes"
   ]
  },
  {
   "cell_type": "markdown",
   "metadata": {},
   "source": [
    "## Transform object data"
   ]
  },
  {
   "cell_type": "code",
   "execution_count": 137,
   "metadata": {
    "ExecuteTime": {
     "end_time": "2017-07-26T13:05:59.853300Z",
     "start_time": "2017-07-26T13:05:59.837672Z"
    },
    "collapsed": true
   },
   "outputs": [],
   "source": [
    "data = combine_data"
   ]
  },
  {
   "cell_type": "markdown",
   "metadata": {},
   "source": [
    "### Convert datetime string to object"
   ]
  },
  {
   "cell_type": "code",
   "execution_count": 15,
   "metadata": {
    "ExecuteTime": {
     "end_time": "2017-07-26T08:41:17.572776Z",
     "start_time": "2017-07-26T08:41:17.541525Z"
    },
    "collapsed": true
   },
   "outputs": [],
   "source": [
    "def pd_datetime(data):\n",
    "    date_format = \"%Y-%m-%d %H:%M:%S\"\n",
    "    datetime_obj = data['pickup_datetime'].apply(lambda x: datetime.strptime(x, date_format))\n",
    "    return datetime_obj "
   ]
  },
  {
   "cell_type": "code",
   "execution_count": 138,
   "metadata": {
    "ExecuteTime": {
     "end_time": "2017-07-26T13:06:03.672539Z",
     "start_time": "2017-07-26T13:06:02.939780Z"
    }
   },
   "outputs": [
    {
     "data": {
      "text/plain": [
       "train  0   2016-03-14 17:24:55\n",
       "       1   2016-06-12 00:43:35\n",
       "       2   2016-01-19 11:35:24\n",
       "       3   2016-04-06 19:32:31\n",
       "       4   2016-03-26 13:30:55\n",
       "Name: datetime_obj, dtype: datetime64[ns]"
      ]
     },
     "execution_count": 138,
     "metadata": {},
     "output_type": "execute_result"
    }
   ],
   "source": [
    "#data['datetime_obj'] = pd_datetime(data)\n",
    "data['datetime_obj'] = pd.to_datetime(data['pickup_datetime'])\n",
    "data['datetime_obj'][:5]"
   ]
  },
  {
   "cell_type": "code",
   "execution_count": 139,
   "metadata": {
    "ExecuteTime": {
     "end_time": "2017-07-26T13:06:07.354222Z",
     "start_time": "2017-07-26T13:06:06.393880Z"
    },
    "collapsed": true
   },
   "outputs": [],
   "source": [
    "data['pickup_year'] = data['datetime_obj'].dt.year\n",
    "data['pickup_month'] = data['datetime_obj'].dt.month\n",
    "data['pickup_weekday'] = data['datetime_obj'].dt.weekday\n",
    "data['pickup_day'] = data['datetime_obj'].dt.day\n",
    "data['pickup_hour'] = data['datetime_obj'].dt.hour\n",
    "data['pickup_minute'] = data['datetime_obj'].dt.minute"
   ]
  },
  {
   "cell_type": "code",
   "execution_count": 126,
   "metadata": {
    "ExecuteTime": {
     "end_time": "2017-07-26T13:04:19.992517Z",
     "start_time": "2017-07-26T13:04:19.969998Z"
    }
   },
   "outputs": [
    {
     "data": {
      "text/html": [
       "<div>\n",
       "<style>\n",
       "    .dataframe thead tr:only-child th {\n",
       "        text-align: right;\n",
       "    }\n",
       "\n",
       "    .dataframe thead th {\n",
       "        text-align: left;\n",
       "    }\n",
       "\n",
       "    .dataframe tbody tr th {\n",
       "        vertical-align: top;\n",
       "    }\n",
       "</style>\n",
       "<table border=\"1\" class=\"dataframe\">\n",
       "  <thead>\n",
       "    <tr style=\"text-align: right;\">\n",
       "      <th></th>\n",
       "      <th></th>\n",
       "      <th>id</th>\n",
       "      <th>vendor_id</th>\n",
       "      <th>passenger_count</th>\n",
       "      <th>pickup_longitude</th>\n",
       "      <th>pickup_latitude</th>\n",
       "      <th>dropoff_longitude</th>\n",
       "      <th>dropoff_latitude</th>\n",
       "      <th>store_and_fwd_flag</th>\n",
       "      <th>total_distance</th>\n",
       "      <th>pickup_month</th>\n",
       "      <th>pickup_weekday</th>\n",
       "      <th>pickup_day</th>\n",
       "      <th>pickup_hour</th>\n",
       "      <th>pickup_minute</th>\n",
       "      <th>haversine_distance</th>\n",
       "    </tr>\n",
       "  </thead>\n",
       "  <tbody>\n",
       "    <tr>\n",
       "      <th rowspan=\"5\" valign=\"top\">train</th>\n",
       "      <th>0</th>\n",
       "      <td>id2875421</td>\n",
       "      <td>2</td>\n",
       "      <td>1</td>\n",
       "      <td>-73.982155</td>\n",
       "      <td>40.767937</td>\n",
       "      <td>-73.964630</td>\n",
       "      <td>40.765602</td>\n",
       "      <td>0</td>\n",
       "      <td>2009.1</td>\n",
       "      <td>3</td>\n",
       "      <td>0</td>\n",
       "      <td>14</td>\n",
       "      <td>0.440043</td>\n",
       "      <td>24</td>\n",
       "      <td>1.948753</td>\n",
       "    </tr>\n",
       "    <tr>\n",
       "      <th>1</th>\n",
       "      <td>id2377394</td>\n",
       "      <td>1</td>\n",
       "      <td>1</td>\n",
       "      <td>-73.980415</td>\n",
       "      <td>40.738564</td>\n",
       "      <td>-73.999481</td>\n",
       "      <td>40.731152</td>\n",
       "      <td>0</td>\n",
       "      <td>2513.2</td>\n",
       "      <td>6</td>\n",
       "      <td>6</td>\n",
       "      <td>12</td>\n",
       "      <td>0.362564</td>\n",
       "      <td>43</td>\n",
       "      <td>2.130839</td>\n",
       "    </tr>\n",
       "    <tr>\n",
       "      <th>2</th>\n",
       "      <td>id3858529</td>\n",
       "      <td>2</td>\n",
       "      <td>1</td>\n",
       "      <td>-73.979027</td>\n",
       "      <td>40.763939</td>\n",
       "      <td>-74.005333</td>\n",
       "      <td>40.710087</td>\n",
       "      <td>0</td>\n",
       "      <td>11060.8</td>\n",
       "      <td>1</td>\n",
       "      <td>1</td>\n",
       "      <td>19</td>\n",
       "      <td>0.485607</td>\n",
       "      <td>35</td>\n",
       "      <td>3.356930</td>\n",
       "    </tr>\n",
       "    <tr>\n",
       "      <th>3</th>\n",
       "      <td>id3504673</td>\n",
       "      <td>2</td>\n",
       "      <td>1</td>\n",
       "      <td>-74.010040</td>\n",
       "      <td>40.719971</td>\n",
       "      <td>-74.012268</td>\n",
       "      <td>40.706718</td>\n",
       "      <td>0</td>\n",
       "      <td>1779.4</td>\n",
       "      <td>4</td>\n",
       "      <td>2</td>\n",
       "      <td>6</td>\n",
       "      <td>0.416281</td>\n",
       "      <td>32</td>\n",
       "      <td>0.475220</td>\n",
       "    </tr>\n",
       "    <tr>\n",
       "      <th>4</th>\n",
       "      <td>id2181028</td>\n",
       "      <td>2</td>\n",
       "      <td>1</td>\n",
       "      <td>-73.973053</td>\n",
       "      <td>40.793209</td>\n",
       "      <td>-73.972923</td>\n",
       "      <td>40.782520</td>\n",
       "      <td>0</td>\n",
       "      <td>1614.9</td>\n",
       "      <td>3</td>\n",
       "      <td>5</td>\n",
       "      <td>26</td>\n",
       "      <td>3.398990</td>\n",
       "      <td>30</td>\n",
       "      <td>0.328255</td>\n",
       "    </tr>\n",
       "  </tbody>\n",
       "</table>\n",
       "</div>"
      ],
      "text/plain": [
       "                id  vendor_id  passenger_count  pickup_longitude  \\\n",
       "train 0  id2875421          2                1        -73.982155   \n",
       "      1  id2377394          1                1        -73.980415   \n",
       "      2  id3858529          2                1        -73.979027   \n",
       "      3  id3504673          2                1        -74.010040   \n",
       "      4  id2181028          2                1        -73.973053   \n",
       "\n",
       "         pickup_latitude  dropoff_longitude  dropoff_latitude  \\\n",
       "train 0        40.767937         -73.964630         40.765602   \n",
       "      1        40.738564         -73.999481         40.731152   \n",
       "      2        40.763939         -74.005333         40.710087   \n",
       "      3        40.719971         -74.012268         40.706718   \n",
       "      4        40.793209         -73.972923         40.782520   \n",
       "\n",
       "        store_and_fwd_flag  total_distance  pickup_month  pickup_weekday  \\\n",
       "train 0                  0          2009.1             3               0   \n",
       "      1                  0          2513.2             6               6   \n",
       "      2                  0         11060.8             1               1   \n",
       "      3                  0          1779.4             4               2   \n",
       "      4                  0          1614.9             3               5   \n",
       "\n",
       "         pickup_day  pickup_hour  pickup_minute  haversine_distance  \n",
       "train 0          14     0.440043             24            1.948753  \n",
       "      1          12     0.362564             43            2.130839  \n",
       "      2          19     0.485607             35            3.356930  \n",
       "      3           6     0.416281             32            0.475220  \n",
       "      4          26     3.398990             30            0.328255  "
      ]
     },
     "execution_count": 126,
     "metadata": {},
     "output_type": "execute_result"
    }
   ],
   "source": [
    "data[:5]"
   ]
  },
  {
   "cell_type": "markdown",
   "metadata": {},
   "source": [
    "### store_and_fwd_flag"
   ]
  },
  {
   "cell_type": "code",
   "execution_count": 140,
   "metadata": {
    "ExecuteTime": {
     "end_time": "2017-07-26T13:06:13.311137Z",
     "start_time": "2017-07-26T13:06:12.994212Z"
    }
   },
   "outputs": [
    {
     "data": {
      "text/plain": [
       "N    2072303\n",
       "Y      11475\n",
       "Name: store_and_fwd_flag, dtype: int64"
      ]
     },
     "execution_count": 140,
     "metadata": {},
     "output_type": "execute_result"
    }
   ],
   "source": [
    "col = 'store_and_fwd_flag'\n",
    "data[col].value_counts()"
   ]
  },
  {
   "cell_type": "code",
   "execution_count": 141,
   "metadata": {
    "ExecuteTime": {
     "end_time": "2017-07-26T13:06:16.398783Z",
     "start_time": "2017-07-26T13:06:15.929163Z"
    }
   },
   "outputs": [
    {
     "data": {
      "text/html": [
       "<div>\n",
       "<style>\n",
       "    .dataframe thead tr:only-child th {\n",
       "        text-align: right;\n",
       "    }\n",
       "\n",
       "    .dataframe thead th {\n",
       "        text-align: left;\n",
       "    }\n",
       "\n",
       "    .dataframe tbody tr th {\n",
       "        vertical-align: top;\n",
       "    }\n",
       "</style>\n",
       "<table border=\"1\" class=\"dataframe\">\n",
       "  <thead>\n",
       "    <tr style=\"text-align: right;\">\n",
       "      <th></th>\n",
       "      <th></th>\n",
       "      <th>id</th>\n",
       "      <th>vendor_id</th>\n",
       "      <th>pickup_datetime</th>\n",
       "      <th>passenger_count</th>\n",
       "      <th>pickup_longitude</th>\n",
       "      <th>pickup_latitude</th>\n",
       "      <th>dropoff_longitude</th>\n",
       "      <th>dropoff_latitude</th>\n",
       "      <th>store_and_fwd_flag</th>\n",
       "      <th>total_distance</th>\n",
       "      <th>datetime_obj</th>\n",
       "      <th>pickup_year</th>\n",
       "      <th>pickup_month</th>\n",
       "      <th>pickup_weekday</th>\n",
       "      <th>pickup_day</th>\n",
       "      <th>pickup_hour</th>\n",
       "      <th>pickup_minute</th>\n",
       "    </tr>\n",
       "  </thead>\n",
       "  <tbody>\n",
       "    <tr>\n",
       "      <th rowspan=\"5\" valign=\"top\">train</th>\n",
       "      <th>0</th>\n",
       "      <td>id2875421</td>\n",
       "      <td>2</td>\n",
       "      <td>2016-03-14 17:24:55</td>\n",
       "      <td>1</td>\n",
       "      <td>-73.982155</td>\n",
       "      <td>40.767937</td>\n",
       "      <td>-73.964630</td>\n",
       "      <td>40.765602</td>\n",
       "      <td>0</td>\n",
       "      <td>2009.1</td>\n",
       "      <td>2016-03-14 17:24:55</td>\n",
       "      <td>2016</td>\n",
       "      <td>3</td>\n",
       "      <td>0</td>\n",
       "      <td>14</td>\n",
       "      <td>17</td>\n",
       "      <td>24</td>\n",
       "    </tr>\n",
       "    <tr>\n",
       "      <th>1</th>\n",
       "      <td>id2377394</td>\n",
       "      <td>1</td>\n",
       "      <td>2016-06-12 00:43:35</td>\n",
       "      <td>1</td>\n",
       "      <td>-73.980415</td>\n",
       "      <td>40.738564</td>\n",
       "      <td>-73.999481</td>\n",
       "      <td>40.731152</td>\n",
       "      <td>0</td>\n",
       "      <td>2513.2</td>\n",
       "      <td>2016-06-12 00:43:35</td>\n",
       "      <td>2016</td>\n",
       "      <td>6</td>\n",
       "      <td>6</td>\n",
       "      <td>12</td>\n",
       "      <td>0</td>\n",
       "      <td>43</td>\n",
       "    </tr>\n",
       "    <tr>\n",
       "      <th>2</th>\n",
       "      <td>id3858529</td>\n",
       "      <td>2</td>\n",
       "      <td>2016-01-19 11:35:24</td>\n",
       "      <td>1</td>\n",
       "      <td>-73.979027</td>\n",
       "      <td>40.763939</td>\n",
       "      <td>-74.005333</td>\n",
       "      <td>40.710087</td>\n",
       "      <td>0</td>\n",
       "      <td>11060.8</td>\n",
       "      <td>2016-01-19 11:35:24</td>\n",
       "      <td>2016</td>\n",
       "      <td>1</td>\n",
       "      <td>1</td>\n",
       "      <td>19</td>\n",
       "      <td>11</td>\n",
       "      <td>35</td>\n",
       "    </tr>\n",
       "    <tr>\n",
       "      <th>3</th>\n",
       "      <td>id3504673</td>\n",
       "      <td>2</td>\n",
       "      <td>2016-04-06 19:32:31</td>\n",
       "      <td>1</td>\n",
       "      <td>-74.010040</td>\n",
       "      <td>40.719971</td>\n",
       "      <td>-74.012268</td>\n",
       "      <td>40.706718</td>\n",
       "      <td>0</td>\n",
       "      <td>1779.4</td>\n",
       "      <td>2016-04-06 19:32:31</td>\n",
       "      <td>2016</td>\n",
       "      <td>4</td>\n",
       "      <td>2</td>\n",
       "      <td>6</td>\n",
       "      <td>19</td>\n",
       "      <td>32</td>\n",
       "    </tr>\n",
       "    <tr>\n",
       "      <th>4</th>\n",
       "      <td>id2181028</td>\n",
       "      <td>2</td>\n",
       "      <td>2016-03-26 13:30:55</td>\n",
       "      <td>1</td>\n",
       "      <td>-73.973053</td>\n",
       "      <td>40.793209</td>\n",
       "      <td>-73.972923</td>\n",
       "      <td>40.782520</td>\n",
       "      <td>0</td>\n",
       "      <td>1614.9</td>\n",
       "      <td>2016-03-26 13:30:55</td>\n",
       "      <td>2016</td>\n",
       "      <td>3</td>\n",
       "      <td>5</td>\n",
       "      <td>26</td>\n",
       "      <td>13</td>\n",
       "      <td>30</td>\n",
       "    </tr>\n",
       "  </tbody>\n",
       "</table>\n",
       "</div>"
      ],
      "text/plain": [
       "                id  vendor_id      pickup_datetime  passenger_count  \\\n",
       "train 0  id2875421          2  2016-03-14 17:24:55                1   \n",
       "      1  id2377394          1  2016-06-12 00:43:35                1   \n",
       "      2  id3858529          2  2016-01-19 11:35:24                1   \n",
       "      3  id3504673          2  2016-04-06 19:32:31                1   \n",
       "      4  id2181028          2  2016-03-26 13:30:55                1   \n",
       "\n",
       "         pickup_longitude  pickup_latitude  dropoff_longitude  \\\n",
       "train 0        -73.982155        40.767937         -73.964630   \n",
       "      1        -73.980415        40.738564         -73.999481   \n",
       "      2        -73.979027        40.763939         -74.005333   \n",
       "      3        -74.010040        40.719971         -74.012268   \n",
       "      4        -73.973053        40.793209         -73.972923   \n",
       "\n",
       "         dropoff_latitude store_and_fwd_flag  total_distance  \\\n",
       "train 0         40.765602                  0          2009.1   \n",
       "      1         40.731152                  0          2513.2   \n",
       "      2         40.710087                  0         11060.8   \n",
       "      3         40.706718                  0          1779.4   \n",
       "      4         40.782520                  0          1614.9   \n",
       "\n",
       "               datetime_obj  pickup_year  pickup_month  pickup_weekday  \\\n",
       "train 0 2016-03-14 17:24:55         2016             3               0   \n",
       "      1 2016-06-12 00:43:35         2016             6               6   \n",
       "      2 2016-01-19 11:35:24         2016             1               1   \n",
       "      3 2016-04-06 19:32:31         2016             4               2   \n",
       "      4 2016-03-26 13:30:55         2016             3               5   \n",
       "\n",
       "         pickup_day  pickup_hour  pickup_minute  \n",
       "train 0          14           17             24  \n",
       "      1          12            0             43  \n",
       "      2          19           11             35  \n",
       "      3           6           19             32  \n",
       "      4          26           13             30  "
      ]
     },
     "execution_count": 141,
     "metadata": {},
     "output_type": "execute_result"
    }
   ],
   "source": [
    "data_dict = {'Y':1, 'N':0}\n",
    "data_tf = data[col].map(data_dict)\n",
    "data[col].update(data_tf)\n",
    "data[:5]"
   ]
  },
  {
   "cell_type": "markdown",
   "metadata": {},
   "source": [
    "### Drop unused cols"
   ]
  },
  {
   "cell_type": "code",
   "execution_count": 142,
   "metadata": {
    "ExecuteTime": {
     "end_time": "2017-07-26T13:06:21.520941Z",
     "start_time": "2017-07-26T13:06:20.749512Z"
    },
    "collapsed": true
   },
   "outputs": [],
   "source": [
    "# Drop pickup_datetime\n",
    "data.drop('pickup_datetime', axis=1, inplace=True)\n",
    "data.drop('datetime_obj', axis=1, inplace=True)"
   ]
  },
  {
   "cell_type": "code",
   "execution_count": 143,
   "metadata": {
    "ExecuteTime": {
     "end_time": "2017-07-26T13:06:23.683981Z",
     "start_time": "2017-07-26T13:06:23.668353Z"
    },
    "collapsed": true
   },
   "outputs": [],
   "source": [
    "combine_data_tf = data"
   ]
  },
  {
   "cell_type": "markdown",
   "metadata": {},
   "source": [
    "## Feature scaling (not use)"
   ]
  },
  {
   "cell_type": "raw",
   "metadata": {
    "ExecuteTime": {
     "end_time": "2017-07-22T15:04:57.780151Z",
     "start_time": "2017-07-22T15:04:55.834361Z"
    }
   },
   "source": [
    "data = combine_data_tf.drop('id', axis=1).astype(float)\n",
    "std_scale = data.apply(StandardScaler().fit_transform)\n",
    "combine_data_tf.update(std_scale)\n",
    "combine_data_tf[:5]"
   ]
  },
  {
   "cell_type": "code",
   "execution_count": 55,
   "metadata": {
    "ExecuteTime": {
     "end_time": "2017-07-26T08:51:03.368609Z",
     "start_time": "2017-07-26T08:51:03.315224Z"
    }
   },
   "outputs": [
    {
     "data": {
      "text/plain": [
       "2016    2083778\n",
       "Name: pickup_year, dtype: int64"
      ]
     },
     "execution_count": 55,
     "metadata": {},
     "output_type": "execute_result"
    }
   ],
   "source": [
    "combine_data_tf['pickup_year'].value_counts()"
   ]
  },
  {
   "cell_type": "code",
   "execution_count": 56,
   "metadata": {
    "ExecuteTime": {
     "end_time": "2017-07-26T08:51:05.817003Z",
     "start_time": "2017-07-26T08:51:05.638481Z"
    },
    "collapsed": true
   },
   "outputs": [],
   "source": [
    "# Drop pickup year\n",
    "# combine_data_tf.drop('pickup_year', axis=1, inplace=True)"
   ]
  },
  {
   "cell_type": "markdown",
   "metadata": {},
   "source": [
    "## Feature engineering"
   ]
  },
  {
   "cell_type": "markdown",
   "metadata": {},
   "source": [
    "### Distance between pickup and dropoff"
   ]
  },
  {
   "cell_type": "raw",
   "metadata": {
    "ExecuteTime": {
     "end_time": "2017-07-23T11:26:39.686748Z",
     "start_time": "2017-07-23T11:22:26.446325Z"
    },
    "collapsed": true
   },
   "source": [
    "# credit: https://www.kaggle.com/ankasor/driving-distance-using-open-street-maps-data/notebook\n",
    "# Settings for Streetnetwork-Download\n",
    "STREETGRAPH_FILENAME = 'streetnetwork.graphml'\n",
    "FORCE_CREATE = False\n",
    "# This Checks if the Streetnetwork File exists (or creation is overwritten\n",
    "# using FORCE_CREATE)\n",
    "if (not os.path.isfile(\".//data//\"+STREETGRAPH_FILENAME) )or FORCE_CREATE:\n",
    "    #There are many different ways to create the Network Graph. See the osmnx documentation for details\n",
    "    area_graph = ox.graph_from_place('New York, USA', network_type='drive_service')\n",
    "    ox.save_graphml(area_graph, filename=STREETGRAPH_FILENAME)\n",
    "else:\n",
    "    area_graph = ox.load_graphml(STREETGRAPH_FILENAME)"
   ]
  },
  {
   "cell_type": "code",
   "execution_count": 65,
   "metadata": {
    "ExecuteTime": {
     "end_time": "2017-07-23T11:56:49.181767Z",
     "start_time": "2017-07-23T11:56:49.175762Z"
    },
    "collapsed": true
   },
   "outputs": [],
   "source": [
    "geod = Geodesic.WGS84  # define the WGS84 ellipsoid\n",
    "\n",
    "\n",
    "def point_distance(startpoint, endpoint):\n",
    "    distance = geod.Inverse(\n",
    "        startpoint[0], startpoint[1], endpoint[0], endpoint[1])\n",
    "    return distance['s12']"
   ]
  },
  {
   "cell_type": "code",
   "execution_count": 66,
   "metadata": {
    "ExecuteTime": {
     "end_time": "2017-07-23T11:56:50.998631Z",
     "start_time": "2017-07-23T11:56:50.981621Z"
    },
    "collapsed": true
   },
   "outputs": [],
   "source": [
    "def driving_distance(area_graph, startpoint, endpoint):\n",
    "    \"\"\"\n",
    "    Calculates the driving distance along an osmnx street network between two coordinate-points.\n",
    "    The Driving distance is calculated from the closest nodes to the coordinate points.\n",
    "    This can lead to problems if the coordinates fall outside the area encompassed by the network.\n",
    "\n",
    "    Arguments:\n",
    "    area_graph -- An osmnx street network\n",
    "    startpoint -- The Starting point as coordinate Tuple\n",
    "    endpoint -- The Ending point as coordinate Tuple\n",
    "    \"\"\"\n",
    "\n",
    "    # Find nodes closest to the specified Coordinates\n",
    "    node_start = ox.utils.get_nearest_node(area_graph, startpoint)\n",
    "    node_stop = ox.utils.get_nearest_node(area_graph, endpoint)\n",
    "    #print(\"node_start:\", node_start, \" node_stop:\", node_stop)\n",
    "    # Calculate the shortest network distance between the nodes via the edges\n",
    "    # \"length\" attribute\n",
    "    try:\n",
    "        distance = nx.shortest_path_length(\n",
    "            area_graph, node_start, node_stop, weight=\"length\")\n",
    "    except:\n",
    "        print(\"Can not calculate path from \", startpoint,\n",
    "              \" to \", endpoint, \". Using backup function\")\n",
    "        distance = point_distance(startpoint, endpoint)\n",
    "\n",
    "    return distance"
   ]
  },
  {
   "cell_type": "code",
   "execution_count": 77,
   "metadata": {
    "ExecuteTime": {
     "end_time": "2017-07-26T09:31:27.811605Z",
     "start_time": "2017-07-26T09:31:27.798595Z"
    },
    "collapsed": true
   },
   "outputs": [],
   "source": [
    "# credit to: https://stackoverflow.com/questions/15736995/how-can-i-quickly-estimate-the-distance-between-two-latitude-longitude-points\n",
    "def haversine(lon1, lat1, lon2, lat2):\n",
    "    \"\"\"\n",
    "    Calculate the great circle distance between two points \n",
    "    on the earth (specified in decimal degrees)\n",
    "    \"\"\"\n",
    "    # convert decimal degrees to radians \n",
    "    lon1, lat1, lon2, lat2 = map(radians, [lon1, lat1, lon2, lat2])\n",
    "    # haversine formula \n",
    "    dlon = lon2 - lon1 \n",
    "    dlat = lat2 - lat1 \n",
    "    a = sin(dlat/2)**2 + cos(lat1) * cos(lat2) * sin(dlon/2)**2\n",
    "    c = 2 * asin(sqrt(a)) \n",
    "    km = 6367 * c\n",
    "    return km"
   ]
  },
  {
   "cell_type": "raw",
   "metadata": {
    "ExecuteTime": {
     "end_time": "2017-07-23T11:56:54.693946Z",
     "start_time": "2017-07-23T11:56:54.104555Z"
    }
   },
   "source": [
    "# Usage example:\n",
    "row = combine_data_tf.ix[115]\n",
    "# Coordinates of the first drive in the train dataset\n",
    "startpoint = (row['pickup_latitude'], row['pickup_longitude'])\n",
    "endpoint = (row['dropoff_latitude'], row['dropoff_longitude'])\n",
    "#startpoint = (40.797779, -73.969276)\n",
    "#endpoint = (40.760559, -73.922470)\n",
    "#startpoint = (40.767937, -73.982155)\n",
    "#endpoint = (40.765602, -73.964630)\n",
    "print(driving_distance(area_graph, startpoint, endpoint))"
   ]
  },
  {
   "cell_type": "code",
   "execution_count": 144,
   "metadata": {
    "ExecuteTime": {
     "end_time": "2017-07-26T13:11:10.715415Z",
     "start_time": "2017-07-26T13:06:41.360550Z"
    },
    "scrolled": true
   },
   "outputs": [
    {
     "data": {
      "text/html": [
       "<div>\n",
       "<style>\n",
       "    .dataframe thead tr:only-child th {\n",
       "        text-align: right;\n",
       "    }\n",
       "\n",
       "    .dataframe thead th {\n",
       "        text-align: left;\n",
       "    }\n",
       "\n",
       "    .dataframe tbody tr th {\n",
       "        vertical-align: top;\n",
       "    }\n",
       "</style>\n",
       "<table border=\"1\" class=\"dataframe\">\n",
       "  <thead>\n",
       "    <tr style=\"text-align: right;\">\n",
       "      <th></th>\n",
       "      <th></th>\n",
       "      <th>id</th>\n",
       "      <th>vendor_id</th>\n",
       "      <th>passenger_count</th>\n",
       "      <th>pickup_longitude</th>\n",
       "      <th>pickup_latitude</th>\n",
       "      <th>dropoff_longitude</th>\n",
       "      <th>dropoff_latitude</th>\n",
       "      <th>store_and_fwd_flag</th>\n",
       "      <th>total_distance</th>\n",
       "      <th>pickup_year</th>\n",
       "      <th>pickup_month</th>\n",
       "      <th>pickup_weekday</th>\n",
       "      <th>pickup_day</th>\n",
       "      <th>pickup_hour</th>\n",
       "      <th>pickup_minute</th>\n",
       "      <th>haversine_distance</th>\n",
       "    </tr>\n",
       "  </thead>\n",
       "  <tbody>\n",
       "    <tr>\n",
       "      <th rowspan=\"5\" valign=\"top\">train</th>\n",
       "      <th>0</th>\n",
       "      <td>id2875421</td>\n",
       "      <td>2</td>\n",
       "      <td>1</td>\n",
       "      <td>-73.982155</td>\n",
       "      <td>40.767937</td>\n",
       "      <td>-73.964630</td>\n",
       "      <td>40.765602</td>\n",
       "      <td>0</td>\n",
       "      <td>2009.1</td>\n",
       "      <td>2016</td>\n",
       "      <td>3</td>\n",
       "      <td>0</td>\n",
       "      <td>14</td>\n",
       "      <td>17</td>\n",
       "      <td>24</td>\n",
       "      <td>1.948753</td>\n",
       "    </tr>\n",
       "    <tr>\n",
       "      <th>1</th>\n",
       "      <td>id2377394</td>\n",
       "      <td>1</td>\n",
       "      <td>1</td>\n",
       "      <td>-73.980415</td>\n",
       "      <td>40.738564</td>\n",
       "      <td>-73.999481</td>\n",
       "      <td>40.731152</td>\n",
       "      <td>0</td>\n",
       "      <td>2513.2</td>\n",
       "      <td>2016</td>\n",
       "      <td>6</td>\n",
       "      <td>6</td>\n",
       "      <td>12</td>\n",
       "      <td>0</td>\n",
       "      <td>43</td>\n",
       "      <td>2.130839</td>\n",
       "    </tr>\n",
       "    <tr>\n",
       "      <th>2</th>\n",
       "      <td>id3858529</td>\n",
       "      <td>2</td>\n",
       "      <td>1</td>\n",
       "      <td>-73.979027</td>\n",
       "      <td>40.763939</td>\n",
       "      <td>-74.005333</td>\n",
       "      <td>40.710087</td>\n",
       "      <td>0</td>\n",
       "      <td>11060.8</td>\n",
       "      <td>2016</td>\n",
       "      <td>1</td>\n",
       "      <td>1</td>\n",
       "      <td>19</td>\n",
       "      <td>11</td>\n",
       "      <td>35</td>\n",
       "      <td>3.356930</td>\n",
       "    </tr>\n",
       "    <tr>\n",
       "      <th>3</th>\n",
       "      <td>id3504673</td>\n",
       "      <td>2</td>\n",
       "      <td>1</td>\n",
       "      <td>-74.010040</td>\n",
       "      <td>40.719971</td>\n",
       "      <td>-74.012268</td>\n",
       "      <td>40.706718</td>\n",
       "      <td>0</td>\n",
       "      <td>1779.4</td>\n",
       "      <td>2016</td>\n",
       "      <td>4</td>\n",
       "      <td>2</td>\n",
       "      <td>6</td>\n",
       "      <td>19</td>\n",
       "      <td>32</td>\n",
       "      <td>0.475220</td>\n",
       "    </tr>\n",
       "    <tr>\n",
       "      <th>4</th>\n",
       "      <td>id2181028</td>\n",
       "      <td>2</td>\n",
       "      <td>1</td>\n",
       "      <td>-73.973053</td>\n",
       "      <td>40.793209</td>\n",
       "      <td>-73.972923</td>\n",
       "      <td>40.782520</td>\n",
       "      <td>0</td>\n",
       "      <td>1614.9</td>\n",
       "      <td>2016</td>\n",
       "      <td>3</td>\n",
       "      <td>5</td>\n",
       "      <td>26</td>\n",
       "      <td>13</td>\n",
       "      <td>30</td>\n",
       "      <td>0.328255</td>\n",
       "    </tr>\n",
       "  </tbody>\n",
       "</table>\n",
       "</div>"
      ],
      "text/plain": [
       "                id  vendor_id  passenger_count  pickup_longitude  \\\n",
       "train 0  id2875421          2                1        -73.982155   \n",
       "      1  id2377394          1                1        -73.980415   \n",
       "      2  id3858529          2                1        -73.979027   \n",
       "      3  id3504673          2                1        -74.010040   \n",
       "      4  id2181028          2                1        -73.973053   \n",
       "\n",
       "         pickup_latitude  dropoff_longitude  dropoff_latitude  \\\n",
       "train 0        40.767937         -73.964630         40.765602   \n",
       "      1        40.738564         -73.999481         40.731152   \n",
       "      2        40.763939         -74.005333         40.710087   \n",
       "      3        40.719971         -74.012268         40.706718   \n",
       "      4        40.793209         -73.972923         40.782520   \n",
       "\n",
       "        store_and_fwd_flag  total_distance  pickup_year  pickup_month  \\\n",
       "train 0                  0          2009.1         2016             3   \n",
       "      1                  0          2513.2         2016             6   \n",
       "      2                  0         11060.8         2016             1   \n",
       "      3                  0          1779.4         2016             4   \n",
       "      4                  0          1614.9         2016             3   \n",
       "\n",
       "         pickup_weekday  pickup_day  pickup_hour  pickup_minute  \\\n",
       "train 0               0          14           17             24   \n",
       "      1               6          12            0             43   \n",
       "      2               1          19           11             35   \n",
       "      3               2           6           19             32   \n",
       "      4               5          26           13             30   \n",
       "\n",
       "         haversine_distance  \n",
       "train 0            1.948753  \n",
       "      1            2.130839  \n",
       "      2            3.356930  \n",
       "      3            0.475220  \n",
       "      4            0.328255  "
      ]
     },
     "execution_count": 144,
     "metadata": {},
     "output_type": "execute_result"
    }
   ],
   "source": [
    "data = combine_data_tf\n",
    "data['haversine_distance'] = combine_data_tf.apply(lambda row: haversine(row['pickup_latitude'], row['pickup_longitude'], row['dropoff_latitude'], row['dropoff_longitude']), axis=1)\n",
    "combine_data_tf[:5]"
   ]
  },
  {
   "cell_type": "markdown",
   "metadata": {},
   "source": [
    "#### Correct total_distance=0"
   ]
  },
  {
   "cell_type": "code",
   "execution_count": 118,
   "metadata": {
    "ExecuteTime": {
     "end_time": "2017-07-26T10:29:47.129412Z",
     "start_time": "2017-07-26T10:29:47.112396Z"
    }
   },
   "outputs": [
    {
     "name": "stdout",
     "output_type": "stream",
     "text": [
      "6009\n"
     ]
    },
    {
     "data": {
      "text/html": [
       "<div>\n",
       "<style>\n",
       "    .dataframe thead tr:only-child th {\n",
       "        text-align: right;\n",
       "    }\n",
       "\n",
       "    .dataframe thead th {\n",
       "        text-align: left;\n",
       "    }\n",
       "\n",
       "    .dataframe tbody tr th {\n",
       "        vertical-align: top;\n",
       "    }\n",
       "</style>\n",
       "<table border=\"1\" class=\"dataframe\">\n",
       "  <thead>\n",
       "    <tr style=\"text-align: right;\">\n",
       "      <th></th>\n",
       "      <th>pickup_hour</th>\n",
       "      <th>total_distance</th>\n",
       "      <th>trip_duration</th>\n",
       "      <th>speed</th>\n",
       "    </tr>\n",
       "  </thead>\n",
       "  <tbody>\n",
       "    <tr>\n",
       "      <th>246</th>\n",
       "      <td>18</td>\n",
       "      <td>0.0</td>\n",
       "      <td>227</td>\n",
       "      <td>inf</td>\n",
       "    </tr>\n",
       "    <tr>\n",
       "      <th>291</th>\n",
       "      <td>18</td>\n",
       "      <td>0.0</td>\n",
       "      <td>1109</td>\n",
       "      <td>inf</td>\n",
       "    </tr>\n",
       "    <tr>\n",
       "      <th>407</th>\n",
       "      <td>23</td>\n",
       "      <td>0.0</td>\n",
       "      <td>947</td>\n",
       "      <td>inf</td>\n",
       "    </tr>\n",
       "    <tr>\n",
       "      <th>702</th>\n",
       "      <td>19</td>\n",
       "      <td>0.0</td>\n",
       "      <td>580</td>\n",
       "      <td>inf</td>\n",
       "    </tr>\n",
       "    <tr>\n",
       "      <th>1620</th>\n",
       "      <td>22</td>\n",
       "      <td>0.0</td>\n",
       "      <td>27</td>\n",
       "      <td>inf</td>\n",
       "    </tr>\n",
       "  </tbody>\n",
       "</table>\n",
       "</div>"
      ],
      "text/plain": [
       "      pickup_hour  total_distance  trip_duration  speed\n",
       "246            18             0.0            227    inf\n",
       "291            18             0.0           1109    inf\n",
       "407            23             0.0            947    inf\n",
       "702            19             0.0            580    inf\n",
       "1620           22             0.0             27    inf"
      ]
     },
     "execution_count": 118,
     "metadata": {},
     "output_type": "execute_result"
    }
   ],
   "source": [
    "data_zero = data[data['total_distance']==0]\n",
    "print(len(data_zero))\n",
    "data_zero[:5]"
   ]
  },
  {
   "cell_type": "markdown",
   "metadata": {},
   "source": [
    "### Average speed"
   ]
  },
  {
   "cell_type": "code",
   "execution_count": null,
   "metadata": {
    "collapsed": true
   },
   "outputs": [],
   "source": [
    "data = combine_data_tf.loc['train']\n",
    "data[label] = target\n",
    "data = data[['pickup_hour', 'total_distance', label]]"
   ]
  },
  {
   "cell_type": "markdown",
   "metadata": {},
   "source": [
    "#### remove total_distance=0"
   ]
  },
  {
   "cell_type": "code",
   "execution_count": null,
   "metadata": {
    "collapsed": true
   },
   "outputs": [],
   "source": [
    "data = data[data['total_distance'] > 0]"
   ]
  },
  {
   "cell_type": "markdown",
   "metadata": {},
   "source": [
    "#### Calculate speed from total_distance and trip_duration speed_mean"
   ]
  },
  {
   "cell_type": "code",
   "execution_count": 145,
   "metadata": {
    "ExecuteTime": {
     "end_time": "2017-07-26T13:11:57.067741Z",
     "start_time": "2017-07-26T13:11:11.317023Z"
    }
   },
   "outputs": [
    {
     "data": {
      "text/html": [
       "<div>\n",
       "<style>\n",
       "    .dataframe thead tr:only-child th {\n",
       "        text-align: right;\n",
       "    }\n",
       "\n",
       "    .dataframe thead th {\n",
       "        text-align: left;\n",
       "    }\n",
       "\n",
       "    .dataframe tbody tr th {\n",
       "        vertical-align: top;\n",
       "    }\n",
       "</style>\n",
       "<table border=\"1\" class=\"dataframe\">\n",
       "  <thead>\n",
       "    <tr style=\"text-align: right;\">\n",
       "      <th></th>\n",
       "      <th>pickup_hour</th>\n",
       "      <th>total_distance</th>\n",
       "      <th>trip_duration</th>\n",
       "      <th>speed</th>\n",
       "    </tr>\n",
       "  </thead>\n",
       "  <tbody>\n",
       "    <tr>\n",
       "      <th>0</th>\n",
       "      <td>17</td>\n",
       "      <td>2009.1</td>\n",
       "      <td>455</td>\n",
       "      <td>0.226470</td>\n",
       "    </tr>\n",
       "    <tr>\n",
       "      <th>1</th>\n",
       "      <td>0</td>\n",
       "      <td>2513.2</td>\n",
       "      <td>663</td>\n",
       "      <td>0.263807</td>\n",
       "    </tr>\n",
       "    <tr>\n",
       "      <th>2</th>\n",
       "      <td>11</td>\n",
       "      <td>11060.8</td>\n",
       "      <td>2124</td>\n",
       "      <td>0.192030</td>\n",
       "    </tr>\n",
       "    <tr>\n",
       "      <th>3</th>\n",
       "      <td>19</td>\n",
       "      <td>1779.4</td>\n",
       "      <td>429</td>\n",
       "      <td>0.241093</td>\n",
       "    </tr>\n",
       "    <tr>\n",
       "      <th>4</th>\n",
       "      <td>13</td>\n",
       "      <td>1614.9</td>\n",
       "      <td>435</td>\n",
       "      <td>0.269367</td>\n",
       "    </tr>\n",
       "  </tbody>\n",
       "</table>\n",
       "</div>"
      ],
      "text/plain": [
       "   pickup_hour  total_distance  trip_duration     speed\n",
       "0           17          2009.1            455  0.226470\n",
       "1            0          2513.2            663  0.263807\n",
       "2           11         11060.8           2124  0.192030\n",
       "3           19          1779.4            429  0.241093\n",
       "4           13          1614.9            435  0.269367"
      ]
     },
     "execution_count": 145,
     "metadata": {},
     "output_type": "execute_result"
    }
   ],
   "source": [
    "data['speed'] = data.apply(lambda row: row[label] / row['total_distance'], axis=1)\n",
    "data[:5]"
   ]
  },
  {
   "cell_type": "code",
   "execution_count": 120,
   "metadata": {
    "ExecuteTime": {
     "end_time": "2017-07-26T12:56:41.269617Z",
     "start_time": "2017-07-26T12:56:41.139520Z"
    }
   },
   "outputs": [
    {
     "data": {
      "text/plain": [
       "count    1.452634e+06\n",
       "mean     1.069360e+00\n",
       "std      4.126282e+02\n",
       "min      2.896596e-04\n",
       "25%      1.529204e-01\n",
       "50%      2.099226e-01\n",
       "75%      2.887008e-01\n",
       "max      4.316100e+05\n",
       "Name: speed, dtype: float64"
      ]
     },
     "execution_count": 120,
     "metadata": {},
     "output_type": "execute_result"
    }
   ],
   "source": [
    "data['speed'].describe()"
   ]
  },
  {
   "cell_type": "code",
   "execution_count": 146,
   "metadata": {
    "ExecuteTime": {
     "end_time": "2017-07-26T13:11:57.741968Z",
     "start_time": "2017-07-26T13:11:57.626070Z"
    }
   },
   "outputs": [
    {
     "data": {
      "text/html": [
       "<div>\n",
       "<style>\n",
       "    .dataframe thead tr:only-child th {\n",
       "        text-align: right;\n",
       "    }\n",
       "\n",
       "    .dataframe thead th {\n",
       "        text-align: left;\n",
       "    }\n",
       "\n",
       "    .dataframe tbody tr th {\n",
       "        vertical-align: top;\n",
       "    }\n",
       "</style>\n",
       "<table border=\"1\" class=\"dataframe\">\n",
       "  <thead>\n",
       "    <tr style=\"text-align: right;\">\n",
       "      <th></th>\n",
       "      <th>index</th>\n",
       "      <th>pickup_hour</th>\n",
       "      <th>total_distance</th>\n",
       "      <th>trip_duration</th>\n",
       "      <th>speed</th>\n",
       "    </tr>\n",
       "  </thead>\n",
       "  <tbody>\n",
       "    <tr>\n",
       "      <th>0</th>\n",
       "      <td>0</td>\n",
       "      <td>0</td>\n",
       "      <td>5386.545842</td>\n",
       "      <td>938.814608</td>\n",
       "      <td>0.362564</td>\n",
       "    </tr>\n",
       "    <tr>\n",
       "      <th>1</th>\n",
       "      <td>1</td>\n",
       "      <td>1</td>\n",
       "      <td>5272.017424</td>\n",
       "      <td>902.680154</td>\n",
       "      <td>0.595062</td>\n",
       "    </tr>\n",
       "    <tr>\n",
       "      <th>2</th>\n",
       "      <td>2</td>\n",
       "      <td>2</td>\n",
       "      <td>5161.003588</td>\n",
       "      <td>891.976035</td>\n",
       "      <td>0.441362</td>\n",
       "    </tr>\n",
       "    <tr>\n",
       "      <th>3</th>\n",
       "      <td>3</td>\n",
       "      <td>3</td>\n",
       "      <td>5474.581209</td>\n",
       "      <td>893.107445</td>\n",
       "      <td>2.195318</td>\n",
       "    </tr>\n",
       "    <tr>\n",
       "      <th>4</th>\n",
       "      <td>4</td>\n",
       "      <td>4</td>\n",
       "      <td>6534.848936</td>\n",
       "      <td>926.091616</td>\n",
       "      <td>0.674158</td>\n",
       "    </tr>\n",
       "    <tr>\n",
       "      <th>5</th>\n",
       "      <td>5</td>\n",
       "      <td>5</td>\n",
       "      <td>7267.635396</td>\n",
       "      <td>825.492934</td>\n",
       "      <td>0.484089</td>\n",
       "    </tr>\n",
       "    <tr>\n",
       "      <th>6</th>\n",
       "      <td>6</td>\n",
       "      <td>6</td>\n",
       "      <td>5572.443383</td>\n",
       "      <td>799.479663</td>\n",
       "      <td>0.357306</td>\n",
       "    </tr>\n",
       "    <tr>\n",
       "      <th>7</th>\n",
       "      <td>7</td>\n",
       "      <td>7</td>\n",
       "      <td>4586.204709</td>\n",
       "      <td>833.596429</td>\n",
       "      <td>0.710779</td>\n",
       "    </tr>\n",
       "    <tr>\n",
       "      <th>8</th>\n",
       "      <td>8</td>\n",
       "      <td>8</td>\n",
       "      <td>4089.470144</td>\n",
       "      <td>926.371765</td>\n",
       "      <td>6.864240</td>\n",
       "    </tr>\n",
       "    <tr>\n",
       "      <th>9</th>\n",
       "      <td>9</td>\n",
       "      <td>9</td>\n",
       "      <td>3979.757729</td>\n",
       "      <td>934.924791</td>\n",
       "      <td>0.411226</td>\n",
       "    </tr>\n",
       "    <tr>\n",
       "      <th>10</th>\n",
       "      <td>10</td>\n",
       "      <td>10</td>\n",
       "      <td>4077.976842</td>\n",
       "      <td>935.040061</td>\n",
       "      <td>0.491690</td>\n",
       "    </tr>\n",
       "    <tr>\n",
       "      <th>11</th>\n",
       "      <td>11</td>\n",
       "      <td>11</td>\n",
       "      <td>4183.489984</td>\n",
       "      <td>968.416448</td>\n",
       "      <td>0.485607</td>\n",
       "    </tr>\n",
       "    <tr>\n",
       "      <th>12</th>\n",
       "      <td>12</td>\n",
       "      <td>12</td>\n",
       "      <td>4152.749171</td>\n",
       "      <td>995.765211</td>\n",
       "      <td>0.478982</td>\n",
       "    </tr>\n",
       "    <tr>\n",
       "      <th>13</th>\n",
       "      <td>13</td>\n",
       "      <td>13</td>\n",
       "      <td>4402.851105</td>\n",
       "      <td>1033.394676</td>\n",
       "      <td>3.398990</td>\n",
       "    </tr>\n",
       "    <tr>\n",
       "      <th>14</th>\n",
       "      <td>14</td>\n",
       "      <td>14</td>\n",
       "      <td>4605.546715</td>\n",
       "      <td>1077.843992</td>\n",
       "      <td>0.715122</td>\n",
       "    </tr>\n",
       "    <tr>\n",
       "      <th>15</th>\n",
       "      <td>15</td>\n",
       "      <td>15</td>\n",
       "      <td>4616.958740</td>\n",
       "      <td>1120.310439</td>\n",
       "      <td>0.426541</td>\n",
       "    </tr>\n",
       "    <tr>\n",
       "      <th>16</th>\n",
       "      <td>16</td>\n",
       "      <td>16</td>\n",
       "      <td>4723.443525</td>\n",
       "      <td>1082.325686</td>\n",
       "      <td>2.390131</td>\n",
       "    </tr>\n",
       "    <tr>\n",
       "      <th>17</th>\n",
       "      <td>17</td>\n",
       "      <td>17</td>\n",
       "      <td>4478.688419</td>\n",
       "      <td>1032.667945</td>\n",
       "      <td>0.440043</td>\n",
       "    </tr>\n",
       "    <tr>\n",
       "      <th>18</th>\n",
       "      <td>18</td>\n",
       "      <td>18</td>\n",
       "      <td>4177.779283</td>\n",
       "      <td>983.311241</td>\n",
       "      <td>0.479401</td>\n",
       "    </tr>\n",
       "    <tr>\n",
       "      <th>19</th>\n",
       "      <td>19</td>\n",
       "      <td>19</td>\n",
       "      <td>4209.965256</td>\n",
       "      <td>895.923150</td>\n",
       "      <td>0.416281</td>\n",
       "    </tr>\n",
       "    <tr>\n",
       "      <th>20</th>\n",
       "      <td>20</td>\n",
       "      <td>20</td>\n",
       "      <td>4648.841520</td>\n",
       "      <td>880.956031</td>\n",
       "      <td>0.769976</td>\n",
       "    </tr>\n",
       "    <tr>\n",
       "      <th>21</th>\n",
       "      <td>21</td>\n",
       "      <td>21</td>\n",
       "      <td>4875.682266</td>\n",
       "      <td>892.314921</td>\n",
       "      <td>0.897083</td>\n",
       "    </tr>\n",
       "    <tr>\n",
       "      <th>22</th>\n",
       "      <td>22</td>\n",
       "      <td>22</td>\n",
       "      <td>5074.972510</td>\n",
       "      <td>1025.437991</td>\n",
       "      <td>0.401877</td>\n",
       "    </tr>\n",
       "    <tr>\n",
       "      <th>23</th>\n",
       "      <td>23</td>\n",
       "      <td>23</td>\n",
       "      <td>5393.039435</td>\n",
       "      <td>926.708781</td>\n",
       "      <td>0.494943</td>\n",
       "    </tr>\n",
       "  </tbody>\n",
       "</table>\n",
       "</div>"
      ],
      "text/plain": [
       "    index  pickup_hour  total_distance  trip_duration     speed\n",
       "0       0            0     5386.545842     938.814608  0.362564\n",
       "1       1            1     5272.017424     902.680154  0.595062\n",
       "2       2            2     5161.003588     891.976035  0.441362\n",
       "3       3            3     5474.581209     893.107445  2.195318\n",
       "4       4            4     6534.848936     926.091616  0.674158\n",
       "5       5            5     7267.635396     825.492934  0.484089\n",
       "6       6            6     5572.443383     799.479663  0.357306\n",
       "7       7            7     4586.204709     833.596429  0.710779\n",
       "8       8            8     4089.470144     926.371765  6.864240\n",
       "9       9            9     3979.757729     934.924791  0.411226\n",
       "10     10           10     4077.976842     935.040061  0.491690\n",
       "11     11           11     4183.489984     968.416448  0.485607\n",
       "12     12           12     4152.749171     995.765211  0.478982\n",
       "13     13           13     4402.851105    1033.394676  3.398990\n",
       "14     14           14     4605.546715    1077.843992  0.715122\n",
       "15     15           15     4616.958740    1120.310439  0.426541\n",
       "16     16           16     4723.443525    1082.325686  2.390131\n",
       "17     17           17     4478.688419    1032.667945  0.440043\n",
       "18     18           18     4177.779283     983.311241  0.479401\n",
       "19     19           19     4209.965256     895.923150  0.416281\n",
       "20     20           20     4648.841520     880.956031  0.769976\n",
       "21     21           21     4875.682266     892.314921  0.897083\n",
       "22     22           22     5074.972510    1025.437991  0.401877\n",
       "23     23           23     5393.039435     926.708781  0.494943"
      ]
     },
     "execution_count": 146,
     "metadata": {},
     "output_type": "execute_result"
    }
   ],
   "source": [
    "col = 'pickup_hour'\n",
    "group_col ='speed'\n",
    "data_st = data.groupby(col,as_index=False).mean().sort_values(col).reset_index()\n",
    "data_st"
   ]
  },
  {
   "cell_type": "code",
   "execution_count": 152,
   "metadata": {
    "ExecuteTime": {
     "end_time": "2017-07-26T13:20:22.128677Z",
     "start_time": "2017-07-26T13:20:22.097443Z"
    }
   },
   "outputs": [],
   "source": [
    "data_sr = pd.Series(data_st[group_col], index=data_st[col])\n",
    "data_dict = data_sr.to_dict()"
   ]
  },
  {
   "cell_type": "code",
   "execution_count": 151,
   "metadata": {
    "ExecuteTime": {
     "end_time": "2017-07-26T13:20:13.125541Z",
     "start_time": "2017-07-26T13:20:12.824732Z"
    },
    "collapsed": true
   },
   "outputs": [],
   "source": [
    "#data.drop(['pickup_hour_mean','speed_mean'], axis=1, inplace=True)"
   ]
  },
  {
   "cell_type": "code",
   "execution_count": 153,
   "metadata": {
    "ExecuteTime": {
     "end_time": "2017-07-26T13:20:26.946972Z",
     "start_time": "2017-07-26T13:20:26.768577Z"
    }
   },
   "outputs": [
    {
     "data": {
      "text/html": [
       "<div>\n",
       "<style>\n",
       "    .dataframe thead tr:only-child th {\n",
       "        text-align: right;\n",
       "    }\n",
       "\n",
       "    .dataframe thead th {\n",
       "        text-align: left;\n",
       "    }\n",
       "\n",
       "    .dataframe tbody tr th {\n",
       "        vertical-align: top;\n",
       "    }\n",
       "</style>\n",
       "<table border=\"1\" class=\"dataframe\">\n",
       "  <thead>\n",
       "    <tr style=\"text-align: right;\">\n",
       "      <th></th>\n",
       "      <th></th>\n",
       "      <th>id</th>\n",
       "      <th>vendor_id</th>\n",
       "      <th>passenger_count</th>\n",
       "      <th>pickup_longitude</th>\n",
       "      <th>pickup_latitude</th>\n",
       "      <th>dropoff_longitude</th>\n",
       "      <th>dropoff_latitude</th>\n",
       "      <th>store_and_fwd_flag</th>\n",
       "      <th>total_distance</th>\n",
       "      <th>pickup_year</th>\n",
       "      <th>pickup_month</th>\n",
       "      <th>pickup_weekday</th>\n",
       "      <th>pickup_day</th>\n",
       "      <th>pickup_hour</th>\n",
       "      <th>pickup_minute</th>\n",
       "      <th>haversine_distance</th>\n",
       "      <th>speed_mean</th>\n",
       "    </tr>\n",
       "  </thead>\n",
       "  <tbody>\n",
       "    <tr>\n",
       "      <th rowspan=\"5\" valign=\"top\">train</th>\n",
       "      <th>0</th>\n",
       "      <td>id2875421</td>\n",
       "      <td>2</td>\n",
       "      <td>1</td>\n",
       "      <td>-73.982155</td>\n",
       "      <td>40.767937</td>\n",
       "      <td>-73.964630</td>\n",
       "      <td>40.765602</td>\n",
       "      <td>0</td>\n",
       "      <td>2009.1</td>\n",
       "      <td>2016</td>\n",
       "      <td>3</td>\n",
       "      <td>0</td>\n",
       "      <td>14</td>\n",
       "      <td>17</td>\n",
       "      <td>24</td>\n",
       "      <td>1.948753</td>\n",
       "      <td>0.440043</td>\n",
       "    </tr>\n",
       "    <tr>\n",
       "      <th>1</th>\n",
       "      <td>id2377394</td>\n",
       "      <td>1</td>\n",
       "      <td>1</td>\n",
       "      <td>-73.980415</td>\n",
       "      <td>40.738564</td>\n",
       "      <td>-73.999481</td>\n",
       "      <td>40.731152</td>\n",
       "      <td>0</td>\n",
       "      <td>2513.2</td>\n",
       "      <td>2016</td>\n",
       "      <td>6</td>\n",
       "      <td>6</td>\n",
       "      <td>12</td>\n",
       "      <td>0</td>\n",
       "      <td>43</td>\n",
       "      <td>2.130839</td>\n",
       "      <td>0.362564</td>\n",
       "    </tr>\n",
       "    <tr>\n",
       "      <th>2</th>\n",
       "      <td>id3858529</td>\n",
       "      <td>2</td>\n",
       "      <td>1</td>\n",
       "      <td>-73.979027</td>\n",
       "      <td>40.763939</td>\n",
       "      <td>-74.005333</td>\n",
       "      <td>40.710087</td>\n",
       "      <td>0</td>\n",
       "      <td>11060.8</td>\n",
       "      <td>2016</td>\n",
       "      <td>1</td>\n",
       "      <td>1</td>\n",
       "      <td>19</td>\n",
       "      <td>11</td>\n",
       "      <td>35</td>\n",
       "      <td>3.356930</td>\n",
       "      <td>0.485607</td>\n",
       "    </tr>\n",
       "    <tr>\n",
       "      <th>3</th>\n",
       "      <td>id3504673</td>\n",
       "      <td>2</td>\n",
       "      <td>1</td>\n",
       "      <td>-74.010040</td>\n",
       "      <td>40.719971</td>\n",
       "      <td>-74.012268</td>\n",
       "      <td>40.706718</td>\n",
       "      <td>0</td>\n",
       "      <td>1779.4</td>\n",
       "      <td>2016</td>\n",
       "      <td>4</td>\n",
       "      <td>2</td>\n",
       "      <td>6</td>\n",
       "      <td>19</td>\n",
       "      <td>32</td>\n",
       "      <td>0.475220</td>\n",
       "      <td>0.416281</td>\n",
       "    </tr>\n",
       "    <tr>\n",
       "      <th>4</th>\n",
       "      <td>id2181028</td>\n",
       "      <td>2</td>\n",
       "      <td>1</td>\n",
       "      <td>-73.973053</td>\n",
       "      <td>40.793209</td>\n",
       "      <td>-73.972923</td>\n",
       "      <td>40.782520</td>\n",
       "      <td>0</td>\n",
       "      <td>1614.9</td>\n",
       "      <td>2016</td>\n",
       "      <td>3</td>\n",
       "      <td>5</td>\n",
       "      <td>26</td>\n",
       "      <td>13</td>\n",
       "      <td>30</td>\n",
       "      <td>0.328255</td>\n",
       "      <td>3.398990</td>\n",
       "    </tr>\n",
       "  </tbody>\n",
       "</table>\n",
       "</div>"
      ],
      "text/plain": [
       "                id  vendor_id  passenger_count  pickup_longitude  \\\n",
       "train 0  id2875421          2                1        -73.982155   \n",
       "      1  id2377394          1                1        -73.980415   \n",
       "      2  id3858529          2                1        -73.979027   \n",
       "      3  id3504673          2                1        -74.010040   \n",
       "      4  id2181028          2                1        -73.973053   \n",
       "\n",
       "         pickup_latitude  dropoff_longitude  dropoff_latitude  \\\n",
       "train 0        40.767937         -73.964630         40.765602   \n",
       "      1        40.738564         -73.999481         40.731152   \n",
       "      2        40.763939         -74.005333         40.710087   \n",
       "      3        40.719971         -74.012268         40.706718   \n",
       "      4        40.793209         -73.972923         40.782520   \n",
       "\n",
       "        store_and_fwd_flag  total_distance  pickup_year  pickup_month  \\\n",
       "train 0                  0          2009.1         2016             3   \n",
       "      1                  0          2513.2         2016             6   \n",
       "      2                  0         11060.8         2016             1   \n",
       "      3                  0          1779.4         2016             4   \n",
       "      4                  0          1614.9         2016             3   \n",
       "\n",
       "         pickup_weekday  pickup_day  pickup_hour  pickup_minute  \\\n",
       "train 0               0          14           17             24   \n",
       "      1               6          12            0             43   \n",
       "      2               1          19           11             35   \n",
       "      3               2           6           19             32   \n",
       "      4               5          26           13             30   \n",
       "\n",
       "         haversine_distance  speed_mean  \n",
       "train 0            1.948753    0.440043  \n",
       "      1            2.130839    0.362564  \n",
       "      2            3.356930    0.485607  \n",
       "      3            0.475220    0.416281  \n",
       "      4            0.328255    3.398990  "
      ]
     },
     "execution_count": 153,
     "metadata": {},
     "output_type": "execute_result"
    }
   ],
   "source": [
    "col_mean = group_col + '_' + 'mean'\n",
    "data = combine_data_tf\n",
    "data[col_mean] = data[col].map(data_dict)\n",
    "data[:5]"
   ]
  },
  {
   "cell_type": "markdown",
   "metadata": {},
   "source": [
    "### Average distance"
   ]
  },
  {
   "cell_type": "code",
   "execution_count": 155,
   "metadata": {
    "ExecuteTime": {
     "end_time": "2017-07-26T13:25:00.446040Z",
     "start_time": "2017-07-26T13:25:00.345789Z"
    },
    "collapsed": true
   },
   "outputs": [],
   "source": [
    "col = 'pickup_hour'\n",
    "group_col ='total_distance'\n",
    "data = data[[col, group_col]]\n",
    "#remove total_distance=0\n",
    "data = data[data[group_col] > 0]"
   ]
  },
  {
   "cell_type": "code",
   "execution_count": 156,
   "metadata": {
    "ExecuteTime": {
     "end_time": "2017-07-26T13:25:03.049332Z",
     "start_time": "2017-07-26T13:25:02.964689Z"
    }
   },
   "outputs": [
    {
     "data": {
      "text/plain": [
       "{0: 5383.3996351040087,\n",
       " 1: 5275.5379135602288,\n",
       " 2: 5182.0322969033023,\n",
       " 3: 5462.4344536681201,\n",
       " 4: 6525.3568795904675,\n",
       " 5: 7204.6002526906559,\n",
       " 6: 5568.933483808084,\n",
       " 7: 4575.9454895913832,\n",
       " 8: 4105.5564959269432,\n",
       " 9: 3988.5147750252063,\n",
       " 10: 4085.083101528408,\n",
       " 11: 4167.0780668724174,\n",
       " 12: 4154.5201776600234,\n",
       " 13: 4422.1019511522927,\n",
       " 14: 4604.9938691546631,\n",
       " 15: 4605.5886859174316,\n",
       " 16: 4712.9750755929444,\n",
       " 17: 4475.7757492587725,\n",
       " 18: 4162.931452394836,\n",
       " 19: 4220.2841153855361,\n",
       " 20: 4639.4629796707068,\n",
       " 21: 4867.6248715073189,\n",
       " 22: 5067.0872147911441,\n",
       " 23: 5376.9535967598877}"
      ]
     },
     "execution_count": 156,
     "metadata": {},
     "output_type": "execute_result"
    }
   ],
   "source": [
    "data_st = data.groupby(col,as_index=False).mean().sort_values(col).reset_index()\n",
    "data_sr = pd.Series(data_st[group_col], index=data_st[col])\n",
    "data_dict = data_sr.to_dict()\n",
    "data_dict"
   ]
  },
  {
   "cell_type": "code",
   "execution_count": 157,
   "metadata": {
    "ExecuteTime": {
     "end_time": "2017-07-26T13:25:15.237141Z",
     "start_time": "2017-07-26T13:25:15.037023Z"
    }
   },
   "outputs": [
    {
     "data": {
      "text/html": [
       "<div>\n",
       "<style>\n",
       "    .dataframe thead tr:only-child th {\n",
       "        text-align: right;\n",
       "    }\n",
       "\n",
       "    .dataframe thead th {\n",
       "        text-align: left;\n",
       "    }\n",
       "\n",
       "    .dataframe tbody tr th {\n",
       "        vertical-align: top;\n",
       "    }\n",
       "</style>\n",
       "<table border=\"1\" class=\"dataframe\">\n",
       "  <thead>\n",
       "    <tr style=\"text-align: right;\">\n",
       "      <th></th>\n",
       "      <th></th>\n",
       "      <th>id</th>\n",
       "      <th>vendor_id</th>\n",
       "      <th>passenger_count</th>\n",
       "      <th>pickup_longitude</th>\n",
       "      <th>pickup_latitude</th>\n",
       "      <th>dropoff_longitude</th>\n",
       "      <th>dropoff_latitude</th>\n",
       "      <th>store_and_fwd_flag</th>\n",
       "      <th>total_distance</th>\n",
       "      <th>pickup_year</th>\n",
       "      <th>pickup_month</th>\n",
       "      <th>pickup_weekday</th>\n",
       "      <th>pickup_day</th>\n",
       "      <th>pickup_hour</th>\n",
       "      <th>pickup_minute</th>\n",
       "      <th>haversine_distance</th>\n",
       "      <th>speed_mean</th>\n",
       "      <th>total_distance_mean</th>\n",
       "    </tr>\n",
       "  </thead>\n",
       "  <tbody>\n",
       "    <tr>\n",
       "      <th rowspan=\"5\" valign=\"top\">train</th>\n",
       "      <th>0</th>\n",
       "      <td>id2875421</td>\n",
       "      <td>2</td>\n",
       "      <td>1</td>\n",
       "      <td>-73.982155</td>\n",
       "      <td>40.767937</td>\n",
       "      <td>-73.964630</td>\n",
       "      <td>40.765602</td>\n",
       "      <td>0</td>\n",
       "      <td>2009.1</td>\n",
       "      <td>2016</td>\n",
       "      <td>3</td>\n",
       "      <td>0</td>\n",
       "      <td>14</td>\n",
       "      <td>17</td>\n",
       "      <td>24</td>\n",
       "      <td>1.948753</td>\n",
       "      <td>0.440043</td>\n",
       "      <td>4475.775749</td>\n",
       "    </tr>\n",
       "    <tr>\n",
       "      <th>1</th>\n",
       "      <td>id2377394</td>\n",
       "      <td>1</td>\n",
       "      <td>1</td>\n",
       "      <td>-73.980415</td>\n",
       "      <td>40.738564</td>\n",
       "      <td>-73.999481</td>\n",
       "      <td>40.731152</td>\n",
       "      <td>0</td>\n",
       "      <td>2513.2</td>\n",
       "      <td>2016</td>\n",
       "      <td>6</td>\n",
       "      <td>6</td>\n",
       "      <td>12</td>\n",
       "      <td>0</td>\n",
       "      <td>43</td>\n",
       "      <td>2.130839</td>\n",
       "      <td>0.362564</td>\n",
       "      <td>5383.399635</td>\n",
       "    </tr>\n",
       "    <tr>\n",
       "      <th>2</th>\n",
       "      <td>id3858529</td>\n",
       "      <td>2</td>\n",
       "      <td>1</td>\n",
       "      <td>-73.979027</td>\n",
       "      <td>40.763939</td>\n",
       "      <td>-74.005333</td>\n",
       "      <td>40.710087</td>\n",
       "      <td>0</td>\n",
       "      <td>11060.8</td>\n",
       "      <td>2016</td>\n",
       "      <td>1</td>\n",
       "      <td>1</td>\n",
       "      <td>19</td>\n",
       "      <td>11</td>\n",
       "      <td>35</td>\n",
       "      <td>3.356930</td>\n",
       "      <td>0.485607</td>\n",
       "      <td>4167.078067</td>\n",
       "    </tr>\n",
       "    <tr>\n",
       "      <th>3</th>\n",
       "      <td>id3504673</td>\n",
       "      <td>2</td>\n",
       "      <td>1</td>\n",
       "      <td>-74.010040</td>\n",
       "      <td>40.719971</td>\n",
       "      <td>-74.012268</td>\n",
       "      <td>40.706718</td>\n",
       "      <td>0</td>\n",
       "      <td>1779.4</td>\n",
       "      <td>2016</td>\n",
       "      <td>4</td>\n",
       "      <td>2</td>\n",
       "      <td>6</td>\n",
       "      <td>19</td>\n",
       "      <td>32</td>\n",
       "      <td>0.475220</td>\n",
       "      <td>0.416281</td>\n",
       "      <td>4220.284115</td>\n",
       "    </tr>\n",
       "    <tr>\n",
       "      <th>4</th>\n",
       "      <td>id2181028</td>\n",
       "      <td>2</td>\n",
       "      <td>1</td>\n",
       "      <td>-73.973053</td>\n",
       "      <td>40.793209</td>\n",
       "      <td>-73.972923</td>\n",
       "      <td>40.782520</td>\n",
       "      <td>0</td>\n",
       "      <td>1614.9</td>\n",
       "      <td>2016</td>\n",
       "      <td>3</td>\n",
       "      <td>5</td>\n",
       "      <td>26</td>\n",
       "      <td>13</td>\n",
       "      <td>30</td>\n",
       "      <td>0.328255</td>\n",
       "      <td>3.398990</td>\n",
       "      <td>4422.101951</td>\n",
       "    </tr>\n",
       "  </tbody>\n",
       "</table>\n",
       "</div>"
      ],
      "text/plain": [
       "                id  vendor_id  passenger_count  pickup_longitude  \\\n",
       "train 0  id2875421          2                1        -73.982155   \n",
       "      1  id2377394          1                1        -73.980415   \n",
       "      2  id3858529          2                1        -73.979027   \n",
       "      3  id3504673          2                1        -74.010040   \n",
       "      4  id2181028          2                1        -73.973053   \n",
       "\n",
       "         pickup_latitude  dropoff_longitude  dropoff_latitude  \\\n",
       "train 0        40.767937         -73.964630         40.765602   \n",
       "      1        40.738564         -73.999481         40.731152   \n",
       "      2        40.763939         -74.005333         40.710087   \n",
       "      3        40.719971         -74.012268         40.706718   \n",
       "      4        40.793209         -73.972923         40.782520   \n",
       "\n",
       "        store_and_fwd_flag  total_distance  pickup_year  pickup_month  \\\n",
       "train 0                  0          2009.1         2016             3   \n",
       "      1                  0          2513.2         2016             6   \n",
       "      2                  0         11060.8         2016             1   \n",
       "      3                  0          1779.4         2016             4   \n",
       "      4                  0          1614.9         2016             3   \n",
       "\n",
       "         pickup_weekday  pickup_day  pickup_hour  pickup_minute  \\\n",
       "train 0               0          14           17             24   \n",
       "      1               6          12            0             43   \n",
       "      2               1          19           11             35   \n",
       "      3               2           6           19             32   \n",
       "      4               5          26           13             30   \n",
       "\n",
       "         haversine_distance  speed_mean  total_distance_mean  \n",
       "train 0            1.948753    0.440043          4475.775749  \n",
       "      1            2.130839    0.362564          5383.399635  \n",
       "      2            3.356930    0.485607          4167.078067  \n",
       "      3            0.475220    0.416281          4220.284115  \n",
       "      4            0.328255    3.398990          4422.101951  "
      ]
     },
     "execution_count": 157,
     "metadata": {},
     "output_type": "execute_result"
    }
   ],
   "source": [
    "col_mean = group_col + '_' + 'mean'\n",
    "data = combine_data_tf\n",
    "data[col_mean] = data[col].map(data_dict)\n",
    "data[:5]"
   ]
  },
  {
   "cell_type": "markdown",
   "metadata": {},
   "source": [
    "## Clearning data"
   ]
  },
  {
   "cell_type": "markdown",
   "metadata": {},
   "source": [
    "### Split train_set and eval_set"
   ]
  },
  {
   "cell_type": "code",
   "execution_count": 159,
   "metadata": {
    "ExecuteTime": {
     "end_time": "2017-07-26T13:26:51.327044Z",
     "start_time": "2017-07-26T13:26:51.048373Z"
    }
   },
   "outputs": [
    {
     "data": {
      "text/html": [
       "<div>\n",
       "<style>\n",
       "    .dataframe thead tr:only-child th {\n",
       "        text-align: right;\n",
       "    }\n",
       "\n",
       "    .dataframe thead th {\n",
       "        text-align: left;\n",
       "    }\n",
       "\n",
       "    .dataframe tbody tr th {\n",
       "        vertical-align: top;\n",
       "    }\n",
       "</style>\n",
       "<table border=\"1\" class=\"dataframe\">\n",
       "  <thead>\n",
       "    <tr style=\"text-align: right;\">\n",
       "      <th></th>\n",
       "      <th>id</th>\n",
       "      <th>vendor_id</th>\n",
       "      <th>passenger_count</th>\n",
       "      <th>pickup_longitude</th>\n",
       "      <th>pickup_latitude</th>\n",
       "      <th>dropoff_longitude</th>\n",
       "      <th>dropoff_latitude</th>\n",
       "      <th>store_and_fwd_flag</th>\n",
       "      <th>total_distance</th>\n",
       "      <th>pickup_year</th>\n",
       "      <th>pickup_month</th>\n",
       "      <th>pickup_weekday</th>\n",
       "      <th>pickup_day</th>\n",
       "      <th>pickup_hour</th>\n",
       "      <th>pickup_minute</th>\n",
       "      <th>haversine_distance</th>\n",
       "      <th>speed_mean</th>\n",
       "      <th>total_distance_mean</th>\n",
       "      <th>trip_duration</th>\n",
       "    </tr>\n",
       "  </thead>\n",
       "  <tbody>\n",
       "    <tr>\n",
       "      <th>0</th>\n",
       "      <td>id2875421</td>\n",
       "      <td>2</td>\n",
       "      <td>1</td>\n",
       "      <td>-73.982155</td>\n",
       "      <td>40.767937</td>\n",
       "      <td>-73.964630</td>\n",
       "      <td>40.765602</td>\n",
       "      <td>0</td>\n",
       "      <td>2009.1</td>\n",
       "      <td>2016</td>\n",
       "      <td>3</td>\n",
       "      <td>0</td>\n",
       "      <td>14</td>\n",
       "      <td>17</td>\n",
       "      <td>24</td>\n",
       "      <td>1.948753</td>\n",
       "      <td>0.440043</td>\n",
       "      <td>4475.775749</td>\n",
       "      <td>455</td>\n",
       "    </tr>\n",
       "    <tr>\n",
       "      <th>1</th>\n",
       "      <td>id2377394</td>\n",
       "      <td>1</td>\n",
       "      <td>1</td>\n",
       "      <td>-73.980415</td>\n",
       "      <td>40.738564</td>\n",
       "      <td>-73.999481</td>\n",
       "      <td>40.731152</td>\n",
       "      <td>0</td>\n",
       "      <td>2513.2</td>\n",
       "      <td>2016</td>\n",
       "      <td>6</td>\n",
       "      <td>6</td>\n",
       "      <td>12</td>\n",
       "      <td>0</td>\n",
       "      <td>43</td>\n",
       "      <td>2.130839</td>\n",
       "      <td>0.362564</td>\n",
       "      <td>5383.399635</td>\n",
       "      <td>663</td>\n",
       "    </tr>\n",
       "    <tr>\n",
       "      <th>2</th>\n",
       "      <td>id3858529</td>\n",
       "      <td>2</td>\n",
       "      <td>1</td>\n",
       "      <td>-73.979027</td>\n",
       "      <td>40.763939</td>\n",
       "      <td>-74.005333</td>\n",
       "      <td>40.710087</td>\n",
       "      <td>0</td>\n",
       "      <td>11060.8</td>\n",
       "      <td>2016</td>\n",
       "      <td>1</td>\n",
       "      <td>1</td>\n",
       "      <td>19</td>\n",
       "      <td>11</td>\n",
       "      <td>35</td>\n",
       "      <td>3.356930</td>\n",
       "      <td>0.485607</td>\n",
       "      <td>4167.078067</td>\n",
       "      <td>2124</td>\n",
       "    </tr>\n",
       "    <tr>\n",
       "      <th>3</th>\n",
       "      <td>id3504673</td>\n",
       "      <td>2</td>\n",
       "      <td>1</td>\n",
       "      <td>-74.010040</td>\n",
       "      <td>40.719971</td>\n",
       "      <td>-74.012268</td>\n",
       "      <td>40.706718</td>\n",
       "      <td>0</td>\n",
       "      <td>1779.4</td>\n",
       "      <td>2016</td>\n",
       "      <td>4</td>\n",
       "      <td>2</td>\n",
       "      <td>6</td>\n",
       "      <td>19</td>\n",
       "      <td>32</td>\n",
       "      <td>0.475220</td>\n",
       "      <td>0.416281</td>\n",
       "      <td>4220.284115</td>\n",
       "      <td>429</td>\n",
       "    </tr>\n",
       "    <tr>\n",
       "      <th>4</th>\n",
       "      <td>id2181028</td>\n",
       "      <td>2</td>\n",
       "      <td>1</td>\n",
       "      <td>-73.973053</td>\n",
       "      <td>40.793209</td>\n",
       "      <td>-73.972923</td>\n",
       "      <td>40.782520</td>\n",
       "      <td>0</td>\n",
       "      <td>1614.9</td>\n",
       "      <td>2016</td>\n",
       "      <td>3</td>\n",
       "      <td>5</td>\n",
       "      <td>26</td>\n",
       "      <td>13</td>\n",
       "      <td>30</td>\n",
       "      <td>0.328255</td>\n",
       "      <td>3.398990</td>\n",
       "      <td>4422.101951</td>\n",
       "      <td>435</td>\n",
       "    </tr>\n",
       "  </tbody>\n",
       "</table>\n",
       "</div>"
      ],
      "text/plain": [
       "          id  vendor_id  passenger_count  pickup_longitude  pickup_latitude  \\\n",
       "0  id2875421          2                1        -73.982155        40.767937   \n",
       "1  id2377394          1                1        -73.980415        40.738564   \n",
       "2  id3858529          2                1        -73.979027        40.763939   \n",
       "3  id3504673          2                1        -74.010040        40.719971   \n",
       "4  id2181028          2                1        -73.973053        40.793209   \n",
       "\n",
       "   dropoff_longitude  dropoff_latitude store_and_fwd_flag  total_distance  \\\n",
       "0         -73.964630         40.765602                  0          2009.1   \n",
       "1         -73.999481         40.731152                  0          2513.2   \n",
       "2         -74.005333         40.710087                  0         11060.8   \n",
       "3         -74.012268         40.706718                  0          1779.4   \n",
       "4         -73.972923         40.782520                  0          1614.9   \n",
       "\n",
       "   pickup_year  pickup_month  pickup_weekday  pickup_day  pickup_hour  \\\n",
       "0         2016             3               0          14           17   \n",
       "1         2016             6               6          12            0   \n",
       "2         2016             1               1          19           11   \n",
       "3         2016             4               2           6           19   \n",
       "4         2016             3               5          26           13   \n",
       "\n",
       "   pickup_minute  haversine_distance  speed_mean  total_distance_mean  \\\n",
       "0             24            1.948753    0.440043          4475.775749   \n",
       "1             43            2.130839    0.362564          5383.399635   \n",
       "2             35            3.356930    0.485607          4167.078067   \n",
       "3             32            0.475220    0.416281          4220.284115   \n",
       "4             30            0.328255    3.398990          4422.101951   \n",
       "\n",
       "   trip_duration  \n",
       "0            455  \n",
       "1            663  \n",
       "2           2124  \n",
       "3            429  \n",
       "4            435  "
      ]
     },
     "execution_count": 159,
     "metadata": {},
     "output_type": "execute_result"
    }
   ],
   "source": [
    "data = combine_data_tf\n",
    "train_set = data.loc['train']\n",
    "eval_set = data.loc['eval']\n",
    "data = train_set\n",
    "data[label] = target\n",
    "target_log = np.log(target)\n",
    "data[:5]"
   ]
  },
  {
   "cell_type": "markdown",
   "metadata": {},
   "source": [
    "### Trip duration outliner"
   ]
  },
  {
   "cell_type": "markdown",
   "metadata": {},
   "source": [
    "####  Search for outliner"
   ]
  },
  {
   "cell_type": "code",
   "execution_count": 138,
   "metadata": {
    "ExecuteTime": {
     "end_time": "2017-07-23T02:17:34.919355Z",
     "start_time": "2017-07-23T02:17:22.610188Z"
    }
   },
   "outputs": [
    {
     "data": {
      "text/plain": [
       "<matplotlib.collections.PathCollection at 0x1fd8af225f8>"
      ]
     },
     "execution_count": 138,
     "metadata": {},
     "output_type": "execute_result"
    },
    {
     "data": {
      "image/png": "[encoded data removed]",
      "text/plain": [
       "<matplotlib.figure.Figure at 0x1fd8a715b38>"
      ]
     },
     "metadata": {},
     "output_type": "display_data"
    }
   ],
   "source": [
    "plt.scatter(data.index, data[label])"
   ]
  },
  {
   "cell_type": "markdown",
   "metadata": {},
   "source": [
    " - Note: Outliners are trip_duration> 1800000"
   ]
  },
  {
   "cell_type": "code",
   "execution_count": 23,
   "metadata": {
    "ExecuteTime": {
     "end_time": "2017-07-26T08:42:46.260152Z",
     "start_time": "2017-07-26T08:42:46.113001Z"
    }
   },
   "outputs": [
    {
     "data": {
      "text/html": [
       "<div>\n",
       "<style>\n",
       "    .dataframe thead tr:only-child th {\n",
       "        text-align: right;\n",
       "    }\n",
       "\n",
       "    .dataframe thead th {\n",
       "        text-align: left;\n",
       "    }\n",
       "\n",
       "    .dataframe tbody tr th {\n",
       "        vertical-align: top;\n",
       "    }\n",
       "</style>\n",
       "<table border=\"1\" class=\"dataframe\">\n",
       "  <thead>\n",
       "    <tr style=\"text-align: right;\">\n",
       "      <th></th>\n",
       "      <th>id</th>\n",
       "      <th>vendor_id</th>\n",
       "      <th>passenger_count</th>\n",
       "      <th>pickup_longitude</th>\n",
       "      <th>pickup_latitude</th>\n",
       "      <th>dropoff_longitude</th>\n",
       "      <th>dropoff_latitude</th>\n",
       "      <th>store_and_fwd_flag</th>\n",
       "      <th>total_distance</th>\n",
       "      <th>pickup_year</th>\n",
       "      <th>pickup_month</th>\n",
       "      <th>pickup_weekday</th>\n",
       "      <th>pickup_day</th>\n",
       "      <th>pickup_hour</th>\n",
       "      <th>pickup_minute</th>\n",
       "      <th>trip_duration</th>\n",
       "    </tr>\n",
       "  </thead>\n",
       "  <tbody>\n",
       "    <tr>\n",
       "      <th>355003</th>\n",
       "      <td>id1864733</td>\n",
       "      <td>1</td>\n",
       "      <td>1</td>\n",
       "      <td>-73.789650</td>\n",
       "      <td>40.643559</td>\n",
       "      <td>-73.956810</td>\n",
       "      <td>40.773087</td>\n",
       "      <td>0</td>\n",
       "      <td>29232.6</td>\n",
       "      <td>2016</td>\n",
       "      <td>1</td>\n",
       "      <td>1</td>\n",
       "      <td>5</td>\n",
       "      <td>0</td>\n",
       "      <td>19</td>\n",
       "      <td>1939736</td>\n",
       "    </tr>\n",
       "    <tr>\n",
       "      <th>680594</th>\n",
       "      <td>id0369307</td>\n",
       "      <td>1</td>\n",
       "      <td>2</td>\n",
       "      <td>-73.921677</td>\n",
       "      <td>40.735252</td>\n",
       "      <td>-73.984749</td>\n",
       "      <td>40.759979</td>\n",
       "      <td>0</td>\n",
       "      <td>7503.0</td>\n",
       "      <td>2016</td>\n",
       "      <td>2</td>\n",
       "      <td>5</td>\n",
       "      <td>13</td>\n",
       "      <td>22</td>\n",
       "      <td>38</td>\n",
       "      <td>2049578</td>\n",
       "    </tr>\n",
       "    <tr>\n",
       "      <th>924150</th>\n",
       "      <td>id1325766</td>\n",
       "      <td>1</td>\n",
       "      <td>1</td>\n",
       "      <td>-73.983788</td>\n",
       "      <td>40.742325</td>\n",
       "      <td>-73.985489</td>\n",
       "      <td>40.727676</td>\n",
       "      <td>0</td>\n",
       "      <td>2318.9</td>\n",
       "      <td>2016</td>\n",
       "      <td>1</td>\n",
       "      <td>1</td>\n",
       "      <td>5</td>\n",
       "      <td>6</td>\n",
       "      <td>14</td>\n",
       "      <td>2227612</td>\n",
       "    </tr>\n",
       "    <tr>\n",
       "      <th>978383</th>\n",
       "      <td>id0053347</td>\n",
       "      <td>1</td>\n",
       "      <td>1</td>\n",
       "      <td>-73.783905</td>\n",
       "      <td>40.648632</td>\n",
       "      <td>-73.978271</td>\n",
       "      <td>40.750202</td>\n",
       "      <td>0</td>\n",
       "      <td>27223.8</td>\n",
       "      <td>2016</td>\n",
       "      <td>2</td>\n",
       "      <td>5</td>\n",
       "      <td>13</td>\n",
       "      <td>22</td>\n",
       "      <td>46</td>\n",
       "      <td>3526282</td>\n",
       "    </tr>\n",
       "  </tbody>\n",
       "</table>\n",
       "</div>"
      ],
      "text/plain": [
       "               id  vendor_id  passenger_count  pickup_longitude  \\\n",
       "355003  id1864733          1                1        -73.789650   \n",
       "680594  id0369307          1                2        -73.921677   \n",
       "924150  id1325766          1                1        -73.983788   \n",
       "978383  id0053347          1                1        -73.783905   \n",
       "\n",
       "        pickup_latitude  dropoff_longitude  dropoff_latitude  \\\n",
       "355003        40.643559         -73.956810         40.773087   \n",
       "680594        40.735252         -73.984749         40.759979   \n",
       "924150        40.742325         -73.985489         40.727676   \n",
       "978383        40.648632         -73.978271         40.750202   \n",
       "\n",
       "       store_and_fwd_flag  total_distance  pickup_year  pickup_month  \\\n",
       "355003                  0         29232.6         2016             1   \n",
       "680594                  0          7503.0         2016             2   \n",
       "924150                  0          2318.9         2016             1   \n",
       "978383                  0         27223.8         2016             2   \n",
       "\n",
       "        pickup_weekday  pickup_day  pickup_hour  pickup_minute  trip_duration  \n",
       "355003               1           5            0             19        1939736  \n",
       "680594               5          13           22             38        2049578  \n",
       "924150               1           5            6             14        2227612  \n",
       "978383               5          13           22             46        3526282  "
      ]
     },
     "execution_count": 23,
     "metadata": {},
     "output_type": "execute_result"
    }
   ],
   "source": [
    "data = train_set\n",
    "data_ol = data[data[label] > 1800000]\n",
    "data_ol[-5:]"
   ]
  },
  {
   "cell_type": "markdown",
   "metadata": {},
   "source": [
    "#### Drop trip-duration outliner"
   ]
  },
  {
   "cell_type": "code",
   "execution_count": 160,
   "metadata": {
    "ExecuteTime": {
     "end_time": "2017-07-26T13:27:11.346077Z",
     "start_time": "2017-07-26T13:26:59.171594Z"
    }
   },
   "outputs": [
    {
     "data": {
      "text/plain": [
       "<matplotlib.collections.PathCollection at 0x22381a76dd8>"
      ]
     },
     "execution_count": 160,
     "metadata": {},
     "output_type": "execute_result"
    },
    {
     "data": {
      "image/png": "[encoded data removed]",
      "text/plain": [
       "<matplotlib.figure.Figure at 0x22329bc53c8>"
      ]
     },
     "metadata": {},
     "output_type": "display_data"
    }
   ],
   "source": [
    "data_ol = data[data[label] < 1800000]\n",
    "plt.scatter(data_ol.index, data_ol[label])"
   ]
  },
  {
   "cell_type": "code",
   "execution_count": 162,
   "metadata": {
    "ExecuteTime": {
     "end_time": "2017-07-26T13:27:15.801589Z",
     "start_time": "2017-07-26T13:27:15.770336Z"
    },
    "collapsed": true
   },
   "outputs": [],
   "source": [
    "train_set = data_ol\n",
    "data = train_set\n",
    "# use np.log to balance distribution\n",
    "target_log = np.log(train_set[label].values)"
   ]
  },
  {
   "cell_type": "code",
   "execution_count": 163,
   "metadata": {
    "ExecuteTime": {
     "end_time": "2017-07-26T13:27:19.772730Z",
     "start_time": "2017-07-26T13:27:19.619093Z"
    }
   },
   "outputs": [
    {
     "data": {
      "text/plain": [
       "count    1.458640e+06\n",
       "mean     9.528153e+02\n",
       "std      3.171322e+03\n",
       "min      1.000000e+00\n",
       "25%      3.970000e+02\n",
       "50%      6.620000e+02\n",
       "75%      1.075000e+03\n",
       "max      8.639200e+04\n",
       "Name: trip_duration, dtype: float64"
      ]
     },
     "execution_count": 163,
     "metadata": {},
     "output_type": "execute_result"
    }
   ],
   "source": [
    "train_set[label].describe()"
   ]
  },
  {
   "cell_type": "markdown",
   "metadata": {},
   "source": [
    "### Trip duration distribution"
   ]
  },
  {
   "cell_type": "code",
   "execution_count": 149,
   "metadata": {
    "ExecuteTime": {
     "end_time": "2017-07-23T02:30:40.439930Z",
     "start_time": "2017-07-23T02:30:20.575752Z"
    },
    "scrolled": true
   },
   "outputs": [
    {
     "data": {
      "text/plain": [
       "<matplotlib.text.Text at 0x1fd81ecdc88>"
      ]
     },
     "execution_count": 149,
     "metadata": {},
     "output_type": "execute_result"
    },
    {
     "data": {
      "image/png": "[encoded data removed]",
      "text/plain": [
       "<matplotlib.figure.Figure at 0x1fd81a5af28>"
      ]
     },
     "metadata": {},
     "output_type": "display_data"
    }
   ],
   "source": [
    "plt.figure(figsize=(10,5))\n",
    "plt.subplot(1,2,1)\n",
    "sns.distplot(data[label], bins=50)\n",
    "plt.title('Original Data')\n",
    "plt.xlabel(label)\n",
    "plt.subplot(1,2,2)\n",
    "sns.distplot(target_log, bins=50)\n",
    "plt.title('Natural Log of Data')\n",
    "plt.xlabel('Natural Log of ' + label)\n"
   ]
  },
  {
   "cell_type": "markdown",
   "metadata": {},
   "source": [
    "### total_distance outliner"
   ]
  },
  {
   "cell_type": "code",
   "execution_count": 164,
   "metadata": {
    "ExecuteTime": {
     "end_time": "2017-07-26T13:27:43.077937Z",
     "start_time": "2017-07-26T13:27:31.360111Z"
    }
   },
   "outputs": [
    {
     "data": {
      "text/plain": [
       "<matplotlib.collections.PathCollection at 0x22308e5e128>"
      ]
     },
     "execution_count": 164,
     "metadata": {},
     "output_type": "execute_result"
    },
    {
     "data": {
      "image/png": "[encoded data removed]",
      "text/plain": [
       "<matplotlib.figure.Figure at 0x224497cd908>"
      ]
     },
     "metadata": {},
     "output_type": "display_data"
    }
   ],
   "source": [
    "col ='total_distance'\n",
    "plt.scatter(data.index, data[col])"
   ]
  },
  {
   "cell_type": "code",
   "execution_count": 167,
   "metadata": {
    "ExecuteTime": {
     "end_time": "2017-07-26T13:30:20.789342Z",
     "start_time": "2017-07-26T13:30:20.620073Z"
    }
   },
   "outputs": [
    {
     "data": {
      "text/plain": [
       "count    1.458639e+06\n",
       "mean     4.626352e+03\n",
       "std      5.303813e+03\n",
       "min      0.000000e+00\n",
       "25%      1.666100e+03\n",
       "50%      2.755100e+03\n",
       "75%      5.113700e+03\n",
       "max      9.420420e+04\n",
       "Name: total_distance, dtype: float64"
      ]
     },
     "execution_count": 167,
     "metadata": {},
     "output_type": "execute_result"
    }
   ],
   "source": [
    "data[col].describe()"
   ]
  },
  {
   "cell_type": "code",
   "execution_count": 168,
   "metadata": {
    "ExecuteTime": {
     "end_time": "2017-07-26T13:30:48.807107Z",
     "start_time": "2017-07-26T13:30:48.637820Z"
    },
    "collapsed": true
   },
   "outputs": [],
   "source": [
    "data = data[data[col]>0]"
   ]
  },
  {
   "cell_type": "code",
   "execution_count": 169,
   "metadata": {
    "ExecuteTime": {
     "end_time": "2017-07-26T13:31:01.879029Z",
     "start_time": "2017-07-26T13:30:50.742401Z"
    },
    "scrolled": true
   },
   "outputs": [
    {
     "data": {
      "text/plain": [
       "<matplotlib.text.Text at 0x22308fdfdd8>"
      ]
     },
     "execution_count": 169,
     "metadata": {},
     "output_type": "execute_result"
    },
    {
     "data": {
      "image/png": "[encoded data removed]",
      "text/plain": [
       "<matplotlib.figure.Figure at 0x22308fc00f0>"
      ]
     },
     "metadata": {},
     "output_type": "display_data"
    }
   ],
   "source": [
    "plt.figure(figsize=(10,5))\n",
    "plt.subplot(1,2,1)\n",
    "sns.distplot(data[col], bins=50)\n",
    "plt.title('Distribution')\n",
    "plt.xlabel(col)"
   ]
  },
  {
   "cell_type": "markdown",
   "metadata": {},
   "source": [
    "## Feature correlation"
   ]
  },
  {
   "cell_type": "code",
   "execution_count": 170,
   "metadata": {
    "ExecuteTime": {
     "end_time": "2017-07-26T13:32:38.083239Z",
     "start_time": "2017-07-26T13:32:36.854211Z"
    }
   },
   "outputs": [
    {
     "data": {
      "text/plain": [
       "pickup_latitude       -0.048230\n",
       "dropoff_latitude      -0.036731\n",
       "total_distance_mean   -0.008091\n",
       "pickup_minute         -0.004121\n",
       "pickup_weekday        -0.001438\n",
       "speed_mean             0.002194\n",
       "pickup_day             0.002414\n",
       "pickup_hour            0.005962\n",
       "pickup_month           0.013359\n",
       "passenger_count        0.014683\n",
       "vendor_id              0.035725\n",
       "dropoff_longitude      0.045624\n",
       "pickup_longitude       0.075223\n",
       "haversine_distance     0.145599\n",
       "total_distance         0.166232\n",
       "trip_duration          1.000000\n",
       "pickup_year                 NaN\n",
       "Name: trip_duration, dtype: float64"
      ]
     },
     "execution_count": 170,
     "metadata": {},
     "output_type": "execute_result"
    }
   ],
   "source": [
    "correlation = data.corr()[label].sort_values()[-20:]\n",
    "correlation"
   ]
  },
  {
   "cell_type": "code",
   "execution_count": 171,
   "metadata": {
    "ExecuteTime": {
     "end_time": "2017-07-26T13:32:45.225095Z",
     "start_time": "2017-07-26T13:32:42.419059Z"
    }
   },
   "outputs": [
    {
     "name": "stdout",
     "output_type": "stream",
     "text": [
      "['trip_duration' 'total_distance' 'haversine_distance' 'pickup_longitude'\n",
      " 'dropoff_longitude' 'vendor_id' 'passenger_count' 'pickup_month'\n",
      " 'pickup_hour' 'pickup_day' 'speed_mean' 'pickup_weekday' 'pickup_minute'\n",
      " 'total_distance_mean' 'dropoff_latitude']\n"
     ]
    },
    {
     "data": {
      "image/png": "[encoded data removed]",
      "text/plain": [
       "<matplotlib.figure.Figure at 0x2230e471f98>"
      ]
     },
     "metadata": {},
     "output_type": "display_data"
    }
   ],
   "source": [
    "#correlation matrix\n",
    "corrmat = data.corr()\n",
    "k = 15 #number of variables for heatmap\n",
    "cols = corrmat.nlargest(k, label)[label].index\n",
    "print(cols.values)\n",
    "cm = np.corrcoef(data[cols].values.T)\n",
    "sns.set(font_scale=1.25)\n",
    "hm = sns.heatmap(cm, cbar=True, annot=True, square=True, fmt='.2f', annot_kws={'size': 10}, yticklabels=cols.values, xticklabels=cols.values)\n",
    "plt.show()"
   ]
  },
  {
   "cell_type": "code",
   "execution_count": 63,
   "metadata": {
    "ExecuteTime": {
     "end_time": "2017-07-26T08:53:05.229775Z",
     "start_time": "2017-07-26T08:53:04.328198Z"
    }
   },
   "outputs": [
    {
     "data": {
      "image/png": "[encoded data removed]",
      "text/plain": [
       "<matplotlib.figure.Figure at 0x22338104dd8>"
      ]
     },
     "metadata": {},
     "output_type": "display_data"
    }
   ],
   "source": [
    "# Correlation matrix of cols except label\n",
    "other_cols = np.setdiff1d(cols.values, label)\n",
    "cm = np.corrcoef(data[other_cols].values.T)\n",
    "sns.set(font_scale=1.25)\n",
    "hm = sns.heatmap(cm, cbar=True, annot=True, square=True, fmt='.2f', annot_kws={'size': 10}, yticklabels=other_cols, xticklabels=other_cols)\n",
    "plt.show()"
   ]
  },
  {
   "cell_type": "markdown",
   "metadata": {},
   "source": [
    "# Train model"
   ]
  },
  {
   "cell_type": "code",
   "execution_count": 172,
   "metadata": {
    "ExecuteTime": {
     "end_time": "2017-07-26T13:34:39.660794Z",
     "start_time": "2017-07-26T13:34:39.180828Z"
    }
   },
   "outputs": [
    {
     "name": "stdout",
     "output_type": "stream",
     "text": [
      "(1458640, 17)\n"
     ]
    },
    {
     "data": {
      "text/html": [
       "<div>\n",
       "<style>\n",
       "    .dataframe thead tr:only-child th {\n",
       "        text-align: right;\n",
       "    }\n",
       "\n",
       "    .dataframe thead th {\n",
       "        text-align: left;\n",
       "    }\n",
       "\n",
       "    .dataframe tbody tr th {\n",
       "        vertical-align: top;\n",
       "    }\n",
       "</style>\n",
       "<table border=\"1\" class=\"dataframe\">\n",
       "  <thead>\n",
       "    <tr style=\"text-align: right;\">\n",
       "      <th></th>\n",
       "      <th>vendor_id</th>\n",
       "      <th>passenger_count</th>\n",
       "      <th>pickup_longitude</th>\n",
       "      <th>pickup_latitude</th>\n",
       "      <th>dropoff_longitude</th>\n",
       "      <th>dropoff_latitude</th>\n",
       "      <th>store_and_fwd_flag</th>\n",
       "      <th>total_distance</th>\n",
       "      <th>pickup_year</th>\n",
       "      <th>pickup_month</th>\n",
       "      <th>pickup_weekday</th>\n",
       "      <th>pickup_day</th>\n",
       "      <th>pickup_hour</th>\n",
       "      <th>pickup_minute</th>\n",
       "      <th>haversine_distance</th>\n",
       "      <th>speed_mean</th>\n",
       "      <th>total_distance_mean</th>\n",
       "    </tr>\n",
       "  </thead>\n",
       "  <tbody>\n",
       "    <tr>\n",
       "      <th>0</th>\n",
       "      <td>2.0</td>\n",
       "      <td>1.0</td>\n",
       "      <td>-73.982155</td>\n",
       "      <td>40.767937</td>\n",
       "      <td>-73.964630</td>\n",
       "      <td>40.765602</td>\n",
       "      <td>0.0</td>\n",
       "      <td>2009.1</td>\n",
       "      <td>2016.0</td>\n",
       "      <td>3.0</td>\n",
       "      <td>0.0</td>\n",
       "      <td>14.0</td>\n",
       "      <td>17.0</td>\n",
       "      <td>24.0</td>\n",
       "      <td>1.948753</td>\n",
       "      <td>0.440043</td>\n",
       "      <td>4475.775749</td>\n",
       "    </tr>\n",
       "    <tr>\n",
       "      <th>1</th>\n",
       "      <td>1.0</td>\n",
       "      <td>1.0</td>\n",
       "      <td>-73.980415</td>\n",
       "      <td>40.738564</td>\n",
       "      <td>-73.999481</td>\n",
       "      <td>40.731152</td>\n",
       "      <td>0.0</td>\n",
       "      <td>2513.2</td>\n",
       "      <td>2016.0</td>\n",
       "      <td>6.0</td>\n",
       "      <td>6.0</td>\n",
       "      <td>12.0</td>\n",
       "      <td>0.0</td>\n",
       "      <td>43.0</td>\n",
       "      <td>2.130839</td>\n",
       "      <td>0.362564</td>\n",
       "      <td>5383.399635</td>\n",
       "    </tr>\n",
       "    <tr>\n",
       "      <th>2</th>\n",
       "      <td>2.0</td>\n",
       "      <td>1.0</td>\n",
       "      <td>-73.979027</td>\n",
       "      <td>40.763939</td>\n",
       "      <td>-74.005333</td>\n",
       "      <td>40.710087</td>\n",
       "      <td>0.0</td>\n",
       "      <td>11060.8</td>\n",
       "      <td>2016.0</td>\n",
       "      <td>1.0</td>\n",
       "      <td>1.0</td>\n",
       "      <td>19.0</td>\n",
       "      <td>11.0</td>\n",
       "      <td>35.0</td>\n",
       "      <td>3.356930</td>\n",
       "      <td>0.485607</td>\n",
       "      <td>4167.078067</td>\n",
       "    </tr>\n",
       "    <tr>\n",
       "      <th>3</th>\n",
       "      <td>2.0</td>\n",
       "      <td>1.0</td>\n",
       "      <td>-74.010040</td>\n",
       "      <td>40.719971</td>\n",
       "      <td>-74.012268</td>\n",
       "      <td>40.706718</td>\n",
       "      <td>0.0</td>\n",
       "      <td>1779.4</td>\n",
       "      <td>2016.0</td>\n",
       "      <td>4.0</td>\n",
       "      <td>2.0</td>\n",
       "      <td>6.0</td>\n",
       "      <td>19.0</td>\n",
       "      <td>32.0</td>\n",
       "      <td>0.475220</td>\n",
       "      <td>0.416281</td>\n",
       "      <td>4220.284115</td>\n",
       "    </tr>\n",
       "    <tr>\n",
       "      <th>4</th>\n",
       "      <td>2.0</td>\n",
       "      <td>1.0</td>\n",
       "      <td>-73.973053</td>\n",
       "      <td>40.793209</td>\n",
       "      <td>-73.972923</td>\n",
       "      <td>40.782520</td>\n",
       "      <td>0.0</td>\n",
       "      <td>1614.9</td>\n",
       "      <td>2016.0</td>\n",
       "      <td>3.0</td>\n",
       "      <td>5.0</td>\n",
       "      <td>26.0</td>\n",
       "      <td>13.0</td>\n",
       "      <td>30.0</td>\n",
       "      <td>0.328255</td>\n",
       "      <td>3.398990</td>\n",
       "      <td>4422.101951</td>\n",
       "    </tr>\n",
       "  </tbody>\n",
       "</table>\n",
       "</div>"
      ],
      "text/plain": [
       "   vendor_id  passenger_count  pickup_longitude  pickup_latitude  \\\n",
       "0        2.0              1.0        -73.982155        40.767937   \n",
       "1        1.0              1.0        -73.980415        40.738564   \n",
       "2        2.0              1.0        -73.979027        40.763939   \n",
       "3        2.0              1.0        -74.010040        40.719971   \n",
       "4        2.0              1.0        -73.973053        40.793209   \n",
       "\n",
       "   dropoff_longitude  dropoff_latitude  store_and_fwd_flag  total_distance  \\\n",
       "0         -73.964630         40.765602                 0.0          2009.1   \n",
       "1         -73.999481         40.731152                 0.0          2513.2   \n",
       "2         -74.005333         40.710087                 0.0         11060.8   \n",
       "3         -74.012268         40.706718                 0.0          1779.4   \n",
       "4         -73.972923         40.782520                 0.0          1614.9   \n",
       "\n",
       "   pickup_year  pickup_month  pickup_weekday  pickup_day  pickup_hour  \\\n",
       "0       2016.0           3.0             0.0        14.0         17.0   \n",
       "1       2016.0           6.0             6.0        12.0          0.0   \n",
       "2       2016.0           1.0             1.0        19.0         11.0   \n",
       "3       2016.0           4.0             2.0         6.0         19.0   \n",
       "4       2016.0           3.0             5.0        26.0         13.0   \n",
       "\n",
       "   pickup_minute  haversine_distance  speed_mean  total_distance_mean  \n",
       "0           24.0            1.948753    0.440043          4475.775749  \n",
       "1           43.0            2.130839    0.362564          5383.399635  \n",
       "2           35.0            3.356930    0.485607          4167.078067  \n",
       "3           32.0            0.475220    0.416281          4220.284115  \n",
       "4           30.0            0.328255    3.398990          4422.101951  "
      ]
     },
     "execution_count": 172,
     "metadata": {},
     "output_type": "execute_result"
    }
   ],
   "source": [
    "data = train_set.drop(['id', label], axis=1).astype(float)\n",
    "print(data.shape)\n",
    "data[:5]"
   ]
  },
  {
   "cell_type": "markdown",
   "metadata": {},
   "source": [
    "## Model definition"
   ]
  },
  {
   "cell_type": "code",
   "execution_count": 30,
   "metadata": {
    "ExecuteTime": {
     "end_time": "2017-07-26T08:45:26.566965Z",
     "start_time": "2017-07-26T08:45:26.535712Z"
    },
    "code_folding": [],
    "collapsed": true
   },
   "outputs": [],
   "source": [
    "# A function to calculate Root Mean Squared Logarithmic Error (RMSLE)\n",
    "# credit: https://www.kaggle.com/marknagelberg/rmsle-function\n",
    "\n",
    "\n",
    "def rmsle(y, y_pred, log=True):\n",
    "    assert len(y) == len(y_pred)\n",
    "    terms_to_sum = 0\n",
    "    if log:\n",
    "        terms_to_sum = [(math.log(math.fabs(y_pred[i]) + 1) -\n",
    "                         math.log(y[i] + 1)) ** 2.0 for i, pred in enumerate(y_pred)]\n",
    "    else:\n",
    "        terms_to_sum = [(math.fabs(y_pred[i]) - y[i]) **\n",
    "                        2.0 for i, pred in enumerate(y_pred)]\n",
    "    # for i, pred in enumerate(y_pred):\n",
    "    #    print(\"i:\", i, \" pred:\", y_pred[i])\n",
    "    #    print(math.log(y_pred[i] + 1))\n",
    "    #    print(math.log(y[i] + 1))\n",
    "    return (sum(terms_to_sum) * (1.0 / len(y))) ** 0.5"
   ]
  },
  {
   "cell_type": "code",
   "execution_count": 173,
   "metadata": {
    "ExecuteTime": {
     "end_time": "2017-07-26T13:34:51.803469Z",
     "start_time": "2017-07-26T13:34:51.271882Z"
    },
    "collapsed": true
   },
   "outputs": [],
   "source": [
    "#model = CatBoostRegressor(iterations=100, depth=5, thread_count=4, use_best_model=True)\n",
    "model = XGBRegressor(n_estimators=10000, max_depth=5,\n",
    "                     learning_rate=0.1, min_child_weight=1, n_jobs=-1)"
   ]
  },
  {
   "cell_type": "markdown",
   "metadata": {},
   "source": [
    "### Split train/test set"
   ]
  },
  {
   "cell_type": "code",
   "execution_count": 174,
   "metadata": {
    "ExecuteTime": {
     "end_time": "2017-07-26T13:34:54.122263Z",
     "start_time": "2017-07-26T13:34:53.668786Z"
    }
   },
   "outputs": [
    {
     "name": "stdout",
     "output_type": "stream",
     "text": [
      "X_train: (1239844, 17)  Y_train: (1239844,)  X_test: (218796, 17)  Y_test: (218796,)\n"
     ]
    },
    {
     "data": {
      "text/html": [
       "<div>\n",
       "<style>\n",
       "    .dataframe thead tr:only-child th {\n",
       "        text-align: right;\n",
       "    }\n",
       "\n",
       "    .dataframe thead th {\n",
       "        text-align: left;\n",
       "    }\n",
       "\n",
       "    .dataframe tbody tr th {\n",
       "        vertical-align: top;\n",
       "    }\n",
       "</style>\n",
       "<table border=\"1\" class=\"dataframe\">\n",
       "  <thead>\n",
       "    <tr style=\"text-align: right;\">\n",
       "      <th></th>\n",
       "      <th>vendor_id</th>\n",
       "      <th>passenger_count</th>\n",
       "      <th>pickup_longitude</th>\n",
       "      <th>pickup_latitude</th>\n",
       "      <th>dropoff_longitude</th>\n",
       "      <th>dropoff_latitude</th>\n",
       "      <th>store_and_fwd_flag</th>\n",
       "      <th>total_distance</th>\n",
       "      <th>pickup_year</th>\n",
       "      <th>pickup_month</th>\n",
       "      <th>pickup_weekday</th>\n",
       "      <th>pickup_day</th>\n",
       "      <th>pickup_hour</th>\n",
       "      <th>pickup_minute</th>\n",
       "      <th>haversine_distance</th>\n",
       "      <th>speed_mean</th>\n",
       "      <th>total_distance_mean</th>\n",
       "    </tr>\n",
       "  </thead>\n",
       "  <tbody>\n",
       "    <tr>\n",
       "      <th>9624</th>\n",
       "      <td>2.0</td>\n",
       "      <td>1.0</td>\n",
       "      <td>-73.978073</td>\n",
       "      <td>40.737499</td>\n",
       "      <td>-73.986183</td>\n",
       "      <td>40.768196</td>\n",
       "      <td>0.0</td>\n",
       "      <td>4892.1</td>\n",
       "      <td>2016.0</td>\n",
       "      <td>6.0</td>\n",
       "      <td>0.0</td>\n",
       "      <td>20.0</td>\n",
       "      <td>19.0</td>\n",
       "      <td>59.0</td>\n",
       "      <td>1.303155</td>\n",
       "      <td>0.416281</td>\n",
       "      <td>4220.284115</td>\n",
       "    </tr>\n",
       "    <tr>\n",
       "      <th>390139</th>\n",
       "      <td>2.0</td>\n",
       "      <td>5.0</td>\n",
       "      <td>-73.994362</td>\n",
       "      <td>40.745819</td>\n",
       "      <td>-74.012383</td>\n",
       "      <td>40.716808</td>\n",
       "      <td>0.0</td>\n",
       "      <td>3972.3</td>\n",
       "      <td>2016.0</td>\n",
       "      <td>6.0</td>\n",
       "      <td>5.0</td>\n",
       "      <td>11.0</td>\n",
       "      <td>15.0</td>\n",
       "      <td>23.0</td>\n",
       "      <td>2.190772</td>\n",
       "      <td>0.426541</td>\n",
       "      <td>4605.588686</td>\n",
       "    </tr>\n",
       "    <tr>\n",
       "      <th>998910</th>\n",
       "      <td>1.0</td>\n",
       "      <td>1.0</td>\n",
       "      <td>-73.977974</td>\n",
       "      <td>40.773602</td>\n",
       "      <td>-73.977356</td>\n",
       "      <td>40.758083</td>\n",
       "      <td>0.0</td>\n",
       "      <td>2368.7</td>\n",
       "      <td>2016.0</td>\n",
       "      <td>1.0</td>\n",
       "      <td>6.0</td>\n",
       "      <td>17.0</td>\n",
       "      <td>17.0</td>\n",
       "      <td>0.0</td>\n",
       "      <td>0.480900</td>\n",
       "      <td>0.440043</td>\n",
       "      <td>4475.775749</td>\n",
       "    </tr>\n",
       "    <tr>\n",
       "      <th>911435</th>\n",
       "      <td>2.0</td>\n",
       "      <td>1.0</td>\n",
       "      <td>-73.981659</td>\n",
       "      <td>40.779060</td>\n",
       "      <td>-73.982292</td>\n",
       "      <td>40.775070</td>\n",
       "      <td>0.0</td>\n",
       "      <td>615.6</td>\n",
       "      <td>2016.0</td>\n",
       "      <td>1.0</td>\n",
       "      <td>3.0</td>\n",
       "      <td>7.0</td>\n",
       "      <td>18.0</td>\n",
       "      <td>56.0</td>\n",
       "      <td>0.141146</td>\n",
       "      <td>0.479401</td>\n",
       "      <td>4162.931452</td>\n",
       "    </tr>\n",
       "    <tr>\n",
       "      <th>129338</th>\n",
       "      <td>1.0</td>\n",
       "      <td>1.0</td>\n",
       "      <td>-73.977921</td>\n",
       "      <td>40.773502</td>\n",
       "      <td>-73.965164</td>\n",
       "      <td>40.755020</td>\n",
       "      <td>0.0</td>\n",
       "      <td>3227.6</td>\n",
       "      <td>2016.0</td>\n",
       "      <td>5.0</td>\n",
       "      <td>3.0</td>\n",
       "      <td>19.0</td>\n",
       "      <td>17.0</td>\n",
       "      <td>54.0</td>\n",
       "      <td>1.526776</td>\n",
       "      <td>0.440043</td>\n",
       "      <td>4475.775749</td>\n",
       "    </tr>\n",
       "  </tbody>\n",
       "</table>\n",
       "</div>"
      ],
      "text/plain": [
       "        vendor_id  passenger_count  pickup_longitude  pickup_latitude  \\\n",
       "9624          2.0              1.0        -73.978073        40.737499   \n",
       "390139        2.0              5.0        -73.994362        40.745819   \n",
       "998910        1.0              1.0        -73.977974        40.773602   \n",
       "911435        2.0              1.0        -73.981659        40.779060   \n",
       "129338        1.0              1.0        -73.977921        40.773502   \n",
       "\n",
       "        dropoff_longitude  dropoff_latitude  store_and_fwd_flag  \\\n",
       "9624           -73.986183         40.768196                 0.0   \n",
       "390139         -74.012383         40.716808                 0.0   \n",
       "998910         -73.977356         40.758083                 0.0   \n",
       "911435         -73.982292         40.775070                 0.0   \n",
       "129338         -73.965164         40.755020                 0.0   \n",
       "\n",
       "        total_distance  pickup_year  pickup_month  pickup_weekday  pickup_day  \\\n",
       "9624            4892.1       2016.0           6.0             0.0        20.0   \n",
       "390139          3972.3       2016.0           6.0             5.0        11.0   \n",
       "998910          2368.7       2016.0           1.0             6.0        17.0   \n",
       "911435           615.6       2016.0           1.0             3.0         7.0   \n",
       "129338          3227.6       2016.0           5.0             3.0        19.0   \n",
       "\n",
       "        pickup_hour  pickup_minute  haversine_distance  speed_mean  \\\n",
       "9624           19.0           59.0            1.303155    0.416281   \n",
       "390139         15.0           23.0            2.190772    0.426541   \n",
       "998910         17.0            0.0            0.480900    0.440043   \n",
       "911435         18.0           56.0            0.141146    0.479401   \n",
       "129338         17.0           54.0            1.526776    0.440043   \n",
       "\n",
       "        total_distance_mean  \n",
       "9624            4220.284115  \n",
       "390139          4605.588686  \n",
       "998910          4475.775749  \n",
       "911435          4162.931452  \n",
       "129338          4475.775749  "
      ]
     },
     "execution_count": 174,
     "metadata": {},
     "output_type": "execute_result"
    }
   ],
   "source": [
    "X_train, X_test, Y_train, Y_test = train_test_split(\n",
    "    data, target_log, train_size=0.85, random_state=1234)\n",
    "print(\"X_train:\", X_train.shape, \" Y_train:\", Y_train.shape,\n",
    "      \" X_test:\", X_test.shape, \" Y_test:\", Y_test.shape)\n",
    "X_train[:5]"
   ]
  },
  {
   "cell_type": "markdown",
   "metadata": {},
   "source": [
    "## Train data"
   ]
  },
  {
   "cell_type": "code",
   "execution_count": 175,
   "metadata": {
    "ExecuteTime": {
     "end_time": "2017-07-26T14:07:27.955326Z",
     "start_time": "2017-07-26T13:35:13.184981Z"
    }
   },
   "outputs": [
    {
     "name": "stdout",
     "output_type": "stream",
     "text": [
      "[0]\tvalidation_0-rmse:5.41961\n",
      "Will train until validation_0-rmse hasn't improved in 50 rounds.\n",
      "[50]\tvalidation_0-rmse:0.424937\n",
      "[100]\tvalidation_0-rmse:0.412138\n",
      "[150]\tvalidation_0-rmse:0.406324\n",
      "[200]\tvalidation_0-rmse:0.40299\n",
      "[250]\tvalidation_0-rmse:0.400469\n",
      "[300]\tvalidation_0-rmse:0.398767\n",
      "[350]\tvalidation_0-rmse:0.397533\n",
      "[400]\tvalidation_0-rmse:0.396148\n",
      "[450]\tvalidation_0-rmse:0.395077\n",
      "[500]\tvalidation_0-rmse:0.394245\n",
      "[550]\tvalidation_0-rmse:0.393568\n",
      "[600]\tvalidation_0-rmse:0.392672\n",
      "[650]\tvalidation_0-rmse:0.392074\n",
      "[700]\tvalidation_0-rmse:0.391344\n",
      "[750]\tvalidation_0-rmse:0.390873\n",
      "[800]\tvalidation_0-rmse:0.390265\n",
      "[850]\tvalidation_0-rmse:0.389982\n",
      "[900]\tvalidation_0-rmse:0.389569\n",
      "[950]\tvalidation_0-rmse:0.389097\n",
      "[1000]\tvalidation_0-rmse:0.388741\n",
      "[1050]\tvalidation_0-rmse:0.388395\n",
      "[1100]\tvalidation_0-rmse:0.388098\n",
      "[1150]\tvalidation_0-rmse:0.387848\n",
      "[1200]\tvalidation_0-rmse:0.387534\n",
      "[1250]\tvalidation_0-rmse:0.387281\n",
      "[1300]\tvalidation_0-rmse:0.387203\n",
      "[1350]\tvalidation_0-rmse:0.387135\n",
      "[1400]\tvalidation_0-rmse:0.386924\n",
      "[1450]\tvalidation_0-rmse:0.386625\n",
      "[1500]\tvalidation_0-rmse:0.386349\n",
      "[1550]\tvalidation_0-rmse:0.386217\n",
      "[1600]\tvalidation_0-rmse:0.386018\n",
      "[1650]\tvalidation_0-rmse:0.38584\n",
      "[1700]\tvalidation_0-rmse:0.385642\n",
      "[1750]\tvalidation_0-rmse:0.385468\n",
      "[1800]\tvalidation_0-rmse:0.385354\n",
      "[1850]\tvalidation_0-rmse:0.385337\n",
      "[1900]\tvalidation_0-rmse:0.385202\n",
      "[1950]\tvalidation_0-rmse:0.38508\n",
      "[2000]\tvalidation_0-rmse:0.384984\n",
      "[2050]\tvalidation_0-rmse:0.384844\n",
      "[2100]\tvalidation_0-rmse:0.384668\n",
      "[2150]\tvalidation_0-rmse:0.384604\n",
      "[2200]\tvalidation_0-rmse:0.384462\n",
      "[2250]\tvalidation_0-rmse:0.384386\n",
      "[2300]\tvalidation_0-rmse:0.384331\n",
      "[2350]\tvalidation_0-rmse:0.384248\n",
      "[2400]\tvalidation_0-rmse:0.384193\n",
      "[2450]\tvalidation_0-rmse:0.384136\n",
      "[2500]\tvalidation_0-rmse:0.384057\n",
      "[2550]\tvalidation_0-rmse:0.383979\n",
      "[2600]\tvalidation_0-rmse:0.383907\n",
      "[2650]\tvalidation_0-rmse:0.383857\n",
      "[2700]\tvalidation_0-rmse:0.383781\n",
      "[2750]\tvalidation_0-rmse:0.383757\n",
      "[2800]\tvalidation_0-rmse:0.383746\n",
      "[2850]\tvalidation_0-rmse:0.383661\n",
      "[2900]\tvalidation_0-rmse:0.383703\n",
      "Stopping. Best iteration:\n",
      "[2853]\tvalidation_0-rmse:0.383647\n",
      "\n",
      "1934.7547209262848\n"
     ]
    }
   ],
   "source": [
    "start = time.time()\n",
    "early_stopping_rounds = 50\n",
    "model.fit(\n",
    "    X_train, Y_train, eval_set = [(X_test, Y_test)],\n",
    "    eval_metric=\"rmse\", early_stopping_rounds=early_stopping_rounds,\n",
    "    verbose=early_stopping_rounds\n",
    ")\n",
    "end = time.time() - start\n",
    "print(end)"
   ]
  },
  {
   "cell_type": "markdown",
   "metadata": {},
   "source": [
    "### Predict for test data"
   ]
  },
  {
   "cell_type": "code",
   "execution_count": 176,
   "metadata": {
    "ExecuteTime": {
     "end_time": "2017-07-26T14:10:23.799810Z",
     "start_time": "2017-07-26T14:10:13.114295Z"
    }
   },
   "outputs": [
    {
     "data": {
      "text/plain": [
       "10.666386604309082"
      ]
     },
     "execution_count": 176,
     "metadata": {},
     "output_type": "execute_result"
    }
   ],
   "source": [
    "start = time.time()\n",
    "y_pred = model.predict(X_test)\n",
    "end = time.time() - start\n",
    "end"
   ]
  },
  {
   "cell_type": "code",
   "execution_count": 177,
   "metadata": {
    "ExecuteTime": {
     "end_time": "2017-07-26T14:10:25.128535Z",
     "start_time": "2017-07-26T14:10:24.442675Z"
    }
   },
   "outputs": [
    {
     "name": "stdout",
     "output_type": "stream",
     "text": [
      "[ 5.75218725  5.56645775  4.84672403  6.98328304  7.41439819]\n",
      "RMSLE score: 0.05659360703934735  RMSLE without-log: 0.383703421188\n"
     ]
    }
   ],
   "source": [
    "# Evaluate score\n",
    "print(y_pred[:5])\n",
    "score = rmsle(Y_test, y_pred)\n",
    "score1 = rmsle(Y_test, y_pred, log=False)\n",
    "print(\"RMSLE score:\", score, \" RMSLE without-log:\", score1)"
   ]
  },
  {
   "cell_type": "markdown",
   "metadata": {},
   "source": [
    "### Feature importances"
   ]
  },
  {
   "cell_type": "code",
   "execution_count": 178,
   "metadata": {
    "ExecuteTime": {
     "end_time": "2017-07-26T14:10:28.932456Z",
     "start_time": "2017-07-26T14:10:28.045219Z"
    }
   },
   "outputs": [
    {
     "data": {
      "image/png": "[encoded data removed]",
      "text/plain": [
       "<matplotlib.figure.Figure at 0x2230e3d6048>"
      ]
     },
     "metadata": {},
     "output_type": "display_data"
    }
   ],
   "source": [
    "plot_importance(model)\n",
    "plt.show()"
   ]
  },
  {
   "cell_type": "markdown",
   "metadata": {},
   "source": [
    "# Predict and save submission"
   ]
  },
  {
   "cell_type": "code",
   "execution_count": 179,
   "metadata": {
    "ExecuteTime": {
     "end_time": "2017-07-26T14:11:27.229949Z",
     "start_time": "2017-07-26T14:10:58.108293Z"
    }
   },
   "outputs": [
    {
     "name": "stdout",
     "output_type": "stream",
     "text": [
      "29.109646797180176\n",
      "[ 6.75216293  6.19637871  6.04534292  6.85596657  5.63337946]\n",
      "[ 855.90802002  490.96786499  422.14248657  949.52947998  279.60543823]\n"
     ]
    }
   ],
   "source": [
    "start = time.time()\n",
    "data = eval_set.drop('id', axis=1).astype(float)\n",
    "Y_eval_log = model.predict(data)\n",
    "Y_eval = np.exp(Y_eval_log.ravel())\n",
    "end = time.time() - start\n",
    "print(end)\n",
    "print(Y_eval_log[:5])\n",
    "print(Y_eval[:5])"
   ]
  },
  {
   "cell_type": "code",
   "execution_count": 180,
   "metadata": {
    "ExecuteTime": {
     "end_time": "2017-07-26T14:11:27.956886Z",
     "start_time": "2017-07-26T14:11:27.878756Z"
    }
   },
   "outputs": [
    {
     "name": "stdout",
     "output_type": "stream",
     "text": [
      "625134\n"
     ]
    },
    {
     "data": {
      "text/html": [
       "<div>\n",
       "<style>\n",
       "    .dataframe thead tr:only-child th {\n",
       "        text-align: right;\n",
       "    }\n",
       "\n",
       "    .dataframe thead th {\n",
       "        text-align: left;\n",
       "    }\n",
       "\n",
       "    .dataframe tbody tr th {\n",
       "        vertical-align: top;\n",
       "    }\n",
       "</style>\n",
       "<table border=\"1\" class=\"dataframe\">\n",
       "  <thead>\n",
       "    <tr style=\"text-align: right;\">\n",
       "      <th></th>\n",
       "      <th>id</th>\n",
       "      <th>trip_duration</th>\n",
       "    </tr>\n",
       "  </thead>\n",
       "  <tbody>\n",
       "    <tr>\n",
       "      <th>0</th>\n",
       "      <td>id3004672</td>\n",
       "      <td>855.908020</td>\n",
       "    </tr>\n",
       "    <tr>\n",
       "      <th>1</th>\n",
       "      <td>id3505355</td>\n",
       "      <td>490.967865</td>\n",
       "    </tr>\n",
       "    <tr>\n",
       "      <th>2</th>\n",
       "      <td>id1217141</td>\n",
       "      <td>422.142487</td>\n",
       "    </tr>\n",
       "    <tr>\n",
       "      <th>3</th>\n",
       "      <td>id2150126</td>\n",
       "      <td>949.529480</td>\n",
       "    </tr>\n",
       "    <tr>\n",
       "      <th>4</th>\n",
       "      <td>id1598245</td>\n",
       "      <td>279.605438</td>\n",
       "    </tr>\n",
       "  </tbody>\n",
       "</table>\n",
       "</div>"
      ],
      "text/plain": [
       "          id  trip_duration\n",
       "0  id3004672     855.908020\n",
       "1  id3505355     490.967865\n",
       "2  id1217141     422.142487\n",
       "3  id2150126     949.529480\n",
       "4  id1598245     279.605438"
      ]
     },
     "execution_count": 180,
     "metadata": {},
     "output_type": "execute_result"
    }
   ],
   "source": [
    "eval_output = pd.DataFrame({'id': eval_set['id'], 'trip_duration': Y_eval}, columns=['id', 'trip_duration'])\n",
    "print(len(eval_output))\n",
    "eval_output.head()"
   ]
  },
  {
   "cell_type": "code",
   "execution_count": 181,
   "metadata": {
    "ExecuteTime": {
     "end_time": "2017-07-26T14:11:42.031740Z",
     "start_time": "2017-07-26T14:11:39.209413Z"
    }
   },
   "outputs": [
    {
     "name": "stdout",
     "output_type": "stream",
     "text": [
      "2017-07-26\n"
     ]
    },
    {
     "data": {
      "text/plain": [
       "2.759817600250244"
      ]
     },
     "execution_count": 181,
     "metadata": {},
     "output_type": "execute_result"
    }
   ],
   "source": [
    "start = time.time()\n",
    "today = str(dtime.date.today())\n",
    "print(today)\n",
    "eval_output.to_csv(DATA_DIR +'/' +today+'-submission.csv',index=False)\n",
    "end = time.time() - start\n",
    "end"
   ]
  },
  {
   "cell_type": "code",
   "execution_count": null,
   "metadata": {
    "collapsed": true
   },
   "outputs": [],
   "source": []
  }
 ],
 "metadata": {
  "kernelspec": {
   "display_name": "Python 3",
   "language": "python",
   "name": "python3"
  },
  "language_info": {
   "codemirror_mode": {
    "name": "ipython",
    "version": 3
   },
   "file_extension": ".py",
   "mimetype": "text/x-python",
   "name": "python",
   "nbconvert_exporter": "python",
   "pygments_lexer": "ipython3",
   "version": "3.5.3"
  },
  "toc": {
   "colors": {
    "hover_highlight": "#DAA520",
    "navigate_num": "#000000",
    "navigate_text": "#333333",
    "running_highlight": "#FF0000",
    "selected_highlight": "#FFD700",
    "sidebar_border": "#EEEEEE",
    "wrapper_background": "#FFFFFF"
   },
   "moveMenuLeft": true,
   "nav_menu": {
    "height": "512px",
    "width": "252px"
   },
   "navigate_menu": true,
   "number_sections": true,
   "sideBar": false,
   "threshold": 4,
   "toc_cell": true,
   "toc_position": {
    "height": "629px",
    "left": "10px",
    "right": "1255.6px",
    "top": "104px",
    "width": "270px"
   },
   "toc_section_display": "block",
   "toc_window_display": true,
   "widenNotebook": false
  },
  "varInspector": {
   "cols": {
    "lenName": 16,
    "lenType": 16,
    "lenVar": 40
   },
   "kernels_config": {
    "python": {
     "delete_cmd_postfix": "",
     "delete_cmd_prefix": "del ",
     "library": "var_list.py",
     "varRefreshCmd": "print(var_dic_list())"
    },
    "r": {
     "delete_cmd_postfix": ") ",
     "delete_cmd_prefix": "rm(",
     "library": "var_list.r",
     "varRefreshCmd": "cat(var_dic_list()) "
    }
   },
   "position": {
    "height": "607px",
    "left": "1139px",
    "right": "20px",
    "top": "68px",
    "width": "310px"
   },
   "types_to_exclude": [
    "module",
    "function",
    "builtin_function_or_method",
    "instance",
    "_Feature"
   ],
   "window_display": false
  }
 },
 "nbformat": 4,
 "nbformat_minor": 2
}
