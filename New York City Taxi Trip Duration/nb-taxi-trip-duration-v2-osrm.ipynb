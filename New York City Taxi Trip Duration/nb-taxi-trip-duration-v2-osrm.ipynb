{
 "cells": [
  {
   "cell_type": "code",
   "execution_count": null,
   "metadata": {
    "collapsed": true
   },
   "outputs": [],
   "source": []
  },
  {
   "cell_type": "markdown",
   "metadata": {
    "toc": "true"
   },
   "source": [
    "# Table of Contents\n",
    " <p><div class=\"lev1 toc-item\"><a href=\"#New-York-City-Taxi-Trip-Duration\" data-toc-modified-id=\"New-York-City-Taxi-Trip-Duration-1\"><span class=\"toc-item-num\">1&nbsp;&nbsp;</span>New York City Taxi Trip Duration</a></div><div class=\"lev2 toc-item\"><a href=\"#Credit-to:\" data-toc-modified-id=\"Credit-to:-11\"><span class=\"toc-item-num\">1.1&nbsp;&nbsp;</span>Credit to:</a></div><div class=\"lev1 toc-item\"><a href=\"#Load-data\" data-toc-modified-id=\"Load-data-2\"><span class=\"toc-item-num\">2&nbsp;&nbsp;</span>Load data</a></div><div class=\"lev3 toc-item\"><a href=\"#Load-another-dataset-with-distance-from-OSMR\" data-toc-modified-id=\"Load-another-dataset-with-distance-from-OSMR-201\"><span class=\"toc-item-num\">2.0.1&nbsp;&nbsp;</span>Load another dataset with distance from OSMR</a></div><div class=\"lev3 toc-item\"><a href=\"#Check-different-between-orginal-train-data-and-OSM-data-set\" data-toc-modified-id=\"Check-different-between-orginal-train-data-and-OSM-data-set-202\"><span class=\"toc-item-num\">2.0.2&nbsp;&nbsp;</span>Check different between orginal train data and OSM data set</a></div><div class=\"lev3 toc-item\"><a href=\"#Combine-train-data-and-eval-data\" data-toc-modified-id=\"Combine-train-data-and-eval-data-203\"><span class=\"toc-item-num\">2.0.3&nbsp;&nbsp;</span>Combine train data and eval data</a></div><div class=\"lev1 toc-item\"><a href=\"#Pre-process-data\" data-toc-modified-id=\"Pre-process-data-3\"><span class=\"toc-item-num\">3&nbsp;&nbsp;</span>Pre-process data</a></div><div class=\"lev2 toc-item\"><a href=\"#Check&amp;-Fill--NaN\" data-toc-modified-id=\"Check&amp;-Fill--NaN-31\"><span class=\"toc-item-num\">3.1&nbsp;&nbsp;</span>Check&amp; Fill  NaN</a></div><div class=\"lev3 toc-item\"><a href=\"#number_of_streets\" data-toc-modified-id=\"number_of_streets-311\"><span class=\"toc-item-num\">3.1.1&nbsp;&nbsp;</span>number_of_streets</a></div><div class=\"lev3 toc-item\"><a href=\"#total_distance\" data-toc-modified-id=\"total_distance-312\"><span class=\"toc-item-num\">3.1.2&nbsp;&nbsp;</span>total_distance</a></div><div class=\"lev3 toc-item\"><a href=\"#starting_street\" data-toc-modified-id=\"starting_street-313\"><span class=\"toc-item-num\">3.1.3&nbsp;&nbsp;</span>starting_street</a></div><div class=\"lev2 toc-item\"><a href=\"#Transform-object-data\" data-toc-modified-id=\"Transform-object-data-32\"><span class=\"toc-item-num\">3.2&nbsp;&nbsp;</span>Transform object data</a></div><div class=\"lev3 toc-item\"><a href=\"#Convert-datetime-string-to-object\" data-toc-modified-id=\"Convert-datetime-string-to-object-321\"><span class=\"toc-item-num\">3.2.1&nbsp;&nbsp;</span>Convert datetime string to object</a></div><div class=\"lev3 toc-item\"><a href=\"#store_and_fwd_flag\" data-toc-modified-id=\"store_and_fwd_flag-322\"><span class=\"toc-item-num\">3.2.2&nbsp;&nbsp;</span>store_and_fwd_flag</a></div><div class=\"lev3 toc-item\"><a href=\"#start_street,-end_street\" data-toc-modified-id=\"start_street,-end_street-323\"><span class=\"toc-item-num\">3.2.3&nbsp;&nbsp;</span>start_street, end_street</a></div><div class=\"lev3 toc-item\"><a href=\"#Drop-unused-cols\" data-toc-modified-id=\"Drop-unused-cols-324\"><span class=\"toc-item-num\">3.2.4&nbsp;&nbsp;</span>Drop unused cols</a></div><div class=\"lev2 toc-item\"><a href=\"#Feature-scaling-(not-use)\" data-toc-modified-id=\"Feature-scaling-(not-use)-33\"><span class=\"toc-item-num\">3.3&nbsp;&nbsp;</span>Feature scaling (not use)</a></div><div class=\"lev2 toc-item\"><a href=\"#Feature-engineering\" data-toc-modified-id=\"Feature-engineering-34\"><span class=\"toc-item-num\">3.4&nbsp;&nbsp;</span>Feature engineering</a></div><div class=\"lev3 toc-item\"><a href=\"#Distance-between-pickup-and-dropoff\" data-toc-modified-id=\"Distance-between-pickup-and-dropoff-341\"><span class=\"toc-item-num\">3.4.1&nbsp;&nbsp;</span>Distance between pickup and dropoff</a></div><div class=\"lev4 toc-item\"><a href=\"#Correct-total_distance=0\" data-toc-modified-id=\"Correct-total_distance=0-3411\"><span class=\"toc-item-num\">3.4.1.1&nbsp;&nbsp;</span>Correct total_distance=0</a></div><div class=\"lev3 toc-item\"><a href=\"#Average-speed\" data-toc-modified-id=\"Average-speed-342\"><span class=\"toc-item-num\">3.4.2&nbsp;&nbsp;</span>Average speed</a></div><div class=\"lev4 toc-item\"><a href=\"#remove-total_distance=0\" data-toc-modified-id=\"remove-total_distance=0-3421\"><span class=\"toc-item-num\">3.4.2.1&nbsp;&nbsp;</span>remove total_distance=0</a></div><div class=\"lev4 toc-item\"><a href=\"#Calculate-speed-from-total_distance-and-trip_duration-speed_mean\" data-toc-modified-id=\"Calculate-speed-from-total_distance-and-trip_duration-speed_mean-3422\"><span class=\"toc-item-num\">3.4.2.2&nbsp;&nbsp;</span>Calculate speed from total_distance and trip_duration speed_mean</a></div><div class=\"lev3 toc-item\"><a href=\"#Average-distance\" data-toc-modified-id=\"Average-distance-343\"><span class=\"toc-item-num\">3.4.3&nbsp;&nbsp;</span>Average distance</a></div><div class=\"lev2 toc-item\"><a href=\"#Clearning-data\" data-toc-modified-id=\"Clearning-data-35\"><span class=\"toc-item-num\">3.5&nbsp;&nbsp;</span>Clearning data</a></div><div class=\"lev3 toc-item\"><a href=\"#Split-train_set-and-eval_set\" data-toc-modified-id=\"Split-train_set-and-eval_set-351\"><span class=\"toc-item-num\">3.5.1&nbsp;&nbsp;</span>Split train_set and eval_set</a></div><div class=\"lev3 toc-item\"><a href=\"#Trip-duration-outliner\" data-toc-modified-id=\"Trip-duration-outliner-352\"><span class=\"toc-item-num\">3.5.2&nbsp;&nbsp;</span>Trip duration outliner</a></div><div class=\"lev4 toc-item\"><a href=\"#Search-for-outliner\" data-toc-modified-id=\"Search-for-outliner-3521\"><span class=\"toc-item-num\">3.5.2.1&nbsp;&nbsp;</span>Search for outliner</a></div><div class=\"lev4 toc-item\"><a href=\"#Drop-trip-duration-outliner\" data-toc-modified-id=\"Drop-trip-duration-outliner-3522\"><span class=\"toc-item-num\">3.5.2.2&nbsp;&nbsp;</span>Drop trip-duration outliner</a></div><div class=\"lev3 toc-item\"><a href=\"#Trip-duration-distribution\" data-toc-modified-id=\"Trip-duration-distribution-353\"><span class=\"toc-item-num\">3.5.3&nbsp;&nbsp;</span>Trip duration distribution</a></div><div class=\"lev3 toc-item\"><a href=\"#total_distance-outliner\" data-toc-modified-id=\"total_distance-outliner-354\"><span class=\"toc-item-num\">3.5.4&nbsp;&nbsp;</span>total_distance outliner</a></div><div class=\"lev2 toc-item\"><a href=\"#Feature-correlation\" data-toc-modified-id=\"Feature-correlation-36\"><span class=\"toc-item-num\">3.6&nbsp;&nbsp;</span>Feature correlation</a></div><div class=\"lev1 toc-item\"><a href=\"#Train-model\" data-toc-modified-id=\"Train-model-4\"><span class=\"toc-item-num\">4&nbsp;&nbsp;</span>Train model</a></div><div class=\"lev2 toc-item\"><a href=\"#Model-definition\" data-toc-modified-id=\"Model-definition-41\"><span class=\"toc-item-num\">4.1&nbsp;&nbsp;</span>Model definition</a></div><div class=\"lev3 toc-item\"><a href=\"#Split-train/test-set\" data-toc-modified-id=\"Split-train/test-set-411\"><span class=\"toc-item-num\">4.1.1&nbsp;&nbsp;</span>Split train/test set</a></div><div class=\"lev2 toc-item\"><a href=\"#Train-data\" data-toc-modified-id=\"Train-data-42\"><span class=\"toc-item-num\">4.2&nbsp;&nbsp;</span>Train data</a></div><div class=\"lev3 toc-item\"><a href=\"#Predict-for-test-data\" data-toc-modified-id=\"Predict-for-test-data-421\"><span class=\"toc-item-num\">4.2.1&nbsp;&nbsp;</span>Predict for test data</a></div><div class=\"lev3 toc-item\"><a href=\"#Feature-importances\" data-toc-modified-id=\"Feature-importances-422\"><span class=\"toc-item-num\">4.2.2&nbsp;&nbsp;</span>Feature importances</a></div><div class=\"lev1 toc-item\"><a href=\"#Predict-and-save-submission\" data-toc-modified-id=\"Predict-and-save-submission-5\"><span class=\"toc-item-num\">5&nbsp;&nbsp;</span>Predict and save submission</a></div><div class=\"lev2 toc-item\"><a href=\"#Leader-board\" data-toc-modified-id=\"Leader-board-51\"><span class=\"toc-item-num\">5.1&nbsp;&nbsp;</span>Leader board</a></div>"
   ]
  },
  {
   "cell_type": "markdown",
   "metadata": {},
   "source": [
    "# New York City Taxi Trip Duration\n",
    "- Share code and data to improve ride time predictions\n",
    "- https://www.kaggle.com/c/nyc-taxi-trip-duration/data\n",
    "- install: http://jupyter-contrib-nbextensions.readthedocs.io/en/latest/install.html\n",
    "- install: https://github.com/Jupyter-contrib/jupyter_nbextensions_configurator\n",
    "- install GDAL: https://sandbox.idre.ucla.edu/sandbox/tutorials/installing-gdal-for-windows\n",
    "- install osmnx: http://geoffboeing.com/2014/09/using-geopandas-windows/\n"
   ]
  },
  {
   "cell_type": "markdown",
   "metadata": {},
   "source": [
    "## Credit to:\n",
    "- https://www.kaggle.com/ankasor/driving-distance-using-open-street-maps-data/notebook\n",
    "- https://www.kaggle.com/oscarleo/new-york-city-taxi-with-osrm\n",
    "- https://www.kaggle.com/gaborfodor/from-eda-to-the-top-lb-0-368/notebook"
   ]
  },
  {
   "cell_type": "code",
   "execution_count": 1,
   "metadata": {
    "ExecuteTime": {
     "end_time": "2017-07-27T08:25:44.144892Z",
     "start_time": "2017-07-27T08:25:28.938241Z"
    }
   },
   "outputs": [
    {
     "name": "stderr",
     "output_type": "stream",
     "text": [
      "c:\\users\\le anh tuan\\appdata\\local\\programs\\python\\python35\\lib\\site-packages\\sklearn\\cross_validation.py:44: DeprecationWarning: This module was deprecated in version 0.18 in favor of the model_selection module into which all the refactored classes and functions are moved. Also note that the interface of the new CV iterators are different from that of this module. This module will be removed in 0.20.\n",
      "  \"This module will be removed in 0.20.\", DeprecationWarning)\n",
      "c:\\users\\le anh tuan\\appdata\\local\\programs\\python\\python35\\lib\\site-packages\\sklearn\\grid_search.py:43: DeprecationWarning: This module was deprecated in version 0.18 in favor of the model_selection module into which all the refactored classes and functions are moved. This module will be removed in 0.20.\n",
      "  DeprecationWarning)\n"
     ]
    }
   ],
   "source": [
    "# data processing\n",
    "import pandas as pd\n",
    "import matplotlib.pyplot as plt\n",
    "import seaborn as sns\n",
    "import numpy as np\n",
    "from math import sqrt\n",
    "from scipy import stats\n",
    "from scipy.stats import norm\n",
    "import math\n",
    "from math import radians, cos, sin, asin, sqrt\n",
    "from numpy import sort\n",
    "\n",
    "# ML\n",
    "# # Scikit-learn\n",
    "from sklearn.preprocessing import StandardScaler\n",
    "from sklearn.tree import DecisionTreeRegressor\n",
    "from sklearn.linear_model import LinearRegression\n",
    "from sklearn.ensemble import RandomForestRegressor, AdaBoostRegressor, GradientBoostingRegressor, ExtraTreesRegressor\n",
    "from sklearn.model_selection import cross_val_score, train_test_split, learning_curve, validation_curve, KFold\n",
    "from sklearn.metrics import mean_squared_error, make_scorer\n",
    "from sklearn.grid_search import GridSearchCV\n",
    "from sklearn.preprocessing import LabelEncoder, StandardScaler\n",
    "from sklearn.feature_selection import SelectFromModel\n",
    "# # XGB\n",
    "from xgboost.sklearn import XGBRegressor\n",
    "import xgboost as xgb\n",
    "from xgboost import plot_importance\n",
    "# # CatBoost\n",
    "#from catboost import Pool, CatBoostRegressor, cv, CatboostIpythonWidget\n",
    "# System\n",
    "import datetime as dtime\n",
    "from datetime import datetime\n",
    "import sys\n",
    "from inspect import getsourcefile\n",
    "import os.path\n",
    "import re\n",
    "import time\n",
    "\n",
    "# Other\n",
    "from geographiclib.geodesic import Geodesic\n",
    "#import osmnx as ox\n",
    "#import networkx as nx\n",
    "\n",
    "import warnings\n",
    "warnings.filterwarnings('ignore')\n",
    "%matplotlib inline"
   ]
  },
  {
   "cell_type": "markdown",
   "metadata": {},
   "source": [
    "# Load data"
   ]
  },
  {
   "cell_type": "code",
   "execution_count": 2,
   "metadata": {
    "ExecuteTime": {
     "end_time": "2017-07-27T08:25:52.455905Z",
     "start_time": "2017-07-27T08:25:44.154900Z"
    },
    "collapsed": true
   },
   "outputs": [],
   "source": [
    "# Input data files are available in the DATA_DIR directory.\n",
    "DATA_DIR = \"data-temp\"\n",
    "# Load data. Download from:https://www.kaggle.com/c/nyc-taxi-trip-duration/data\n",
    "train_data = pd.read_csv(DATA_DIR + \"/train.csv\")\n",
    "eval_data =  pd.read_csv(DATA_DIR + \"/test.csv\")"
   ]
  },
  {
   "cell_type": "code",
   "execution_count": 37,
   "metadata": {
    "ExecuteTime": {
     "end_time": "2017-07-26T08:48:58.069022Z",
     "start_time": "2017-07-26T08:48:58.037792Z"
    }
   },
   "outputs": [
    {
     "name": "stdout",
     "output_type": "stream",
     "text": [
      "train size: (1458644, 11)  test size: (625134, 9)\n"
     ]
    }
   ],
   "source": [
    "print(\"train size:\", train_data.shape, \" test size:\", eval_data.shape)"
   ]
  },
  {
   "cell_type": "code",
   "execution_count": 4,
   "metadata": {
    "ExecuteTime": {
     "end_time": "2017-07-26T08:15:02.520138Z",
     "start_time": "2017-07-26T08:15:02.501126Z"
    },
    "scrolled": true
   },
   "outputs": [
    {
     "data": {
      "text/html": [
       "<div>\n",
       "<style>\n",
       "    .dataframe thead tr:only-child th {\n",
       "        text-align: right;\n",
       "    }\n",
       "\n",
       "    .dataframe thead th {\n",
       "        text-align: left;\n",
       "    }\n",
       "\n",
       "    .dataframe tbody tr th {\n",
       "        vertical-align: top;\n",
       "    }\n",
       "</style>\n",
       "<table border=\"1\" class=\"dataframe\">\n",
       "  <thead>\n",
       "    <tr style=\"text-align: right;\">\n",
       "      <th></th>\n",
       "      <th>id</th>\n",
       "      <th>vendor_id</th>\n",
       "      <th>pickup_datetime</th>\n",
       "      <th>dropoff_datetime</th>\n",
       "      <th>passenger_count</th>\n",
       "      <th>pickup_longitude</th>\n",
       "      <th>pickup_latitude</th>\n",
       "      <th>dropoff_longitude</th>\n",
       "      <th>dropoff_latitude</th>\n",
       "      <th>store_and_fwd_flag</th>\n",
       "      <th>trip_duration</th>\n",
       "    </tr>\n",
       "  </thead>\n",
       "  <tbody>\n",
       "    <tr>\n",
       "      <th>0</th>\n",
       "      <td>id2875421</td>\n",
       "      <td>2</td>\n",
       "      <td>2016-03-14 17:24:55</td>\n",
       "      <td>2016-03-14 17:32:30</td>\n",
       "      <td>1</td>\n",
       "      <td>-73.982155</td>\n",
       "      <td>40.767937</td>\n",
       "      <td>-73.964630</td>\n",
       "      <td>40.765602</td>\n",
       "      <td>N</td>\n",
       "      <td>455</td>\n",
       "    </tr>\n",
       "    <tr>\n",
       "      <th>1</th>\n",
       "      <td>id2377394</td>\n",
       "      <td>1</td>\n",
       "      <td>2016-06-12 00:43:35</td>\n",
       "      <td>2016-06-12 00:54:38</td>\n",
       "      <td>1</td>\n",
       "      <td>-73.980415</td>\n",
       "      <td>40.738564</td>\n",
       "      <td>-73.999481</td>\n",
       "      <td>40.731152</td>\n",
       "      <td>N</td>\n",
       "      <td>663</td>\n",
       "    </tr>\n",
       "    <tr>\n",
       "      <th>2</th>\n",
       "      <td>id3858529</td>\n",
       "      <td>2</td>\n",
       "      <td>2016-01-19 11:35:24</td>\n",
       "      <td>2016-01-19 12:10:48</td>\n",
       "      <td>1</td>\n",
       "      <td>-73.979027</td>\n",
       "      <td>40.763939</td>\n",
       "      <td>-74.005333</td>\n",
       "      <td>40.710087</td>\n",
       "      <td>N</td>\n",
       "      <td>2124</td>\n",
       "    </tr>\n",
       "    <tr>\n",
       "      <th>3</th>\n",
       "      <td>id3504673</td>\n",
       "      <td>2</td>\n",
       "      <td>2016-04-06 19:32:31</td>\n",
       "      <td>2016-04-06 19:39:40</td>\n",
       "      <td>1</td>\n",
       "      <td>-74.010040</td>\n",
       "      <td>40.719971</td>\n",
       "      <td>-74.012268</td>\n",
       "      <td>40.706718</td>\n",
       "      <td>N</td>\n",
       "      <td>429</td>\n",
       "    </tr>\n",
       "    <tr>\n",
       "      <th>4</th>\n",
       "      <td>id2181028</td>\n",
       "      <td>2</td>\n",
       "      <td>2016-03-26 13:30:55</td>\n",
       "      <td>2016-03-26 13:38:10</td>\n",
       "      <td>1</td>\n",
       "      <td>-73.973053</td>\n",
       "      <td>40.793209</td>\n",
       "      <td>-73.972923</td>\n",
       "      <td>40.782520</td>\n",
       "      <td>N</td>\n",
       "      <td>435</td>\n",
       "    </tr>\n",
       "  </tbody>\n",
       "</table>\n",
       "</div>"
      ],
      "text/plain": [
       "          id  vendor_id      pickup_datetime     dropoff_datetime  \\\n",
       "0  id2875421          2  2016-03-14 17:24:55  2016-03-14 17:32:30   \n",
       "1  id2377394          1  2016-06-12 00:43:35  2016-06-12 00:54:38   \n",
       "2  id3858529          2  2016-01-19 11:35:24  2016-01-19 12:10:48   \n",
       "3  id3504673          2  2016-04-06 19:32:31  2016-04-06 19:39:40   \n",
       "4  id2181028          2  2016-03-26 13:30:55  2016-03-26 13:38:10   \n",
       "\n",
       "   passenger_count  pickup_longitude  pickup_latitude  dropoff_longitude  \\\n",
       "0                1        -73.982155        40.767937         -73.964630   \n",
       "1                1        -73.980415        40.738564         -73.999481   \n",
       "2                1        -73.979027        40.763939         -74.005333   \n",
       "3                1        -74.010040        40.719971         -74.012268   \n",
       "4                1        -73.973053        40.793209         -73.972923   \n",
       "\n",
       "   dropoff_latitude store_and_fwd_flag  trip_duration  \n",
       "0         40.765602                  N            455  \n",
       "1         40.731152                  N            663  \n",
       "2         40.710087                  N           2124  \n",
       "3         40.706718                  N            429  \n",
       "4         40.782520                  N            435  "
      ]
     },
     "execution_count": 4,
     "metadata": {},
     "output_type": "execute_result"
    }
   ],
   "source": [
    "train_data.head(5)"
   ]
  },
  {
   "cell_type": "code",
   "execution_count": 5,
   "metadata": {
    "ExecuteTime": {
     "end_time": "2017-07-26T08:15:06.162134Z",
     "start_time": "2017-07-26T08:15:06.147622Z"
    }
   },
   "outputs": [
    {
     "data": {
      "text/html": [
       "<div>\n",
       "<style>\n",
       "    .dataframe thead tr:only-child th {\n",
       "        text-align: right;\n",
       "    }\n",
       "\n",
       "    .dataframe thead th {\n",
       "        text-align: left;\n",
       "    }\n",
       "\n",
       "    .dataframe tbody tr th {\n",
       "        vertical-align: top;\n",
       "    }\n",
       "</style>\n",
       "<table border=\"1\" class=\"dataframe\">\n",
       "  <thead>\n",
       "    <tr style=\"text-align: right;\">\n",
       "      <th></th>\n",
       "      <th>id</th>\n",
       "      <th>vendor_id</th>\n",
       "      <th>pickup_datetime</th>\n",
       "      <th>passenger_count</th>\n",
       "      <th>pickup_longitude</th>\n",
       "      <th>pickup_latitude</th>\n",
       "      <th>dropoff_longitude</th>\n",
       "      <th>dropoff_latitude</th>\n",
       "      <th>store_and_fwd_flag</th>\n",
       "    </tr>\n",
       "  </thead>\n",
       "  <tbody>\n",
       "    <tr>\n",
       "      <th>0</th>\n",
       "      <td>id3004672</td>\n",
       "      <td>1</td>\n",
       "      <td>2016-06-30 23:59:58</td>\n",
       "      <td>1</td>\n",
       "      <td>-73.988129</td>\n",
       "      <td>40.732029</td>\n",
       "      <td>-73.990173</td>\n",
       "      <td>40.756680</td>\n",
       "      <td>N</td>\n",
       "    </tr>\n",
       "    <tr>\n",
       "      <th>1</th>\n",
       "      <td>id3505355</td>\n",
       "      <td>1</td>\n",
       "      <td>2016-06-30 23:59:53</td>\n",
       "      <td>1</td>\n",
       "      <td>-73.964203</td>\n",
       "      <td>40.679993</td>\n",
       "      <td>-73.959808</td>\n",
       "      <td>40.655403</td>\n",
       "      <td>N</td>\n",
       "    </tr>\n",
       "    <tr>\n",
       "      <th>2</th>\n",
       "      <td>id1217141</td>\n",
       "      <td>1</td>\n",
       "      <td>2016-06-30 23:59:47</td>\n",
       "      <td>1</td>\n",
       "      <td>-73.997437</td>\n",
       "      <td>40.737583</td>\n",
       "      <td>-73.986160</td>\n",
       "      <td>40.729523</td>\n",
       "      <td>N</td>\n",
       "    </tr>\n",
       "    <tr>\n",
       "      <th>3</th>\n",
       "      <td>id2150126</td>\n",
       "      <td>2</td>\n",
       "      <td>2016-06-30 23:59:41</td>\n",
       "      <td>1</td>\n",
       "      <td>-73.956070</td>\n",
       "      <td>40.771900</td>\n",
       "      <td>-73.986427</td>\n",
       "      <td>40.730469</td>\n",
       "      <td>N</td>\n",
       "    </tr>\n",
       "    <tr>\n",
       "      <th>4</th>\n",
       "      <td>id1598245</td>\n",
       "      <td>1</td>\n",
       "      <td>2016-06-30 23:59:33</td>\n",
       "      <td>1</td>\n",
       "      <td>-73.970215</td>\n",
       "      <td>40.761475</td>\n",
       "      <td>-73.961510</td>\n",
       "      <td>40.755890</td>\n",
       "      <td>N</td>\n",
       "    </tr>\n",
       "  </tbody>\n",
       "</table>\n",
       "</div>"
      ],
      "text/plain": [
       "          id  vendor_id      pickup_datetime  passenger_count  \\\n",
       "0  id3004672          1  2016-06-30 23:59:58                1   \n",
       "1  id3505355          1  2016-06-30 23:59:53                1   \n",
       "2  id1217141          1  2016-06-30 23:59:47                1   \n",
       "3  id2150126          2  2016-06-30 23:59:41                1   \n",
       "4  id1598245          1  2016-06-30 23:59:33                1   \n",
       "\n",
       "   pickup_longitude  pickup_latitude  dropoff_longitude  dropoff_latitude  \\\n",
       "0        -73.988129        40.732029         -73.990173         40.756680   \n",
       "1        -73.964203        40.679993         -73.959808         40.655403   \n",
       "2        -73.997437        40.737583         -73.986160         40.729523   \n",
       "3        -73.956070        40.771900         -73.986427         40.730469   \n",
       "4        -73.970215        40.761475         -73.961510         40.755890   \n",
       "\n",
       "  store_and_fwd_flag  \n",
       "0                  N  \n",
       "1                  N  \n",
       "2                  N  \n",
       "3                  N  \n",
       "4                  N  "
      ]
     },
     "execution_count": 5,
     "metadata": {},
     "output_type": "execute_result"
    }
   ],
   "source": [
    "eval_data.head(5)"
   ]
  },
  {
   "cell_type": "code",
   "execution_count": 6,
   "metadata": {
    "ExecuteTime": {
     "end_time": "2017-07-26T08:15:12.131395Z",
     "start_time": "2017-07-26T08:15:12.116385Z"
    }
   },
   "outputs": [
    {
     "data": {
      "text/plain": [
       "array(['dropoff_datetime', 'trip_duration'], dtype=object)"
      ]
     },
     "execution_count": 6,
     "metadata": {},
     "output_type": "execute_result"
    }
   ],
   "source": [
    "diff_cols = np.setdiff1d(train_data.columns.values, eval_data.columns.values)\n",
    "diff_cols"
   ]
  },
  {
   "cell_type": "markdown",
   "metadata": {},
   "source": [
    "### Load another dataset with distance from OSMR"
   ]
  },
  {
   "cell_type": "code",
   "execution_count": 3,
   "metadata": {
    "ExecuteTime": {
     "end_time": "2017-07-27T08:26:11.004389Z",
     "start_time": "2017-07-27T08:25:52.505937Z"
    },
    "collapsed": true
   },
   "outputs": [],
   "source": [
    "# Download from: https://www.kaggle.com/oscarleo/new-york-city-taxi-with-osrm\n",
    "train_osm = pd.read_csv(DATA_DIR + \"/train_2.csv\")\n",
    "eval_osm =  pd.read_csv(DATA_DIR + \"/test_2.csv\")"
   ]
  },
  {
   "cell_type": "code",
   "execution_count": 39,
   "metadata": {
    "ExecuteTime": {
     "end_time": "2017-07-26T08:49:20.667911Z",
     "start_time": "2017-07-26T08:49:20.652286Z"
    }
   },
   "outputs": [
    {
     "name": "stdout",
     "output_type": "stream",
     "text": [
      "train_osm size: (1458644, 18)  test osm size: (625134, 17)\n"
     ]
    }
   ],
   "source": [
    "print(\"train_osm size:\", train_osm.shape, \" test osm size:\", eval_osm.shape)"
   ]
  },
  {
   "cell_type": "code",
   "execution_count": 4,
   "metadata": {
    "ExecuteTime": {
     "end_time": "2017-07-27T02:07:29.364281Z",
     "start_time": "2017-07-27T02:07:29.312704Z"
    }
   },
   "outputs": [
    {
     "data": {
      "text/html": [
       "<div>\n",
       "<style>\n",
       "    .dataframe thead tr:only-child th {\n",
       "        text-align: right;\n",
       "    }\n",
       "\n",
       "    .dataframe thead th {\n",
       "        text-align: left;\n",
       "    }\n",
       "\n",
       "    .dataframe tbody tr th {\n",
       "        vertical-align: top;\n",
       "    }\n",
       "</style>\n",
       "<table border=\"1\" class=\"dataframe\">\n",
       "  <thead>\n",
       "    <tr style=\"text-align: right;\">\n",
       "      <th></th>\n",
       "      <th>id</th>\n",
       "      <th>vendor_id</th>\n",
       "      <th>pickup_datetime</th>\n",
       "      <th>passenger_count</th>\n",
       "      <th>pickup_longitude</th>\n",
       "      <th>pickup_latitude</th>\n",
       "      <th>dropoff_longitude</th>\n",
       "      <th>dropoff_latitude</th>\n",
       "      <th>store_and_fwd_flag</th>\n",
       "      <th>trip_duration</th>\n",
       "      <th>starting_street</th>\n",
       "      <th>end_street</th>\n",
       "      <th>total_distance</th>\n",
       "      <th>total_duration</th>\n",
       "      <th>number_of_streets</th>\n",
       "      <th>street_list</th>\n",
       "      <th>distance_per_street_list</th>\n",
       "      <th>duration_per_street_list</th>\n",
       "    </tr>\n",
       "  </thead>\n",
       "  <tbody>\n",
       "    <tr>\n",
       "      <th>0</th>\n",
       "      <td>id2875421</td>\n",
       "      <td>2</td>\n",
       "      <td>2016-03-14 17:24:55</td>\n",
       "      <td>1</td>\n",
       "      <td>-73.982155</td>\n",
       "      <td>40.767937</td>\n",
       "      <td>-73.964630</td>\n",
       "      <td>40.765602</td>\n",
       "      <td>N</td>\n",
       "      <td>455</td>\n",
       "      <td>Columbus Circle</td>\n",
       "      <td>East 65th Street</td>\n",
       "      <td>2009.1</td>\n",
       "      <td>164.9</td>\n",
       "      <td>5.0</td>\n",
       "      <td>Columbus Circle,Central Park West,65th Street ...</td>\n",
       "      <td>0,576.4,885.6,547.1,0</td>\n",
       "      <td>0,61.1,60.1,43.7,0</td>\n",
       "    </tr>\n",
       "    <tr>\n",
       "      <th>1</th>\n",
       "      <td>id2377394</td>\n",
       "      <td>1</td>\n",
       "      <td>2016-06-12 00:43:35</td>\n",
       "      <td>1</td>\n",
       "      <td>-73.980415</td>\n",
       "      <td>40.738564</td>\n",
       "      <td>-73.999481</td>\n",
       "      <td>40.731152</td>\n",
       "      <td>N</td>\n",
       "      <td>663</td>\n",
       "      <td>2nd Avenue</td>\n",
       "      <td>Washington Square West</td>\n",
       "      <td>2513.2</td>\n",
       "      <td>332.0</td>\n",
       "      <td>6.0</td>\n",
       "      <td>2nd Avenue,East 13th Street,5th Avenue,Washing...</td>\n",
       "      <td>877.3,836.5,496.1,164.2,139.1,0</td>\n",
       "      <td>111.7,109,69.9,25.8,15.6,0</td>\n",
       "    </tr>\n",
       "    <tr>\n",
       "      <th>2</th>\n",
       "      <td>id3858529</td>\n",
       "      <td>2</td>\n",
       "      <td>2016-01-19 11:35:24</td>\n",
       "      <td>1</td>\n",
       "      <td>-73.979027</td>\n",
       "      <td>40.763939</td>\n",
       "      <td>-74.005333</td>\n",
       "      <td>40.710087</td>\n",
       "      <td>N</td>\n",
       "      <td>2124</td>\n",
       "      <td>West 56th Street</td>\n",
       "      <td>Beekman Street</td>\n",
       "      <td>11060.8</td>\n",
       "      <td>767.6</td>\n",
       "      <td>16.0</td>\n",
       "      <td>West 56th Street,6th Avenue,West 57th Street,S...</td>\n",
       "      <td>114.7,85.9,1593,246.7,234.9,71.5,219.9,7463.4,...</td>\n",
       "      <td>24,9.7,115.8,22.2,22.2,6.3,17.4,414.6,16,19.4,...</td>\n",
       "    </tr>\n",
       "    <tr>\n",
       "      <th>3</th>\n",
       "      <td>id3504673</td>\n",
       "      <td>2</td>\n",
       "      <td>2016-04-06 19:32:31</td>\n",
       "      <td>1</td>\n",
       "      <td>-74.010040</td>\n",
       "      <td>40.719971</td>\n",
       "      <td>-74.012268</td>\n",
       "      <td>40.706718</td>\n",
       "      <td>N</td>\n",
       "      <td>429</td>\n",
       "      <td>Greenwich Street</td>\n",
       "      <td>Broadway</td>\n",
       "      <td>1779.4</td>\n",
       "      <td>235.8</td>\n",
       "      <td>4.0</td>\n",
       "      <td>Greenwich Street,Park Place,Broadway,Broadway</td>\n",
       "      <td>644.2,379.9,755.3,0</td>\n",
       "      <td>80.5,50.8,104.5,0</td>\n",
       "    </tr>\n",
       "    <tr>\n",
       "      <th>4</th>\n",
       "      <td>id2181028</td>\n",
       "      <td>2</td>\n",
       "      <td>2016-03-26 13:30:55</td>\n",
       "      <td>1</td>\n",
       "      <td>-73.973053</td>\n",
       "      <td>40.793209</td>\n",
       "      <td>-73.972923</td>\n",
       "      <td>40.782520</td>\n",
       "      <td>N</td>\n",
       "      <td>435</td>\n",
       "      <td>Broadway</td>\n",
       "      <td>West 81st Street</td>\n",
       "      <td>1614.9</td>\n",
       "      <td>140.1</td>\n",
       "      <td>5.0</td>\n",
       "      <td>Broadway,West 86th Street,Columbus Avenue,West...</td>\n",
       "      <td>617,427.4,412.2,158.3,0</td>\n",
       "      <td>56,36,37.8,10.3,0</td>\n",
       "    </tr>\n",
       "  </tbody>\n",
       "</table>\n",
       "</div>"
      ],
      "text/plain": [
       "          id  vendor_id      pickup_datetime  passenger_count  \\\n",
       "0  id2875421          2  2016-03-14 17:24:55                1   \n",
       "1  id2377394          1  2016-06-12 00:43:35                1   \n",
       "2  id3858529          2  2016-01-19 11:35:24                1   \n",
       "3  id3504673          2  2016-04-06 19:32:31                1   \n",
       "4  id2181028          2  2016-03-26 13:30:55                1   \n",
       "\n",
       "   pickup_longitude  pickup_latitude  dropoff_longitude  dropoff_latitude  \\\n",
       "0        -73.982155        40.767937         -73.964630         40.765602   \n",
       "1        -73.980415        40.738564         -73.999481         40.731152   \n",
       "2        -73.979027        40.763939         -74.005333         40.710087   \n",
       "3        -74.010040        40.719971         -74.012268         40.706718   \n",
       "4        -73.973053        40.793209         -73.972923         40.782520   \n",
       "\n",
       "  store_and_fwd_flag  trip_duration   starting_street              end_street  \\\n",
       "0                  N            455   Columbus Circle        East 65th Street   \n",
       "1                  N            663        2nd Avenue  Washington Square West   \n",
       "2                  N           2124  West 56th Street          Beekman Street   \n",
       "3                  N            429  Greenwich Street                Broadway   \n",
       "4                  N            435          Broadway        West 81st Street   \n",
       "\n",
       "   total_distance  total_duration  number_of_streets  \\\n",
       "0          2009.1           164.9                5.0   \n",
       "1          2513.2           332.0                6.0   \n",
       "2         11060.8           767.6               16.0   \n",
       "3          1779.4           235.8                4.0   \n",
       "4          1614.9           140.1                5.0   \n",
       "\n",
       "                                         street_list  \\\n",
       "0  Columbus Circle,Central Park West,65th Street ...   \n",
       "1  2nd Avenue,East 13th Street,5th Avenue,Washing...   \n",
       "2  West 56th Street,6th Avenue,West 57th Street,S...   \n",
       "3      Greenwich Street,Park Place,Broadway,Broadway   \n",
       "4  Broadway,West 86th Street,Columbus Avenue,West...   \n",
       "\n",
       "                            distance_per_street_list  \\\n",
       "0                              0,576.4,885.6,547.1,0   \n",
       "1                    877.3,836.5,496.1,164.2,139.1,0   \n",
       "2  114.7,85.9,1593,246.7,234.9,71.5,219.9,7463.4,...   \n",
       "3                                644.2,379.9,755.3,0   \n",
       "4                            617,427.4,412.2,158.3,0   \n",
       "\n",
       "                            duration_per_street_list  \n",
       "0                                 0,61.1,60.1,43.7,0  \n",
       "1                         111.7,109,69.9,25.8,15.6,0  \n",
       "2  24,9.7,115.8,22.2,22.2,6.3,17.4,414.6,16,19.4,...  \n",
       "3                                  80.5,50.8,104.5,0  \n",
       "4                                  56,36,37.8,10.3,0  "
      ]
     },
     "execution_count": 4,
     "metadata": {},
     "output_type": "execute_result"
    }
   ],
   "source": [
    "train_osm[:5]"
   ]
  },
  {
   "cell_type": "code",
   "execution_count": 6,
   "metadata": {
    "ExecuteTime": {
     "end_time": "2017-07-27T02:11:27.246214Z",
     "start_time": "2017-07-27T02:11:27.225127Z"
    }
   },
   "outputs": [
    {
     "data": {
      "text/html": [
       "<div>\n",
       "<style>\n",
       "    .dataframe thead tr:only-child th {\n",
       "        text-align: right;\n",
       "    }\n",
       "\n",
       "    .dataframe thead th {\n",
       "        text-align: left;\n",
       "    }\n",
       "\n",
       "    .dataframe tbody tr th {\n",
       "        vertical-align: top;\n",
       "    }\n",
       "</style>\n",
       "<table border=\"1\" class=\"dataframe\">\n",
       "  <thead>\n",
       "    <tr style=\"text-align: right;\">\n",
       "      <th></th>\n",
       "      <th>id</th>\n",
       "      <th>vendor_id</th>\n",
       "      <th>pickup_datetime</th>\n",
       "      <th>passenger_count</th>\n",
       "      <th>pickup_longitude</th>\n",
       "      <th>pickup_latitude</th>\n",
       "      <th>dropoff_longitude</th>\n",
       "      <th>dropoff_latitude</th>\n",
       "      <th>store_and_fwd_flag</th>\n",
       "      <th>starting_street</th>\n",
       "      <th>end_street</th>\n",
       "      <th>total_distance</th>\n",
       "      <th>total_duration</th>\n",
       "      <th>number_of_streets</th>\n",
       "      <th>street_list</th>\n",
       "      <th>distance_per_street_list</th>\n",
       "      <th>duration_per_street_list</th>\n",
       "    </tr>\n",
       "  </thead>\n",
       "  <tbody>\n",
       "    <tr>\n",
       "      <th>0</th>\n",
       "      <td>id3004672</td>\n",
       "      <td>1</td>\n",
       "      <td>2016-06-30 23:59:58</td>\n",
       "      <td>1</td>\n",
       "      <td>-73.988129</td>\n",
       "      <td>40.732029</td>\n",
       "      <td>-73.990173</td>\n",
       "      <td>40.756680</td>\n",
       "      <td>N</td>\n",
       "      <td>3rd Avenue</td>\n",
       "      <td>8th Avenue</td>\n",
       "      <td>3795.9</td>\n",
       "      <td>424.6</td>\n",
       "      <td>4</td>\n",
       "      <td>3rd Avenue,East 37th Street,8th Avenue,8th Avenue</td>\n",
       "      <td>1983.3,1482.8,329.7,0</td>\n",
       "      <td>270.9,116.9,36.8,0</td>\n",
       "    </tr>\n",
       "    <tr>\n",
       "      <th>1</th>\n",
       "      <td>id3505355</td>\n",
       "      <td>1</td>\n",
       "      <td>2016-06-30 23:59:53</td>\n",
       "      <td>1</td>\n",
       "      <td>-73.964203</td>\n",
       "      <td>40.679993</td>\n",
       "      <td>-73.959808</td>\n",
       "      <td>40.655403</td>\n",
       "      <td>N</td>\n",
       "      <td>Washington Avenue</td>\n",
       "      <td>Flatbush Avenue</td>\n",
       "      <td>2904.5</td>\n",
       "      <td>200.0</td>\n",
       "      <td>4</td>\n",
       "      <td>Washington Avenue,Empire Boulevard,Flatbush Av...</td>\n",
       "      <td>1878.5,125.2,900.8,0</td>\n",
       "      <td>135.9,14.4,49.7,0</td>\n",
       "    </tr>\n",
       "    <tr>\n",
       "      <th>2</th>\n",
       "      <td>id1217141</td>\n",
       "      <td>1</td>\n",
       "      <td>2016-06-30 23:59:47</td>\n",
       "      <td>1</td>\n",
       "      <td>-73.997437</td>\n",
       "      <td>40.737583</td>\n",
       "      <td>-73.986160</td>\n",
       "      <td>40.729523</td>\n",
       "      <td>N</td>\n",
       "      <td>West 14th Street</td>\n",
       "      <td>East 10th Street</td>\n",
       "      <td>1499.5</td>\n",
       "      <td>193.2</td>\n",
       "      <td>4</td>\n",
       "      <td>West 14th Street,Broadway,East 10th Street,Eas...</td>\n",
       "      <td>641.9,346.9,510.7,0</td>\n",
       "      <td>80.5,49.6,63.1,0</td>\n",
       "    </tr>\n",
       "    <tr>\n",
       "      <th>3</th>\n",
       "      <td>id2150126</td>\n",
       "      <td>2</td>\n",
       "      <td>2016-06-30 23:59:41</td>\n",
       "      <td>1</td>\n",
       "      <td>-73.956070</td>\n",
       "      <td>40.771900</td>\n",
       "      <td>-73.986427</td>\n",
       "      <td>40.730469</td>\n",
       "      <td>N</td>\n",
       "      <td>2nd Avenue</td>\n",
       "      <td>East 11th Street</td>\n",
       "      <td>7023.9</td>\n",
       "      <td>494.8</td>\n",
       "      <td>11</td>\n",
       "      <td>2nd Avenue,East 76th Street,1st Avenue,East 79...</td>\n",
       "      <td>65.5,228.2,247.6,559.3,123.1,4132,49.2,494.1,1...</td>\n",
       "      <td>10.9,40.3,21.7,40.7,9.8,157.9,5.5,64.7,142.4,0...</td>\n",
       "    </tr>\n",
       "    <tr>\n",
       "      <th>4</th>\n",
       "      <td>id1598245</td>\n",
       "      <td>1</td>\n",
       "      <td>2016-06-30 23:59:33</td>\n",
       "      <td>1</td>\n",
       "      <td>-73.970215</td>\n",
       "      <td>40.761475</td>\n",
       "      <td>-73.961510</td>\n",
       "      <td>40.755890</td>\n",
       "      <td>N</td>\n",
       "      <td>East 57th Street</td>\n",
       "      <td>East 55th Street</td>\n",
       "      <td>1108.2</td>\n",
       "      <td>103.2</td>\n",
       "      <td>4</td>\n",
       "      <td>East 57th Street,Sutton Place South,East 55th ...</td>\n",
       "      <td>925,165.8,17.4,0</td>\n",
       "      <td>67.4,33.3,2.5,0</td>\n",
       "    </tr>\n",
       "  </tbody>\n",
       "</table>\n",
       "</div>"
      ],
      "text/plain": [
       "          id  vendor_id      pickup_datetime  passenger_count  \\\n",
       "0  id3004672          1  2016-06-30 23:59:58                1   \n",
       "1  id3505355          1  2016-06-30 23:59:53                1   \n",
       "2  id1217141          1  2016-06-30 23:59:47                1   \n",
       "3  id2150126          2  2016-06-30 23:59:41                1   \n",
       "4  id1598245          1  2016-06-30 23:59:33                1   \n",
       "\n",
       "   pickup_longitude  pickup_latitude  dropoff_longitude  dropoff_latitude  \\\n",
       "0        -73.988129        40.732029         -73.990173         40.756680   \n",
       "1        -73.964203        40.679993         -73.959808         40.655403   \n",
       "2        -73.997437        40.737583         -73.986160         40.729523   \n",
       "3        -73.956070        40.771900         -73.986427         40.730469   \n",
       "4        -73.970215        40.761475         -73.961510         40.755890   \n",
       "\n",
       "  store_and_fwd_flag    starting_street        end_street  total_distance  \\\n",
       "0                  N         3rd Avenue        8th Avenue          3795.9   \n",
       "1                  N  Washington Avenue   Flatbush Avenue          2904.5   \n",
       "2                  N   West 14th Street  East 10th Street          1499.5   \n",
       "3                  N         2nd Avenue  East 11th Street          7023.9   \n",
       "4                  N   East 57th Street  East 55th Street          1108.2   \n",
       "\n",
       "   total_duration  number_of_streets  \\\n",
       "0           424.6                  4   \n",
       "1           200.0                  4   \n",
       "2           193.2                  4   \n",
       "3           494.8                 11   \n",
       "4           103.2                  4   \n",
       "\n",
       "                                         street_list  \\\n",
       "0  3rd Avenue,East 37th Street,8th Avenue,8th Avenue   \n",
       "1  Washington Avenue,Empire Boulevard,Flatbush Av...   \n",
       "2  West 14th Street,Broadway,East 10th Street,Eas...   \n",
       "3  2nd Avenue,East 76th Street,1st Avenue,East 79...   \n",
       "4  East 57th Street,Sutton Place South,East 55th ...   \n",
       "\n",
       "                            distance_per_street_list  \\\n",
       "0                              1983.3,1482.8,329.7,0   \n",
       "1                               1878.5,125.2,900.8,0   \n",
       "2                                641.9,346.9,510.7,0   \n",
       "3  65.5,228.2,247.6,559.3,123.1,4132,49.2,494.1,1...   \n",
       "4                                   925,165.8,17.4,0   \n",
       "\n",
       "                            duration_per_street_list  \n",
       "0                                 270.9,116.9,36.8,0  \n",
       "1                                  135.9,14.4,49.7,0  \n",
       "2                                   80.5,49.6,63.1,0  \n",
       "3  10.9,40.3,21.7,40.7,9.8,157.9,5.5,64.7,142.4,0...  \n",
       "4                                    67.4,33.3,2.5,0  "
      ]
     },
     "execution_count": 6,
     "metadata": {},
     "output_type": "execute_result"
    }
   ],
   "source": [
    "eval_osm[:5]"
   ]
  },
  {
   "cell_type": "markdown",
   "metadata": {},
   "source": [
    "### Check different between orginal train data and OSM data set"
   ]
  },
  {
   "cell_type": "code",
   "execution_count": 10,
   "metadata": {
    "ExecuteTime": {
     "end_time": "2017-07-26T08:19:48.078547Z",
     "start_time": "2017-07-26T08:19:48.073543Z"
    }
   },
   "outputs": [
    {
     "data": {
      "text/plain": [
       "array(['distance_per_street_list', 'duration_per_street_list',\n",
       "       'end_street', 'number_of_streets', 'starting_street', 'street_list',\n",
       "       'total_distance', 'total_duration'], dtype=object)"
      ]
     },
     "execution_count": 10,
     "metadata": {},
     "output_type": "execute_result"
    }
   ],
   "source": [
    "diff_cols = np.setdiff1d(train_osm.columns.values, train_data.columns.values)\n",
    "diff_cols"
   ]
  },
  {
   "cell_type": "code",
   "execution_count": 4,
   "metadata": {
    "ExecuteTime": {
     "end_time": "2017-07-27T08:26:11.186520Z",
     "start_time": "2017-07-27T08:26:11.119469Z"
    }
   },
   "outputs": [
    {
     "data": {
      "text/html": [
       "<div>\n",
       "<style>\n",
       "    .dataframe thead tr:only-child th {\n",
       "        text-align: right;\n",
       "    }\n",
       "\n",
       "    .dataframe thead th {\n",
       "        text-align: left;\n",
       "    }\n",
       "\n",
       "    .dataframe tbody tr th {\n",
       "        vertical-align: top;\n",
       "    }\n",
       "</style>\n",
       "<table border=\"1\" class=\"dataframe\">\n",
       "  <thead>\n",
       "    <tr style=\"text-align: right;\">\n",
       "      <th></th>\n",
       "      <th>id</th>\n",
       "      <th>total_distance</th>\n",
       "      <th>number_of_streets</th>\n",
       "      <th>starting_street</th>\n",
       "      <th>end_street</th>\n",
       "    </tr>\n",
       "  </thead>\n",
       "  <tbody>\n",
       "    <tr>\n",
       "      <th>0</th>\n",
       "      <td>id2875421</td>\n",
       "      <td>2009.1</td>\n",
       "      <td>5.0</td>\n",
       "      <td>Columbus Circle</td>\n",
       "      <td>East 65th Street</td>\n",
       "    </tr>\n",
       "    <tr>\n",
       "      <th>1</th>\n",
       "      <td>id2377394</td>\n",
       "      <td>2513.2</td>\n",
       "      <td>6.0</td>\n",
       "      <td>2nd Avenue</td>\n",
       "      <td>Washington Square West</td>\n",
       "    </tr>\n",
       "    <tr>\n",
       "      <th>2</th>\n",
       "      <td>id3858529</td>\n",
       "      <td>11060.8</td>\n",
       "      <td>16.0</td>\n",
       "      <td>West 56th Street</td>\n",
       "      <td>Beekman Street</td>\n",
       "    </tr>\n",
       "    <tr>\n",
       "      <th>3</th>\n",
       "      <td>id3504673</td>\n",
       "      <td>1779.4</td>\n",
       "      <td>4.0</td>\n",
       "      <td>Greenwich Street</td>\n",
       "      <td>Broadway</td>\n",
       "    </tr>\n",
       "    <tr>\n",
       "      <th>4</th>\n",
       "      <td>id2181028</td>\n",
       "      <td>1614.9</td>\n",
       "      <td>5.0</td>\n",
       "      <td>Broadway</td>\n",
       "      <td>West 81st Street</td>\n",
       "    </tr>\n",
       "  </tbody>\n",
       "</table>\n",
       "</div>"
      ],
      "text/plain": [
       "          id  total_distance  number_of_streets   starting_street  \\\n",
       "0  id2875421          2009.1                5.0   Columbus Circle   \n",
       "1  id2377394          2513.2                6.0        2nd Avenue   \n",
       "2  id3858529         11060.8               16.0  West 56th Street   \n",
       "3  id3504673          1779.4                4.0  Greenwich Street   \n",
       "4  id2181028          1614.9                5.0          Broadway   \n",
       "\n",
       "               end_street  \n",
       "0        East 65th Street  \n",
       "1  Washington Square West  \n",
       "2          Beekman Street  \n",
       "3                Broadway  \n",
       "4        West 81st Street  "
      ]
     },
     "execution_count": 4,
     "metadata": {},
     "output_type": "execute_result"
    }
   ],
   "source": [
    "col_use =['id', 'total_distance', 'number_of_streets', 'starting_street', 'end_street']\n",
    "train_osm_data = train_osm[col_use]\n",
    "train_osm_data[:5]"
   ]
  },
  {
   "cell_type": "code",
   "execution_count": 5,
   "metadata": {
    "ExecuteTime": {
     "end_time": "2017-07-27T08:26:11.347536Z",
     "start_time": "2017-07-27T08:26:11.312607Z"
    }
   },
   "outputs": [
    {
     "data": {
      "text/html": [
       "<div>\n",
       "<style>\n",
       "    .dataframe thead tr:only-child th {\n",
       "        text-align: right;\n",
       "    }\n",
       "\n",
       "    .dataframe thead th {\n",
       "        text-align: left;\n",
       "    }\n",
       "\n",
       "    .dataframe tbody tr th {\n",
       "        vertical-align: top;\n",
       "    }\n",
       "</style>\n",
       "<table border=\"1\" class=\"dataframe\">\n",
       "  <thead>\n",
       "    <tr style=\"text-align: right;\">\n",
       "      <th></th>\n",
       "      <th>id</th>\n",
       "      <th>total_distance</th>\n",
       "      <th>number_of_streets</th>\n",
       "      <th>starting_street</th>\n",
       "      <th>end_street</th>\n",
       "    </tr>\n",
       "  </thead>\n",
       "  <tbody>\n",
       "    <tr>\n",
       "      <th>0</th>\n",
       "      <td>id3004672</td>\n",
       "      <td>3795.9</td>\n",
       "      <td>4</td>\n",
       "      <td>3rd Avenue</td>\n",
       "      <td>8th Avenue</td>\n",
       "    </tr>\n",
       "    <tr>\n",
       "      <th>1</th>\n",
       "      <td>id3505355</td>\n",
       "      <td>2904.5</td>\n",
       "      <td>4</td>\n",
       "      <td>Washington Avenue</td>\n",
       "      <td>Flatbush Avenue</td>\n",
       "    </tr>\n",
       "    <tr>\n",
       "      <th>2</th>\n",
       "      <td>id1217141</td>\n",
       "      <td>1499.5</td>\n",
       "      <td>4</td>\n",
       "      <td>West 14th Street</td>\n",
       "      <td>East 10th Street</td>\n",
       "    </tr>\n",
       "    <tr>\n",
       "      <th>3</th>\n",
       "      <td>id2150126</td>\n",
       "      <td>7023.9</td>\n",
       "      <td>11</td>\n",
       "      <td>2nd Avenue</td>\n",
       "      <td>East 11th Street</td>\n",
       "    </tr>\n",
       "    <tr>\n",
       "      <th>4</th>\n",
       "      <td>id1598245</td>\n",
       "      <td>1108.2</td>\n",
       "      <td>4</td>\n",
       "      <td>East 57th Street</td>\n",
       "      <td>East 55th Street</td>\n",
       "    </tr>\n",
       "  </tbody>\n",
       "</table>\n",
       "</div>"
      ],
      "text/plain": [
       "          id  total_distance  number_of_streets    starting_street  \\\n",
       "0  id3004672          3795.9                  4         3rd Avenue   \n",
       "1  id3505355          2904.5                  4  Washington Avenue   \n",
       "2  id1217141          1499.5                  4   West 14th Street   \n",
       "3  id2150126          7023.9                 11         2nd Avenue   \n",
       "4  id1598245          1108.2                  4   East 57th Street   \n",
       "\n",
       "         end_street  \n",
       "0        8th Avenue  \n",
       "1   Flatbush Avenue  \n",
       "2  East 10th Street  \n",
       "3  East 11th Street  \n",
       "4  East 55th Street  "
      ]
     },
     "execution_count": 5,
     "metadata": {},
     "output_type": "execute_result"
    }
   ],
   "source": [
    "eval_osm_data = eval_osm[col_use]\n",
    "eval_osm_data[:5] "
   ]
  },
  {
   "cell_type": "code",
   "execution_count": 6,
   "metadata": {
    "ExecuteTime": {
     "end_time": "2017-07-27T08:26:15.023834Z",
     "start_time": "2017-07-27T08:26:15.019831Z"
    },
    "collapsed": true
   },
   "outputs": [],
   "source": [
    "del train_osm"
   ]
  },
  {
   "cell_type": "code",
   "execution_count": 7,
   "metadata": {
    "ExecuteTime": {
     "end_time": "2017-07-27T08:26:15.928840Z",
     "start_time": "2017-07-27T08:26:15.925334Z"
    },
    "collapsed": true
   },
   "outputs": [],
   "source": [
    "del eval_osm"
   ]
  },
  {
   "cell_type": "markdown",
   "metadata": {},
   "source": [
    "### Combine train data and eval data"
   ]
  },
  {
   "cell_type": "code",
   "execution_count": 8,
   "metadata": {
    "ExecuteTime": {
     "end_time": "2017-07-27T08:26:20.483701Z",
     "start_time": "2017-07-27T08:26:18.925620Z"
    }
   },
   "outputs": [
    {
     "data": {
      "text/html": [
       "<div>\n",
       "<style>\n",
       "    .dataframe thead tr:only-child th {\n",
       "        text-align: right;\n",
       "    }\n",
       "\n",
       "    .dataframe thead th {\n",
       "        text-align: left;\n",
       "    }\n",
       "\n",
       "    .dataframe tbody tr th {\n",
       "        vertical-align: top;\n",
       "    }\n",
       "</style>\n",
       "<table border=\"1\" class=\"dataframe\">\n",
       "  <thead>\n",
       "    <tr style=\"text-align: right;\">\n",
       "      <th></th>\n",
       "      <th>id</th>\n",
       "      <th>vendor_id</th>\n",
       "      <th>pickup_datetime</th>\n",
       "      <th>dropoff_datetime</th>\n",
       "      <th>passenger_count</th>\n",
       "      <th>pickup_longitude</th>\n",
       "      <th>pickup_latitude</th>\n",
       "      <th>dropoff_longitude</th>\n",
       "      <th>dropoff_latitude</th>\n",
       "      <th>store_and_fwd_flag</th>\n",
       "      <th>trip_duration</th>\n",
       "      <th>total_distance</th>\n",
       "      <th>number_of_streets</th>\n",
       "      <th>starting_street</th>\n",
       "      <th>end_street</th>\n",
       "    </tr>\n",
       "  </thead>\n",
       "  <tbody>\n",
       "    <tr>\n",
       "      <th>0</th>\n",
       "      <td>id2875421</td>\n",
       "      <td>2</td>\n",
       "      <td>2016-03-14 17:24:55</td>\n",
       "      <td>2016-03-14 17:32:30</td>\n",
       "      <td>1</td>\n",
       "      <td>-73.982155</td>\n",
       "      <td>40.767937</td>\n",
       "      <td>-73.964630</td>\n",
       "      <td>40.765602</td>\n",
       "      <td>N</td>\n",
       "      <td>455</td>\n",
       "      <td>2009.1</td>\n",
       "      <td>5.0</td>\n",
       "      <td>Columbus Circle</td>\n",
       "      <td>East 65th Street</td>\n",
       "    </tr>\n",
       "    <tr>\n",
       "      <th>1</th>\n",
       "      <td>id2377394</td>\n",
       "      <td>1</td>\n",
       "      <td>2016-06-12 00:43:35</td>\n",
       "      <td>2016-06-12 00:54:38</td>\n",
       "      <td>1</td>\n",
       "      <td>-73.980415</td>\n",
       "      <td>40.738564</td>\n",
       "      <td>-73.999481</td>\n",
       "      <td>40.731152</td>\n",
       "      <td>N</td>\n",
       "      <td>663</td>\n",
       "      <td>2513.2</td>\n",
       "      <td>6.0</td>\n",
       "      <td>2nd Avenue</td>\n",
       "      <td>Washington Square West</td>\n",
       "    </tr>\n",
       "    <tr>\n",
       "      <th>2</th>\n",
       "      <td>id3858529</td>\n",
       "      <td>2</td>\n",
       "      <td>2016-01-19 11:35:24</td>\n",
       "      <td>2016-01-19 12:10:48</td>\n",
       "      <td>1</td>\n",
       "      <td>-73.979027</td>\n",
       "      <td>40.763939</td>\n",
       "      <td>-74.005333</td>\n",
       "      <td>40.710087</td>\n",
       "      <td>N</td>\n",
       "      <td>2124</td>\n",
       "      <td>11060.8</td>\n",
       "      <td>16.0</td>\n",
       "      <td>West 56th Street</td>\n",
       "      <td>Beekman Street</td>\n",
       "    </tr>\n",
       "    <tr>\n",
       "      <th>3</th>\n",
       "      <td>id3504673</td>\n",
       "      <td>2</td>\n",
       "      <td>2016-04-06 19:32:31</td>\n",
       "      <td>2016-04-06 19:39:40</td>\n",
       "      <td>1</td>\n",
       "      <td>-74.010040</td>\n",
       "      <td>40.719971</td>\n",
       "      <td>-74.012268</td>\n",
       "      <td>40.706718</td>\n",
       "      <td>N</td>\n",
       "      <td>429</td>\n",
       "      <td>1779.4</td>\n",
       "      <td>4.0</td>\n",
       "      <td>Greenwich Street</td>\n",
       "      <td>Broadway</td>\n",
       "    </tr>\n",
       "    <tr>\n",
       "      <th>4</th>\n",
       "      <td>id2181028</td>\n",
       "      <td>2</td>\n",
       "      <td>2016-03-26 13:30:55</td>\n",
       "      <td>2016-03-26 13:38:10</td>\n",
       "      <td>1</td>\n",
       "      <td>-73.973053</td>\n",
       "      <td>40.793209</td>\n",
       "      <td>-73.972923</td>\n",
       "      <td>40.782520</td>\n",
       "      <td>N</td>\n",
       "      <td>435</td>\n",
       "      <td>1614.9</td>\n",
       "      <td>5.0</td>\n",
       "      <td>Broadway</td>\n",
       "      <td>West 81st Street</td>\n",
       "    </tr>\n",
       "  </tbody>\n",
       "</table>\n",
       "</div>"
      ],
      "text/plain": [
       "          id  vendor_id      pickup_datetime     dropoff_datetime  \\\n",
       "0  id2875421          2  2016-03-14 17:24:55  2016-03-14 17:32:30   \n",
       "1  id2377394          1  2016-06-12 00:43:35  2016-06-12 00:54:38   \n",
       "2  id3858529          2  2016-01-19 11:35:24  2016-01-19 12:10:48   \n",
       "3  id3504673          2  2016-04-06 19:32:31  2016-04-06 19:39:40   \n",
       "4  id2181028          2  2016-03-26 13:30:55  2016-03-26 13:38:10   \n",
       "\n",
       "   passenger_count  pickup_longitude  pickup_latitude  dropoff_longitude  \\\n",
       "0                1        -73.982155        40.767937         -73.964630   \n",
       "1                1        -73.980415        40.738564         -73.999481   \n",
       "2                1        -73.979027        40.763939         -74.005333   \n",
       "3                1        -74.010040        40.719971         -74.012268   \n",
       "4                1        -73.973053        40.793209         -73.972923   \n",
       "\n",
       "   dropoff_latitude store_and_fwd_flag  trip_duration  total_distance  \\\n",
       "0         40.765602                  N            455          2009.1   \n",
       "1         40.731152                  N            663          2513.2   \n",
       "2         40.710087                  N           2124         11060.8   \n",
       "3         40.706718                  N            429          1779.4   \n",
       "4         40.782520                  N            435          1614.9   \n",
       "\n",
       "   number_of_streets   starting_street              end_street  \n",
       "0                5.0   Columbus Circle        East 65th Street  \n",
       "1                6.0        2nd Avenue  Washington Square West  \n",
       "2               16.0  West 56th Street          Beekman Street  \n",
       "3                4.0  Greenwich Street                Broadway  \n",
       "4                5.0          Broadway        West 81st Street  "
      ]
     },
     "execution_count": 8,
     "metadata": {},
     "output_type": "execute_result"
    }
   ],
   "source": [
    "train_data = train_data.join(train_osm_data.set_index('id'), on='id')\n",
    "train_data[:5]"
   ]
  },
  {
   "cell_type": "code",
   "execution_count": 9,
   "metadata": {
    "ExecuteTime": {
     "end_time": "2017-07-27T08:26:23.496533Z",
     "start_time": "2017-07-27T08:26:22.926102Z"
    }
   },
   "outputs": [
    {
     "data": {
      "text/html": [
       "<div>\n",
       "<style>\n",
       "    .dataframe thead tr:only-child th {\n",
       "        text-align: right;\n",
       "    }\n",
       "\n",
       "    .dataframe thead th {\n",
       "        text-align: left;\n",
       "    }\n",
       "\n",
       "    .dataframe tbody tr th {\n",
       "        vertical-align: top;\n",
       "    }\n",
       "</style>\n",
       "<table border=\"1\" class=\"dataframe\">\n",
       "  <thead>\n",
       "    <tr style=\"text-align: right;\">\n",
       "      <th></th>\n",
       "      <th>id</th>\n",
       "      <th>vendor_id</th>\n",
       "      <th>pickup_datetime</th>\n",
       "      <th>passenger_count</th>\n",
       "      <th>pickup_longitude</th>\n",
       "      <th>pickup_latitude</th>\n",
       "      <th>dropoff_longitude</th>\n",
       "      <th>dropoff_latitude</th>\n",
       "      <th>store_and_fwd_flag</th>\n",
       "      <th>total_distance</th>\n",
       "      <th>number_of_streets</th>\n",
       "      <th>starting_street</th>\n",
       "      <th>end_street</th>\n",
       "    </tr>\n",
       "  </thead>\n",
       "  <tbody>\n",
       "    <tr>\n",
       "      <th>0</th>\n",
       "      <td>id3004672</td>\n",
       "      <td>1</td>\n",
       "      <td>2016-06-30 23:59:58</td>\n",
       "      <td>1</td>\n",
       "      <td>-73.988129</td>\n",
       "      <td>40.732029</td>\n",
       "      <td>-73.990173</td>\n",
       "      <td>40.756680</td>\n",
       "      <td>N</td>\n",
       "      <td>3795.9</td>\n",
       "      <td>4</td>\n",
       "      <td>3rd Avenue</td>\n",
       "      <td>8th Avenue</td>\n",
       "    </tr>\n",
       "    <tr>\n",
       "      <th>1</th>\n",
       "      <td>id3505355</td>\n",
       "      <td>1</td>\n",
       "      <td>2016-06-30 23:59:53</td>\n",
       "      <td>1</td>\n",
       "      <td>-73.964203</td>\n",
       "      <td>40.679993</td>\n",
       "      <td>-73.959808</td>\n",
       "      <td>40.655403</td>\n",
       "      <td>N</td>\n",
       "      <td>2904.5</td>\n",
       "      <td>4</td>\n",
       "      <td>Washington Avenue</td>\n",
       "      <td>Flatbush Avenue</td>\n",
       "    </tr>\n",
       "    <tr>\n",
       "      <th>2</th>\n",
       "      <td>id1217141</td>\n",
       "      <td>1</td>\n",
       "      <td>2016-06-30 23:59:47</td>\n",
       "      <td>1</td>\n",
       "      <td>-73.997437</td>\n",
       "      <td>40.737583</td>\n",
       "      <td>-73.986160</td>\n",
       "      <td>40.729523</td>\n",
       "      <td>N</td>\n",
       "      <td>1499.5</td>\n",
       "      <td>4</td>\n",
       "      <td>West 14th Street</td>\n",
       "      <td>East 10th Street</td>\n",
       "    </tr>\n",
       "    <tr>\n",
       "      <th>3</th>\n",
       "      <td>id2150126</td>\n",
       "      <td>2</td>\n",
       "      <td>2016-06-30 23:59:41</td>\n",
       "      <td>1</td>\n",
       "      <td>-73.956070</td>\n",
       "      <td>40.771900</td>\n",
       "      <td>-73.986427</td>\n",
       "      <td>40.730469</td>\n",
       "      <td>N</td>\n",
       "      <td>7023.9</td>\n",
       "      <td>11</td>\n",
       "      <td>2nd Avenue</td>\n",
       "      <td>East 11th Street</td>\n",
       "    </tr>\n",
       "    <tr>\n",
       "      <th>4</th>\n",
       "      <td>id1598245</td>\n",
       "      <td>1</td>\n",
       "      <td>2016-06-30 23:59:33</td>\n",
       "      <td>1</td>\n",
       "      <td>-73.970215</td>\n",
       "      <td>40.761475</td>\n",
       "      <td>-73.961510</td>\n",
       "      <td>40.755890</td>\n",
       "      <td>N</td>\n",
       "      <td>1108.2</td>\n",
       "      <td>4</td>\n",
       "      <td>East 57th Street</td>\n",
       "      <td>East 55th Street</td>\n",
       "    </tr>\n",
       "  </tbody>\n",
       "</table>\n",
       "</div>"
      ],
      "text/plain": [
       "          id  vendor_id      pickup_datetime  passenger_count  \\\n",
       "0  id3004672          1  2016-06-30 23:59:58                1   \n",
       "1  id3505355          1  2016-06-30 23:59:53                1   \n",
       "2  id1217141          1  2016-06-30 23:59:47                1   \n",
       "3  id2150126          2  2016-06-30 23:59:41                1   \n",
       "4  id1598245          1  2016-06-30 23:59:33                1   \n",
       "\n",
       "   pickup_longitude  pickup_latitude  dropoff_longitude  dropoff_latitude  \\\n",
       "0        -73.988129        40.732029         -73.990173         40.756680   \n",
       "1        -73.964203        40.679993         -73.959808         40.655403   \n",
       "2        -73.997437        40.737583         -73.986160         40.729523   \n",
       "3        -73.956070        40.771900         -73.986427         40.730469   \n",
       "4        -73.970215        40.761475         -73.961510         40.755890   \n",
       "\n",
       "  store_and_fwd_flag  total_distance  number_of_streets    starting_street  \\\n",
       "0                  N          3795.9                  4         3rd Avenue   \n",
       "1                  N          2904.5                  4  Washington Avenue   \n",
       "2                  N          1499.5                  4   West 14th Street   \n",
       "3                  N          7023.9                 11         2nd Avenue   \n",
       "4                  N          1108.2                  4   East 57th Street   \n",
       "\n",
       "         end_street  \n",
       "0        8th Avenue  \n",
       "1   Flatbush Avenue  \n",
       "2  East 10th Street  \n",
       "3  East 11th Street  \n",
       "4  East 55th Street  "
      ]
     },
     "execution_count": 9,
     "metadata": {},
     "output_type": "execute_result"
    }
   ],
   "source": [
    "eval_data = eval_data.join(eval_osm_data.set_index('id'), on='id')\n",
    "eval_data[:5]"
   ]
  },
  {
   "cell_type": "code",
   "execution_count": 10,
   "metadata": {
    "ExecuteTime": {
     "end_time": "2017-07-27T08:26:27.315886Z",
     "start_time": "2017-07-27T08:26:27.311379Z"
    },
    "collapsed": true
   },
   "outputs": [],
   "source": [
    "del train_osm_data\n",
    "del eval_osm_data"
   ]
  },
  {
   "cell_type": "code",
   "execution_count": 11,
   "metadata": {
    "ExecuteTime": {
     "end_time": "2017-07-27T08:26:34.871401Z",
     "start_time": "2017-07-27T08:26:33.650365Z"
    }
   },
   "outputs": [
    {
     "name": "stdout",
     "output_type": "stream",
     "text": [
      "combine data: 2083778\n"
     ]
    },
    {
     "data": {
      "text/html": [
       "<div>\n",
       "<style>\n",
       "    .dataframe thead tr:only-child th {\n",
       "        text-align: right;\n",
       "    }\n",
       "\n",
       "    .dataframe thead th {\n",
       "        text-align: left;\n",
       "    }\n",
       "\n",
       "    .dataframe tbody tr th {\n",
       "        vertical-align: top;\n",
       "    }\n",
       "</style>\n",
       "<table border=\"1\" class=\"dataframe\">\n",
       "  <thead>\n",
       "    <tr style=\"text-align: right;\">\n",
       "      <th></th>\n",
       "      <th></th>\n",
       "      <th>id</th>\n",
       "      <th>vendor_id</th>\n",
       "      <th>pickup_datetime</th>\n",
       "      <th>passenger_count</th>\n",
       "      <th>pickup_longitude</th>\n",
       "      <th>pickup_latitude</th>\n",
       "      <th>dropoff_longitude</th>\n",
       "      <th>dropoff_latitude</th>\n",
       "      <th>store_and_fwd_flag</th>\n",
       "      <th>total_distance</th>\n",
       "      <th>number_of_streets</th>\n",
       "      <th>starting_street</th>\n",
       "      <th>end_street</th>\n",
       "    </tr>\n",
       "  </thead>\n",
       "  <tbody>\n",
       "    <tr>\n",
       "      <th rowspan=\"5\" valign=\"top\">train</th>\n",
       "      <th>0</th>\n",
       "      <td>id2875421</td>\n",
       "      <td>2</td>\n",
       "      <td>2016-03-14 17:24:55</td>\n",
       "      <td>1</td>\n",
       "      <td>-73.982155</td>\n",
       "      <td>40.767937</td>\n",
       "      <td>-73.964630</td>\n",
       "      <td>40.765602</td>\n",
       "      <td>N</td>\n",
       "      <td>2009.1</td>\n",
       "      <td>5.0</td>\n",
       "      <td>Columbus Circle</td>\n",
       "      <td>East 65th Street</td>\n",
       "    </tr>\n",
       "    <tr>\n",
       "      <th>1</th>\n",
       "      <td>id2377394</td>\n",
       "      <td>1</td>\n",
       "      <td>2016-06-12 00:43:35</td>\n",
       "      <td>1</td>\n",
       "      <td>-73.980415</td>\n",
       "      <td>40.738564</td>\n",
       "      <td>-73.999481</td>\n",
       "      <td>40.731152</td>\n",
       "      <td>N</td>\n",
       "      <td>2513.2</td>\n",
       "      <td>6.0</td>\n",
       "      <td>2nd Avenue</td>\n",
       "      <td>Washington Square West</td>\n",
       "    </tr>\n",
       "    <tr>\n",
       "      <th>2</th>\n",
       "      <td>id3858529</td>\n",
       "      <td>2</td>\n",
       "      <td>2016-01-19 11:35:24</td>\n",
       "      <td>1</td>\n",
       "      <td>-73.979027</td>\n",
       "      <td>40.763939</td>\n",
       "      <td>-74.005333</td>\n",
       "      <td>40.710087</td>\n",
       "      <td>N</td>\n",
       "      <td>11060.8</td>\n",
       "      <td>16.0</td>\n",
       "      <td>West 56th Street</td>\n",
       "      <td>Beekman Street</td>\n",
       "    </tr>\n",
       "    <tr>\n",
       "      <th>3</th>\n",
       "      <td>id3504673</td>\n",
       "      <td>2</td>\n",
       "      <td>2016-04-06 19:32:31</td>\n",
       "      <td>1</td>\n",
       "      <td>-74.010040</td>\n",
       "      <td>40.719971</td>\n",
       "      <td>-74.012268</td>\n",
       "      <td>40.706718</td>\n",
       "      <td>N</td>\n",
       "      <td>1779.4</td>\n",
       "      <td>4.0</td>\n",
       "      <td>Greenwich Street</td>\n",
       "      <td>Broadway</td>\n",
       "    </tr>\n",
       "    <tr>\n",
       "      <th>4</th>\n",
       "      <td>id2181028</td>\n",
       "      <td>2</td>\n",
       "      <td>2016-03-26 13:30:55</td>\n",
       "      <td>1</td>\n",
       "      <td>-73.973053</td>\n",
       "      <td>40.793209</td>\n",
       "      <td>-73.972923</td>\n",
       "      <td>40.782520</td>\n",
       "      <td>N</td>\n",
       "      <td>1614.9</td>\n",
       "      <td>5.0</td>\n",
       "      <td>Broadway</td>\n",
       "      <td>West 81st Street</td>\n",
       "    </tr>\n",
       "  </tbody>\n",
       "</table>\n",
       "</div>"
      ],
      "text/plain": [
       "                id  vendor_id      pickup_datetime  passenger_count  \\\n",
       "train 0  id2875421          2  2016-03-14 17:24:55                1   \n",
       "      1  id2377394          1  2016-06-12 00:43:35                1   \n",
       "      2  id3858529          2  2016-01-19 11:35:24                1   \n",
       "      3  id3504673          2  2016-04-06 19:32:31                1   \n",
       "      4  id2181028          2  2016-03-26 13:30:55                1   \n",
       "\n",
       "         pickup_longitude  pickup_latitude  dropoff_longitude  \\\n",
       "train 0        -73.982155        40.767937         -73.964630   \n",
       "      1        -73.980415        40.738564         -73.999481   \n",
       "      2        -73.979027        40.763939         -74.005333   \n",
       "      3        -74.010040        40.719971         -74.012268   \n",
       "      4        -73.973053        40.793209         -73.972923   \n",
       "\n",
       "         dropoff_latitude store_and_fwd_flag  total_distance  \\\n",
       "train 0         40.765602                  N          2009.1   \n",
       "      1         40.731152                  N          2513.2   \n",
       "      2         40.710087                  N         11060.8   \n",
       "      3         40.706718                  N          1779.4   \n",
       "      4         40.782520                  N          1614.9   \n",
       "\n",
       "         number_of_streets   starting_street              end_street  \n",
       "train 0                5.0   Columbus Circle        East 65th Street  \n",
       "      1                6.0        2nd Avenue  Washington Square West  \n",
       "      2               16.0  West 56th Street          Beekman Street  \n",
       "      3                4.0  Greenwich Street                Broadway  \n",
       "      4                5.0          Broadway        West 81st Street  "
      ]
     },
     "execution_count": 11,
     "metadata": {},
     "output_type": "execute_result"
    }
   ],
   "source": [
    "label = 'trip_duration'\n",
    "features = eval_data.columns.values\n",
    "target = train_data[label].values\n",
    "combine_data = pd.concat([train_data[features], eval_data], keys=['train','eval'])\n",
    "print(\"combine data:\", len(combine_data))\n",
    "combine_data.head(5)"
   ]
  },
  {
   "cell_type": "code",
   "execution_count": 12,
   "metadata": {
    "ExecuteTime": {
     "end_time": "2017-07-27T08:26:39.007051Z",
     "start_time": "2017-07-27T08:26:38.991425Z"
    },
    "collapsed": true
   },
   "outputs": [],
   "source": [
    "del train_data\n",
    "del eval_data"
   ]
  },
  {
   "cell_type": "markdown",
   "metadata": {},
   "source": [
    "# Pre-process data"
   ]
  },
  {
   "cell_type": "markdown",
   "metadata": {},
   "source": [
    "## Check& Fill  NaN "
   ]
  },
  {
   "cell_type": "code",
   "execution_count": 15,
   "metadata": {
    "ExecuteTime": {
     "end_time": "2017-07-27T08:28:07.798852Z",
     "start_time": "2017-07-27T08:28:07.767598Z"
    },
    "collapsed": true
   },
   "outputs": [],
   "source": [
    "def check_null_data(data):\n",
    "    #Get high percent of NaN data\n",
    "    null_data = data.isnull()\n",
    "    total = null_data.sum().sort_values(ascending=False)\n",
    "    percent = (null_data.sum()/null_data.count()).sort_values(ascending=False)\n",
    "    missing_data = pd.concat([total, percent], axis=1, keys=['Total', 'Percent'])\n",
    "    high_percent_miss_data = missing_data[missing_data['Percent']>0]\n",
    "    #print(missing_data)\n",
    "    print(high_percent_miss_data)\n",
    "    miss_data_cols = high_percent_miss_data.index.values\n",
    "    return miss_data_cols"
   ]
  },
  {
   "cell_type": "code",
   "execution_count": 18,
   "metadata": {
    "ExecuteTime": {
     "end_time": "2017-07-27T08:28:49.620207Z",
     "start_time": "2017-07-27T08:28:48.332346Z"
    }
   },
   "outputs": [
    {
     "name": "stdout",
     "output_type": "stream",
     "text": [
      "                   Total       Percent\n",
      "starting_street    56416  2.707390e-02\n",
      "end_street         40491  1.943153e-02\n",
      "number_of_streets      1  4.798976e-07\n",
      "total_distance         1  4.798976e-07\n"
     ]
    },
    {
     "data": {
      "text/plain": [
       "array(['starting_street', 'end_street', 'number_of_streets',\n",
       "       'total_distance'], dtype=object)"
      ]
     },
     "execution_count": 18,
     "metadata": {},
     "output_type": "execute_result"
    }
   ],
   "source": [
    "# combine data for null\n",
    "check_null_data(combine_data)"
   ]
  },
  {
   "cell_type": "code",
   "execution_count": 11,
   "metadata": {},
   "outputs": [
    {
     "data": {
      "text/plain": [
       "id                     object\n",
       "vendor_id               int64\n",
       "pickup_datetime        object\n",
       "passenger_count         int64\n",
       "pickup_longitude      float64\n",
       "pickup_latitude       float64\n",
       "dropoff_longitude     float64\n",
       "dropoff_latitude      float64\n",
       "store_and_fwd_flag     object\n",
       "dtype: object"
      ]
     },
     "execution_count": 11,
     "metadata": {},
     "output_type": "execute_result"
    }
   ],
   "source": [
    "combine_data.dtypes"
   ]
  },
  {
   "cell_type": "markdown",
   "metadata": {},
   "source": [
    "### number_of_streets"
   ]
  },
  {
   "cell_type": "code",
   "execution_count": 22,
   "metadata": {
    "ExecuteTime": {
     "end_time": "2017-07-27T08:38:03.088131Z",
     "start_time": "2017-07-27T08:38:03.063113Z"
    }
   },
   "outputs": [
    {
     "data": {
      "text/html": [
       "<div>\n",
       "<style>\n",
       "    .dataframe thead tr:only-child th {\n",
       "        text-align: right;\n",
       "    }\n",
       "\n",
       "    .dataframe thead th {\n",
       "        text-align: left;\n",
       "    }\n",
       "\n",
       "    .dataframe tbody tr th {\n",
       "        vertical-align: top;\n",
       "    }\n",
       "</style>\n",
       "<table border=\"1\" class=\"dataframe\">\n",
       "  <thead>\n",
       "    <tr style=\"text-align: right;\">\n",
       "      <th></th>\n",
       "      <th></th>\n",
       "      <th>id</th>\n",
       "      <th>vendor_id</th>\n",
       "      <th>pickup_datetime</th>\n",
       "      <th>passenger_count</th>\n",
       "      <th>pickup_longitude</th>\n",
       "      <th>pickup_latitude</th>\n",
       "      <th>dropoff_longitude</th>\n",
       "      <th>dropoff_latitude</th>\n",
       "      <th>store_and_fwd_flag</th>\n",
       "      <th>total_distance</th>\n",
       "      <th>number_of_streets</th>\n",
       "      <th>starting_street</th>\n",
       "      <th>end_street</th>\n",
       "    </tr>\n",
       "  </thead>\n",
       "  <tbody>\n",
       "    <tr>\n",
       "      <th>train</th>\n",
       "      <th>1133561</th>\n",
       "      <td>id3008062</td>\n",
       "      <td>2</td>\n",
       "      <td>2016-06-23 19:04:09</td>\n",
       "      <td>1</td>\n",
       "      <td>-73.787537</td>\n",
       "      <td>40.64241</td>\n",
       "      <td>-73.787811</td>\n",
       "      <td>40.642109</td>\n",
       "      <td>N</td>\n",
       "      <td>NaN</td>\n",
       "      <td>NaN</td>\n",
       "      <td>NaN</td>\n",
       "      <td>NaN</td>\n",
       "    </tr>\n",
       "  </tbody>\n",
       "</table>\n",
       "</div>"
      ],
      "text/plain": [
       "                      id  vendor_id      pickup_datetime  passenger_count  \\\n",
       "train 1133561  id3008062          2  2016-06-23 19:04:09                1   \n",
       "\n",
       "               pickup_longitude  pickup_latitude  dropoff_longitude  \\\n",
       "train 1133561        -73.787537         40.64241         -73.787811   \n",
       "\n",
       "               dropoff_latitude store_and_fwd_flag  total_distance  \\\n",
       "train 1133561         40.642109                  N             NaN   \n",
       "\n",
       "               number_of_streets starting_street end_street  \n",
       "train 1133561                NaN             NaN        NaN  "
      ]
     },
     "execution_count": 22,
     "metadata": {},
     "output_type": "execute_result"
    }
   ],
   "source": [
    "data_null = combine_data[combine_data['number_of_streets'].isnull()]\n",
    "data_null"
   ]
  },
  {
   "cell_type": "code",
   "execution_count": 23,
   "metadata": {
    "ExecuteTime": {
     "end_time": "2017-07-27T08:39:30.737192Z",
     "start_time": "2017-07-27T08:39:30.494969Z"
    },
    "collapsed": true
   },
   "outputs": [],
   "source": [
    "combine_data = combine_data[combine_data['number_of_streets'].notnull()]"
   ]
  },
  {
   "cell_type": "markdown",
   "metadata": {},
   "source": [
    "### total_distance"
   ]
  },
  {
   "cell_type": "code",
   "execution_count": 123,
   "metadata": {
    "ExecuteTime": {
     "end_time": "2017-07-27T11:57:56.079487Z",
     "start_time": "2017-07-27T11:57:56.026113Z"
    }
   },
   "outputs": [
    {
     "data": {
      "text/plain": [
       "6009"
      ]
     },
     "execution_count": 123,
     "metadata": {},
     "output_type": "execute_result"
    }
   ],
   "source": [
    "data = combine_data.loc['train']\n",
    "data_null = data[data['total_distance']==0]\n",
    "len(data_null)"
   ]
  },
  {
   "cell_type": "code",
   "execution_count": 125,
   "metadata": {
    "ExecuteTime": {
     "end_time": "2017-07-27T11:58:39.606849Z",
     "start_time": "2017-07-27T11:58:39.559639Z"
    }
   },
   "outputs": [
    {
     "data": {
      "text/html": [
       "<div>\n",
       "<style>\n",
       "    .dataframe thead tr:only-child th {\n",
       "        text-align: right;\n",
       "    }\n",
       "\n",
       "    .dataframe thead th {\n",
       "        text-align: left;\n",
       "    }\n",
       "\n",
       "    .dataframe tbody tr th {\n",
       "        vertical-align: top;\n",
       "    }\n",
       "</style>\n",
       "<table border=\"1\" class=\"dataframe\">\n",
       "  <thead>\n",
       "    <tr style=\"text-align: right;\">\n",
       "      <th></th>\n",
       "      <th>id</th>\n",
       "      <th>vendor_id</th>\n",
       "      <th>pickup_datetime</th>\n",
       "      <th>passenger_count</th>\n",
       "      <th>pickup_longitude</th>\n",
       "      <th>pickup_latitude</th>\n",
       "      <th>dropoff_longitude</th>\n",
       "      <th>dropoff_latitude</th>\n",
       "      <th>store_and_fwd_flag</th>\n",
       "      <th>total_distance</th>\n",
       "      <th>number_of_streets</th>\n",
       "      <th>starting_street</th>\n",
       "      <th>end_street</th>\n",
       "    </tr>\n",
       "  </thead>\n",
       "  <tbody>\n",
       "    <tr>\n",
       "      <th>127</th>\n",
       "      <td>id2195452</td>\n",
       "      <td>1</td>\n",
       "      <td>2016-06-30 23:22:00</td>\n",
       "      <td>1</td>\n",
       "      <td>-73.959991</td>\n",
       "      <td>40.770752</td>\n",
       "      <td>-73.959991</td>\n",
       "      <td>40.770752</td>\n",
       "      <td>N</td>\n",
       "      <td>0.0</td>\n",
       "      <td>2.0</td>\n",
       "      <td>3rd Avenue</td>\n",
       "      <td>3rd Avenue</td>\n",
       "    </tr>\n",
       "    <tr>\n",
       "      <th>534</th>\n",
       "      <td>id3739596</td>\n",
       "      <td>2</td>\n",
       "      <td>2016-06-30 21:25:57</td>\n",
       "      <td>3</td>\n",
       "      <td>-74.000313</td>\n",
       "      <td>40.720982</td>\n",
       "      <td>-74.000313</td>\n",
       "      <td>40.720982</td>\n",
       "      <td>N</td>\n",
       "      <td>0.0</td>\n",
       "      <td>2.0</td>\n",
       "      <td>Broadway</td>\n",
       "      <td>Broadway</td>\n",
       "    </tr>\n",
       "    <tr>\n",
       "      <th>674</th>\n",
       "      <td>id2970680</td>\n",
       "      <td>1</td>\n",
       "      <td>2016-06-30 20:40:14</td>\n",
       "      <td>1</td>\n",
       "      <td>-73.483597</td>\n",
       "      <td>41.106483</td>\n",
       "      <td>-73.483597</td>\n",
       "      <td>41.106487</td>\n",
       "      <td>N</td>\n",
       "      <td>0.0</td>\n",
       "      <td>2.0</td>\n",
       "      <td>NaN</td>\n",
       "      <td>NaN</td>\n",
       "    </tr>\n",
       "    <tr>\n",
       "      <th>694</th>\n",
       "      <td>id3612600</td>\n",
       "      <td>1</td>\n",
       "      <td>2016-06-30 20:35:37</td>\n",
       "      <td>1</td>\n",
       "      <td>-73.946854</td>\n",
       "      <td>40.745113</td>\n",
       "      <td>-73.946854</td>\n",
       "      <td>40.745113</td>\n",
       "      <td>N</td>\n",
       "      <td>0.0</td>\n",
       "      <td>2.0</td>\n",
       "      <td>Jackson Avenue</td>\n",
       "      <td>Jackson Avenue</td>\n",
       "    </tr>\n",
       "    <tr>\n",
       "      <th>807</th>\n",
       "      <td>id1014079</td>\n",
       "      <td>2</td>\n",
       "      <td>2016-06-30 19:59:40</td>\n",
       "      <td>1</td>\n",
       "      <td>-73.959930</td>\n",
       "      <td>40.757511</td>\n",
       "      <td>-73.959930</td>\n",
       "      <td>40.757511</td>\n",
       "      <td>N</td>\n",
       "      <td>0.0</td>\n",
       "      <td>2.0</td>\n",
       "      <td>FDR Drive</td>\n",
       "      <td>FDR Drive</td>\n",
       "    </tr>\n",
       "  </tbody>\n",
       "</table>\n",
       "</div>"
      ],
      "text/plain": [
       "            id  vendor_id      pickup_datetime  passenger_count  \\\n",
       "127  id2195452          1  2016-06-30 23:22:00                1   \n",
       "534  id3739596          2  2016-06-30 21:25:57                3   \n",
       "674  id2970680          1  2016-06-30 20:40:14                1   \n",
       "694  id3612600          1  2016-06-30 20:35:37                1   \n",
       "807  id1014079          2  2016-06-30 19:59:40                1   \n",
       "\n",
       "     pickup_longitude  pickup_latitude  dropoff_longitude  dropoff_latitude  \\\n",
       "127        -73.959991        40.770752         -73.959991         40.770752   \n",
       "534        -74.000313        40.720982         -74.000313         40.720982   \n",
       "674        -73.483597        41.106483         -73.483597         41.106487   \n",
       "694        -73.946854        40.745113         -73.946854         40.745113   \n",
       "807        -73.959930        40.757511         -73.959930         40.757511   \n",
       "\n",
       "    store_and_fwd_flag  total_distance  number_of_streets starting_street  \\\n",
       "127                  N             0.0                2.0      3rd Avenue   \n",
       "534                  N             0.0                2.0        Broadway   \n",
       "674                  N             0.0                2.0             NaN   \n",
       "694                  N             0.0                2.0  Jackson Avenue   \n",
       "807                  N             0.0                2.0       FDR Drive   \n",
       "\n",
       "         end_street  \n",
       "127      3rd Avenue  \n",
       "534        Broadway  \n",
       "674             NaN  \n",
       "694  Jackson Avenue  \n",
       "807       FDR Drive  "
      ]
     },
     "execution_count": 125,
     "metadata": {},
     "output_type": "execute_result"
    }
   ],
   "source": [
    "data = combine_data.loc['eval']\n",
    "data_null = data[data['total_distance']==0]\n",
    "len(data_null)\n",
    "data_null[:5]"
   ]
  },
  {
   "cell_type": "markdown",
   "metadata": {},
   "source": [
    "### starting_street"
   ]
  },
  {
   "cell_type": "code",
   "execution_count": 112,
   "metadata": {
    "ExecuteTime": {
     "end_time": "2017-07-27T11:46:15.317302Z",
     "start_time": "2017-07-27T11:46:12.489180Z"
    }
   },
   "outputs": [
    {
     "name": "stdout",
     "output_type": "stream",
     "text": [
      "56415\n"
     ]
    },
    {
     "data": {
      "text/html": [
       "<div>\n",
       "<style>\n",
       "    .dataframe thead tr:only-child th {\n",
       "        text-align: right;\n",
       "    }\n",
       "\n",
       "    .dataframe thead th {\n",
       "        text-align: left;\n",
       "    }\n",
       "\n",
       "    .dataframe tbody tr th {\n",
       "        vertical-align: top;\n",
       "    }\n",
       "</style>\n",
       "<table border=\"1\" class=\"dataframe\">\n",
       "  <thead>\n",
       "    <tr style=\"text-align: right;\">\n",
       "      <th></th>\n",
       "      <th></th>\n",
       "      <th>id</th>\n",
       "      <th>vendor_id</th>\n",
       "      <th>pickup_datetime</th>\n",
       "      <th>passenger_count</th>\n",
       "      <th>pickup_longitude</th>\n",
       "      <th>pickup_latitude</th>\n",
       "      <th>dropoff_longitude</th>\n",
       "      <th>dropoff_latitude</th>\n",
       "      <th>store_and_fwd_flag</th>\n",
       "      <th>total_distance</th>\n",
       "      <th>number_of_streets</th>\n",
       "      <th>starting_street</th>\n",
       "      <th>end_street</th>\n",
       "    </tr>\n",
       "  </thead>\n",
       "  <tbody>\n",
       "    <tr>\n",
       "      <th rowspan=\"2\" valign=\"top\">train</th>\n",
       "      <th>1184454</th>\n",
       "      <td>id2854272</td>\n",
       "      <td>2</td>\n",
       "      <td>2016-02-26 13:50:19</td>\n",
       "      <td>2</td>\n",
       "      <td>-121.933342</td>\n",
       "      <td>37.389381</td>\n",
       "      <td>-121.933304</td>\n",
       "      <td>37.389511</td>\n",
       "      <td>N</td>\n",
       "      <td>0.0</td>\n",
       "      <td>2.0</td>\n",
       "      <td>NaN</td>\n",
       "      <td>NaN</td>\n",
       "    </tr>\n",
       "    <tr>\n",
       "      <th>1068810</th>\n",
       "      <td>id3777240</td>\n",
       "      <td>2</td>\n",
       "      <td>2016-01-27 18:26:40</td>\n",
       "      <td>2</td>\n",
       "      <td>-121.933235</td>\n",
       "      <td>37.389297</td>\n",
       "      <td>-121.933205</td>\n",
       "      <td>37.389103</td>\n",
       "      <td>N</td>\n",
       "      <td>0.0</td>\n",
       "      <td>2.0</td>\n",
       "      <td>NaN</td>\n",
       "      <td>NaN</td>\n",
       "    </tr>\n",
       "    <tr>\n",
       "      <th>eval</th>\n",
       "      <th>324125</th>\n",
       "      <td>id0505885</td>\n",
       "      <td>2</td>\n",
       "      <td>2016-03-29 14:28:46</td>\n",
       "      <td>2</td>\n",
       "      <td>-121.933128</td>\n",
       "      <td>37.389587</td>\n",
       "      <td>-121.933327</td>\n",
       "      <td>37.389374</td>\n",
       "      <td>N</td>\n",
       "      <td>0.0</td>\n",
       "      <td>2.0</td>\n",
       "      <td>NaN</td>\n",
       "      <td>NaN</td>\n",
       "    </tr>\n",
       "    <tr>\n",
       "      <th rowspan=\"2\" valign=\"top\">train</th>\n",
       "      <th>193116</th>\n",
       "      <td>id2769862</td>\n",
       "      <td>1</td>\n",
       "      <td>2016-02-06 15:43:15</td>\n",
       "      <td>1</td>\n",
       "      <td>-77.896019</td>\n",
       "      <td>37.777771</td>\n",
       "      <td>-77.896019</td>\n",
       "      <td>37.777771</td>\n",
       "      <td>N</td>\n",
       "      <td>0.0</td>\n",
       "      <td>2.0</td>\n",
       "      <td>NaN</td>\n",
       "      <td>NaN</td>\n",
       "    </tr>\n",
       "    <tr>\n",
       "      <th>952661</th>\n",
       "      <td>id0784573</td>\n",
       "      <td>1</td>\n",
       "      <td>2016-03-28 17:55:13</td>\n",
       "      <td>2</td>\n",
       "      <td>-77.440750</td>\n",
       "      <td>36.029301</td>\n",
       "      <td>-77.440750</td>\n",
       "      <td>36.029301</td>\n",
       "      <td>N</td>\n",
       "      <td>0.0</td>\n",
       "      <td>2.0</td>\n",
       "      <td>NaN</td>\n",
       "      <td>NaN</td>\n",
       "    </tr>\n",
       "  </tbody>\n",
       "</table>\n",
       "</div>"
      ],
      "text/plain": [
       "                      id  vendor_id      pickup_datetime  passenger_count  \\\n",
       "train 1184454  id2854272          2  2016-02-26 13:50:19                2   \n",
       "      1068810  id3777240          2  2016-01-27 18:26:40                2   \n",
       "eval  324125   id0505885          2  2016-03-29 14:28:46                2   \n",
       "train 193116   id2769862          1  2016-02-06 15:43:15                1   \n",
       "      952661   id0784573          1  2016-03-28 17:55:13                2   \n",
       "\n",
       "               pickup_longitude  pickup_latitude  dropoff_longitude  \\\n",
       "train 1184454       -121.933342        37.389381        -121.933304   \n",
       "      1068810       -121.933235        37.389297        -121.933205   \n",
       "eval  324125        -121.933128        37.389587        -121.933327   \n",
       "train 193116         -77.896019        37.777771         -77.896019   \n",
       "      952661         -77.440750        36.029301         -77.440750   \n",
       "\n",
       "               dropoff_latitude store_and_fwd_flag  total_distance  \\\n",
       "train 1184454         37.389511                  N             0.0   \n",
       "      1068810         37.389103                  N             0.0   \n",
       "eval  324125          37.389374                  N             0.0   \n",
       "train 193116          37.777771                  N             0.0   \n",
       "      952661          36.029301                  N             0.0   \n",
       "\n",
       "               number_of_streets starting_street end_street  \n",
       "train 1184454                2.0             NaN        NaN  \n",
       "      1068810                2.0             NaN        NaN  \n",
       "eval  324125                 2.0             NaN        NaN  \n",
       "train 193116                 2.0             NaN        NaN  \n",
       "      952661                 2.0             NaN        NaN  "
      ]
     },
     "execution_count": 112,
     "metadata": {},
     "output_type": "execute_result"
    }
   ],
   "source": [
    "col = 'starting_street'\n",
    "col_lon = 'pickup_longitude'\n",
    "col_lat = 'pickup_latitude'\n",
    "data = combine_data.sort_values([col_lon, col_lat])\n",
    "data_null = data[data[col].isnull()]\n",
    "print(len(data_null))\n",
    "data_null[:5]"
   ]
  },
  {
   "cell_type": "code",
   "execution_count": 107,
   "metadata": {
    "ExecuteTime": {
     "end_time": "2017-07-27T11:43:32.555407Z",
     "start_time": "2017-07-27T11:43:31.145505Z"
    },
    "scrolled": true
   },
   "outputs": [
    {
     "name": "stdout",
     "output_type": "stream",
     "text": [
      "2027362\n"
     ]
    },
    {
     "data": {
      "text/html": [
       "<div>\n",
       "<style>\n",
       "    .dataframe thead tr:only-child th {\n",
       "        text-align: right;\n",
       "    }\n",
       "\n",
       "    .dataframe thead th {\n",
       "        text-align: left;\n",
       "    }\n",
       "\n",
       "    .dataframe tbody tr th {\n",
       "        vertical-align: top;\n",
       "    }\n",
       "</style>\n",
       "<table border=\"1\" class=\"dataframe\">\n",
       "  <thead>\n",
       "    <tr style=\"text-align: right;\">\n",
       "      <th></th>\n",
       "      <th></th>\n",
       "      <th>id</th>\n",
       "      <th>vendor_id</th>\n",
       "      <th>pickup_datetime</th>\n",
       "      <th>passenger_count</th>\n",
       "      <th>pickup_longitude</th>\n",
       "      <th>pickup_latitude</th>\n",
       "      <th>dropoff_longitude</th>\n",
       "      <th>dropoff_latitude</th>\n",
       "      <th>store_and_fwd_flag</th>\n",
       "      <th>total_distance</th>\n",
       "      <th>number_of_streets</th>\n",
       "      <th>starting_street</th>\n",
       "      <th>end_street</th>\n",
       "    </tr>\n",
       "  </thead>\n",
       "  <tbody>\n",
       "    <tr>\n",
       "      <th rowspan=\"2\" valign=\"top\">train</th>\n",
       "      <th>1359910</th>\n",
       "      <td>id3628988</td>\n",
       "      <td>1</td>\n",
       "      <td>2016-05-05 18:21:37</td>\n",
       "      <td>1</td>\n",
       "      <td>-79.569733</td>\n",
       "      <td>41.586273</td>\n",
       "      <td>-80.355431</td>\n",
       "      <td>42.090183</td>\n",
       "      <td>N</td>\n",
       "      <td>0.0</td>\n",
       "      <td>2.0</td>\n",
       "      <td>Old Rte 23</td>\n",
       "      <td>Old Rte 23</td>\n",
       "    </tr>\n",
       "    <tr>\n",
       "      <th>1430363</th>\n",
       "      <td>id3073838</td>\n",
       "      <td>1</td>\n",
       "      <td>2016-03-13 05:10:05</td>\n",
       "      <td>2</td>\n",
       "      <td>-79.487900</td>\n",
       "      <td>40.739159</td>\n",
       "      <td>-79.487900</td>\n",
       "      <td>40.739159</td>\n",
       "      <td>N</td>\n",
       "      <td>0.0</td>\n",
       "      <td>2.0</td>\n",
       "      <td>Lindsley Road</td>\n",
       "      <td>Lindsley Road</td>\n",
       "    </tr>\n",
       "    <tr>\n",
       "      <th>eval</th>\n",
       "      <th>380737</th>\n",
       "      <td>id3233992</td>\n",
       "      <td>1</td>\n",
       "      <td>2016-03-13 04:20:44</td>\n",
       "      <td>3</td>\n",
       "      <td>-79.487900</td>\n",
       "      <td>40.739159</td>\n",
       "      <td>-79.487900</td>\n",
       "      <td>40.739159</td>\n",
       "      <td>N</td>\n",
       "      <td>0.0</td>\n",
       "      <td>2.0</td>\n",
       "      <td>Lindsley Road</td>\n",
       "      <td>Lindsley Road</td>\n",
       "    </tr>\n",
       "    <tr>\n",
       "      <th>train</th>\n",
       "      <th>595540</th>\n",
       "      <td>id1723416</td>\n",
       "      <td>1</td>\n",
       "      <td>2016-03-20 21:07:56</td>\n",
       "      <td>1</td>\n",
       "      <td>-78.547401</td>\n",
       "      <td>40.817131</td>\n",
       "      <td>-79.786133</td>\n",
       "      <td>40.917637</td>\n",
       "      <td>N</td>\n",
       "      <td>20641.5</td>\n",
       "      <td>18.0</td>\n",
       "      <td>Sussex Avenue</td>\n",
       "      <td>Green Pond Road</td>\n",
       "    </tr>\n",
       "    <tr>\n",
       "      <th>eval</th>\n",
       "      <th>483163</th>\n",
       "      <td>id1850697</td>\n",
       "      <td>1</td>\n",
       "      <td>2016-02-13 16:37:27</td>\n",
       "      <td>1</td>\n",
       "      <td>-77.598213</td>\n",
       "      <td>42.814938</td>\n",
       "      <td>-77.598213</td>\n",
       "      <td>42.814938</td>\n",
       "      <td>N</td>\n",
       "      <td>0.0</td>\n",
       "      <td>2.0</td>\n",
       "      <td>Old Rte 23</td>\n",
       "      <td>Old Rte 23</td>\n",
       "    </tr>\n",
       "  </tbody>\n",
       "</table>\n",
       "</div>"
      ],
      "text/plain": [
       "                      id  vendor_id      pickup_datetime  passenger_count  \\\n",
       "train 1359910  id3628988          1  2016-05-05 18:21:37                1   \n",
       "      1430363  id3073838          1  2016-03-13 05:10:05                2   \n",
       "eval  380737   id3233992          1  2016-03-13 04:20:44                3   \n",
       "train 595540   id1723416          1  2016-03-20 21:07:56                1   \n",
       "eval  483163   id1850697          1  2016-02-13 16:37:27                1   \n",
       "\n",
       "               pickup_longitude  pickup_latitude  dropoff_longitude  \\\n",
       "train 1359910        -79.569733        41.586273         -80.355431   \n",
       "      1430363        -79.487900        40.739159         -79.487900   \n",
       "eval  380737         -79.487900        40.739159         -79.487900   \n",
       "train 595540         -78.547401        40.817131         -79.786133   \n",
       "eval  483163         -77.598213        42.814938         -77.598213   \n",
       "\n",
       "               dropoff_latitude store_and_fwd_flag  total_distance  \\\n",
       "train 1359910         42.090183                  N             0.0   \n",
       "      1430363         40.739159                  N             0.0   \n",
       "eval  380737          40.739159                  N             0.0   \n",
       "train 595540          40.917637                  N         20641.5   \n",
       "eval  483163          42.814938                  N             0.0   \n",
       "\n",
       "               number_of_streets starting_street       end_street  \n",
       "train 1359910                2.0      Old Rte 23       Old Rte 23  \n",
       "      1430363                2.0   Lindsley Road    Lindsley Road  \n",
       "eval  380737                 2.0   Lindsley Road    Lindsley Road  \n",
       "train 595540                18.0   Sussex Avenue  Green Pond Road  \n",
       "eval  483163                 2.0      Old Rte 23       Old Rte 23  "
      ]
     },
     "execution_count": 107,
     "metadata": {},
     "output_type": "execute_result"
    }
   ],
   "source": [
    "data_not_null = data[data[col].notnull()].sort_values([col_lon, col_lat])\n",
    "print(len(data_not_null))\n",
    "data_not_null[:5]"
   ]
  },
  {
   "cell_type": "code",
   "execution_count": 108,
   "metadata": {
    "ExecuteTime": {
     "end_time": "2017-07-27T11:44:09.424040Z",
     "start_time": "2017-07-27T11:44:09.408402Z"
    },
    "collapsed": true
   },
   "outputs": [],
   "source": [
    "def fill_start_street_null(data_not_null, row):\n",
    "    near_location = data_not_null[(data_not_null[col_lon] >= row[col_lon]) & (\n",
    "        data_not_null[col_lat] >= row[col_lat])]\n",
    "    return near_location[:1][col].values[0]\n",
    "   "
   ]
  },
  {
   "cell_type": "code",
   "execution_count": 122,
   "metadata": {
    "ExecuteTime": {
     "end_time": "2017-07-27T11:54:56.172114Z",
     "start_time": "2017-07-27T11:54:56.134348Z"
    }
   },
   "outputs": [
    {
     "data": {
      "text/html": [
       "<div>\n",
       "<style>\n",
       "    .dataframe thead tr:only-child th {\n",
       "        text-align: right;\n",
       "    }\n",
       "\n",
       "    .dataframe thead th {\n",
       "        text-align: left;\n",
       "    }\n",
       "\n",
       "    .dataframe tbody tr th {\n",
       "        vertical-align: top;\n",
       "    }\n",
       "</style>\n",
       "<table border=\"1\" class=\"dataframe\">\n",
       "  <thead>\n",
       "    <tr style=\"text-align: right;\">\n",
       "      <th></th>\n",
       "      <th></th>\n",
       "      <th>id</th>\n",
       "      <th>vendor_id</th>\n",
       "      <th>pickup_datetime</th>\n",
       "      <th>passenger_count</th>\n",
       "      <th>pickup_longitude</th>\n",
       "      <th>pickup_latitude</th>\n",
       "      <th>dropoff_longitude</th>\n",
       "      <th>dropoff_latitude</th>\n",
       "      <th>store_and_fwd_flag</th>\n",
       "      <th>total_distance</th>\n",
       "      <th>number_of_streets</th>\n",
       "      <th>starting_street</th>\n",
       "      <th>end_street</th>\n",
       "    </tr>\n",
       "  </thead>\n",
       "  <tbody>\n",
       "    <tr>\n",
       "      <th rowspan=\"2\" valign=\"top\">train</th>\n",
       "      <th>1184454</th>\n",
       "      <td>id2854272</td>\n",
       "      <td>2</td>\n",
       "      <td>2016-02-26 13:50:19</td>\n",
       "      <td>2</td>\n",
       "      <td>-121.933342</td>\n",
       "      <td>37.389381</td>\n",
       "      <td>-121.933304</td>\n",
       "      <td>37.389511</td>\n",
       "      <td>N</td>\n",
       "      <td>0.0</td>\n",
       "      <td>2.0</td>\n",
       "      <td>NaN</td>\n",
       "      <td>NaN</td>\n",
       "    </tr>\n",
       "    <tr>\n",
       "      <th>1068810</th>\n",
       "      <td>id3777240</td>\n",
       "      <td>2</td>\n",
       "      <td>2016-01-27 18:26:40</td>\n",
       "      <td>2</td>\n",
       "      <td>-121.933235</td>\n",
       "      <td>37.389297</td>\n",
       "      <td>-121.933205</td>\n",
       "      <td>37.389103</td>\n",
       "      <td>N</td>\n",
       "      <td>0.0</td>\n",
       "      <td>2.0</td>\n",
       "      <td>NaN</td>\n",
       "      <td>NaN</td>\n",
       "    </tr>\n",
       "    <tr>\n",
       "      <th>eval</th>\n",
       "      <th>324125</th>\n",
       "      <td>id0505885</td>\n",
       "      <td>2</td>\n",
       "      <td>2016-03-29 14:28:46</td>\n",
       "      <td>2</td>\n",
       "      <td>-121.933128</td>\n",
       "      <td>37.389587</td>\n",
       "      <td>-121.933327</td>\n",
       "      <td>37.389374</td>\n",
       "      <td>N</td>\n",
       "      <td>0.0</td>\n",
       "      <td>2.0</td>\n",
       "      <td>NaN</td>\n",
       "      <td>NaN</td>\n",
       "    </tr>\n",
       "    <tr>\n",
       "      <th rowspan=\"2\" valign=\"top\">train</th>\n",
       "      <th>1359910</th>\n",
       "      <td>id3628988</td>\n",
       "      <td>1</td>\n",
       "      <td>2016-05-05 18:21:37</td>\n",
       "      <td>1</td>\n",
       "      <td>-79.569733</td>\n",
       "      <td>41.586273</td>\n",
       "      <td>-80.355431</td>\n",
       "      <td>42.090183</td>\n",
       "      <td>N</td>\n",
       "      <td>0.0</td>\n",
       "      <td>2.0</td>\n",
       "      <td>Old Rte 23</td>\n",
       "      <td>Old Rte 23</td>\n",
       "    </tr>\n",
       "    <tr>\n",
       "      <th>1430363</th>\n",
       "      <td>id3073838</td>\n",
       "      <td>1</td>\n",
       "      <td>2016-03-13 05:10:05</td>\n",
       "      <td>2</td>\n",
       "      <td>-79.487900</td>\n",
       "      <td>40.739159</td>\n",
       "      <td>-79.487900</td>\n",
       "      <td>40.739159</td>\n",
       "      <td>N</td>\n",
       "      <td>0.0</td>\n",
       "      <td>2.0</td>\n",
       "      <td>Lindsley Road</td>\n",
       "      <td>Lindsley Road</td>\n",
       "    </tr>\n",
       "  </tbody>\n",
       "</table>\n",
       "</div>"
      ],
      "text/plain": [
       "                      id  vendor_id      pickup_datetime  passenger_count  \\\n",
       "train 1184454  id2854272          2  2016-02-26 13:50:19                2   \n",
       "      1068810  id3777240          2  2016-01-27 18:26:40                2   \n",
       "eval  324125   id0505885          2  2016-03-29 14:28:46                2   \n",
       "train 1359910  id3628988          1  2016-05-05 18:21:37                1   \n",
       "      1430363  id3073838          1  2016-03-13 05:10:05                2   \n",
       "\n",
       "               pickup_longitude  pickup_latitude  dropoff_longitude  \\\n",
       "train 1184454       -121.933342        37.389381        -121.933304   \n",
       "      1068810       -121.933235        37.389297        -121.933205   \n",
       "eval  324125        -121.933128        37.389587        -121.933327   \n",
       "train 1359910        -79.569733        41.586273         -80.355431   \n",
       "      1430363        -79.487900        40.739159         -79.487900   \n",
       "\n",
       "               dropoff_latitude store_and_fwd_flag  total_distance  \\\n",
       "train 1184454         37.389511                  N             0.0   \n",
       "      1068810         37.389103                  N             0.0   \n",
       "eval  324125          37.389374                  N             0.0   \n",
       "train 1359910         42.090183                  N             0.0   \n",
       "      1430363         40.739159                  N             0.0   \n",
       "\n",
       "               number_of_streets starting_street     end_street  \n",
       "train 1184454                2.0             NaN            NaN  \n",
       "      1068810                2.0             NaN            NaN  \n",
       "eval  324125                 2.0             NaN            NaN  \n",
       "train 1359910                2.0      Old Rte 23     Old Rte 23  \n",
       "      1430363                2.0   Lindsley Road  Lindsley Road  "
      ]
     },
     "execution_count": 122,
     "metadata": {},
     "output_type": "execute_result"
    }
   ],
   "source": [
    "data[:5]"
   ]
  },
  {
   "cell_type": "code",
   "execution_count": 121,
   "metadata": {
    "ExecuteTime": {
     "end_time": "2017-07-27T11:54:24.702795Z",
     "start_time": "2017-07-27T11:54:24.671545Z"
    }
   },
   "outputs": [
    {
     "name": "stdout",
     "output_type": "stream",
     "text": [
      "0 nan\n",
      "id                              id2854272\n",
      "vendor_id                               2\n",
      "pickup_datetime       2016-02-26 13:50:19\n",
      "passenger_count                         2\n",
      "pickup_longitude                 -121.933\n",
      "pickup_latitude                   37.3894\n",
      "dropoff_longitude                -121.933\n",
      "dropoff_latitude                  37.3895\n",
      "store_and_fwd_flag                      N\n",
      "total_distance                          0\n",
      "number_of_streets                       2\n",
      "starting_street                       NaN\n",
      "end_street                            NaN\n",
      "Name: (train, 1184454), dtype: object\n",
      "1 nan\n",
      "id                              id3777240\n",
      "vendor_id                               2\n",
      "pickup_datetime       2016-01-27 18:26:40\n",
      "passenger_count                         2\n",
      "pickup_longitude                 -121.933\n",
      "pickup_latitude                   37.3893\n",
      "dropoff_longitude                -121.933\n",
      "dropoff_latitude                  37.3891\n",
      "store_and_fwd_flag                      N\n",
      "total_distance                          0\n",
      "number_of_streets                       2\n",
      "starting_street                       NaN\n",
      "end_street                            NaN\n",
      "Name: (train, 1068810), dtype: object\n",
      "2 nan\n",
      "id                              id0505885\n",
      "vendor_id                               2\n",
      "pickup_datetime       2016-03-29 14:28:46\n",
      "passenger_count                         2\n",
      "pickup_longitude                 -121.933\n",
      "pickup_latitude                   37.3896\n",
      "dropoff_longitude                -121.933\n",
      "dropoff_latitude                  37.3894\n",
      "store_and_fwd_flag                      N\n",
      "total_distance                          0\n",
      "number_of_streets                       2\n",
      "starting_street                       NaN\n",
      "end_street                            NaN\n",
      "Name: (eval, 324125), dtype: object\n",
      "id                              id3628988\n",
      "vendor_id                               1\n",
      "pickup_datetime       2016-05-05 18:21:37\n",
      "passenger_count                         1\n",
      "pickup_longitude                 -79.5697\n",
      "pickup_latitude                   41.5863\n",
      "dropoff_longitude                -80.3554\n",
      "dropoff_latitude                  42.0902\n",
      "store_and_fwd_flag                      N\n",
      "total_distance                          0\n",
      "number_of_streets                       2\n",
      "starting_street                Old Rte 23\n",
      "end_street                     Old Rte 23\n",
      "Name: (train, 1359910), dtype: object\n",
      "id                              id3073838\n",
      "vendor_id                               1\n",
      "pickup_datetime       2016-03-13 05:10:05\n",
      "passenger_count                         2\n",
      "pickup_longitude                 -79.4879\n",
      "pickup_latitude                   40.7392\n",
      "dropoff_longitude                -79.4879\n",
      "dropoff_latitude                  40.7392\n",
      "store_and_fwd_flag                      N\n",
      "total_distance                          0\n",
      "number_of_streets                       2\n",
      "starting_street             Lindsley Road\n",
      "end_street                  Lindsley Road\n",
      "Name: (train, 1430363), dtype: object\n",
      "id                              id3233992\n",
      "vendor_id                               1\n",
      "pickup_datetime       2016-03-13 04:20:44\n",
      "passenger_count                         3\n",
      "pickup_longitude                 -79.4879\n",
      "pickup_latitude                   40.7392\n",
      "dropoff_longitude                -79.4879\n",
      "dropoff_latitude                  40.7392\n",
      "store_and_fwd_flag                      N\n",
      "total_distance                          0\n",
      "number_of_streets                       2\n",
      "starting_street             Lindsley Road\n",
      "end_street                  Lindsley Road\n",
      "Name: (eval, 380737), dtype: object\n",
      "id                              id1723416\n",
      "vendor_id                               1\n",
      "pickup_datetime       2016-03-20 21:07:56\n",
      "passenger_count                         1\n",
      "pickup_longitude                 -78.5474\n",
      "pickup_latitude                   40.8171\n",
      "dropoff_longitude                -79.7861\n",
      "dropoff_latitude                  40.9176\n",
      "store_and_fwd_flag                      N\n",
      "total_distance                    20641.5\n",
      "number_of_streets                      18\n",
      "starting_street             Sussex Avenue\n",
      "end_street                Green Pond Road\n",
      "Name: (train, 595540), dtype: object\n",
      "7 nan\n",
      "id                              id2769862\n",
      "vendor_id                               1\n",
      "pickup_datetime       2016-02-06 15:43:15\n",
      "passenger_count                         1\n",
      "pickup_longitude                  -77.896\n",
      "pickup_latitude                   37.7778\n",
      "dropoff_longitude                 -77.896\n",
      "dropoff_latitude                  37.7778\n",
      "store_and_fwd_flag                      N\n",
      "total_distance                          0\n",
      "number_of_streets                       2\n",
      "starting_street                       NaN\n",
      "end_street                            NaN\n",
      "Name: (train, 193116), dtype: object\n",
      "id                              id1850697\n",
      "vendor_id                               1\n",
      "pickup_datetime       2016-02-13 16:37:27\n",
      "passenger_count                         1\n",
      "pickup_longitude                 -77.5982\n",
      "pickup_latitude                   42.8149\n",
      "dropoff_longitude                -77.5982\n",
      "dropoff_latitude                  42.8149\n",
      "store_and_fwd_flag                      N\n",
      "total_distance                          0\n",
      "number_of_streets                       2\n",
      "starting_street                Old Rte 23\n",
      "end_street                     Old Rte 23\n",
      "Name: (eval, 483163), dtype: object\n",
      "9 nan\n",
      "id                              id0784573\n",
      "vendor_id                               1\n",
      "pickup_datetime       2016-03-28 17:55:13\n",
      "passenger_count                         2\n",
      "pickup_longitude                 -77.4408\n",
      "pickup_latitude                   36.0293\n",
      "dropoff_longitude                -77.4408\n",
      "dropoff_latitude                  36.0293\n",
      "store_and_fwd_flag                      N\n",
      "total_distance                          0\n",
      "number_of_streets                       2\n",
      "starting_street                       NaN\n",
      "end_street                            NaN\n",
      "Name: (train, 952661), dtype: object\n",
      "10 nan\n",
      "id                              id1703300\n",
      "vendor_id                               2\n",
      "pickup_datetime       2016-04-26 16:46:00\n",
      "passenger_count                         1\n",
      "pickup_longitude                 -77.0394\n",
      "pickup_latitude                   38.8988\n",
      "dropoff_longitude                -77.0394\n",
      "dropoff_latitude                  38.8988\n",
      "store_and_fwd_flag                      N\n",
      "total_distance                          0\n",
      "number_of_streets                       2\n",
      "starting_street                       NaN\n",
      "end_street                            NaN\n",
      "Name: (train, 233451), dtype: object\n",
      "11 nan\n",
      "id                              id2298947\n",
      "vendor_id                               2\n",
      "pickup_datetime       2016-04-14 15:53:00\n",
      "passenger_count                         1\n",
      "pickup_longitude                 -77.0394\n",
      "pickup_latitude                   38.8988\n",
      "dropoff_longitude                -77.0394\n",
      "dropoff_latitude                  38.8988\n",
      "store_and_fwd_flag                      N\n",
      "total_distance                          0\n",
      "number_of_streets                       2\n",
      "starting_street                       NaN\n",
      "end_street                            NaN\n",
      "Name: (train, 235449), dtype: object\n"
     ]
    }
   ],
   "source": [
    "for i in range(data.shape[0]):\n",
    "    row = data.iloc[i]\n",
    "    if pd.isnull(row[col]):\n",
    "        print(i, row[col])\n",
    "    print(row)    \n",
    "    if i>10:\n",
    "        break"
   ]
  },
  {
   "cell_type": "code",
   "execution_count": 100,
   "metadata": {
    "ExecuteTime": {
     "end_time": "2017-07-27T11:38:53.865851Z",
     "start_time": "2017-07-27T11:34:34.138046Z"
    }
   },
   "outputs": [
    {
     "ename": "KeyboardInterrupt",
     "evalue": "",
     "output_type": "error",
     "traceback": [
      "\u001b[1;31m---------------------------------------------------------------------------\u001b[0m",
      "\u001b[1;31mKeyboardInterrupt\u001b[0m                         Traceback (most recent call last)",
      "\u001b[1;32m<ipython-input-100-0dd11c9792e1>\u001b[0m in \u001b[0;36m<module>\u001b[1;34m()\u001b[0m\n\u001b[1;32m----> 1\u001b[1;33m \u001b[0mdata_tf\u001b[0m \u001b[1;33m=\u001b[0m \u001b[0mdata_null\u001b[0m\u001b[1;33m.\u001b[0m\u001b[0mapply\u001b[0m\u001b[1;33m(\u001b[0m\u001b[1;32mlambda\u001b[0m \u001b[0mrow\u001b[0m\u001b[1;33m:\u001b[0m \u001b[0mfill_start_street_null\u001b[0m\u001b[1;33m(\u001b[0m\u001b[0mdata_not_null\u001b[0m\u001b[1;33m,\u001b[0m \u001b[0mrow\u001b[0m\u001b[1;33m)\u001b[0m\u001b[1;33m,\u001b[0m \u001b[0maxis\u001b[0m\u001b[1;33m=\u001b[0m\u001b[1;36m1\u001b[0m\u001b[1;33m)\u001b[0m\u001b[1;33m\u001b[0m\u001b[0m\n\u001b[0m",
      "\u001b[1;32mc:\\users\\le anh tuan\\appdata\\local\\programs\\python\\python35\\lib\\site-packages\\pandas\\core\\frame.py\u001b[0m in \u001b[0;36mapply\u001b[1;34m(self, func, axis, broadcast, raw, reduce, args, **kwds)\u001b[0m\n\u001b[0;32m   4260\u001b[0m                         \u001b[0mf\u001b[0m\u001b[1;33m,\u001b[0m \u001b[0maxis\u001b[0m\u001b[1;33m,\u001b[0m\u001b[1;33m\u001b[0m\u001b[0m\n\u001b[0;32m   4261\u001b[0m                         \u001b[0mreduce\u001b[0m\u001b[1;33m=\u001b[0m\u001b[0mreduce\u001b[0m\u001b[1;33m,\u001b[0m\u001b[1;33m\u001b[0m\u001b[0m\n\u001b[1;32m-> 4262\u001b[1;33m                         ignore_failures=ignore_failures)\n\u001b[0m\u001b[0;32m   4263\u001b[0m             \u001b[1;32melse\u001b[0m\u001b[1;33m:\u001b[0m\u001b[1;33m\u001b[0m\u001b[0m\n\u001b[0;32m   4264\u001b[0m                 \u001b[1;32mreturn\u001b[0m \u001b[0mself\u001b[0m\u001b[1;33m.\u001b[0m\u001b[0m_apply_broadcast\u001b[0m\u001b[1;33m(\u001b[0m\u001b[0mf\u001b[0m\u001b[1;33m,\u001b[0m \u001b[0maxis\u001b[0m\u001b[1;33m)\u001b[0m\u001b[1;33m\u001b[0m\u001b[0m\n",
      "\u001b[1;32mc:\\users\\le anh tuan\\appdata\\local\\programs\\python\\python35\\lib\\site-packages\\pandas\\core\\frame.py\u001b[0m in \u001b[0;36m_apply_standard\u001b[1;34m(self, func, axis, ignore_failures, reduce)\u001b[0m\n\u001b[0;32m   4356\u001b[0m             \u001b[1;32mtry\u001b[0m\u001b[1;33m:\u001b[0m\u001b[1;33m\u001b[0m\u001b[0m\n\u001b[0;32m   4357\u001b[0m                 \u001b[1;32mfor\u001b[0m \u001b[0mi\u001b[0m\u001b[1;33m,\u001b[0m \u001b[0mv\u001b[0m \u001b[1;32min\u001b[0m \u001b[0menumerate\u001b[0m\u001b[1;33m(\u001b[0m\u001b[0mseries_gen\u001b[0m\u001b[1;33m)\u001b[0m\u001b[1;33m:\u001b[0m\u001b[1;33m\u001b[0m\u001b[0m\n\u001b[1;32m-> 4358\u001b[1;33m                     \u001b[0mresults\u001b[0m\u001b[1;33m[\u001b[0m\u001b[0mi\u001b[0m\u001b[1;33m]\u001b[0m \u001b[1;33m=\u001b[0m \u001b[0mfunc\u001b[0m\u001b[1;33m(\u001b[0m\u001b[0mv\u001b[0m\u001b[1;33m)\u001b[0m\u001b[1;33m\u001b[0m\u001b[0m\n\u001b[0m\u001b[0;32m   4359\u001b[0m                     \u001b[0mkeys\u001b[0m\u001b[1;33m.\u001b[0m\u001b[0mappend\u001b[0m\u001b[1;33m(\u001b[0m\u001b[0mv\u001b[0m\u001b[1;33m.\u001b[0m\u001b[0mname\u001b[0m\u001b[1;33m)\u001b[0m\u001b[1;33m\u001b[0m\u001b[0m\n\u001b[0;32m   4360\u001b[0m             \u001b[1;32mexcept\u001b[0m \u001b[0mException\u001b[0m \u001b[1;32mas\u001b[0m \u001b[0me\u001b[0m\u001b[1;33m:\u001b[0m\u001b[1;33m\u001b[0m\u001b[0m\n",
      "\u001b[1;32m<ipython-input-100-0dd11c9792e1>\u001b[0m in \u001b[0;36m<lambda>\u001b[1;34m(row)\u001b[0m\n\u001b[1;32m----> 1\u001b[1;33m \u001b[0mdata_tf\u001b[0m \u001b[1;33m=\u001b[0m \u001b[0mdata_null\u001b[0m\u001b[1;33m.\u001b[0m\u001b[0mapply\u001b[0m\u001b[1;33m(\u001b[0m\u001b[1;32mlambda\u001b[0m \u001b[0mrow\u001b[0m\u001b[1;33m:\u001b[0m \u001b[0mfill_start_street_null\u001b[0m\u001b[1;33m(\u001b[0m\u001b[0mdata_not_null\u001b[0m\u001b[1;33m,\u001b[0m \u001b[0mrow\u001b[0m\u001b[1;33m)\u001b[0m\u001b[1;33m,\u001b[0m \u001b[0maxis\u001b[0m\u001b[1;33m=\u001b[0m\u001b[1;36m1\u001b[0m\u001b[1;33m)\u001b[0m\u001b[1;33m\u001b[0m\u001b[0m\n\u001b[0m",
      "\u001b[1;32m<ipython-input-99-f94f0745982d>\u001b[0m in \u001b[0;36mfill_start_street_null\u001b[1;34m(data_not_null, row)\u001b[0m\n\u001b[0;32m      1\u001b[0m \u001b[1;32mdef\u001b[0m \u001b[0mfill_start_street_null\u001b[0m\u001b[1;33m(\u001b[0m\u001b[0mdata_not_null\u001b[0m\u001b[1;33m,\u001b[0m \u001b[0mrow\u001b[0m\u001b[1;33m)\u001b[0m\u001b[1;33m:\u001b[0m\u001b[1;33m\u001b[0m\u001b[0m\n\u001b[0;32m      2\u001b[0m     near_location = data_not_null[(data_not_null['pickup_longitude'] >= row['pickup_longitude']) & (\n\u001b[1;32m----> 3\u001b[1;33m         data_not_null['pickup_latitude'] >= row['pickup_latitude'])]\n\u001b[0m\u001b[0;32m      4\u001b[0m     \u001b[1;32mreturn\u001b[0m \u001b[0mnear_location\u001b[0m\u001b[1;33m[\u001b[0m\u001b[1;33m:\u001b[0m\u001b[1;36m1\u001b[0m\u001b[1;33m]\u001b[0m\u001b[1;33m[\u001b[0m\u001b[1;34m'starting_street'\u001b[0m\u001b[1;33m]\u001b[0m\u001b[1;33m.\u001b[0m\u001b[0mvalues\u001b[0m\u001b[1;33m[\u001b[0m\u001b[1;36m0\u001b[0m\u001b[1;33m]\u001b[0m\u001b[1;33m\u001b[0m\u001b[0m\n\u001b[0;32m      5\u001b[0m \u001b[1;33m\u001b[0m\u001b[0m\n",
      "\u001b[1;32mc:\\users\\le anh tuan\\appdata\\local\\programs\\python\\python35\\lib\\site-packages\\pandas\\core\\frame.py\u001b[0m in \u001b[0;36m__getitem__\u001b[1;34m(self, key)\u001b[0m\n\u001b[0;32m   1956\u001b[0m         \u001b[1;32mif\u001b[0m \u001b[0misinstance\u001b[0m\u001b[1;33m(\u001b[0m\u001b[0mkey\u001b[0m\u001b[1;33m,\u001b[0m \u001b[1;33m(\u001b[0m\u001b[0mSeries\u001b[0m\u001b[1;33m,\u001b[0m \u001b[0mnp\u001b[0m\u001b[1;33m.\u001b[0m\u001b[0mndarray\u001b[0m\u001b[1;33m,\u001b[0m \u001b[0mIndex\u001b[0m\u001b[1;33m,\u001b[0m \u001b[0mlist\u001b[0m\u001b[1;33m)\u001b[0m\u001b[1;33m)\u001b[0m\u001b[1;33m:\u001b[0m\u001b[1;33m\u001b[0m\u001b[0m\n\u001b[0;32m   1957\u001b[0m             \u001b[1;31m# either boolean or fancy integer index\u001b[0m\u001b[1;33m\u001b[0m\u001b[1;33m\u001b[0m\u001b[0m\n\u001b[1;32m-> 1958\u001b[1;33m             \u001b[1;32mreturn\u001b[0m \u001b[0mself\u001b[0m\u001b[1;33m.\u001b[0m\u001b[0m_getitem_array\u001b[0m\u001b[1;33m(\u001b[0m\u001b[0mkey\u001b[0m\u001b[1;33m)\u001b[0m\u001b[1;33m\u001b[0m\u001b[0m\n\u001b[0m\u001b[0;32m   1959\u001b[0m         \u001b[1;32melif\u001b[0m \u001b[0misinstance\u001b[0m\u001b[1;33m(\u001b[0m\u001b[0mkey\u001b[0m\u001b[1;33m,\u001b[0m \u001b[0mDataFrame\u001b[0m\u001b[1;33m)\u001b[0m\u001b[1;33m:\u001b[0m\u001b[1;33m\u001b[0m\u001b[0m\n\u001b[0;32m   1960\u001b[0m             \u001b[1;32mreturn\u001b[0m \u001b[0mself\u001b[0m\u001b[1;33m.\u001b[0m\u001b[0m_getitem_frame\u001b[0m\u001b[1;33m(\u001b[0m\u001b[0mkey\u001b[0m\u001b[1;33m)\u001b[0m\u001b[1;33m\u001b[0m\u001b[0m\n",
      "\u001b[1;32mc:\\users\\le anh tuan\\appdata\\local\\programs\\python\\python35\\lib\\site-packages\\pandas\\core\\frame.py\u001b[0m in \u001b[0;36m_getitem_array\u001b[1;34m(self, key)\u001b[0m\n\u001b[0;32m   1998\u001b[0m             \u001b[0mkey\u001b[0m \u001b[1;33m=\u001b[0m \u001b[0mcheck_bool_indexer\u001b[0m\u001b[1;33m(\u001b[0m\u001b[0mself\u001b[0m\u001b[1;33m.\u001b[0m\u001b[0mindex\u001b[0m\u001b[1;33m,\u001b[0m \u001b[0mkey\u001b[0m\u001b[1;33m)\u001b[0m\u001b[1;33m\u001b[0m\u001b[0m\n\u001b[0;32m   1999\u001b[0m             \u001b[0mindexer\u001b[0m \u001b[1;33m=\u001b[0m \u001b[0mkey\u001b[0m\u001b[1;33m.\u001b[0m\u001b[0mnonzero\u001b[0m\u001b[1;33m(\u001b[0m\u001b[1;33m)\u001b[0m\u001b[1;33m[\u001b[0m\u001b[1;36m0\u001b[0m\u001b[1;33m]\u001b[0m\u001b[1;33m\u001b[0m\u001b[0m\n\u001b[1;32m-> 2000\u001b[1;33m             \u001b[1;32mreturn\u001b[0m \u001b[0mself\u001b[0m\u001b[1;33m.\u001b[0m\u001b[0mtake\u001b[0m\u001b[1;33m(\u001b[0m\u001b[0mindexer\u001b[0m\u001b[1;33m,\u001b[0m \u001b[0maxis\u001b[0m\u001b[1;33m=\u001b[0m\u001b[1;36m0\u001b[0m\u001b[1;33m,\u001b[0m \u001b[0mconvert\u001b[0m\u001b[1;33m=\u001b[0m\u001b[1;32mFalse\u001b[0m\u001b[1;33m)\u001b[0m\u001b[1;33m\u001b[0m\u001b[0m\n\u001b[0m\u001b[0;32m   2001\u001b[0m         \u001b[1;32melse\u001b[0m\u001b[1;33m:\u001b[0m\u001b[1;33m\u001b[0m\u001b[0m\n\u001b[0;32m   2002\u001b[0m             \u001b[0mindexer\u001b[0m \u001b[1;33m=\u001b[0m \u001b[0mself\u001b[0m\u001b[1;33m.\u001b[0m\u001b[0mloc\u001b[0m\u001b[1;33m.\u001b[0m\u001b[0m_convert_to_indexer\u001b[0m\u001b[1;33m(\u001b[0m\u001b[0mkey\u001b[0m\u001b[1;33m,\u001b[0m \u001b[0maxis\u001b[0m\u001b[1;33m=\u001b[0m\u001b[1;36m1\u001b[0m\u001b[1;33m)\u001b[0m\u001b[1;33m\u001b[0m\u001b[0m\n",
      "\u001b[1;32mc:\\users\\le anh tuan\\appdata\\local\\programs\\python\\python35\\lib\\site-packages\\pandas\\core\\generic.py\u001b[0m in \u001b[0;36mtake\u001b[1;34m(self, indices, axis, convert, is_copy, **kwargs)\u001b[0m\n\u001b[0;32m   1926\u001b[0m         new_data = self._data.take(indices,\n\u001b[0;32m   1927\u001b[0m                                    \u001b[0maxis\u001b[0m\u001b[1;33m=\u001b[0m\u001b[0mself\u001b[0m\u001b[1;33m.\u001b[0m\u001b[0m_get_block_manager_axis\u001b[0m\u001b[1;33m(\u001b[0m\u001b[0maxis\u001b[0m\u001b[1;33m)\u001b[0m\u001b[1;33m,\u001b[0m\u001b[1;33m\u001b[0m\u001b[0m\n\u001b[1;32m-> 1928\u001b[1;33m                                    convert=True, verify=True)\n\u001b[0m\u001b[0;32m   1929\u001b[0m         \u001b[0mresult\u001b[0m \u001b[1;33m=\u001b[0m \u001b[0mself\u001b[0m\u001b[1;33m.\u001b[0m\u001b[0m_constructor\u001b[0m\u001b[1;33m(\u001b[0m\u001b[0mnew_data\u001b[0m\u001b[1;33m)\u001b[0m\u001b[1;33m.\u001b[0m\u001b[0m__finalize__\u001b[0m\u001b[1;33m(\u001b[0m\u001b[0mself\u001b[0m\u001b[1;33m)\u001b[0m\u001b[1;33m\u001b[0m\u001b[0m\n\u001b[0;32m   1930\u001b[0m \u001b[1;33m\u001b[0m\u001b[0m\n",
      "\u001b[1;32mc:\\users\\le anh tuan\\appdata\\local\\programs\\python\\python35\\lib\\site-packages\\pandas\\core\\internals.py\u001b[0m in \u001b[0;36mtake\u001b[1;34m(self, indexer, axis, verify, convert)\u001b[0m\n\u001b[0;32m   4009\u001b[0m         \u001b[0mnew_labels\u001b[0m \u001b[1;33m=\u001b[0m \u001b[0mself\u001b[0m\u001b[1;33m.\u001b[0m\u001b[0maxes\u001b[0m\u001b[1;33m[\u001b[0m\u001b[0maxis\u001b[0m\u001b[1;33m]\u001b[0m\u001b[1;33m.\u001b[0m\u001b[0mtake\u001b[0m\u001b[1;33m(\u001b[0m\u001b[0mindexer\u001b[0m\u001b[1;33m)\u001b[0m\u001b[1;33m\u001b[0m\u001b[0m\n\u001b[0;32m   4010\u001b[0m         return self.reindex_indexer(new_axis=new_labels, indexer=indexer,\n\u001b[1;32m-> 4011\u001b[1;33m                                     axis=axis, allow_dups=True)\n\u001b[0m\u001b[0;32m   4012\u001b[0m \u001b[1;33m\u001b[0m\u001b[0m\n\u001b[0;32m   4013\u001b[0m     \u001b[1;32mdef\u001b[0m \u001b[0mmerge\u001b[0m\u001b[1;33m(\u001b[0m\u001b[0mself\u001b[0m\u001b[1;33m,\u001b[0m \u001b[0mother\u001b[0m\u001b[1;33m,\u001b[0m \u001b[0mlsuffix\u001b[0m\u001b[1;33m=\u001b[0m\u001b[1;34m''\u001b[0m\u001b[1;33m,\u001b[0m \u001b[0mrsuffix\u001b[0m\u001b[1;33m=\u001b[0m\u001b[1;34m''\u001b[0m\u001b[1;33m)\u001b[0m\u001b[1;33m:\u001b[0m\u001b[1;33m\u001b[0m\u001b[0m\n",
      "\u001b[1;32mc:\\users\\le anh tuan\\appdata\\local\\programs\\python\\python35\\lib\\site-packages\\pandas\\core\\internals.py\u001b[0m in \u001b[0;36mreindex_indexer\u001b[1;34m(self, new_axis, indexer, axis, fill_value, allow_dups, copy)\u001b[0m\n\u001b[0;32m   3895\u001b[0m             new_blocks = [blk.take_nd(indexer, axis=axis, fill_tuple=(\n\u001b[0;32m   3896\u001b[0m                 fill_value if fill_value is not None else blk.fill_value,))\n\u001b[1;32m-> 3897\u001b[1;33m                 for blk in self.blocks]\n\u001b[0m\u001b[0;32m   3898\u001b[0m \u001b[1;33m\u001b[0m\u001b[0m\n\u001b[0;32m   3899\u001b[0m         \u001b[0mnew_axes\u001b[0m \u001b[1;33m=\u001b[0m \u001b[0mlist\u001b[0m\u001b[1;33m(\u001b[0m\u001b[0mself\u001b[0m\u001b[1;33m.\u001b[0m\u001b[0maxes\u001b[0m\u001b[1;33m)\u001b[0m\u001b[1;33m\u001b[0m\u001b[0m\n",
      "\u001b[1;32mc:\\users\\le anh tuan\\appdata\\local\\programs\\python\\python35\\lib\\site-packages\\pandas\\core\\internals.py\u001b[0m in \u001b[0;36m<listcomp>\u001b[1;34m(.0)\u001b[0m\n\u001b[0;32m   3895\u001b[0m             new_blocks = [blk.take_nd(indexer, axis=axis, fill_tuple=(\n\u001b[0;32m   3896\u001b[0m                 fill_value if fill_value is not None else blk.fill_value,))\n\u001b[1;32m-> 3897\u001b[1;33m                 for blk in self.blocks]\n\u001b[0m\u001b[0;32m   3898\u001b[0m \u001b[1;33m\u001b[0m\u001b[0m\n\u001b[0;32m   3899\u001b[0m         \u001b[0mnew_axes\u001b[0m \u001b[1;33m=\u001b[0m \u001b[0mlist\u001b[0m\u001b[1;33m(\u001b[0m\u001b[0mself\u001b[0m\u001b[1;33m.\u001b[0m\u001b[0maxes\u001b[0m\u001b[1;33m)\u001b[0m\u001b[1;33m\u001b[0m\u001b[0m\n",
      "\u001b[1;32mc:\\users\\le anh tuan\\appdata\\local\\programs\\python\\python35\\lib\\site-packages\\pandas\\core\\internals.py\u001b[0m in \u001b[0;36mtake_nd\u001b[1;34m(self, indexer, axis, new_mgr_locs, fill_tuple)\u001b[0m\n\u001b[0;32m   1044\u001b[0m             \u001b[0mfill_value\u001b[0m \u001b[1;33m=\u001b[0m \u001b[0mfill_tuple\u001b[0m\u001b[1;33m[\u001b[0m\u001b[1;36m0\u001b[0m\u001b[1;33m]\u001b[0m\u001b[1;33m\u001b[0m\u001b[0m\n\u001b[0;32m   1045\u001b[0m             new_values = algos.take_nd(values, indexer, axis=axis,\n\u001b[1;32m-> 1046\u001b[1;33m                                        allow_fill=True, fill_value=fill_value)\n\u001b[0m\u001b[0;32m   1047\u001b[0m \u001b[1;33m\u001b[0m\u001b[0m\n\u001b[0;32m   1048\u001b[0m         \u001b[1;32mif\u001b[0m \u001b[0mnew_mgr_locs\u001b[0m \u001b[1;32mis\u001b[0m \u001b[1;32mNone\u001b[0m\u001b[1;33m:\u001b[0m\u001b[1;33m\u001b[0m\u001b[0m\n",
      "\u001b[1;31mKeyboardInterrupt\u001b[0m: "
     ]
    }
   ],
   "source": [
    "data_tf = data_null.apply(lambda row: fill_start_street_null(data_not_null, row), axis=1)"
   ]
  },
  {
   "cell_type": "code",
   "execution_count": 72,
   "metadata": {
    "ExecuteTime": {
     "end_time": "2017-07-27T09:24:31.789440Z",
     "start_time": "2017-07-27T09:24:31.773813Z"
    }
   },
   "outputs": [
    {
     "data": {
      "text/plain": [
       "train  18           Centre Street\n",
       "       70     US Airways Arrivals\n",
       "       93     US Airways Arrivals\n",
       "       98     Terminal 8 arrivals\n",
       "       102    Terminal 8 arrivals\n",
       "dtype: object"
      ]
     },
     "execution_count": 72,
     "metadata": {},
     "output_type": "execute_result"
    }
   ],
   "source": [
    "data_tf[:5]"
   ]
  },
  {
   "cell_type": "code",
   "execution_count": 74,
   "metadata": {
    "ExecuteTime": {
     "end_time": "2017-07-27T09:26:09.559256Z",
     "start_time": "2017-07-27T09:26:09.396140Z"
    }
   },
   "outputs": [
    {
     "data": {
      "text/html": [
       "<div>\n",
       "<style>\n",
       "    .dataframe thead tr:only-child th {\n",
       "        text-align: right;\n",
       "    }\n",
       "\n",
       "    .dataframe thead th {\n",
       "        text-align: left;\n",
       "    }\n",
       "\n",
       "    .dataframe tbody tr th {\n",
       "        vertical-align: top;\n",
       "    }\n",
       "</style>\n",
       "<table border=\"1\" class=\"dataframe\">\n",
       "  <thead>\n",
       "    <tr style=\"text-align: right;\">\n",
       "      <th></th>\n",
       "      <th></th>\n",
       "      <th>id</th>\n",
       "      <th>vendor_id</th>\n",
       "      <th>pickup_datetime</th>\n",
       "      <th>passenger_count</th>\n",
       "      <th>pickup_longitude</th>\n",
       "      <th>pickup_latitude</th>\n",
       "      <th>dropoff_longitude</th>\n",
       "      <th>dropoff_latitude</th>\n",
       "      <th>store_and_fwd_flag</th>\n",
       "      <th>total_distance</th>\n",
       "      <th>number_of_streets</th>\n",
       "      <th>starting_street</th>\n",
       "      <th>end_street</th>\n",
       "    </tr>\n",
       "  </thead>\n",
       "  <tbody>\n",
       "    <tr>\n",
       "      <th rowspan=\"5\" valign=\"top\">train</th>\n",
       "      <th>18</th>\n",
       "      <td>id3552682</td>\n",
       "      <td>1</td>\n",
       "      <td>2016-06-27 09:55:13</td>\n",
       "      <td>1</td>\n",
       "      <td>-74.003983</td>\n",
       "      <td>40.713013</td>\n",
       "      <td>-73.979195</td>\n",
       "      <td>40.749924</td>\n",
       "      <td>N</td>\n",
       "      <td>4673.9</td>\n",
       "      <td>9.0</td>\n",
       "      <td>Centre Street</td>\n",
       "      <td>Park Avenue</td>\n",
       "    </tr>\n",
       "    <tr>\n",
       "      <th>70</th>\n",
       "      <td>id3896508</td>\n",
       "      <td>2</td>\n",
       "      <td>2016-06-07 22:32:32</td>\n",
       "      <td>1</td>\n",
       "      <td>-73.863380</td>\n",
       "      <td>40.769890</td>\n",
       "      <td>-73.837128</td>\n",
       "      <td>40.721359</td>\n",
       "      <td>N</td>\n",
       "      <td>8171.9</td>\n",
       "      <td>13.0</td>\n",
       "      <td>US Airways Arrivals</td>\n",
       "      <td>72nd Road</td>\n",
       "    </tr>\n",
       "    <tr>\n",
       "      <th>93</th>\n",
       "      <td>id2030290</td>\n",
       "      <td>1</td>\n",
       "      <td>2016-03-31 11:33:30</td>\n",
       "      <td>3</td>\n",
       "      <td>-73.864319</td>\n",
       "      <td>40.769829</td>\n",
       "      <td>-73.985863</td>\n",
       "      <td>40.760952</td>\n",
       "      <td>N</td>\n",
       "      <td>16077.1</td>\n",
       "      <td>19.0</td>\n",
       "      <td>US Airways Arrivals</td>\n",
       "      <td>West 48th Street</td>\n",
       "    </tr>\n",
       "    <tr>\n",
       "      <th>98</th>\n",
       "      <td>id2102594</td>\n",
       "      <td>1</td>\n",
       "      <td>2016-03-30 16:14:29</td>\n",
       "      <td>1</td>\n",
       "      <td>-73.789841</td>\n",
       "      <td>40.643559</td>\n",
       "      <td>-73.970665</td>\n",
       "      <td>40.687279</td>\n",
       "      <td>N</td>\n",
       "      <td>20236.7</td>\n",
       "      <td>20.0</td>\n",
       "      <td>Terminal 8 arrivals</td>\n",
       "      <td>Adelphi Street</td>\n",
       "    </tr>\n",
       "    <tr>\n",
       "      <th>102</th>\n",
       "      <td>id0105610</td>\n",
       "      <td>1</td>\n",
       "      <td>2016-02-19 20:01:24</td>\n",
       "      <td>3</td>\n",
       "      <td>-73.789719</td>\n",
       "      <td>40.643707</td>\n",
       "      <td>-73.978699</td>\n",
       "      <td>40.750343</td>\n",
       "      <td>N</td>\n",
       "      <td>27983.1</td>\n",
       "      <td>15.0</td>\n",
       "      <td>Terminal 8 arrivals</td>\n",
       "      <td>Park Avenue</td>\n",
       "    </tr>\n",
       "  </tbody>\n",
       "</table>\n",
       "</div>"
      ],
      "text/plain": [
       "                  id  vendor_id      pickup_datetime  passenger_count  \\\n",
       "train 18   id3552682          1  2016-06-27 09:55:13                1   \n",
       "      70   id3896508          2  2016-06-07 22:32:32                1   \n",
       "      93   id2030290          1  2016-03-31 11:33:30                3   \n",
       "      98   id2102594          1  2016-03-30 16:14:29                1   \n",
       "      102  id0105610          1  2016-02-19 20:01:24                3   \n",
       "\n",
       "           pickup_longitude  pickup_latitude  dropoff_longitude  \\\n",
       "train 18         -74.003983        40.713013         -73.979195   \n",
       "      70         -73.863380        40.769890         -73.837128   \n",
       "      93         -73.864319        40.769829         -73.985863   \n",
       "      98         -73.789841        40.643559         -73.970665   \n",
       "      102        -73.789719        40.643707         -73.978699   \n",
       "\n",
       "           dropoff_latitude store_and_fwd_flag  total_distance  \\\n",
       "train 18          40.749924                  N          4673.9   \n",
       "      70          40.721359                  N          8171.9   \n",
       "      93          40.760952                  N         16077.1   \n",
       "      98          40.687279                  N         20236.7   \n",
       "      102         40.750343                  N         27983.1   \n",
       "\n",
       "           number_of_streets      starting_street        end_street  \n",
       "train 18                 9.0        Centre Street       Park Avenue  \n",
       "      70                13.0  US Airways Arrivals         72nd Road  \n",
       "      93                19.0  US Airways Arrivals  West 48th Street  \n",
       "      98                20.0  Terminal 8 arrivals    Adelphi Street  \n",
       "      102               15.0  Terminal 8 arrivals       Park Avenue  "
      ]
     },
     "execution_count": 74,
     "metadata": {},
     "output_type": "execute_result"
    }
   ],
   "source": [
    "combine_data['starting_street'].update(data_tf)"
   ]
  },
  {
   "cell_type": "code",
   "execution_count": null,
   "metadata": {
    "collapsed": true
   },
   "outputs": [],
   "source": [
    "data_null = data[data['starting_street'].isnull()]\n",
    "print(len(data_null))"
   ]
  },
  {
   "cell_type": "markdown",
   "metadata": {},
   "source": [
    "## Transform object data"
   ]
  },
  {
   "cell_type": "code",
   "execution_count": 14,
   "metadata": {
    "ExecuteTime": {
     "end_time": "2017-07-27T03:09:42.798735Z",
     "start_time": "2017-07-27T03:09:42.796049Z"
    },
    "collapsed": true
   },
   "outputs": [],
   "source": [
    "data = combine_data"
   ]
  },
  {
   "cell_type": "markdown",
   "metadata": {},
   "source": [
    "### Convert datetime string to object"
   ]
  },
  {
   "cell_type": "code",
   "execution_count": 15,
   "metadata": {
    "ExecuteTime": {
     "end_time": "2017-07-27T03:09:44.869751Z",
     "start_time": "2017-07-27T03:09:44.861514Z"
    },
    "collapsed": true
   },
   "outputs": [],
   "source": [
    "def pd_datetime(data):\n",
    "    date_format = \"%Y-%m-%d %H:%M:%S\"\n",
    "    datetime_obj = data['pickup_datetime'].apply(lambda x: datetime.strptime(x, date_format))\n",
    "    return datetime_obj "
   ]
  },
  {
   "cell_type": "code",
   "execution_count": 16,
   "metadata": {
    "ExecuteTime": {
     "end_time": "2017-07-27T03:09:53.036689Z",
     "start_time": "2017-07-27T03:09:52.537882Z"
    }
   },
   "outputs": [
    {
     "data": {
      "text/plain": [
       "train  0   2016-03-14 17:24:55\n",
       "       1   2016-06-12 00:43:35\n",
       "       2   2016-01-19 11:35:24\n",
       "       3   2016-04-06 19:32:31\n",
       "       4   2016-03-26 13:30:55\n",
       "Name: datetime_obj, dtype: datetime64[ns]"
      ]
     },
     "execution_count": 16,
     "metadata": {},
     "output_type": "execute_result"
    }
   ],
   "source": [
    "#data['datetime_obj'] = pd_datetime(data)\n",
    "data['datetime_obj'] = pd.to_datetime(data['pickup_datetime'])\n",
    "data['datetime_obj'][:5]"
   ]
  },
  {
   "cell_type": "code",
   "execution_count": 17,
   "metadata": {
    "ExecuteTime": {
     "end_time": "2017-07-27T03:09:55.490050Z",
     "start_time": "2017-07-27T03:09:54.979116Z"
    },
    "collapsed": true
   },
   "outputs": [],
   "source": [
    "data['pickup_year'] = data['datetime_obj'].dt.year\n",
    "data['pickup_month'] = data['datetime_obj'].dt.month\n",
    "data['pickup_weekday'] = data['datetime_obj'].dt.weekday\n",
    "data['pickup_day'] = data['datetime_obj'].dt.day\n",
    "data['pickup_hour'] = data['datetime_obj'].dt.hour\n",
    "data['pickup_minute'] = data['datetime_obj'].dt.minute"
   ]
  },
  {
   "cell_type": "code",
   "execution_count": 126,
   "metadata": {
    "ExecuteTime": {
     "end_time": "2017-07-26T13:04:19.992517Z",
     "start_time": "2017-07-26T13:04:19.969998Z"
    }
   },
   "outputs": [
    {
     "data": {
      "text/html": [
       "<div>\n",
       "<style>\n",
       "    .dataframe thead tr:only-child th {\n",
       "        text-align: right;\n",
       "    }\n",
       "\n",
       "    .dataframe thead th {\n",
       "        text-align: left;\n",
       "    }\n",
       "\n",
       "    .dataframe tbody tr th {\n",
       "        vertical-align: top;\n",
       "    }\n",
       "</style>\n",
       "<table border=\"1\" class=\"dataframe\">\n",
       "  <thead>\n",
       "    <tr style=\"text-align: right;\">\n",
       "      <th></th>\n",
       "      <th></th>\n",
       "      <th>id</th>\n",
       "      <th>vendor_id</th>\n",
       "      <th>passenger_count</th>\n",
       "      <th>pickup_longitude</th>\n",
       "      <th>pickup_latitude</th>\n",
       "      <th>dropoff_longitude</th>\n",
       "      <th>dropoff_latitude</th>\n",
       "      <th>store_and_fwd_flag</th>\n",
       "      <th>total_distance</th>\n",
       "      <th>pickup_month</th>\n",
       "      <th>pickup_weekday</th>\n",
       "      <th>pickup_day</th>\n",
       "      <th>pickup_hour</th>\n",
       "      <th>pickup_minute</th>\n",
       "      <th>haversine_distance</th>\n",
       "    </tr>\n",
       "  </thead>\n",
       "  <tbody>\n",
       "    <tr>\n",
       "      <th rowspan=\"5\" valign=\"top\">train</th>\n",
       "      <th>0</th>\n",
       "      <td>id2875421</td>\n",
       "      <td>2</td>\n",
       "      <td>1</td>\n",
       "      <td>-73.982155</td>\n",
       "      <td>40.767937</td>\n",
       "      <td>-73.964630</td>\n",
       "      <td>40.765602</td>\n",
       "      <td>0</td>\n",
       "      <td>2009.1</td>\n",
       "      <td>3</td>\n",
       "      <td>0</td>\n",
       "      <td>14</td>\n",
       "      <td>0.440043</td>\n",
       "      <td>24</td>\n",
       "      <td>1.948753</td>\n",
       "    </tr>\n",
       "    <tr>\n",
       "      <th>1</th>\n",
       "      <td>id2377394</td>\n",
       "      <td>1</td>\n",
       "      <td>1</td>\n",
       "      <td>-73.980415</td>\n",
       "      <td>40.738564</td>\n",
       "      <td>-73.999481</td>\n",
       "      <td>40.731152</td>\n",
       "      <td>0</td>\n",
       "      <td>2513.2</td>\n",
       "      <td>6</td>\n",
       "      <td>6</td>\n",
       "      <td>12</td>\n",
       "      <td>0.362564</td>\n",
       "      <td>43</td>\n",
       "      <td>2.130839</td>\n",
       "    </tr>\n",
       "    <tr>\n",
       "      <th>2</th>\n",
       "      <td>id3858529</td>\n",
       "      <td>2</td>\n",
       "      <td>1</td>\n",
       "      <td>-73.979027</td>\n",
       "      <td>40.763939</td>\n",
       "      <td>-74.005333</td>\n",
       "      <td>40.710087</td>\n",
       "      <td>0</td>\n",
       "      <td>11060.8</td>\n",
       "      <td>1</td>\n",
       "      <td>1</td>\n",
       "      <td>19</td>\n",
       "      <td>0.485607</td>\n",
       "      <td>35</td>\n",
       "      <td>3.356930</td>\n",
       "    </tr>\n",
       "    <tr>\n",
       "      <th>3</th>\n",
       "      <td>id3504673</td>\n",
       "      <td>2</td>\n",
       "      <td>1</td>\n",
       "      <td>-74.010040</td>\n",
       "      <td>40.719971</td>\n",
       "      <td>-74.012268</td>\n",
       "      <td>40.706718</td>\n",
       "      <td>0</td>\n",
       "      <td>1779.4</td>\n",
       "      <td>4</td>\n",
       "      <td>2</td>\n",
       "      <td>6</td>\n",
       "      <td>0.416281</td>\n",
       "      <td>32</td>\n",
       "      <td>0.475220</td>\n",
       "    </tr>\n",
       "    <tr>\n",
       "      <th>4</th>\n",
       "      <td>id2181028</td>\n",
       "      <td>2</td>\n",
       "      <td>1</td>\n",
       "      <td>-73.973053</td>\n",
       "      <td>40.793209</td>\n",
       "      <td>-73.972923</td>\n",
       "      <td>40.782520</td>\n",
       "      <td>0</td>\n",
       "      <td>1614.9</td>\n",
       "      <td>3</td>\n",
       "      <td>5</td>\n",
       "      <td>26</td>\n",
       "      <td>3.398990</td>\n",
       "      <td>30</td>\n",
       "      <td>0.328255</td>\n",
       "    </tr>\n",
       "  </tbody>\n",
       "</table>\n",
       "</div>"
      ],
      "text/plain": [
       "                id  vendor_id  passenger_count  pickup_longitude  \\\n",
       "train 0  id2875421          2                1        -73.982155   \n",
       "      1  id2377394          1                1        -73.980415   \n",
       "      2  id3858529          2                1        -73.979027   \n",
       "      3  id3504673          2                1        -74.010040   \n",
       "      4  id2181028          2                1        -73.973053   \n",
       "\n",
       "         pickup_latitude  dropoff_longitude  dropoff_latitude  \\\n",
       "train 0        40.767937         -73.964630         40.765602   \n",
       "      1        40.738564         -73.999481         40.731152   \n",
       "      2        40.763939         -74.005333         40.710087   \n",
       "      3        40.719971         -74.012268         40.706718   \n",
       "      4        40.793209         -73.972923         40.782520   \n",
       "\n",
       "        store_and_fwd_flag  total_distance  pickup_month  pickup_weekday  \\\n",
       "train 0                  0          2009.1             3               0   \n",
       "      1                  0          2513.2             6               6   \n",
       "      2                  0         11060.8             1               1   \n",
       "      3                  0          1779.4             4               2   \n",
       "      4                  0          1614.9             3               5   \n",
       "\n",
       "         pickup_day  pickup_hour  pickup_minute  haversine_distance  \n",
       "train 0          14     0.440043             24            1.948753  \n",
       "      1          12     0.362564             43            2.130839  \n",
       "      2          19     0.485607             35            3.356930  \n",
       "      3           6     0.416281             32            0.475220  \n",
       "      4          26     3.398990             30            0.328255  "
      ]
     },
     "execution_count": 126,
     "metadata": {},
     "output_type": "execute_result"
    }
   ],
   "source": [
    "data[:5]"
   ]
  },
  {
   "cell_type": "markdown",
   "metadata": {},
   "source": [
    "### store_and_fwd_flag"
   ]
  },
  {
   "cell_type": "code",
   "execution_count": 18,
   "metadata": {
    "ExecuteTime": {
     "end_time": "2017-07-27T03:09:58.480306Z",
     "start_time": "2017-07-27T03:09:58.274142Z"
    }
   },
   "outputs": [
    {
     "data": {
      "text/plain": [
       "N    2072303\n",
       "Y      11475\n",
       "Name: store_and_fwd_flag, dtype: int64"
      ]
     },
     "execution_count": 18,
     "metadata": {},
     "output_type": "execute_result"
    }
   ],
   "source": [
    "col = 'store_and_fwd_flag'\n",
    "data[col].value_counts()"
   ]
  },
  {
   "cell_type": "code",
   "execution_count": 19,
   "metadata": {
    "ExecuteTime": {
     "end_time": "2017-07-27T03:10:01.715349Z",
     "start_time": "2017-07-27T03:10:01.405141Z"
    }
   },
   "outputs": [
    {
     "data": {
      "text/html": [
       "<div>\n",
       "<style>\n",
       "    .dataframe thead tr:only-child th {\n",
       "        text-align: right;\n",
       "    }\n",
       "\n",
       "    .dataframe thead th {\n",
       "        text-align: left;\n",
       "    }\n",
       "\n",
       "    .dataframe tbody tr th {\n",
       "        vertical-align: top;\n",
       "    }\n",
       "</style>\n",
       "<table border=\"1\" class=\"dataframe\">\n",
       "  <thead>\n",
       "    <tr style=\"text-align: right;\">\n",
       "      <th></th>\n",
       "      <th></th>\n",
       "      <th>id</th>\n",
       "      <th>vendor_id</th>\n",
       "      <th>pickup_datetime</th>\n",
       "      <th>passenger_count</th>\n",
       "      <th>pickup_longitude</th>\n",
       "      <th>pickup_latitude</th>\n",
       "      <th>dropoff_longitude</th>\n",
       "      <th>dropoff_latitude</th>\n",
       "      <th>store_and_fwd_flag</th>\n",
       "      <th>total_distance</th>\n",
       "      <th>number_of_streets</th>\n",
       "      <th>starting_street</th>\n",
       "      <th>end_street</th>\n",
       "      <th>datetime_obj</th>\n",
       "      <th>pickup_year</th>\n",
       "      <th>pickup_month</th>\n",
       "      <th>pickup_weekday</th>\n",
       "      <th>pickup_day</th>\n",
       "      <th>pickup_hour</th>\n",
       "      <th>pickup_minute</th>\n",
       "    </tr>\n",
       "  </thead>\n",
       "  <tbody>\n",
       "    <tr>\n",
       "      <th rowspan=\"5\" valign=\"top\">train</th>\n",
       "      <th>0</th>\n",
       "      <td>id2875421</td>\n",
       "      <td>2</td>\n",
       "      <td>2016-03-14 17:24:55</td>\n",
       "      <td>1</td>\n",
       "      <td>-73.982155</td>\n",
       "      <td>40.767937</td>\n",
       "      <td>-73.964630</td>\n",
       "      <td>40.765602</td>\n",
       "      <td>0</td>\n",
       "      <td>2009.1</td>\n",
       "      <td>5.0</td>\n",
       "      <td>Columbus Circle</td>\n",
       "      <td>East 65th Street</td>\n",
       "      <td>2016-03-14 17:24:55</td>\n",
       "      <td>2016</td>\n",
       "      <td>3</td>\n",
       "      <td>0</td>\n",
       "      <td>14</td>\n",
       "      <td>17</td>\n",
       "      <td>24</td>\n",
       "    </tr>\n",
       "    <tr>\n",
       "      <th>1</th>\n",
       "      <td>id2377394</td>\n",
       "      <td>1</td>\n",
       "      <td>2016-06-12 00:43:35</td>\n",
       "      <td>1</td>\n",
       "      <td>-73.980415</td>\n",
       "      <td>40.738564</td>\n",
       "      <td>-73.999481</td>\n",
       "      <td>40.731152</td>\n",
       "      <td>0</td>\n",
       "      <td>2513.2</td>\n",
       "      <td>6.0</td>\n",
       "      <td>2nd Avenue</td>\n",
       "      <td>Washington Square West</td>\n",
       "      <td>2016-06-12 00:43:35</td>\n",
       "      <td>2016</td>\n",
       "      <td>6</td>\n",
       "      <td>6</td>\n",
       "      <td>12</td>\n",
       "      <td>0</td>\n",
       "      <td>43</td>\n",
       "    </tr>\n",
       "    <tr>\n",
       "      <th>2</th>\n",
       "      <td>id3858529</td>\n",
       "      <td>2</td>\n",
       "      <td>2016-01-19 11:35:24</td>\n",
       "      <td>1</td>\n",
       "      <td>-73.979027</td>\n",
       "      <td>40.763939</td>\n",
       "      <td>-74.005333</td>\n",
       "      <td>40.710087</td>\n",
       "      <td>0</td>\n",
       "      <td>11060.8</td>\n",
       "      <td>16.0</td>\n",
       "      <td>West 56th Street</td>\n",
       "      <td>Beekman Street</td>\n",
       "      <td>2016-01-19 11:35:24</td>\n",
       "      <td>2016</td>\n",
       "      <td>1</td>\n",
       "      <td>1</td>\n",
       "      <td>19</td>\n",
       "      <td>11</td>\n",
       "      <td>35</td>\n",
       "    </tr>\n",
       "    <tr>\n",
       "      <th>3</th>\n",
       "      <td>id3504673</td>\n",
       "      <td>2</td>\n",
       "      <td>2016-04-06 19:32:31</td>\n",
       "      <td>1</td>\n",
       "      <td>-74.010040</td>\n",
       "      <td>40.719971</td>\n",
       "      <td>-74.012268</td>\n",
       "      <td>40.706718</td>\n",
       "      <td>0</td>\n",
       "      <td>1779.4</td>\n",
       "      <td>4.0</td>\n",
       "      <td>Greenwich Street</td>\n",
       "      <td>Broadway</td>\n",
       "      <td>2016-04-06 19:32:31</td>\n",
       "      <td>2016</td>\n",
       "      <td>4</td>\n",
       "      <td>2</td>\n",
       "      <td>6</td>\n",
       "      <td>19</td>\n",
       "      <td>32</td>\n",
       "    </tr>\n",
       "    <tr>\n",
       "      <th>4</th>\n",
       "      <td>id2181028</td>\n",
       "      <td>2</td>\n",
       "      <td>2016-03-26 13:30:55</td>\n",
       "      <td>1</td>\n",
       "      <td>-73.973053</td>\n",
       "      <td>40.793209</td>\n",
       "      <td>-73.972923</td>\n",
       "      <td>40.782520</td>\n",
       "      <td>0</td>\n",
       "      <td>1614.9</td>\n",
       "      <td>5.0</td>\n",
       "      <td>Broadway</td>\n",
       "      <td>West 81st Street</td>\n",
       "      <td>2016-03-26 13:30:55</td>\n",
       "      <td>2016</td>\n",
       "      <td>3</td>\n",
       "      <td>5</td>\n",
       "      <td>26</td>\n",
       "      <td>13</td>\n",
       "      <td>30</td>\n",
       "    </tr>\n",
       "  </tbody>\n",
       "</table>\n",
       "</div>"
      ],
      "text/plain": [
       "                id  vendor_id      pickup_datetime  passenger_count  \\\n",
       "train 0  id2875421          2  2016-03-14 17:24:55                1   \n",
       "      1  id2377394          1  2016-06-12 00:43:35                1   \n",
       "      2  id3858529          2  2016-01-19 11:35:24                1   \n",
       "      3  id3504673          2  2016-04-06 19:32:31                1   \n",
       "      4  id2181028          2  2016-03-26 13:30:55                1   \n",
       "\n",
       "         pickup_longitude  pickup_latitude  dropoff_longitude  \\\n",
       "train 0        -73.982155        40.767937         -73.964630   \n",
       "      1        -73.980415        40.738564         -73.999481   \n",
       "      2        -73.979027        40.763939         -74.005333   \n",
       "      3        -74.010040        40.719971         -74.012268   \n",
       "      4        -73.973053        40.793209         -73.972923   \n",
       "\n",
       "         dropoff_latitude store_and_fwd_flag  total_distance  \\\n",
       "train 0         40.765602                  0          2009.1   \n",
       "      1         40.731152                  0          2513.2   \n",
       "      2         40.710087                  0         11060.8   \n",
       "      3         40.706718                  0          1779.4   \n",
       "      4         40.782520                  0          1614.9   \n",
       "\n",
       "         number_of_streets   starting_street              end_street  \\\n",
       "train 0                5.0   Columbus Circle        East 65th Street   \n",
       "      1                6.0        2nd Avenue  Washington Square West   \n",
       "      2               16.0  West 56th Street          Beekman Street   \n",
       "      3                4.0  Greenwich Street                Broadway   \n",
       "      4                5.0          Broadway        West 81st Street   \n",
       "\n",
       "               datetime_obj  pickup_year  pickup_month  pickup_weekday  \\\n",
       "train 0 2016-03-14 17:24:55         2016             3               0   \n",
       "      1 2016-06-12 00:43:35         2016             6               6   \n",
       "      2 2016-01-19 11:35:24         2016             1               1   \n",
       "      3 2016-04-06 19:32:31         2016             4               2   \n",
       "      4 2016-03-26 13:30:55         2016             3               5   \n",
       "\n",
       "         pickup_day  pickup_hour  pickup_minute  \n",
       "train 0          14           17             24  \n",
       "      1          12            0             43  \n",
       "      2          19           11             35  \n",
       "      3           6           19             32  \n",
       "      4          26           13             30  "
      ]
     },
     "execution_count": 19,
     "metadata": {},
     "output_type": "execute_result"
    }
   ],
   "source": [
    "data_dict = {'Y':1, 'N':0}\n",
    "data_tf = data[col].map(data_dict)\n",
    "data[col].update(data_tf)\n",
    "data[:5]"
   ]
  },
  {
   "cell_type": "markdown",
   "metadata": {},
   "source": [
    "### start_street, end_street"
   ]
  },
  {
   "cell_type": "code",
   "execution_count": 44,
   "metadata": {
    "ExecuteTime": {
     "end_time": "2017-07-27T03:20:48.955138Z",
     "start_time": "2017-07-27T03:20:48.949353Z"
    }
   },
   "outputs": [
    {
     "data": {
      "text/plain": [
       "train  15          1st Avenue\n",
       "       16          8th Avenue\n",
       "       17          7th Avenue\n",
       "       18                 NaN\n",
       "       19    East 22nd Street\n",
       "Name: starting_street, dtype: object"
      ]
     },
     "execution_count": 44,
     "metadata": {},
     "output_type": "execute_result"
    }
   ],
   "source": [
    "data[:5]\n",
    "data['starting_street'][15:20]"
   ]
  },
  {
   "cell_type": "code",
   "execution_count": 43,
   "metadata": {
    "ExecuteTime": {
     "end_time": "2017-07-27T03:20:32.174874Z",
     "start_time": "2017-07-27T03:20:32.159949Z"
    }
   },
   "outputs": [
    {
     "ename": "TypeError",
     "evalue": "unorderable types: str() > float()",
     "output_type": "error",
     "traceback": [
      "\u001b[0;31m---------------------------------------------------------------------------\u001b[0m",
      "\u001b[0;31mTypeError\u001b[0m                                 Traceback (most recent call last)",
      "\u001b[0;32m<ipython-input-43-1014611b4975>\u001b[0m in \u001b[0;36m<module>\u001b[0;34m()\u001b[0m\n\u001b[1;32m      2\u001b[0m \u001b[0mcol_tf\u001b[0m \u001b[0;34m=\u001b[0m \u001b[0mcol\u001b[0m \u001b[0;34m+\u001b[0m \u001b[0;34m'_tf'\u001b[0m\u001b[0;34m\u001b[0m\u001b[0m\n\u001b[1;32m      3\u001b[0m \u001b[0mle\u001b[0m \u001b[0;34m=\u001b[0m \u001b[0mLabelEncoder\u001b[0m\u001b[0;34m(\u001b[0m\u001b[0;34m)\u001b[0m\u001b[0;34m\u001b[0m\u001b[0m\n\u001b[0;32m----> 4\u001b[0;31m \u001b[0mdata_tf\u001b[0m \u001b[0;34m=\u001b[0m \u001b[0mle\u001b[0m\u001b[0;34m.\u001b[0m\u001b[0mfit_transform\u001b[0m\u001b[0;34m(\u001b[0m\u001b[0mdata\u001b[0m\u001b[0;34m[\u001b[0m\u001b[0mcol\u001b[0m\u001b[0;34m]\u001b[0m\u001b[0;34m[\u001b[0m\u001b[0;36m18\u001b[0m\u001b[0;34m:\u001b[0m\u001b[0;36m20\u001b[0m\u001b[0;34m]\u001b[0m\u001b[0;34m)\u001b[0m\u001b[0;34m\u001b[0m\u001b[0m\n\u001b[0m\u001b[1;32m      5\u001b[0m \u001b[0mdata_tf\u001b[0m\u001b[0;34m[\u001b[0m\u001b[0;34m:\u001b[0m\u001b[0;36m5\u001b[0m\u001b[0;34m]\u001b[0m\u001b[0;34m\u001b[0m\u001b[0m\n",
      "\u001b[0;32m/usr/local/lib/python3.4/dist-packages/sklearn/preprocessing/label.py\u001b[0m in \u001b[0;36mfit_transform\u001b[0;34m(self, y)\u001b[0m\n\u001b[1;32m    110\u001b[0m         \"\"\"\n\u001b[1;32m    111\u001b[0m         \u001b[0my\u001b[0m \u001b[0;34m=\u001b[0m \u001b[0mcolumn_or_1d\u001b[0m\u001b[0;34m(\u001b[0m\u001b[0my\u001b[0m\u001b[0;34m,\u001b[0m \u001b[0mwarn\u001b[0m\u001b[0;34m=\u001b[0m\u001b[0;32mTrue\u001b[0m\u001b[0;34m)\u001b[0m\u001b[0;34m\u001b[0m\u001b[0m\n\u001b[0;32m--> 112\u001b[0;31m         \u001b[0mself\u001b[0m\u001b[0;34m.\u001b[0m\u001b[0mclasses_\u001b[0m\u001b[0;34m,\u001b[0m \u001b[0my\u001b[0m \u001b[0;34m=\u001b[0m \u001b[0mnp\u001b[0m\u001b[0;34m.\u001b[0m\u001b[0munique\u001b[0m\u001b[0;34m(\u001b[0m\u001b[0my\u001b[0m\u001b[0;34m,\u001b[0m \u001b[0mreturn_inverse\u001b[0m\u001b[0;34m=\u001b[0m\u001b[0;32mTrue\u001b[0m\u001b[0;34m)\u001b[0m\u001b[0;34m\u001b[0m\u001b[0m\n\u001b[0m\u001b[1;32m    113\u001b[0m         \u001b[0;32mreturn\u001b[0m \u001b[0my\u001b[0m\u001b[0;34m\u001b[0m\u001b[0m\n\u001b[1;32m    114\u001b[0m \u001b[0;34m\u001b[0m\u001b[0m\n",
      "\u001b[0;32m/usr/local/lib/python3.4/dist-packages/numpy/lib/arraysetops.py\u001b[0m in \u001b[0;36munique\u001b[0;34m(ar, return_index, return_inverse, return_counts, axis)\u001b[0m\n\u001b[1;32m    208\u001b[0m     \u001b[0mar\u001b[0m \u001b[0;34m=\u001b[0m \u001b[0mnp\u001b[0m\u001b[0;34m.\u001b[0m\u001b[0masanyarray\u001b[0m\u001b[0;34m(\u001b[0m\u001b[0mar\u001b[0m\u001b[0;34m)\u001b[0m\u001b[0;34m\u001b[0m\u001b[0m\n\u001b[1;32m    209\u001b[0m     \u001b[0;32mif\u001b[0m \u001b[0maxis\u001b[0m \u001b[0;32mis\u001b[0m \u001b[0;32mNone\u001b[0m\u001b[0;34m:\u001b[0m\u001b[0;34m\u001b[0m\u001b[0m\n\u001b[0;32m--> 210\u001b[0;31m         \u001b[0;32mreturn\u001b[0m \u001b[0m_unique1d\u001b[0m\u001b[0;34m(\u001b[0m\u001b[0mar\u001b[0m\u001b[0;34m,\u001b[0m \u001b[0mreturn_index\u001b[0m\u001b[0;34m,\u001b[0m \u001b[0mreturn_inverse\u001b[0m\u001b[0;34m,\u001b[0m \u001b[0mreturn_counts\u001b[0m\u001b[0;34m)\u001b[0m\u001b[0;34m\u001b[0m\u001b[0m\n\u001b[0m\u001b[1;32m    211\u001b[0m     \u001b[0;32mif\u001b[0m \u001b[0;32mnot\u001b[0m \u001b[0;34m(\u001b[0m\u001b[0;34m-\u001b[0m\u001b[0mar\u001b[0m\u001b[0;34m.\u001b[0m\u001b[0mndim\u001b[0m \u001b[0;34m<=\u001b[0m \u001b[0maxis\u001b[0m \u001b[0;34m<\u001b[0m \u001b[0mar\u001b[0m\u001b[0;34m.\u001b[0m\u001b[0mndim\u001b[0m\u001b[0;34m)\u001b[0m\u001b[0;34m:\u001b[0m\u001b[0;34m\u001b[0m\u001b[0m\n\u001b[1;32m    212\u001b[0m         \u001b[0;32mraise\u001b[0m \u001b[0mValueError\u001b[0m\u001b[0;34m(\u001b[0m\u001b[0;34m'Invalid axis kwarg specified for unique'\u001b[0m\u001b[0;34m)\u001b[0m\u001b[0;34m\u001b[0m\u001b[0m\n",
      "\u001b[0;32m/usr/local/lib/python3.4/dist-packages/numpy/lib/arraysetops.py\u001b[0m in \u001b[0;36m_unique1d\u001b[0;34m(ar, return_index, return_inverse, return_counts)\u001b[0m\n\u001b[1;32m    272\u001b[0m \u001b[0;34m\u001b[0m\u001b[0m\n\u001b[1;32m    273\u001b[0m     \u001b[0;32mif\u001b[0m \u001b[0moptional_indices\u001b[0m\u001b[0;34m:\u001b[0m\u001b[0;34m\u001b[0m\u001b[0m\n\u001b[0;32m--> 274\u001b[0;31m         \u001b[0mperm\u001b[0m \u001b[0;34m=\u001b[0m \u001b[0mar\u001b[0m\u001b[0;34m.\u001b[0m\u001b[0margsort\u001b[0m\u001b[0;34m(\u001b[0m\u001b[0mkind\u001b[0m\u001b[0;34m=\u001b[0m\u001b[0;34m'mergesort'\u001b[0m \u001b[0;32mif\u001b[0m \u001b[0mreturn_index\u001b[0m \u001b[0;32melse\u001b[0m \u001b[0;34m'quicksort'\u001b[0m\u001b[0;34m)\u001b[0m\u001b[0;34m\u001b[0m\u001b[0m\n\u001b[0m\u001b[1;32m    275\u001b[0m         \u001b[0maux\u001b[0m \u001b[0;34m=\u001b[0m \u001b[0mar\u001b[0m\u001b[0;34m[\u001b[0m\u001b[0mperm\u001b[0m\u001b[0;34m]\u001b[0m\u001b[0;34m\u001b[0m\u001b[0m\n\u001b[1;32m    276\u001b[0m     \u001b[0;32melse\u001b[0m\u001b[0;34m:\u001b[0m\u001b[0;34m\u001b[0m\u001b[0m\n",
      "\u001b[0;31mTypeError\u001b[0m: unorderable types: str() > float()"
     ]
    }
   ],
   "source": [
    "col = 'starting_street'\n",
    "col_tf = col + '_tf' \n",
    "le = LabelEncoder()\n",
    "data_tf = le.fit_transform(data[col][18:20])\n",
    "data_tf[:5]"
   ]
  },
  {
   "cell_type": "markdown",
   "metadata": {},
   "source": [
    "### Drop unused cols"
   ]
  },
  {
   "cell_type": "code",
   "execution_count": 25,
   "metadata": {
    "ExecuteTime": {
     "end_time": "2017-07-27T02:15:40.633083Z",
     "start_time": "2017-07-27T02:15:40.152632Z"
    },
    "collapsed": true
   },
   "outputs": [],
   "source": [
    "# Drop pickup_datetime\n",
    "data.drop('pickup_datetime', axis=1, inplace=True)\n",
    "data.drop('datetime_obj', axis=1, inplace=True)"
   ]
  },
  {
   "cell_type": "code",
   "execution_count": 26,
   "metadata": {
    "ExecuteTime": {
     "end_time": "2017-07-27T02:15:42.610811Z",
     "start_time": "2017-07-27T02:15:42.608601Z"
    },
    "collapsed": true
   },
   "outputs": [],
   "source": [
    "combine_data_tf = data"
   ]
  },
  {
   "cell_type": "markdown",
   "metadata": {},
   "source": [
    "## Feature scaling (not use)"
   ]
  },
  {
   "cell_type": "raw",
   "metadata": {
    "ExecuteTime": {
     "end_time": "2017-07-22T15:04:57.780151Z",
     "start_time": "2017-07-22T15:04:55.834361Z"
    }
   },
   "source": [
    "data = combine_data_tf.drop('id', axis=1).astype(float)\n",
    "std_scale = data.apply(StandardScaler().fit_transform)\n",
    "combine_data_tf.update(std_scale)\n",
    "combine_data_tf[:5]"
   ]
  },
  {
   "cell_type": "code",
   "execution_count": 55,
   "metadata": {
    "ExecuteTime": {
     "end_time": "2017-07-26T08:51:03.368609Z",
     "start_time": "2017-07-26T08:51:03.315224Z"
    }
   },
   "outputs": [
    {
     "data": {
      "text/plain": [
       "2016    2083778\n",
       "Name: pickup_year, dtype: int64"
      ]
     },
     "execution_count": 55,
     "metadata": {},
     "output_type": "execute_result"
    }
   ],
   "source": [
    "combine_data_tf['pickup_year'].value_counts()"
   ]
  },
  {
   "cell_type": "code",
   "execution_count": 56,
   "metadata": {
    "ExecuteTime": {
     "end_time": "2017-07-26T08:51:05.817003Z",
     "start_time": "2017-07-26T08:51:05.638481Z"
    },
    "collapsed": true
   },
   "outputs": [],
   "source": [
    "# Drop pickup year\n",
    "# combine_data_tf.drop('pickup_year', axis=1, inplace=True)"
   ]
  },
  {
   "cell_type": "markdown",
   "metadata": {},
   "source": [
    "## Feature engineering"
   ]
  },
  {
   "cell_type": "markdown",
   "metadata": {},
   "source": [
    "### Distance between pickup and dropoff"
   ]
  },
  {
   "cell_type": "raw",
   "metadata": {
    "ExecuteTime": {
     "end_time": "2017-07-23T11:26:39.686748Z",
     "start_time": "2017-07-23T11:22:26.446325Z"
    },
    "collapsed": true
   },
   "source": [
    "# credit: https://www.kaggle.com/ankasor/driving-distance-using-open-street-maps-data/notebook\n",
    "# Settings for Streetnetwork-Download\n",
    "STREETGRAPH_FILENAME = 'streetnetwork.graphml'\n",
    "FORCE_CREATE = False\n",
    "# This Checks if the Streetnetwork File exists (or creation is overwritten\n",
    "# using FORCE_CREATE)\n",
    "if (not os.path.isfile(\".//data//\"+STREETGRAPH_FILENAME) )or FORCE_CREATE:\n",
    "    #There are many different ways to create the Network Graph. See the osmnx documentation for details\n",
    "    area_graph = ox.graph_from_place('New York, USA', network_type='drive_service')\n",
    "    ox.save_graphml(area_graph, filename=STREETGRAPH_FILENAME)\n",
    "else:\n",
    "    area_graph = ox.load_graphml(STREETGRAPH_FILENAME)"
   ]
  },
  {
   "cell_type": "code",
   "execution_count": 65,
   "metadata": {
    "ExecuteTime": {
     "end_time": "2017-07-23T11:56:49.181767Z",
     "start_time": "2017-07-23T11:56:49.175762Z"
    },
    "collapsed": true
   },
   "outputs": [],
   "source": [
    "geod = Geodesic.WGS84  # define the WGS84 ellipsoid\n",
    "\n",
    "\n",
    "def point_distance(startpoint, endpoint):\n",
    "    distance = geod.Inverse(\n",
    "        startpoint[0], startpoint[1], endpoint[0], endpoint[1])\n",
    "    return distance['s12']"
   ]
  },
  {
   "cell_type": "code",
   "execution_count": 66,
   "metadata": {
    "ExecuteTime": {
     "end_time": "2017-07-23T11:56:50.998631Z",
     "start_time": "2017-07-23T11:56:50.981621Z"
    },
    "collapsed": true
   },
   "outputs": [],
   "source": [
    "def driving_distance(area_graph, startpoint, endpoint):\n",
    "    \"\"\"\n",
    "    Calculates the driving distance along an osmnx street network between two coordinate-points.\n",
    "    The Driving distance is calculated from the closest nodes to the coordinate points.\n",
    "    This can lead to problems if the coordinates fall outside the area encompassed by the network.\n",
    "\n",
    "    Arguments:\n",
    "    area_graph -- An osmnx street network\n",
    "    startpoint -- The Starting point as coordinate Tuple\n",
    "    endpoint -- The Ending point as coordinate Tuple\n",
    "    \"\"\"\n",
    "\n",
    "    # Find nodes closest to the specified Coordinates\n",
    "    node_start = ox.utils.get_nearest_node(area_graph, startpoint)\n",
    "    node_stop = ox.utils.get_nearest_node(area_graph, endpoint)\n",
    "    #print(\"node_start:\", node_start, \" node_stop:\", node_stop)\n",
    "    # Calculate the shortest network distance between the nodes via the edges\n",
    "    # \"length\" attribute\n",
    "    try:\n",
    "        distance = nx.shortest_path_length(\n",
    "            area_graph, node_start, node_stop, weight=\"length\")\n",
    "    except:\n",
    "        print(\"Can not calculate path from \", startpoint,\n",
    "              \" to \", endpoint, \". Using backup function\")\n",
    "        distance = point_distance(startpoint, endpoint)\n",
    "\n",
    "    return distance"
   ]
  },
  {
   "cell_type": "code",
   "execution_count": 27,
   "metadata": {
    "ExecuteTime": {
     "end_time": "2017-07-27T02:15:52.444796Z",
     "start_time": "2017-07-27T02:15:52.433078Z"
    },
    "collapsed": true
   },
   "outputs": [],
   "source": [
    "# credit to: https://stackoverflow.com/questions/15736995/how-can-i-quickly-estimate-the-distance-between-two-latitude-longitude-points\n",
    "def haversine(lon1, lat1, lon2, lat2):\n",
    "    \"\"\"\n",
    "    Calculate the great circle distance between two points \n",
    "    on the earth (specified in decimal degrees)\n",
    "    \"\"\"\n",
    "    # convert decimal degrees to radians \n",
    "    lon1, lat1, lon2, lat2 = map(radians, [lon1, lat1, lon2, lat2])\n",
    "    # haversine formula \n",
    "    dlon = lon2 - lon1 \n",
    "    dlat = lat2 - lat1 \n",
    "    a = sin(dlat/2)**2 + cos(lat1) * cos(lat2) * sin(dlon/2)**2\n",
    "    c = 2 * asin(sqrt(a)) \n",
    "    km = 6367 * c\n",
    "    return km"
   ]
  },
  {
   "cell_type": "raw",
   "metadata": {
    "ExecuteTime": {
     "end_time": "2017-07-23T11:56:54.693946Z",
     "start_time": "2017-07-23T11:56:54.104555Z"
    }
   },
   "source": [
    "# Usage example:\n",
    "row = combine_data_tf.ix[115]\n",
    "# Coordinates of the first drive in the train dataset\n",
    "startpoint = (row['pickup_latitude'], row['pickup_longitude'])\n",
    "endpoint = (row['dropoff_latitude'], row['dropoff_longitude'])\n",
    "#startpoint = (40.797779, -73.969276)\n",
    "#endpoint = (40.760559, -73.922470)\n",
    "#startpoint = (40.767937, -73.982155)\n",
    "#endpoint = (40.765602, -73.964630)\n",
    "print(driving_distance(area_graph, startpoint, endpoint))"
   ]
  },
  {
   "cell_type": "code",
   "execution_count": 28,
   "metadata": {
    "ExecuteTime": {
     "end_time": "2017-07-27T02:18:55.333089Z",
     "start_time": "2017-07-27T02:15:56.056371Z"
    },
    "scrolled": true
   },
   "outputs": [
    {
     "data": {
      "text/html": [
       "<div>\n",
       "<style>\n",
       "    .dataframe thead tr:only-child th {\n",
       "        text-align: right;\n",
       "    }\n",
       "\n",
       "    .dataframe thead th {\n",
       "        text-align: left;\n",
       "    }\n",
       "\n",
       "    .dataframe tbody tr th {\n",
       "        vertical-align: top;\n",
       "    }\n",
       "</style>\n",
       "<table border=\"1\" class=\"dataframe\">\n",
       "  <thead>\n",
       "    <tr style=\"text-align: right;\">\n",
       "      <th></th>\n",
       "      <th></th>\n",
       "      <th>id</th>\n",
       "      <th>vendor_id</th>\n",
       "      <th>passenger_count</th>\n",
       "      <th>pickup_longitude</th>\n",
       "      <th>pickup_latitude</th>\n",
       "      <th>dropoff_longitude</th>\n",
       "      <th>dropoff_latitude</th>\n",
       "      <th>store_and_fwd_flag</th>\n",
       "      <th>total_distance</th>\n",
       "      <th>pickup_year</th>\n",
       "      <th>pickup_month</th>\n",
       "      <th>pickup_weekday</th>\n",
       "      <th>pickup_day</th>\n",
       "      <th>pickup_hour</th>\n",
       "      <th>pickup_minute</th>\n",
       "      <th>haversine_distance</th>\n",
       "    </tr>\n",
       "  </thead>\n",
       "  <tbody>\n",
       "    <tr>\n",
       "      <th rowspan=\"5\" valign=\"top\">train</th>\n",
       "      <th>0</th>\n",
       "      <td>id2875421</td>\n",
       "      <td>2</td>\n",
       "      <td>1</td>\n",
       "      <td>-73.982155</td>\n",
       "      <td>40.767937</td>\n",
       "      <td>-73.964630</td>\n",
       "      <td>40.765602</td>\n",
       "      <td>0</td>\n",
       "      <td>2009.1</td>\n",
       "      <td>2016</td>\n",
       "      <td>3</td>\n",
       "      <td>0</td>\n",
       "      <td>14</td>\n",
       "      <td>17</td>\n",
       "      <td>24</td>\n",
       "      <td>1.948753</td>\n",
       "    </tr>\n",
       "    <tr>\n",
       "      <th>1</th>\n",
       "      <td>id2377394</td>\n",
       "      <td>1</td>\n",
       "      <td>1</td>\n",
       "      <td>-73.980415</td>\n",
       "      <td>40.738564</td>\n",
       "      <td>-73.999481</td>\n",
       "      <td>40.731152</td>\n",
       "      <td>0</td>\n",
       "      <td>2513.2</td>\n",
       "      <td>2016</td>\n",
       "      <td>6</td>\n",
       "      <td>6</td>\n",
       "      <td>12</td>\n",
       "      <td>0</td>\n",
       "      <td>43</td>\n",
       "      <td>2.130839</td>\n",
       "    </tr>\n",
       "    <tr>\n",
       "      <th>2</th>\n",
       "      <td>id3858529</td>\n",
       "      <td>2</td>\n",
       "      <td>1</td>\n",
       "      <td>-73.979027</td>\n",
       "      <td>40.763939</td>\n",
       "      <td>-74.005333</td>\n",
       "      <td>40.710087</td>\n",
       "      <td>0</td>\n",
       "      <td>11060.8</td>\n",
       "      <td>2016</td>\n",
       "      <td>1</td>\n",
       "      <td>1</td>\n",
       "      <td>19</td>\n",
       "      <td>11</td>\n",
       "      <td>35</td>\n",
       "      <td>3.356930</td>\n",
       "    </tr>\n",
       "    <tr>\n",
       "      <th>3</th>\n",
       "      <td>id3504673</td>\n",
       "      <td>2</td>\n",
       "      <td>1</td>\n",
       "      <td>-74.010040</td>\n",
       "      <td>40.719971</td>\n",
       "      <td>-74.012268</td>\n",
       "      <td>40.706718</td>\n",
       "      <td>0</td>\n",
       "      <td>1779.4</td>\n",
       "      <td>2016</td>\n",
       "      <td>4</td>\n",
       "      <td>2</td>\n",
       "      <td>6</td>\n",
       "      <td>19</td>\n",
       "      <td>32</td>\n",
       "      <td>0.475220</td>\n",
       "    </tr>\n",
       "    <tr>\n",
       "      <th>4</th>\n",
       "      <td>id2181028</td>\n",
       "      <td>2</td>\n",
       "      <td>1</td>\n",
       "      <td>-73.973053</td>\n",
       "      <td>40.793209</td>\n",
       "      <td>-73.972923</td>\n",
       "      <td>40.782520</td>\n",
       "      <td>0</td>\n",
       "      <td>1614.9</td>\n",
       "      <td>2016</td>\n",
       "      <td>3</td>\n",
       "      <td>5</td>\n",
       "      <td>26</td>\n",
       "      <td>13</td>\n",
       "      <td>30</td>\n",
       "      <td>0.328255</td>\n",
       "    </tr>\n",
       "  </tbody>\n",
       "</table>\n",
       "</div>"
      ],
      "text/plain": [
       "                id  vendor_id  passenger_count  pickup_longitude  \\\n",
       "train 0  id2875421          2                1        -73.982155   \n",
       "      1  id2377394          1                1        -73.980415   \n",
       "      2  id3858529          2                1        -73.979027   \n",
       "      3  id3504673          2                1        -74.010040   \n",
       "      4  id2181028          2                1        -73.973053   \n",
       "\n",
       "         pickup_latitude  dropoff_longitude  dropoff_latitude  \\\n",
       "train 0        40.767937         -73.964630         40.765602   \n",
       "      1        40.738564         -73.999481         40.731152   \n",
       "      2        40.763939         -74.005333         40.710087   \n",
       "      3        40.719971         -74.012268         40.706718   \n",
       "      4        40.793209         -73.972923         40.782520   \n",
       "\n",
       "        store_and_fwd_flag  total_distance  pickup_year  pickup_month  \\\n",
       "train 0                  0          2009.1         2016             3   \n",
       "      1                  0          2513.2         2016             6   \n",
       "      2                  0         11060.8         2016             1   \n",
       "      3                  0          1779.4         2016             4   \n",
       "      4                  0          1614.9         2016             3   \n",
       "\n",
       "         pickup_weekday  pickup_day  pickup_hour  pickup_minute  \\\n",
       "train 0               0          14           17             24   \n",
       "      1               6          12            0             43   \n",
       "      2               1          19           11             35   \n",
       "      3               2           6           19             32   \n",
       "      4               5          26           13             30   \n",
       "\n",
       "         haversine_distance  \n",
       "train 0            1.948753  \n",
       "      1            2.130839  \n",
       "      2            3.356930  \n",
       "      3            0.475220  \n",
       "      4            0.328255  "
      ]
     },
     "execution_count": 28,
     "metadata": {},
     "output_type": "execute_result"
    }
   ],
   "source": [
    "data = combine_data_tf\n",
    "data['haversine_distance'] = combine_data_tf.apply(lambda row: haversine(row['pickup_latitude'], row['pickup_longitude'], row['dropoff_latitude'], row['dropoff_longitude']), axis=1)\n",
    "combine_data_tf[:5]"
   ]
  },
  {
   "cell_type": "markdown",
   "metadata": {},
   "source": [
    "#### Correct total_distance=0"
   ]
  },
  {
   "cell_type": "code",
   "execution_count": 29,
   "metadata": {
    "ExecuteTime": {
     "end_time": "2017-07-27T02:20:17.829212Z",
     "start_time": "2017-07-27T02:20:17.770986Z"
    }
   },
   "outputs": [
    {
     "name": "stdout",
     "output_type": "stream",
     "text": [
      "8544\n"
     ]
    },
    {
     "data": {
      "text/html": [
       "<div>\n",
       "<style>\n",
       "    .dataframe thead tr:only-child th {\n",
       "        text-align: right;\n",
       "    }\n",
       "\n",
       "    .dataframe thead th {\n",
       "        text-align: left;\n",
       "    }\n",
       "\n",
       "    .dataframe tbody tr th {\n",
       "        vertical-align: top;\n",
       "    }\n",
       "</style>\n",
       "<table border=\"1\" class=\"dataframe\">\n",
       "  <thead>\n",
       "    <tr style=\"text-align: right;\">\n",
       "      <th></th>\n",
       "      <th></th>\n",
       "      <th>id</th>\n",
       "      <th>vendor_id</th>\n",
       "      <th>passenger_count</th>\n",
       "      <th>pickup_longitude</th>\n",
       "      <th>pickup_latitude</th>\n",
       "      <th>dropoff_longitude</th>\n",
       "      <th>dropoff_latitude</th>\n",
       "      <th>store_and_fwd_flag</th>\n",
       "      <th>total_distance</th>\n",
       "      <th>pickup_year</th>\n",
       "      <th>pickup_month</th>\n",
       "      <th>pickup_weekday</th>\n",
       "      <th>pickup_day</th>\n",
       "      <th>pickup_hour</th>\n",
       "      <th>pickup_minute</th>\n",
       "      <th>haversine_distance</th>\n",
       "    </tr>\n",
       "  </thead>\n",
       "  <tbody>\n",
       "    <tr>\n",
       "      <th rowspan=\"5\" valign=\"top\">train</th>\n",
       "      <th>246</th>\n",
       "      <td>id3487442</td>\n",
       "      <td>2</td>\n",
       "      <td>1</td>\n",
       "      <td>-73.981819</td>\n",
       "      <td>40.768963</td>\n",
       "      <td>-73.981819</td>\n",
       "      <td>40.768963</td>\n",
       "      <td>0</td>\n",
       "      <td>0.0</td>\n",
       "      <td>2016</td>\n",
       "      <td>2</td>\n",
       "      <td>0</td>\n",
       "      <td>29</td>\n",
       "      <td>18</td>\n",
       "      <td>39</td>\n",
       "      <td>0.0</td>\n",
       "    </tr>\n",
       "    <tr>\n",
       "      <th>291</th>\n",
       "      <td>id0924324</td>\n",
       "      <td>2</td>\n",
       "      <td>2</td>\n",
       "      <td>-73.959068</td>\n",
       "      <td>40.775661</td>\n",
       "      <td>-73.959068</td>\n",
       "      <td>40.775661</td>\n",
       "      <td>0</td>\n",
       "      <td>0.0</td>\n",
       "      <td>2016</td>\n",
       "      <td>5</td>\n",
       "      <td>1</td>\n",
       "      <td>10</td>\n",
       "      <td>18</td>\n",
       "      <td>7</td>\n",
       "      <td>0.0</td>\n",
       "    </tr>\n",
       "    <tr>\n",
       "      <th>407</th>\n",
       "      <td>id1145809</td>\n",
       "      <td>2</td>\n",
       "      <td>6</td>\n",
       "      <td>-73.808487</td>\n",
       "      <td>40.687336</td>\n",
       "      <td>-73.808487</td>\n",
       "      <td>40.687336</td>\n",
       "      <td>0</td>\n",
       "      <td>0.0</td>\n",
       "      <td>2016</td>\n",
       "      <td>5</td>\n",
       "      <td>0</td>\n",
       "      <td>16</td>\n",
       "      <td>23</td>\n",
       "      <td>15</td>\n",
       "      <td>0.0</td>\n",
       "    </tr>\n",
       "    <tr>\n",
       "      <th>702</th>\n",
       "      <td>id3499387</td>\n",
       "      <td>1</td>\n",
       "      <td>1</td>\n",
       "      <td>-73.786720</td>\n",
       "      <td>40.647041</td>\n",
       "      <td>-73.786720</td>\n",
       "      <td>40.647041</td>\n",
       "      <td>0</td>\n",
       "      <td>0.0</td>\n",
       "      <td>2016</td>\n",
       "      <td>1</td>\n",
       "      <td>0</td>\n",
       "      <td>25</td>\n",
       "      <td>19</td>\n",
       "      <td>45</td>\n",
       "      <td>0.0</td>\n",
       "    </tr>\n",
       "    <tr>\n",
       "      <th>1620</th>\n",
       "      <td>id0753277</td>\n",
       "      <td>1</td>\n",
       "      <td>1</td>\n",
       "      <td>-74.209854</td>\n",
       "      <td>40.816853</td>\n",
       "      <td>-74.209854</td>\n",
       "      <td>40.816853</td>\n",
       "      <td>0</td>\n",
       "      <td>0.0</td>\n",
       "      <td>2016</td>\n",
       "      <td>1</td>\n",
       "      <td>2</td>\n",
       "      <td>27</td>\n",
       "      <td>22</td>\n",
       "      <td>29</td>\n",
       "      <td>0.0</td>\n",
       "    </tr>\n",
       "  </tbody>\n",
       "</table>\n",
       "</div>"
      ],
      "text/plain": [
       "                   id  vendor_id  passenger_count  pickup_longitude  \\\n",
       "train 246   id3487442          2                1        -73.981819   \n",
       "      291   id0924324          2                2        -73.959068   \n",
       "      407   id1145809          2                6        -73.808487   \n",
       "      702   id3499387          1                1        -73.786720   \n",
       "      1620  id0753277          1                1        -74.209854   \n",
       "\n",
       "            pickup_latitude  dropoff_longitude  dropoff_latitude  \\\n",
       "train 246         40.768963         -73.981819         40.768963   \n",
       "      291         40.775661         -73.959068         40.775661   \n",
       "      407         40.687336         -73.808487         40.687336   \n",
       "      702         40.647041         -73.786720         40.647041   \n",
       "      1620        40.816853         -74.209854         40.816853   \n",
       "\n",
       "           store_and_fwd_flag  total_distance  pickup_year  pickup_month  \\\n",
       "train 246                   0             0.0         2016             2   \n",
       "      291                   0             0.0         2016             5   \n",
       "      407                   0             0.0         2016             5   \n",
       "      702                   0             0.0         2016             1   \n",
       "      1620                  0             0.0         2016             1   \n",
       "\n",
       "            pickup_weekday  pickup_day  pickup_hour  pickup_minute  \\\n",
       "train 246                0          29           18             39   \n",
       "      291                1          10           18              7   \n",
       "      407                0          16           23             15   \n",
       "      702                0          25           19             45   \n",
       "      1620               2          27           22             29   \n",
       "\n",
       "            haversine_distance  \n",
       "train 246                  0.0  \n",
       "      291                  0.0  \n",
       "      407                  0.0  \n",
       "      702                  0.0  \n",
       "      1620                 0.0  "
      ]
     },
     "execution_count": 29,
     "metadata": {},
     "output_type": "execute_result"
    }
   ],
   "source": [
    "data_zero = data[data['total_distance']==0]\n",
    "print(len(data_zero))\n",
    "data_zero[:5]"
   ]
  },
  {
   "cell_type": "markdown",
   "metadata": {},
   "source": [
    "### Average speed"
   ]
  },
  {
   "cell_type": "code",
   "execution_count": 30,
   "metadata": {
    "ExecuteTime": {
     "end_time": "2017-07-27T02:20:43.628334Z",
     "start_time": "2017-07-27T02:20:43.452266Z"
    },
    "collapsed": true
   },
   "outputs": [],
   "source": [
    "data = combine_data_tf.loc['train']\n",
    "data[label] = target\n",
    "data = data[['pickup_hour', 'total_distance', label]]"
   ]
  },
  {
   "cell_type": "markdown",
   "metadata": {},
   "source": [
    "#### remove total_distance=0"
   ]
  },
  {
   "cell_type": "code",
   "execution_count": 31,
   "metadata": {
    "ExecuteTime": {
     "end_time": "2017-07-27T02:20:49.361111Z",
     "start_time": "2017-07-27T02:20:49.332810Z"
    },
    "collapsed": true
   },
   "outputs": [],
   "source": [
    "data = data[data['total_distance'] > 0]"
   ]
  },
  {
   "cell_type": "markdown",
   "metadata": {},
   "source": [
    "#### Calculate speed from total_distance and trip_duration speed_mean"
   ]
  },
  {
   "cell_type": "code",
   "execution_count": 32,
   "metadata": {
    "ExecuteTime": {
     "end_time": "2017-07-27T02:21:37.522580Z",
     "start_time": "2017-07-27T02:21:11.925811Z"
    }
   },
   "outputs": [
    {
     "data": {
      "text/html": [
       "<div>\n",
       "<style>\n",
       "    .dataframe thead tr:only-child th {\n",
       "        text-align: right;\n",
       "    }\n",
       "\n",
       "    .dataframe thead th {\n",
       "        text-align: left;\n",
       "    }\n",
       "\n",
       "    .dataframe tbody tr th {\n",
       "        vertical-align: top;\n",
       "    }\n",
       "</style>\n",
       "<table border=\"1\" class=\"dataframe\">\n",
       "  <thead>\n",
       "    <tr style=\"text-align: right;\">\n",
       "      <th></th>\n",
       "      <th>pickup_hour</th>\n",
       "      <th>total_distance</th>\n",
       "      <th>trip_duration</th>\n",
       "      <th>speed</th>\n",
       "    </tr>\n",
       "  </thead>\n",
       "  <tbody>\n",
       "    <tr>\n",
       "      <th>0</th>\n",
       "      <td>17</td>\n",
       "      <td>2009.1</td>\n",
       "      <td>455</td>\n",
       "      <td>4.415604</td>\n",
       "    </tr>\n",
       "    <tr>\n",
       "      <th>1</th>\n",
       "      <td>0</td>\n",
       "      <td>2513.2</td>\n",
       "      <td>663</td>\n",
       "      <td>3.790649</td>\n",
       "    </tr>\n",
       "    <tr>\n",
       "      <th>2</th>\n",
       "      <td>11</td>\n",
       "      <td>11060.8</td>\n",
       "      <td>2124</td>\n",
       "      <td>5.207533</td>\n",
       "    </tr>\n",
       "    <tr>\n",
       "      <th>3</th>\n",
       "      <td>19</td>\n",
       "      <td>1779.4</td>\n",
       "      <td>429</td>\n",
       "      <td>4.147786</td>\n",
       "    </tr>\n",
       "    <tr>\n",
       "      <th>4</th>\n",
       "      <td>13</td>\n",
       "      <td>1614.9</td>\n",
       "      <td>435</td>\n",
       "      <td>3.712414</td>\n",
       "    </tr>\n",
       "  </tbody>\n",
       "</table>\n",
       "</div>"
      ],
      "text/plain": [
       "   pickup_hour  total_distance  trip_duration     speed\n",
       "0           17          2009.1            455  4.415604\n",
       "1            0          2513.2            663  3.790649\n",
       "2           11         11060.8           2124  5.207533\n",
       "3           19          1779.4            429  4.147786\n",
       "4           13          1614.9            435  3.712414"
      ]
     },
     "execution_count": 32,
     "metadata": {},
     "output_type": "execute_result"
    }
   ],
   "source": [
    "data['speed'] = data.apply(lambda row: row['total_distance']/ row[label], axis=1)\n",
    "data[:5]"
   ]
  },
  {
   "cell_type": "code",
   "execution_count": 33,
   "metadata": {
    "ExecuteTime": {
     "end_time": "2017-07-27T02:24:01.185820Z",
     "start_time": "2017-07-27T02:24:01.034032Z"
    }
   },
   "outputs": [
    {
     "data": {
      "text/plain": [
       "count    1.452634e+06\n",
       "mean     5.433979e+00\n",
       "std      7.021541e+00\n",
       "min      2.316906e-06\n",
       "25%      3.463793e+00\n",
       "50%      4.763660e+00\n",
       "75%      6.539350e+00\n",
       "max      3.452329e+03\n",
       "Name: speed, dtype: float64"
      ]
     },
     "execution_count": 33,
     "metadata": {},
     "output_type": "execute_result"
    }
   ],
   "source": [
    "data['speed'].describe()"
   ]
  },
  {
   "cell_type": "code",
   "execution_count": 34,
   "metadata": {
    "ExecuteTime": {
     "end_time": "2017-07-27T02:24:36.716648Z",
     "start_time": "2017-07-27T02:24:36.635906Z"
    }
   },
   "outputs": [
    {
     "data": {
      "text/html": [
       "<div>\n",
       "<style>\n",
       "    .dataframe thead tr:only-child th {\n",
       "        text-align: right;\n",
       "    }\n",
       "\n",
       "    .dataframe thead th {\n",
       "        text-align: left;\n",
       "    }\n",
       "\n",
       "    .dataframe tbody tr th {\n",
       "        vertical-align: top;\n",
       "    }\n",
       "</style>\n",
       "<table border=\"1\" class=\"dataframe\">\n",
       "  <thead>\n",
       "    <tr style=\"text-align: right;\">\n",
       "      <th></th>\n",
       "      <th>index</th>\n",
       "      <th>pickup_hour</th>\n",
       "      <th>total_distance</th>\n",
       "      <th>trip_duration</th>\n",
       "      <th>speed</th>\n",
       "    </tr>\n",
       "  </thead>\n",
       "  <tbody>\n",
       "    <tr>\n",
       "      <th>0</th>\n",
       "      <td>0</td>\n",
       "      <td>0</td>\n",
       "      <td>5386.545842</td>\n",
       "      <td>938.814608</td>\n",
       "      <td>6.645034</td>\n",
       "    </tr>\n",
       "    <tr>\n",
       "      <th>1</th>\n",
       "      <td>1</td>\n",
       "      <td>1</td>\n",
       "      <td>5272.017424</td>\n",
       "      <td>902.680154</td>\n",
       "      <td>6.876528</td>\n",
       "    </tr>\n",
       "    <tr>\n",
       "      <th>2</th>\n",
       "      <td>2</td>\n",
       "      <td>2</td>\n",
       "      <td>5161.003588</td>\n",
       "      <td>891.976035</td>\n",
       "      <td>7.029046</td>\n",
       "    </tr>\n",
       "    <tr>\n",
       "      <th>3</th>\n",
       "      <td>3</td>\n",
       "      <td>3</td>\n",
       "      <td>5474.581209</td>\n",
       "      <td>893.107445</td>\n",
       "      <td>7.482348</td>\n",
       "    </tr>\n",
       "    <tr>\n",
       "      <th>4</th>\n",
       "      <td>4</td>\n",
       "      <td>4</td>\n",
       "      <td>6534.848936</td>\n",
       "      <td>926.091616</td>\n",
       "      <td>8.387104</td>\n",
       "    </tr>\n",
       "    <tr>\n",
       "      <th>5</th>\n",
       "      <td>5</td>\n",
       "      <td>5</td>\n",
       "      <td>7267.635396</td>\n",
       "      <td>825.492934</td>\n",
       "      <td>9.302915</td>\n",
       "    </tr>\n",
       "    <tr>\n",
       "      <th>6</th>\n",
       "      <td>6</td>\n",
       "      <td>6</td>\n",
       "      <td>5572.443383</td>\n",
       "      <td>799.479663</td>\n",
       "      <td>7.770598</td>\n",
       "    </tr>\n",
       "    <tr>\n",
       "      <th>7</th>\n",
       "      <td>7</td>\n",
       "      <td>7</td>\n",
       "      <td>4586.204709</td>\n",
       "      <td>833.596429</td>\n",
       "      <td>5.940205</td>\n",
       "    </tr>\n",
       "    <tr>\n",
       "      <th>8</th>\n",
       "      <td>8</td>\n",
       "      <td>8</td>\n",
       "      <td>4089.470144</td>\n",
       "      <td>926.371765</td>\n",
       "      <td>4.873533</td>\n",
       "    </tr>\n",
       "    <tr>\n",
       "      <th>9</th>\n",
       "      <td>9</td>\n",
       "      <td>9</td>\n",
       "      <td>3979.757729</td>\n",
       "      <td>934.924791</td>\n",
       "      <td>4.787456</td>\n",
       "    </tr>\n",
       "    <tr>\n",
       "      <th>10</th>\n",
       "      <td>10</td>\n",
       "      <td>10</td>\n",
       "      <td>4077.976842</td>\n",
       "      <td>935.040061</td>\n",
       "      <td>4.824895</td>\n",
       "    </tr>\n",
       "    <tr>\n",
       "      <th>11</th>\n",
       "      <td>11</td>\n",
       "      <td>11</td>\n",
       "      <td>4183.489984</td>\n",
       "      <td>968.416448</td>\n",
       "      <td>4.715914</td>\n",
       "    </tr>\n",
       "    <tr>\n",
       "      <th>12</th>\n",
       "      <td>12</td>\n",
       "      <td>12</td>\n",
       "      <td>4152.749171</td>\n",
       "      <td>995.765211</td>\n",
       "      <td>4.628367</td>\n",
       "    </tr>\n",
       "    <tr>\n",
       "      <th>13</th>\n",
       "      <td>13</td>\n",
       "      <td>13</td>\n",
       "      <td>4402.851105</td>\n",
       "      <td>1033.394676</td>\n",
       "      <td>4.735882</td>\n",
       "    </tr>\n",
       "    <tr>\n",
       "      <th>14</th>\n",
       "      <td>14</td>\n",
       "      <td>14</td>\n",
       "      <td>4605.546715</td>\n",
       "      <td>1077.843992</td>\n",
       "      <td>4.637352</td>\n",
       "    </tr>\n",
       "    <tr>\n",
       "      <th>15</th>\n",
       "      <td>15</td>\n",
       "      <td>15</td>\n",
       "      <td>4616.958740</td>\n",
       "      <td>1120.310439</td>\n",
       "      <td>4.579274</td>\n",
       "    </tr>\n",
       "    <tr>\n",
       "      <th>16</th>\n",
       "      <td>16</td>\n",
       "      <td>16</td>\n",
       "      <td>4723.443525</td>\n",
       "      <td>1082.325686</td>\n",
       "      <td>4.769935</td>\n",
       "    </tr>\n",
       "    <tr>\n",
       "      <th>17</th>\n",
       "      <td>17</td>\n",
       "      <td>17</td>\n",
       "      <td>4478.688419</td>\n",
       "      <td>1032.667945</td>\n",
       "      <td>4.699979</td>\n",
       "    </tr>\n",
       "    <tr>\n",
       "      <th>18</th>\n",
       "      <td>18</td>\n",
       "      <td>18</td>\n",
       "      <td>4177.779283</td>\n",
       "      <td>983.311241</td>\n",
       "      <td>4.697502</td>\n",
       "    </tr>\n",
       "    <tr>\n",
       "      <th>19</th>\n",
       "      <td>19</td>\n",
       "      <td>19</td>\n",
       "      <td>4209.965256</td>\n",
       "      <td>895.923150</td>\n",
       "      <td>5.090087</td>\n",
       "    </tr>\n",
       "    <tr>\n",
       "      <th>20</th>\n",
       "      <td>20</td>\n",
       "      <td>20</td>\n",
       "      <td>4648.841520</td>\n",
       "      <td>880.956031</td>\n",
       "      <td>5.726424</td>\n",
       "    </tr>\n",
       "    <tr>\n",
       "      <th>21</th>\n",
       "      <td>21</td>\n",
       "      <td>21</td>\n",
       "      <td>4875.682266</td>\n",
       "      <td>892.314921</td>\n",
       "      <td>5.923766</td>\n",
       "    </tr>\n",
       "    <tr>\n",
       "      <th>22</th>\n",
       "      <td>22</td>\n",
       "      <td>22</td>\n",
       "      <td>5074.972510</td>\n",
       "      <td>1025.437991</td>\n",
       "      <td>6.013455</td>\n",
       "    </tr>\n",
       "    <tr>\n",
       "      <th>23</th>\n",
       "      <td>23</td>\n",
       "      <td>23</td>\n",
       "      <td>5393.039435</td>\n",
       "      <td>926.708781</td>\n",
       "      <td>6.364143</td>\n",
       "    </tr>\n",
       "  </tbody>\n",
       "</table>\n",
       "</div>"
      ],
      "text/plain": [
       "    index  pickup_hour  total_distance  trip_duration     speed\n",
       "0       0            0     5386.545842     938.814608  6.645034\n",
       "1       1            1     5272.017424     902.680154  6.876528\n",
       "2       2            2     5161.003588     891.976035  7.029046\n",
       "3       3            3     5474.581209     893.107445  7.482348\n",
       "4       4            4     6534.848936     926.091616  8.387104\n",
       "5       5            5     7267.635396     825.492934  9.302915\n",
       "6       6            6     5572.443383     799.479663  7.770598\n",
       "7       7            7     4586.204709     833.596429  5.940205\n",
       "8       8            8     4089.470144     926.371765  4.873533\n",
       "9       9            9     3979.757729     934.924791  4.787456\n",
       "10     10           10     4077.976842     935.040061  4.824895\n",
       "11     11           11     4183.489984     968.416448  4.715914\n",
       "12     12           12     4152.749171     995.765211  4.628367\n",
       "13     13           13     4402.851105    1033.394676  4.735882\n",
       "14     14           14     4605.546715    1077.843992  4.637352\n",
       "15     15           15     4616.958740    1120.310439  4.579274\n",
       "16     16           16     4723.443525    1082.325686  4.769935\n",
       "17     17           17     4478.688419    1032.667945  4.699979\n",
       "18     18           18     4177.779283     983.311241  4.697502\n",
       "19     19           19     4209.965256     895.923150  5.090087\n",
       "20     20           20     4648.841520     880.956031  5.726424\n",
       "21     21           21     4875.682266     892.314921  5.923766\n",
       "22     22           22     5074.972510    1025.437991  6.013455\n",
       "23     23           23     5393.039435     926.708781  6.364143"
      ]
     },
     "execution_count": 34,
     "metadata": {},
     "output_type": "execute_result"
    }
   ],
   "source": [
    "col = 'pickup_hour'\n",
    "group_col ='speed'\n",
    "data_st = data.groupby(col,as_index=False).mean().sort_values(col).reset_index()\n",
    "data_st"
   ]
  },
  {
   "cell_type": "code",
   "execution_count": 35,
   "metadata": {
    "ExecuteTime": {
     "end_time": "2017-07-27T02:24:43.446591Z",
     "start_time": "2017-07-27T02:24:43.442780Z"
    },
    "collapsed": true
   },
   "outputs": [],
   "source": [
    "data_sr = pd.Series(data_st[group_col], index=data_st[col])\n",
    "data_dict = data_sr.to_dict()"
   ]
  },
  {
   "cell_type": "code",
   "execution_count": 151,
   "metadata": {
    "ExecuteTime": {
     "end_time": "2017-07-26T13:20:13.125541Z",
     "start_time": "2017-07-26T13:20:12.824732Z"
    },
    "collapsed": true
   },
   "outputs": [],
   "source": [
    "#data.drop(['pickup_hour_mean','speed_mean'], axis=1, inplace=True)"
   ]
  },
  {
   "cell_type": "code",
   "execution_count": 36,
   "metadata": {
    "ExecuteTime": {
     "end_time": "2017-07-27T02:24:46.121481Z",
     "start_time": "2017-07-27T02:24:46.008346Z"
    }
   },
   "outputs": [
    {
     "data": {
      "text/html": [
       "<div>\n",
       "<style>\n",
       "    .dataframe thead tr:only-child th {\n",
       "        text-align: right;\n",
       "    }\n",
       "\n",
       "    .dataframe thead th {\n",
       "        text-align: left;\n",
       "    }\n",
       "\n",
       "    .dataframe tbody tr th {\n",
       "        vertical-align: top;\n",
       "    }\n",
       "</style>\n",
       "<table border=\"1\" class=\"dataframe\">\n",
       "  <thead>\n",
       "    <tr style=\"text-align: right;\">\n",
       "      <th></th>\n",
       "      <th></th>\n",
       "      <th>id</th>\n",
       "      <th>vendor_id</th>\n",
       "      <th>passenger_count</th>\n",
       "      <th>pickup_longitude</th>\n",
       "      <th>pickup_latitude</th>\n",
       "      <th>dropoff_longitude</th>\n",
       "      <th>dropoff_latitude</th>\n",
       "      <th>store_and_fwd_flag</th>\n",
       "      <th>total_distance</th>\n",
       "      <th>pickup_year</th>\n",
       "      <th>pickup_month</th>\n",
       "      <th>pickup_weekday</th>\n",
       "      <th>pickup_day</th>\n",
       "      <th>pickup_hour</th>\n",
       "      <th>pickup_minute</th>\n",
       "      <th>haversine_distance</th>\n",
       "      <th>speed_mean</th>\n",
       "    </tr>\n",
       "  </thead>\n",
       "  <tbody>\n",
       "    <tr>\n",
       "      <th rowspan=\"5\" valign=\"top\">train</th>\n",
       "      <th>0</th>\n",
       "      <td>id2875421</td>\n",
       "      <td>2</td>\n",
       "      <td>1</td>\n",
       "      <td>-73.982155</td>\n",
       "      <td>40.767937</td>\n",
       "      <td>-73.964630</td>\n",
       "      <td>40.765602</td>\n",
       "      <td>0</td>\n",
       "      <td>2009.1</td>\n",
       "      <td>2016</td>\n",
       "      <td>3</td>\n",
       "      <td>0</td>\n",
       "      <td>14</td>\n",
       "      <td>17</td>\n",
       "      <td>24</td>\n",
       "      <td>1.948753</td>\n",
       "      <td>4.699979</td>\n",
       "    </tr>\n",
       "    <tr>\n",
       "      <th>1</th>\n",
       "      <td>id2377394</td>\n",
       "      <td>1</td>\n",
       "      <td>1</td>\n",
       "      <td>-73.980415</td>\n",
       "      <td>40.738564</td>\n",
       "      <td>-73.999481</td>\n",
       "      <td>40.731152</td>\n",
       "      <td>0</td>\n",
       "      <td>2513.2</td>\n",
       "      <td>2016</td>\n",
       "      <td>6</td>\n",
       "      <td>6</td>\n",
       "      <td>12</td>\n",
       "      <td>0</td>\n",
       "      <td>43</td>\n",
       "      <td>2.130839</td>\n",
       "      <td>6.645034</td>\n",
       "    </tr>\n",
       "    <tr>\n",
       "      <th>2</th>\n",
       "      <td>id3858529</td>\n",
       "      <td>2</td>\n",
       "      <td>1</td>\n",
       "      <td>-73.979027</td>\n",
       "      <td>40.763939</td>\n",
       "      <td>-74.005333</td>\n",
       "      <td>40.710087</td>\n",
       "      <td>0</td>\n",
       "      <td>11060.8</td>\n",
       "      <td>2016</td>\n",
       "      <td>1</td>\n",
       "      <td>1</td>\n",
       "      <td>19</td>\n",
       "      <td>11</td>\n",
       "      <td>35</td>\n",
       "      <td>3.356930</td>\n",
       "      <td>4.715914</td>\n",
       "    </tr>\n",
       "    <tr>\n",
       "      <th>3</th>\n",
       "      <td>id3504673</td>\n",
       "      <td>2</td>\n",
       "      <td>1</td>\n",
       "      <td>-74.010040</td>\n",
       "      <td>40.719971</td>\n",
       "      <td>-74.012268</td>\n",
       "      <td>40.706718</td>\n",
       "      <td>0</td>\n",
       "      <td>1779.4</td>\n",
       "      <td>2016</td>\n",
       "      <td>4</td>\n",
       "      <td>2</td>\n",
       "      <td>6</td>\n",
       "      <td>19</td>\n",
       "      <td>32</td>\n",
       "      <td>0.475220</td>\n",
       "      <td>5.090087</td>\n",
       "    </tr>\n",
       "    <tr>\n",
       "      <th>4</th>\n",
       "      <td>id2181028</td>\n",
       "      <td>2</td>\n",
       "      <td>1</td>\n",
       "      <td>-73.973053</td>\n",
       "      <td>40.793209</td>\n",
       "      <td>-73.972923</td>\n",
       "      <td>40.782520</td>\n",
       "      <td>0</td>\n",
       "      <td>1614.9</td>\n",
       "      <td>2016</td>\n",
       "      <td>3</td>\n",
       "      <td>5</td>\n",
       "      <td>26</td>\n",
       "      <td>13</td>\n",
       "      <td>30</td>\n",
       "      <td>0.328255</td>\n",
       "      <td>4.735882</td>\n",
       "    </tr>\n",
       "  </tbody>\n",
       "</table>\n",
       "</div>"
      ],
      "text/plain": [
       "                id  vendor_id  passenger_count  pickup_longitude  \\\n",
       "train 0  id2875421          2                1        -73.982155   \n",
       "      1  id2377394          1                1        -73.980415   \n",
       "      2  id3858529          2                1        -73.979027   \n",
       "      3  id3504673          2                1        -74.010040   \n",
       "      4  id2181028          2                1        -73.973053   \n",
       "\n",
       "         pickup_latitude  dropoff_longitude  dropoff_latitude  \\\n",
       "train 0        40.767937         -73.964630         40.765602   \n",
       "      1        40.738564         -73.999481         40.731152   \n",
       "      2        40.763939         -74.005333         40.710087   \n",
       "      3        40.719971         -74.012268         40.706718   \n",
       "      4        40.793209         -73.972923         40.782520   \n",
       "\n",
       "        store_and_fwd_flag  total_distance  pickup_year  pickup_month  \\\n",
       "train 0                  0          2009.1         2016             3   \n",
       "      1                  0          2513.2         2016             6   \n",
       "      2                  0         11060.8         2016             1   \n",
       "      3                  0          1779.4         2016             4   \n",
       "      4                  0          1614.9         2016             3   \n",
       "\n",
       "         pickup_weekday  pickup_day  pickup_hour  pickup_minute  \\\n",
       "train 0               0          14           17             24   \n",
       "      1               6          12            0             43   \n",
       "      2               1          19           11             35   \n",
       "      3               2           6           19             32   \n",
       "      4               5          26           13             30   \n",
       "\n",
       "         haversine_distance  speed_mean  \n",
       "train 0            1.948753    4.699979  \n",
       "      1            2.130839    6.645034  \n",
       "      2            3.356930    4.715914  \n",
       "      3            0.475220    5.090087  \n",
       "      4            0.328255    4.735882  "
      ]
     },
     "execution_count": 36,
     "metadata": {},
     "output_type": "execute_result"
    }
   ],
   "source": [
    "col_mean = group_col + '_' + 'mean'\n",
    "data = combine_data_tf\n",
    "data[col_mean] = data[col].map(data_dict)\n",
    "data[:5]"
   ]
  },
  {
   "cell_type": "markdown",
   "metadata": {},
   "source": [
    "### Average distance"
   ]
  },
  {
   "cell_type": "code",
   "execution_count": 155,
   "metadata": {
    "ExecuteTime": {
     "end_time": "2017-07-26T13:25:00.446040Z",
     "start_time": "2017-07-26T13:25:00.345789Z"
    },
    "collapsed": true
   },
   "outputs": [],
   "source": [
    "col = 'pickup_hour'\n",
    "group_col ='total_distance'\n",
    "data = data[[col, group_col]]\n",
    "#remove total_distance=0\n",
    "data = data[data[group_col] > 0]"
   ]
  },
  {
   "cell_type": "code",
   "execution_count": 156,
   "metadata": {
    "ExecuteTime": {
     "end_time": "2017-07-26T13:25:03.049332Z",
     "start_time": "2017-07-26T13:25:02.964689Z"
    }
   },
   "outputs": [
    {
     "data": {
      "text/plain": [
       "{0: 5383.3996351040087,\n",
       " 1: 5275.5379135602288,\n",
       " 2: 5182.0322969033023,\n",
       " 3: 5462.4344536681201,\n",
       " 4: 6525.3568795904675,\n",
       " 5: 7204.6002526906559,\n",
       " 6: 5568.933483808084,\n",
       " 7: 4575.9454895913832,\n",
       " 8: 4105.5564959269432,\n",
       " 9: 3988.5147750252063,\n",
       " 10: 4085.083101528408,\n",
       " 11: 4167.0780668724174,\n",
       " 12: 4154.5201776600234,\n",
       " 13: 4422.1019511522927,\n",
       " 14: 4604.9938691546631,\n",
       " 15: 4605.5886859174316,\n",
       " 16: 4712.9750755929444,\n",
       " 17: 4475.7757492587725,\n",
       " 18: 4162.931452394836,\n",
       " 19: 4220.2841153855361,\n",
       " 20: 4639.4629796707068,\n",
       " 21: 4867.6248715073189,\n",
       " 22: 5067.0872147911441,\n",
       " 23: 5376.9535967598877}"
      ]
     },
     "execution_count": 156,
     "metadata": {},
     "output_type": "execute_result"
    }
   ],
   "source": [
    "data_st = data.groupby(col,as_index=False).mean().sort_values(col).reset_index()\n",
    "data_sr = pd.Series(data_st[group_col], index=data_st[col])\n",
    "data_dict = data_sr.to_dict()\n",
    "data_dict"
   ]
  },
  {
   "cell_type": "markdown",
   "metadata": {
    "ExecuteTime": {
     "end_time": "2017-07-26T13:25:15.237141Z",
     "start_time": "2017-07-26T13:25:15.037023Z"
    }
   },
   "source": [
    "col_mean = group_col + '_' + 'mean'\n",
    "data = combine_data_tf\n",
    "data[col_mean] = data[col].map(data_dict)\n",
    "data[:5]"
   ]
  },
  {
   "cell_type": "markdown",
   "metadata": {},
   "source": [
    "## Clearning data"
   ]
  },
  {
   "cell_type": "markdown",
   "metadata": {},
   "source": [
    "### Split train_set and eval_set"
   ]
  },
  {
   "cell_type": "code",
   "execution_count": 37,
   "metadata": {
    "ExecuteTime": {
     "end_time": "2017-07-27T02:26:17.561729Z",
     "start_time": "2017-07-27T02:26:17.392456Z"
    }
   },
   "outputs": [
    {
     "data": {
      "text/html": [
       "<div>\n",
       "<style>\n",
       "    .dataframe thead tr:only-child th {\n",
       "        text-align: right;\n",
       "    }\n",
       "\n",
       "    .dataframe thead th {\n",
       "        text-align: left;\n",
       "    }\n",
       "\n",
       "    .dataframe tbody tr th {\n",
       "        vertical-align: top;\n",
       "    }\n",
       "</style>\n",
       "<table border=\"1\" class=\"dataframe\">\n",
       "  <thead>\n",
       "    <tr style=\"text-align: right;\">\n",
       "      <th></th>\n",
       "      <th>id</th>\n",
       "      <th>vendor_id</th>\n",
       "      <th>passenger_count</th>\n",
       "      <th>pickup_longitude</th>\n",
       "      <th>pickup_latitude</th>\n",
       "      <th>dropoff_longitude</th>\n",
       "      <th>dropoff_latitude</th>\n",
       "      <th>store_and_fwd_flag</th>\n",
       "      <th>total_distance</th>\n",
       "      <th>pickup_year</th>\n",
       "      <th>pickup_month</th>\n",
       "      <th>pickup_weekday</th>\n",
       "      <th>pickup_day</th>\n",
       "      <th>pickup_hour</th>\n",
       "      <th>pickup_minute</th>\n",
       "      <th>haversine_distance</th>\n",
       "      <th>speed_mean</th>\n",
       "      <th>trip_duration</th>\n",
       "    </tr>\n",
       "  </thead>\n",
       "  <tbody>\n",
       "    <tr>\n",
       "      <th>0</th>\n",
       "      <td>id2875421</td>\n",
       "      <td>2</td>\n",
       "      <td>1</td>\n",
       "      <td>-73.982155</td>\n",
       "      <td>40.767937</td>\n",
       "      <td>-73.964630</td>\n",
       "      <td>40.765602</td>\n",
       "      <td>0</td>\n",
       "      <td>2009.1</td>\n",
       "      <td>2016</td>\n",
       "      <td>3</td>\n",
       "      <td>0</td>\n",
       "      <td>14</td>\n",
       "      <td>17</td>\n",
       "      <td>24</td>\n",
       "      <td>1.948753</td>\n",
       "      <td>4.699979</td>\n",
       "      <td>455</td>\n",
       "    </tr>\n",
       "    <tr>\n",
       "      <th>1</th>\n",
       "      <td>id2377394</td>\n",
       "      <td>1</td>\n",
       "      <td>1</td>\n",
       "      <td>-73.980415</td>\n",
       "      <td>40.738564</td>\n",
       "      <td>-73.999481</td>\n",
       "      <td>40.731152</td>\n",
       "      <td>0</td>\n",
       "      <td>2513.2</td>\n",
       "      <td>2016</td>\n",
       "      <td>6</td>\n",
       "      <td>6</td>\n",
       "      <td>12</td>\n",
       "      <td>0</td>\n",
       "      <td>43</td>\n",
       "      <td>2.130839</td>\n",
       "      <td>6.645034</td>\n",
       "      <td>663</td>\n",
       "    </tr>\n",
       "    <tr>\n",
       "      <th>2</th>\n",
       "      <td>id3858529</td>\n",
       "      <td>2</td>\n",
       "      <td>1</td>\n",
       "      <td>-73.979027</td>\n",
       "      <td>40.763939</td>\n",
       "      <td>-74.005333</td>\n",
       "      <td>40.710087</td>\n",
       "      <td>0</td>\n",
       "      <td>11060.8</td>\n",
       "      <td>2016</td>\n",
       "      <td>1</td>\n",
       "      <td>1</td>\n",
       "      <td>19</td>\n",
       "      <td>11</td>\n",
       "      <td>35</td>\n",
       "      <td>3.356930</td>\n",
       "      <td>4.715914</td>\n",
       "      <td>2124</td>\n",
       "    </tr>\n",
       "    <tr>\n",
       "      <th>3</th>\n",
       "      <td>id3504673</td>\n",
       "      <td>2</td>\n",
       "      <td>1</td>\n",
       "      <td>-74.010040</td>\n",
       "      <td>40.719971</td>\n",
       "      <td>-74.012268</td>\n",
       "      <td>40.706718</td>\n",
       "      <td>0</td>\n",
       "      <td>1779.4</td>\n",
       "      <td>2016</td>\n",
       "      <td>4</td>\n",
       "      <td>2</td>\n",
       "      <td>6</td>\n",
       "      <td>19</td>\n",
       "      <td>32</td>\n",
       "      <td>0.475220</td>\n",
       "      <td>5.090087</td>\n",
       "      <td>429</td>\n",
       "    </tr>\n",
       "    <tr>\n",
       "      <th>4</th>\n",
       "      <td>id2181028</td>\n",
       "      <td>2</td>\n",
       "      <td>1</td>\n",
       "      <td>-73.973053</td>\n",
       "      <td>40.793209</td>\n",
       "      <td>-73.972923</td>\n",
       "      <td>40.782520</td>\n",
       "      <td>0</td>\n",
       "      <td>1614.9</td>\n",
       "      <td>2016</td>\n",
       "      <td>3</td>\n",
       "      <td>5</td>\n",
       "      <td>26</td>\n",
       "      <td>13</td>\n",
       "      <td>30</td>\n",
       "      <td>0.328255</td>\n",
       "      <td>4.735882</td>\n",
       "      <td>435</td>\n",
       "    </tr>\n",
       "  </tbody>\n",
       "</table>\n",
       "</div>"
      ],
      "text/plain": [
       "          id  vendor_id  passenger_count  pickup_longitude  pickup_latitude  \\\n",
       "0  id2875421          2                1        -73.982155        40.767937   \n",
       "1  id2377394          1                1        -73.980415        40.738564   \n",
       "2  id3858529          2                1        -73.979027        40.763939   \n",
       "3  id3504673          2                1        -74.010040        40.719971   \n",
       "4  id2181028          2                1        -73.973053        40.793209   \n",
       "\n",
       "   dropoff_longitude  dropoff_latitude store_and_fwd_flag  total_distance  \\\n",
       "0         -73.964630         40.765602                  0          2009.1   \n",
       "1         -73.999481         40.731152                  0          2513.2   \n",
       "2         -74.005333         40.710087                  0         11060.8   \n",
       "3         -74.012268         40.706718                  0          1779.4   \n",
       "4         -73.972923         40.782520                  0          1614.9   \n",
       "\n",
       "   pickup_year  pickup_month  pickup_weekday  pickup_day  pickup_hour  \\\n",
       "0         2016             3               0          14           17   \n",
       "1         2016             6               6          12            0   \n",
       "2         2016             1               1          19           11   \n",
       "3         2016             4               2           6           19   \n",
       "4         2016             3               5          26           13   \n",
       "\n",
       "   pickup_minute  haversine_distance  speed_mean  trip_duration  \n",
       "0             24            1.948753    4.699979            455  \n",
       "1             43            2.130839    6.645034            663  \n",
       "2             35            3.356930    4.715914           2124  \n",
       "3             32            0.475220    5.090087            429  \n",
       "4             30            0.328255    4.735882            435  "
      ]
     },
     "execution_count": 37,
     "metadata": {},
     "output_type": "execute_result"
    }
   ],
   "source": [
    "data = combine_data_tf\n",
    "train_set = data.loc['train']\n",
    "eval_set = data.loc['eval']\n",
    "data = train_set\n",
    "data[label] = target\n",
    "target_log = np.log(target)\n",
    "data[:5]"
   ]
  },
  {
   "cell_type": "markdown",
   "metadata": {},
   "source": [
    "### Trip duration outliner"
   ]
  },
  {
   "cell_type": "markdown",
   "metadata": {},
   "source": [
    "####  Search for outliner"
   ]
  },
  {
   "cell_type": "code",
   "execution_count": 138,
   "metadata": {
    "ExecuteTime": {
     "end_time": "2017-07-23T02:17:34.919355Z",
     "start_time": "2017-07-23T02:17:22.610188Z"
    }
   },
   "outputs": [
    {
     "data": {
      "text/plain": [
       "<matplotlib.collections.PathCollection at 0x1fd8af225f8>"
      ]
     },
     "execution_count": 138,
     "metadata": {},
     "output_type": "execute_result"
    },
    {
     "data": {
      "image/png": "[encoded data removed]",
      "text/plain": [
       "<matplotlib.figure.Figure at 0x1fd8a715b38>"
      ]
     },
     "metadata": {},
     "output_type": "display_data"
    }
   ],
   "source": [
    "plt.scatter(data.index, data[label])"
   ]
  },
  {
   "cell_type": "markdown",
   "metadata": {},
   "source": [
    " - Note: Outliners are trip_duration> 1800000"
   ]
  },
  {
   "cell_type": "code",
   "execution_count": 23,
   "metadata": {
    "ExecuteTime": {
     "end_time": "2017-07-26T08:42:46.260152Z",
     "start_time": "2017-07-26T08:42:46.113001Z"
    }
   },
   "outputs": [
    {
     "data": {
      "text/html": [
       "<div>\n",
       "<style>\n",
       "    .dataframe thead tr:only-child th {\n",
       "        text-align: right;\n",
       "    }\n",
       "\n",
       "    .dataframe thead th {\n",
       "        text-align: left;\n",
       "    }\n",
       "\n",
       "    .dataframe tbody tr th {\n",
       "        vertical-align: top;\n",
       "    }\n",
       "</style>\n",
       "<table border=\"1\" class=\"dataframe\">\n",
       "  <thead>\n",
       "    <tr style=\"text-align: right;\">\n",
       "      <th></th>\n",
       "      <th>id</th>\n",
       "      <th>vendor_id</th>\n",
       "      <th>passenger_count</th>\n",
       "      <th>pickup_longitude</th>\n",
       "      <th>pickup_latitude</th>\n",
       "      <th>dropoff_longitude</th>\n",
       "      <th>dropoff_latitude</th>\n",
       "      <th>store_and_fwd_flag</th>\n",
       "      <th>total_distance</th>\n",
       "      <th>pickup_year</th>\n",
       "      <th>pickup_month</th>\n",
       "      <th>pickup_weekday</th>\n",
       "      <th>pickup_day</th>\n",
       "      <th>pickup_hour</th>\n",
       "      <th>pickup_minute</th>\n",
       "      <th>trip_duration</th>\n",
       "    </tr>\n",
       "  </thead>\n",
       "  <tbody>\n",
       "    <tr>\n",
       "      <th>355003</th>\n",
       "      <td>id1864733</td>\n",
       "      <td>1</td>\n",
       "      <td>1</td>\n",
       "      <td>-73.789650</td>\n",
       "      <td>40.643559</td>\n",
       "      <td>-73.956810</td>\n",
       "      <td>40.773087</td>\n",
       "      <td>0</td>\n",
       "      <td>29232.6</td>\n",
       "      <td>2016</td>\n",
       "      <td>1</td>\n",
       "      <td>1</td>\n",
       "      <td>5</td>\n",
       "      <td>0</td>\n",
       "      <td>19</td>\n",
       "      <td>1939736</td>\n",
       "    </tr>\n",
       "    <tr>\n",
       "      <th>680594</th>\n",
       "      <td>id0369307</td>\n",
       "      <td>1</td>\n",
       "      <td>2</td>\n",
       "      <td>-73.921677</td>\n",
       "      <td>40.735252</td>\n",
       "      <td>-73.984749</td>\n",
       "      <td>40.759979</td>\n",
       "      <td>0</td>\n",
       "      <td>7503.0</td>\n",
       "      <td>2016</td>\n",
       "      <td>2</td>\n",
       "      <td>5</td>\n",
       "      <td>13</td>\n",
       "      <td>22</td>\n",
       "      <td>38</td>\n",
       "      <td>2049578</td>\n",
       "    </tr>\n",
       "    <tr>\n",
       "      <th>924150</th>\n",
       "      <td>id1325766</td>\n",
       "      <td>1</td>\n",
       "      <td>1</td>\n",
       "      <td>-73.983788</td>\n",
       "      <td>40.742325</td>\n",
       "      <td>-73.985489</td>\n",
       "      <td>40.727676</td>\n",
       "      <td>0</td>\n",
       "      <td>2318.9</td>\n",
       "      <td>2016</td>\n",
       "      <td>1</td>\n",
       "      <td>1</td>\n",
       "      <td>5</td>\n",
       "      <td>6</td>\n",
       "      <td>14</td>\n",
       "      <td>2227612</td>\n",
       "    </tr>\n",
       "    <tr>\n",
       "      <th>978383</th>\n",
       "      <td>id0053347</td>\n",
       "      <td>1</td>\n",
       "      <td>1</td>\n",
       "      <td>-73.783905</td>\n",
       "      <td>40.648632</td>\n",
       "      <td>-73.978271</td>\n",
       "      <td>40.750202</td>\n",
       "      <td>0</td>\n",
       "      <td>27223.8</td>\n",
       "      <td>2016</td>\n",
       "      <td>2</td>\n",
       "      <td>5</td>\n",
       "      <td>13</td>\n",
       "      <td>22</td>\n",
       "      <td>46</td>\n",
       "      <td>3526282</td>\n",
       "    </tr>\n",
       "  </tbody>\n",
       "</table>\n",
       "</div>"
      ],
      "text/plain": [
       "               id  vendor_id  passenger_count  pickup_longitude  \\\n",
       "355003  id1864733          1                1        -73.789650   \n",
       "680594  id0369307          1                2        -73.921677   \n",
       "924150  id1325766          1                1        -73.983788   \n",
       "978383  id0053347          1                1        -73.783905   \n",
       "\n",
       "        pickup_latitude  dropoff_longitude  dropoff_latitude  \\\n",
       "355003        40.643559         -73.956810         40.773087   \n",
       "680594        40.735252         -73.984749         40.759979   \n",
       "924150        40.742325         -73.985489         40.727676   \n",
       "978383        40.648632         -73.978271         40.750202   \n",
       "\n",
       "       store_and_fwd_flag  total_distance  pickup_year  pickup_month  \\\n",
       "355003                  0         29232.6         2016             1   \n",
       "680594                  0          7503.0         2016             2   \n",
       "924150                  0          2318.9         2016             1   \n",
       "978383                  0         27223.8         2016             2   \n",
       "\n",
       "        pickup_weekday  pickup_day  pickup_hour  pickup_minute  trip_duration  \n",
       "355003               1           5            0             19        1939736  \n",
       "680594               5          13           22             38        2049578  \n",
       "924150               1           5            6             14        2227612  \n",
       "978383               5          13           22             46        3526282  "
      ]
     },
     "execution_count": 23,
     "metadata": {},
     "output_type": "execute_result"
    }
   ],
   "source": [
    "data = train_set\n",
    "data_ol = data[data[label] > 1800000]\n",
    "data_ol[-5:]"
   ]
  },
  {
   "cell_type": "markdown",
   "metadata": {},
   "source": [
    "#### Drop trip-duration outliner"
   ]
  },
  {
   "cell_type": "code",
   "execution_count": 38,
   "metadata": {
    "ExecuteTime": {
     "end_time": "2017-07-27T02:26:49.698397Z",
     "start_time": "2017-07-27T02:26:39.925803Z"
    }
   },
   "outputs": [
    {
     "data": {
      "text/plain": [
       "<matplotlib.collections.PathCollection at 0x7f581d5e9470>"
      ]
     },
     "execution_count": 38,
     "metadata": {},
     "output_type": "execute_result"
    },
    {
     "data": {
      "image/png": "[encoded data removed]",
      "text/plain": [
       "<matplotlib.figure.Figure at 0x7f5872be9128>"
      ]
     },
     "metadata": {},
     "output_type": "display_data"
    }
   ],
   "source": [
    "data_ol = data[data[label] < 1800000]\n",
    "plt.scatter(data_ol.index, data_ol[label])"
   ]
  },
  {
   "cell_type": "code",
   "execution_count": 39,
   "metadata": {
    "ExecuteTime": {
     "end_time": "2017-07-27T02:26:49.759419Z",
     "start_time": "2017-07-27T02:26:49.699602Z"
    },
    "collapsed": true
   },
   "outputs": [],
   "source": [
    "train_set = data_ol\n",
    "data = train_set\n",
    "# use np.log to balance distribution\n",
    "target_log = np.log(train_set[label].values)"
   ]
  },
  {
   "cell_type": "code",
   "execution_count": 163,
   "metadata": {
    "ExecuteTime": {
     "end_time": "2017-07-26T13:27:19.772730Z",
     "start_time": "2017-07-26T13:27:19.619093Z"
    }
   },
   "outputs": [
    {
     "data": {
      "text/plain": [
       "count    1.458640e+06\n",
       "mean     9.528153e+02\n",
       "std      3.171322e+03\n",
       "min      1.000000e+00\n",
       "25%      3.970000e+02\n",
       "50%      6.620000e+02\n",
       "75%      1.075000e+03\n",
       "max      8.639200e+04\n",
       "Name: trip_duration, dtype: float64"
      ]
     },
     "execution_count": 163,
     "metadata": {},
     "output_type": "execute_result"
    }
   ],
   "source": [
    "train_set[label].describe()"
   ]
  },
  {
   "cell_type": "markdown",
   "metadata": {},
   "source": [
    "### Trip duration distribution"
   ]
  },
  {
   "cell_type": "code",
   "execution_count": 149,
   "metadata": {
    "ExecuteTime": {
     "end_time": "2017-07-23T02:30:40.439930Z",
     "start_time": "2017-07-23T02:30:20.575752Z"
    },
    "scrolled": true
   },
   "outputs": [
    {
     "data": {
      "text/plain": [
       "<matplotlib.text.Text at 0x1fd81ecdc88>"
      ]
     },
     "execution_count": 149,
     "metadata": {},
     "output_type": "execute_result"
    },
    {
     "data": {
      "image/png": "[encoded data removed]",
      "text/plain": [
       "<matplotlib.figure.Figure at 0x1fd81a5af28>"
      ]
     },
     "metadata": {},
     "output_type": "display_data"
    }
   ],
   "source": [
    "plt.figure(figsize=(10,5))\n",
    "plt.subplot(1,2,1)\n",
    "sns.distplot(data[label], bins=50)\n",
    "plt.title('Original Data')\n",
    "plt.xlabel(label)\n",
    "plt.subplot(1,2,2)\n",
    "sns.distplot(target_log, bins=50)\n",
    "plt.title('Natural Log of Data')\n",
    "plt.xlabel('Natural Log of ' + label)\n"
   ]
  },
  {
   "cell_type": "markdown",
   "metadata": {},
   "source": [
    "### total_distance outliner"
   ]
  },
  {
   "cell_type": "code",
   "execution_count": 40,
   "metadata": {
    "ExecuteTime": {
     "end_time": "2017-07-27T02:27:16.367800Z",
     "start_time": "2017-07-27T02:27:06.378995Z"
    }
   },
   "outputs": [
    {
     "data": {
      "text/plain": [
       "<matplotlib.collections.PathCollection at 0x7f58c1d3aa90>"
      ]
     },
     "execution_count": 40,
     "metadata": {},
     "output_type": "execute_result"
    },
    {
     "data": {
      "image/png": "[encoded data removed]",
      "text/plain": [
       "<matplotlib.figure.Figure at 0x7f58752b27b8>"
      ]
     },
     "metadata": {},
     "output_type": "display_data"
    }
   ],
   "source": [
    "col ='total_distance'\n",
    "plt.scatter(data.index, data[col])"
   ]
  },
  {
   "cell_type": "code",
   "execution_count": 167,
   "metadata": {
    "ExecuteTime": {
     "end_time": "2017-07-26T13:30:20.789342Z",
     "start_time": "2017-07-26T13:30:20.620073Z"
    }
   },
   "outputs": [
    {
     "data": {
      "text/plain": [
       "count    1.458639e+06\n",
       "mean     4.626352e+03\n",
       "std      5.303813e+03\n",
       "min      0.000000e+00\n",
       "25%      1.666100e+03\n",
       "50%      2.755100e+03\n",
       "75%      5.113700e+03\n",
       "max      9.420420e+04\n",
       "Name: total_distance, dtype: float64"
      ]
     },
     "execution_count": 167,
     "metadata": {},
     "output_type": "execute_result"
    }
   ],
   "source": [
    "data[col].describe()"
   ]
  },
  {
   "cell_type": "code",
   "execution_count": 41,
   "metadata": {
    "ExecuteTime": {
     "end_time": "2017-07-27T02:27:16.468916Z",
     "start_time": "2017-07-27T02:27:16.369126Z"
    },
    "collapsed": true
   },
   "outputs": [],
   "source": [
    "data = data[data[col]>0]"
   ]
  },
  {
   "cell_type": "code",
   "execution_count": 169,
   "metadata": {
    "ExecuteTime": {
     "end_time": "2017-07-26T13:31:01.879029Z",
     "start_time": "2017-07-26T13:30:50.742401Z"
    },
    "scrolled": true
   },
   "outputs": [
    {
     "data": {
      "text/plain": [
       "<matplotlib.text.Text at 0x22308fdfdd8>"
      ]
     },
     "execution_count": 169,
     "metadata": {},
     "output_type": "execute_result"
    },
    {
     "data": {
      "image/png": "[encoded data removed]",
      "text/plain": [
       "<matplotlib.figure.Figure at 0x22308fc00f0>"
      ]
     },
     "metadata": {},
     "output_type": "display_data"
    }
   ],
   "source": [
    "plt.figure(figsize=(10,5))\n",
    "plt.subplot(1,2,1)\n",
    "sns.distplot(data[col], bins=50)\n",
    "plt.title('Distribution')\n",
    "plt.xlabel(col)"
   ]
  },
  {
   "cell_type": "markdown",
   "metadata": {},
   "source": [
    "## Feature correlation"
   ]
  },
  {
   "cell_type": "code",
   "execution_count": 42,
   "metadata": {
    "ExecuteTime": {
     "end_time": "2017-07-27T02:27:23.803059Z",
     "start_time": "2017-07-27T02:27:22.963819Z"
    }
   },
   "outputs": [
    {
     "data": {
      "text/plain": [
       "pickup_latitude      -0.048230\n",
       "dropoff_latitude     -0.036731\n",
       "speed_mean           -0.017355\n",
       "pickup_minute        -0.004121\n",
       "pickup_weekday       -0.001438\n",
       "pickup_day            0.002414\n",
       "pickup_hour           0.005962\n",
       "pickup_month          0.013359\n",
       "passenger_count       0.014683\n",
       "vendor_id             0.035725\n",
       "dropoff_longitude     0.045624\n",
       "pickup_longitude      0.075223\n",
       "haversine_distance    0.145599\n",
       "total_distance        0.166232\n",
       "trip_duration         1.000000\n",
       "pickup_year                NaN\n",
       "Name: trip_duration, dtype: float64"
      ]
     },
     "execution_count": 42,
     "metadata": {},
     "output_type": "execute_result"
    }
   ],
   "source": [
    "correlation = data.corr()[label].sort_values()[-20:]\n",
    "correlation"
   ]
  },
  {
   "cell_type": "code",
   "execution_count": 43,
   "metadata": {
    "ExecuteTime": {
     "end_time": "2017-07-27T02:27:34.714784Z",
     "start_time": "2017-07-27T02:27:32.610778Z"
    }
   },
   "outputs": [
    {
     "name": "stdout",
     "output_type": "stream",
     "text": [
      "['trip_duration' 'total_distance' 'haversine_distance' 'pickup_longitude'\n",
      " 'dropoff_longitude' 'vendor_id' 'passenger_count' 'pickup_month'\n",
      " 'pickup_hour' 'pickup_day' 'pickup_weekday' 'pickup_minute' 'speed_mean'\n",
      " 'dropoff_latitude' 'pickup_latitude']\n"
     ]
    },
    {
     "data": {
      "image/png": "[encoded data removed]",
      "text/plain": [
       "<matplotlib.figure.Figure at 0x7f58c1dc55c0>"
      ]
     },
     "metadata": {},
     "output_type": "display_data"
    }
   ],
   "source": [
    "#correlation matrix\n",
    "corrmat = data.corr()\n",
    "k = 15 #number of variables for heatmap\n",
    "cols = corrmat.nlargest(k, label)[label].index\n",
    "print(cols.values)\n",
    "cm = np.corrcoef(data[cols].values.T)\n",
    "sns.set(font_scale=1.25)\n",
    "hm = sns.heatmap(cm, cbar=True, annot=True, square=True, fmt='.2f', annot_kws={'size': 10}, yticklabels=cols.values, xticklabels=cols.values)\n",
    "plt.show()"
   ]
  },
  {
   "cell_type": "code",
   "execution_count": 63,
   "metadata": {
    "ExecuteTime": {
     "end_time": "2017-07-26T08:53:05.229775Z",
     "start_time": "2017-07-26T08:53:04.328198Z"
    }
   },
   "outputs": [
    {
     "data": {
      "image/png": "[encoded data removed]",
      "text/plain": [
       "<matplotlib.figure.Figure at 0x22338104dd8>"
      ]
     },
     "metadata": {},
     "output_type": "display_data"
    }
   ],
   "source": [
    "# Correlation matrix of cols except label\n",
    "other_cols = np.setdiff1d(cols.values, label)\n",
    "cm = np.corrcoef(data[other_cols].values.T)\n",
    "sns.set(font_scale=1.25)\n",
    "hm = sns.heatmap(cm, cbar=True, annot=True, square=True, fmt='.2f', annot_kws={'size': 10}, yticklabels=other_cols, xticklabels=other_cols)\n",
    "plt.show()"
   ]
  },
  {
   "cell_type": "markdown",
   "metadata": {},
   "source": [
    "# Train model"
   ]
  },
  {
   "cell_type": "code",
   "execution_count": 44,
   "metadata": {
    "ExecuteTime": {
     "end_time": "2017-07-27T02:28:03.671035Z",
     "start_time": "2017-07-27T02:28:03.415986Z"
    }
   },
   "outputs": [
    {
     "name": "stdout",
     "output_type": "stream",
     "text": [
      "(1458640, 16)\n"
     ]
    },
    {
     "data": {
      "text/html": [
       "<div>\n",
       "<style>\n",
       "    .dataframe thead tr:only-child th {\n",
       "        text-align: right;\n",
       "    }\n",
       "\n",
       "    .dataframe thead th {\n",
       "        text-align: left;\n",
       "    }\n",
       "\n",
       "    .dataframe tbody tr th {\n",
       "        vertical-align: top;\n",
       "    }\n",
       "</style>\n",
       "<table border=\"1\" class=\"dataframe\">\n",
       "  <thead>\n",
       "    <tr style=\"text-align: right;\">\n",
       "      <th></th>\n",
       "      <th>vendor_id</th>\n",
       "      <th>passenger_count</th>\n",
       "      <th>pickup_longitude</th>\n",
       "      <th>pickup_latitude</th>\n",
       "      <th>dropoff_longitude</th>\n",
       "      <th>dropoff_latitude</th>\n",
       "      <th>store_and_fwd_flag</th>\n",
       "      <th>total_distance</th>\n",
       "      <th>pickup_year</th>\n",
       "      <th>pickup_month</th>\n",
       "      <th>pickup_weekday</th>\n",
       "      <th>pickup_day</th>\n",
       "      <th>pickup_hour</th>\n",
       "      <th>pickup_minute</th>\n",
       "      <th>haversine_distance</th>\n",
       "      <th>speed_mean</th>\n",
       "    </tr>\n",
       "  </thead>\n",
       "  <tbody>\n",
       "    <tr>\n",
       "      <th>0</th>\n",
       "      <td>2.0</td>\n",
       "      <td>1.0</td>\n",
       "      <td>-73.982155</td>\n",
       "      <td>40.767937</td>\n",
       "      <td>-73.964630</td>\n",
       "      <td>40.765602</td>\n",
       "      <td>0.0</td>\n",
       "      <td>2009.1</td>\n",
       "      <td>2016.0</td>\n",
       "      <td>3.0</td>\n",
       "      <td>0.0</td>\n",
       "      <td>14.0</td>\n",
       "      <td>17.0</td>\n",
       "      <td>24.0</td>\n",
       "      <td>1.948753</td>\n",
       "      <td>4.699979</td>\n",
       "    </tr>\n",
       "    <tr>\n",
       "      <th>1</th>\n",
       "      <td>1.0</td>\n",
       "      <td>1.0</td>\n",
       "      <td>-73.980415</td>\n",
       "      <td>40.738564</td>\n",
       "      <td>-73.999481</td>\n",
       "      <td>40.731152</td>\n",
       "      <td>0.0</td>\n",
       "      <td>2513.2</td>\n",
       "      <td>2016.0</td>\n",
       "      <td>6.0</td>\n",
       "      <td>6.0</td>\n",
       "      <td>12.0</td>\n",
       "      <td>0.0</td>\n",
       "      <td>43.0</td>\n",
       "      <td>2.130839</td>\n",
       "      <td>6.645034</td>\n",
       "    </tr>\n",
       "    <tr>\n",
       "      <th>2</th>\n",
       "      <td>2.0</td>\n",
       "      <td>1.0</td>\n",
       "      <td>-73.979027</td>\n",
       "      <td>40.763939</td>\n",
       "      <td>-74.005333</td>\n",
       "      <td>40.710087</td>\n",
       "      <td>0.0</td>\n",
       "      <td>11060.8</td>\n",
       "      <td>2016.0</td>\n",
       "      <td>1.0</td>\n",
       "      <td>1.0</td>\n",
       "      <td>19.0</td>\n",
       "      <td>11.0</td>\n",
       "      <td>35.0</td>\n",
       "      <td>3.356930</td>\n",
       "      <td>4.715914</td>\n",
       "    </tr>\n",
       "    <tr>\n",
       "      <th>3</th>\n",
       "      <td>2.0</td>\n",
       "      <td>1.0</td>\n",
       "      <td>-74.010040</td>\n",
       "      <td>40.719971</td>\n",
       "      <td>-74.012268</td>\n",
       "      <td>40.706718</td>\n",
       "      <td>0.0</td>\n",
       "      <td>1779.4</td>\n",
       "      <td>2016.0</td>\n",
       "      <td>4.0</td>\n",
       "      <td>2.0</td>\n",
       "      <td>6.0</td>\n",
       "      <td>19.0</td>\n",
       "      <td>32.0</td>\n",
       "      <td>0.475220</td>\n",
       "      <td>5.090087</td>\n",
       "    </tr>\n",
       "    <tr>\n",
       "      <th>4</th>\n",
       "      <td>2.0</td>\n",
       "      <td>1.0</td>\n",
       "      <td>-73.973053</td>\n",
       "      <td>40.793209</td>\n",
       "      <td>-73.972923</td>\n",
       "      <td>40.782520</td>\n",
       "      <td>0.0</td>\n",
       "      <td>1614.9</td>\n",
       "      <td>2016.0</td>\n",
       "      <td>3.0</td>\n",
       "      <td>5.0</td>\n",
       "      <td>26.0</td>\n",
       "      <td>13.0</td>\n",
       "      <td>30.0</td>\n",
       "      <td>0.328255</td>\n",
       "      <td>4.735882</td>\n",
       "    </tr>\n",
       "  </tbody>\n",
       "</table>\n",
       "</div>"
      ],
      "text/plain": [
       "   vendor_id  passenger_count  pickup_longitude  pickup_latitude  \\\n",
       "0        2.0              1.0        -73.982155        40.767937   \n",
       "1        1.0              1.0        -73.980415        40.738564   \n",
       "2        2.0              1.0        -73.979027        40.763939   \n",
       "3        2.0              1.0        -74.010040        40.719971   \n",
       "4        2.0              1.0        -73.973053        40.793209   \n",
       "\n",
       "   dropoff_longitude  dropoff_latitude  store_and_fwd_flag  total_distance  \\\n",
       "0         -73.964630         40.765602                 0.0          2009.1   \n",
       "1         -73.999481         40.731152                 0.0          2513.2   \n",
       "2         -74.005333         40.710087                 0.0         11060.8   \n",
       "3         -74.012268         40.706718                 0.0          1779.4   \n",
       "4         -73.972923         40.782520                 0.0          1614.9   \n",
       "\n",
       "   pickup_year  pickup_month  pickup_weekday  pickup_day  pickup_hour  \\\n",
       "0       2016.0           3.0             0.0        14.0         17.0   \n",
       "1       2016.0           6.0             6.0        12.0          0.0   \n",
       "2       2016.0           1.0             1.0        19.0         11.0   \n",
       "3       2016.0           4.0             2.0         6.0         19.0   \n",
       "4       2016.0           3.0             5.0        26.0         13.0   \n",
       "\n",
       "   pickup_minute  haversine_distance  speed_mean  \n",
       "0           24.0            1.948753    4.699979  \n",
       "1           43.0            2.130839    6.645034  \n",
       "2           35.0            3.356930    4.715914  \n",
       "3           32.0            0.475220    5.090087  \n",
       "4           30.0            0.328255    4.735882  "
      ]
     },
     "execution_count": 44,
     "metadata": {},
     "output_type": "execute_result"
    }
   ],
   "source": [
    "data = train_set.drop(['id', label], axis=1).astype(float)\n",
    "print(data.shape)\n",
    "data[:5]"
   ]
  },
  {
   "cell_type": "markdown",
   "metadata": {},
   "source": [
    "## Model definition"
   ]
  },
  {
   "cell_type": "code",
   "execution_count": 45,
   "metadata": {
    "ExecuteTime": {
     "end_time": "2017-07-27T02:28:07.201507Z",
     "start_time": "2017-07-27T02:28:07.188931Z"
    },
    "code_folding": [],
    "collapsed": true
   },
   "outputs": [],
   "source": [
    "# A function to calculate Root Mean Squared Logarithmic Error (RMSLE)\n",
    "# credit: https://www.kaggle.com/marknagelberg/rmsle-function\n",
    "\n",
    "\n",
    "def rmsle(y, y_pred, log=True):\n",
    "    assert len(y) == len(y_pred)\n",
    "    terms_to_sum = 0\n",
    "    if log:\n",
    "        terms_to_sum = [(math.log(math.fabs(y_pred[i]) + 1) -\n",
    "                         math.log(y[i] + 1)) ** 2.0 for i, pred in enumerate(y_pred)]\n",
    "    else:\n",
    "        terms_to_sum = [(math.fabs(y_pred[i]) - y[i]) **\n",
    "                        2.0 for i, pred in enumerate(y_pred)]\n",
    "    # for i, pred in enumerate(y_pred):\n",
    "    #    print(\"i:\", i, \" pred:\", y_pred[i])\n",
    "    #    print(math.log(y_pred[i] + 1))\n",
    "    #    print(math.log(y[i] + 1))\n",
    "    return (sum(terms_to_sum) * (1.0 / len(y))) ** 0.5"
   ]
  },
  {
   "cell_type": "code",
   "execution_count": 46,
   "metadata": {
    "ExecuteTime": {
     "end_time": "2017-07-27T02:28:11.332776Z",
     "start_time": "2017-07-27T02:28:11.329911Z"
    },
    "collapsed": true
   },
   "outputs": [],
   "source": [
    "#model = CatBoostRegressor(iterations=100, depth=5, thread_count=4, use_best_model=True)\n",
    "model = XGBRegressor(n_estimators=10000, max_depth=5,\n",
    "                     learning_rate=0.1, min_child_weight=1, n_jobs=-1)"
   ]
  },
  {
   "cell_type": "markdown",
   "metadata": {},
   "source": [
    "### Split train/test set"
   ]
  },
  {
   "cell_type": "code",
   "execution_count": 47,
   "metadata": {
    "ExecuteTime": {
     "end_time": "2017-07-27T02:28:14.093830Z",
     "start_time": "2017-07-27T02:28:13.663824Z"
    }
   },
   "outputs": [
    {
     "name": "stdout",
     "output_type": "stream",
     "text": [
      "X_train: (1239844, 16)  Y_train: (1239844,)  X_test: (218796, 16)  Y_test: (218796,)\n"
     ]
    },
    {
     "data": {
      "text/html": [
       "<div>\n",
       "<style>\n",
       "    .dataframe thead tr:only-child th {\n",
       "        text-align: right;\n",
       "    }\n",
       "\n",
       "    .dataframe thead th {\n",
       "        text-align: left;\n",
       "    }\n",
       "\n",
       "    .dataframe tbody tr th {\n",
       "        vertical-align: top;\n",
       "    }\n",
       "</style>\n",
       "<table border=\"1\" class=\"dataframe\">\n",
       "  <thead>\n",
       "    <tr style=\"text-align: right;\">\n",
       "      <th></th>\n",
       "      <th>vendor_id</th>\n",
       "      <th>passenger_count</th>\n",
       "      <th>pickup_longitude</th>\n",
       "      <th>pickup_latitude</th>\n",
       "      <th>dropoff_longitude</th>\n",
       "      <th>dropoff_latitude</th>\n",
       "      <th>store_and_fwd_flag</th>\n",
       "      <th>total_distance</th>\n",
       "      <th>pickup_year</th>\n",
       "      <th>pickup_month</th>\n",
       "      <th>pickup_weekday</th>\n",
       "      <th>pickup_day</th>\n",
       "      <th>pickup_hour</th>\n",
       "      <th>pickup_minute</th>\n",
       "      <th>haversine_distance</th>\n",
       "      <th>speed_mean</th>\n",
       "    </tr>\n",
       "  </thead>\n",
       "  <tbody>\n",
       "    <tr>\n",
       "      <th>9624</th>\n",
       "      <td>2.0</td>\n",
       "      <td>1.0</td>\n",
       "      <td>-73.978073</td>\n",
       "      <td>40.737499</td>\n",
       "      <td>-73.986183</td>\n",
       "      <td>40.768196</td>\n",
       "      <td>0.0</td>\n",
       "      <td>4892.1</td>\n",
       "      <td>2016.0</td>\n",
       "      <td>6.0</td>\n",
       "      <td>0.0</td>\n",
       "      <td>20.0</td>\n",
       "      <td>19.0</td>\n",
       "      <td>59.0</td>\n",
       "      <td>1.303155</td>\n",
       "      <td>5.090087</td>\n",
       "    </tr>\n",
       "    <tr>\n",
       "      <th>390139</th>\n",
       "      <td>2.0</td>\n",
       "      <td>5.0</td>\n",
       "      <td>-73.994362</td>\n",
       "      <td>40.745819</td>\n",
       "      <td>-74.012383</td>\n",
       "      <td>40.716808</td>\n",
       "      <td>0.0</td>\n",
       "      <td>3972.3</td>\n",
       "      <td>2016.0</td>\n",
       "      <td>6.0</td>\n",
       "      <td>5.0</td>\n",
       "      <td>11.0</td>\n",
       "      <td>15.0</td>\n",
       "      <td>23.0</td>\n",
       "      <td>2.190772</td>\n",
       "      <td>4.579274</td>\n",
       "    </tr>\n",
       "    <tr>\n",
       "      <th>998910</th>\n",
       "      <td>1.0</td>\n",
       "      <td>1.0</td>\n",
       "      <td>-73.977974</td>\n",
       "      <td>40.773602</td>\n",
       "      <td>-73.977356</td>\n",
       "      <td>40.758083</td>\n",
       "      <td>0.0</td>\n",
       "      <td>2368.7</td>\n",
       "      <td>2016.0</td>\n",
       "      <td>1.0</td>\n",
       "      <td>6.0</td>\n",
       "      <td>17.0</td>\n",
       "      <td>17.0</td>\n",
       "      <td>0.0</td>\n",
       "      <td>0.480900</td>\n",
       "      <td>4.699979</td>\n",
       "    </tr>\n",
       "    <tr>\n",
       "      <th>911435</th>\n",
       "      <td>2.0</td>\n",
       "      <td>1.0</td>\n",
       "      <td>-73.981659</td>\n",
       "      <td>40.779060</td>\n",
       "      <td>-73.982292</td>\n",
       "      <td>40.775070</td>\n",
       "      <td>0.0</td>\n",
       "      <td>615.6</td>\n",
       "      <td>2016.0</td>\n",
       "      <td>1.0</td>\n",
       "      <td>3.0</td>\n",
       "      <td>7.0</td>\n",
       "      <td>18.0</td>\n",
       "      <td>56.0</td>\n",
       "      <td>0.141146</td>\n",
       "      <td>4.697502</td>\n",
       "    </tr>\n",
       "    <tr>\n",
       "      <th>129338</th>\n",
       "      <td>1.0</td>\n",
       "      <td>1.0</td>\n",
       "      <td>-73.977921</td>\n",
       "      <td>40.773502</td>\n",
       "      <td>-73.965164</td>\n",
       "      <td>40.755020</td>\n",
       "      <td>0.0</td>\n",
       "      <td>3227.6</td>\n",
       "      <td>2016.0</td>\n",
       "      <td>5.0</td>\n",
       "      <td>3.0</td>\n",
       "      <td>19.0</td>\n",
       "      <td>17.0</td>\n",
       "      <td>54.0</td>\n",
       "      <td>1.526776</td>\n",
       "      <td>4.699979</td>\n",
       "    </tr>\n",
       "  </tbody>\n",
       "</table>\n",
       "</div>"
      ],
      "text/plain": [
       "        vendor_id  passenger_count  pickup_longitude  pickup_latitude  \\\n",
       "9624          2.0              1.0        -73.978073        40.737499   \n",
       "390139        2.0              5.0        -73.994362        40.745819   \n",
       "998910        1.0              1.0        -73.977974        40.773602   \n",
       "911435        2.0              1.0        -73.981659        40.779060   \n",
       "129338        1.0              1.0        -73.977921        40.773502   \n",
       "\n",
       "        dropoff_longitude  dropoff_latitude  store_and_fwd_flag  \\\n",
       "9624           -73.986183         40.768196                 0.0   \n",
       "390139         -74.012383         40.716808                 0.0   \n",
       "998910         -73.977356         40.758083                 0.0   \n",
       "911435         -73.982292         40.775070                 0.0   \n",
       "129338         -73.965164         40.755020                 0.0   \n",
       "\n",
       "        total_distance  pickup_year  pickup_month  pickup_weekday  pickup_day  \\\n",
       "9624            4892.1       2016.0           6.0             0.0        20.0   \n",
       "390139          3972.3       2016.0           6.0             5.0        11.0   \n",
       "998910          2368.7       2016.0           1.0             6.0        17.0   \n",
       "911435           615.6       2016.0           1.0             3.0         7.0   \n",
       "129338          3227.6       2016.0           5.0             3.0        19.0   \n",
       "\n",
       "        pickup_hour  pickup_minute  haversine_distance  speed_mean  \n",
       "9624           19.0           59.0            1.303155    5.090087  \n",
       "390139         15.0           23.0            2.190772    4.579274  \n",
       "998910         17.0            0.0            0.480900    4.699979  \n",
       "911435         18.0           56.0            0.141146    4.697502  \n",
       "129338         17.0           54.0            1.526776    4.699979  "
      ]
     },
     "execution_count": 47,
     "metadata": {},
     "output_type": "execute_result"
    }
   ],
   "source": [
    "X_train, X_test, Y_train, Y_test = train_test_split(\n",
    "    data, target_log, train_size=0.85, random_state=1234)\n",
    "print(\"X_train:\", X_train.shape, \" Y_train:\", Y_train.shape,\n",
    "      \" X_test:\", X_test.shape, \" Y_test:\", Y_test.shape)\n",
    "X_train[:5]"
   ]
  },
  {
   "cell_type": "markdown",
   "metadata": {},
   "source": [
    "## Train data"
   ]
  },
  {
   "cell_type": "code",
   "execution_count": 48,
   "metadata": {
    "ExecuteTime": {
     "end_time": "2017-07-27T03:01:10.106277Z",
     "start_time": "2017-07-27T02:28:21.690720Z"
    }
   },
   "outputs": [
    {
     "name": "stdout",
     "output_type": "stream",
     "text": [
      "[0]\tvalidation_0-rmse:5.41957\n",
      "Will train until validation_0-rmse hasn't improved in 50 rounds.\n",
      "[50]\tvalidation_0-rmse:0.424533\n",
      "[100]\tvalidation_0-rmse:0.411481\n",
      "[150]\tvalidation_0-rmse:0.405974\n",
      "[200]\tvalidation_0-rmse:0.402309\n",
      "[250]\tvalidation_0-rmse:0.400446\n",
      "[300]\tvalidation_0-rmse:0.398391\n",
      "[350]\tvalidation_0-rmse:0.397026\n",
      "[400]\tvalidation_0-rmse:0.395748\n",
      "[450]\tvalidation_0-rmse:0.39439\n",
      "[500]\tvalidation_0-rmse:0.393488\n",
      "[550]\tvalidation_0-rmse:0.393048\n",
      "[600]\tvalidation_0-rmse:0.392265\n",
      "[650]\tvalidation_0-rmse:0.391709\n",
      "[700]\tvalidation_0-rmse:0.391184\n",
      "[750]\tvalidation_0-rmse:0.390881\n",
      "[800]\tvalidation_0-rmse:0.390298\n",
      "[850]\tvalidation_0-rmse:0.390045\n",
      "[900]\tvalidation_0-rmse:0.389768\n",
      "[950]\tvalidation_0-rmse:0.389327\n",
      "[1000]\tvalidation_0-rmse:0.389101\n",
      "[1050]\tvalidation_0-rmse:0.388716\n",
      "[1100]\tvalidation_0-rmse:0.388382\n",
      "[1150]\tvalidation_0-rmse:0.388221\n",
      "[1200]\tvalidation_0-rmse:0.387876\n",
      "[1250]\tvalidation_0-rmse:0.387646\n",
      "[1300]\tvalidation_0-rmse:0.387403\n",
      "[1350]\tvalidation_0-rmse:0.387259\n",
      "[1400]\tvalidation_0-rmse:0.387077\n",
      "[1450]\tvalidation_0-rmse:0.386851\n",
      "[1500]\tvalidation_0-rmse:0.386728\n",
      "[1550]\tvalidation_0-rmse:0.386574\n",
      "[1600]\tvalidation_0-rmse:0.386461\n",
      "[1650]\tvalidation_0-rmse:0.3864\n",
      "[1700]\tvalidation_0-rmse:0.386268\n",
      "[1750]\tvalidation_0-rmse:0.386122\n",
      "[1800]\tvalidation_0-rmse:0.38596\n",
      "[1850]\tvalidation_0-rmse:0.385876\n",
      "[1900]\tvalidation_0-rmse:0.385835\n",
      "[1950]\tvalidation_0-rmse:0.385627\n",
      "[2000]\tvalidation_0-rmse:0.385443\n",
      "[2050]\tvalidation_0-rmse:0.385385\n",
      "[2100]\tvalidation_0-rmse:0.385318\n",
      "[2150]\tvalidation_0-rmse:0.385207\n",
      "[2200]\tvalidation_0-rmse:0.384993\n",
      "[2250]\tvalidation_0-rmse:0.384926\n",
      "[2300]\tvalidation_0-rmse:0.38484\n",
      "[2350]\tvalidation_0-rmse:0.384773\n",
      "[2400]\tvalidation_0-rmse:0.38475\n",
      "[2450]\tvalidation_0-rmse:0.3847\n",
      "[2500]\tvalidation_0-rmse:0.384673\n",
      "[2550]\tvalidation_0-rmse:0.384643\n",
      "[2600]\tvalidation_0-rmse:0.384597\n",
      "[2650]\tvalidation_0-rmse:0.384544\n",
      "[2700]\tvalidation_0-rmse:0.384529\n",
      "[2750]\tvalidation_0-rmse:0.384434\n",
      "[2800]\tvalidation_0-rmse:0.384347\n",
      "[2850]\tvalidation_0-rmse:0.384309\n",
      "[2900]\tvalidation_0-rmse:0.384206\n",
      "[2950]\tvalidation_0-rmse:0.384203\n",
      "[3000]\tvalidation_0-rmse:0.384167\n",
      "Stopping. Best iteration:\n",
      "[2985]\tvalidation_0-rmse:0.384153\n",
      "\n",
      "1968.406958580017\n"
     ]
    }
   ],
   "source": [
    "start = time.time()\n",
    "early_stopping_rounds = 50\n",
    "model.fit(\n",
    "    X_train, Y_train, eval_set = [(X_test, Y_test)],\n",
    "    eval_metric=\"rmse\", early_stopping_rounds=early_stopping_rounds,\n",
    "    verbose=early_stopping_rounds\n",
    ")\n",
    "end = time.time() - start\n",
    "print(end)"
   ]
  },
  {
   "cell_type": "markdown",
   "metadata": {},
   "source": [
    "### Predict for test data"
   ]
  },
  {
   "cell_type": "code",
   "execution_count": 176,
   "metadata": {
    "ExecuteTime": {
     "end_time": "2017-07-26T14:10:23.799810Z",
     "start_time": "2017-07-26T14:10:13.114295Z"
    }
   },
   "outputs": [
    {
     "data": {
      "text/plain": [
       "10.666386604309082"
      ]
     },
     "execution_count": 176,
     "metadata": {},
     "output_type": "execute_result"
    }
   ],
   "source": [
    "start = time.time()\n",
    "y_pred = model.predict(X_test)\n",
    "end = time.time() - start\n",
    "end"
   ]
  },
  {
   "cell_type": "code",
   "execution_count": 177,
   "metadata": {
    "ExecuteTime": {
     "end_time": "2017-07-26T14:10:25.128535Z",
     "start_time": "2017-07-26T14:10:24.442675Z"
    }
   },
   "outputs": [
    {
     "name": "stdout",
     "output_type": "stream",
     "text": [
      "[ 5.75218725  5.56645775  4.84672403  6.98328304  7.41439819]\n",
      "RMSLE score: 0.05659360703934735  RMSLE without-log: 0.383703421188\n"
     ]
    }
   ],
   "source": [
    "# Evaluate score\n",
    "print(y_pred[:5])\n",
    "score = rmsle(Y_test, y_pred)\n",
    "score1 = rmsle(Y_test, y_pred, log=False)\n",
    "print(\"RMSLE score:\", score, \" RMSLE without-log:\", score1)"
   ]
  },
  {
   "cell_type": "markdown",
   "metadata": {},
   "source": [
    "### Feature importances"
   ]
  },
  {
   "cell_type": "code",
   "execution_count": 178,
   "metadata": {
    "ExecuteTime": {
     "end_time": "2017-07-26T14:10:28.932456Z",
     "start_time": "2017-07-26T14:10:28.045219Z"
    }
   },
   "outputs": [
    {
     "data": {
      "image/png": "[encoded data removed]",
      "text/plain": [
       "<matplotlib.figure.Figure at 0x2230e3d6048>"
      ]
     },
     "metadata": {},
     "output_type": "display_data"
    }
   ],
   "source": [
    "plot_importance(model)\n",
    "plt.show()"
   ]
  },
  {
   "cell_type": "markdown",
   "metadata": {},
   "source": [
    "# Predict and save submission"
   ]
  },
  {
   "cell_type": "code",
   "execution_count": 179,
   "metadata": {
    "ExecuteTime": {
     "end_time": "2017-07-26T14:11:27.229949Z",
     "start_time": "2017-07-26T14:10:58.108293Z"
    }
   },
   "outputs": [
    {
     "name": "stdout",
     "output_type": "stream",
     "text": [
      "29.109646797180176\n",
      "[ 6.75216293  6.19637871  6.04534292  6.85596657  5.63337946]\n",
      "[ 855.90802002  490.96786499  422.14248657  949.52947998  279.60543823]\n"
     ]
    }
   ],
   "source": [
    "start = time.time()\n",
    "data = eval_set.drop('id', axis=1).astype(float)\n",
    "Y_eval_log = model.predict(data)\n",
    "Y_eval = np.exp(Y_eval_log.ravel())\n",
    "end = time.time() - start\n",
    "print(end)\n",
    "print(Y_eval_log[:5])\n",
    "print(Y_eval[:5])"
   ]
  },
  {
   "cell_type": "code",
   "execution_count": 180,
   "metadata": {
    "ExecuteTime": {
     "end_time": "2017-07-26T14:11:27.956886Z",
     "start_time": "2017-07-26T14:11:27.878756Z"
    }
   },
   "outputs": [
    {
     "name": "stdout",
     "output_type": "stream",
     "text": [
      "625134\n"
     ]
    },
    {
     "data": {
      "text/html": [
       "<div>\n",
       "<style>\n",
       "    .dataframe thead tr:only-child th {\n",
       "        text-align: right;\n",
       "    }\n",
       "\n",
       "    .dataframe thead th {\n",
       "        text-align: left;\n",
       "    }\n",
       "\n",
       "    .dataframe tbody tr th {\n",
       "        vertical-align: top;\n",
       "    }\n",
       "</style>\n",
       "<table border=\"1\" class=\"dataframe\">\n",
       "  <thead>\n",
       "    <tr style=\"text-align: right;\">\n",
       "      <th></th>\n",
       "      <th>id</th>\n",
       "      <th>trip_duration</th>\n",
       "    </tr>\n",
       "  </thead>\n",
       "  <tbody>\n",
       "    <tr>\n",
       "      <th>0</th>\n",
       "      <td>id3004672</td>\n",
       "      <td>855.908020</td>\n",
       "    </tr>\n",
       "    <tr>\n",
       "      <th>1</th>\n",
       "      <td>id3505355</td>\n",
       "      <td>490.967865</td>\n",
       "    </tr>\n",
       "    <tr>\n",
       "      <th>2</th>\n",
       "      <td>id1217141</td>\n",
       "      <td>422.142487</td>\n",
       "    </tr>\n",
       "    <tr>\n",
       "      <th>3</th>\n",
       "      <td>id2150126</td>\n",
       "      <td>949.529480</td>\n",
       "    </tr>\n",
       "    <tr>\n",
       "      <th>4</th>\n",
       "      <td>id1598245</td>\n",
       "      <td>279.605438</td>\n",
       "    </tr>\n",
       "  </tbody>\n",
       "</table>\n",
       "</div>"
      ],
      "text/plain": [
       "          id  trip_duration\n",
       "0  id3004672     855.908020\n",
       "1  id3505355     490.967865\n",
       "2  id1217141     422.142487\n",
       "3  id2150126     949.529480\n",
       "4  id1598245     279.605438"
      ]
     },
     "execution_count": 180,
     "metadata": {},
     "output_type": "execute_result"
    }
   ],
   "source": [
    "eval_output = pd.DataFrame({'id': eval_set['id'], 'trip_duration': Y_eval}, columns=['id', 'trip_duration'])\n",
    "print(len(eval_output))\n",
    "eval_output.head()"
   ]
  },
  {
   "cell_type": "code",
   "execution_count": 181,
   "metadata": {
    "ExecuteTime": {
     "end_time": "2017-07-26T14:11:42.031740Z",
     "start_time": "2017-07-26T14:11:39.209413Z"
    }
   },
   "outputs": [
    {
     "name": "stdout",
     "output_type": "stream",
     "text": [
      "2017-07-26\n"
     ]
    },
    {
     "data": {
      "text/plain": [
       "2.759817600250244"
      ]
     },
     "execution_count": 181,
     "metadata": {},
     "output_type": "execute_result"
    }
   ],
   "source": [
    "start = time.time()\n",
    "today = str(dtime.date.today())\n",
    "print(today)\n",
    "eval_output.to_csv(DATA_DIR +'/' +today+'-submission.csv.gz',index=False, compression='gzip')\n",
    "end = time.time() - start\n",
    "end"
   ]
  },
  {
   "cell_type": "markdown",
   "metadata": {
    "collapsed": true
   },
   "source": [
    "## Leader board"
   ]
  },
  {
   "cell_type": "markdown",
   "metadata": {},
   "source": [
    "- Round 12:\n",
    "    + Base model: \n",
    "        * XGBRegressor(n_estimators=10000, max_depth=5,\n",
    "                     learning_rate=0.1, min_child_weight=1, n_jobs=-1)\n",
    "\t* remove pickup_year (correl = 0)\n",
    "\t* remove outliners: train_set[label] > 1800000\n",
    "    * remove outliners: train_set['total_distance_mean] = 0\n",
    "\t* Added distance between pickup and dropoff using outside dataset (OpenStreetMap - osmr)\n",
    "\t* Added distance between pickup and dropoff using haversine dataset\n",
    "\t* correct speed_mean formular\n",
    "\t* train_size = 0.85\n",
    "\t* target_log = np.log(target)\n",
    "\t* best model train round: \n",
    "\t* train time: \n",
    "\t* RMSLE without-log: 0.383703421188 => \n",
    "    + Submision score: 0.390 => \t"
   ]
  }
 ],
 "metadata": {
  "kernelspec": {
   "display_name": "Python 3",
   "language": "python",
   "name": "python3"
  },
  "language_info": {
   "codemirror_mode": {
    "name": "ipython",
    "version": 3
   },
   "file_extension": ".py",
   "mimetype": "text/x-python",
   "name": "python",
   "nbconvert_exporter": "python",
   "pygments_lexer": "ipython3",
   "version": "3.5.3"
  },
  "toc": {
   "colors": {
    "hover_highlight": "#DAA520",
    "navigate_num": "#000000",
    "navigate_text": "#333333",
    "running_highlight": "#FF0000",
    "selected_highlight": "#FFD700",
    "sidebar_border": "#EEEEEE",
    "wrapper_background": "#FFFFFF"
   },
   "moveMenuLeft": true,
   "nav_menu": {
    "height": "512px",
    "width": "252px"
   },
   "navigate_menu": true,
   "number_sections": true,
   "sideBar": true,
   "threshold": 4,
   "toc_cell": true,
   "toc_position": {
    "height": "648px",
    "left": "0px",
    "right": "1266px",
    "top": "107px",
    "width": "270px"
   },
   "toc_section_display": "block",
   "toc_window_display": true,
   "widenNotebook": false
  },
  "varInspector": {
   "cols": {
    "lenName": 16,
    "lenType": 16,
    "lenVar": 40
   },
   "kernels_config": {
    "python": {
     "delete_cmd_postfix": "",
     "delete_cmd_prefix": "del ",
     "library": "var_list.py",
     "varRefreshCmd": "print(var_dic_list())"
    },
    "r": {
     "delete_cmd_postfix": ") ",
     "delete_cmd_prefix": "rm(",
     "library": "var_list.r",
     "varRefreshCmd": "cat(var_dic_list()) "
    }
   },
   "position": {
    "height": "607px",
    "left": "1139px",
    "right": "20px",
    "top": "68px",
    "width": "310px"
   },
   "types_to_exclude": [
    "module",
    "function",
    "builtin_function_or_method",
    "instance",
    "_Feature"
   ],
   "window_display": false
  }
 },
 "nbformat": 4,
 "nbformat_minor": 2
}
