{
 "cells": [
  {
   "cell_type": "code",
   "execution_count": null,
   "metadata": {
    "collapsed": true
   },
   "outputs": [],
   "source": []
  },
  {
   "cell_type": "markdown",
   "metadata": {
    "toc": "true"
   },
   "source": [
    "# Table of Contents\n",
    " <p><div class=\"lev1 toc-item\"><a href=\"#New-York-City-Taxi-Trip-Duration---with-preprocessed-data-set\" data-toc-modified-id=\"New-York-City-Taxi-Trip-Duration---with-preprocessed-data-set-1\"><span class=\"toc-item-num\">1&nbsp;&nbsp;</span>New York City Taxi Trip Duration - with preprocessed data set</a></div><div class=\"lev2 toc-item\"><a href=\"#Credit-to:\" data-toc-modified-id=\"Credit-to:-11\"><span class=\"toc-item-num\">1.1&nbsp;&nbsp;</span>Credit to:</a></div><div class=\"lev1 toc-item\"><a href=\"#Load-data\" data-toc-modified-id=\"Load-data-2\"><span class=\"toc-item-num\">2&nbsp;&nbsp;</span>Load data</a></div><div class=\"lev3 toc-item\"><a href=\"#Combine-train-data-and-eval-data\" data-toc-modified-id=\"Combine-train-data-and-eval-data-201\"><span class=\"toc-item-num\">2.0.1&nbsp;&nbsp;</span>Combine train data and eval data</a></div><div class=\"lev1 toc-item\"><a href=\"#Pre-process-data\" data-toc-modified-id=\"Pre-process-data-3\"><span class=\"toc-item-num\">3&nbsp;&nbsp;</span>Pre-process data</a></div><div class=\"lev2 toc-item\"><a href=\"#Check&amp;-Fill--NaN\" data-toc-modified-id=\"Check&amp;-Fill--NaN-31\"><span class=\"toc-item-num\">3.1&nbsp;&nbsp;</span>Check&amp; Fill  NaN</a></div><div class=\"lev3 toc-item\"><a href=\"#FillNA-for-total_distance\" data-toc-modified-id=\"FillNA-for-total_distance-311\"><span class=\"toc-item-num\">3.1.1&nbsp;&nbsp;</span>FillNA for total_distance</a></div><div class=\"lev3 toc-item\"><a href=\"#FillNaN-for-number_of_streets\" data-toc-modified-id=\"FillNaN-for-number_of_streets-312\"><span class=\"toc-item-num\">3.1.2&nbsp;&nbsp;</span>FillNaN for number_of_streets</a></div><div class=\"lev2 toc-item\"><a href=\"#Transform-object-data\" data-toc-modified-id=\"Transform-object-data-32\"><span class=\"toc-item-num\">3.2&nbsp;&nbsp;</span>Transform object data</a></div><div class=\"lev2 toc-item\"><a href=\"#Feature-engineering\" data-toc-modified-id=\"Feature-engineering-33\"><span class=\"toc-item-num\">3.3&nbsp;&nbsp;</span>Feature engineering</a></div><div class=\"lev3 toc-item\"><a href=\"#Check-data\" data-toc-modified-id=\"Check-data-331\"><span class=\"toc-item-num\">3.3.1&nbsp;&nbsp;</span>Check data</a></div><div class=\"lev2 toc-item\"><a href=\"#Clearning-data\" data-toc-modified-id=\"Clearning-data-34\"><span class=\"toc-item-num\">3.4&nbsp;&nbsp;</span>Clearning data</a></div><div class=\"lev3 toc-item\"><a href=\"#Split-train_set-and-eval_set\" data-toc-modified-id=\"Split-train_set-and-eval_set-341\"><span class=\"toc-item-num\">3.4.1&nbsp;&nbsp;</span>Split train_set and eval_set</a></div><div class=\"lev3 toc-item\"><a href=\"#Trip-duration-outliner\" data-toc-modified-id=\"Trip-duration-outliner-342\"><span class=\"toc-item-num\">3.4.2&nbsp;&nbsp;</span>Trip duration outliner</a></div><div class=\"lev4 toc-item\"><a href=\"#Search-for-outliner\" data-toc-modified-id=\"Search-for-outliner-3421\"><span class=\"toc-item-num\">3.4.2.1&nbsp;&nbsp;</span>Search for outliner</a></div><div class=\"lev4 toc-item\"><a href=\"#Drop-trip-duration-outliner\" data-toc-modified-id=\"Drop-trip-duration-outliner-3422\"><span class=\"toc-item-num\">3.4.2.2&nbsp;&nbsp;</span>Drop trip-duration outliner</a></div><div class=\"lev4 toc-item\"><a href=\"#drop-trip_duration=0\" data-toc-modified-id=\"drop-trip_duration=0-3423\"><span class=\"toc-item-num\">3.4.2.3&nbsp;&nbsp;</span>drop trip_duration=0</a></div><div class=\"lev3 toc-item\"><a href=\"#Trip-duration-distribution\" data-toc-modified-id=\"Trip-duration-distribution-343\"><span class=\"toc-item-num\">3.4.3&nbsp;&nbsp;</span>Trip duration distribution</a></div><div class=\"lev2 toc-item\"><a href=\"#Feature-scaling-(not-use)\" data-toc-modified-id=\"Feature-scaling-(not-use)-35\"><span class=\"toc-item-num\">3.5&nbsp;&nbsp;</span>Feature scaling (not use)</a></div><div class=\"lev2 toc-item\"><a href=\"#Feature-correlation\" data-toc-modified-id=\"Feature-correlation-36\"><span class=\"toc-item-num\">3.6&nbsp;&nbsp;</span>Feature correlation</a></div><div class=\"lev1 toc-item\"><a href=\"#Train-model\" data-toc-modified-id=\"Train-model-4\"><span class=\"toc-item-num\">4&nbsp;&nbsp;</span>Train model</a></div><div class=\"lev2 toc-item\"><a href=\"#Model-definition\" data-toc-modified-id=\"Model-definition-41\"><span class=\"toc-item-num\">4.1&nbsp;&nbsp;</span>Model definition</a></div><div class=\"lev3 toc-item\"><a href=\"#Split-train/test-set\" data-toc-modified-id=\"Split-train/test-set-411\"><span class=\"toc-item-num\">4.1.1&nbsp;&nbsp;</span>Split train/test set</a></div><div class=\"lev2 toc-item\"><a href=\"#Train-data\" data-toc-modified-id=\"Train-data-42\"><span class=\"toc-item-num\">4.2&nbsp;&nbsp;</span>Train data</a></div><div class=\"lev3 toc-item\"><a href=\"#Predict-for-test-data\" data-toc-modified-id=\"Predict-for-test-data-421\"><span class=\"toc-item-num\">4.2.1&nbsp;&nbsp;</span>Predict for test data</a></div><div class=\"lev3 toc-item\"><a href=\"#Feature-importances\" data-toc-modified-id=\"Feature-importances-422\"><span class=\"toc-item-num\">4.2.2&nbsp;&nbsp;</span>Feature importances</a></div><div class=\"lev1 toc-item\"><a href=\"#Predict-and-save-submission\" data-toc-modified-id=\"Predict-and-save-submission-5\"><span class=\"toc-item-num\">5&nbsp;&nbsp;</span>Predict and save submission</a></div><div class=\"lev2 toc-item\"><a href=\"#Leader-board\" data-toc-modified-id=\"Leader-board-51\"><span class=\"toc-item-num\">5.1&nbsp;&nbsp;</span>Leader board</a></div>"
   ]
  },
  {
   "cell_type": "markdown",
   "metadata": {},
   "source": [
    "# New York City Taxi Trip Duration - with preprocessed data set\n",
    "- Share code and data to improve ride time predictions\n",
    "- https://www.kaggle.com/c/nyc-taxi-trip-duration/data\n",
    "- install: http://jupyter-contrib-nbextensions.readthedocs.io/en/latest/install.html\n",
    "- install: https://github.com/Jupyter-contrib/jupyter_nbextensions_configurator\n",
    "- install GDAL: https://sandbox.idre.ucla.edu/sandbox/tutorials/installing-gdal-for-windows\n",
    "- install osmnx: http://geoffboeing.com/2014/09/using-geopandas-windows/\n"
   ]
  },
  {
   "cell_type": "markdown",
   "metadata": {},
   "source": [
    "## Credit to:\n",
    "- https://www.kaggle.com/ankasor/driving-distance-using-open-street-maps-data/notebook\n",
    "- https://www.kaggle.com/oscarleo/new-york-city-taxi-with-osrm\n",
    "- https://www.kaggle.com/gaborfodor/from-eda-to-the-top-lb-0-368/notebook"
   ]
  },
  {
   "cell_type": "code",
   "execution_count": 1,
   "metadata": {
    "ExecuteTime": {
     "end_time": "2017-07-29T01:17:46.268962Z",
     "start_time": "2017-07-29T01:17:38.482910Z"
    }
   },
   "outputs": [
    {
     "name": "stderr",
     "output_type": "stream",
     "text": [
      "c:\\users\\le anh tuan\\appdata\\local\\programs\\python\\python35\\lib\\site-packages\\sklearn\\cross_validation.py:44: DeprecationWarning: This module was deprecated in version 0.18 in favor of the model_selection module into which all the refactored classes and functions are moved. Also note that the interface of the new CV iterators are different from that of this module. This module will be removed in 0.20.\n",
      "  \"This module will be removed in 0.20.\", DeprecationWarning)\n",
      "c:\\users\\le anh tuan\\appdata\\local\\programs\\python\\python35\\lib\\site-packages\\sklearn\\grid_search.py:43: DeprecationWarning: This module was deprecated in version 0.18 in favor of the model_selection module into which all the refactored classes and functions are moved. This module will be removed in 0.20.\n",
      "  DeprecationWarning)\n"
     ]
    }
   ],
   "source": [
    "# data processing\n",
    "import pandas as pd\n",
    "import matplotlib.pyplot as plt\n",
    "import seaborn as sns\n",
    "import numpy as np\n",
    "from math import sqrt\n",
    "from scipy import stats\n",
    "from scipy.stats import norm\n",
    "import math\n",
    "from math import radians, cos, sin, asin, sqrt\n",
    "from numpy import sort\n",
    "\n",
    "# ML\n",
    "# # Scikit-learn\n",
    "from sklearn.preprocessing import StandardScaler\n",
    "from sklearn.tree import DecisionTreeRegressor\n",
    "from sklearn.linear_model import LinearRegression\n",
    "from sklearn.ensemble import RandomForestRegressor, AdaBoostRegressor, GradientBoostingRegressor, ExtraTreesRegressor\n",
    "from sklearn.model_selection import cross_val_score, train_test_split, learning_curve, validation_curve, KFold\n",
    "from sklearn.metrics import mean_squared_error, make_scorer\n",
    "from sklearn.grid_search import GridSearchCV\n",
    "from sklearn.preprocessing import LabelEncoder, StandardScaler\n",
    "from sklearn.feature_selection import SelectFromModel\n",
    "# # XGB\n",
    "from xgboost.sklearn import XGBRegressor\n",
    "import xgboost as xgb\n",
    "from xgboost import plot_importance\n",
    "# # CatBoost\n",
    "#from catboost import Pool, CatBoostRegressor, cv, CatboostIpythonWidget\n",
    "# System\n",
    "import datetime as dtime\n",
    "from datetime import datetime\n",
    "import sys\n",
    "from inspect import getsourcefile\n",
    "import os.path\n",
    "import re\n",
    "import time\n",
    "\n",
    "# Other\n",
    "from geographiclib.geodesic import Geodesic\n",
    "#import osmnx as ox\n",
    "#import networkx as nx\n",
    "\n",
    "import warnings\n",
    "warnings.filterwarnings('ignore')\n",
    "%matplotlib inline"
   ]
  },
  {
   "cell_type": "markdown",
   "metadata": {},
   "source": [
    "# Load data"
   ]
  },
  {
   "cell_type": "code",
   "execution_count": 2,
   "metadata": {
    "ExecuteTime": {
     "end_time": "2017-07-29T01:18:01.704372Z",
     "start_time": "2017-07-29T01:17:46.270962Z"
    },
    "collapsed": true
   },
   "outputs": [],
   "source": [
    "pd.options.display.float_format = '{:,.4f}'.format\n",
    "# Input data files are available in the DATA_DIR directory.\n",
    "DATA_DIR = \"data-temp\"\n",
    "# Load data. Download from:https://www.kaggle.com/c/nyc-taxi-trip-duration/data\n",
    "train_data = pd.read_csv(DATA_DIR + \"/train_pre.csv\")\n",
    "eval_data =  pd.read_csv(DATA_DIR + \"/test_pre.csv\")"
   ]
  },
  {
   "cell_type": "code",
   "execution_count": 3,
   "metadata": {
    "ExecuteTime": {
     "end_time": "2017-07-29T01:18:01.719997Z",
     "start_time": "2017-07-29T01:18:01.704372Z"
    }
   },
   "outputs": [
    {
     "name": "stdout",
     "output_type": "stream",
     "text": [
      "train size: (1458644, 28)  test size: (625134, 27)\n"
     ]
    }
   ],
   "source": [
    "print(\"train size:\", train_data.shape, \" test size:\", eval_data.shape)"
   ]
  },
  {
   "cell_type": "code",
   "execution_count": 4,
   "metadata": {
    "ExecuteTime": {
     "end_time": "2017-07-29T01:18:01.835889Z",
     "start_time": "2017-07-29T01:18:01.719997Z"
    },
    "scrolled": false
   },
   "outputs": [
    {
     "data": {
      "text/html": [
       "<div>\n",
       "<style>\n",
       "    .dataframe thead tr:only-child th {\n",
       "        text-align: right;\n",
       "    }\n",
       "\n",
       "    .dataframe thead th {\n",
       "        text-align: left;\n",
       "    }\n",
       "\n",
       "    .dataframe tbody tr th {\n",
       "        vertical-align: top;\n",
       "    }\n",
       "</style>\n",
       "<table border=\"1\" class=\"dataframe\">\n",
       "  <thead>\n",
       "    <tr style=\"text-align: right;\">\n",
       "      <th></th>\n",
       "      <th>id</th>\n",
       "      <th>vendor_id</th>\n",
       "      <th>passenger_count</th>\n",
       "      <th>pickup_longitude</th>\n",
       "      <th>pickup_latitude</th>\n",
       "      <th>dropoff_longitude</th>\n",
       "      <th>dropoff_latitude</th>\n",
       "      <th>store_and_fwd_flag</th>\n",
       "      <th>total_distance</th>\n",
       "      <th>number_of_streets</th>\n",
       "      <th>...</th>\n",
       "      <th>haversine_distance</th>\n",
       "      <th>pickup_hour_speed_mean</th>\n",
       "      <th>pickup_weekday_speed_mean</th>\n",
       "      <th>pickup_day_speed_mean</th>\n",
       "      <th>pickup_month_speed_mean</th>\n",
       "      <th>pickup_hour_duration_mean</th>\n",
       "      <th>pickup_weekday_duration_mean</th>\n",
       "      <th>pickup_day_duration_mean</th>\n",
       "      <th>pickup_month_duration_mean</th>\n",
       "      <th>trip_duration</th>\n",
       "    </tr>\n",
       "  </thead>\n",
       "  <tbody>\n",
       "    <tr>\n",
       "      <th>0</th>\n",
       "      <td>id2875421</td>\n",
       "      <td>2</td>\n",
       "      <td>1</td>\n",
       "      <td>-73.9822</td>\n",
       "      <td>40.7679</td>\n",
       "      <td>-73.9646</td>\n",
       "      <td>40.7656</td>\n",
       "      <td>0</td>\n",
       "      <td>2,009.1000</td>\n",
       "      <td>5.0000</td>\n",
       "      <td>...</td>\n",
       "      <td>1.9488</td>\n",
       "      <td>4.6887</td>\n",
       "      <td>5.6874</td>\n",
       "      <td>5.4938</td>\n",
       "      <td>5.3419</td>\n",
       "      <td>428.5008</td>\n",
       "      <td>353.2537</td>\n",
       "      <td>365.7008</td>\n",
       "      <td>376.1030</td>\n",
       "      <td>455</td>\n",
       "    </tr>\n",
       "    <tr>\n",
       "      <th>1</th>\n",
       "      <td>id2377394</td>\n",
       "      <td>1</td>\n",
       "      <td>1</td>\n",
       "      <td>-73.9804</td>\n",
       "      <td>40.7386</td>\n",
       "      <td>-73.9995</td>\n",
       "      <td>40.7312</td>\n",
       "      <td>0</td>\n",
       "      <td>2,513.2000</td>\n",
       "      <td>6.0000</td>\n",
       "      <td>...</td>\n",
       "      <td>2.1308</td>\n",
       "      <td>6.6375</td>\n",
       "      <td>6.2816</td>\n",
       "      <td>5.5073</td>\n",
       "      <td>5.3912</td>\n",
       "      <td>378.6352</td>\n",
       "      <td>400.0920</td>\n",
       "      <td>456.3357</td>\n",
       "      <td>466.1686</td>\n",
       "      <td>663</td>\n",
       "    </tr>\n",
       "    <tr>\n",
       "      <th>2</th>\n",
       "      <td>id3858529</td>\n",
       "      <td>2</td>\n",
       "      <td>1</td>\n",
       "      <td>-73.9790</td>\n",
       "      <td>40.7639</td>\n",
       "      <td>-74.0053</td>\n",
       "      <td>40.7101</td>\n",
       "      <td>0</td>\n",
       "      <td>11,060.8000</td>\n",
       "      <td>16.0000</td>\n",
       "      <td>...</td>\n",
       "      <td>3.3569</td>\n",
       "      <td>4.7020</td>\n",
       "      <td>5.1908</td>\n",
       "      <td>5.4773</td>\n",
       "      <td>5.4949</td>\n",
       "      <td>2,352.3448</td>\n",
       "      <td>2,130.8661</td>\n",
       "      <td>2,019.4001</td>\n",
       "      <td>2,012.9119</td>\n",
       "      <td>2124</td>\n",
       "    </tr>\n",
       "    <tr>\n",
       "      <th>3</th>\n",
       "      <td>id3504673</td>\n",
       "      <td>2</td>\n",
       "      <td>1</td>\n",
       "      <td>-74.0100</td>\n",
       "      <td>40.7200</td>\n",
       "      <td>-74.0123</td>\n",
       "      <td>40.7067</td>\n",
       "      <td>0</td>\n",
       "      <td>1,779.4000</td>\n",
       "      <td>4.0000</td>\n",
       "      <td>...</td>\n",
       "      <td>0.4752</td>\n",
       "      <td>5.0890</td>\n",
       "      <td>5.0525</td>\n",
       "      <td>5.5201</td>\n",
       "      <td>5.3554</td>\n",
       "      <td>349.6590</td>\n",
       "      <td>352.1824</td>\n",
       "      <td>322.3486</td>\n",
       "      <td>332.2640</td>\n",
       "      <td>429</td>\n",
       "    </tr>\n",
       "    <tr>\n",
       "      <th>4</th>\n",
       "      <td>id2181028</td>\n",
       "      <td>2</td>\n",
       "      <td>1</td>\n",
       "      <td>-73.9731</td>\n",
       "      <td>40.7932</td>\n",
       "      <td>-73.9729</td>\n",
       "      <td>40.7825</td>\n",
       "      <td>0</td>\n",
       "      <td>1,614.9000</td>\n",
       "      <td>5.0000</td>\n",
       "      <td>...</td>\n",
       "      <td>0.3283</td>\n",
       "      <td>4.7184</td>\n",
       "      <td>5.6155</td>\n",
       "      <td>5.4610</td>\n",
       "      <td>5.3419</td>\n",
       "      <td>342.2581</td>\n",
       "      <td>287.5767</td>\n",
       "      <td>295.7177</td>\n",
       "      <td>302.3089</td>\n",
       "      <td>435</td>\n",
       "    </tr>\n",
       "  </tbody>\n",
       "</table>\n",
       "<p>5 rows × 28 columns</p>\n",
       "</div>"
      ],
      "text/plain": [
       "          id  vendor_id  passenger_count  pickup_longitude  pickup_latitude  \\\n",
       "0  id2875421          2                1          -73.9822          40.7679   \n",
       "1  id2377394          1                1          -73.9804          40.7386   \n",
       "2  id3858529          2                1          -73.9790          40.7639   \n",
       "3  id3504673          2                1          -74.0100          40.7200   \n",
       "4  id2181028          2                1          -73.9731          40.7932   \n",
       "\n",
       "   dropoff_longitude  dropoff_latitude  store_and_fwd_flag  total_distance  \\\n",
       "0           -73.9646           40.7656                   0      2,009.1000   \n",
       "1           -73.9995           40.7312                   0      2,513.2000   \n",
       "2           -74.0053           40.7101                   0     11,060.8000   \n",
       "3           -74.0123           40.7067                   0      1,779.4000   \n",
       "4           -73.9729           40.7825                   0      1,614.9000   \n",
       "\n",
       "   number_of_streets      ...        haversine_distance  \\\n",
       "0             5.0000      ...                    1.9488   \n",
       "1             6.0000      ...                    2.1308   \n",
       "2            16.0000      ...                    3.3569   \n",
       "3             4.0000      ...                    0.4752   \n",
       "4             5.0000      ...                    0.3283   \n",
       "\n",
       "   pickup_hour_speed_mean  pickup_weekday_speed_mean  pickup_day_speed_mean  \\\n",
       "0                  4.6887                     5.6874                 5.4938   \n",
       "1                  6.6375                     6.2816                 5.5073   \n",
       "2                  4.7020                     5.1908                 5.4773   \n",
       "3                  5.0890                     5.0525                 5.5201   \n",
       "4                  4.7184                     5.6155                 5.4610   \n",
       "\n",
       "   pickup_month_speed_mean  pickup_hour_duration_mean  \\\n",
       "0                   5.3419                   428.5008   \n",
       "1                   5.3912                   378.6352   \n",
       "2                   5.4949                 2,352.3448   \n",
       "3                   5.3554                   349.6590   \n",
       "4                   5.3419                   342.2581   \n",
       "\n",
       "   pickup_weekday_duration_mean  pickup_day_duration_mean  \\\n",
       "0                      353.2537                  365.7008   \n",
       "1                      400.0920                  456.3357   \n",
       "2                    2,130.8661                2,019.4001   \n",
       "3                      352.1824                  322.3486   \n",
       "4                      287.5767                  295.7177   \n",
       "\n",
       "   pickup_month_duration_mean  trip_duration  \n",
       "0                    376.1030            455  \n",
       "1                    466.1686            663  \n",
       "2                  2,012.9119           2124  \n",
       "3                    332.2640            429  \n",
       "4                    302.3089            435  \n",
       "\n",
       "[5 rows x 28 columns]"
      ]
     },
     "execution_count": 4,
     "metadata": {},
     "output_type": "execute_result"
    }
   ],
   "source": [
    "train_data.head(5)"
   ]
  },
  {
   "cell_type": "code",
   "execution_count": 5,
   "metadata": {
    "ExecuteTime": {
     "end_time": "2017-07-29T01:18:02.005223Z",
     "start_time": "2017-07-29T01:18:01.835889Z"
    }
   },
   "outputs": [
    {
     "data": {
      "text/html": [
       "<div>\n",
       "<style>\n",
       "    .dataframe thead tr:only-child th {\n",
       "        text-align: right;\n",
       "    }\n",
       "\n",
       "    .dataframe thead th {\n",
       "        text-align: left;\n",
       "    }\n",
       "\n",
       "    .dataframe tbody tr th {\n",
       "        vertical-align: top;\n",
       "    }\n",
       "</style>\n",
       "<table border=\"1\" class=\"dataframe\">\n",
       "  <thead>\n",
       "    <tr style=\"text-align: right;\">\n",
       "      <th></th>\n",
       "      <th>id</th>\n",
       "      <th>vendor_id</th>\n",
       "      <th>passenger_count</th>\n",
       "      <th>pickup_longitude</th>\n",
       "      <th>pickup_latitude</th>\n",
       "      <th>dropoff_longitude</th>\n",
       "      <th>dropoff_latitude</th>\n",
       "      <th>store_and_fwd_flag</th>\n",
       "      <th>total_distance</th>\n",
       "      <th>number_of_streets</th>\n",
       "      <th>...</th>\n",
       "      <th>end_street_tf</th>\n",
       "      <th>haversine_distance</th>\n",
       "      <th>pickup_hour_speed_mean</th>\n",
       "      <th>pickup_weekday_speed_mean</th>\n",
       "      <th>pickup_day_speed_mean</th>\n",
       "      <th>pickup_month_speed_mean</th>\n",
       "      <th>pickup_hour_duration_mean</th>\n",
       "      <th>pickup_weekday_duration_mean</th>\n",
       "      <th>pickup_day_duration_mean</th>\n",
       "      <th>pickup_month_duration_mean</th>\n",
       "    </tr>\n",
       "  </thead>\n",
       "  <tbody>\n",
       "    <tr>\n",
       "      <th>0</th>\n",
       "      <td>id3004672</td>\n",
       "      <td>1</td>\n",
       "      <td>1</td>\n",
       "      <td>-73.9881</td>\n",
       "      <td>40.7320</td>\n",
       "      <td>-73.9902</td>\n",
       "      <td>40.7567</td>\n",
       "      <td>0</td>\n",
       "      <td>3,795.9000</td>\n",
       "      <td>4.0000</td>\n",
       "      <td>...</td>\n",
       "      <td>678.0000</td>\n",
       "      <td>0.7890</td>\n",
       "      <td>6.3584</td>\n",
       "      <td>5.0712</td>\n",
       "      <td>5.5545</td>\n",
       "      <td>5.3912</td>\n",
       "      <td>596.9908</td>\n",
       "      <td>748.5231</td>\n",
       "      <td>683.3937</td>\n",
       "      <td>704.0941</td>\n",
       "    </tr>\n",
       "    <tr>\n",
       "      <th>1</th>\n",
       "      <td>id3505355</td>\n",
       "      <td>1</td>\n",
       "      <td>1</td>\n",
       "      <td>-73.9642</td>\n",
       "      <td>40.6800</td>\n",
       "      <td>-73.9598</td>\n",
       "      <td>40.6554</td>\n",
       "      <td>0</td>\n",
       "      <td>2,904.5000</td>\n",
       "      <td>4.0000</td>\n",
       "      <td>...</td>\n",
       "      <td>2,520.0000</td>\n",
       "      <td>0.8991</td>\n",
       "      <td>6.3584</td>\n",
       "      <td>5.0712</td>\n",
       "      <td>5.5545</td>\n",
       "      <td>5.3912</td>\n",
       "      <td>456.7980</td>\n",
       "      <td>572.7457</td>\n",
       "      <td>522.9108</td>\n",
       "      <td>538.7501</td>\n",
       "    </tr>\n",
       "    <tr>\n",
       "      <th>2</th>\n",
       "      <td>id1217141</td>\n",
       "      <td>1</td>\n",
       "      <td>1</td>\n",
       "      <td>-73.9974</td>\n",
       "      <td>40.7376</td>\n",
       "      <td>-73.9862</td>\n",
       "      <td>40.7295</td>\n",
       "      <td>0</td>\n",
       "      <td>1,499.5000</td>\n",
       "      <td>4.0000</td>\n",
       "      <td>...</td>\n",
       "      <td>2,028.0000</td>\n",
       "      <td>1.2772</td>\n",
       "      <td>6.3584</td>\n",
       "      <td>5.0712</td>\n",
       "      <td>5.5545</td>\n",
       "      <td>5.3912</td>\n",
       "      <td>235.8301</td>\n",
       "      <td>295.6902</td>\n",
       "      <td>269.9620</td>\n",
       "      <td>278.1394</td>\n",
       "    </tr>\n",
       "    <tr>\n",
       "      <th>3</th>\n",
       "      <td>id2150126</td>\n",
       "      <td>2</td>\n",
       "      <td>1</td>\n",
       "      <td>-73.9561</td>\n",
       "      <td>40.7719</td>\n",
       "      <td>-73.9864</td>\n",
       "      <td>40.7305</td>\n",
       "      <td>0</td>\n",
       "      <td>7,023.9000</td>\n",
       "      <td>11.0000</td>\n",
       "      <td>...</td>\n",
       "      <td>2,039.0000</td>\n",
       "      <td>3.6051</td>\n",
       "      <td>6.3584</td>\n",
       "      <td>5.0712</td>\n",
       "      <td>5.5545</td>\n",
       "      <td>5.3912</td>\n",
       "      <td>1,104.6665</td>\n",
       "      <td>1,385.0606</td>\n",
       "      <td>1,264.5457</td>\n",
       "      <td>1,302.8496</td>\n",
       "    </tr>\n",
       "    <tr>\n",
       "      <th>4</th>\n",
       "      <td>id1598245</td>\n",
       "      <td>1</td>\n",
       "      <td>1</td>\n",
       "      <td>-73.9702</td>\n",
       "      <td>40.7615</td>\n",
       "      <td>-73.9615</td>\n",
       "      <td>40.7559</td>\n",
       "      <td>0</td>\n",
       "      <td>1,108.2000</td>\n",
       "      <td>4.0000</td>\n",
       "      <td>...</td>\n",
       "      <td>2,212.0000</td>\n",
       "      <td>0.9824</td>\n",
       "      <td>6.3584</td>\n",
       "      <td>5.0712</td>\n",
       "      <td>5.5545</td>\n",
       "      <td>5.3912</td>\n",
       "      <td>174.2894</td>\n",
       "      <td>218.5288</td>\n",
       "      <td>199.5145</td>\n",
       "      <td>205.5579</td>\n",
       "    </tr>\n",
       "  </tbody>\n",
       "</table>\n",
       "<p>5 rows × 27 columns</p>\n",
       "</div>"
      ],
      "text/plain": [
       "          id  vendor_id  passenger_count  pickup_longitude  pickup_latitude  \\\n",
       "0  id3004672          1                1          -73.9881          40.7320   \n",
       "1  id3505355          1                1          -73.9642          40.6800   \n",
       "2  id1217141          1                1          -73.9974          40.7376   \n",
       "3  id2150126          2                1          -73.9561          40.7719   \n",
       "4  id1598245          1                1          -73.9702          40.7615   \n",
       "\n",
       "   dropoff_longitude  dropoff_latitude  store_and_fwd_flag  total_distance  \\\n",
       "0           -73.9902           40.7567                   0      3,795.9000   \n",
       "1           -73.9598           40.6554                   0      2,904.5000   \n",
       "2           -73.9862           40.7295                   0      1,499.5000   \n",
       "3           -73.9864           40.7305                   0      7,023.9000   \n",
       "4           -73.9615           40.7559                   0      1,108.2000   \n",
       "\n",
       "   number_of_streets             ...              end_street_tf  \\\n",
       "0             4.0000             ...                   678.0000   \n",
       "1             4.0000             ...                 2,520.0000   \n",
       "2             4.0000             ...                 2,028.0000   \n",
       "3            11.0000             ...                 2,039.0000   \n",
       "4             4.0000             ...                 2,212.0000   \n",
       "\n",
       "   haversine_distance  pickup_hour_speed_mean  pickup_weekday_speed_mean  \\\n",
       "0              0.7890                  6.3584                     5.0712   \n",
       "1              0.8991                  6.3584                     5.0712   \n",
       "2              1.2772                  6.3584                     5.0712   \n",
       "3              3.6051                  6.3584                     5.0712   \n",
       "4              0.9824                  6.3584                     5.0712   \n",
       "\n",
       "   pickup_day_speed_mean  pickup_month_speed_mean  pickup_hour_duration_mean  \\\n",
       "0                 5.5545                   5.3912                   596.9908   \n",
       "1                 5.5545                   5.3912                   456.7980   \n",
       "2                 5.5545                   5.3912                   235.8301   \n",
       "3                 5.5545                   5.3912                 1,104.6665   \n",
       "4                 5.5545                   5.3912                   174.2894   \n",
       "\n",
       "   pickup_weekday_duration_mean  pickup_day_duration_mean  \\\n",
       "0                      748.5231                  683.3937   \n",
       "1                      572.7457                  522.9108   \n",
       "2                      295.6902                  269.9620   \n",
       "3                    1,385.0606                1,264.5457   \n",
       "4                      218.5288                  199.5145   \n",
       "\n",
       "   pickup_month_duration_mean  \n",
       "0                    704.0941  \n",
       "1                    538.7501  \n",
       "2                    278.1394  \n",
       "3                  1,302.8496  \n",
       "4                    205.5579  \n",
       "\n",
       "[5 rows x 27 columns]"
      ]
     },
     "execution_count": 5,
     "metadata": {},
     "output_type": "execute_result"
    }
   ],
   "source": [
    "eval_data.head(5)"
   ]
  },
  {
   "cell_type": "code",
   "execution_count": 6,
   "metadata": {
    "ExecuteTime": {
     "end_time": "2017-07-29T01:18:02.083352Z",
     "start_time": "2017-07-29T01:18:02.005223Z"
    }
   },
   "outputs": [
    {
     "data": {
      "text/plain": [
       "array(['trip_duration'], dtype=object)"
      ]
     },
     "execution_count": 6,
     "metadata": {},
     "output_type": "execute_result"
    }
   ],
   "source": [
    "diff_cols = np.setdiff1d(train_data.columns.values, eval_data.columns.values)\n",
    "diff_cols"
   ]
  },
  {
   "cell_type": "markdown",
   "metadata": {},
   "source": [
    "### Combine train data and eval data"
   ]
  },
  {
   "cell_type": "code",
   "execution_count": 7,
   "metadata": {
    "ExecuteTime": {
     "end_time": "2017-07-29T01:18:58.695655Z",
     "start_time": "2017-07-29T01:18:57.847382Z"
    }
   },
   "outputs": [
    {
     "name": "stdout",
     "output_type": "stream",
     "text": [
      "combine data: 2083778\n"
     ]
    },
    {
     "data": {
      "text/html": [
       "<div>\n",
       "<style>\n",
       "    .dataframe thead tr:only-child th {\n",
       "        text-align: right;\n",
       "    }\n",
       "\n",
       "    .dataframe thead th {\n",
       "        text-align: left;\n",
       "    }\n",
       "\n",
       "    .dataframe tbody tr th {\n",
       "        vertical-align: top;\n",
       "    }\n",
       "</style>\n",
       "<table border=\"1\" class=\"dataframe\">\n",
       "  <thead>\n",
       "    <tr style=\"text-align: right;\">\n",
       "      <th></th>\n",
       "      <th></th>\n",
       "      <th>id</th>\n",
       "      <th>vendor_id</th>\n",
       "      <th>passenger_count</th>\n",
       "      <th>pickup_longitude</th>\n",
       "      <th>pickup_latitude</th>\n",
       "      <th>dropoff_longitude</th>\n",
       "      <th>dropoff_latitude</th>\n",
       "      <th>store_and_fwd_flag</th>\n",
       "      <th>total_distance</th>\n",
       "      <th>number_of_streets</th>\n",
       "      <th>...</th>\n",
       "      <th>end_street_tf</th>\n",
       "      <th>haversine_distance</th>\n",
       "      <th>pickup_hour_speed_mean</th>\n",
       "      <th>pickup_weekday_speed_mean</th>\n",
       "      <th>pickup_day_speed_mean</th>\n",
       "      <th>pickup_month_speed_mean</th>\n",
       "      <th>pickup_hour_duration_mean</th>\n",
       "      <th>pickup_weekday_duration_mean</th>\n",
       "      <th>pickup_day_duration_mean</th>\n",
       "      <th>pickup_month_duration_mean</th>\n",
       "    </tr>\n",
       "  </thead>\n",
       "  <tbody>\n",
       "    <tr>\n",
       "      <th rowspan=\"5\" valign=\"top\">train</th>\n",
       "      <th>0</th>\n",
       "      <td>id2875421</td>\n",
       "      <td>2</td>\n",
       "      <td>1</td>\n",
       "      <td>-73.9822</td>\n",
       "      <td>40.7679</td>\n",
       "      <td>-73.9646</td>\n",
       "      <td>40.7656</td>\n",
       "      <td>0</td>\n",
       "      <td>2,009.1000</td>\n",
       "      <td>5.0000</td>\n",
       "      <td>...</td>\n",
       "      <td>2,224.0000</td>\n",
       "      <td>1.9488</td>\n",
       "      <td>4.6887</td>\n",
       "      <td>5.6874</td>\n",
       "      <td>5.4938</td>\n",
       "      <td>5.3419</td>\n",
       "      <td>428.5008</td>\n",
       "      <td>353.2537</td>\n",
       "      <td>365.7008</td>\n",
       "      <td>376.1030</td>\n",
       "    </tr>\n",
       "    <tr>\n",
       "      <th>1</th>\n",
       "      <td>id2377394</td>\n",
       "      <td>1</td>\n",
       "      <td>1</td>\n",
       "      <td>-73.9804</td>\n",
       "      <td>40.7386</td>\n",
       "      <td>-73.9995</td>\n",
       "      <td>40.7312</td>\n",
       "      <td>0</td>\n",
       "      <td>2,513.2000</td>\n",
       "      <td>6.0000</td>\n",
       "      <td>...</td>\n",
       "      <td>5,465.0000</td>\n",
       "      <td>2.1308</td>\n",
       "      <td>6.6375</td>\n",
       "      <td>6.2816</td>\n",
       "      <td>5.5073</td>\n",
       "      <td>5.3912</td>\n",
       "      <td>378.6352</td>\n",
       "      <td>400.0920</td>\n",
       "      <td>456.3357</td>\n",
       "      <td>466.1686</td>\n",
       "    </tr>\n",
       "    <tr>\n",
       "      <th>2</th>\n",
       "      <td>id3858529</td>\n",
       "      <td>2</td>\n",
       "      <td>1</td>\n",
       "      <td>-73.9790</td>\n",
       "      <td>40.7639</td>\n",
       "      <td>-74.0053</td>\n",
       "      <td>40.7101</td>\n",
       "      <td>0</td>\n",
       "      <td>11,060.8000</td>\n",
       "      <td>16.0000</td>\n",
       "      <td>...</td>\n",
       "      <td>1,129.0000</td>\n",
       "      <td>3.3569</td>\n",
       "      <td>4.7020</td>\n",
       "      <td>5.1908</td>\n",
       "      <td>5.4773</td>\n",
       "      <td>5.4949</td>\n",
       "      <td>2,352.3448</td>\n",
       "      <td>2,130.8661</td>\n",
       "      <td>2,019.4001</td>\n",
       "      <td>2,012.9119</td>\n",
       "    </tr>\n",
       "    <tr>\n",
       "      <th>3</th>\n",
       "      <td>id3504673</td>\n",
       "      <td>2</td>\n",
       "      <td>1</td>\n",
       "      <td>-74.0100</td>\n",
       "      <td>40.7200</td>\n",
       "      <td>-74.0123</td>\n",
       "      <td>40.7067</td>\n",
       "      <td>0</td>\n",
       "      <td>1,779.4000</td>\n",
       "      <td>4.0000</td>\n",
       "      <td>...</td>\n",
       "      <td>1,308.0000</td>\n",
       "      <td>0.4752</td>\n",
       "      <td>5.0890</td>\n",
       "      <td>5.0525</td>\n",
       "      <td>5.5201</td>\n",
       "      <td>5.3554</td>\n",
       "      <td>349.6590</td>\n",
       "      <td>352.1824</td>\n",
       "      <td>322.3486</td>\n",
       "      <td>332.2640</td>\n",
       "    </tr>\n",
       "    <tr>\n",
       "      <th>4</th>\n",
       "      <td>id2181028</td>\n",
       "      <td>2</td>\n",
       "      <td>1</td>\n",
       "      <td>-73.9731</td>\n",
       "      <td>40.7932</td>\n",
       "      <td>-73.9729</td>\n",
       "      <td>40.7825</td>\n",
       "      <td>0</td>\n",
       "      <td>1,614.9000</td>\n",
       "      <td>5.0000</td>\n",
       "      <td>...</td>\n",
       "      <td>5,735.0000</td>\n",
       "      <td>0.3283</td>\n",
       "      <td>4.7184</td>\n",
       "      <td>5.6155</td>\n",
       "      <td>5.4610</td>\n",
       "      <td>5.3419</td>\n",
       "      <td>342.2581</td>\n",
       "      <td>287.5767</td>\n",
       "      <td>295.7177</td>\n",
       "      <td>302.3089</td>\n",
       "    </tr>\n",
       "  </tbody>\n",
       "</table>\n",
       "<p>5 rows × 27 columns</p>\n",
       "</div>"
      ],
      "text/plain": [
       "                id  vendor_id  passenger_count  pickup_longitude  \\\n",
       "train 0  id2875421          2                1          -73.9822   \n",
       "      1  id2377394          1                1          -73.9804   \n",
       "      2  id3858529          2                1          -73.9790   \n",
       "      3  id3504673          2                1          -74.0100   \n",
       "      4  id2181028          2                1          -73.9731   \n",
       "\n",
       "         pickup_latitude  dropoff_longitude  dropoff_latitude  \\\n",
       "train 0          40.7679           -73.9646           40.7656   \n",
       "      1          40.7386           -73.9995           40.7312   \n",
       "      2          40.7639           -74.0053           40.7101   \n",
       "      3          40.7200           -74.0123           40.7067   \n",
       "      4          40.7932           -73.9729           40.7825   \n",
       "\n",
       "         store_and_fwd_flag  total_distance  number_of_streets  \\\n",
       "train 0                   0      2,009.1000             5.0000   \n",
       "      1                   0      2,513.2000             6.0000   \n",
       "      2                   0     11,060.8000            16.0000   \n",
       "      3                   0      1,779.4000             4.0000   \n",
       "      4                   0      1,614.9000             5.0000   \n",
       "\n",
       "                    ...              end_street_tf  haversine_distance  \\\n",
       "train 0             ...                 2,224.0000              1.9488   \n",
       "      1             ...                 5,465.0000              2.1308   \n",
       "      2             ...                 1,129.0000              3.3569   \n",
       "      3             ...                 1,308.0000              0.4752   \n",
       "      4             ...                 5,735.0000              0.3283   \n",
       "\n",
       "         pickup_hour_speed_mean  pickup_weekday_speed_mean  \\\n",
       "train 0                  4.6887                     5.6874   \n",
       "      1                  6.6375                     6.2816   \n",
       "      2                  4.7020                     5.1908   \n",
       "      3                  5.0890                     5.0525   \n",
       "      4                  4.7184                     5.6155   \n",
       "\n",
       "         pickup_day_speed_mean  pickup_month_speed_mean  \\\n",
       "train 0                 5.4938                   5.3419   \n",
       "      1                 5.5073                   5.3912   \n",
       "      2                 5.4773                   5.4949   \n",
       "      3                 5.5201                   5.3554   \n",
       "      4                 5.4610                   5.3419   \n",
       "\n",
       "         pickup_hour_duration_mean  pickup_weekday_duration_mean  \\\n",
       "train 0                   428.5008                      353.2537   \n",
       "      1                   378.6352                      400.0920   \n",
       "      2                 2,352.3448                    2,130.8661   \n",
       "      3                   349.6590                      352.1824   \n",
       "      4                   342.2581                      287.5767   \n",
       "\n",
       "         pickup_day_duration_mean  pickup_month_duration_mean  \n",
       "train 0                  365.7008                    376.1030  \n",
       "      1                  456.3357                    466.1686  \n",
       "      2                2,019.4001                  2,012.9119  \n",
       "      3                  322.3486                    332.2640  \n",
       "      4                  295.7177                    302.3089  \n",
       "\n",
       "[5 rows x 27 columns]"
      ]
     },
     "execution_count": 7,
     "metadata": {},
     "output_type": "execute_result"
    }
   ],
   "source": [
    "label = 'trip_duration'\n",
    "features = eval_data.columns.values\n",
    "target = train_data[label]\n",
    "combine_data = pd.concat([train_data[features], eval_data], keys=['train','eval'])\n",
    "print(\"combine data:\", len(combine_data))\n",
    "combine_data.head(5)"
   ]
  },
  {
   "cell_type": "code",
   "execution_count": 8,
   "metadata": {
    "ExecuteTime": {
     "end_time": "2017-07-29T01:18:58.717446Z",
     "start_time": "2017-07-29T01:18:58.697162Z"
    },
    "collapsed": true
   },
   "outputs": [],
   "source": [
    "del train_data\n",
    "del eval_data"
   ]
  },
  {
   "cell_type": "markdown",
   "metadata": {},
   "source": [
    "# Pre-process data"
   ]
  },
  {
   "cell_type": "markdown",
   "metadata": {},
   "source": [
    "## Check& Fill  NaN "
   ]
  },
  {
   "cell_type": "code",
   "execution_count": 9,
   "metadata": {
    "ExecuteTime": {
     "end_time": "2017-07-29T01:18:58.880214Z",
     "start_time": "2017-07-29T01:18:58.848963Z"
    },
    "collapsed": true
   },
   "outputs": [],
   "source": [
    "def check_null_data(data):\n",
    "    #Get high percent of NaN data\n",
    "    null_data = data.isnull()\n",
    "    total = null_data.sum().sort_values(ascending=False)\n",
    "    percent = (null_data.sum()/null_data.count()).sort_values(ascending=False)\n",
    "    missing_data = pd.concat([total, percent], axis=1, keys=['Total', 'Percent'])\n",
    "    high_percent_miss_data = missing_data[missing_data['Percent']>0]\n",
    "    #print(missing_data)\n",
    "    print(high_percent_miss_data)\n",
    "    miss_data_cols = high_percent_miss_data.index.values\n",
    "    return miss_data_cols"
   ]
  },
  {
   "cell_type": "code",
   "execution_count": 10,
   "metadata": {
    "ExecuteTime": {
     "end_time": "2017-07-29T01:19:01.324467Z",
     "start_time": "2017-07-29T01:18:58.880214Z"
    },
    "scrolled": true
   },
   "outputs": [
    {
     "name": "stdout",
     "output_type": "stream",
     "text": [
      "Empty DataFrame\n",
      "Columns: [Total, Percent]\n",
      "Index: []\n"
     ]
    },
    {
     "data": {
      "text/plain": [
       "array([], dtype=object)"
      ]
     },
     "execution_count": 10,
     "metadata": {},
     "output_type": "execute_result"
    }
   ],
   "source": [
    "# combine data for null\n",
    "check_null_data(combine_data)"
   ]
  },
  {
   "cell_type": "code",
   "execution_count": 11,
   "metadata": {
    "ExecuteTime": {
     "end_time": "2017-07-29T01:19:01.340092Z",
     "start_time": "2017-07-29T01:19:01.324467Z"
    },
    "scrolled": false
   },
   "outputs": [
    {
     "data": {
      "text/plain": [
       "id                               object\n",
       "vendor_id                         int64\n",
       "passenger_count                   int64\n",
       "pickup_longitude                float64\n",
       "pickup_latitude                 float64\n",
       "dropoff_longitude               float64\n",
       "dropoff_latitude                float64\n",
       "store_and_fwd_flag                int64\n",
       "total_distance                  float64\n",
       "number_of_streets               float64\n",
       "pickup_year                       int64\n",
       "pickup_month                      int64\n",
       "pickup_weekday                    int64\n",
       "pickup_day                        int64\n",
       "pickup_hour                       int64\n",
       "pickup_minute                     int64\n",
       "starting_street_tf              float64\n",
       "end_street_tf                   float64\n",
       "haversine_distance              float64\n",
       "pickup_hour_speed_mean          float64\n",
       "pickup_weekday_speed_mean       float64\n",
       "pickup_day_speed_mean           float64\n",
       "pickup_month_speed_mean         float64\n",
       "pickup_hour_duration_mean       float64\n",
       "pickup_weekday_duration_mean    float64\n",
       "pickup_day_duration_mean        float64\n",
       "pickup_month_duration_mean      float64\n",
       "dtype: object"
      ]
     },
     "execution_count": 11,
     "metadata": {},
     "output_type": "execute_result"
    }
   ],
   "source": [
    "combine_data.dtypes"
   ]
  },
  {
   "cell_type": "markdown",
   "metadata": {},
   "source": [
    "### FillNA for total_distance"
   ]
  },
  {
   "cell_type": "code",
   "execution_count": 12,
   "metadata": {
    "ExecuteTime": {
     "end_time": "2017-07-29T01:19:25.235504Z",
     "start_time": "2017-07-29T01:19:25.219826Z"
    },
    "collapsed": true
   },
   "outputs": [],
   "source": [
    "combine_data['total_distance'].fillna(0, inplace=True)"
   ]
  },
  {
   "cell_type": "markdown",
   "metadata": {},
   "source": [
    "### FillNaN for number_of_streets"
   ]
  },
  {
   "cell_type": "code",
   "execution_count": 13,
   "metadata": {
    "ExecuteTime": {
     "end_time": "2017-07-29T01:19:25.652363Z",
     "start_time": "2017-07-29T01:19:25.636736Z"
    },
    "collapsed": true
   },
   "outputs": [],
   "source": [
    "combine_data['number_of_streets'].fillna(1, inplace=True)"
   ]
  },
  {
   "cell_type": "markdown",
   "metadata": {},
   "source": [
    "## Transform object data"
   ]
  },
  {
   "cell_type": "markdown",
   "metadata": {},
   "source": [
    "## Feature engineering"
   ]
  },
  {
   "cell_type": "markdown",
   "metadata": {},
   "source": [
    "### Check data"
   ]
  },
  {
   "cell_type": "code",
   "execution_count": 14,
   "metadata": {
    "ExecuteTime": {
     "end_time": "2017-07-29T01:20:41.491150Z",
     "start_time": "2017-07-29T01:20:39.529332Z"
    }
   },
   "outputs": [
    {
     "name": "stdout",
     "output_type": "stream",
     "text": [
      "Empty DataFrame\n",
      "Columns: [Total, Percent]\n",
      "Index: []\n"
     ]
    },
    {
     "data": {
      "text/plain": [
       "array([], dtype=object)"
      ]
     },
     "execution_count": 14,
     "metadata": {},
     "output_type": "execute_result"
    }
   ],
   "source": [
    "check_null_data(combine_data)"
   ]
  },
  {
   "cell_type": "markdown",
   "metadata": {},
   "source": [
    "## Clearning data"
   ]
  },
  {
   "cell_type": "markdown",
   "metadata": {},
   "source": [
    "### Split train_set and eval_set"
   ]
  },
  {
   "cell_type": "code",
   "execution_count": 16,
   "metadata": {
    "ExecuteTime": {
     "end_time": "2017-07-29T01:20:57.295660Z",
     "start_time": "2017-07-29T01:20:56.757571Z"
    }
   },
   "outputs": [
    {
     "data": {
      "text/html": [
       "<div>\n",
       "<style>\n",
       "    .dataframe thead tr:only-child th {\n",
       "        text-align: right;\n",
       "    }\n",
       "\n",
       "    .dataframe thead th {\n",
       "        text-align: left;\n",
       "    }\n",
       "\n",
       "    .dataframe tbody tr th {\n",
       "        vertical-align: top;\n",
       "    }\n",
       "</style>\n",
       "<table border=\"1\" class=\"dataframe\">\n",
       "  <thead>\n",
       "    <tr style=\"text-align: right;\">\n",
       "      <th></th>\n",
       "      <th>id</th>\n",
       "      <th>vendor_id</th>\n",
       "      <th>passenger_count</th>\n",
       "      <th>pickup_longitude</th>\n",
       "      <th>pickup_latitude</th>\n",
       "      <th>dropoff_longitude</th>\n",
       "      <th>dropoff_latitude</th>\n",
       "      <th>store_and_fwd_flag</th>\n",
       "      <th>total_distance</th>\n",
       "      <th>number_of_streets</th>\n",
       "      <th>...</th>\n",
       "      <th>haversine_distance</th>\n",
       "      <th>pickup_hour_speed_mean</th>\n",
       "      <th>pickup_weekday_speed_mean</th>\n",
       "      <th>pickup_day_speed_mean</th>\n",
       "      <th>pickup_month_speed_mean</th>\n",
       "      <th>pickup_hour_duration_mean</th>\n",
       "      <th>pickup_weekday_duration_mean</th>\n",
       "      <th>pickup_day_duration_mean</th>\n",
       "      <th>pickup_month_duration_mean</th>\n",
       "      <th>trip_duration</th>\n",
       "    </tr>\n",
       "  </thead>\n",
       "  <tbody>\n",
       "    <tr>\n",
       "      <th>0</th>\n",
       "      <td>id2875421</td>\n",
       "      <td>2</td>\n",
       "      <td>1</td>\n",
       "      <td>-73.9822</td>\n",
       "      <td>40.7679</td>\n",
       "      <td>-73.9646</td>\n",
       "      <td>40.7656</td>\n",
       "      <td>0</td>\n",
       "      <td>2,009.1000</td>\n",
       "      <td>5.0000</td>\n",
       "      <td>...</td>\n",
       "      <td>1.9488</td>\n",
       "      <td>4.6887</td>\n",
       "      <td>5.6874</td>\n",
       "      <td>5.4938</td>\n",
       "      <td>5.3419</td>\n",
       "      <td>428.5008</td>\n",
       "      <td>353.2537</td>\n",
       "      <td>365.7008</td>\n",
       "      <td>376.1030</td>\n",
       "      <td>455</td>\n",
       "    </tr>\n",
       "    <tr>\n",
       "      <th>1</th>\n",
       "      <td>id2377394</td>\n",
       "      <td>1</td>\n",
       "      <td>1</td>\n",
       "      <td>-73.9804</td>\n",
       "      <td>40.7386</td>\n",
       "      <td>-73.9995</td>\n",
       "      <td>40.7312</td>\n",
       "      <td>0</td>\n",
       "      <td>2,513.2000</td>\n",
       "      <td>6.0000</td>\n",
       "      <td>...</td>\n",
       "      <td>2.1308</td>\n",
       "      <td>6.6375</td>\n",
       "      <td>6.2816</td>\n",
       "      <td>5.5073</td>\n",
       "      <td>5.3912</td>\n",
       "      <td>378.6352</td>\n",
       "      <td>400.0920</td>\n",
       "      <td>456.3357</td>\n",
       "      <td>466.1686</td>\n",
       "      <td>663</td>\n",
       "    </tr>\n",
       "    <tr>\n",
       "      <th>2</th>\n",
       "      <td>id3858529</td>\n",
       "      <td>2</td>\n",
       "      <td>1</td>\n",
       "      <td>-73.9790</td>\n",
       "      <td>40.7639</td>\n",
       "      <td>-74.0053</td>\n",
       "      <td>40.7101</td>\n",
       "      <td>0</td>\n",
       "      <td>11,060.8000</td>\n",
       "      <td>16.0000</td>\n",
       "      <td>...</td>\n",
       "      <td>3.3569</td>\n",
       "      <td>4.7020</td>\n",
       "      <td>5.1908</td>\n",
       "      <td>5.4773</td>\n",
       "      <td>5.4949</td>\n",
       "      <td>2,352.3448</td>\n",
       "      <td>2,130.8661</td>\n",
       "      <td>2,019.4001</td>\n",
       "      <td>2,012.9119</td>\n",
       "      <td>2124</td>\n",
       "    </tr>\n",
       "    <tr>\n",
       "      <th>3</th>\n",
       "      <td>id3504673</td>\n",
       "      <td>2</td>\n",
       "      <td>1</td>\n",
       "      <td>-74.0100</td>\n",
       "      <td>40.7200</td>\n",
       "      <td>-74.0123</td>\n",
       "      <td>40.7067</td>\n",
       "      <td>0</td>\n",
       "      <td>1,779.4000</td>\n",
       "      <td>4.0000</td>\n",
       "      <td>...</td>\n",
       "      <td>0.4752</td>\n",
       "      <td>5.0890</td>\n",
       "      <td>5.0525</td>\n",
       "      <td>5.5201</td>\n",
       "      <td>5.3554</td>\n",
       "      <td>349.6590</td>\n",
       "      <td>352.1824</td>\n",
       "      <td>322.3486</td>\n",
       "      <td>332.2640</td>\n",
       "      <td>429</td>\n",
       "    </tr>\n",
       "    <tr>\n",
       "      <th>4</th>\n",
       "      <td>id2181028</td>\n",
       "      <td>2</td>\n",
       "      <td>1</td>\n",
       "      <td>-73.9731</td>\n",
       "      <td>40.7932</td>\n",
       "      <td>-73.9729</td>\n",
       "      <td>40.7825</td>\n",
       "      <td>0</td>\n",
       "      <td>1,614.9000</td>\n",
       "      <td>5.0000</td>\n",
       "      <td>...</td>\n",
       "      <td>0.3283</td>\n",
       "      <td>4.7184</td>\n",
       "      <td>5.6155</td>\n",
       "      <td>5.4610</td>\n",
       "      <td>5.3419</td>\n",
       "      <td>342.2581</td>\n",
       "      <td>287.5767</td>\n",
       "      <td>295.7177</td>\n",
       "      <td>302.3089</td>\n",
       "      <td>435</td>\n",
       "    </tr>\n",
       "  </tbody>\n",
       "</table>\n",
       "<p>5 rows × 28 columns</p>\n",
       "</div>"
      ],
      "text/plain": [
       "          id  vendor_id  passenger_count  pickup_longitude  pickup_latitude  \\\n",
       "0  id2875421          2                1          -73.9822          40.7679   \n",
       "1  id2377394          1                1          -73.9804          40.7386   \n",
       "2  id3858529          2                1          -73.9790          40.7639   \n",
       "3  id3504673          2                1          -74.0100          40.7200   \n",
       "4  id2181028          2                1          -73.9731          40.7932   \n",
       "\n",
       "   dropoff_longitude  dropoff_latitude  store_and_fwd_flag  total_distance  \\\n",
       "0           -73.9646           40.7656                   0      2,009.1000   \n",
       "1           -73.9995           40.7312                   0      2,513.2000   \n",
       "2           -74.0053           40.7101                   0     11,060.8000   \n",
       "3           -74.0123           40.7067                   0      1,779.4000   \n",
       "4           -73.9729           40.7825                   0      1,614.9000   \n",
       "\n",
       "   number_of_streets      ...        haversine_distance  \\\n",
       "0             5.0000      ...                    1.9488   \n",
       "1             6.0000      ...                    2.1308   \n",
       "2            16.0000      ...                    3.3569   \n",
       "3             4.0000      ...                    0.4752   \n",
       "4             5.0000      ...                    0.3283   \n",
       "\n",
       "   pickup_hour_speed_mean  pickup_weekday_speed_mean  pickup_day_speed_mean  \\\n",
       "0                  4.6887                     5.6874                 5.4938   \n",
       "1                  6.6375                     6.2816                 5.5073   \n",
       "2                  4.7020                     5.1908                 5.4773   \n",
       "3                  5.0890                     5.0525                 5.5201   \n",
       "4                  4.7184                     5.6155                 5.4610   \n",
       "\n",
       "   pickup_month_speed_mean  pickup_hour_duration_mean  \\\n",
       "0                   5.3419                   428.5008   \n",
       "1                   5.3912                   378.6352   \n",
       "2                   5.4949                 2,352.3448   \n",
       "3                   5.3554                   349.6590   \n",
       "4                   5.3419                   342.2581   \n",
       "\n",
       "   pickup_weekday_duration_mean  pickup_day_duration_mean  \\\n",
       "0                      353.2537                  365.7008   \n",
       "1                      400.0920                  456.3357   \n",
       "2                    2,130.8661                2,019.4001   \n",
       "3                      352.1824                  322.3486   \n",
       "4                      287.5767                  295.7177   \n",
       "\n",
       "   pickup_month_duration_mean  trip_duration  \n",
       "0                    376.1030            455  \n",
       "1                    466.1686            663  \n",
       "2                  2,012.9119           2124  \n",
       "3                    332.2640            429  \n",
       "4                    302.3089            435  \n",
       "\n",
       "[5 rows x 28 columns]"
      ]
     },
     "execution_count": 16,
     "metadata": {},
     "output_type": "execute_result"
    }
   ],
   "source": [
    "data = combine_data\n",
    "train_set = data.loc['train']\n",
    "eval_set = data.loc['eval']\n",
    "data = train_set\n",
    "data[label] = target\n",
    "target_log = np.log(target)\n",
    "data[:5]"
   ]
  },
  {
   "cell_type": "markdown",
   "metadata": {},
   "source": [
    "### Trip duration outliner"
   ]
  },
  {
   "cell_type": "markdown",
   "metadata": {},
   "source": [
    "####  Search for outliner"
   ]
  },
  {
   "cell_type": "code",
   "execution_count": 17,
   "metadata": {
    "ExecuteTime": {
     "end_time": "2017-07-29T01:21:28.530031Z",
     "start_time": "2017-07-29T01:21:15.903762Z"
    }
   },
   "outputs": [
    {
     "data": {
      "text/plain": [
       "<matplotlib.collections.PathCollection at 0x1609be64e80>"
      ]
     },
     "execution_count": 17,
     "metadata": {},
     "output_type": "execute_result"
    },
    {
     "data": {
      "image/png": "[encoded data removed]",
      "text/plain": [
       "<matplotlib.figure.Figure at 0x160a2053898>"
      ]
     },
     "metadata": {},
     "output_type": "display_data"
    }
   ],
   "source": [
    "plt.scatter(data.index, data[label])"
   ]
  },
  {
   "cell_type": "markdown",
   "metadata": {},
   "source": [
    " - Note: Outliners are trip_duration> 1800000"
   ]
  },
  {
   "cell_type": "code",
   "execution_count": 18,
   "metadata": {
    "ExecuteTime": {
     "end_time": "2017-07-29T01:22:00.011903Z",
     "start_time": "2017-07-29T01:21:59.827322Z"
    }
   },
   "outputs": [
    {
     "data": {
      "text/html": [
       "<div>\n",
       "<style>\n",
       "    .dataframe thead tr:only-child th {\n",
       "        text-align: right;\n",
       "    }\n",
       "\n",
       "    .dataframe thead th {\n",
       "        text-align: left;\n",
       "    }\n",
       "\n",
       "    .dataframe tbody tr th {\n",
       "        vertical-align: top;\n",
       "    }\n",
       "</style>\n",
       "<table border=\"1\" class=\"dataframe\">\n",
       "  <thead>\n",
       "    <tr style=\"text-align: right;\">\n",
       "      <th></th>\n",
       "      <th>id</th>\n",
       "      <th>vendor_id</th>\n",
       "      <th>passenger_count</th>\n",
       "      <th>pickup_longitude</th>\n",
       "      <th>pickup_latitude</th>\n",
       "      <th>dropoff_longitude</th>\n",
       "      <th>dropoff_latitude</th>\n",
       "      <th>store_and_fwd_flag</th>\n",
       "      <th>total_distance</th>\n",
       "      <th>number_of_streets</th>\n",
       "      <th>...</th>\n",
       "      <th>haversine_distance</th>\n",
       "      <th>pickup_hour_speed_mean</th>\n",
       "      <th>pickup_weekday_speed_mean</th>\n",
       "      <th>pickup_day_speed_mean</th>\n",
       "      <th>pickup_month_speed_mean</th>\n",
       "      <th>pickup_hour_duration_mean</th>\n",
       "      <th>pickup_weekday_duration_mean</th>\n",
       "      <th>pickup_day_duration_mean</th>\n",
       "      <th>pickup_month_duration_mean</th>\n",
       "      <th>trip_duration</th>\n",
       "    </tr>\n",
       "  </thead>\n",
       "  <tbody>\n",
       "    <tr>\n",
       "      <th>355003</th>\n",
       "      <td>id1864733</td>\n",
       "      <td>1</td>\n",
       "      <td>1</td>\n",
       "      <td>-73.7896</td>\n",
       "      <td>40.6436</td>\n",
       "      <td>-73.9568</td>\n",
       "      <td>40.7731</td>\n",
       "      <td>0</td>\n",
       "      <td>29,232.6000</td>\n",
       "      <td>19.0000</td>\n",
       "      <td>...</td>\n",
       "      <td>19.0011</td>\n",
       "      <td>6.6375</td>\n",
       "      <td>5.1908</td>\n",
       "      <td>5.4786</td>\n",
       "      <td>5.4949</td>\n",
       "      <td>4,404.1427</td>\n",
       "      <td>5,631.6684</td>\n",
       "      <td>5,335.8266</td>\n",
       "      <td>5,319.9271</td>\n",
       "      <td>1939736</td>\n",
       "    </tr>\n",
       "    <tr>\n",
       "      <th>680594</th>\n",
       "      <td>id0369307</td>\n",
       "      <td>1</td>\n",
       "      <td>2</td>\n",
       "      <td>-73.9217</td>\n",
       "      <td>40.7353</td>\n",
       "      <td>-73.9847</td>\n",
       "      <td>40.7600</td>\n",
       "      <td>0</td>\n",
       "      <td>7,503.0000</td>\n",
       "      <td>10.0000</td>\n",
       "      <td>...</td>\n",
       "      <td>7.0499</td>\n",
       "      <td>5.9910</td>\n",
       "      <td>5.6155</td>\n",
       "      <td>5.3633</td>\n",
       "      <td>5.4836</td>\n",
       "      <td>1,252.3718</td>\n",
       "      <td>1,336.1122</td>\n",
       "      <td>1,398.9406</td>\n",
       "      <td>1,368.2602</td>\n",
       "      <td>2049578</td>\n",
       "    </tr>\n",
       "    <tr>\n",
       "      <th>924150</th>\n",
       "      <td>id1325766</td>\n",
       "      <td>1</td>\n",
       "      <td>1</td>\n",
       "      <td>-73.9838</td>\n",
       "      <td>40.7423</td>\n",
       "      <td>-73.9855</td>\n",
       "      <td>40.7277</td>\n",
       "      <td>0</td>\n",
       "      <td>2,318.9000</td>\n",
       "      <td>6.0000</td>\n",
       "      <td>...</td>\n",
       "      <td>0.4873</td>\n",
       "      <td>7.7763</td>\n",
       "      <td>5.1908</td>\n",
       "      <td>5.4786</td>\n",
       "      <td>5.4949</td>\n",
       "      <td>298.2027</td>\n",
       "      <td>446.7367</td>\n",
       "      <td>423.2688</td>\n",
       "      <td>422.0076</td>\n",
       "      <td>2227612</td>\n",
       "    </tr>\n",
       "    <tr>\n",
       "      <th>978383</th>\n",
       "      <td>id0053347</td>\n",
       "      <td>1</td>\n",
       "      <td>1</td>\n",
       "      <td>-73.7839</td>\n",
       "      <td>40.6486</td>\n",
       "      <td>-73.9783</td>\n",
       "      <td>40.7502</td>\n",
       "      <td>0</td>\n",
       "      <td>27,223.8000</td>\n",
       "      <td>14.0000</td>\n",
       "      <td>...</td>\n",
       "      <td>21.8251</td>\n",
       "      <td>5.9910</td>\n",
       "      <td>5.6155</td>\n",
       "      <td>5.3633</td>\n",
       "      <td>5.4836</td>\n",
       "      <td>4,544.0917</td>\n",
       "      <td>4,847.9345</td>\n",
       "      <td>5,075.9001</td>\n",
       "      <td>4,964.5797</td>\n",
       "      <td>3526282</td>\n",
       "    </tr>\n",
       "  </tbody>\n",
       "</table>\n",
       "<p>4 rows × 28 columns</p>\n",
       "</div>"
      ],
      "text/plain": [
       "               id  vendor_id  passenger_count  pickup_longitude  \\\n",
       "355003  id1864733          1                1          -73.7896   \n",
       "680594  id0369307          1                2          -73.9217   \n",
       "924150  id1325766          1                1          -73.9838   \n",
       "978383  id0053347          1                1          -73.7839   \n",
       "\n",
       "        pickup_latitude  dropoff_longitude  dropoff_latitude  \\\n",
       "355003          40.6436           -73.9568           40.7731   \n",
       "680594          40.7353           -73.9847           40.7600   \n",
       "924150          40.7423           -73.9855           40.7277   \n",
       "978383          40.6486           -73.9783           40.7502   \n",
       "\n",
       "        store_and_fwd_flag  total_distance  number_of_streets      ...        \\\n",
       "355003                   0     29,232.6000            19.0000      ...         \n",
       "680594                   0      7,503.0000            10.0000      ...         \n",
       "924150                   0      2,318.9000             6.0000      ...         \n",
       "978383                   0     27,223.8000            14.0000      ...         \n",
       "\n",
       "        haversine_distance  pickup_hour_speed_mean  pickup_weekday_speed_mean  \\\n",
       "355003             19.0011                  6.6375                     5.1908   \n",
       "680594              7.0499                  5.9910                     5.6155   \n",
       "924150              0.4873                  7.7763                     5.1908   \n",
       "978383             21.8251                  5.9910                     5.6155   \n",
       "\n",
       "        pickup_day_speed_mean  pickup_month_speed_mean  \\\n",
       "355003                 5.4786                   5.4949   \n",
       "680594                 5.3633                   5.4836   \n",
       "924150                 5.4786                   5.4949   \n",
       "978383                 5.3633                   5.4836   \n",
       "\n",
       "        pickup_hour_duration_mean  pickup_weekday_duration_mean  \\\n",
       "355003                 4,404.1427                    5,631.6684   \n",
       "680594                 1,252.3718                    1,336.1122   \n",
       "924150                   298.2027                      446.7367   \n",
       "978383                 4,544.0917                    4,847.9345   \n",
       "\n",
       "        pickup_day_duration_mean  pickup_month_duration_mean  trip_duration  \n",
       "355003                5,335.8266                  5,319.9271        1939736  \n",
       "680594                1,398.9406                  1,368.2602        2049578  \n",
       "924150                  423.2688                    422.0076        2227612  \n",
       "978383                5,075.9001                  4,964.5797        3526282  \n",
       "\n",
       "[4 rows x 28 columns]"
      ]
     },
     "execution_count": 18,
     "metadata": {},
     "output_type": "execute_result"
    }
   ],
   "source": [
    "data = train_set\n",
    "data_ol = data[data[label] > 1800000]\n",
    "data_ol[-5:]"
   ]
  },
  {
   "cell_type": "markdown",
   "metadata": {},
   "source": [
    "#### Drop trip-duration outliner"
   ]
  },
  {
   "cell_type": "code",
   "execution_count": 19,
   "metadata": {
    "ExecuteTime": {
     "end_time": "2017-07-29T01:22:12.322027Z",
     "start_time": "2017-07-29T01:22:00.174673Z"
    }
   },
   "outputs": [
    {
     "data": {
      "text/plain": [
       "<matplotlib.collections.PathCollection at 0x160803af208>"
      ]
     },
     "execution_count": 19,
     "metadata": {},
     "output_type": "execute_result"
    },
    {
     "data": {
      "image/png": "[encoded data removed]",
      "text/plain": [
       "<matplotlib.figure.Figure at 0x1608031c208>"
      ]
     },
     "metadata": {},
     "output_type": "display_data"
    }
   ],
   "source": [
    "data_ol = data[data[label] < 1800000]\n",
    "plt.scatter(data_ol.index, data_ol[label])"
   ]
  },
  {
   "cell_type": "code",
   "execution_count": 20,
   "metadata": {
    "ExecuteTime": {
     "end_time": "2017-07-29T01:22:12.359328Z",
     "start_time": "2017-07-29T01:22:12.322027Z"
    },
    "collapsed": true
   },
   "outputs": [],
   "source": [
    "train_set = data_ol\n",
    "data = train_set\n",
    "# use np.log to balance distribution\n",
    "target_log = np.log(train_set[label].values)"
   ]
  },
  {
   "cell_type": "markdown",
   "metadata": {},
   "source": [
    "#### drop trip_duration=0"
   ]
  },
  {
   "cell_type": "code",
   "execution_count": 21,
   "metadata": {
    "ExecuteTime": {
     "end_time": "2017-07-29T01:22:12.460094Z",
     "start_time": "2017-07-29T01:22:12.359328Z"
    }
   },
   "outputs": [
    {
     "name": "stdout",
     "output_type": "stream",
     "text": [
      "5897\n"
     ]
    }
   ],
   "source": [
    "# drop trip_duration=0\n",
    "data_zero = data[data[label]==0]\n",
    "print(len(data_zero))"
   ]
  },
  {
   "cell_type": "code",
   "execution_count": 22,
   "metadata": {
    "ExecuteTime": {
     "end_time": "2017-07-29T01:22:12.723140Z",
     "start_time": "2017-07-29T01:22:12.460094Z"
    },
    "collapsed": true
   },
   "outputs": [],
   "source": [
    "train_set = train_set[train_set[label]>0]"
   ]
  },
  {
   "cell_type": "code",
   "execution_count": 23,
   "metadata": {
    "ExecuteTime": {
     "end_time": "2017-07-29T01:22:12.861171Z",
     "start_time": "2017-07-29T01:22:12.723140Z"
    },
    "scrolled": true
   },
   "outputs": [
    {
     "data": {
      "text/plain": [
       "count   1,452,743.0000\n",
       "mean          954.5092\n",
       "std         3,175.2062\n",
       "min             1.0000\n",
       "25%           398.0000\n",
       "50%           664.0000\n",
       "75%         1,076.0000\n",
       "max        86,392.0000\n",
       "Name: trip_duration, dtype: float64"
      ]
     },
     "execution_count": 23,
     "metadata": {},
     "output_type": "execute_result"
    }
   ],
   "source": [
    "train_set[label].describe()"
   ]
  },
  {
   "cell_type": "code",
   "execution_count": 25,
   "metadata": {
    "ExecuteTime": {
     "end_time": "2017-07-29T01:22:46.280405Z",
     "start_time": "2017-07-29T01:22:46.242138Z"
    },
    "collapsed": true
   },
   "outputs": [],
   "source": [
    "target = train_set[label]\n",
    "target_log = np.log(target)"
   ]
  },
  {
   "cell_type": "markdown",
   "metadata": {},
   "source": [
    "### Trip duration distribution"
   ]
  },
  {
   "cell_type": "code",
   "execution_count": 26,
   "metadata": {
    "ExecuteTime": {
     "end_time": "2017-07-29T01:23:11.040166Z",
     "start_time": "2017-07-29T01:22:51.316356Z"
    },
    "scrolled": true
   },
   "outputs": [
    {
     "data": {
      "text/plain": [
       "<matplotlib.text.Text at 0x160805870f0>"
      ]
     },
     "execution_count": 26,
     "metadata": {},
     "output_type": "execute_result"
    },
    {
     "data": {
      "image/png": "[encoded data removed]",
      "text/plain": [
       "<matplotlib.figure.Figure at 0x160804881d0>"
      ]
     },
     "metadata": {},
     "output_type": "display_data"
    }
   ],
   "source": [
    "plt.figure(figsize=(10,5))\n",
    "plt.subplot(1,2,1)\n",
    "sns.distplot(data[label], bins=50)\n",
    "plt.title('Original Data')\n",
    "plt.xlabel(label)\n",
    "plt.subplot(1,2,2)\n",
    "sns.distplot(target_log, bins=50)\n",
    "plt.title('Natural Log of Data')\n",
    "plt.xlabel('Natural Log of ' + label)\n"
   ]
  },
  {
   "cell_type": "markdown",
   "metadata": {},
   "source": [
    "## Feature scaling (not use)"
   ]
  },
  {
   "cell_type": "raw",
   "metadata": {},
   "source": [
    "data = combine_data_tf.drop('id', axis=1).astype(float)\n",
    "std_scale = data.apply(StandardScaler().fit_transform)\n",
    "combine_data_tf.update(std_scale)\n",
    "combine_data_tf[:5]"
   ]
  },
  {
   "cell_type": "raw",
   "metadata": {
    "collapsed": true
   },
   "source": [
    "combine_data_tf['pickup_year'].value_counts()"
   ]
  },
  {
   "cell_type": "raw",
   "metadata": {
    "collapsed": true
   },
   "source": [
    "# Drop pickup year\n",
    "# combine_data_tf.drop('pickup_year', axis=1, inplace=True)"
   ]
  },
  {
   "cell_type": "markdown",
   "metadata": {},
   "source": [
    "## Feature correlation"
   ]
  },
  {
   "cell_type": "code",
   "execution_count": 30,
   "metadata": {
    "ExecuteTime": {
     "end_time": "2017-07-29T01:24:34.384525Z",
     "start_time": "2017-07-29T01:24:31.615145Z"
    }
   },
   "outputs": [
    {
     "data": {
      "text/plain": [
       "pickup_weekday                 -0.0014\n",
       "pickup_day                      0.0024\n",
       "store_and_fwd_flag              0.0030\n",
       "pickup_hour                     0.0060\n",
       "end_street_tf                   0.0107\n",
       "pickup_month                    0.0133\n",
       "passenger_count                 0.0146\n",
       "starting_street_tf              0.0169\n",
       "dropoff_longitude               0.0241\n",
       "vendor_id                       0.0355\n",
       "pickup_longitude                0.0402\n",
       "haversine_distance              0.1461\n",
       "number_of_streets               0.1463\n",
       "total_distance                  0.1670\n",
       "pickup_day_duration_mean        0.1670\n",
       "pickup_month_duration_mean      0.1672\n",
       "pickup_weekday_duration_mean    0.1680\n",
       "pickup_hour_duration_mean       0.1714\n",
       "trip_duration                   1.0000\n",
       "pickup_year                        nan\n",
       "Name: trip_duration, dtype: float64"
      ]
     },
     "execution_count": 30,
     "metadata": {},
     "output_type": "execute_result"
    }
   ],
   "source": [
    "correlation = data.corr()[label].sort_values()[-20:]\n",
    "correlation"
   ]
  },
  {
   "cell_type": "code",
   "execution_count": 31,
   "metadata": {
    "ExecuteTime": {
     "end_time": "2017-07-29T01:25:05.615993Z",
     "start_time": "2017-07-29T01:25:01.519969Z"
    },
    "scrolled": false
   },
   "outputs": [
    {
     "name": "stdout",
     "output_type": "stream",
     "text": [
      "['trip_duration' 'pickup_hour_duration_mean' 'pickup_weekday_duration_mean'\n",
      " 'pickup_month_duration_mean' 'pickup_day_duration_mean' 'total_distance'\n",
      " 'number_of_streets' 'haversine_distance' 'pickup_longitude' 'vendor_id'\n",
      " 'dropoff_longitude' 'starting_street_tf' 'passenger_count' 'pickup_month'\n",
      " 'end_street_tf']\n"
     ]
    },
    {
     "data": {
      "image/png": "[encoded data removed]",
      "text/plain": [
       "<matplotlib.figure.Figure at 0x160829d3208>"
      ]
     },
     "metadata": {},
     "output_type": "display_data"
    }
   ],
   "source": [
    "#correlation matrix\n",
    "corrmat = data.corr()\n",
    "k = 15 #number of variables for heatmap\n",
    "cols = corrmat.nlargest(k, label)[label].index\n",
    "print(cols.values)\n",
    "cm = np.corrcoef(data[cols].values.T)\n",
    "sns.set(font_scale=1.25)\n",
    "hm = sns.heatmap(cm, cbar=True, annot=True, square=True, fmt='.2f', annot_kws={'size': 10}, yticklabels=cols.values, xticklabels=cols.values)\n",
    "plt.show()"
   ]
  },
  {
   "cell_type": "code",
   "execution_count": 32,
   "metadata": {
    "ExecuteTime": {
     "end_time": "2017-07-29T01:25:59.206495Z",
     "start_time": "2017-07-29T01:25:57.934284Z"
    }
   },
   "outputs": [
    {
     "data": {
      "image/png": "[encoded data removed]",
      "text/plain": [
       "<matplotlib.figure.Figure at 0x16081b28668>"
      ]
     },
     "metadata": {},
     "output_type": "display_data"
    }
   ],
   "source": [
    "# Correlation matrix of cols except label\n",
    "other_cols = np.setdiff1d(cols.values, label)\n",
    "cm = np.corrcoef(data[other_cols].values.T)\n",
    "sns.set(font_scale=1.25)\n",
    "hm = sns.heatmap(cm, cbar=True, annot=True, square=True, fmt='.2f', annot_kws={'size': 10}, yticklabels=other_cols, xticklabels=other_cols)\n",
    "plt.show()"
   ]
  },
  {
   "cell_type": "markdown",
   "metadata": {},
   "source": [
    "# Train model"
   ]
  },
  {
   "cell_type": "code",
   "execution_count": 33,
   "metadata": {
    "ExecuteTime": {
     "end_time": "2017-07-29T01:26:55.126691Z",
     "start_time": "2017-07-29T01:26:54.525049Z"
    }
   },
   "outputs": [
    {
     "name": "stdout",
     "output_type": "stream",
     "text": [
      "(1452743, 26)\n"
     ]
    },
    {
     "data": {
      "text/html": [
       "<div>\n",
       "<style>\n",
       "    .dataframe thead tr:only-child th {\n",
       "        text-align: right;\n",
       "    }\n",
       "\n",
       "    .dataframe thead th {\n",
       "        text-align: left;\n",
       "    }\n",
       "\n",
       "    .dataframe tbody tr th {\n",
       "        vertical-align: top;\n",
       "    }\n",
       "</style>\n",
       "<table border=\"1\" class=\"dataframe\">\n",
       "  <thead>\n",
       "    <tr style=\"text-align: right;\">\n",
       "      <th></th>\n",
       "      <th>vendor_id</th>\n",
       "      <th>passenger_count</th>\n",
       "      <th>pickup_longitude</th>\n",
       "      <th>pickup_latitude</th>\n",
       "      <th>dropoff_longitude</th>\n",
       "      <th>dropoff_latitude</th>\n",
       "      <th>store_and_fwd_flag</th>\n",
       "      <th>total_distance</th>\n",
       "      <th>number_of_streets</th>\n",
       "      <th>pickup_year</th>\n",
       "      <th>...</th>\n",
       "      <th>end_street_tf</th>\n",
       "      <th>haversine_distance</th>\n",
       "      <th>pickup_hour_speed_mean</th>\n",
       "      <th>pickup_weekday_speed_mean</th>\n",
       "      <th>pickup_day_speed_mean</th>\n",
       "      <th>pickup_month_speed_mean</th>\n",
       "      <th>pickup_hour_duration_mean</th>\n",
       "      <th>pickup_weekday_duration_mean</th>\n",
       "      <th>pickup_day_duration_mean</th>\n",
       "      <th>pickup_month_duration_mean</th>\n",
       "    </tr>\n",
       "  </thead>\n",
       "  <tbody>\n",
       "    <tr>\n",
       "      <th>0</th>\n",
       "      <td>2.0000</td>\n",
       "      <td>1.0000</td>\n",
       "      <td>-73.9822</td>\n",
       "      <td>40.7679</td>\n",
       "      <td>-73.9646</td>\n",
       "      <td>40.7656</td>\n",
       "      <td>0.0000</td>\n",
       "      <td>2,009.1000</td>\n",
       "      <td>5.0000</td>\n",
       "      <td>2,016.0000</td>\n",
       "      <td>...</td>\n",
       "      <td>2,224.0000</td>\n",
       "      <td>1.9488</td>\n",
       "      <td>4.6887</td>\n",
       "      <td>5.6874</td>\n",
       "      <td>5.4938</td>\n",
       "      <td>5.3419</td>\n",
       "      <td>428.5008</td>\n",
       "      <td>353.2537</td>\n",
       "      <td>365.7008</td>\n",
       "      <td>376.1030</td>\n",
       "    </tr>\n",
       "    <tr>\n",
       "      <th>1</th>\n",
       "      <td>1.0000</td>\n",
       "      <td>1.0000</td>\n",
       "      <td>-73.9804</td>\n",
       "      <td>40.7386</td>\n",
       "      <td>-73.9995</td>\n",
       "      <td>40.7312</td>\n",
       "      <td>0.0000</td>\n",
       "      <td>2,513.2000</td>\n",
       "      <td>6.0000</td>\n",
       "      <td>2,016.0000</td>\n",
       "      <td>...</td>\n",
       "      <td>5,465.0000</td>\n",
       "      <td>2.1308</td>\n",
       "      <td>6.6375</td>\n",
       "      <td>6.2816</td>\n",
       "      <td>5.5073</td>\n",
       "      <td>5.3912</td>\n",
       "      <td>378.6352</td>\n",
       "      <td>400.0920</td>\n",
       "      <td>456.3357</td>\n",
       "      <td>466.1686</td>\n",
       "    </tr>\n",
       "    <tr>\n",
       "      <th>2</th>\n",
       "      <td>2.0000</td>\n",
       "      <td>1.0000</td>\n",
       "      <td>-73.9790</td>\n",
       "      <td>40.7639</td>\n",
       "      <td>-74.0053</td>\n",
       "      <td>40.7101</td>\n",
       "      <td>0.0000</td>\n",
       "      <td>11,060.8000</td>\n",
       "      <td>16.0000</td>\n",
       "      <td>2,016.0000</td>\n",
       "      <td>...</td>\n",
       "      <td>1,129.0000</td>\n",
       "      <td>3.3569</td>\n",
       "      <td>4.7020</td>\n",
       "      <td>5.1908</td>\n",
       "      <td>5.4773</td>\n",
       "      <td>5.4949</td>\n",
       "      <td>2,352.3448</td>\n",
       "      <td>2,130.8661</td>\n",
       "      <td>2,019.4001</td>\n",
       "      <td>2,012.9119</td>\n",
       "    </tr>\n",
       "    <tr>\n",
       "      <th>3</th>\n",
       "      <td>2.0000</td>\n",
       "      <td>1.0000</td>\n",
       "      <td>-74.0100</td>\n",
       "      <td>40.7200</td>\n",
       "      <td>-74.0123</td>\n",
       "      <td>40.7067</td>\n",
       "      <td>0.0000</td>\n",
       "      <td>1,779.4000</td>\n",
       "      <td>4.0000</td>\n",
       "      <td>2,016.0000</td>\n",
       "      <td>...</td>\n",
       "      <td>1,308.0000</td>\n",
       "      <td>0.4752</td>\n",
       "      <td>5.0890</td>\n",
       "      <td>5.0525</td>\n",
       "      <td>5.5201</td>\n",
       "      <td>5.3554</td>\n",
       "      <td>349.6590</td>\n",
       "      <td>352.1824</td>\n",
       "      <td>322.3486</td>\n",
       "      <td>332.2640</td>\n",
       "    </tr>\n",
       "    <tr>\n",
       "      <th>4</th>\n",
       "      <td>2.0000</td>\n",
       "      <td>1.0000</td>\n",
       "      <td>-73.9731</td>\n",
       "      <td>40.7932</td>\n",
       "      <td>-73.9729</td>\n",
       "      <td>40.7825</td>\n",
       "      <td>0.0000</td>\n",
       "      <td>1,614.9000</td>\n",
       "      <td>5.0000</td>\n",
       "      <td>2,016.0000</td>\n",
       "      <td>...</td>\n",
       "      <td>5,735.0000</td>\n",
       "      <td>0.3283</td>\n",
       "      <td>4.7184</td>\n",
       "      <td>5.6155</td>\n",
       "      <td>5.4610</td>\n",
       "      <td>5.3419</td>\n",
       "      <td>342.2581</td>\n",
       "      <td>287.5767</td>\n",
       "      <td>295.7177</td>\n",
       "      <td>302.3089</td>\n",
       "    </tr>\n",
       "  </tbody>\n",
       "</table>\n",
       "<p>5 rows × 26 columns</p>\n",
       "</div>"
      ],
      "text/plain": [
       "   vendor_id  passenger_count  pickup_longitude  pickup_latitude  \\\n",
       "0     2.0000           1.0000          -73.9822          40.7679   \n",
       "1     1.0000           1.0000          -73.9804          40.7386   \n",
       "2     2.0000           1.0000          -73.9790          40.7639   \n",
       "3     2.0000           1.0000          -74.0100          40.7200   \n",
       "4     2.0000           1.0000          -73.9731          40.7932   \n",
       "\n",
       "   dropoff_longitude  dropoff_latitude  store_and_fwd_flag  total_distance  \\\n",
       "0           -73.9646           40.7656              0.0000      2,009.1000   \n",
       "1           -73.9995           40.7312              0.0000      2,513.2000   \n",
       "2           -74.0053           40.7101              0.0000     11,060.8000   \n",
       "3           -74.0123           40.7067              0.0000      1,779.4000   \n",
       "4           -73.9729           40.7825              0.0000      1,614.9000   \n",
       "\n",
       "   number_of_streets  pickup_year             ...              end_street_tf  \\\n",
       "0             5.0000   2,016.0000             ...                 2,224.0000   \n",
       "1             6.0000   2,016.0000             ...                 5,465.0000   \n",
       "2            16.0000   2,016.0000             ...                 1,129.0000   \n",
       "3             4.0000   2,016.0000             ...                 1,308.0000   \n",
       "4             5.0000   2,016.0000             ...                 5,735.0000   \n",
       "\n",
       "   haversine_distance  pickup_hour_speed_mean  pickup_weekday_speed_mean  \\\n",
       "0              1.9488                  4.6887                     5.6874   \n",
       "1              2.1308                  6.6375                     6.2816   \n",
       "2              3.3569                  4.7020                     5.1908   \n",
       "3              0.4752                  5.0890                     5.0525   \n",
       "4              0.3283                  4.7184                     5.6155   \n",
       "\n",
       "   pickup_day_speed_mean  pickup_month_speed_mean  pickup_hour_duration_mean  \\\n",
       "0                 5.4938                   5.3419                   428.5008   \n",
       "1                 5.5073                   5.3912                   378.6352   \n",
       "2                 5.4773                   5.4949                 2,352.3448   \n",
       "3                 5.5201                   5.3554                   349.6590   \n",
       "4                 5.4610                   5.3419                   342.2581   \n",
       "\n",
       "   pickup_weekday_duration_mean  pickup_day_duration_mean  \\\n",
       "0                      353.2537                  365.7008   \n",
       "1                      400.0920                  456.3357   \n",
       "2                    2,130.8661                2,019.4001   \n",
       "3                      352.1824                  322.3486   \n",
       "4                      287.5767                  295.7177   \n",
       "\n",
       "   pickup_month_duration_mean  \n",
       "0                    376.1030  \n",
       "1                    466.1686  \n",
       "2                  2,012.9119  \n",
       "3                    332.2640  \n",
       "4                    302.3089  \n",
       "\n",
       "[5 rows x 26 columns]"
      ]
     },
     "execution_count": 33,
     "metadata": {},
     "output_type": "execute_result"
    }
   ],
   "source": [
    "data = train_set.drop(['id', label], axis=1).astype(float)\n",
    "print(data.shape)\n",
    "data[:5]"
   ]
  },
  {
   "cell_type": "markdown",
   "metadata": {},
   "source": [
    "## Model definition"
   ]
  },
  {
   "cell_type": "code",
   "execution_count": 34,
   "metadata": {
    "ExecuteTime": {
     "end_time": "2017-07-29T01:27:00.202647Z",
     "start_time": "2017-07-29T01:27:00.149247Z"
    },
    "code_folding": [],
    "collapsed": true
   },
   "outputs": [],
   "source": [
    "# A function to calculate Root Mean Squared Logarithmic Error (RMSLE)\n",
    "# credit: https://www.kaggle.com/marknagelberg/rmsle-function\n",
    "\n",
    "\n",
    "def rmsle(y, y_pred, log=True):\n",
    "    assert len(y) == len(y_pred)\n",
    "    terms_to_sum = 0\n",
    "    if log:\n",
    "        terms_to_sum = [(math.log(math.fabs(y_pred[i]) + 1) -\n",
    "                         math.log(y[i] + 1)) ** 2.0 for i, pred in enumerate(y_pred)]\n",
    "    else:\n",
    "        terms_to_sum = [(math.fabs(y_pred[i]) - y[i]) **\n",
    "                        2.0 for i, pred in enumerate(y_pred)]\n",
    "    return (sum(terms_to_sum) * (1.0 / len(y))) ** 0.5"
   ]
  },
  {
   "cell_type": "code",
   "execution_count": 35,
   "metadata": {
    "ExecuteTime": {
     "end_time": "2017-07-29T01:27:06.508769Z",
     "start_time": "2017-07-29T01:27:06.493145Z"
    },
    "collapsed": true
   },
   "outputs": [],
   "source": [
    "#model = CatBoostRegressor(iterations=100, depth=5, thread_count=4, use_best_model=True)\n",
    "model = XGBRegressor(n_estimators=10000, max_depth=5,\n",
    "                     learning_rate=0.1, min_child_weight=1, n_jobs=-1)"
   ]
  },
  {
   "cell_type": "markdown",
   "metadata": {},
   "source": [
    "### Split train/test set"
   ]
  },
  {
   "cell_type": "code",
   "execution_count": 36,
   "metadata": {
    "ExecuteTime": {
     "end_time": "2017-07-29T01:27:11.436398Z",
     "start_time": "2017-07-29T01:27:10.563210Z"
    }
   },
   "outputs": [
    {
     "name": "stdout",
     "output_type": "stream",
     "text": [
      "X_train: (1234831, 26)  Y_train: (1234831,)  X_test: (217912, 26)  Y_test: (217912,)\n"
     ]
    },
    {
     "data": {
      "text/html": [
       "<div>\n",
       "<style>\n",
       "    .dataframe thead tr:only-child th {\n",
       "        text-align: right;\n",
       "    }\n",
       "\n",
       "    .dataframe thead th {\n",
       "        text-align: left;\n",
       "    }\n",
       "\n",
       "    .dataframe tbody tr th {\n",
       "        vertical-align: top;\n",
       "    }\n",
       "</style>\n",
       "<table border=\"1\" class=\"dataframe\">\n",
       "  <thead>\n",
       "    <tr style=\"text-align: right;\">\n",
       "      <th></th>\n",
       "      <th>vendor_id</th>\n",
       "      <th>passenger_count</th>\n",
       "      <th>pickup_longitude</th>\n",
       "      <th>pickup_latitude</th>\n",
       "      <th>dropoff_longitude</th>\n",
       "      <th>dropoff_latitude</th>\n",
       "      <th>store_and_fwd_flag</th>\n",
       "      <th>total_distance</th>\n",
       "      <th>number_of_streets</th>\n",
       "      <th>pickup_year</th>\n",
       "      <th>...</th>\n",
       "      <th>end_street_tf</th>\n",
       "      <th>haversine_distance</th>\n",
       "      <th>pickup_hour_speed_mean</th>\n",
       "      <th>pickup_weekday_speed_mean</th>\n",
       "      <th>pickup_day_speed_mean</th>\n",
       "      <th>pickup_month_speed_mean</th>\n",
       "      <th>pickup_hour_duration_mean</th>\n",
       "      <th>pickup_weekday_duration_mean</th>\n",
       "      <th>pickup_day_duration_mean</th>\n",
       "      <th>pickup_month_duration_mean</th>\n",
       "    </tr>\n",
       "  </thead>\n",
       "  <tbody>\n",
       "    <tr>\n",
       "      <th>566569</th>\n",
       "      <td>2.0000</td>\n",
       "      <td>2.0000</td>\n",
       "      <td>-73.9703</td>\n",
       "      <td>40.7564</td>\n",
       "      <td>-73.9604</td>\n",
       "      <td>40.7682</td>\n",
       "      <td>0.0000</td>\n",
       "      <td>1,633.1000</td>\n",
       "      <td>4.0000</td>\n",
       "      <td>2,016.0000</td>\n",
       "      <td>...</td>\n",
       "      <td>2,230.0000</td>\n",
       "      <td>1.1513</td>\n",
       "      <td>5.0890</td>\n",
       "      <td>5.0525</td>\n",
       "      <td>5.2637</td>\n",
       "      <td>5.3419</td>\n",
       "      <td>320.9105</td>\n",
       "      <td>323.2264</td>\n",
       "      <td>310.2546</td>\n",
       "      <td>305.7159</td>\n",
       "    </tr>\n",
       "    <tr>\n",
       "      <th>994306</th>\n",
       "      <td>2.0000</td>\n",
       "      <td>1.0000</td>\n",
       "      <td>-73.9853</td>\n",
       "      <td>40.7418</td>\n",
       "      <td>-73.9844</td>\n",
       "      <td>40.7372</td>\n",
       "      <td>0.0000</td>\n",
       "      <td>734.6000</td>\n",
       "      <td>4.0000</td>\n",
       "      <td>2,016.0000</td>\n",
       "      <td>...</td>\n",
       "      <td>441.0000</td>\n",
       "      <td>0.1690</td>\n",
       "      <td>4.5844</td>\n",
       "      <td>5.6155</td>\n",
       "      <td>5.4274</td>\n",
       "      <td>5.4949</td>\n",
       "      <td>160.2403</td>\n",
       "      <td>130.8154</td>\n",
       "      <td>135.3493</td>\n",
       "      <td>133.6870</td>\n",
       "    </tr>\n",
       "    <tr>\n",
       "      <th>540810</th>\n",
       "      <td>2.0000</td>\n",
       "      <td>1.0000</td>\n",
       "      <td>-73.9878</td>\n",
       "      <td>40.7498</td>\n",
       "      <td>-73.9998</td>\n",
       "      <td>40.7544</td>\n",
       "      <td>0.0000</td>\n",
       "      <td>2,011.7000</td>\n",
       "      <td>10.0000</td>\n",
       "      <td>2,016.0000</td>\n",
       "      <td>...</td>\n",
       "      <td>27.0000</td>\n",
       "      <td>1.3385</td>\n",
       "      <td>4.6136</td>\n",
       "      <td>5.6874</td>\n",
       "      <td>5.5146</td>\n",
       "      <td>5.2941</td>\n",
       "      <td>436.0337</td>\n",
       "      <td>353.7108</td>\n",
       "      <td>364.7971</td>\n",
       "      <td>379.9861</td>\n",
       "    </tr>\n",
       "    <tr>\n",
       "      <th>434193</th>\n",
       "      <td>1.0000</td>\n",
       "      <td>2.0000</td>\n",
       "      <td>-73.9839</td>\n",
       "      <td>40.7804</td>\n",
       "      <td>-73.9842</td>\n",
       "      <td>40.7699</td>\n",
       "      <td>0.0000</td>\n",
       "      <td>1,478.2000</td>\n",
       "      <td>6.0000</td>\n",
       "      <td>2,016.0000</td>\n",
       "      <td>...</td>\n",
       "      <td>1,677.0000</td>\n",
       "      <td>0.3249</td>\n",
       "      <td>4.7603</td>\n",
       "      <td>5.6155</td>\n",
       "      <td>5.5146</td>\n",
       "      <td>5.3554</td>\n",
       "      <td>310.5289</td>\n",
       "      <td>263.2335</td>\n",
       "      <td>268.0534</td>\n",
       "      <td>276.0215</td>\n",
       "    </tr>\n",
       "    <tr>\n",
       "      <th>476714</th>\n",
       "      <td>2.0000</td>\n",
       "      <td>2.0000</td>\n",
       "      <td>-73.9616</td>\n",
       "      <td>40.7959</td>\n",
       "      <td>-73.9806</td>\n",
       "      <td>40.7700</td>\n",
       "      <td>0.0000</td>\n",
       "      <td>3,312.1000</td>\n",
       "      <td>3.0000</td>\n",
       "      <td>2,016.0000</td>\n",
       "      <td>...</td>\n",
       "      <td>5,714.0000</td>\n",
       "      <td>2.2620</td>\n",
       "      <td>4.8672</td>\n",
       "      <td>5.6155</td>\n",
       "      <td>5.4610</td>\n",
       "      <td>5.3419</td>\n",
       "      <td>680.4880</td>\n",
       "      <td>589.8091</td>\n",
       "      <td>606.5061</td>\n",
       "      <td>620.0243</td>\n",
       "    </tr>\n",
       "  </tbody>\n",
       "</table>\n",
       "<p>5 rows × 26 columns</p>\n",
       "</div>"
      ],
      "text/plain": [
       "        vendor_id  passenger_count  pickup_longitude  pickup_latitude  \\\n",
       "566569     2.0000           2.0000          -73.9703          40.7564   \n",
       "994306     2.0000           1.0000          -73.9853          40.7418   \n",
       "540810     2.0000           1.0000          -73.9878          40.7498   \n",
       "434193     1.0000           2.0000          -73.9839          40.7804   \n",
       "476714     2.0000           2.0000          -73.9616          40.7959   \n",
       "\n",
       "        dropoff_longitude  dropoff_latitude  store_and_fwd_flag  \\\n",
       "566569           -73.9604           40.7682              0.0000   \n",
       "994306           -73.9844           40.7372              0.0000   \n",
       "540810           -73.9998           40.7544              0.0000   \n",
       "434193           -73.9842           40.7699              0.0000   \n",
       "476714           -73.9806           40.7700              0.0000   \n",
       "\n",
       "        total_distance  number_of_streets  pickup_year  \\\n",
       "566569      1,633.1000             4.0000   2,016.0000   \n",
       "994306        734.6000             4.0000   2,016.0000   \n",
       "540810      2,011.7000            10.0000   2,016.0000   \n",
       "434193      1,478.2000             6.0000   2,016.0000   \n",
       "476714      3,312.1000             3.0000   2,016.0000   \n",
       "\n",
       "                   ...              end_street_tf  haversine_distance  \\\n",
       "566569             ...                 2,230.0000              1.1513   \n",
       "994306             ...                   441.0000              0.1690   \n",
       "540810             ...                    27.0000              1.3385   \n",
       "434193             ...                 1,677.0000              0.3249   \n",
       "476714             ...                 5,714.0000              2.2620   \n",
       "\n",
       "        pickup_hour_speed_mean  pickup_weekday_speed_mean  \\\n",
       "566569                  5.0890                     5.0525   \n",
       "994306                  4.5844                     5.6155   \n",
       "540810                  4.6136                     5.6874   \n",
       "434193                  4.7603                     5.6155   \n",
       "476714                  4.8672                     5.6155   \n",
       "\n",
       "        pickup_day_speed_mean  pickup_month_speed_mean  \\\n",
       "566569                 5.2637                   5.3419   \n",
       "994306                 5.4274                   5.4949   \n",
       "540810                 5.5146                   5.2941   \n",
       "434193                 5.5146                   5.3554   \n",
       "476714                 5.4610                   5.3419   \n",
       "\n",
       "        pickup_hour_duration_mean  pickup_weekday_duration_mean  \\\n",
       "566569                   320.9105                      323.2264   \n",
       "994306                   160.2403                      130.8154   \n",
       "540810                   436.0337                      353.7108   \n",
       "434193                   310.5289                      263.2335   \n",
       "476714                   680.4880                      589.8091   \n",
       "\n",
       "        pickup_day_duration_mean  pickup_month_duration_mean  \n",
       "566569                  310.2546                    305.7159  \n",
       "994306                  135.3493                    133.6870  \n",
       "540810                  364.7971                    379.9861  \n",
       "434193                  268.0534                    276.0215  \n",
       "476714                  606.5061                    620.0243  \n",
       "\n",
       "[5 rows x 26 columns]"
      ]
     },
     "execution_count": 36,
     "metadata": {},
     "output_type": "execute_result"
    }
   ],
   "source": [
    "X_train, X_test, Y_train, Y_test = train_test_split(\n",
    "    data, target_log, train_size=0.85, random_state=1234)\n",
    "print(\"X_train:\", X_train.shape, \" Y_train:\", Y_train.shape,\n",
    "      \" X_test:\", X_test.shape, \" Y_test:\", Y_test.shape)\n",
    "X_train[:5]"
   ]
  },
  {
   "cell_type": "markdown",
   "metadata": {},
   "source": [
    "## Train data"
   ]
  },
  {
   "cell_type": "code",
   "execution_count": null,
   "metadata": {
    "ExecuteTime": {
     "start_time": "2017-07-29T01:27:20.182Z"
    }
   },
   "outputs": [
    {
     "name": "stdout",
     "output_type": "stream",
     "text": [
      "[0]\tvalidation_0-rmse:5.42378\n",
      "Will train until validation_0-rmse hasn't improved in 50 rounds.\n",
      "[50]\tvalidation_0-rmse:0.409786\n"
     ]
    }
   ],
   "source": [
    "start = time.time()\n",
    "early_stopping_rounds = 50\n",
    "model.fit(\n",
    "    X_train, Y_train, eval_set = [(X_test, Y_test)],\n",
    "    eval_metric=\"rmse\", early_stopping_rounds=early_stopping_rounds,\n",
    "    verbose=early_stopping_rounds\n",
    ")\n",
    "end = time.time() - start\n",
    "print(end)"
   ]
  },
  {
   "cell_type": "markdown",
   "metadata": {},
   "source": [
    "### Predict for test data"
   ]
  },
  {
   "cell_type": "code",
   "execution_count": null,
   "metadata": {},
   "outputs": [],
   "source": [
    "start = time.time()\n",
    "y_pred = model.predict(X_test)\n",
    "end = time.time() - start\n",
    "end"
   ]
  },
  {
   "cell_type": "code",
   "execution_count": null,
   "metadata": {},
   "outputs": [],
   "source": [
    "# Evaluate score\n",
    "print(y_pred[:5])\n",
    "score = rmsle(Y_test.values, y_pred)\n",
    "score1 = rmsle(Y_test.values, y_pred, log=False)\n",
    "print(\"RMSLE score:\", score, \" RMSLE without-log:\", score1)"
   ]
  },
  {
   "cell_type": "markdown",
   "metadata": {},
   "source": [
    "### Feature importances"
   ]
  },
  {
   "cell_type": "code",
   "execution_count": null,
   "metadata": {},
   "outputs": [],
   "source": [
    "plot_importance(model)\n",
    "plt.show()"
   ]
  },
  {
   "cell_type": "markdown",
   "metadata": {},
   "source": [
    "# Predict and save submission"
   ]
  },
  {
   "cell_type": "code",
   "execution_count": null,
   "metadata": {},
   "outputs": [],
   "source": [
    "start = time.time()\n",
    "data = eval_set.drop('id', axis=1).astype(float)\n",
    "Y_eval_log = model.predict(data)\n",
    "Y_eval = np.exp(Y_eval_log.ravel())\n",
    "end = time.time() - start\n",
    "print(end)\n",
    "print(Y_eval_log[:5])\n",
    "print(Y_eval[:5])"
   ]
  },
  {
   "cell_type": "code",
   "execution_count": null,
   "metadata": {},
   "outputs": [],
   "source": [
    "eval_output = pd.DataFrame({'id': eval_set['id'], 'trip_duration': Y_eval}, columns=['id', 'trip_duration'])\n",
    "print(len(eval_output))\n",
    "eval_output.head()"
   ]
  },
  {
   "cell_type": "code",
   "execution_count": null,
   "metadata": {},
   "outputs": [],
   "source": [
    "start = time.time()\n",
    "today = str(dtime.date.today())\n",
    "print(today)\n",
    "eval_output.to_csv(DATA_DIR +'/' +today+'-submission.csv.gz',index=False, compression='gzip')\n",
    "end = time.time() - start\n",
    "end"
   ]
  },
  {
   "cell_type": "markdown",
   "metadata": {
    "collapsed": true
   },
   "source": [
    "## Leader board"
   ]
  },
  {
   "cell_type": "markdown",
   "metadata": {},
   "source": [
    "- Round 12:\n",
    "    + Base model: \n",
    "        * XGBRegressor(n_estimators=10000, max_depth=5,\n",
    "                     learning_rate=0.1, min_child_weight=1, n_jobs=-1)\n",
    "\t* remove pickup_year (correl = 0)\n",
    "\t* remove outliners: train_set[label] > 1800000\n",
    "    * remove outliners: train_set['total_distance_mean] = 0\n",
    "\t* Added distance between pickup and dropoff using outside dataset (OpenStreetMap - osmr)\n",
    "\t* Added distance between pickup and dropoff using haversine dataset\n",
    "\t* correct speed_mean formular\n",
    "\t* train_size = 0.85\n",
    "\t* target_log = np.log(target)\n",
    "\t* best model train round: \n",
    "\t* train time: \n",
    "\t* RMSLE without-log: 0.383703421188 => \n",
    "    + Submision score: 0.390 => \t"
   ]
  },
  {
   "cell_type": "markdown",
   "metadata": {},
   "source": [
    "- Round 13:\n",
    "    + Base model: \n",
    "        * XGBRegressor(n_estimators=10000, max_depth=5,\n",
    "                     learning_rate=0.1, min_child_weight=1, n_jobs=-1)\n",
    "        * remove outliners: train_set[label] > 1800000\n",
    "        * added distance between pickup and dropoff using outside dataset (OpenStreetMap - osmr)\n",
    "        * added distance between pickup and dropoff using haversine dataset\n",
    "        * added number_of_streets, starting_street, end_street\n",
    "        * predict total_distance (for total_distance=0)\n",
    "        * predict starting_street, end_street (for NaN starting_street, end_street)\n",
    "        * added pickup_hour_speed_mean, pickup_weekday_speed_mean, pickup_day_speed_mean, pickup_month_speed_mean\n",
    "        * train_size = 0.85\n",
    "        * target_log = np.log(target)\n",
    "        * best model train round: 2567\n",
    "        * train time: 1943.313801765442\n",
    "        * RMSLE without-log: 0.384153 => 0.36939\n",
    "    + Submision score:  0.428\n"
   ]
  },
  {
   "cell_type": "code",
   "execution_count": null,
   "metadata": {
    "collapsed": true
   },
   "outputs": [],
   "source": []
  }
 ],
 "metadata": {
  "kernelspec": {
   "display_name": "Python 3",
   "language": "python",
   "name": "python3"
  },
  "language_info": {
   "codemirror_mode": {
    "name": "ipython",
    "version": 3
   },
   "file_extension": ".py",
   "mimetype": "text/x-python",
   "name": "python",
   "nbconvert_exporter": "python",
   "pygments_lexer": "ipython3",
   "version": "3.5.3"
  },
  "toc": {
   "colors": {
    "hover_highlight": "#DAA520",
    "navigate_num": "#000000",
    "navigate_text": "#333333",
    "running_highlight": "#FF0000",
    "selected_highlight": "#FFD700",
    "sidebar_border": "#EEEEEE",
    "wrapper_background": "#FFFFFF"
   },
   "moveMenuLeft": true,
   "nav_menu": {
    "height": "512px",
    "width": "252px"
   },
   "navigate_menu": true,
   "number_sections": true,
   "sideBar": true,
   "threshold": 4,
   "toc_cell": true,
   "toc_position": {
    "height": "537px",
    "left": "0px",
    "right": "1090px",
    "top": "107px",
    "width": "270px"
   },
   "toc_section_display": "block",
   "toc_window_display": true,
   "widenNotebook": false
  },
  "varInspector": {
   "cols": {
    "lenName": 16,
    "lenType": 16,
    "lenVar": 40
   },
   "kernels_config": {
    "python": {
     "delete_cmd_postfix": "",
     "delete_cmd_prefix": "del ",
     "library": "var_list.py",
     "varRefreshCmd": "print(var_dic_list())"
    },
    "r": {
     "delete_cmd_postfix": ") ",
     "delete_cmd_prefix": "rm(",
     "library": "var_list.r",
     "varRefreshCmd": "cat(var_dic_list()) "
    }
   },
   "position": {
    "height": "607px",
    "left": "1139px",
    "right": "20px",
    "top": "68px",
    "width": "310px"
   },
   "types_to_exclude": [
    "module",
    "function",
    "builtin_function_or_method",
    "instance",
    "_Feature"
   ],
   "window_display": false
  }
 },
 "nbformat": 4,
 "nbformat_minor": 2
}
