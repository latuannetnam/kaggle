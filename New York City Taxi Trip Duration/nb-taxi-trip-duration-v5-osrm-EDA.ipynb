{
 "cells": [
  {
   "cell_type": "code",
   "execution_count": null,
   "metadata": {
    "collapsed": true
   },
   "outputs": [],
   "source": []
  },
  {
   "cell_type": "markdown",
   "metadata": {
    "toc": "true"
   },
   "source": [
    "# Table of Contents\n",
    " <p><div class=\"lev1 toc-item\"><a href=\"#New-York-City-Taxi-Trip-Duration\" data-toc-modified-id=\"New-York-City-Taxi-Trip-Duration-1\"><span class=\"toc-item-num\">1&nbsp;&nbsp;</span>New York City Taxi Trip Duration</a></div><div class=\"lev2 toc-item\"><a href=\"#Credit-to:\" data-toc-modified-id=\"Credit-to:-11\"><span class=\"toc-item-num\">1.1&nbsp;&nbsp;</span>Credit to:</a></div><div class=\"lev1 toc-item\"><a href=\"#Load-data\" data-toc-modified-id=\"Load-data-2\"><span class=\"toc-item-num\">2&nbsp;&nbsp;</span>Load data</a></div><div class=\"lev3 toc-item\"><a href=\"#Load-another-dataset-with-distance-from-OSMR\" data-toc-modified-id=\"Load-another-dataset-with-distance-from-OSMR-201\"><span class=\"toc-item-num\">2.0.1&nbsp;&nbsp;</span>Load another dataset with distance from OSMR</a></div><div class=\"lev4 toc-item\"><a href=\"#Check-different-between-orginal-train-data-and-OSM-data-set\" data-toc-modified-id=\"Check-different-between-orginal-train-data-and-OSM-data-set-2011\"><span class=\"toc-item-num\">2.0.1.1&nbsp;&nbsp;</span>Check different between orginal train data and OSM data set</a></div><div class=\"lev3 toc-item\"><a href=\"#Combine-train-data-and-eval-data\" data-toc-modified-id=\"Combine-train-data-and-eval-data-202\"><span class=\"toc-item-num\">2.0.2&nbsp;&nbsp;</span>Combine train data and eval data</a></div><div class=\"lev1 toc-item\"><a href=\"#Pre-process-data\" data-toc-modified-id=\"Pre-process-data-3\"><span class=\"toc-item-num\">3&nbsp;&nbsp;</span>Pre-process data</a></div><div class=\"lev2 toc-item\"><a href=\"#Check&amp;-Fill--NaN\" data-toc-modified-id=\"Check&amp;-Fill--NaN-31\"><span class=\"toc-item-num\">3.1&nbsp;&nbsp;</span>Check&amp; Fill  NaN</a></div><div class=\"lev3 toc-item\"><a href=\"#FillNA-for-total_distance\" data-toc-modified-id=\"FillNA-for-total_distance-311\"><span class=\"toc-item-num\">3.1.1&nbsp;&nbsp;</span>FillNA for total_distance</a></div><div class=\"lev3 toc-item\"><a href=\"#FillNaN-for-number_of_streets\" data-toc-modified-id=\"FillNaN-for-number_of_streets-312\"><span class=\"toc-item-num\">3.1.2&nbsp;&nbsp;</span>FillNaN for number_of_streets</a></div><div class=\"lev2 toc-item\"><a href=\"#Transform-object-data\" data-toc-modified-id=\"Transform-object-data-32\"><span class=\"toc-item-num\">3.2&nbsp;&nbsp;</span>Transform object data</a></div><div class=\"lev3 toc-item\"><a href=\"#Convert-datetime-string-to-object\" data-toc-modified-id=\"Convert-datetime-string-to-object-321\"><span class=\"toc-item-num\">3.2.1&nbsp;&nbsp;</span>Convert datetime string to object</a></div><div class=\"lev3 toc-item\"><a href=\"#store_and_fwd_flag\" data-toc-modified-id=\"store_and_fwd_flag-322\"><span class=\"toc-item-num\">3.2.2&nbsp;&nbsp;</span>store_and_fwd_flag</a></div><div class=\"lev3 toc-item\"><a href=\"#start_street\" data-toc-modified-id=\"start_street-323\"><span class=\"toc-item-num\">3.2.3&nbsp;&nbsp;</span>start_street</a></div><div class=\"lev3 toc-item\"><a href=\"#end_street\" data-toc-modified-id=\"end_street-324\"><span class=\"toc-item-num\">3.2.4&nbsp;&nbsp;</span>end_street</a></div><div class=\"lev3 toc-item\"><a href=\"#Drop-unused-cols\" data-toc-modified-id=\"Drop-unused-cols-325\"><span class=\"toc-item-num\">3.2.5&nbsp;&nbsp;</span>Drop unused cols</a></div><div class=\"lev1 toc-item\"><a href=\"#Feature-Engineering\" data-toc-modified-id=\"Feature-Engineering-4\"><span class=\"toc-item-num\">4&nbsp;&nbsp;</span>Feature Engineering</a></div><div class=\"lev2 toc-item\"><a href=\"#Turn,-left,-right\" data-toc-modified-id=\"Turn,-left,-right-41\"><span class=\"toc-item-num\">4.1&nbsp;&nbsp;</span>Turn, left, right</a></div><div class=\"lev2 toc-item\"><a href=\"#Cluster\" data-toc-modified-id=\"Cluster-42\"><span class=\"toc-item-num\">4.2&nbsp;&nbsp;</span>Cluster</a></div><div class=\"lev3 toc-item\"><a href=\"#starting_street_tf\" data-toc-modified-id=\"starting_street_tf-421\"><span class=\"toc-item-num\">4.2.1&nbsp;&nbsp;</span>starting_street_tf</a></div><div class=\"lev3 toc-item\"><a href=\"#End-street-cluster\" data-toc-modified-id=\"End-street-cluster-422\"><span class=\"toc-item-num\">4.2.2&nbsp;&nbsp;</span>End street cluster</a></div>"
   ]
  },
  {
   "cell_type": "markdown",
   "metadata": {},
   "source": [
    "# New York City Taxi Trip Duration\n",
    "- Share code and data to improve ride time predictions\n",
    "- https://www.kaggle.com/c/nyc-taxi-trip-duration/data\n",
    "- install: http://jupyter-contrib-nbextensions.readthedocs.io/en/latest/install.html\n",
    "- install: https://github.com/Jupyter-contrib/jupyter_nbextensions_configurator\n",
    "- install GDAL: https://sandbox.idre.ucla.edu/sandbox/tutorials/installing-gdal-for-windows\n",
    "- install osmnx: http://geoffboeing.com/2014/09/using-geopandas-windows/\n"
   ]
  },
  {
   "cell_type": "markdown",
   "metadata": {},
   "source": [
    "## Credit to:\n",
    "- https://www.kaggle.com/ankasor/driving-distance-using-open-street-maps-data/notebook\n",
    "- https://www.kaggle.com/oscarleo/new-york-city-taxi-with-osrm\n",
    "- https://www.kaggle.com/gaborfodor/from-eda-to-the-top-lb-0-368/notebook"
   ]
  },
  {
   "cell_type": "code",
   "execution_count": 1,
   "metadata": {
    "ExecuteTime": {
     "end_time": "2017-08-08T07:06:48.018447Z",
     "start_time": "2017-08-08T07:06:34.795801Z"
    }
   },
   "outputs": [
    {
     "name": "stderr",
     "output_type": "stream",
     "text": [
      "/usr/local/lib/python3.4/dist-packages/sklearn/cross_validation.py:41: DeprecationWarning: This module was deprecated in version 0.18 in favor of the model_selection module into which all the refactored classes and functions are moved. Also note that the interface of the new CV iterators are different from that of this module. This module will be removed in 0.20.\n",
      "  \"This module will be removed in 0.20.\", DeprecationWarning)\n",
      "/usr/local/lib/python3.4/dist-packages/sklearn/grid_search.py:42: DeprecationWarning: This module was deprecated in version 0.18 in favor of the model_selection module into which all the refactored classes and functions are moved. This module will be removed in 0.20.\n",
      "  DeprecationWarning)\n"
     ]
    }
   ],
   "source": [
    "# data processing\n",
    "import pandas as pd\n",
    "import matplotlib.pyplot as plt\n",
    "import seaborn as sns\n",
    "import numpy as np\n",
    "from math import sqrt\n",
    "from scipy import stats\n",
    "from scipy.stats import norm\n",
    "import math\n",
    "from math import radians, cos, sin, asin, sqrt\n",
    "from numpy import sort\n",
    "\n",
    "# ML\n",
    "# # Scikit-learn\n",
    "from sklearn.preprocessing import StandardScaler\n",
    "from sklearn.tree import DecisionTreeRegressor\n",
    "from sklearn.linear_model import LinearRegression\n",
    "from sklearn.ensemble import RandomForestRegressor, AdaBoostRegressor, GradientBoostingRegressor, ExtraTreesRegressor\n",
    "from sklearn.model_selection import cross_val_score, train_test_split, learning_curve, validation_curve, KFold\n",
    "from sklearn.metrics import mean_squared_error, make_scorer\n",
    "from sklearn.grid_search import GridSearchCV\n",
    "from sklearn.preprocessing import LabelEncoder, StandardScaler\n",
    "from sklearn.feature_selection import SelectFromModel\n",
    "from sklearn.cluster import MiniBatchKMeans, KMeans\n",
    "from sklearn.metrics.pairwise import pairwise_distances_argmin\n",
    "# # XGB\n",
    "from xgboost.sklearn import XGBRegressor\n",
    "import xgboost as xgb\n",
    "from xgboost import plot_importance\n",
    "# # CatBoost\n",
    "#from catboost import Pool, CatBoostRegressor, cv, CatboostIpythonWidget\n",
    "# System\n",
    "import datetime as dtime\n",
    "from datetime import datetime\n",
    "import sys\n",
    "from inspect import getsourcefile\n",
    "import os.path\n",
    "import re\n",
    "import time\n",
    "\n",
    "# Other\n",
    "from geographiclib.geodesic import Geodesic\n",
    "#import osmnx as ox\n",
    "#import networkx as nx\n",
    "\n",
    "import warnings\n",
    "warnings.filterwarnings('ignore')\n",
    "%matplotlib inline"
   ]
  },
  {
   "cell_type": "markdown",
   "metadata": {},
   "source": [
    "# Load data"
   ]
  },
  {
   "cell_type": "code",
   "execution_count": 2,
   "metadata": {
    "ExecuteTime": {
     "end_time": "2017-08-08T07:07:11.493793Z",
     "start_time": "2017-08-08T07:06:48.019993Z"
    },
    "collapsed": true
   },
   "outputs": [],
   "source": [
    "pd.options.display.float_format = '{:,.4f}'.format\n",
    "# Input data files are available in the DATA_DIR directory.\n",
    "DATA_DIR = \"data-temp\"\n",
    "# Load data. Download from:https://www.kaggle.com/c/nyc-taxi-trip-duration/data\n",
    "train_data = pd.read_csv(DATA_DIR + \"/train.csv\")\n",
    "eval_data =  pd.read_csv(DATA_DIR + \"/test.csv\")"
   ]
  },
  {
   "cell_type": "code",
   "execution_count": 3,
   "metadata": {
    "ExecuteTime": {
     "end_time": "2017-08-08T07:07:11.498554Z",
     "start_time": "2017-08-08T07:07:11.495476Z"
    }
   },
   "outputs": [
    {
     "name": "stdout",
     "output_type": "stream",
     "text": [
      "train size: (1458644, 11)  test size: (625134, 9)\n"
     ]
    }
   ],
   "source": [
    "print(\"train size:\", train_data.shape, \" test size:\", eval_data.shape)"
   ]
  },
  {
   "cell_type": "code",
   "execution_count": 4,
   "metadata": {
    "ExecuteTime": {
     "end_time": "2017-08-08T07:07:11.758180Z",
     "start_time": "2017-08-08T07:07:11.499620Z"
    },
    "scrolled": true
   },
   "outputs": [
    {
     "data": {
      "text/html": [
       "<div>\n",
       "<style>\n",
       "    .dataframe thead tr:only-child th {\n",
       "        text-align: right;\n",
       "    }\n",
       "\n",
       "    .dataframe thead th {\n",
       "        text-align: left;\n",
       "    }\n",
       "\n",
       "    .dataframe tbody tr th {\n",
       "        vertical-align: top;\n",
       "    }\n",
       "</style>\n",
       "<table border=\"1\" class=\"dataframe\">\n",
       "  <thead>\n",
       "    <tr style=\"text-align: right;\">\n",
       "      <th></th>\n",
       "      <th>id</th>\n",
       "      <th>vendor_id</th>\n",
       "      <th>pickup_datetime</th>\n",
       "      <th>dropoff_datetime</th>\n",
       "      <th>passenger_count</th>\n",
       "      <th>pickup_longitude</th>\n",
       "      <th>pickup_latitude</th>\n",
       "      <th>dropoff_longitude</th>\n",
       "      <th>dropoff_latitude</th>\n",
       "      <th>store_and_fwd_flag</th>\n",
       "      <th>trip_duration</th>\n",
       "    </tr>\n",
       "  </thead>\n",
       "  <tbody>\n",
       "    <tr>\n",
       "      <th>0</th>\n",
       "      <td>id2875421</td>\n",
       "      <td>2</td>\n",
       "      <td>2016-03-14 17:24:55</td>\n",
       "      <td>2016-03-14 17:32:30</td>\n",
       "      <td>1</td>\n",
       "      <td>-73.9822</td>\n",
       "      <td>40.7679</td>\n",
       "      <td>-73.9646</td>\n",
       "      <td>40.7656</td>\n",
       "      <td>N</td>\n",
       "      <td>455</td>\n",
       "    </tr>\n",
       "    <tr>\n",
       "      <th>1</th>\n",
       "      <td>id2377394</td>\n",
       "      <td>1</td>\n",
       "      <td>2016-06-12 00:43:35</td>\n",
       "      <td>2016-06-12 00:54:38</td>\n",
       "      <td>1</td>\n",
       "      <td>-73.9804</td>\n",
       "      <td>40.7386</td>\n",
       "      <td>-73.9995</td>\n",
       "      <td>40.7312</td>\n",
       "      <td>N</td>\n",
       "      <td>663</td>\n",
       "    </tr>\n",
       "    <tr>\n",
       "      <th>2</th>\n",
       "      <td>id3858529</td>\n",
       "      <td>2</td>\n",
       "      <td>2016-01-19 11:35:24</td>\n",
       "      <td>2016-01-19 12:10:48</td>\n",
       "      <td>1</td>\n",
       "      <td>-73.9790</td>\n",
       "      <td>40.7639</td>\n",
       "      <td>-74.0053</td>\n",
       "      <td>40.7101</td>\n",
       "      <td>N</td>\n",
       "      <td>2124</td>\n",
       "    </tr>\n",
       "    <tr>\n",
       "      <th>3</th>\n",
       "      <td>id3504673</td>\n",
       "      <td>2</td>\n",
       "      <td>2016-04-06 19:32:31</td>\n",
       "      <td>2016-04-06 19:39:40</td>\n",
       "      <td>1</td>\n",
       "      <td>-74.0100</td>\n",
       "      <td>40.7200</td>\n",
       "      <td>-74.0123</td>\n",
       "      <td>40.7067</td>\n",
       "      <td>N</td>\n",
       "      <td>429</td>\n",
       "    </tr>\n",
       "    <tr>\n",
       "      <th>4</th>\n",
       "      <td>id2181028</td>\n",
       "      <td>2</td>\n",
       "      <td>2016-03-26 13:30:55</td>\n",
       "      <td>2016-03-26 13:38:10</td>\n",
       "      <td>1</td>\n",
       "      <td>-73.9731</td>\n",
       "      <td>40.7932</td>\n",
       "      <td>-73.9729</td>\n",
       "      <td>40.7825</td>\n",
       "      <td>N</td>\n",
       "      <td>435</td>\n",
       "    </tr>\n",
       "  </tbody>\n",
       "</table>\n",
       "</div>"
      ],
      "text/plain": [
       "          id  vendor_id      pickup_datetime     dropoff_datetime  \\\n",
       "0  id2875421          2  2016-03-14 17:24:55  2016-03-14 17:32:30   \n",
       "1  id2377394          1  2016-06-12 00:43:35  2016-06-12 00:54:38   \n",
       "2  id3858529          2  2016-01-19 11:35:24  2016-01-19 12:10:48   \n",
       "3  id3504673          2  2016-04-06 19:32:31  2016-04-06 19:39:40   \n",
       "4  id2181028          2  2016-03-26 13:30:55  2016-03-26 13:38:10   \n",
       "\n",
       "   passenger_count  pickup_longitude  pickup_latitude  dropoff_longitude  \\\n",
       "0                1          -73.9822          40.7679           -73.9646   \n",
       "1                1          -73.9804          40.7386           -73.9995   \n",
       "2                1          -73.9790          40.7639           -74.0053   \n",
       "3                1          -74.0100          40.7200           -74.0123   \n",
       "4                1          -73.9731          40.7932           -73.9729   \n",
       "\n",
       "   dropoff_latitude store_and_fwd_flag  trip_duration  \n",
       "0           40.7656                  N            455  \n",
       "1           40.7312                  N            663  \n",
       "2           40.7101                  N           2124  \n",
       "3           40.7067                  N            429  \n",
       "4           40.7825                  N            435  "
      ]
     },
     "execution_count": 4,
     "metadata": {},
     "output_type": "execute_result"
    }
   ],
   "source": [
    "train_data.head(5)"
   ]
  },
  {
   "cell_type": "code",
   "execution_count": 5,
   "metadata": {
    "ExecuteTime": {
     "end_time": "2017-08-08T07:07:11.984939Z",
     "start_time": "2017-08-08T07:07:11.759468Z"
    }
   },
   "outputs": [
    {
     "data": {
      "text/html": [
       "<div>\n",
       "<style>\n",
       "    .dataframe thead tr:only-child th {\n",
       "        text-align: right;\n",
       "    }\n",
       "\n",
       "    .dataframe thead th {\n",
       "        text-align: left;\n",
       "    }\n",
       "\n",
       "    .dataframe tbody tr th {\n",
       "        vertical-align: top;\n",
       "    }\n",
       "</style>\n",
       "<table border=\"1\" class=\"dataframe\">\n",
       "  <thead>\n",
       "    <tr style=\"text-align: right;\">\n",
       "      <th></th>\n",
       "      <th>id</th>\n",
       "      <th>vendor_id</th>\n",
       "      <th>pickup_datetime</th>\n",
       "      <th>passenger_count</th>\n",
       "      <th>pickup_longitude</th>\n",
       "      <th>pickup_latitude</th>\n",
       "      <th>dropoff_longitude</th>\n",
       "      <th>dropoff_latitude</th>\n",
       "      <th>store_and_fwd_flag</th>\n",
       "    </tr>\n",
       "  </thead>\n",
       "  <tbody>\n",
       "    <tr>\n",
       "      <th>0</th>\n",
       "      <td>id3004672</td>\n",
       "      <td>1</td>\n",
       "      <td>2016-06-30 23:59:58</td>\n",
       "      <td>1</td>\n",
       "      <td>-73.9881</td>\n",
       "      <td>40.7320</td>\n",
       "      <td>-73.9902</td>\n",
       "      <td>40.7567</td>\n",
       "      <td>N</td>\n",
       "    </tr>\n",
       "    <tr>\n",
       "      <th>1</th>\n",
       "      <td>id3505355</td>\n",
       "      <td>1</td>\n",
       "      <td>2016-06-30 23:59:53</td>\n",
       "      <td>1</td>\n",
       "      <td>-73.9642</td>\n",
       "      <td>40.6800</td>\n",
       "      <td>-73.9598</td>\n",
       "      <td>40.6554</td>\n",
       "      <td>N</td>\n",
       "    </tr>\n",
       "    <tr>\n",
       "      <th>2</th>\n",
       "      <td>id1217141</td>\n",
       "      <td>1</td>\n",
       "      <td>2016-06-30 23:59:47</td>\n",
       "      <td>1</td>\n",
       "      <td>-73.9974</td>\n",
       "      <td>40.7376</td>\n",
       "      <td>-73.9862</td>\n",
       "      <td>40.7295</td>\n",
       "      <td>N</td>\n",
       "    </tr>\n",
       "    <tr>\n",
       "      <th>3</th>\n",
       "      <td>id2150126</td>\n",
       "      <td>2</td>\n",
       "      <td>2016-06-30 23:59:41</td>\n",
       "      <td>1</td>\n",
       "      <td>-73.9561</td>\n",
       "      <td>40.7719</td>\n",
       "      <td>-73.9864</td>\n",
       "      <td>40.7305</td>\n",
       "      <td>N</td>\n",
       "    </tr>\n",
       "    <tr>\n",
       "      <th>4</th>\n",
       "      <td>id1598245</td>\n",
       "      <td>1</td>\n",
       "      <td>2016-06-30 23:59:33</td>\n",
       "      <td>1</td>\n",
       "      <td>-73.9702</td>\n",
       "      <td>40.7615</td>\n",
       "      <td>-73.9615</td>\n",
       "      <td>40.7559</td>\n",
       "      <td>N</td>\n",
       "    </tr>\n",
       "  </tbody>\n",
       "</table>\n",
       "</div>"
      ],
      "text/plain": [
       "          id  vendor_id      pickup_datetime  passenger_count  \\\n",
       "0  id3004672          1  2016-06-30 23:59:58                1   \n",
       "1  id3505355          1  2016-06-30 23:59:53                1   \n",
       "2  id1217141          1  2016-06-30 23:59:47                1   \n",
       "3  id2150126          2  2016-06-30 23:59:41                1   \n",
       "4  id1598245          1  2016-06-30 23:59:33                1   \n",
       "\n",
       "   pickup_longitude  pickup_latitude  dropoff_longitude  dropoff_latitude  \\\n",
       "0          -73.9881          40.7320           -73.9902           40.7567   \n",
       "1          -73.9642          40.6800           -73.9598           40.6554   \n",
       "2          -73.9974          40.7376           -73.9862           40.7295   \n",
       "3          -73.9561          40.7719           -73.9864           40.7305   \n",
       "4          -73.9702          40.7615           -73.9615           40.7559   \n",
       "\n",
       "  store_and_fwd_flag  \n",
       "0                  N  \n",
       "1                  N  \n",
       "2                  N  \n",
       "3                  N  \n",
       "4                  N  "
      ]
     },
     "execution_count": 5,
     "metadata": {},
     "output_type": "execute_result"
    }
   ],
   "source": [
    "eval_data.head(5)"
   ]
  },
  {
   "cell_type": "code",
   "execution_count": 6,
   "metadata": {
    "ExecuteTime": {
     "end_time": "2017-08-08T07:07:12.155850Z",
     "start_time": "2017-08-08T07:07:11.986063Z"
    }
   },
   "outputs": [
    {
     "data": {
      "text/plain": [
       "array(['dropoff_datetime', 'trip_duration'], dtype=object)"
      ]
     },
     "execution_count": 6,
     "metadata": {},
     "output_type": "execute_result"
    }
   ],
   "source": [
    "diff_cols = np.setdiff1d(train_data.columns.values, eval_data.columns.values)\n",
    "diff_cols"
   ]
  },
  {
   "cell_type": "markdown",
   "metadata": {},
   "source": [
    "### Load another dataset with distance from OSMR"
   ]
  },
  {
   "cell_type": "code",
   "execution_count": 7,
   "metadata": {
    "ExecuteTime": {
     "end_time": "2017-08-08T07:08:14.453891Z",
     "start_time": "2017-08-08T07:07:12.157285Z"
    },
    "collapsed": true
   },
   "outputs": [],
   "source": [
    "# Download from:\n",
    "# https://www.kaggle.com/oscarleo/new-york-city-taxi-with-osrm\n",
    "train_osm = pd.read_csv(DATA_DIR + \"/fastest_route_train.csv\")\n",
    "eval_osm = pd.read_csv(DATA_DIR + \"/fastest_route_test.csv\")"
   ]
  },
  {
   "cell_type": "code",
   "execution_count": 8,
   "metadata": {
    "ExecuteTime": {
     "end_time": "2017-08-08T07:08:14.461213Z",
     "start_time": "2017-08-08T07:08:14.455598Z"
    }
   },
   "outputs": [
    {
     "name": "stdout",
     "output_type": "stream",
     "text": [
      "train_osm size: (1458643, 11)  test osm size: (625134, 11)\n"
     ]
    }
   ],
   "source": [
    "print(\"train_osm size:\", train_osm.shape, \" test osm size:\", eval_osm.shape)"
   ]
  },
  {
   "cell_type": "code",
   "execution_count": 9,
   "metadata": {
    "ExecuteTime": {
     "end_time": "2017-08-08T07:08:14.671969Z",
     "start_time": "2017-08-08T07:08:14.464412Z"
    }
   },
   "outputs": [
    {
     "data": {
      "text/html": [
       "<div>\n",
       "<style>\n",
       "    .dataframe thead tr:only-child th {\n",
       "        text-align: right;\n",
       "    }\n",
       "\n",
       "    .dataframe thead th {\n",
       "        text-align: left;\n",
       "    }\n",
       "\n",
       "    .dataframe tbody tr th {\n",
       "        vertical-align: top;\n",
       "    }\n",
       "</style>\n",
       "<table border=\"1\" class=\"dataframe\">\n",
       "  <thead>\n",
       "    <tr style=\"text-align: right;\">\n",
       "      <th></th>\n",
       "      <th>id</th>\n",
       "      <th>starting_street</th>\n",
       "      <th>end_street</th>\n",
       "      <th>total_distance</th>\n",
       "      <th>total_travel_time</th>\n",
       "      <th>number_of_steps</th>\n",
       "      <th>street_for_each_step</th>\n",
       "      <th>distance_per_step</th>\n",
       "      <th>travel_time_per_step</th>\n",
       "      <th>step_maneuvers</th>\n",
       "      <th>step_direction</th>\n",
       "    </tr>\n",
       "  </thead>\n",
       "  <tbody>\n",
       "    <tr>\n",
       "      <th>0</th>\n",
       "      <td>id2085575</td>\n",
       "      <td>Center Boulevard</td>\n",
       "      <td>West 29th Street</td>\n",
       "      <td>3,588.5000</td>\n",
       "      <td>359.8000</td>\n",
       "      <td>7</td>\n",
       "      <td>Center Boulevard|East 49th Street|2nd Avenue|E...</td>\n",
       "      <td>8.1|383.4|962.5|1423.4|640.1|171.1|0</td>\n",
       "      <td>7|42.2|85.4|118.4|87.7|19.1|0</td>\n",
       "      <td>depart|turn|turn|turn|turn|turn|arrive</td>\n",
       "      <td>left|uturn|left|right|left|right|arrive</td>\n",
       "    </tr>\n",
       "    <tr>\n",
       "      <th>1</th>\n",
       "      <td>id0633227</td>\n",
       "      <td>East 42nd Street</td>\n",
       "      <td>East 78th Street</td>\n",
       "      <td>3,935.6000</td>\n",
       "      <td>358.0000</td>\n",
       "      <td>7</td>\n",
       "      <td>East 42nd Street|3rd Avenue|3rd Avenue|East 57...</td>\n",
       "      <td>435.1|1039.8|165.5|445.1|1695.5|154.5|0</td>\n",
       "      <td>64.1|83.5|14.4|35.9|137.9|22.2|0</td>\n",
       "      <td>depart|turn|fork|turn|turn|turn|arrive</td>\n",
       "      <td>right|left|slight right|right|left|right|arrive</td>\n",
       "    </tr>\n",
       "    <tr>\n",
       "      <th>2</th>\n",
       "      <td>id1356036</td>\n",
       "      <td>West 74th Street</td>\n",
       "      <td>Joe DiMaggio Highway</td>\n",
       "      <td>3,468.3000</td>\n",
       "      <td>228.2000</td>\n",
       "      <td>10</td>\n",
       "      <td>West 74th Street|Amsterdam Avenue|West 79th St...</td>\n",
       "      <td>55.1|410|571.2|326.1|1635.7|24.1|90|187.1|169.1|0</td>\n",
       "      <td>15.3|38|46.7|25.1|70.8|12.3|5.8|7.5|6.7|0</td>\n",
       "      <td>depart|turn|turn|roundabout|merge|turn|turn|ne...</td>\n",
       "      <td>right|left|left|right|slight left|left|left|st...</td>\n",
       "    </tr>\n",
       "    <tr>\n",
       "      <th>3</th>\n",
       "      <td>id2360318</td>\n",
       "      <td>East 31st Street</td>\n",
       "      <td>Park Avenue</td>\n",
       "      <td>2,369.6000</td>\n",
       "      <td>240.0000</td>\n",
       "      <td>5</td>\n",
       "      <td>East 31st Street|Park Avenue South|Park Avenue...</td>\n",
       "      <td>172.6|158|1996.1|42.9|0</td>\n",
       "      <td>25.3|19.8|184.9|10|0</td>\n",
       "      <td>depart|turn|fork|continue|arrive</td>\n",
       "      <td>right|right|slight left|uturn|arrive</td>\n",
       "    </tr>\n",
       "    <tr>\n",
       "      <th>4</th>\n",
       "      <td>id1397932</td>\n",
       "      <td>Cleveland Place</td>\n",
       "      <td>East 28th Street</td>\n",
       "      <td>3,050.7000</td>\n",
       "      <td>415.1000</td>\n",
       "      <td>9</td>\n",
       "      <td>Cleveland Place|Lafayette Street|4th Avenue|Un...</td>\n",
       "      <td>119.1|1129|388.6|251.9|781.6|163.9|78|138.6|0</td>\n",
       "      <td>17.4|144.5|53.5|34.2|112.8|24.4|12.8|15.5|0</td>\n",
       "      <td>depart|new name|new name|new name|new name|tur...</td>\n",
       "      <td>right|slight right|straight|straight|straight|...</td>\n",
       "    </tr>\n",
       "  </tbody>\n",
       "</table>\n",
       "</div>"
      ],
      "text/plain": [
       "          id   starting_street            end_street  total_distance  \\\n",
       "0  id2085575  Center Boulevard      West 29th Street      3,588.5000   \n",
       "1  id0633227  East 42nd Street      East 78th Street      3,935.6000   \n",
       "2  id1356036  West 74th Street  Joe DiMaggio Highway      3,468.3000   \n",
       "3  id2360318  East 31st Street           Park Avenue      2,369.6000   \n",
       "4  id1397932   Cleveland Place      East 28th Street      3,050.7000   \n",
       "\n",
       "   total_travel_time  number_of_steps  \\\n",
       "0           359.8000                7   \n",
       "1           358.0000                7   \n",
       "2           228.2000               10   \n",
       "3           240.0000                5   \n",
       "4           415.1000                9   \n",
       "\n",
       "                                street_for_each_step  \\\n",
       "0  Center Boulevard|East 49th Street|2nd Avenue|E...   \n",
       "1  East 42nd Street|3rd Avenue|3rd Avenue|East 57...   \n",
       "2  West 74th Street|Amsterdam Avenue|West 79th St...   \n",
       "3  East 31st Street|Park Avenue South|Park Avenue...   \n",
       "4  Cleveland Place|Lafayette Street|4th Avenue|Un...   \n",
       "\n",
       "                                   distance_per_step  \\\n",
       "0               8.1|383.4|962.5|1423.4|640.1|171.1|0   \n",
       "1            435.1|1039.8|165.5|445.1|1695.5|154.5|0   \n",
       "2  55.1|410|571.2|326.1|1635.7|24.1|90|187.1|169.1|0   \n",
       "3                            172.6|158|1996.1|42.9|0   \n",
       "4      119.1|1129|388.6|251.9|781.6|163.9|78|138.6|0   \n",
       "\n",
       "                          travel_time_per_step  \\\n",
       "0                7|42.2|85.4|118.4|87.7|19.1|0   \n",
       "1             64.1|83.5|14.4|35.9|137.9|22.2|0   \n",
       "2    15.3|38|46.7|25.1|70.8|12.3|5.8|7.5|6.7|0   \n",
       "3                         25.3|19.8|184.9|10|0   \n",
       "4  17.4|144.5|53.5|34.2|112.8|24.4|12.8|15.5|0   \n",
       "\n",
       "                                      step_maneuvers  \\\n",
       "0             depart|turn|turn|turn|turn|turn|arrive   \n",
       "1             depart|turn|fork|turn|turn|turn|arrive   \n",
       "2  depart|turn|turn|roundabout|merge|turn|turn|ne...   \n",
       "3                   depart|turn|fork|continue|arrive   \n",
       "4  depart|new name|new name|new name|new name|tur...   \n",
       "\n",
       "                                      step_direction  \n",
       "0            left|uturn|left|right|left|right|arrive  \n",
       "1    right|left|slight right|right|left|right|arrive  \n",
       "2  right|left|left|right|slight left|left|left|st...  \n",
       "3               right|right|slight left|uturn|arrive  \n",
       "4  right|slight right|straight|straight|straight|...  "
      ]
     },
     "execution_count": 9,
     "metadata": {},
     "output_type": "execute_result"
    }
   ],
   "source": [
    "train_osm[:5]"
   ]
  },
  {
   "cell_type": "code",
   "execution_count": 10,
   "metadata": {
    "ExecuteTime": {
     "end_time": "2017-08-08T07:08:14.913717Z",
     "start_time": "2017-08-08T07:08:14.673647Z"
    },
    "scrolled": true
   },
   "outputs": [
    {
     "data": {
      "text/html": [
       "<div>\n",
       "<style>\n",
       "    .dataframe thead tr:only-child th {\n",
       "        text-align: right;\n",
       "    }\n",
       "\n",
       "    .dataframe thead th {\n",
       "        text-align: left;\n",
       "    }\n",
       "\n",
       "    .dataframe tbody tr th {\n",
       "        vertical-align: top;\n",
       "    }\n",
       "</style>\n",
       "<table border=\"1\" class=\"dataframe\">\n",
       "  <thead>\n",
       "    <tr style=\"text-align: right;\">\n",
       "      <th></th>\n",
       "      <th>id</th>\n",
       "      <th>starting_street</th>\n",
       "      <th>end_street</th>\n",
       "      <th>total_distance</th>\n",
       "      <th>total_travel_time</th>\n",
       "      <th>number_of_steps</th>\n",
       "      <th>street_for_each_step</th>\n",
       "      <th>distance_per_step</th>\n",
       "      <th>travel_time_per_step</th>\n",
       "      <th>step_maneuvers</th>\n",
       "      <th>step_direction</th>\n",
       "    </tr>\n",
       "  </thead>\n",
       "  <tbody>\n",
       "    <tr>\n",
       "      <th>0</th>\n",
       "      <td>id3109230</td>\n",
       "      <td>East 29th Street</td>\n",
       "      <td>West Street</td>\n",
       "      <td>5,225.2000</td>\n",
       "      <td>701.5000</td>\n",
       "      <td>8</td>\n",
       "      <td>East 29th Street|2nd Avenue|East 9th Street|Wa...</td>\n",
       "      <td>184.1|1581.9|314.2|137.4|2393.2|595.6|18.8|0</td>\n",
       "      <td>28|206.5|39.1|24.3|321.2|81|1.4|0</td>\n",
       "      <td>depart|turn|turn|new name|turn|turn|turn|arrive</td>\n",
       "      <td>right|left|right|straight|left|right|left|arrive</td>\n",
       "    </tr>\n",
       "    <tr>\n",
       "      <th>1</th>\n",
       "      <td>id2725273</td>\n",
       "      <td>7th Avenue</td>\n",
       "      <td>East 42nd Street</td>\n",
       "      <td>2,346.9000</td>\n",
       "      <td>250.8000</td>\n",
       "      <td>7</td>\n",
       "      <td>7th Avenue|West 32nd Street|6th Avenue|West 36...</td>\n",
       "      <td>16|275.3|328.4|933.9|478.4|314.9|0</td>\n",
       "      <td>9.3|38.3|47|78.4|40.6|37.2|0</td>\n",
       "      <td>depart|turn|turn|turn|turn|turn|arrive</td>\n",
       "      <td>right|left|left|right|left|right|arrive</td>\n",
       "    </tr>\n",
       "    <tr>\n",
       "      <th>2</th>\n",
       "      <td>id1101610</td>\n",
       "      <td>Amsterdam Avenue</td>\n",
       "      <td>West 60th Street</td>\n",
       "      <td>1,690.2000</td>\n",
       "      <td>183.7000</td>\n",
       "      <td>8</td>\n",
       "      <td>Amsterdam Avenue|West 70th Street|Broadway|Col...</td>\n",
       "      <td>123.2|35.5|501.5|431.4|271.9|78.7|247.9|0</td>\n",
       "      <td>13|7.5|39.9|35.8|43.3|8.5|35.7|0</td>\n",
       "      <td>depart|turn|turn|turn|turn|turn|turn|arrive</td>\n",
       "      <td>left|right|right|slight right|right|right|righ...</td>\n",
       "    </tr>\n",
       "    <tr>\n",
       "      <th>3</th>\n",
       "      <td>id0502191</td>\n",
       "      <td>West 75th Street</td>\n",
       "      <td>East 79th Street</td>\n",
       "      <td>2,414.4000</td>\n",
       "      <td>229.2000</td>\n",
       "      <td>6</td>\n",
       "      <td>West 75th Street|Amsterdam Avenue|West 81st St...</td>\n",
       "      <td>34.6|495.9|545.9|973.4|364.6|0</td>\n",
       "      <td>9|41.6|39.8|108.9|29.9|0</td>\n",
       "      <td>depart|turn|turn|new name|new name|arrive</td>\n",
       "      <td>right|right|right|straight|straight|arrive</td>\n",
       "    </tr>\n",
       "    <tr>\n",
       "      <th>4</th>\n",
       "      <td>id0002695</td>\n",
       "      <td>7th Avenue</td>\n",
       "      <td>Park Avenue Tunnel</td>\n",
       "      <td>2,742.1000</td>\n",
       "      <td>260.8000</td>\n",
       "      <td>6</td>\n",
       "      <td>7th Avenue|West 50th Street|Lexington Avenue|E...</td>\n",
       "      <td>66.8|1050.2|1367.7|151.9|105.5|0</td>\n",
       "      <td>11.7|82.8|137.3|17.3|11.7|0</td>\n",
       "      <td>depart|turn|turn|turn|turn|arrive</td>\n",
       "      <td>left|left|right|right|right|arrive</td>\n",
       "    </tr>\n",
       "  </tbody>\n",
       "</table>\n",
       "</div>"
      ],
      "text/plain": [
       "          id   starting_street          end_street  total_distance  \\\n",
       "0  id3109230  East 29th Street         West Street      5,225.2000   \n",
       "1  id2725273        7th Avenue    East 42nd Street      2,346.9000   \n",
       "2  id1101610  Amsterdam Avenue    West 60th Street      1,690.2000   \n",
       "3  id0502191  West 75th Street    East 79th Street      2,414.4000   \n",
       "4  id0002695        7th Avenue  Park Avenue Tunnel      2,742.1000   \n",
       "\n",
       "   total_travel_time  number_of_steps  \\\n",
       "0           701.5000                8   \n",
       "1           250.8000                7   \n",
       "2           183.7000                8   \n",
       "3           229.2000                6   \n",
       "4           260.8000                6   \n",
       "\n",
       "                                street_for_each_step  \\\n",
       "0  East 29th Street|2nd Avenue|East 9th Street|Wa...   \n",
       "1  7th Avenue|West 32nd Street|6th Avenue|West 36...   \n",
       "2  Amsterdam Avenue|West 70th Street|Broadway|Col...   \n",
       "3  West 75th Street|Amsterdam Avenue|West 81st St...   \n",
       "4  7th Avenue|West 50th Street|Lexington Avenue|E...   \n",
       "\n",
       "                              distance_per_step  \\\n",
       "0  184.1|1581.9|314.2|137.4|2393.2|595.6|18.8|0   \n",
       "1            16|275.3|328.4|933.9|478.4|314.9|0   \n",
       "2     123.2|35.5|501.5|431.4|271.9|78.7|247.9|0   \n",
       "3                34.6|495.9|545.9|973.4|364.6|0   \n",
       "4              66.8|1050.2|1367.7|151.9|105.5|0   \n",
       "\n",
       "                travel_time_per_step  \\\n",
       "0  28|206.5|39.1|24.3|321.2|81|1.4|0   \n",
       "1       9.3|38.3|47|78.4|40.6|37.2|0   \n",
       "2   13|7.5|39.9|35.8|43.3|8.5|35.7|0   \n",
       "3           9|41.6|39.8|108.9|29.9|0   \n",
       "4        11.7|82.8|137.3|17.3|11.7|0   \n",
       "\n",
       "                                    step_maneuvers  \\\n",
       "0  depart|turn|turn|new name|turn|turn|turn|arrive   \n",
       "1           depart|turn|turn|turn|turn|turn|arrive   \n",
       "2      depart|turn|turn|turn|turn|turn|turn|arrive   \n",
       "3        depart|turn|turn|new name|new name|arrive   \n",
       "4                depart|turn|turn|turn|turn|arrive   \n",
       "\n",
       "                                      step_direction  \n",
       "0   right|left|right|straight|left|right|left|arrive  \n",
       "1            right|left|left|right|left|right|arrive  \n",
       "2  left|right|right|slight right|right|right|righ...  \n",
       "3         right|right|right|straight|straight|arrive  \n",
       "4                 left|left|right|right|right|arrive  "
      ]
     },
     "execution_count": 10,
     "metadata": {},
     "output_type": "execute_result"
    }
   ],
   "source": [
    "eval_osm[:5]"
   ]
  },
  {
   "cell_type": "markdown",
   "metadata": {},
   "source": [
    "#### Check different between orginal train data and OSM data set"
   ]
  },
  {
   "cell_type": "code",
   "execution_count": 11,
   "metadata": {
    "ExecuteTime": {
     "end_time": "2017-08-08T07:08:15.103761Z",
     "start_time": "2017-08-08T07:08:14.915017Z"
    }
   },
   "outputs": [
    {
     "data": {
      "text/plain": [
       "array(['distance_per_step', 'end_street', 'number_of_steps',\n",
       "       'starting_street', 'step_direction', 'step_maneuvers',\n",
       "       'street_for_each_step', 'total_distance', 'total_travel_time',\n",
       "       'travel_time_per_step'], dtype=object)"
      ]
     },
     "execution_count": 11,
     "metadata": {},
     "output_type": "execute_result"
    }
   ],
   "source": [
    "diff_cols = np.setdiff1d(train_osm.columns.values, train_data.columns.values)\n",
    "diff_cols"
   ]
  },
  {
   "cell_type": "code",
   "execution_count": 12,
   "metadata": {
    "ExecuteTime": {
     "end_time": "2017-08-08T07:08:15.380556Z",
     "start_time": "2017-08-08T07:08:15.105457Z"
    }
   },
   "outputs": [
    {
     "data": {
      "text/html": [
       "<div>\n",
       "<style>\n",
       "    .dataframe thead tr:only-child th {\n",
       "        text-align: right;\n",
       "    }\n",
       "\n",
       "    .dataframe thead th {\n",
       "        text-align: left;\n",
       "    }\n",
       "\n",
       "    .dataframe tbody tr th {\n",
       "        vertical-align: top;\n",
       "    }\n",
       "</style>\n",
       "<table border=\"1\" class=\"dataframe\">\n",
       "  <thead>\n",
       "    <tr style=\"text-align: right;\">\n",
       "      <th></th>\n",
       "      <th>id</th>\n",
       "      <th>total_distance</th>\n",
       "      <th>total_travel_time</th>\n",
       "      <th>number_of_steps</th>\n",
       "      <th>starting_street</th>\n",
       "      <th>end_street</th>\n",
       "    </tr>\n",
       "  </thead>\n",
       "  <tbody>\n",
       "    <tr>\n",
       "      <th>0</th>\n",
       "      <td>id2085575</td>\n",
       "      <td>3,588.5000</td>\n",
       "      <td>359.8000</td>\n",
       "      <td>7</td>\n",
       "      <td>Center Boulevard</td>\n",
       "      <td>West 29th Street</td>\n",
       "    </tr>\n",
       "    <tr>\n",
       "      <th>1</th>\n",
       "      <td>id0633227</td>\n",
       "      <td>3,935.6000</td>\n",
       "      <td>358.0000</td>\n",
       "      <td>7</td>\n",
       "      <td>East 42nd Street</td>\n",
       "      <td>East 78th Street</td>\n",
       "    </tr>\n",
       "    <tr>\n",
       "      <th>2</th>\n",
       "      <td>id1356036</td>\n",
       "      <td>3,468.3000</td>\n",
       "      <td>228.2000</td>\n",
       "      <td>10</td>\n",
       "      <td>West 74th Street</td>\n",
       "      <td>Joe DiMaggio Highway</td>\n",
       "    </tr>\n",
       "    <tr>\n",
       "      <th>3</th>\n",
       "      <td>id2360318</td>\n",
       "      <td>2,369.6000</td>\n",
       "      <td>240.0000</td>\n",
       "      <td>5</td>\n",
       "      <td>East 31st Street</td>\n",
       "      <td>Park Avenue</td>\n",
       "    </tr>\n",
       "    <tr>\n",
       "      <th>4</th>\n",
       "      <td>id1397932</td>\n",
       "      <td>3,050.7000</td>\n",
       "      <td>415.1000</td>\n",
       "      <td>9</td>\n",
       "      <td>Cleveland Place</td>\n",
       "      <td>East 28th Street</td>\n",
       "    </tr>\n",
       "  </tbody>\n",
       "</table>\n",
       "</div>"
      ],
      "text/plain": [
       "          id  total_distance  total_travel_time  number_of_steps  \\\n",
       "0  id2085575      3,588.5000           359.8000                7   \n",
       "1  id0633227      3,935.6000           358.0000                7   \n",
       "2  id1356036      3,468.3000           228.2000               10   \n",
       "3  id2360318      2,369.6000           240.0000                5   \n",
       "4  id1397932      3,050.7000           415.1000                9   \n",
       "\n",
       "    starting_street            end_street  \n",
       "0  Center Boulevard      West 29th Street  \n",
       "1  East 42nd Street      East 78th Street  \n",
       "2  West 74th Street  Joe DiMaggio Highway  \n",
       "3  East 31st Street           Park Avenue  \n",
       "4   Cleveland Place      East 28th Street  "
      ]
     },
     "execution_count": 12,
     "metadata": {},
     "output_type": "execute_result"
    }
   ],
   "source": [
    "col_use =col_use = ['id', 'total_distance', 'total_travel_time',\n",
    "                   'number_of_steps',\n",
    "                   'starting_street', 'end_street']\n",
    "train_osm_data = train_osm[col_use]\n",
    "train_osm_data[:5]"
   ]
  },
  {
   "cell_type": "code",
   "execution_count": 13,
   "metadata": {
    "ExecuteTime": {
     "end_time": "2017-08-08T07:08:15.673751Z",
     "start_time": "2017-08-08T07:08:15.381721Z"
    }
   },
   "outputs": [
    {
     "data": {
      "text/html": [
       "<div>\n",
       "<style>\n",
       "    .dataframe thead tr:only-child th {\n",
       "        text-align: right;\n",
       "    }\n",
       "\n",
       "    .dataframe thead th {\n",
       "        text-align: left;\n",
       "    }\n",
       "\n",
       "    .dataframe tbody tr th {\n",
       "        vertical-align: top;\n",
       "    }\n",
       "</style>\n",
       "<table border=\"1\" class=\"dataframe\">\n",
       "  <thead>\n",
       "    <tr style=\"text-align: right;\">\n",
       "      <th></th>\n",
       "      <th>id</th>\n",
       "      <th>total_distance</th>\n",
       "      <th>total_travel_time</th>\n",
       "      <th>number_of_steps</th>\n",
       "      <th>starting_street</th>\n",
       "      <th>end_street</th>\n",
       "    </tr>\n",
       "  </thead>\n",
       "  <tbody>\n",
       "    <tr>\n",
       "      <th>0</th>\n",
       "      <td>id3109230</td>\n",
       "      <td>5,225.2000</td>\n",
       "      <td>701.5000</td>\n",
       "      <td>8</td>\n",
       "      <td>East 29th Street</td>\n",
       "      <td>West Street</td>\n",
       "    </tr>\n",
       "    <tr>\n",
       "      <th>1</th>\n",
       "      <td>id2725273</td>\n",
       "      <td>2,346.9000</td>\n",
       "      <td>250.8000</td>\n",
       "      <td>7</td>\n",
       "      <td>7th Avenue</td>\n",
       "      <td>East 42nd Street</td>\n",
       "    </tr>\n",
       "    <tr>\n",
       "      <th>2</th>\n",
       "      <td>id1101610</td>\n",
       "      <td>1,690.2000</td>\n",
       "      <td>183.7000</td>\n",
       "      <td>8</td>\n",
       "      <td>Amsterdam Avenue</td>\n",
       "      <td>West 60th Street</td>\n",
       "    </tr>\n",
       "    <tr>\n",
       "      <th>3</th>\n",
       "      <td>id0502191</td>\n",
       "      <td>2,414.4000</td>\n",
       "      <td>229.2000</td>\n",
       "      <td>6</td>\n",
       "      <td>West 75th Street</td>\n",
       "      <td>East 79th Street</td>\n",
       "    </tr>\n",
       "    <tr>\n",
       "      <th>4</th>\n",
       "      <td>id0002695</td>\n",
       "      <td>2,742.1000</td>\n",
       "      <td>260.8000</td>\n",
       "      <td>6</td>\n",
       "      <td>7th Avenue</td>\n",
       "      <td>Park Avenue Tunnel</td>\n",
       "    </tr>\n",
       "  </tbody>\n",
       "</table>\n",
       "</div>"
      ],
      "text/plain": [
       "          id  total_distance  total_travel_time  number_of_steps  \\\n",
       "0  id3109230      5,225.2000           701.5000                8   \n",
       "1  id2725273      2,346.9000           250.8000                7   \n",
       "2  id1101610      1,690.2000           183.7000                8   \n",
       "3  id0502191      2,414.4000           229.2000                6   \n",
       "4  id0002695      2,742.1000           260.8000                6   \n",
       "\n",
       "    starting_street          end_street  \n",
       "0  East 29th Street         West Street  \n",
       "1        7th Avenue    East 42nd Street  \n",
       "2  Amsterdam Avenue    West 60th Street  \n",
       "3  West 75th Street    East 79th Street  \n",
       "4        7th Avenue  Park Avenue Tunnel  "
      ]
     },
     "execution_count": 13,
     "metadata": {},
     "output_type": "execute_result"
    }
   ],
   "source": [
    "eval_osm_data = eval_osm[col_use]\n",
    "eval_osm_data[:5] "
   ]
  },
  {
   "cell_type": "code",
   "execution_count": 14,
   "metadata": {
    "ExecuteTime": {
     "end_time": "2017-08-08T07:08:15.815822Z",
     "start_time": "2017-08-08T07:08:15.675046Z"
    },
    "collapsed": true
   },
   "outputs": [],
   "source": [
    "del train_osm"
   ]
  },
  {
   "cell_type": "code",
   "execution_count": 15,
   "metadata": {
    "ExecuteTime": {
     "end_time": "2017-08-08T07:08:15.993947Z",
     "start_time": "2017-08-08T07:08:15.817109Z"
    },
    "collapsed": true
   },
   "outputs": [],
   "source": [
    "del eval_osm"
   ]
  },
  {
   "cell_type": "markdown",
   "metadata": {},
   "source": [
    "### Combine train data and eval data"
   ]
  },
  {
   "cell_type": "code",
   "execution_count": 16,
   "metadata": {
    "ExecuteTime": {
     "end_time": "2017-08-08T07:08:18.146757Z",
     "start_time": "2017-08-08T07:08:15.995181Z"
    }
   },
   "outputs": [
    {
     "data": {
      "text/html": [
       "<div>\n",
       "<style>\n",
       "    .dataframe thead tr:only-child th {\n",
       "        text-align: right;\n",
       "    }\n",
       "\n",
       "    .dataframe thead th {\n",
       "        text-align: left;\n",
       "    }\n",
       "\n",
       "    .dataframe tbody tr th {\n",
       "        vertical-align: top;\n",
       "    }\n",
       "</style>\n",
       "<table border=\"1\" class=\"dataframe\">\n",
       "  <thead>\n",
       "    <tr style=\"text-align: right;\">\n",
       "      <th></th>\n",
       "      <th>id</th>\n",
       "      <th>total_distance</th>\n",
       "      <th>total_travel_time</th>\n",
       "      <th>number_of_steps</th>\n",
       "      <th>starting_street</th>\n",
       "      <th>end_street</th>\n",
       "      <th>vendor_id</th>\n",
       "      <th>pickup_datetime</th>\n",
       "      <th>dropoff_datetime</th>\n",
       "      <th>passenger_count</th>\n",
       "      <th>pickup_longitude</th>\n",
       "      <th>pickup_latitude</th>\n",
       "      <th>dropoff_longitude</th>\n",
       "      <th>dropoff_latitude</th>\n",
       "      <th>store_and_fwd_flag</th>\n",
       "      <th>trip_duration</th>\n",
       "    </tr>\n",
       "  </thead>\n",
       "  <tbody>\n",
       "    <tr>\n",
       "      <th>0</th>\n",
       "      <td>id2085575</td>\n",
       "      <td>3,588.5000</td>\n",
       "      <td>359.8000</td>\n",
       "      <td>7</td>\n",
       "      <td>Center Boulevard</td>\n",
       "      <td>West 29th Street</td>\n",
       "      <td>2</td>\n",
       "      <td>2016-03-18 13:47:52</td>\n",
       "      <td>2016-03-18 14:25:40</td>\n",
       "      <td>5</td>\n",
       "      <td>-73.9653</td>\n",
       "      <td>40.7526</td>\n",
       "      <td>-73.9947</td>\n",
       "      <td>40.7486</td>\n",
       "      <td>N</td>\n",
       "      <td>2268</td>\n",
       "    </tr>\n",
       "    <tr>\n",
       "      <th>1</th>\n",
       "      <td>id0633227</td>\n",
       "      <td>3,935.6000</td>\n",
       "      <td>358.0000</td>\n",
       "      <td>7</td>\n",
       "      <td>East 42nd Street</td>\n",
       "      <td>East 78th Street</td>\n",
       "      <td>1</td>\n",
       "      <td>2016-03-01 19:24:44</td>\n",
       "      <td>2016-03-01 19:40:36</td>\n",
       "      <td>1</td>\n",
       "      <td>-73.9790</td>\n",
       "      <td>40.7526</td>\n",
       "      <td>-73.9516</td>\n",
       "      <td>40.7709</td>\n",
       "      <td>N</td>\n",
       "      <td>952</td>\n",
       "    </tr>\n",
       "    <tr>\n",
       "      <th>2</th>\n",
       "      <td>id1356036</td>\n",
       "      <td>3,468.3000</td>\n",
       "      <td>228.2000</td>\n",
       "      <td>10</td>\n",
       "      <td>West 74th Street</td>\n",
       "      <td>Joe DiMaggio Highway</td>\n",
       "      <td>2</td>\n",
       "      <td>2016-05-20 22:49:05</td>\n",
       "      <td>2016-05-20 22:54:43</td>\n",
       "      <td>1</td>\n",
       "      <td>-73.9813</td>\n",
       "      <td>40.7801</td>\n",
       "      <td>-73.9920</td>\n",
       "      <td>40.7743</td>\n",
       "      <td>N</td>\n",
       "      <td>338</td>\n",
       "    </tr>\n",
       "    <tr>\n",
       "      <th>3</th>\n",
       "      <td>id2360318</td>\n",
       "      <td>2,369.6000</td>\n",
       "      <td>240.0000</td>\n",
       "      <td>5</td>\n",
       "      <td>East 31st Street</td>\n",
       "      <td>Park Avenue</td>\n",
       "      <td>2</td>\n",
       "      <td>2016-05-23 09:55:24</td>\n",
       "      <td>2016-05-23 10:05:50</td>\n",
       "      <td>1</td>\n",
       "      <td>-73.9808</td>\n",
       "      <td>40.7445</td>\n",
       "      <td>-73.9710</td>\n",
       "      <td>40.7615</td>\n",
       "      <td>N</td>\n",
       "      <td>626</td>\n",
       "    </tr>\n",
       "    <tr>\n",
       "      <th>4</th>\n",
       "      <td>id1397932</td>\n",
       "      <td>3,050.7000</td>\n",
       "      <td>415.1000</td>\n",
       "      <td>9</td>\n",
       "      <td>Cleveland Place</td>\n",
       "      <td>East 28th Street</td>\n",
       "      <td>1</td>\n",
       "      <td>2016-06-02 20:01:15</td>\n",
       "      <td>2016-06-02 20:16:00</td>\n",
       "      <td>1</td>\n",
       "      <td>-73.9974</td>\n",
       "      <td>40.7212</td>\n",
       "      <td>-73.9843</td>\n",
       "      <td>40.7434</td>\n",
       "      <td>N</td>\n",
       "      <td>885</td>\n",
       "    </tr>\n",
       "  </tbody>\n",
       "</table>\n",
       "</div>"
      ],
      "text/plain": [
       "          id  total_distance  total_travel_time  number_of_steps  \\\n",
       "0  id2085575      3,588.5000           359.8000                7   \n",
       "1  id0633227      3,935.6000           358.0000                7   \n",
       "2  id1356036      3,468.3000           228.2000               10   \n",
       "3  id2360318      2,369.6000           240.0000                5   \n",
       "4  id1397932      3,050.7000           415.1000                9   \n",
       "\n",
       "    starting_street            end_street  vendor_id      pickup_datetime  \\\n",
       "0  Center Boulevard      West 29th Street          2  2016-03-18 13:47:52   \n",
       "1  East 42nd Street      East 78th Street          1  2016-03-01 19:24:44   \n",
       "2  West 74th Street  Joe DiMaggio Highway          2  2016-05-20 22:49:05   \n",
       "3  East 31st Street           Park Avenue          2  2016-05-23 09:55:24   \n",
       "4   Cleveland Place      East 28th Street          1  2016-06-02 20:01:15   \n",
       "\n",
       "      dropoff_datetime  passenger_count  pickup_longitude  pickup_latitude  \\\n",
       "0  2016-03-18 14:25:40                5          -73.9653          40.7526   \n",
       "1  2016-03-01 19:40:36                1          -73.9790          40.7526   \n",
       "2  2016-05-20 22:54:43                1          -73.9813          40.7801   \n",
       "3  2016-05-23 10:05:50                1          -73.9808          40.7445   \n",
       "4  2016-06-02 20:16:00                1          -73.9974          40.7212   \n",
       "\n",
       "   dropoff_longitude  dropoff_latitude store_and_fwd_flag  trip_duration  \n",
       "0           -73.9947           40.7486                  N           2268  \n",
       "1           -73.9516           40.7709                  N            952  \n",
       "2           -73.9920           40.7743                  N            338  \n",
       "3           -73.9710           40.7615                  N            626  \n",
       "4           -73.9843           40.7434                  N            885  "
      ]
     },
     "execution_count": 16,
     "metadata": {},
     "output_type": "execute_result"
    }
   ],
   "source": [
    "train_data = train_osm_data.join(train_data.set_index('id'), on='id')\n",
    "train_data[:5]"
   ]
  },
  {
   "cell_type": "code",
   "execution_count": 17,
   "metadata": {
    "ExecuteTime": {
     "end_time": "2017-08-08T07:08:18.942322Z",
     "start_time": "2017-08-08T07:08:18.148095Z"
    },
    "scrolled": true
   },
   "outputs": [
    {
     "data": {
      "text/html": [
       "<div>\n",
       "<style>\n",
       "    .dataframe thead tr:only-child th {\n",
       "        text-align: right;\n",
       "    }\n",
       "\n",
       "    .dataframe thead th {\n",
       "        text-align: left;\n",
       "    }\n",
       "\n",
       "    .dataframe tbody tr th {\n",
       "        vertical-align: top;\n",
       "    }\n",
       "</style>\n",
       "<table border=\"1\" class=\"dataframe\">\n",
       "  <thead>\n",
       "    <tr style=\"text-align: right;\">\n",
       "      <th></th>\n",
       "      <th>id</th>\n",
       "      <th>total_distance</th>\n",
       "      <th>total_travel_time</th>\n",
       "      <th>number_of_steps</th>\n",
       "      <th>starting_street</th>\n",
       "      <th>end_street</th>\n",
       "      <th>vendor_id</th>\n",
       "      <th>pickup_datetime</th>\n",
       "      <th>passenger_count</th>\n",
       "      <th>pickup_longitude</th>\n",
       "      <th>pickup_latitude</th>\n",
       "      <th>dropoff_longitude</th>\n",
       "      <th>dropoff_latitude</th>\n",
       "      <th>store_and_fwd_flag</th>\n",
       "    </tr>\n",
       "  </thead>\n",
       "  <tbody>\n",
       "    <tr>\n",
       "      <th>0</th>\n",
       "      <td>id3109230</td>\n",
       "      <td>5,225.2000</td>\n",
       "      <td>701.5000</td>\n",
       "      <td>8</td>\n",
       "      <td>East 29th Street</td>\n",
       "      <td>West Street</td>\n",
       "      <td>1</td>\n",
       "      <td>2016-02-12 07:59:49</td>\n",
       "      <td>1</td>\n",
       "      <td>-73.9762</td>\n",
       "      <td>40.7409</td>\n",
       "      <td>-74.0137</td>\n",
       "      <td>40.7151</td>\n",
       "      <td>N</td>\n",
       "    </tr>\n",
       "    <tr>\n",
       "      <th>1</th>\n",
       "      <td>id2725273</td>\n",
       "      <td>2,346.9000</td>\n",
       "      <td>250.8000</td>\n",
       "      <td>7</td>\n",
       "      <td>7th Avenue</td>\n",
       "      <td>East 42nd Street</td>\n",
       "      <td>2</td>\n",
       "      <td>2016-01-01 16:11:51</td>\n",
       "      <td>1</td>\n",
       "      <td>-73.9919</td>\n",
       "      <td>40.7500</td>\n",
       "      <td>-73.9711</td>\n",
       "      <td>40.7495</td>\n",
       "      <td>N</td>\n",
       "    </tr>\n",
       "    <tr>\n",
       "      <th>2</th>\n",
       "      <td>id1101610</td>\n",
       "      <td>1,690.2000</td>\n",
       "      <td>183.7000</td>\n",
       "      <td>8</td>\n",
       "      <td>Amsterdam Avenue</td>\n",
       "      <td>West 60th Street</td>\n",
       "      <td>1</td>\n",
       "      <td>2016-05-18 07:53:45</td>\n",
       "      <td>1</td>\n",
       "      <td>-73.9835</td>\n",
       "      <td>40.7764</td>\n",
       "      <td>-73.9845</td>\n",
       "      <td>40.7701</td>\n",
       "      <td>N</td>\n",
       "    </tr>\n",
       "    <tr>\n",
       "      <th>3</th>\n",
       "      <td>id0502191</td>\n",
       "      <td>2,414.4000</td>\n",
       "      <td>229.2000</td>\n",
       "      <td>6</td>\n",
       "      <td>West 75th Street</td>\n",
       "      <td>East 79th Street</td>\n",
       "      <td>1</td>\n",
       "      <td>2016-05-04 11:51:02</td>\n",
       "      <td>1</td>\n",
       "      <td>-73.9798</td>\n",
       "      <td>40.7805</td>\n",
       "      <td>-73.9599</td>\n",
       "      <td>40.7755</td>\n",
       "      <td>N</td>\n",
       "    </tr>\n",
       "    <tr>\n",
       "      <th>4</th>\n",
       "      <td>id0002695</td>\n",
       "      <td>2,742.1000</td>\n",
       "      <td>260.8000</td>\n",
       "      <td>6</td>\n",
       "      <td>7th Avenue</td>\n",
       "      <td>Park Avenue Tunnel</td>\n",
       "      <td>1</td>\n",
       "      <td>2016-01-13 21:16:48</td>\n",
       "      <td>1</td>\n",
       "      <td>-73.9828</td>\n",
       "      <td>40.7616</td>\n",
       "      <td>-73.9812</td>\n",
       "      <td>40.7472</td>\n",
       "      <td>N</td>\n",
       "    </tr>\n",
       "  </tbody>\n",
       "</table>\n",
       "</div>"
      ],
      "text/plain": [
       "          id  total_distance  total_travel_time  number_of_steps  \\\n",
       "0  id3109230      5,225.2000           701.5000                8   \n",
       "1  id2725273      2,346.9000           250.8000                7   \n",
       "2  id1101610      1,690.2000           183.7000                8   \n",
       "3  id0502191      2,414.4000           229.2000                6   \n",
       "4  id0002695      2,742.1000           260.8000                6   \n",
       "\n",
       "    starting_street          end_street  vendor_id      pickup_datetime  \\\n",
       "0  East 29th Street         West Street          1  2016-02-12 07:59:49   \n",
       "1        7th Avenue    East 42nd Street          2  2016-01-01 16:11:51   \n",
       "2  Amsterdam Avenue    West 60th Street          1  2016-05-18 07:53:45   \n",
       "3  West 75th Street    East 79th Street          1  2016-05-04 11:51:02   \n",
       "4        7th Avenue  Park Avenue Tunnel          1  2016-01-13 21:16:48   \n",
       "\n",
       "   passenger_count  pickup_longitude  pickup_latitude  dropoff_longitude  \\\n",
       "0                1          -73.9762          40.7409           -74.0137   \n",
       "1                1          -73.9919          40.7500           -73.9711   \n",
       "2                1          -73.9835          40.7764           -73.9845   \n",
       "3                1          -73.9798          40.7805           -73.9599   \n",
       "4                1          -73.9828          40.7616           -73.9812   \n",
       "\n",
       "   dropoff_latitude store_and_fwd_flag  \n",
       "0           40.7151                  N  \n",
       "1           40.7495                  N  \n",
       "2           40.7701                  N  \n",
       "3           40.7755                  N  \n",
       "4           40.7472                  N  "
      ]
     },
     "execution_count": 17,
     "metadata": {},
     "output_type": "execute_result"
    }
   ],
   "source": [
    "eval_data = eval_osm_data.join(eval_data.set_index('id'), on='id')\n",
    "eval_data[:5]"
   ]
  },
  {
   "cell_type": "code",
   "execution_count": 18,
   "metadata": {
    "ExecuteTime": {
     "end_time": "2017-08-08T07:08:18.945970Z",
     "start_time": "2017-08-08T07:08:18.943719Z"
    },
    "collapsed": true
   },
   "outputs": [],
   "source": [
    "del train_osm_data\n",
    "del eval_osm_data"
   ]
  },
  {
   "cell_type": "code",
   "execution_count": 19,
   "metadata": {
    "ExecuteTime": {
     "end_time": "2017-08-08T07:08:20.348651Z",
     "start_time": "2017-08-08T07:08:18.947183Z"
    }
   },
   "outputs": [
    {
     "name": "stdout",
     "output_type": "stream",
     "text": [
      "combine data: 2083777\n"
     ]
    },
    {
     "data": {
      "text/html": [
       "<div>\n",
       "<style>\n",
       "    .dataframe thead tr:only-child th {\n",
       "        text-align: right;\n",
       "    }\n",
       "\n",
       "    .dataframe thead th {\n",
       "        text-align: left;\n",
       "    }\n",
       "\n",
       "    .dataframe tbody tr th {\n",
       "        vertical-align: top;\n",
       "    }\n",
       "</style>\n",
       "<table border=\"1\" class=\"dataframe\">\n",
       "  <thead>\n",
       "    <tr style=\"text-align: right;\">\n",
       "      <th></th>\n",
       "      <th></th>\n",
       "      <th>id</th>\n",
       "      <th>total_distance</th>\n",
       "      <th>total_travel_time</th>\n",
       "      <th>number_of_steps</th>\n",
       "      <th>starting_street</th>\n",
       "      <th>end_street</th>\n",
       "      <th>vendor_id</th>\n",
       "      <th>pickup_datetime</th>\n",
       "      <th>passenger_count</th>\n",
       "      <th>pickup_longitude</th>\n",
       "      <th>pickup_latitude</th>\n",
       "      <th>dropoff_longitude</th>\n",
       "      <th>dropoff_latitude</th>\n",
       "      <th>store_and_fwd_flag</th>\n",
       "    </tr>\n",
       "  </thead>\n",
       "  <tbody>\n",
       "    <tr>\n",
       "      <th rowspan=\"5\" valign=\"top\">train</th>\n",
       "      <th>0</th>\n",
       "      <td>id2085575</td>\n",
       "      <td>3,588.5000</td>\n",
       "      <td>359.8000</td>\n",
       "      <td>7</td>\n",
       "      <td>Center Boulevard</td>\n",
       "      <td>West 29th Street</td>\n",
       "      <td>2</td>\n",
       "      <td>2016-03-18 13:47:52</td>\n",
       "      <td>5</td>\n",
       "      <td>-73.9653</td>\n",
       "      <td>40.7526</td>\n",
       "      <td>-73.9947</td>\n",
       "      <td>40.7486</td>\n",
       "      <td>N</td>\n",
       "    </tr>\n",
       "    <tr>\n",
       "      <th>1</th>\n",
       "      <td>id0633227</td>\n",
       "      <td>3,935.6000</td>\n",
       "      <td>358.0000</td>\n",
       "      <td>7</td>\n",
       "      <td>East 42nd Street</td>\n",
       "      <td>East 78th Street</td>\n",
       "      <td>1</td>\n",
       "      <td>2016-03-01 19:24:44</td>\n",
       "      <td>1</td>\n",
       "      <td>-73.9790</td>\n",
       "      <td>40.7526</td>\n",
       "      <td>-73.9516</td>\n",
       "      <td>40.7709</td>\n",
       "      <td>N</td>\n",
       "    </tr>\n",
       "    <tr>\n",
       "      <th>2</th>\n",
       "      <td>id1356036</td>\n",
       "      <td>3,468.3000</td>\n",
       "      <td>228.2000</td>\n",
       "      <td>10</td>\n",
       "      <td>West 74th Street</td>\n",
       "      <td>Joe DiMaggio Highway</td>\n",
       "      <td>2</td>\n",
       "      <td>2016-05-20 22:49:05</td>\n",
       "      <td>1</td>\n",
       "      <td>-73.9813</td>\n",
       "      <td>40.7801</td>\n",
       "      <td>-73.9920</td>\n",
       "      <td>40.7743</td>\n",
       "      <td>N</td>\n",
       "    </tr>\n",
       "    <tr>\n",
       "      <th>3</th>\n",
       "      <td>id2360318</td>\n",
       "      <td>2,369.6000</td>\n",
       "      <td>240.0000</td>\n",
       "      <td>5</td>\n",
       "      <td>East 31st Street</td>\n",
       "      <td>Park Avenue</td>\n",
       "      <td>2</td>\n",
       "      <td>2016-05-23 09:55:24</td>\n",
       "      <td>1</td>\n",
       "      <td>-73.9808</td>\n",
       "      <td>40.7445</td>\n",
       "      <td>-73.9710</td>\n",
       "      <td>40.7615</td>\n",
       "      <td>N</td>\n",
       "    </tr>\n",
       "    <tr>\n",
       "      <th>4</th>\n",
       "      <td>id1397932</td>\n",
       "      <td>3,050.7000</td>\n",
       "      <td>415.1000</td>\n",
       "      <td>9</td>\n",
       "      <td>Cleveland Place</td>\n",
       "      <td>East 28th Street</td>\n",
       "      <td>1</td>\n",
       "      <td>2016-06-02 20:01:15</td>\n",
       "      <td>1</td>\n",
       "      <td>-73.9974</td>\n",
       "      <td>40.7212</td>\n",
       "      <td>-73.9843</td>\n",
       "      <td>40.7434</td>\n",
       "      <td>N</td>\n",
       "    </tr>\n",
       "  </tbody>\n",
       "</table>\n",
       "</div>"
      ],
      "text/plain": [
       "                id  total_distance  total_travel_time  number_of_steps  \\\n",
       "train 0  id2085575      3,588.5000           359.8000                7   \n",
       "      1  id0633227      3,935.6000           358.0000                7   \n",
       "      2  id1356036      3,468.3000           228.2000               10   \n",
       "      3  id2360318      2,369.6000           240.0000                5   \n",
       "      4  id1397932      3,050.7000           415.1000                9   \n",
       "\n",
       "          starting_street            end_street  vendor_id  \\\n",
       "train 0  Center Boulevard      West 29th Street          2   \n",
       "      1  East 42nd Street      East 78th Street          1   \n",
       "      2  West 74th Street  Joe DiMaggio Highway          2   \n",
       "      3  East 31st Street           Park Avenue          2   \n",
       "      4   Cleveland Place      East 28th Street          1   \n",
       "\n",
       "             pickup_datetime  passenger_count  pickup_longitude  \\\n",
       "train 0  2016-03-18 13:47:52                5          -73.9653   \n",
       "      1  2016-03-01 19:24:44                1          -73.9790   \n",
       "      2  2016-05-20 22:49:05                1          -73.9813   \n",
       "      3  2016-05-23 09:55:24                1          -73.9808   \n",
       "      4  2016-06-02 20:01:15                1          -73.9974   \n",
       "\n",
       "         pickup_latitude  dropoff_longitude  dropoff_latitude  \\\n",
       "train 0          40.7526           -73.9947           40.7486   \n",
       "      1          40.7526           -73.9516           40.7709   \n",
       "      2          40.7801           -73.9920           40.7743   \n",
       "      3          40.7445           -73.9710           40.7615   \n",
       "      4          40.7212           -73.9843           40.7434   \n",
       "\n",
       "        store_and_fwd_flag  \n",
       "train 0                  N  \n",
       "      1                  N  \n",
       "      2                  N  \n",
       "      3                  N  \n",
       "      4                  N  "
      ]
     },
     "execution_count": 19,
     "metadata": {},
     "output_type": "execute_result"
    }
   ],
   "source": [
    "label = 'trip_duration'\n",
    "features = eval_data.columns.values\n",
    "target = train_data[label]\n",
    "combine_data = pd.concat([train_data[features], eval_data], keys=['train','eval'])\n",
    "print(\"combine data:\", len(combine_data))\n",
    "combine_data.head(5)"
   ]
  },
  {
   "cell_type": "markdown",
   "metadata": {},
   "source": [
    "# Pre-process data"
   ]
  },
  {
   "cell_type": "markdown",
   "metadata": {},
   "source": [
    "## Check& Fill  NaN "
   ]
  },
  {
   "cell_type": "code",
   "execution_count": 20,
   "metadata": {
    "ExecuteTime": {
     "end_time": "2017-08-08T07:08:20.359232Z",
     "start_time": "2017-08-08T07:08:20.349988Z"
    },
    "collapsed": true
   },
   "outputs": [],
   "source": [
    "def check_null_data(data):\n",
    "    #Get high percent of NaN data\n",
    "    null_data = data.isnull()\n",
    "    total = null_data.sum().sort_values(ascending=False)\n",
    "    percent = (null_data.sum()/null_data.count()).sort_values(ascending=False)\n",
    "    missing_data = pd.concat([total, percent], axis=1, keys=['Total', 'Percent'])\n",
    "    high_percent_miss_data = missing_data[missing_data['Percent']>0]\n",
    "    #print(missing_data)\n",
    "    print(high_percent_miss_data)\n",
    "    miss_data_cols = high_percent_miss_data.index.values\n",
    "    return miss_data_cols"
   ]
  },
  {
   "cell_type": "code",
   "execution_count": 21,
   "metadata": {
    "ExecuteTime": {
     "end_time": "2017-08-08T07:08:22.365732Z",
     "start_time": "2017-08-08T07:08:20.360684Z"
    },
    "scrolled": true
   },
   "outputs": [
    {
     "name": "stdout",
     "output_type": "stream",
     "text": [
      "Empty DataFrame\n",
      "Columns: [Total, Percent]\n",
      "Index: []\n"
     ]
    },
    {
     "data": {
      "text/plain": [
       "array([], dtype=object)"
      ]
     },
     "execution_count": 21,
     "metadata": {},
     "output_type": "execute_result"
    }
   ],
   "source": [
    "# combine data for null\n",
    "check_null_data(combine_data)"
   ]
  },
  {
   "cell_type": "code",
   "execution_count": 22,
   "metadata": {
    "ExecuteTime": {
     "end_time": "2017-08-08T07:08:22.373291Z",
     "start_time": "2017-08-08T07:08:22.367531Z"
    },
    "scrolled": false
   },
   "outputs": [
    {
     "data": {
      "text/plain": [
       "id                     object\n",
       "total_distance        float64\n",
       "total_travel_time     float64\n",
       "number_of_steps         int64\n",
       "starting_street        object\n",
       "end_street             object\n",
       "vendor_id               int64\n",
       "pickup_datetime        object\n",
       "passenger_count         int64\n",
       "pickup_longitude      float64\n",
       "pickup_latitude       float64\n",
       "dropoff_longitude     float64\n",
       "dropoff_latitude      float64\n",
       "store_and_fwd_flag     object\n",
       "dtype: object"
      ]
     },
     "execution_count": 22,
     "metadata": {},
     "output_type": "execute_result"
    }
   ],
   "source": [
    "combine_data.dtypes"
   ]
  },
  {
   "cell_type": "markdown",
   "metadata": {},
   "source": [
    "### FillNA for total_distance"
   ]
  },
  {
   "cell_type": "code",
   "execution_count": 23,
   "metadata": {
    "ExecuteTime": {
     "end_time": "2017-08-08T07:08:22.562599Z",
     "start_time": "2017-08-08T07:08:22.375012Z"
    },
    "collapsed": true
   },
   "outputs": [],
   "source": [
    "combine_data['total_distance'].fillna(0, inplace=True)"
   ]
  },
  {
   "cell_type": "markdown",
   "metadata": {},
   "source": [
    "### FillNaN for number_of_streets"
   ]
  },
  {
   "cell_type": "code",
   "execution_count": 24,
   "metadata": {
    "ExecuteTime": {
     "end_time": "2017-08-08T07:08:22.726128Z",
     "start_time": "2017-08-08T07:08:22.565092Z"
    },
    "collapsed": true
   },
   "outputs": [],
   "source": [
    "combine_data['number_of_steps'].fillna(1, inplace=True)"
   ]
  },
  {
   "cell_type": "markdown",
   "metadata": {},
   "source": [
    "## Transform object data"
   ]
  },
  {
   "cell_type": "code",
   "execution_count": 25,
   "metadata": {
    "ExecuteTime": {
     "end_time": "2017-08-08T07:08:22.916871Z",
     "start_time": "2017-08-08T07:08:22.727927Z"
    },
    "collapsed": true
   },
   "outputs": [],
   "source": [
    "data = combine_data"
   ]
  },
  {
   "cell_type": "markdown",
   "metadata": {},
   "source": [
    "### Convert datetime string to object"
   ]
  },
  {
   "cell_type": "code",
   "execution_count": 26,
   "metadata": {
    "ExecuteTime": {
     "end_time": "2017-08-08T07:08:23.117009Z",
     "start_time": "2017-08-08T07:08:22.918713Z"
    },
    "collapsed": true
   },
   "outputs": [],
   "source": [
    "def pd_datetime(data):\n",
    "    date_format = \"%Y-%m-%d %H:%M:%S\"\n",
    "    datetime_obj = data['pickup_datetime'].apply(lambda x: datetime.strptime(x, date_format))\n",
    "    return datetime_obj "
   ]
  },
  {
   "cell_type": "code",
   "execution_count": 27,
   "metadata": {
    "ExecuteTime": {
     "end_time": "2017-08-08T07:08:24.008357Z",
     "start_time": "2017-08-08T07:08:23.118194Z"
    }
   },
   "outputs": [
    {
     "data": {
      "text/plain": [
       "train  0   2016-03-18 13:47:52\n",
       "       1   2016-03-01 19:24:44\n",
       "       2   2016-05-20 22:49:05\n",
       "       3   2016-05-23 09:55:24\n",
       "       4   2016-06-02 20:01:15\n",
       "Name: datetime_obj, dtype: datetime64[ns]"
      ]
     },
     "execution_count": 27,
     "metadata": {},
     "output_type": "execute_result"
    }
   ],
   "source": [
    "#data['datetime_obj'] = pd_datetime(data)\n",
    "data['datetime_obj'] = pd.to_datetime(data['pickup_datetime'])\n",
    "data['datetime_obj'][:5]"
   ]
  },
  {
   "cell_type": "code",
   "execution_count": 28,
   "metadata": {
    "ExecuteTime": {
     "end_time": "2017-08-08T07:08:24.948313Z",
     "start_time": "2017-08-08T07:08:24.010137Z"
    },
    "collapsed": true
   },
   "outputs": [],
   "source": [
    "data['pickup_year'] = data['datetime_obj'].dt.year\n",
    "data['pickup_month'] = data['datetime_obj'].dt.month\n",
    "data['pickup_weekday'] = data['datetime_obj'].dt.weekday\n",
    "data['pickup_day'] = data['datetime_obj'].dt.day\n",
    "data['pickup_hour'] = data['datetime_obj'].dt.hour\n",
    "data['pickup_whour'] = data['pickup_weekday'] * 24 + data['pickup_hour']\n",
    "data['pickup_minute'] = data['datetime_obj'].dt.minute"
   ]
  },
  {
   "cell_type": "code",
   "execution_count": 29,
   "metadata": {
    "ExecuteTime": {
     "end_time": "2017-08-08T07:08:24.979721Z",
     "start_time": "2017-08-08T07:08:24.949784Z"
    }
   },
   "outputs": [
    {
     "data": {
      "text/html": [
       "<div>\n",
       "<style>\n",
       "    .dataframe thead tr:only-child th {\n",
       "        text-align: right;\n",
       "    }\n",
       "\n",
       "    .dataframe thead th {\n",
       "        text-align: left;\n",
       "    }\n",
       "\n",
       "    .dataframe tbody tr th {\n",
       "        vertical-align: top;\n",
       "    }\n",
       "</style>\n",
       "<table border=\"1\" class=\"dataframe\">\n",
       "  <thead>\n",
       "    <tr style=\"text-align: right;\">\n",
       "      <th></th>\n",
       "      <th></th>\n",
       "      <th>id</th>\n",
       "      <th>total_distance</th>\n",
       "      <th>total_travel_time</th>\n",
       "      <th>number_of_steps</th>\n",
       "      <th>starting_street</th>\n",
       "      <th>end_street</th>\n",
       "      <th>vendor_id</th>\n",
       "      <th>pickup_datetime</th>\n",
       "      <th>passenger_count</th>\n",
       "      <th>pickup_longitude</th>\n",
       "      <th>...</th>\n",
       "      <th>dropoff_latitude</th>\n",
       "      <th>store_and_fwd_flag</th>\n",
       "      <th>datetime_obj</th>\n",
       "      <th>pickup_year</th>\n",
       "      <th>pickup_month</th>\n",
       "      <th>pickup_weekday</th>\n",
       "      <th>pickup_day</th>\n",
       "      <th>pickup_hour</th>\n",
       "      <th>pickup_whour</th>\n",
       "      <th>pickup_minute</th>\n",
       "    </tr>\n",
       "  </thead>\n",
       "  <tbody>\n",
       "    <tr>\n",
       "      <th rowspan=\"5\" valign=\"top\">train</th>\n",
       "      <th>0</th>\n",
       "      <td>id2085575</td>\n",
       "      <td>3,588.5000</td>\n",
       "      <td>359.8000</td>\n",
       "      <td>7</td>\n",
       "      <td>Center Boulevard</td>\n",
       "      <td>West 29th Street</td>\n",
       "      <td>2</td>\n",
       "      <td>2016-03-18 13:47:52</td>\n",
       "      <td>5</td>\n",
       "      <td>-73.9653</td>\n",
       "      <td>...</td>\n",
       "      <td>40.7486</td>\n",
       "      <td>N</td>\n",
       "      <td>2016-03-18 13:47:52</td>\n",
       "      <td>2016</td>\n",
       "      <td>3</td>\n",
       "      <td>4</td>\n",
       "      <td>18</td>\n",
       "      <td>13</td>\n",
       "      <td>109</td>\n",
       "      <td>47</td>\n",
       "    </tr>\n",
       "    <tr>\n",
       "      <th>1</th>\n",
       "      <td>id0633227</td>\n",
       "      <td>3,935.6000</td>\n",
       "      <td>358.0000</td>\n",
       "      <td>7</td>\n",
       "      <td>East 42nd Street</td>\n",
       "      <td>East 78th Street</td>\n",
       "      <td>1</td>\n",
       "      <td>2016-03-01 19:24:44</td>\n",
       "      <td>1</td>\n",
       "      <td>-73.9790</td>\n",
       "      <td>...</td>\n",
       "      <td>40.7709</td>\n",
       "      <td>N</td>\n",
       "      <td>2016-03-01 19:24:44</td>\n",
       "      <td>2016</td>\n",
       "      <td>3</td>\n",
       "      <td>1</td>\n",
       "      <td>1</td>\n",
       "      <td>19</td>\n",
       "      <td>43</td>\n",
       "      <td>24</td>\n",
       "    </tr>\n",
       "    <tr>\n",
       "      <th>2</th>\n",
       "      <td>id1356036</td>\n",
       "      <td>3,468.3000</td>\n",
       "      <td>228.2000</td>\n",
       "      <td>10</td>\n",
       "      <td>West 74th Street</td>\n",
       "      <td>Joe DiMaggio Highway</td>\n",
       "      <td>2</td>\n",
       "      <td>2016-05-20 22:49:05</td>\n",
       "      <td>1</td>\n",
       "      <td>-73.9813</td>\n",
       "      <td>...</td>\n",
       "      <td>40.7743</td>\n",
       "      <td>N</td>\n",
       "      <td>2016-05-20 22:49:05</td>\n",
       "      <td>2016</td>\n",
       "      <td>5</td>\n",
       "      <td>4</td>\n",
       "      <td>20</td>\n",
       "      <td>22</td>\n",
       "      <td>118</td>\n",
       "      <td>49</td>\n",
       "    </tr>\n",
       "    <tr>\n",
       "      <th>3</th>\n",
       "      <td>id2360318</td>\n",
       "      <td>2,369.6000</td>\n",
       "      <td>240.0000</td>\n",
       "      <td>5</td>\n",
       "      <td>East 31st Street</td>\n",
       "      <td>Park Avenue</td>\n",
       "      <td>2</td>\n",
       "      <td>2016-05-23 09:55:24</td>\n",
       "      <td>1</td>\n",
       "      <td>-73.9808</td>\n",
       "      <td>...</td>\n",
       "      <td>40.7615</td>\n",
       "      <td>N</td>\n",
       "      <td>2016-05-23 09:55:24</td>\n",
       "      <td>2016</td>\n",
       "      <td>5</td>\n",
       "      <td>0</td>\n",
       "      <td>23</td>\n",
       "      <td>9</td>\n",
       "      <td>9</td>\n",
       "      <td>55</td>\n",
       "    </tr>\n",
       "    <tr>\n",
       "      <th>4</th>\n",
       "      <td>id1397932</td>\n",
       "      <td>3,050.7000</td>\n",
       "      <td>415.1000</td>\n",
       "      <td>9</td>\n",
       "      <td>Cleveland Place</td>\n",
       "      <td>East 28th Street</td>\n",
       "      <td>1</td>\n",
       "      <td>2016-06-02 20:01:15</td>\n",
       "      <td>1</td>\n",
       "      <td>-73.9974</td>\n",
       "      <td>...</td>\n",
       "      <td>40.7434</td>\n",
       "      <td>N</td>\n",
       "      <td>2016-06-02 20:01:15</td>\n",
       "      <td>2016</td>\n",
       "      <td>6</td>\n",
       "      <td>3</td>\n",
       "      <td>2</td>\n",
       "      <td>20</td>\n",
       "      <td>92</td>\n",
       "      <td>1</td>\n",
       "    </tr>\n",
       "  </tbody>\n",
       "</table>\n",
       "<p>5 rows × 22 columns</p>\n",
       "</div>"
      ],
      "text/plain": [
       "                id  total_distance  total_travel_time  number_of_steps  \\\n",
       "train 0  id2085575      3,588.5000           359.8000                7   \n",
       "      1  id0633227      3,935.6000           358.0000                7   \n",
       "      2  id1356036      3,468.3000           228.2000               10   \n",
       "      3  id2360318      2,369.6000           240.0000                5   \n",
       "      4  id1397932      3,050.7000           415.1000                9   \n",
       "\n",
       "          starting_street            end_street  vendor_id  \\\n",
       "train 0  Center Boulevard      West 29th Street          2   \n",
       "      1  East 42nd Street      East 78th Street          1   \n",
       "      2  West 74th Street  Joe DiMaggio Highway          2   \n",
       "      3  East 31st Street           Park Avenue          2   \n",
       "      4   Cleveland Place      East 28th Street          1   \n",
       "\n",
       "             pickup_datetime  passenger_count  pickup_longitude  \\\n",
       "train 0  2016-03-18 13:47:52                5          -73.9653   \n",
       "      1  2016-03-01 19:24:44                1          -73.9790   \n",
       "      2  2016-05-20 22:49:05                1          -73.9813   \n",
       "      3  2016-05-23 09:55:24                1          -73.9808   \n",
       "      4  2016-06-02 20:01:15                1          -73.9974   \n",
       "\n",
       "             ...        dropoff_latitude  store_and_fwd_flag  \\\n",
       "train 0      ...                 40.7486                   N   \n",
       "      1      ...                 40.7709                   N   \n",
       "      2      ...                 40.7743                   N   \n",
       "      3      ...                 40.7615                   N   \n",
       "      4      ...                 40.7434                   N   \n",
       "\n",
       "               datetime_obj pickup_year pickup_month  pickup_weekday  \\\n",
       "train 0 2016-03-18 13:47:52        2016            3               4   \n",
       "      1 2016-03-01 19:24:44        2016            3               1   \n",
       "      2 2016-05-20 22:49:05        2016            5               4   \n",
       "      3 2016-05-23 09:55:24        2016            5               0   \n",
       "      4 2016-06-02 20:01:15        2016            6               3   \n",
       "\n",
       "         pickup_day  pickup_hour  pickup_whour  pickup_minute  \n",
       "train 0          18           13           109             47  \n",
       "      1           1           19            43             24  \n",
       "      2          20           22           118             49  \n",
       "      3          23            9             9             55  \n",
       "      4           2           20            92              1  \n",
       "\n",
       "[5 rows x 22 columns]"
      ]
     },
     "execution_count": 29,
     "metadata": {},
     "output_type": "execute_result"
    }
   ],
   "source": [
    "data[:5]"
   ]
  },
  {
   "cell_type": "code",
   "execution_count": 30,
   "metadata": {
    "ExecuteTime": {
     "end_time": "2017-08-08T07:08:25.158212Z",
     "start_time": "2017-08-08T07:08:24.982239Z"
    }
   },
   "outputs": [
    {
     "data": {
      "text/plain": [
       "3    365886\n",
       "4    359077\n",
       "5    356057\n",
       "2    340614\n",
       "6    334760\n",
       "1    327383\n",
       "Name: pickup_month, dtype: int64"
      ]
     },
     "execution_count": 30,
     "metadata": {},
     "output_type": "execute_result"
    }
   ],
   "source": [
    "data['pickup_month'].value_counts()"
   ]
  },
  {
   "cell_type": "markdown",
   "metadata": {},
   "source": [
    "### store_and_fwd_flag"
   ]
  },
  {
   "cell_type": "code",
   "execution_count": 31,
   "metadata": {
    "ExecuteTime": {
     "end_time": "2017-08-08T07:08:25.535382Z",
     "start_time": "2017-08-08T07:08:25.159403Z"
    }
   },
   "outputs": [
    {
     "data": {
      "text/plain": [
       "N    2072302\n",
       "Y      11475\n",
       "Name: store_and_fwd_flag, dtype: int64"
      ]
     },
     "execution_count": 31,
     "metadata": {},
     "output_type": "execute_result"
    }
   ],
   "source": [
    "col = 'store_and_fwd_flag'\n",
    "data[col].value_counts()"
   ]
  },
  {
   "cell_type": "code",
   "execution_count": 32,
   "metadata": {
    "ExecuteTime": {
     "end_time": "2017-08-08T07:08:26.012151Z",
     "start_time": "2017-08-08T07:08:25.536721Z"
    }
   },
   "outputs": [
    {
     "data": {
      "text/html": [
       "<div>\n",
       "<style>\n",
       "    .dataframe thead tr:only-child th {\n",
       "        text-align: right;\n",
       "    }\n",
       "\n",
       "    .dataframe thead th {\n",
       "        text-align: left;\n",
       "    }\n",
       "\n",
       "    .dataframe tbody tr th {\n",
       "        vertical-align: top;\n",
       "    }\n",
       "</style>\n",
       "<table border=\"1\" class=\"dataframe\">\n",
       "  <thead>\n",
       "    <tr style=\"text-align: right;\">\n",
       "      <th></th>\n",
       "      <th></th>\n",
       "      <th>id</th>\n",
       "      <th>total_distance</th>\n",
       "      <th>total_travel_time</th>\n",
       "      <th>number_of_steps</th>\n",
       "      <th>starting_street</th>\n",
       "      <th>end_street</th>\n",
       "      <th>vendor_id</th>\n",
       "      <th>pickup_datetime</th>\n",
       "      <th>passenger_count</th>\n",
       "      <th>pickup_longitude</th>\n",
       "      <th>...</th>\n",
       "      <th>dropoff_latitude</th>\n",
       "      <th>store_and_fwd_flag</th>\n",
       "      <th>datetime_obj</th>\n",
       "      <th>pickup_year</th>\n",
       "      <th>pickup_month</th>\n",
       "      <th>pickup_weekday</th>\n",
       "      <th>pickup_day</th>\n",
       "      <th>pickup_hour</th>\n",
       "      <th>pickup_whour</th>\n",
       "      <th>pickup_minute</th>\n",
       "    </tr>\n",
       "  </thead>\n",
       "  <tbody>\n",
       "    <tr>\n",
       "      <th rowspan=\"5\" valign=\"top\">train</th>\n",
       "      <th>0</th>\n",
       "      <td>id2085575</td>\n",
       "      <td>3,588.5000</td>\n",
       "      <td>359.8000</td>\n",
       "      <td>7</td>\n",
       "      <td>Center Boulevard</td>\n",
       "      <td>West 29th Street</td>\n",
       "      <td>2</td>\n",
       "      <td>2016-03-18 13:47:52</td>\n",
       "      <td>5</td>\n",
       "      <td>-73.9653</td>\n",
       "      <td>...</td>\n",
       "      <td>40.7486</td>\n",
       "      <td>0</td>\n",
       "      <td>2016-03-18 13:47:52</td>\n",
       "      <td>2016</td>\n",
       "      <td>3</td>\n",
       "      <td>4</td>\n",
       "      <td>18</td>\n",
       "      <td>13</td>\n",
       "      <td>109</td>\n",
       "      <td>47</td>\n",
       "    </tr>\n",
       "    <tr>\n",
       "      <th>1</th>\n",
       "      <td>id0633227</td>\n",
       "      <td>3,935.6000</td>\n",
       "      <td>358.0000</td>\n",
       "      <td>7</td>\n",
       "      <td>East 42nd Street</td>\n",
       "      <td>East 78th Street</td>\n",
       "      <td>1</td>\n",
       "      <td>2016-03-01 19:24:44</td>\n",
       "      <td>1</td>\n",
       "      <td>-73.9790</td>\n",
       "      <td>...</td>\n",
       "      <td>40.7709</td>\n",
       "      <td>0</td>\n",
       "      <td>2016-03-01 19:24:44</td>\n",
       "      <td>2016</td>\n",
       "      <td>3</td>\n",
       "      <td>1</td>\n",
       "      <td>1</td>\n",
       "      <td>19</td>\n",
       "      <td>43</td>\n",
       "      <td>24</td>\n",
       "    </tr>\n",
       "    <tr>\n",
       "      <th>2</th>\n",
       "      <td>id1356036</td>\n",
       "      <td>3,468.3000</td>\n",
       "      <td>228.2000</td>\n",
       "      <td>10</td>\n",
       "      <td>West 74th Street</td>\n",
       "      <td>Joe DiMaggio Highway</td>\n",
       "      <td>2</td>\n",
       "      <td>2016-05-20 22:49:05</td>\n",
       "      <td>1</td>\n",
       "      <td>-73.9813</td>\n",
       "      <td>...</td>\n",
       "      <td>40.7743</td>\n",
       "      <td>0</td>\n",
       "      <td>2016-05-20 22:49:05</td>\n",
       "      <td>2016</td>\n",
       "      <td>5</td>\n",
       "      <td>4</td>\n",
       "      <td>20</td>\n",
       "      <td>22</td>\n",
       "      <td>118</td>\n",
       "      <td>49</td>\n",
       "    </tr>\n",
       "    <tr>\n",
       "      <th>3</th>\n",
       "      <td>id2360318</td>\n",
       "      <td>2,369.6000</td>\n",
       "      <td>240.0000</td>\n",
       "      <td>5</td>\n",
       "      <td>East 31st Street</td>\n",
       "      <td>Park Avenue</td>\n",
       "      <td>2</td>\n",
       "      <td>2016-05-23 09:55:24</td>\n",
       "      <td>1</td>\n",
       "      <td>-73.9808</td>\n",
       "      <td>...</td>\n",
       "      <td>40.7615</td>\n",
       "      <td>0</td>\n",
       "      <td>2016-05-23 09:55:24</td>\n",
       "      <td>2016</td>\n",
       "      <td>5</td>\n",
       "      <td>0</td>\n",
       "      <td>23</td>\n",
       "      <td>9</td>\n",
       "      <td>9</td>\n",
       "      <td>55</td>\n",
       "    </tr>\n",
       "    <tr>\n",
       "      <th>4</th>\n",
       "      <td>id1397932</td>\n",
       "      <td>3,050.7000</td>\n",
       "      <td>415.1000</td>\n",
       "      <td>9</td>\n",
       "      <td>Cleveland Place</td>\n",
       "      <td>East 28th Street</td>\n",
       "      <td>1</td>\n",
       "      <td>2016-06-02 20:01:15</td>\n",
       "      <td>1</td>\n",
       "      <td>-73.9974</td>\n",
       "      <td>...</td>\n",
       "      <td>40.7434</td>\n",
       "      <td>0</td>\n",
       "      <td>2016-06-02 20:01:15</td>\n",
       "      <td>2016</td>\n",
       "      <td>6</td>\n",
       "      <td>3</td>\n",
       "      <td>2</td>\n",
       "      <td>20</td>\n",
       "      <td>92</td>\n",
       "      <td>1</td>\n",
       "    </tr>\n",
       "  </tbody>\n",
       "</table>\n",
       "<p>5 rows × 22 columns</p>\n",
       "</div>"
      ],
      "text/plain": [
       "                id  total_distance  total_travel_time  number_of_steps  \\\n",
       "train 0  id2085575      3,588.5000           359.8000                7   \n",
       "      1  id0633227      3,935.6000           358.0000                7   \n",
       "      2  id1356036      3,468.3000           228.2000               10   \n",
       "      3  id2360318      2,369.6000           240.0000                5   \n",
       "      4  id1397932      3,050.7000           415.1000                9   \n",
       "\n",
       "          starting_street            end_street  vendor_id  \\\n",
       "train 0  Center Boulevard      West 29th Street          2   \n",
       "      1  East 42nd Street      East 78th Street          1   \n",
       "      2  West 74th Street  Joe DiMaggio Highway          2   \n",
       "      3  East 31st Street           Park Avenue          2   \n",
       "      4   Cleveland Place      East 28th Street          1   \n",
       "\n",
       "             pickup_datetime  passenger_count  pickup_longitude  \\\n",
       "train 0  2016-03-18 13:47:52                5          -73.9653   \n",
       "      1  2016-03-01 19:24:44                1          -73.9790   \n",
       "      2  2016-05-20 22:49:05                1          -73.9813   \n",
       "      3  2016-05-23 09:55:24                1          -73.9808   \n",
       "      4  2016-06-02 20:01:15                1          -73.9974   \n",
       "\n",
       "             ...        dropoff_latitude  store_and_fwd_flag  \\\n",
       "train 0      ...                 40.7486                   0   \n",
       "      1      ...                 40.7709                   0   \n",
       "      2      ...                 40.7743                   0   \n",
       "      3      ...                 40.7615                   0   \n",
       "      4      ...                 40.7434                   0   \n",
       "\n",
       "               datetime_obj pickup_year pickup_month  pickup_weekday  \\\n",
       "train 0 2016-03-18 13:47:52        2016            3               4   \n",
       "      1 2016-03-01 19:24:44        2016            3               1   \n",
       "      2 2016-05-20 22:49:05        2016            5               4   \n",
       "      3 2016-05-23 09:55:24        2016            5               0   \n",
       "      4 2016-06-02 20:01:15        2016            6               3   \n",
       "\n",
       "         pickup_day  pickup_hour  pickup_whour  pickup_minute  \n",
       "train 0          18           13           109             47  \n",
       "      1           1           19            43             24  \n",
       "      2          20           22           118             49  \n",
       "      3          23            9             9             55  \n",
       "      4           2           20            92              1  \n",
       "\n",
       "[5 rows x 22 columns]"
      ]
     },
     "execution_count": 32,
     "metadata": {},
     "output_type": "execute_result"
    }
   ],
   "source": [
    "data_dict = {'Y':1, 'N':0}\n",
    "data_tf = data[col].map(data_dict)\n",
    "data[col].update(data_tf)\n",
    "data[:5]"
   ]
  },
  {
   "cell_type": "markdown",
   "metadata": {},
   "source": [
    "### start_street"
   ]
  },
  {
   "cell_type": "code",
   "execution_count": 33,
   "metadata": {
    "ExecuteTime": {
     "end_time": "2017-08-08T07:08:27.137124Z",
     "start_time": "2017-08-08T07:08:26.013555Z"
    }
   },
   "outputs": [
    {
     "name": "stdout",
     "output_type": "stream",
     "text": [
      "2083777\n"
     ]
    },
    {
     "data": {
      "text/html": [
       "<div>\n",
       "<style>\n",
       "    .dataframe thead tr:only-child th {\n",
       "        text-align: right;\n",
       "    }\n",
       "\n",
       "    .dataframe thead th {\n",
       "        text-align: left;\n",
       "    }\n",
       "\n",
       "    .dataframe tbody tr th {\n",
       "        vertical-align: top;\n",
       "    }\n",
       "</style>\n",
       "<table border=\"1\" class=\"dataframe\">\n",
       "  <thead>\n",
       "    <tr style=\"text-align: right;\">\n",
       "      <th></th>\n",
       "      <th></th>\n",
       "      <th>id</th>\n",
       "      <th>total_distance</th>\n",
       "      <th>total_travel_time</th>\n",
       "      <th>number_of_steps</th>\n",
       "      <th>starting_street</th>\n",
       "      <th>end_street</th>\n",
       "      <th>vendor_id</th>\n",
       "      <th>pickup_datetime</th>\n",
       "      <th>passenger_count</th>\n",
       "      <th>pickup_longitude</th>\n",
       "      <th>...</th>\n",
       "      <th>dropoff_latitude</th>\n",
       "      <th>store_and_fwd_flag</th>\n",
       "      <th>datetime_obj</th>\n",
       "      <th>pickup_year</th>\n",
       "      <th>pickup_month</th>\n",
       "      <th>pickup_weekday</th>\n",
       "      <th>pickup_day</th>\n",
       "      <th>pickup_hour</th>\n",
       "      <th>pickup_whour</th>\n",
       "      <th>pickup_minute</th>\n",
       "    </tr>\n",
       "  </thead>\n",
       "  <tbody>\n",
       "    <tr>\n",
       "      <th rowspan=\"5\" valign=\"top\">train</th>\n",
       "      <th>0</th>\n",
       "      <td>id2085575</td>\n",
       "      <td>3,588.5000</td>\n",
       "      <td>359.8000</td>\n",
       "      <td>7</td>\n",
       "      <td>Center Boulevard</td>\n",
       "      <td>West 29th Street</td>\n",
       "      <td>2</td>\n",
       "      <td>2016-03-18 13:47:52</td>\n",
       "      <td>5</td>\n",
       "      <td>-73.9653</td>\n",
       "      <td>...</td>\n",
       "      <td>40.7486</td>\n",
       "      <td>0</td>\n",
       "      <td>2016-03-18 13:47:52</td>\n",
       "      <td>2016</td>\n",
       "      <td>3</td>\n",
       "      <td>4</td>\n",
       "      <td>18</td>\n",
       "      <td>13</td>\n",
       "      <td>109</td>\n",
       "      <td>47</td>\n",
       "    </tr>\n",
       "    <tr>\n",
       "      <th>1</th>\n",
       "      <td>id0633227</td>\n",
       "      <td>3,935.6000</td>\n",
       "      <td>358.0000</td>\n",
       "      <td>7</td>\n",
       "      <td>East 42nd Street</td>\n",
       "      <td>East 78th Street</td>\n",
       "      <td>1</td>\n",
       "      <td>2016-03-01 19:24:44</td>\n",
       "      <td>1</td>\n",
       "      <td>-73.9790</td>\n",
       "      <td>...</td>\n",
       "      <td>40.7709</td>\n",
       "      <td>0</td>\n",
       "      <td>2016-03-01 19:24:44</td>\n",
       "      <td>2016</td>\n",
       "      <td>3</td>\n",
       "      <td>1</td>\n",
       "      <td>1</td>\n",
       "      <td>19</td>\n",
       "      <td>43</td>\n",
       "      <td>24</td>\n",
       "    </tr>\n",
       "    <tr>\n",
       "      <th>2</th>\n",
       "      <td>id1356036</td>\n",
       "      <td>3,468.3000</td>\n",
       "      <td>228.2000</td>\n",
       "      <td>10</td>\n",
       "      <td>West 74th Street</td>\n",
       "      <td>Joe DiMaggio Highway</td>\n",
       "      <td>2</td>\n",
       "      <td>2016-05-20 22:49:05</td>\n",
       "      <td>1</td>\n",
       "      <td>-73.9813</td>\n",
       "      <td>...</td>\n",
       "      <td>40.7743</td>\n",
       "      <td>0</td>\n",
       "      <td>2016-05-20 22:49:05</td>\n",
       "      <td>2016</td>\n",
       "      <td>5</td>\n",
       "      <td>4</td>\n",
       "      <td>20</td>\n",
       "      <td>22</td>\n",
       "      <td>118</td>\n",
       "      <td>49</td>\n",
       "    </tr>\n",
       "    <tr>\n",
       "      <th>3</th>\n",
       "      <td>id2360318</td>\n",
       "      <td>2,369.6000</td>\n",
       "      <td>240.0000</td>\n",
       "      <td>5</td>\n",
       "      <td>East 31st Street</td>\n",
       "      <td>Park Avenue</td>\n",
       "      <td>2</td>\n",
       "      <td>2016-05-23 09:55:24</td>\n",
       "      <td>1</td>\n",
       "      <td>-73.9808</td>\n",
       "      <td>...</td>\n",
       "      <td>40.7615</td>\n",
       "      <td>0</td>\n",
       "      <td>2016-05-23 09:55:24</td>\n",
       "      <td>2016</td>\n",
       "      <td>5</td>\n",
       "      <td>0</td>\n",
       "      <td>23</td>\n",
       "      <td>9</td>\n",
       "      <td>9</td>\n",
       "      <td>55</td>\n",
       "    </tr>\n",
       "    <tr>\n",
       "      <th>4</th>\n",
       "      <td>id1397932</td>\n",
       "      <td>3,050.7000</td>\n",
       "      <td>415.1000</td>\n",
       "      <td>9</td>\n",
       "      <td>Cleveland Place</td>\n",
       "      <td>East 28th Street</td>\n",
       "      <td>1</td>\n",
       "      <td>2016-06-02 20:01:15</td>\n",
       "      <td>1</td>\n",
       "      <td>-73.9974</td>\n",
       "      <td>...</td>\n",
       "      <td>40.7434</td>\n",
       "      <td>0</td>\n",
       "      <td>2016-06-02 20:01:15</td>\n",
       "      <td>2016</td>\n",
       "      <td>6</td>\n",
       "      <td>3</td>\n",
       "      <td>2</td>\n",
       "      <td>20</td>\n",
       "      <td>92</td>\n",
       "      <td>1</td>\n",
       "    </tr>\n",
       "  </tbody>\n",
       "</table>\n",
       "<p>5 rows × 22 columns</p>\n",
       "</div>"
      ],
      "text/plain": [
       "                id  total_distance  total_travel_time  number_of_steps  \\\n",
       "train 0  id2085575      3,588.5000           359.8000                7   \n",
       "      1  id0633227      3,935.6000           358.0000                7   \n",
       "      2  id1356036      3,468.3000           228.2000               10   \n",
       "      3  id2360318      2,369.6000           240.0000                5   \n",
       "      4  id1397932      3,050.7000           415.1000                9   \n",
       "\n",
       "          starting_street            end_street  vendor_id  \\\n",
       "train 0  Center Boulevard      West 29th Street          2   \n",
       "      1  East 42nd Street      East 78th Street          1   \n",
       "      2  West 74th Street  Joe DiMaggio Highway          2   \n",
       "      3  East 31st Street           Park Avenue          2   \n",
       "      4   Cleveland Place      East 28th Street          1   \n",
       "\n",
       "             pickup_datetime  passenger_count  pickup_longitude  \\\n",
       "train 0  2016-03-18 13:47:52                5          -73.9653   \n",
       "      1  2016-03-01 19:24:44                1          -73.9790   \n",
       "      2  2016-05-20 22:49:05                1          -73.9813   \n",
       "      3  2016-05-23 09:55:24                1          -73.9808   \n",
       "      4  2016-06-02 20:01:15                1          -73.9974   \n",
       "\n",
       "             ...        dropoff_latitude  store_and_fwd_flag  \\\n",
       "train 0      ...                 40.7486                   0   \n",
       "      1      ...                 40.7709                   0   \n",
       "      2      ...                 40.7743                   0   \n",
       "      3      ...                 40.7615                   0   \n",
       "      4      ...                 40.7434                   0   \n",
       "\n",
       "               datetime_obj pickup_year pickup_month  pickup_weekday  \\\n",
       "train 0 2016-03-18 13:47:52        2016            3               4   \n",
       "      1 2016-03-01 19:24:44        2016            3               1   \n",
       "      2 2016-05-20 22:49:05        2016            5               4   \n",
       "      3 2016-05-23 09:55:24        2016            5               0   \n",
       "      4 2016-06-02 20:01:15        2016            6               3   \n",
       "\n",
       "         pickup_day  pickup_hour  pickup_whour  pickup_minute  \n",
       "train 0          18           13           109             47  \n",
       "      1           1           19            43             24  \n",
       "      2          20           22           118             49  \n",
       "      3          23            9             9             55  \n",
       "      4           2           20            92              1  \n",
       "\n",
       "[5 rows x 22 columns]"
      ]
     },
     "execution_count": 33,
     "metadata": {},
     "output_type": "execute_result"
    }
   ],
   "source": [
    "col = 'starting_street'\n",
    "data_not_null = data[data[col].notnull()]\n",
    "print(len(data_not_null))\n",
    "data_not_null[:5]"
   ]
  },
  {
   "cell_type": "code",
   "execution_count": 34,
   "metadata": {
    "ExecuteTime": {
     "end_time": "2017-08-08T07:08:29.616156Z",
     "start_time": "2017-08-08T07:08:27.138975Z"
    }
   },
   "outputs": [
    {
     "data": {
      "text/plain": [
       "array([ 710, 1068, 2753, 1056,  771])"
      ]
     },
     "execution_count": 34,
     "metadata": {},
     "output_type": "execute_result"
    }
   ],
   "source": [
    "le = LabelEncoder()\n",
    "data_tf = le.fit_transform(data_not_null[col])\n",
    "data_tf[:5]"
   ]
  },
  {
   "cell_type": "code",
   "execution_count": 35,
   "metadata": {
    "ExecuteTime": {
     "end_time": "2017-08-08T07:08:29.849000Z",
     "start_time": "2017-08-08T07:08:29.617590Z"
    },
    "collapsed": true
   },
   "outputs": [],
   "source": [
    "col_tf = col + '_tf'\n",
    "data_not_null.loc[:,col_tf] = data_tf"
   ]
  },
  {
   "cell_type": "code",
   "execution_count": 36,
   "metadata": {
    "ExecuteTime": {
     "end_time": "2017-08-08T07:08:29.982715Z",
     "start_time": "2017-08-08T07:08:29.850213Z"
    },
    "collapsed": true
   },
   "outputs": [],
   "source": [
    "data[col_tf] = data_not_null[col_tf]"
   ]
  },
  {
   "cell_type": "code",
   "execution_count": 37,
   "metadata": {
    "ExecuteTime": {
     "end_time": "2017-08-08T07:08:30.361048Z",
     "start_time": "2017-08-08T07:08:29.984011Z"
    },
    "scrolled": true
   },
   "outputs": [
    {
     "data": {
      "text/html": [
       "<div>\n",
       "<style>\n",
       "    .dataframe thead tr:only-child th {\n",
       "        text-align: right;\n",
       "    }\n",
       "\n",
       "    .dataframe thead th {\n",
       "        text-align: left;\n",
       "    }\n",
       "\n",
       "    .dataframe tbody tr th {\n",
       "        vertical-align: top;\n",
       "    }\n",
       "</style>\n",
       "<table border=\"1\" class=\"dataframe\">\n",
       "  <thead>\n",
       "    <tr style=\"text-align: right;\">\n",
       "      <th></th>\n",
       "      <th></th>\n",
       "      <th>id</th>\n",
       "      <th>total_distance</th>\n",
       "      <th>total_travel_time</th>\n",
       "      <th>number_of_steps</th>\n",
       "      <th>starting_street</th>\n",
       "      <th>end_street</th>\n",
       "      <th>vendor_id</th>\n",
       "      <th>pickup_datetime</th>\n",
       "      <th>passenger_count</th>\n",
       "      <th>pickup_longitude</th>\n",
       "      <th>...</th>\n",
       "      <th>store_and_fwd_flag</th>\n",
       "      <th>datetime_obj</th>\n",
       "      <th>pickup_year</th>\n",
       "      <th>pickup_month</th>\n",
       "      <th>pickup_weekday</th>\n",
       "      <th>pickup_day</th>\n",
       "      <th>pickup_hour</th>\n",
       "      <th>pickup_whour</th>\n",
       "      <th>pickup_minute</th>\n",
       "      <th>starting_street_tf</th>\n",
       "    </tr>\n",
       "  </thead>\n",
       "  <tbody>\n",
       "  </tbody>\n",
       "</table>\n",
       "<p>0 rows × 23 columns</p>\n",
       "</div>"
      ],
      "text/plain": [
       "Empty DataFrame\n",
       "Columns: [id, total_distance, total_travel_time, number_of_steps, starting_street, end_street, vendor_id, pickup_datetime, passenger_count, pickup_longitude, pickup_latitude, dropoff_longitude, dropoff_latitude, store_and_fwd_flag, datetime_obj, pickup_year, pickup_month, pickup_weekday, pickup_day, pickup_hour, pickup_whour, pickup_minute, starting_street_tf]\n",
       "Index: []\n",
       "\n",
       "[0 rows x 23 columns]"
      ]
     },
     "execution_count": 37,
     "metadata": {},
     "output_type": "execute_result"
    }
   ],
   "source": [
    "data[data[col].isnull()][:5]"
   ]
  },
  {
   "cell_type": "markdown",
   "metadata": {},
   "source": [
    "### end_street"
   ]
  },
  {
   "cell_type": "code",
   "execution_count": 38,
   "metadata": {
    "ExecuteTime": {
     "end_time": "2017-08-08T07:08:30.971769Z",
     "start_time": "2017-08-08T07:08:30.362377Z"
    }
   },
   "outputs": [
    {
     "name": "stdout",
     "output_type": "stream",
     "text": [
      "2083777\n"
     ]
    },
    {
     "data": {
      "text/html": [
       "<div>\n",
       "<style>\n",
       "    .dataframe thead tr:only-child th {\n",
       "        text-align: right;\n",
       "    }\n",
       "\n",
       "    .dataframe thead th {\n",
       "        text-align: left;\n",
       "    }\n",
       "\n",
       "    .dataframe tbody tr th {\n",
       "        vertical-align: top;\n",
       "    }\n",
       "</style>\n",
       "<table border=\"1\" class=\"dataframe\">\n",
       "  <thead>\n",
       "    <tr style=\"text-align: right;\">\n",
       "      <th></th>\n",
       "      <th></th>\n",
       "      <th>id</th>\n",
       "      <th>total_distance</th>\n",
       "      <th>total_travel_time</th>\n",
       "      <th>number_of_steps</th>\n",
       "      <th>starting_street</th>\n",
       "      <th>end_street</th>\n",
       "      <th>vendor_id</th>\n",
       "      <th>pickup_datetime</th>\n",
       "      <th>passenger_count</th>\n",
       "      <th>pickup_longitude</th>\n",
       "      <th>...</th>\n",
       "      <th>store_and_fwd_flag</th>\n",
       "      <th>datetime_obj</th>\n",
       "      <th>pickup_year</th>\n",
       "      <th>pickup_month</th>\n",
       "      <th>pickup_weekday</th>\n",
       "      <th>pickup_day</th>\n",
       "      <th>pickup_hour</th>\n",
       "      <th>pickup_whour</th>\n",
       "      <th>pickup_minute</th>\n",
       "      <th>starting_street_tf</th>\n",
       "    </tr>\n",
       "  </thead>\n",
       "  <tbody>\n",
       "    <tr>\n",
       "      <th rowspan=\"5\" valign=\"top\">train</th>\n",
       "      <th>0</th>\n",
       "      <td>id2085575</td>\n",
       "      <td>3,588.5000</td>\n",
       "      <td>359.8000</td>\n",
       "      <td>7</td>\n",
       "      <td>Center Boulevard</td>\n",
       "      <td>West 29th Street</td>\n",
       "      <td>2</td>\n",
       "      <td>2016-03-18 13:47:52</td>\n",
       "      <td>5</td>\n",
       "      <td>-73.9653</td>\n",
       "      <td>...</td>\n",
       "      <td>0</td>\n",
       "      <td>2016-03-18 13:47:52</td>\n",
       "      <td>2016</td>\n",
       "      <td>3</td>\n",
       "      <td>4</td>\n",
       "      <td>18</td>\n",
       "      <td>13</td>\n",
       "      <td>109</td>\n",
       "      <td>47</td>\n",
       "      <td>710</td>\n",
       "    </tr>\n",
       "    <tr>\n",
       "      <th>1</th>\n",
       "      <td>id0633227</td>\n",
       "      <td>3,935.6000</td>\n",
       "      <td>358.0000</td>\n",
       "      <td>7</td>\n",
       "      <td>East 42nd Street</td>\n",
       "      <td>East 78th Street</td>\n",
       "      <td>1</td>\n",
       "      <td>2016-03-01 19:24:44</td>\n",
       "      <td>1</td>\n",
       "      <td>-73.9790</td>\n",
       "      <td>...</td>\n",
       "      <td>0</td>\n",
       "      <td>2016-03-01 19:24:44</td>\n",
       "      <td>2016</td>\n",
       "      <td>3</td>\n",
       "      <td>1</td>\n",
       "      <td>1</td>\n",
       "      <td>19</td>\n",
       "      <td>43</td>\n",
       "      <td>24</td>\n",
       "      <td>1068</td>\n",
       "    </tr>\n",
       "    <tr>\n",
       "      <th>2</th>\n",
       "      <td>id1356036</td>\n",
       "      <td>3,468.3000</td>\n",
       "      <td>228.2000</td>\n",
       "      <td>10</td>\n",
       "      <td>West 74th Street</td>\n",
       "      <td>Joe DiMaggio Highway</td>\n",
       "      <td>2</td>\n",
       "      <td>2016-05-20 22:49:05</td>\n",
       "      <td>1</td>\n",
       "      <td>-73.9813</td>\n",
       "      <td>...</td>\n",
       "      <td>0</td>\n",
       "      <td>2016-05-20 22:49:05</td>\n",
       "      <td>2016</td>\n",
       "      <td>5</td>\n",
       "      <td>4</td>\n",
       "      <td>20</td>\n",
       "      <td>22</td>\n",
       "      <td>118</td>\n",
       "      <td>49</td>\n",
       "      <td>2753</td>\n",
       "    </tr>\n",
       "    <tr>\n",
       "      <th>3</th>\n",
       "      <td>id2360318</td>\n",
       "      <td>2,369.6000</td>\n",
       "      <td>240.0000</td>\n",
       "      <td>5</td>\n",
       "      <td>East 31st Street</td>\n",
       "      <td>Park Avenue</td>\n",
       "      <td>2</td>\n",
       "      <td>2016-05-23 09:55:24</td>\n",
       "      <td>1</td>\n",
       "      <td>-73.9808</td>\n",
       "      <td>...</td>\n",
       "      <td>0</td>\n",
       "      <td>2016-05-23 09:55:24</td>\n",
       "      <td>2016</td>\n",
       "      <td>5</td>\n",
       "      <td>0</td>\n",
       "      <td>23</td>\n",
       "      <td>9</td>\n",
       "      <td>9</td>\n",
       "      <td>55</td>\n",
       "      <td>1056</td>\n",
       "    </tr>\n",
       "    <tr>\n",
       "      <th>4</th>\n",
       "      <td>id1397932</td>\n",
       "      <td>3,050.7000</td>\n",
       "      <td>415.1000</td>\n",
       "      <td>9</td>\n",
       "      <td>Cleveland Place</td>\n",
       "      <td>East 28th Street</td>\n",
       "      <td>1</td>\n",
       "      <td>2016-06-02 20:01:15</td>\n",
       "      <td>1</td>\n",
       "      <td>-73.9974</td>\n",
       "      <td>...</td>\n",
       "      <td>0</td>\n",
       "      <td>2016-06-02 20:01:15</td>\n",
       "      <td>2016</td>\n",
       "      <td>6</td>\n",
       "      <td>3</td>\n",
       "      <td>2</td>\n",
       "      <td>20</td>\n",
       "      <td>92</td>\n",
       "      <td>1</td>\n",
       "      <td>771</td>\n",
       "    </tr>\n",
       "  </tbody>\n",
       "</table>\n",
       "<p>5 rows × 23 columns</p>\n",
       "</div>"
      ],
      "text/plain": [
       "                id  total_distance  total_travel_time  number_of_steps  \\\n",
       "train 0  id2085575      3,588.5000           359.8000                7   \n",
       "      1  id0633227      3,935.6000           358.0000                7   \n",
       "      2  id1356036      3,468.3000           228.2000               10   \n",
       "      3  id2360318      2,369.6000           240.0000                5   \n",
       "      4  id1397932      3,050.7000           415.1000                9   \n",
       "\n",
       "          starting_street            end_street  vendor_id  \\\n",
       "train 0  Center Boulevard      West 29th Street          2   \n",
       "      1  East 42nd Street      East 78th Street          1   \n",
       "      2  West 74th Street  Joe DiMaggio Highway          2   \n",
       "      3  East 31st Street           Park Avenue          2   \n",
       "      4   Cleveland Place      East 28th Street          1   \n",
       "\n",
       "             pickup_datetime  passenger_count  pickup_longitude  \\\n",
       "train 0  2016-03-18 13:47:52                5          -73.9653   \n",
       "      1  2016-03-01 19:24:44                1          -73.9790   \n",
       "      2  2016-05-20 22:49:05                1          -73.9813   \n",
       "      3  2016-05-23 09:55:24                1          -73.9808   \n",
       "      4  2016-06-02 20:01:15                1          -73.9974   \n",
       "\n",
       "                ...          store_and_fwd_flag        datetime_obj  \\\n",
       "train 0         ...                           0 2016-03-18 13:47:52   \n",
       "      1         ...                           0 2016-03-01 19:24:44   \n",
       "      2         ...                           0 2016-05-20 22:49:05   \n",
       "      3         ...                           0 2016-05-23 09:55:24   \n",
       "      4         ...                           0 2016-06-02 20:01:15   \n",
       "\n",
       "         pickup_year pickup_month pickup_weekday  pickup_day  pickup_hour  \\\n",
       "train 0         2016            3              4          18           13   \n",
       "      1         2016            3              1           1           19   \n",
       "      2         2016            5              4          20           22   \n",
       "      3         2016            5              0          23            9   \n",
       "      4         2016            6              3           2           20   \n",
       "\n",
       "         pickup_whour  pickup_minute  starting_street_tf  \n",
       "train 0           109             47                 710  \n",
       "      1            43             24                1068  \n",
       "      2           118             49                2753  \n",
       "      3             9             55                1056  \n",
       "      4            92              1                 771  \n",
       "\n",
       "[5 rows x 23 columns]"
      ]
     },
     "execution_count": 38,
     "metadata": {},
     "output_type": "execute_result"
    }
   ],
   "source": [
    "col = 'end_street'\n",
    "data_not_null = data[data[col].notnull()]\n",
    "print(len(data_not_null))\n",
    "data_not_null[:5]"
   ]
  },
  {
   "cell_type": "code",
   "execution_count": 39,
   "metadata": {
    "ExecuteTime": {
     "end_time": "2017-08-08T07:08:33.517627Z",
     "start_time": "2017-08-08T07:08:30.973227Z"
    }
   },
   "outputs": [
    {
     "data": {
      "text/plain": [
       "array([5848, 2284, 3299, 4330, 2227])"
      ]
     },
     "execution_count": 39,
     "metadata": {},
     "output_type": "execute_result"
    }
   ],
   "source": [
    "le = LabelEncoder()\n",
    "data_tf = le.fit_transform(data_not_null[col])\n",
    "data_tf[:5]"
   ]
  },
  {
   "cell_type": "code",
   "execution_count": 40,
   "metadata": {
    "ExecuteTime": {
     "end_time": "2017-08-08T07:08:33.823485Z",
     "start_time": "2017-08-08T07:08:33.519195Z"
    },
    "collapsed": true
   },
   "outputs": [],
   "source": [
    "col_tf = col + '_tf'\n",
    "data_not_null.loc[:,col_tf] = data_tf"
   ]
  },
  {
   "cell_type": "code",
   "execution_count": 41,
   "metadata": {
    "ExecuteTime": {
     "end_time": "2017-08-08T07:08:33.919915Z",
     "start_time": "2017-08-08T07:08:33.825310Z"
    },
    "collapsed": true
   },
   "outputs": [],
   "source": [
    "data[col_tf] = data_not_null[col_tf]"
   ]
  },
  {
   "cell_type": "code",
   "execution_count": 42,
   "metadata": {
    "ExecuteTime": {
     "end_time": "2017-08-08T07:08:34.568043Z",
     "start_time": "2017-08-08T07:08:33.921612Z"
    },
    "scrolled": true
   },
   "outputs": [
    {
     "data": {
      "text/html": [
       "<div>\n",
       "<style>\n",
       "    .dataframe thead tr:only-child th {\n",
       "        text-align: right;\n",
       "    }\n",
       "\n",
       "    .dataframe thead th {\n",
       "        text-align: left;\n",
       "    }\n",
       "\n",
       "    .dataframe tbody tr th {\n",
       "        vertical-align: top;\n",
       "    }\n",
       "</style>\n",
       "<table border=\"1\" class=\"dataframe\">\n",
       "  <thead>\n",
       "    <tr style=\"text-align: right;\">\n",
       "      <th></th>\n",
       "      <th></th>\n",
       "      <th>id</th>\n",
       "      <th>total_distance</th>\n",
       "      <th>total_travel_time</th>\n",
       "      <th>number_of_steps</th>\n",
       "      <th>starting_street</th>\n",
       "      <th>end_street</th>\n",
       "      <th>vendor_id</th>\n",
       "      <th>pickup_datetime</th>\n",
       "      <th>passenger_count</th>\n",
       "      <th>pickup_longitude</th>\n",
       "      <th>...</th>\n",
       "      <th>datetime_obj</th>\n",
       "      <th>pickup_year</th>\n",
       "      <th>pickup_month</th>\n",
       "      <th>pickup_weekday</th>\n",
       "      <th>pickup_day</th>\n",
       "      <th>pickup_hour</th>\n",
       "      <th>pickup_whour</th>\n",
       "      <th>pickup_minute</th>\n",
       "      <th>starting_street_tf</th>\n",
       "      <th>end_street_tf</th>\n",
       "    </tr>\n",
       "  </thead>\n",
       "  <tbody>\n",
       "  </tbody>\n",
       "</table>\n",
       "<p>0 rows × 24 columns</p>\n",
       "</div>"
      ],
      "text/plain": [
       "Empty DataFrame\n",
       "Columns: [id, total_distance, total_travel_time, number_of_steps, starting_street, end_street, vendor_id, pickup_datetime, passenger_count, pickup_longitude, pickup_latitude, dropoff_longitude, dropoff_latitude, store_and_fwd_flag, datetime_obj, pickup_year, pickup_month, pickup_weekday, pickup_day, pickup_hour, pickup_whour, pickup_minute, starting_street_tf, end_street_tf]\n",
       "Index: []\n",
       "\n",
       "[0 rows x 24 columns]"
      ]
     },
     "execution_count": 42,
     "metadata": {},
     "output_type": "execute_result"
    }
   ],
   "source": [
    "data[data[col].isnull()][:5]"
   ]
  },
  {
   "cell_type": "markdown",
   "metadata": {},
   "source": [
    "### Drop unused cols"
   ]
  },
  {
   "cell_type": "code",
   "execution_count": 43,
   "metadata": {
    "ExecuteTime": {
     "end_time": "2017-08-08T07:08:36.074283Z",
     "start_time": "2017-08-08T07:08:34.570476Z"
    },
    "collapsed": true
   },
   "outputs": [],
   "source": [
    "# Drop pickup_datetime\n",
    "data.drop('pickup_datetime', axis=1, inplace=True)\n",
    "data.drop('datetime_obj', axis=1, inplace=True)\n",
    "data.drop('starting_street', axis=1, inplace=True)\n",
    "data.drop('end_street', axis=1, inplace=True)"
   ]
  },
  {
   "cell_type": "code",
   "execution_count": 44,
   "metadata": {
    "ExecuteTime": {
     "end_time": "2017-08-08T07:08:36.078751Z",
     "start_time": "2017-08-08T07:08:36.075946Z"
    },
    "collapsed": true
   },
   "outputs": [],
   "source": [
    "combine_data = data"
   ]
  },
  {
   "cell_type": "markdown",
   "metadata": {},
   "source": [
    "# Feature Engineering"
   ]
  },
  {
   "cell_type": "markdown",
   "metadata": {},
   "source": [
    "## Turn, left, right"
   ]
  },
  {
   "cell_type": "code",
   "execution_count": 45,
   "metadata": {
    "ExecuteTime": {
     "end_time": "2017-08-08T07:08:36.309454Z",
     "start_time": "2017-08-08T07:08:36.080703Z"
    },
    "collapsed": true
   },
   "outputs": [],
   "source": [
    "data = combine_data"
   ]
  },
  {
   "cell_type": "code",
   "execution_count": 46,
   "metadata": {
    "ExecuteTime": {
     "end_time": "2017-08-08T07:08:36.512032Z",
     "start_time": "2017-08-08T07:08:36.312646Z"
    }
   },
   "outputs": [
    {
     "data": {
      "text/plain": [
       "Index(['id', 'total_distance', 'total_travel_time', 'number_of_steps',\n",
       "       'vendor_id', 'passenger_count', 'pickup_longitude', 'pickup_latitude',\n",
       "       'dropoff_longitude', 'dropoff_latitude', 'store_and_fwd_flag',\n",
       "       'pickup_year', 'pickup_month', 'pickup_weekday', 'pickup_day',\n",
       "       'pickup_hour', 'pickup_whour', 'pickup_minute', 'starting_street_tf',\n",
       "       'end_street_tf'],\n",
       "      dtype='object')"
      ]
     },
     "execution_count": 46,
     "metadata": {},
     "output_type": "execute_result"
    }
   ],
   "source": [
    "data.columns"
   ]
  },
  {
   "cell_type": "code",
   "execution_count": 47,
   "metadata": {
    "ExecuteTime": {
     "end_time": "2017-08-08T07:08:37.164735Z",
     "start_time": "2017-08-08T07:08:36.513479Z"
    }
   },
   "outputs": [
    {
     "ename": "KeyError",
     "evalue": "'step_maneuvers'",
     "output_type": "error",
     "traceback": [
      "\u001b[0;31m---------------------------------------------------------------------------\u001b[0m",
      "\u001b[0;31mKeyError\u001b[0m                                  Traceback (most recent call last)",
      "\u001b[0;32m/usr/local/lib/python3.4/dist-packages/pandas/core/indexes/base.py\u001b[0m in \u001b[0;36mget_loc\u001b[0;34m(self, key, method, tolerance)\u001b[0m\n\u001b[1;32m   2441\u001b[0m             \u001b[0;32mtry\u001b[0m\u001b[0;34m:\u001b[0m\u001b[0;34m\u001b[0m\u001b[0m\n\u001b[0;32m-> 2442\u001b[0;31m                 \u001b[0;32mreturn\u001b[0m \u001b[0mself\u001b[0m\u001b[0;34m.\u001b[0m\u001b[0m_engine\u001b[0m\u001b[0;34m.\u001b[0m\u001b[0mget_loc\u001b[0m\u001b[0;34m(\u001b[0m\u001b[0mkey\u001b[0m\u001b[0;34m)\u001b[0m\u001b[0;34m\u001b[0m\u001b[0m\n\u001b[0m\u001b[1;32m   2443\u001b[0m             \u001b[0;32mexcept\u001b[0m \u001b[0mKeyError\u001b[0m\u001b[0;34m:\u001b[0m\u001b[0;34m\u001b[0m\u001b[0m\n",
      "\u001b[0;32mpandas/_libs/index.pyx\u001b[0m in \u001b[0;36mpandas._libs.index.IndexEngine.get_loc (pandas/_libs/index.c:5280)\u001b[0;34m()\u001b[0m\n",
      "\u001b[0;32mpandas/_libs/index.pyx\u001b[0m in \u001b[0;36mpandas._libs.index.IndexEngine.get_loc (pandas/_libs/index.c:5126)\u001b[0;34m()\u001b[0m\n",
      "\u001b[0;32mpandas/_libs/hashtable_class_helper.pxi\u001b[0m in \u001b[0;36mpandas._libs.hashtable.PyObjectHashTable.get_item (pandas/_libs/hashtable.c:20523)\u001b[0;34m()\u001b[0m\n",
      "\u001b[0;32mpandas/_libs/hashtable_class_helper.pxi\u001b[0m in \u001b[0;36mpandas._libs.hashtable.PyObjectHashTable.get_item (pandas/_libs/hashtable.c:20477)\u001b[0;34m()\u001b[0m\n",
      "\u001b[0;31mKeyError\u001b[0m: 'step_maneuvers'",
      "\nDuring handling of the above exception, another exception occurred:\n",
      "\u001b[0;31mKeyError\u001b[0m                                  Traceback (most recent call last)",
      "\u001b[0;32m<ipython-input-47-bdc85859a3c3>\u001b[0m in \u001b[0;36m<module>\u001b[0;34m()\u001b[0m\n\u001b[0;32m----> 1\u001b[0;31m \u001b[0mdata2\u001b[0m \u001b[0;34m=\u001b[0m \u001b[0mdata\u001b[0m\u001b[0;34m[\u001b[0m\u001b[0;34m'step_maneuvers'\u001b[0m\u001b[0;34m]\u001b[0m\u001b[0;34m[\u001b[0m\u001b[0;34m:\u001b[0m\u001b[0;36m5\u001b[0m\u001b[0;34m]\u001b[0m\u001b[0;34m\u001b[0m\u001b[0m\n\u001b[0m\u001b[1;32m      2\u001b[0m \u001b[0mdata2\u001b[0m\u001b[0;34m\u001b[0m\u001b[0m\n",
      "\u001b[0;32m/usr/local/lib/python3.4/dist-packages/pandas/core/frame.py\u001b[0m in \u001b[0;36m__getitem__\u001b[0;34m(self, key)\u001b[0m\n\u001b[1;32m   1962\u001b[0m             \u001b[0;32mreturn\u001b[0m \u001b[0mself\u001b[0m\u001b[0;34m.\u001b[0m\u001b[0m_getitem_multilevel\u001b[0m\u001b[0;34m(\u001b[0m\u001b[0mkey\u001b[0m\u001b[0;34m)\u001b[0m\u001b[0;34m\u001b[0m\u001b[0m\n\u001b[1;32m   1963\u001b[0m         \u001b[0;32melse\u001b[0m\u001b[0;34m:\u001b[0m\u001b[0;34m\u001b[0m\u001b[0m\n\u001b[0;32m-> 1964\u001b[0;31m             \u001b[0;32mreturn\u001b[0m \u001b[0mself\u001b[0m\u001b[0;34m.\u001b[0m\u001b[0m_getitem_column\u001b[0m\u001b[0;34m(\u001b[0m\u001b[0mkey\u001b[0m\u001b[0;34m)\u001b[0m\u001b[0;34m\u001b[0m\u001b[0m\n\u001b[0m\u001b[1;32m   1965\u001b[0m \u001b[0;34m\u001b[0m\u001b[0m\n\u001b[1;32m   1966\u001b[0m     \u001b[0;32mdef\u001b[0m \u001b[0m_getitem_column\u001b[0m\u001b[0;34m(\u001b[0m\u001b[0mself\u001b[0m\u001b[0;34m,\u001b[0m \u001b[0mkey\u001b[0m\u001b[0;34m)\u001b[0m\u001b[0;34m:\u001b[0m\u001b[0;34m\u001b[0m\u001b[0m\n",
      "\u001b[0;32m/usr/local/lib/python3.4/dist-packages/pandas/core/frame.py\u001b[0m in \u001b[0;36m_getitem_column\u001b[0;34m(self, key)\u001b[0m\n\u001b[1;32m   1969\u001b[0m         \u001b[0;31m# get column\u001b[0m\u001b[0;34m\u001b[0m\u001b[0;34m\u001b[0m\u001b[0m\n\u001b[1;32m   1970\u001b[0m         \u001b[0;32mif\u001b[0m \u001b[0mself\u001b[0m\u001b[0;34m.\u001b[0m\u001b[0mcolumns\u001b[0m\u001b[0;34m.\u001b[0m\u001b[0mis_unique\u001b[0m\u001b[0;34m:\u001b[0m\u001b[0;34m\u001b[0m\u001b[0m\n\u001b[0;32m-> 1971\u001b[0;31m             \u001b[0;32mreturn\u001b[0m \u001b[0mself\u001b[0m\u001b[0;34m.\u001b[0m\u001b[0m_get_item_cache\u001b[0m\u001b[0;34m(\u001b[0m\u001b[0mkey\u001b[0m\u001b[0;34m)\u001b[0m\u001b[0;34m\u001b[0m\u001b[0m\n\u001b[0m\u001b[1;32m   1972\u001b[0m \u001b[0;34m\u001b[0m\u001b[0m\n\u001b[1;32m   1973\u001b[0m         \u001b[0;31m# duplicate columns & possible reduce dimensionality\u001b[0m\u001b[0;34m\u001b[0m\u001b[0;34m\u001b[0m\u001b[0m\n",
      "\u001b[0;32m/usr/local/lib/python3.4/dist-packages/pandas/core/generic.py\u001b[0m in \u001b[0;36m_get_item_cache\u001b[0;34m(self, item)\u001b[0m\n\u001b[1;32m   1643\u001b[0m         \u001b[0mres\u001b[0m \u001b[0;34m=\u001b[0m \u001b[0mcache\u001b[0m\u001b[0;34m.\u001b[0m\u001b[0mget\u001b[0m\u001b[0;34m(\u001b[0m\u001b[0mitem\u001b[0m\u001b[0;34m)\u001b[0m\u001b[0;34m\u001b[0m\u001b[0m\n\u001b[1;32m   1644\u001b[0m         \u001b[0;32mif\u001b[0m \u001b[0mres\u001b[0m \u001b[0;32mis\u001b[0m \u001b[0;32mNone\u001b[0m\u001b[0;34m:\u001b[0m\u001b[0;34m\u001b[0m\u001b[0m\n\u001b[0;32m-> 1645\u001b[0;31m             \u001b[0mvalues\u001b[0m \u001b[0;34m=\u001b[0m \u001b[0mself\u001b[0m\u001b[0;34m.\u001b[0m\u001b[0m_data\u001b[0m\u001b[0;34m.\u001b[0m\u001b[0mget\u001b[0m\u001b[0;34m(\u001b[0m\u001b[0mitem\u001b[0m\u001b[0;34m)\u001b[0m\u001b[0;34m\u001b[0m\u001b[0m\n\u001b[0m\u001b[1;32m   1646\u001b[0m             \u001b[0mres\u001b[0m \u001b[0;34m=\u001b[0m \u001b[0mself\u001b[0m\u001b[0;34m.\u001b[0m\u001b[0m_box_item_values\u001b[0m\u001b[0;34m(\u001b[0m\u001b[0mitem\u001b[0m\u001b[0;34m,\u001b[0m \u001b[0mvalues\u001b[0m\u001b[0;34m)\u001b[0m\u001b[0;34m\u001b[0m\u001b[0m\n\u001b[1;32m   1647\u001b[0m             \u001b[0mcache\u001b[0m\u001b[0;34m[\u001b[0m\u001b[0mitem\u001b[0m\u001b[0;34m]\u001b[0m \u001b[0;34m=\u001b[0m \u001b[0mres\u001b[0m\u001b[0;34m\u001b[0m\u001b[0m\n",
      "\u001b[0;32m/usr/local/lib/python3.4/dist-packages/pandas/core/internals.py\u001b[0m in \u001b[0;36mget\u001b[0;34m(self, item, fastpath)\u001b[0m\n\u001b[1;32m   3588\u001b[0m \u001b[0;34m\u001b[0m\u001b[0m\n\u001b[1;32m   3589\u001b[0m             \u001b[0;32mif\u001b[0m \u001b[0;32mnot\u001b[0m \u001b[0misnull\u001b[0m\u001b[0;34m(\u001b[0m\u001b[0mitem\u001b[0m\u001b[0;34m)\u001b[0m\u001b[0;34m:\u001b[0m\u001b[0;34m\u001b[0m\u001b[0m\n\u001b[0;32m-> 3590\u001b[0;31m                 \u001b[0mloc\u001b[0m \u001b[0;34m=\u001b[0m \u001b[0mself\u001b[0m\u001b[0;34m.\u001b[0m\u001b[0mitems\u001b[0m\u001b[0;34m.\u001b[0m\u001b[0mget_loc\u001b[0m\u001b[0;34m(\u001b[0m\u001b[0mitem\u001b[0m\u001b[0;34m)\u001b[0m\u001b[0;34m\u001b[0m\u001b[0m\n\u001b[0m\u001b[1;32m   3591\u001b[0m             \u001b[0;32melse\u001b[0m\u001b[0;34m:\u001b[0m\u001b[0;34m\u001b[0m\u001b[0m\n\u001b[1;32m   3592\u001b[0m                 \u001b[0mindexer\u001b[0m \u001b[0;34m=\u001b[0m \u001b[0mnp\u001b[0m\u001b[0;34m.\u001b[0m\u001b[0marange\u001b[0m\u001b[0;34m(\u001b[0m\u001b[0mlen\u001b[0m\u001b[0;34m(\u001b[0m\u001b[0mself\u001b[0m\u001b[0;34m.\u001b[0m\u001b[0mitems\u001b[0m\u001b[0;34m)\u001b[0m\u001b[0;34m)\u001b[0m\u001b[0;34m[\u001b[0m\u001b[0misnull\u001b[0m\u001b[0;34m(\u001b[0m\u001b[0mself\u001b[0m\u001b[0;34m.\u001b[0m\u001b[0mitems\u001b[0m\u001b[0;34m)\u001b[0m\u001b[0;34m]\u001b[0m\u001b[0;34m\u001b[0m\u001b[0m\n",
      "\u001b[0;32m/usr/local/lib/python3.4/dist-packages/pandas/core/indexes/base.py\u001b[0m in \u001b[0;36mget_loc\u001b[0;34m(self, key, method, tolerance)\u001b[0m\n\u001b[1;32m   2442\u001b[0m                 \u001b[0;32mreturn\u001b[0m \u001b[0mself\u001b[0m\u001b[0;34m.\u001b[0m\u001b[0m_engine\u001b[0m\u001b[0;34m.\u001b[0m\u001b[0mget_loc\u001b[0m\u001b[0;34m(\u001b[0m\u001b[0mkey\u001b[0m\u001b[0;34m)\u001b[0m\u001b[0;34m\u001b[0m\u001b[0m\n\u001b[1;32m   2443\u001b[0m             \u001b[0;32mexcept\u001b[0m \u001b[0mKeyError\u001b[0m\u001b[0;34m:\u001b[0m\u001b[0;34m\u001b[0m\u001b[0m\n\u001b[0;32m-> 2444\u001b[0;31m                 \u001b[0;32mreturn\u001b[0m \u001b[0mself\u001b[0m\u001b[0;34m.\u001b[0m\u001b[0m_engine\u001b[0m\u001b[0;34m.\u001b[0m\u001b[0mget_loc\u001b[0m\u001b[0;34m(\u001b[0m\u001b[0mself\u001b[0m\u001b[0;34m.\u001b[0m\u001b[0m_maybe_cast_indexer\u001b[0m\u001b[0;34m(\u001b[0m\u001b[0mkey\u001b[0m\u001b[0;34m)\u001b[0m\u001b[0;34m)\u001b[0m\u001b[0;34m\u001b[0m\u001b[0m\n\u001b[0m\u001b[1;32m   2445\u001b[0m \u001b[0;34m\u001b[0m\u001b[0m\n\u001b[1;32m   2446\u001b[0m         \u001b[0mindexer\u001b[0m \u001b[0;34m=\u001b[0m \u001b[0mself\u001b[0m\u001b[0;34m.\u001b[0m\u001b[0mget_indexer\u001b[0m\u001b[0;34m(\u001b[0m\u001b[0;34m[\u001b[0m\u001b[0mkey\u001b[0m\u001b[0;34m]\u001b[0m\u001b[0;34m,\u001b[0m \u001b[0mmethod\u001b[0m\u001b[0;34m=\u001b[0m\u001b[0mmethod\u001b[0m\u001b[0;34m,\u001b[0m \u001b[0mtolerance\u001b[0m\u001b[0;34m=\u001b[0m\u001b[0mtolerance\u001b[0m\u001b[0;34m)\u001b[0m\u001b[0;34m\u001b[0m\u001b[0m\n",
      "\u001b[0;32mpandas/_libs/index.pyx\u001b[0m in \u001b[0;36mpandas._libs.index.IndexEngine.get_loc (pandas/_libs/index.c:5280)\u001b[0;34m()\u001b[0m\n",
      "\u001b[0;32mpandas/_libs/index.pyx\u001b[0m in \u001b[0;36mpandas._libs.index.IndexEngine.get_loc (pandas/_libs/index.c:5126)\u001b[0;34m()\u001b[0m\n",
      "\u001b[0;32mpandas/_libs/hashtable_class_helper.pxi\u001b[0m in \u001b[0;36mpandas._libs.hashtable.PyObjectHashTable.get_item (pandas/_libs/hashtable.c:20523)\u001b[0;34m()\u001b[0m\n",
      "\u001b[0;32mpandas/_libs/hashtable_class_helper.pxi\u001b[0m in \u001b[0;36mpandas._libs.hashtable.PyObjectHashTable.get_item (pandas/_libs/hashtable.c:20477)\u001b[0;34m()\u001b[0m\n",
      "\u001b[0;31mKeyError\u001b[0m: 'step_maneuvers'"
     ]
    }
   ],
   "source": [
    "data2 = data['step_maneuvers'][:5]\n",
    "data2"
   ]
  },
  {
   "cell_type": "code",
   "execution_count": null,
   "metadata": {
    "ExecuteTime": {
     "end_time": "2017-08-08T07:08:37.165993Z",
     "start_time": "2017-08-08T07:06:35.001Z"
    },
    "collapsed": true
   },
   "outputs": [],
   "source": [
    "turns = data2.apply(lambda x: x.count('turn'))\n",
    "turns"
   ]
  },
  {
   "cell_type": "code",
   "execution_count": null,
   "metadata": {
    "ExecuteTime": {
     "end_time": "2017-08-08T07:08:37.166963Z",
     "start_time": "2017-08-08T07:06:35.006Z"
    },
    "collapsed": true,
    "scrolled": true
   },
   "outputs": [],
   "source": [
    "data2 = data['step_direction'][:5]\n",
    "data2"
   ]
  },
  {
   "cell_type": "markdown",
   "metadata": {},
   "source": [
    "## Cluster"
   ]
  },
  {
   "cell_type": "markdown",
   "metadata": {},
   "source": [
    "### starting_street_tf"
   ]
  },
  {
   "cell_type": "code",
   "execution_count": 59,
   "metadata": {
    "ExecuteTime": {
     "end_time": "2017-08-08T07:12:42.234557Z",
     "start_time": "2017-08-08T07:12:42.227701Z"
    },
    "collapsed": true
   },
   "outputs": [],
   "source": [
    "col_use =['starting_street_tf']\n",
    "data = combine_data[col_use]"
   ]
  },
  {
   "cell_type": "code",
   "execution_count": 60,
   "metadata": {
    "ExecuteTime": {
     "end_time": "2017-08-08T07:12:44.902655Z",
     "start_time": "2017-08-08T07:12:44.892915Z"
    }
   },
   "outputs": [
    {
     "data": {
      "text/html": [
       "<div>\n",
       "<style>\n",
       "    .dataframe thead tr:only-child th {\n",
       "        text-align: right;\n",
       "    }\n",
       "\n",
       "    .dataframe thead th {\n",
       "        text-align: left;\n",
       "    }\n",
       "\n",
       "    .dataframe tbody tr th {\n",
       "        vertical-align: top;\n",
       "    }\n",
       "</style>\n",
       "<table border=\"1\" class=\"dataframe\">\n",
       "  <thead>\n",
       "    <tr style=\"text-align: right;\">\n",
       "      <th></th>\n",
       "      <th></th>\n",
       "      <th>starting_street_tf</th>\n",
       "    </tr>\n",
       "  </thead>\n",
       "  <tbody>\n",
       "    <tr>\n",
       "      <th rowspan=\"5\" valign=\"top\">train</th>\n",
       "      <th>0</th>\n",
       "      <td>710</td>\n",
       "    </tr>\n",
       "    <tr>\n",
       "      <th>1</th>\n",
       "      <td>1068</td>\n",
       "    </tr>\n",
       "    <tr>\n",
       "      <th>2</th>\n",
       "      <td>2753</td>\n",
       "    </tr>\n",
       "    <tr>\n",
       "      <th>3</th>\n",
       "      <td>1056</td>\n",
       "    </tr>\n",
       "    <tr>\n",
       "      <th>4</th>\n",
       "      <td>771</td>\n",
       "    </tr>\n",
       "  </tbody>\n",
       "</table>\n",
       "</div>"
      ],
      "text/plain": [
       "         starting_street_tf\n",
       "train 0                 710\n",
       "      1                1068\n",
       "      2                2753\n",
       "      3                1056\n",
       "      4                 771"
      ]
     },
     "execution_count": 60,
     "metadata": {},
     "output_type": "execute_result"
    }
   ],
   "source": [
    "data[:5]"
   ]
  },
  {
   "cell_type": "code",
   "execution_count": 61,
   "metadata": {
    "ExecuteTime": {
     "end_time": "2017-08-08T07:12:55.096006Z",
     "start_time": "2017-08-08T07:12:47.421011Z"
    }
   },
   "outputs": [
    {
     "data": {
      "text/plain": [
       "MiniBatchKMeans(batch_size=10000, compute_labels=True, init='k-means++',\n",
       "        init_size=None, max_iter=100, max_no_improvement=10,\n",
       "        n_clusters=100, n_init=10, random_state=None,\n",
       "        reassignment_ratio=0.01, tol=0.0, verbose=0)"
      ]
     },
     "execution_count": 61,
     "metadata": {},
     "output_type": "execute_result"
    }
   ],
   "source": [
    "batch_size = 10000\n",
    "mbk = MiniBatchKMeans(init='k-means++', n_clusters=100, batch_size=batch_size,\n",
    "                      n_init=10, max_no_improvement=10, verbose=0)\n",
    "mbk.fit(data)"
   ]
  },
  {
   "cell_type": "code",
   "execution_count": 62,
   "metadata": {
    "ExecuteTime": {
     "end_time": "2017-08-08T07:13:08.162252Z",
     "start_time": "2017-08-08T07:13:06.609811Z"
    }
   },
   "outputs": [
    {
     "name": "stdout",
     "output_type": "stream",
     "text": [
      "Cluster size: 2083777\n"
     ]
    },
    {
     "data": {
      "text/plain": [
       "array([ 6, 75, 43,  2, 82], dtype=int32)"
      ]
     },
     "execution_count": 62,
     "metadata": {},
     "output_type": "execute_result"
    }
   ],
   "source": [
    "# mbk_means_cluster_centers = np.sort(mbk.cluster_centers_, axis=0)\n",
    "# mbk_means_labels = pairwise_distances_argmin(data, mbk_means_cluster_centers)\n",
    "mbk_means_labels = mbk.predict(data)\n",
    "print(\"Cluster size:\", len(mbk_means_labels))\n",
    "mbk_means_labels[:5]"
   ]
  },
  {
   "cell_type": "code",
   "execution_count": 63,
   "metadata": {
    "ExecuteTime": {
     "end_time": "2017-08-08T07:13:46.085079Z",
     "start_time": "2017-08-08T07:13:11.643434Z"
    }
   },
   "outputs": [
    {
     "data": {
      "text/html": [
       "<div>\n",
       "<style>\n",
       "    .dataframe thead tr:only-child th {\n",
       "        text-align: right;\n",
       "    }\n",
       "\n",
       "    .dataframe thead th {\n",
       "        text-align: left;\n",
       "    }\n",
       "\n",
       "    .dataframe tbody tr th {\n",
       "        vertical-align: top;\n",
       "    }\n",
       "</style>\n",
       "<table border=\"1\" class=\"dataframe\">\n",
       "  <thead>\n",
       "    <tr style=\"text-align: right;\">\n",
       "      <th></th>\n",
       "      <th></th>\n",
       "      <th>id</th>\n",
       "      <th>total_distance</th>\n",
       "      <th>total_travel_time</th>\n",
       "      <th>number_of_steps</th>\n",
       "      <th>vendor_id</th>\n",
       "      <th>passenger_count</th>\n",
       "      <th>pickup_longitude</th>\n",
       "      <th>pickup_latitude</th>\n",
       "      <th>dropoff_longitude</th>\n",
       "      <th>dropoff_latitude</th>\n",
       "      <th>...</th>\n",
       "      <th>pickup_year</th>\n",
       "      <th>pickup_month</th>\n",
       "      <th>pickup_weekday</th>\n",
       "      <th>pickup_day</th>\n",
       "      <th>pickup_hour</th>\n",
       "      <th>pickup_whour</th>\n",
       "      <th>pickup_minute</th>\n",
       "      <th>starting_street_tf</th>\n",
       "      <th>end_street_tf</th>\n",
       "      <th>pickup_whour_st_cluster</th>\n",
       "    </tr>\n",
       "  </thead>\n",
       "  <tbody>\n",
       "    <tr>\n",
       "      <th rowspan=\"5\" valign=\"top\">train</th>\n",
       "      <th>0</th>\n",
       "      <td>id2085575</td>\n",
       "      <td>3,588.5000</td>\n",
       "      <td>359.8000</td>\n",
       "      <td>7</td>\n",
       "      <td>2</td>\n",
       "      <td>5</td>\n",
       "      <td>-73.9653</td>\n",
       "      <td>40.7526</td>\n",
       "      <td>-73.9947</td>\n",
       "      <td>40.7486</td>\n",
       "      <td>...</td>\n",
       "      <td>2016</td>\n",
       "      <td>3</td>\n",
       "      <td>4</td>\n",
       "      <td>18</td>\n",
       "      <td>13</td>\n",
       "      <td>109</td>\n",
       "      <td>47</td>\n",
       "      <td>710</td>\n",
       "      <td>5848</td>\n",
       "      <td>6</td>\n",
       "    </tr>\n",
       "    <tr>\n",
       "      <th>1</th>\n",
       "      <td>id0633227</td>\n",
       "      <td>3,935.6000</td>\n",
       "      <td>358.0000</td>\n",
       "      <td>7</td>\n",
       "      <td>1</td>\n",
       "      <td>1</td>\n",
       "      <td>-73.9790</td>\n",
       "      <td>40.7526</td>\n",
       "      <td>-73.9516</td>\n",
       "      <td>40.7709</td>\n",
       "      <td>...</td>\n",
       "      <td>2016</td>\n",
       "      <td>3</td>\n",
       "      <td>1</td>\n",
       "      <td>1</td>\n",
       "      <td>19</td>\n",
       "      <td>43</td>\n",
       "      <td>24</td>\n",
       "      <td>1068</td>\n",
       "      <td>2284</td>\n",
       "      <td>75</td>\n",
       "    </tr>\n",
       "    <tr>\n",
       "      <th>2</th>\n",
       "      <td>id1356036</td>\n",
       "      <td>3,468.3000</td>\n",
       "      <td>228.2000</td>\n",
       "      <td>10</td>\n",
       "      <td>2</td>\n",
       "      <td>1</td>\n",
       "      <td>-73.9813</td>\n",
       "      <td>40.7801</td>\n",
       "      <td>-73.9920</td>\n",
       "      <td>40.7743</td>\n",
       "      <td>...</td>\n",
       "      <td>2016</td>\n",
       "      <td>5</td>\n",
       "      <td>4</td>\n",
       "      <td>20</td>\n",
       "      <td>22</td>\n",
       "      <td>118</td>\n",
       "      <td>49</td>\n",
       "      <td>2753</td>\n",
       "      <td>3299</td>\n",
       "      <td>43</td>\n",
       "    </tr>\n",
       "    <tr>\n",
       "      <th>3</th>\n",
       "      <td>id2360318</td>\n",
       "      <td>2,369.6000</td>\n",
       "      <td>240.0000</td>\n",
       "      <td>5</td>\n",
       "      <td>2</td>\n",
       "      <td>1</td>\n",
       "      <td>-73.9808</td>\n",
       "      <td>40.7445</td>\n",
       "      <td>-73.9710</td>\n",
       "      <td>40.7615</td>\n",
       "      <td>...</td>\n",
       "      <td>2016</td>\n",
       "      <td>5</td>\n",
       "      <td>0</td>\n",
       "      <td>23</td>\n",
       "      <td>9</td>\n",
       "      <td>9</td>\n",
       "      <td>55</td>\n",
       "      <td>1056</td>\n",
       "      <td>4330</td>\n",
       "      <td>2</td>\n",
       "    </tr>\n",
       "    <tr>\n",
       "      <th>4</th>\n",
       "      <td>id1397932</td>\n",
       "      <td>3,050.7000</td>\n",
       "      <td>415.1000</td>\n",
       "      <td>9</td>\n",
       "      <td>1</td>\n",
       "      <td>1</td>\n",
       "      <td>-73.9974</td>\n",
       "      <td>40.7212</td>\n",
       "      <td>-73.9843</td>\n",
       "      <td>40.7434</td>\n",
       "      <td>...</td>\n",
       "      <td>2016</td>\n",
       "      <td>6</td>\n",
       "      <td>3</td>\n",
       "      <td>2</td>\n",
       "      <td>20</td>\n",
       "      <td>92</td>\n",
       "      <td>1</td>\n",
       "      <td>771</td>\n",
       "      <td>2227</td>\n",
       "      <td>82</td>\n",
       "    </tr>\n",
       "  </tbody>\n",
       "</table>\n",
       "<p>5 rows × 21 columns</p>\n",
       "</div>"
      ],
      "text/plain": [
       "                id  total_distance  total_travel_time  number_of_steps  \\\n",
       "train 0  id2085575      3,588.5000           359.8000                7   \n",
       "      1  id0633227      3,935.6000           358.0000                7   \n",
       "      2  id1356036      3,468.3000           228.2000               10   \n",
       "      3  id2360318      2,369.6000           240.0000                5   \n",
       "      4  id1397932      3,050.7000           415.1000                9   \n",
       "\n",
       "         vendor_id  passenger_count  pickup_longitude  pickup_latitude  \\\n",
       "train 0          2                5          -73.9653          40.7526   \n",
       "      1          1                1          -73.9790          40.7526   \n",
       "      2          2                1          -73.9813          40.7801   \n",
       "      3          2                1          -73.9808          40.7445   \n",
       "      4          1                1          -73.9974          40.7212   \n",
       "\n",
       "         dropoff_longitude  dropoff_latitude           ...             \\\n",
       "train 0           -73.9947           40.7486           ...              \n",
       "      1           -73.9516           40.7709           ...              \n",
       "      2           -73.9920           40.7743           ...              \n",
       "      3           -73.9710           40.7615           ...              \n",
       "      4           -73.9843           40.7434           ...              \n",
       "\n",
       "        pickup_year  pickup_month  pickup_weekday  pickup_day  pickup_hour  \\\n",
       "train 0        2016             3               4          18           13   \n",
       "      1        2016             3               1           1           19   \n",
       "      2        2016             5               4          20           22   \n",
       "      3        2016             5               0          23            9   \n",
       "      4        2016             6               3           2           20   \n",
       "\n",
       "         pickup_whour  pickup_minute  starting_street_tf  end_street_tf  \\\n",
       "train 0           109             47                 710           5848   \n",
       "      1            43             24                1068           2284   \n",
       "      2           118             49                2753           3299   \n",
       "      3             9             55                1056           4330   \n",
       "      4            92              1                 771           2227   \n",
       "\n",
       "         pickup_whour_st_cluster  \n",
       "train 0                        6  \n",
       "      1                       75  \n",
       "      2                       43  \n",
       "      3                        2  \n",
       "      4                       82  \n",
       "\n",
       "[5 rows x 21 columns]"
      ]
     },
     "execution_count": 63,
     "metadata": {},
     "output_type": "execute_result"
    }
   ],
   "source": [
    "data = combine_data.copy()\n",
    "data.loc[:, 'pickup_whour_st_cluster'] = mbk_means_labels\n",
    "data[:5]"
   ]
  },
  {
   "cell_type": "code",
   "execution_count": 54,
   "metadata": {
    "ExecuteTime": {
     "end_time": "2017-08-08T07:10:16.105613Z",
     "start_time": "2017-08-08T07:10:16.103145Z"
    },
    "collapsed": true
   },
   "outputs": [],
   "source": [
    "city_long_border = (-74.03, -73.75)\n",
    "city_lat_border = (40.63, 40.85)"
   ]
  },
  {
   "cell_type": "code",
   "execution_count": 58,
   "metadata": {
    "ExecuteTime": {
     "end_time": "2017-08-08T07:11:56.488383Z",
     "start_time": "2017-08-08T07:11:53.884480Z"
    },
    "scrolled": false
   },
   "outputs": [
    {
     "data": {
      "image/png": "[encoded data removed]",
      "text/plain": [
       "<matplotlib.figure.Figure at 0x7ff0dec08748>"
      ]
     },
     "metadata": {},
     "output_type": "display_data"
    }
   ],
   "source": [
    "data2 = data[:200000]\n",
    "fig, ax = plt.subplots(ncols=1, nrows=1, figsize=(8,8))\n",
    "ax.scatter(data2['pickup_longitude'], data2['pickup_latitude'] , c=data2['pickup_whour_st_cluster'], cmap='tab20',s=10, lw=0, alpha=0.2)\n",
    "ax.set_xlim(city_long_border)\n",
    "ax.set_ylim(city_lat_border)\n",
    "ax.set_xlabel('Longitude')\n",
    "ax.set_ylabel('Latitude')\n",
    "plt.show()"
   ]
  },
  {
   "cell_type": "markdown",
   "metadata": {},
   "source": [
    "### End street cluster"
   ]
  },
  {
   "cell_type": "code",
   "execution_count": null,
   "metadata": {
    "ExecuteTime": {
     "end_time": "2017-08-04T10:25:08.348146Z",
     "start_time": "2017-08-04T10:25:08.337962Z"
    },
    "collapsed": true
   },
   "outputs": [],
   "source": [
    "col_use =['pickup_hour', 'end_street_tf']\n",
    "data = combine_data[col_use]"
   ]
  },
  {
   "cell_type": "code",
   "execution_count": null,
   "metadata": {
    "ExecuteTime": {
     "end_time": "2017-08-04T10:25:11.152892Z",
     "start_time": "2017-08-04T10:25:11.145477Z"
    },
    "collapsed": true
   },
   "outputs": [],
   "source": [
    "data[:5]"
   ]
  },
  {
   "cell_type": "code",
   "execution_count": null,
   "metadata": {
    "ExecuteTime": {
     "end_time": "2017-08-04T10:25:22.373038Z",
     "start_time": "2017-08-04T10:25:15.428548Z"
    },
    "collapsed": true
   },
   "outputs": [],
   "source": [
    "batch_size = 10000\n",
    "mbk = MiniBatchKMeans(init='k-means++', n_clusters=100, batch_size=batch_size,\n",
    "                      n_init=10, max_no_improvement=10, verbose=0)\n",
    "mbk.fit(data)"
   ]
  },
  {
   "cell_type": "code",
   "execution_count": null,
   "metadata": {
    "ExecuteTime": {
     "end_time": "2017-08-04T10:25:37.574128Z",
     "start_time": "2017-08-04T10:25:36.043083Z"
    },
    "collapsed": true
   },
   "outputs": [],
   "source": [
    "# mbk_means_cluster_centers = np.sort(mbk.cluster_centers_, axis=0)\n",
    "# mbk_means_labels = pairwise_distances_argmin(data, mbk_means_cluster_centers)\n",
    "mbk_means_labels = mbk.predict(data)\n",
    "print(\"Cluster size:\", len(mbk_means_labels))\n",
    "mbk_means_labels[:5]"
   ]
  },
  {
   "cell_type": "code",
   "execution_count": null,
   "metadata": {
    "ExecuteTime": {
     "end_time": "2017-08-04T10:25:41.049536Z",
     "start_time": "2017-08-04T10:25:40.714839Z"
    },
    "collapsed": true
   },
   "outputs": [],
   "source": [
    "combine_data.loc[:, 'pickup_hour_et_cluster'] = mbk_means_labels\n",
    "combine_data[:5]"
   ]
  },
  {
   "cell_type": "code",
   "execution_count": null,
   "metadata": {
    "ExecuteTime": {
     "end_time": "2017-08-04T10:14:07.795118Z",
     "start_time": "2017-08-04T10:14:07.792259Z"
    },
    "collapsed": true
   },
   "outputs": [],
   "source": [
    "city_long_border = (-74.03, -73.75)\n",
    "city_lat_border = (40.63, 40.85)"
   ]
  },
  {
   "cell_type": "code",
   "execution_count": null,
   "metadata": {
    "ExecuteTime": {
     "end_time": "2017-08-04T10:26:33.147099Z",
     "start_time": "2017-08-04T10:26:30.814905Z"
    },
    "collapsed": true,
    "scrolled": false
   },
   "outputs": [],
   "source": [
    "data2 = combine_data[:200000]\n",
    "fig, ax = plt.subplots(ncols=1, nrows=1, figsize=(8,8))\n",
    "ax.scatter(data2['dropoff_longitude'], data2['dropoff_latitude'] , c=data2['pickup_hour_et_cluster'], cmap='tab20',s=10, lw=0, alpha=0.2)\n",
    "ax.set_xlim(city_long_border)\n",
    "ax.set_ylim(city_lat_border)\n",
    "ax.set_xlabel('Longitude')\n",
    "ax.set_ylabel('Latitude')\n",
    "plt.show()"
   ]
  },
  {
   "cell_type": "code",
   "execution_count": null,
   "metadata": {
    "collapsed": true
   },
   "outputs": [],
   "source": []
  },
  {
   "cell_type": "code",
   "execution_count": null,
   "metadata": {
    "collapsed": true
   },
   "outputs": [],
   "source": []
  }
 ],
 "metadata": {
  "kernelspec": {
   "display_name": "Python 3",
   "language": "python",
   "name": "python3"
  },
  "language_info": {
   "codemirror_mode": {
    "name": "ipython",
    "version": 3
   },
   "file_extension": ".py",
   "mimetype": "text/x-python",
   "name": "python",
   "nbconvert_exporter": "python",
   "pygments_lexer": "ipython3",
   "version": "3.4.3"
  },
  "toc": {
   "colors": {
    "hover_highlight": "#DAA520",
    "navigate_num": "#000000",
    "navigate_text": "#333333",
    "running_highlight": "#FF0000",
    "selected_highlight": "#FFD700",
    "sidebar_border": "#EEEEEE",
    "wrapper_background": "#FFFFFF"
   },
   "moveMenuLeft": true,
   "nav_menu": {
    "height": "512px",
    "width": "252px"
   },
   "navigate_menu": true,
   "number_sections": true,
   "sideBar": true,
   "threshold": 4,
   "toc_cell": true,
   "toc_position": {
    "height": "537px",
    "left": "0px",
    "right": "1090px",
    "top": "107px",
    "width": "270px"
   },
   "toc_section_display": "block",
   "toc_window_display": true,
   "widenNotebook": false
  },
  "varInspector": {
   "cols": {
    "lenName": 16,
    "lenType": 16,
    "lenVar": 40
   },
   "kernels_config": {
    "python": {
     "delete_cmd_postfix": "",
     "delete_cmd_prefix": "del ",
     "library": "var_list.py",
     "varRefreshCmd": "print(var_dic_list())"
    },
    "r": {
     "delete_cmd_postfix": ") ",
     "delete_cmd_prefix": "rm(",
     "library": "var_list.r",
     "varRefreshCmd": "cat(var_dic_list()) "
    }
   },
   "position": {
    "height": "607px",
    "left": "1139px",
    "right": "20px",
    "top": "68px",
    "width": "310px"
   },
   "types_to_exclude": [
    "module",
    "function",
    "builtin_function_or_method",
    "instance",
    "_Feature"
   ],
   "window_display": false
  }
 },
 "nbformat": 4,
 "nbformat_minor": 2
}
