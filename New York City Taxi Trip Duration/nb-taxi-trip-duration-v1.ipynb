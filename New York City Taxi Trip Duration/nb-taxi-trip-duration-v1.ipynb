{
 "cells": [
  {
   "cell_type": "markdown",
   "metadata": {
    "toc": "true"
   },
   "source": [
    " # Table of Contents\n",
    "<div class=\"toc\" style=\"margin-top: 1em;\"><ul class=\"toc-item\" id=\"toc-level0\"><li><span><a href=\"http://localhost:8888/notebooks/New%20York%20City%20Taxi%20Trip%20Duration/nb-taxi-trip-duration-v1.ipynb#New-York-City-Taxi-Trip-Duration\" data-toc-modified-id=\"New-York-City-Taxi-Trip-Duration-1\"><span class=\"toc-item-num\">1&nbsp;&nbsp;</span>New York City Taxi Trip Duration</a></span><ul class=\"toc-item\"><li><span><a href=\"http://localhost:8888/notebooks/New%20York%20City%20Taxi%20Trip%20Duration/nb-taxi-trip-duration-v1.ipynb#Credit-to:\" data-toc-modified-id=\"Credit-to:-1.1\"><span class=\"toc-item-num\">1.1&nbsp;&nbsp;</span>Credit to:</a></span></li></ul></li><li><span><a href=\"http://localhost:8888/notebooks/New%20York%20City%20Taxi%20Trip%20Duration/nb-taxi-trip-duration-v1.ipynb#Load-data\" data-toc-modified-id=\"Load-data-2\"><span class=\"toc-item-num\">2&nbsp;&nbsp;</span>Load data</a></span><ul class=\"toc-item\"><li><span><a href=\"http://localhost:8888/notebooks/New%20York%20City%20Taxi%20Trip%20Duration/nb-taxi-trip-duration-v1.ipynb#Check-trip_duration\" data-toc-modified-id=\"Check-trip_duration-2.1\"><span class=\"toc-item-num\">2.1&nbsp;&nbsp;</span>Check trip_duration</a></span><ul class=\"toc-item\"><li><span><a href=\"http://localhost:8888/notebooks/New%20York%20City%20Taxi%20Trip%20Duration/nb-taxi-trip-duration-v1.ipynb#Combine-train-data-and-eval-data\" data-toc-modified-id=\"Combine-train-data-and-eval-data-2.1.1\"><span class=\"toc-item-num\">2.1.1&nbsp;&nbsp;</span>Combine train data and eval data</a></span></li></ul></li></ul></li><li><span><a href=\"http://localhost:8888/notebooks/New%20York%20City%20Taxi%20Trip%20Duration/nb-taxi-trip-duration-v1.ipynb#Pre-process-data\" data-toc-modified-id=\"Pre-process-data-3\"><span class=\"toc-item-num\">3&nbsp;&nbsp;</span>Pre-process data</a></span><ul class=\"toc-item\"><ul class=\"toc-item\"><li><span><a href=\"http://localhost:8888/notebooks/New%20York%20City%20Taxi%20Trip%20Duration/nb-taxi-trip-duration-v1.ipynb#Check-NaN-columns\" data-toc-modified-id=\"Check-NaN-columns-3.0.1\"><span class=\"toc-item-num\">3.0.1&nbsp;&nbsp;</span>Check NaN columns</a></span></li></ul><li><span><a href=\"http://localhost:8888/notebooks/New%20York%20City%20Taxi%20Trip%20Duration/nb-taxi-trip-duration-v1.ipynb#Transform-object-data\" data-toc-modified-id=\"Transform-object-data-3.1\"><span class=\"toc-item-num\">3.1&nbsp;&nbsp;</span>Transform object data</a></span><ul class=\"toc-item\"><li><span><a href=\"http://localhost:8888/notebooks/New%20York%20City%20Taxi%20Trip%20Duration/nb-taxi-trip-duration-v1.ipynb#Convert-datetime-string-to-object\" data-toc-modified-id=\"Convert-datetime-string-to-object-3.1.1\"><span class=\"toc-item-num\">3.1.1&nbsp;&nbsp;</span>Convert datetime string to object</a></span></li><li><span><a href=\"http://localhost:8888/notebooks/New%20York%20City%20Taxi%20Trip%20Duration/nb-taxi-trip-duration-v1.ipynb#store_and_fwd_flag\" data-toc-modified-id=\"store_and_fwd_flag-3.1.2\"><span class=\"toc-item-num\">3.1.2&nbsp;&nbsp;</span>store_and_fwd_flag</a></span></li><li><span><a href=\"http://localhost:8888/notebooks/New%20York%20City%20Taxi%20Trip%20Duration/nb-taxi-trip-duration-v1.ipynb#Drop-unused-cols\" data-toc-modified-id=\"Drop-unused-cols-3.1.3\"><span class=\"toc-item-num\">3.1.3&nbsp;&nbsp;</span>Drop unused cols</a></span></li></ul></li><li><span><a href=\"http://localhost:8888/notebooks/New%20York%20City%20Taxi%20Trip%20Duration/nb-taxi-trip-duration-v1.ipynb#Feature-scaling-(not-use)\" data-toc-modified-id=\"Feature-scaling-(not-use)-3.2\"><span class=\"toc-item-num\">3.2&nbsp;&nbsp;</span>Feature scaling (not use)</a></span></li><li><span><a href=\"http://localhost:8888/notebooks/New%20York%20City%20Taxi%20Trip%20Duration/nb-taxi-trip-duration-v1.ipynb#Feature-engineering\" data-toc-modified-id=\"Feature-engineering-3.3\"><span class=\"toc-item-num\">3.3&nbsp;&nbsp;</span>Feature engineering</a></span><ul class=\"toc-item\"><li><span><a href=\"http://localhost:8888/notebooks/New%20York%20City%20Taxi%20Trip%20Duration/nb-taxi-trip-duration-v1.ipynb#Distance-between-pickup-and-dropoff\" data-toc-modified-id=\"Distance-between-pickup-and-dropoff-3.3.1\"><span class=\"toc-item-num\">3.3.1&nbsp;&nbsp;</span>Distance between pickup and dropoff</a></span></li></ul></li><li><span><a href=\"http://localhost:8888/notebooks/New%20York%20City%20Taxi%20Trip%20Duration/nb-taxi-trip-duration-v1.ipynb#Clearning-data\" data-toc-modified-id=\"Clearning-data-3.4\"><span class=\"toc-item-num\">3.4&nbsp;&nbsp;</span>Clearning data</a></span><ul class=\"toc-item\"><li><span><a href=\"http://localhost:8888/notebooks/New%20York%20City%20Taxi%20Trip%20Duration/nb-taxi-trip-duration-v1.ipynb#Split-train_set-and-eval_set\" data-toc-modified-id=\"Split-train_set-and-eval_set-3.4.1\"><span class=\"toc-item-num\">3.4.1&nbsp;&nbsp;</span>Split train_set and eval_set</a></span></li><li><span><a href=\"http://localhost:8888/notebooks/New%20York%20City%20Taxi%20Trip%20Duration/nb-taxi-trip-duration-v1.ipynb#Trip-duration-outliner\" data-toc-modified-id=\"Trip-duration-outliner-3.4.2\"><span class=\"toc-item-num\">3.4.2&nbsp;&nbsp;</span>Trip duration outliner</a></span><ul class=\"toc-item\"><li><span><a href=\"http://localhost:8888/notebooks/New%20York%20City%20Taxi%20Trip%20Duration/nb-taxi-trip-duration-v1.ipynb#Search-for-outliner\" data-toc-modified-id=\"Search-for-outliner-3.4.2.1\"><span class=\"toc-item-num\">3.4.2.1&nbsp;&nbsp;</span>Search for outliner</a></span></li><li><span><a href=\"http://localhost:8888/notebooks/New%20York%20City%20Taxi%20Trip%20Duration/nb-taxi-trip-duration-v1.ipynb#Drop-trip-duration-outliner\" data-toc-modified-id=\"Drop-trip-duration-outliner-3.4.2.2\"><span class=\"toc-item-num\">3.4.2.2&nbsp;&nbsp;</span>Drop trip-duration outliner</a></span></li></ul></li><li><span><a href=\"http://localhost:8888/notebooks/New%20York%20City%20Taxi%20Trip%20Duration/nb-taxi-trip-duration-v1.ipynb#Trip-duration-distribution\" data-toc-modified-id=\"Trip-duration-distribution-3.4.3\"><span class=\"toc-item-num\">3.4.3&nbsp;&nbsp;</span>Trip duration distribution</a></span></li></ul></li><li><span><a href=\"http://localhost:8888/notebooks/New%20York%20City%20Taxi%20Trip%20Duration/nb-taxi-trip-duration-v1.ipynb#Feature-correlation\" data-toc-modified-id=\"Feature-correlation-3.5\"><span class=\"toc-item-num\">3.5&nbsp;&nbsp;</span>Feature correlation</a></span></li></ul></li><li><span><a href=\"http://localhost:8888/notebooks/New%20York%20City%20Taxi%20Trip%20Duration/nb-taxi-trip-duration-v1.ipynb#Train-model\" data-toc-modified-id=\"Train-model-4\"><span class=\"toc-item-num\">4&nbsp;&nbsp;</span>Train model</a></span><ul class=\"toc-item\"><li><span><a href=\"http://localhost:8888/notebooks/New%20York%20City%20Taxi%20Trip%20Duration/nb-taxi-trip-duration-v1.ipynb#Model-definition\" data-toc-modified-id=\"Model-definition-4.1\"><span class=\"toc-item-num\">4.1&nbsp;&nbsp;</span>Model definition</a></span><ul class=\"toc-item\"><li><span><a href=\"http://localhost:8888/notebooks/New%20York%20City%20Taxi%20Trip%20Duration/nb-taxi-trip-duration-v1.ipynb#Find-the-best-hyperparam-for-model-using-GridSearchCV-(not-use)\" data-toc-modified-id=\"Find-the-best-hyperparam-for-model-using-GridSearchCV-(not-use)-4.1.1\"><span class=\"toc-item-num\">4.1.1&nbsp;&nbsp;</span>Find the best hyperparam for model using GridSearchCV (not use)</a></span><ul class=\"toc-item\"><li><span><a href=\"http://localhost:8888/notebooks/New%20York%20City%20Taxi%20Trip%20Duration/nb-taxi-trip-duration-v1.ipynb#Tuning-param-after-GridSearchCV-(not-use)\" data-toc-modified-id=\"Tuning-param-after-GridSearchCV-(not-use)-4.1.1.1\"><span class=\"toc-item-num\">4.1.1.1&nbsp;&nbsp;</span>Tuning param after GridSearchCV (not use)</a></span></li></ul></li><li><span><a href=\"http://localhost:8888/notebooks/New%20York%20City%20Taxi%20Trip%20Duration/nb-taxi-trip-duration-v1.ipynb#Cross-validate--(not-use)\" data-toc-modified-id=\"Cross-validate--(not-use)-4.1.2\"><span class=\"toc-item-num\">4.1.2&nbsp;&nbsp;</span>Cross validate  (not use)</a></span><ul class=\"toc-item\"><li><span><a href=\"http://localhost:8888/notebooks/New%20York%20City%20Taxi%20Trip%20Duration/nb-taxi-trip-duration-v1.ipynb#Tuning-param-after-CV--(not-use)\" data-toc-modified-id=\"Tuning-param-after-CV--(not-use)-4.1.2.1\"><span class=\"toc-item-num\">4.1.2.1&nbsp;&nbsp;</span>Tuning param after CV  (not use)</a></span></li></ul></li><li><span><a href=\"http://localhost:8888/notebooks/New%20York%20City%20Taxi%20Trip%20Duration/nb-taxi-trip-duration-v1.ipynb#Plot-learning-curve-to-determine-best-train/test-split--(not-use)\" data-toc-modified-id=\"Plot-learning-curve-to-determine-best-train/test-split--(not-use)-4.1.3\"><span class=\"toc-item-num\">4.1.3&nbsp;&nbsp;</span>Plot learning curve to determine best train/test split  (not use)</a></span></li><li><span><a href=\"http://localhost:8888/notebooks/New%20York%20City%20Taxi%20Trip%20Duration/nb-taxi-trip-duration-v1.ipynb#Split-train/test-set\" data-toc-modified-id=\"Split-train/test-set-4.1.4\"><span class=\"toc-item-num\">4.1.4&nbsp;&nbsp;</span>Split train/test set</a></span></li></ul></li><li><span><a href=\"http://localhost:8888/notebooks/New%20York%20City%20Taxi%20Trip%20Duration/nb-taxi-trip-duration-v1.ipynb#Train-data\" data-toc-modified-id=\"Train-data-4.2\"><span class=\"toc-item-num\">4.2&nbsp;&nbsp;</span>Train data</a></span><ul class=\"toc-item\"><li><span><a href=\"http://localhost:8888/notebooks/New%20York%20City%20Taxi%20Trip%20Duration/nb-taxi-trip-duration-v1.ipynb#Predict-for-test-data\" data-toc-modified-id=\"Predict-for-test-data-4.2.1\"><span class=\"toc-item-num\">4.2.1&nbsp;&nbsp;</span>Predict for test data</a></span></li><li><span><a href=\"http://localhost:8888/notebooks/New%20York%20City%20Taxi%20Trip%20Duration/nb-taxi-trip-duration-v1.ipynb#Feature-importances\" data-toc-modified-id=\"Feature-importances-4.2.2\"><span class=\"toc-item-num\">4.2.2&nbsp;&nbsp;</span>Feature importances</a></span></li></ul></li></ul></li><li><span><a href=\"http://localhost:8888/notebooks/New%20York%20City%20Taxi%20Trip%20Duration/nb-taxi-trip-duration-v1.ipynb#Predict-and-save-submission\" data-toc-modified-id=\"Predict-and-save-submission-5\"><span class=\"toc-item-num\">5&nbsp;&nbsp;</span>Predict and save submission</a></span></li></ul></div>"
   ]
  },
  {
   "cell_type": "markdown",
   "metadata": {},
   "source": [
    "# New York City Taxi Trip Duration\n",
    "- Share code and data to improve ride time predictions\n",
    "- https://www.kaggle.com/c/nyc-taxi-trip-duration/data\n",
    "- install: http://jupyter-contrib-nbextensions.readthedocs.io/en/latest/install.html\n",
    "- install: https://github.com/Jupyter-contrib/jupyter_nbextensions_configurator\n",
    "- install GDAL: https://sandbox.idre.ucla.edu/sandbox/tutorials/installing-gdal-for-windows\n",
    "- install osmnx: http://geoffboeing.com/2014/09/using-geopandas-windows/\n"
   ]
  },
  {
   "cell_type": "markdown",
   "metadata": {},
   "source": [
    "## Credit to:\n",
    "- https://www.kaggle.com/ankasor/driving-distance-using-open-street-maps-data/notebook"
   ]
  },
  {
   "cell_type": "code",
   "execution_count": 1,
   "metadata": {
    "ExecuteTime": {
     "end_time": "2017-09-02T09:35:36.154243Z",
     "start_time": "2017-09-02T09:35:06.020568Z"
    }
   },
   "outputs": [
    {
     "name": "stderr",
     "output_type": "stream",
     "text": [
      "c:\\users\\le anh tuan\\appdata\\local\\programs\\python\\python35\\lib\\site-packages\\sklearn\\cross_validation.py:44: DeprecationWarning: This module was deprecated in version 0.18 in favor of the model_selection module into which all the refactored classes and functions are moved. Also note that the interface of the new CV iterators are different from that of this module. This module will be removed in 0.20.\n",
      "  \"This module will be removed in 0.20.\", DeprecationWarning)\n",
      "c:\\users\\le anh tuan\\appdata\\local\\programs\\python\\python35\\lib\\site-packages\\sklearn\\grid_search.py:43: DeprecationWarning: This module was deprecated in version 0.18 in favor of the model_selection module into which all the refactored classes and functions are moved. This module will be removed in 0.20.\n",
      "  DeprecationWarning)\n",
      "c:\\users\\le anh tuan\\appdata\\local\\programs\\python\\python35\\lib\\site-packages\\geopandas\\__init__.py:1: DeprecationWarning: pandas.util.decorators is deprecated and will be removed in a future version, import from pandas.util\n",
      "  from geopandas.geoseries import GeoSeries\n"
     ]
    }
   ],
   "source": [
    "# data processing\n",
    "import pandas as pd\n",
    "import matplotlib.pyplot as plt\n",
    "import seaborn as sns\n",
    "import numpy as np\n",
    "from math import sqrt\n",
    "from scipy import stats\n",
    "from scipy.stats import norm\n",
    "import math\n",
    "from numpy import sort\n",
    "\n",
    "# ML\n",
    "# # Scikit-learn\n",
    "from sklearn.preprocessing import StandardScaler\n",
    "from sklearn.tree import DecisionTreeRegressor\n",
    "from sklearn.linear_model import LinearRegression\n",
    "from sklearn.ensemble import RandomForestRegressor, AdaBoostRegressor, GradientBoostingRegressor, ExtraTreesRegressor\n",
    "from sklearn.model_selection import cross_val_score, train_test_split, learning_curve, validation_curve, KFold\n",
    "from sklearn.metrics import mean_squared_error, make_scorer\n",
    "from sklearn.grid_search import GridSearchCV\n",
    "from sklearn.preprocessing import LabelEncoder, StandardScaler\n",
    "from sklearn.feature_selection import SelectFromModel\n",
    "# # XGB\n",
    "from xgboost.sklearn import XGBRegressor\n",
    "import xgboost as xgb\n",
    "from xgboost import plot_importance\n",
    "# # CatBoost\n",
    "#from catboost import Pool, CatBoostRegressor, cv, CatboostIpythonWidget\n",
    "# System\n",
    "import datetime as dtime\n",
    "from datetime import datetime\n",
    "import sys\n",
    "from inspect import getsourcefile\n",
    "import os.path\n",
    "import re\n",
    "import time\n",
    "\n",
    "# Other\n",
    "from geographiclib.geodesic import Geodesic\n",
    "import osmnx as ox\n",
    "import networkx as nx\n",
    "\n",
    "import warnings\n",
    "warnings.filterwarnings('ignore')\n",
    "%matplotlib inline"
   ]
  },
  {
   "cell_type": "markdown",
   "metadata": {},
   "source": [
    "# Load data"
   ]
  },
  {
   "cell_type": "code",
   "execution_count": 2,
   "metadata": {
    "ExecuteTime": {
     "end_time": "2017-09-02T09:35:44.161440Z",
     "start_time": "2017-09-02T09:35:36.156240Z"
    },
    "collapsed": true
   },
   "outputs": [],
   "source": [
    "# Input data files are available in the DATA_DIR directory.\n",
    "DATA_DIR = \"data-temp\"\n",
    "# Load data. Download from:https://www.kaggle.com/c/nyc-taxi-trip-duration/data\n",
    "train_data = pd.read_csv(DATA_DIR + \"/train.csv\")\n",
    "eval_data =  pd.read_csv(DATA_DIR + \"/test.csv\")"
   ]
  },
  {
   "cell_type": "code",
   "execution_count": 3,
   "metadata": {
    "ExecuteTime": {
     "end_time": "2017-09-02T09:35:44.168945Z",
     "start_time": "2017-09-02T09:35:44.162941Z"
    }
   },
   "outputs": [
    {
     "name": "stdout",
     "output_type": "stream",
     "text": [
      "train size: (1458644, 11)  test size: (625134, 9)\n"
     ]
    }
   ],
   "source": [
    "print(\"train size:\", train_data.shape, \" test size:\", eval_data.shape)"
   ]
  },
  {
   "cell_type": "code",
   "execution_count": 4,
   "metadata": {
    "ExecuteTime": {
     "end_time": "2017-09-02T09:35:44.300533Z",
     "start_time": "2017-09-02T09:35:44.170946Z"
    },
    "scrolled": true
   },
   "outputs": [
    {
     "data": {
      "text/html": [
       "<div>\n",
       "<style>\n",
       "    .dataframe thead tr:only-child th {\n",
       "        text-align: right;\n",
       "    }\n",
       "\n",
       "    .dataframe thead th {\n",
       "        text-align: left;\n",
       "    }\n",
       "\n",
       "    .dataframe tbody tr th {\n",
       "        vertical-align: top;\n",
       "    }\n",
       "</style>\n",
       "<table border=\"1\" class=\"dataframe\">\n",
       "  <thead>\n",
       "    <tr style=\"text-align: right;\">\n",
       "      <th></th>\n",
       "      <th>id</th>\n",
       "      <th>vendor_id</th>\n",
       "      <th>pickup_datetime</th>\n",
       "      <th>dropoff_datetime</th>\n",
       "      <th>passenger_count</th>\n",
       "      <th>pickup_longitude</th>\n",
       "      <th>pickup_latitude</th>\n",
       "      <th>dropoff_longitude</th>\n",
       "      <th>dropoff_latitude</th>\n",
       "      <th>store_and_fwd_flag</th>\n",
       "      <th>trip_duration</th>\n",
       "    </tr>\n",
       "  </thead>\n",
       "  <tbody>\n",
       "    <tr>\n",
       "      <th>0</th>\n",
       "      <td>id2875421</td>\n",
       "      <td>2</td>\n",
       "      <td>2016-03-14 17:24:55</td>\n",
       "      <td>2016-03-14 17:32:30</td>\n",
       "      <td>1</td>\n",
       "      <td>-73.982155</td>\n",
       "      <td>40.767937</td>\n",
       "      <td>-73.964630</td>\n",
       "      <td>40.765602</td>\n",
       "      <td>N</td>\n",
       "      <td>455</td>\n",
       "    </tr>\n",
       "    <tr>\n",
       "      <th>1</th>\n",
       "      <td>id2377394</td>\n",
       "      <td>1</td>\n",
       "      <td>2016-06-12 00:43:35</td>\n",
       "      <td>2016-06-12 00:54:38</td>\n",
       "      <td>1</td>\n",
       "      <td>-73.980415</td>\n",
       "      <td>40.738564</td>\n",
       "      <td>-73.999481</td>\n",
       "      <td>40.731152</td>\n",
       "      <td>N</td>\n",
       "      <td>663</td>\n",
       "    </tr>\n",
       "    <tr>\n",
       "      <th>2</th>\n",
       "      <td>id3858529</td>\n",
       "      <td>2</td>\n",
       "      <td>2016-01-19 11:35:24</td>\n",
       "      <td>2016-01-19 12:10:48</td>\n",
       "      <td>1</td>\n",
       "      <td>-73.979027</td>\n",
       "      <td>40.763939</td>\n",
       "      <td>-74.005333</td>\n",
       "      <td>40.710087</td>\n",
       "      <td>N</td>\n",
       "      <td>2124</td>\n",
       "    </tr>\n",
       "    <tr>\n",
       "      <th>3</th>\n",
       "      <td>id3504673</td>\n",
       "      <td>2</td>\n",
       "      <td>2016-04-06 19:32:31</td>\n",
       "      <td>2016-04-06 19:39:40</td>\n",
       "      <td>1</td>\n",
       "      <td>-74.010040</td>\n",
       "      <td>40.719971</td>\n",
       "      <td>-74.012268</td>\n",
       "      <td>40.706718</td>\n",
       "      <td>N</td>\n",
       "      <td>429</td>\n",
       "    </tr>\n",
       "    <tr>\n",
       "      <th>4</th>\n",
       "      <td>id2181028</td>\n",
       "      <td>2</td>\n",
       "      <td>2016-03-26 13:30:55</td>\n",
       "      <td>2016-03-26 13:38:10</td>\n",
       "      <td>1</td>\n",
       "      <td>-73.973053</td>\n",
       "      <td>40.793209</td>\n",
       "      <td>-73.972923</td>\n",
       "      <td>40.782520</td>\n",
       "      <td>N</td>\n",
       "      <td>435</td>\n",
       "    </tr>\n",
       "  </tbody>\n",
       "</table>\n",
       "</div>"
      ],
      "text/plain": [
       "          id  vendor_id      pickup_datetime     dropoff_datetime  \\\n",
       "0  id2875421          2  2016-03-14 17:24:55  2016-03-14 17:32:30   \n",
       "1  id2377394          1  2016-06-12 00:43:35  2016-06-12 00:54:38   \n",
       "2  id3858529          2  2016-01-19 11:35:24  2016-01-19 12:10:48   \n",
       "3  id3504673          2  2016-04-06 19:32:31  2016-04-06 19:39:40   \n",
       "4  id2181028          2  2016-03-26 13:30:55  2016-03-26 13:38:10   \n",
       "\n",
       "   passenger_count  pickup_longitude  pickup_latitude  dropoff_longitude  \\\n",
       "0                1        -73.982155        40.767937         -73.964630   \n",
       "1                1        -73.980415        40.738564         -73.999481   \n",
       "2                1        -73.979027        40.763939         -74.005333   \n",
       "3                1        -74.010040        40.719971         -74.012268   \n",
       "4                1        -73.973053        40.793209         -73.972923   \n",
       "\n",
       "   dropoff_latitude store_and_fwd_flag  trip_duration  \n",
       "0         40.765602                  N            455  \n",
       "1         40.731152                  N            663  \n",
       "2         40.710087                  N           2124  \n",
       "3         40.706718                  N            429  \n",
       "4         40.782520                  N            435  "
      ]
     },
     "execution_count": 4,
     "metadata": {},
     "output_type": "execute_result"
    }
   ],
   "source": [
    "train_data.head(5)"
   ]
  },
  {
   "cell_type": "code",
   "execution_count": 5,
   "metadata": {
    "ExecuteTime": {
     "end_time": "2017-09-02T09:35:44.419673Z",
     "start_time": "2017-09-02T09:35:44.302535Z"
    }
   },
   "outputs": [
    {
     "data": {
      "text/html": [
       "<div>\n",
       "<style>\n",
       "    .dataframe thead tr:only-child th {\n",
       "        text-align: right;\n",
       "    }\n",
       "\n",
       "    .dataframe thead th {\n",
       "        text-align: left;\n",
       "    }\n",
       "\n",
       "    .dataframe tbody tr th {\n",
       "        vertical-align: top;\n",
       "    }\n",
       "</style>\n",
       "<table border=\"1\" class=\"dataframe\">\n",
       "  <thead>\n",
       "    <tr style=\"text-align: right;\">\n",
       "      <th></th>\n",
       "      <th>id</th>\n",
       "      <th>vendor_id</th>\n",
       "      <th>pickup_datetime</th>\n",
       "      <th>passenger_count</th>\n",
       "      <th>pickup_longitude</th>\n",
       "      <th>pickup_latitude</th>\n",
       "      <th>dropoff_longitude</th>\n",
       "      <th>dropoff_latitude</th>\n",
       "      <th>store_and_fwd_flag</th>\n",
       "    </tr>\n",
       "  </thead>\n",
       "  <tbody>\n",
       "    <tr>\n",
       "      <th>0</th>\n",
       "      <td>id3004672</td>\n",
       "      <td>1</td>\n",
       "      <td>2016-06-30 23:59:58</td>\n",
       "      <td>1</td>\n",
       "      <td>-73.988129</td>\n",
       "      <td>40.732029</td>\n",
       "      <td>-73.990173</td>\n",
       "      <td>40.756680</td>\n",
       "      <td>N</td>\n",
       "    </tr>\n",
       "    <tr>\n",
       "      <th>1</th>\n",
       "      <td>id3505355</td>\n",
       "      <td>1</td>\n",
       "      <td>2016-06-30 23:59:53</td>\n",
       "      <td>1</td>\n",
       "      <td>-73.964203</td>\n",
       "      <td>40.679993</td>\n",
       "      <td>-73.959808</td>\n",
       "      <td>40.655403</td>\n",
       "      <td>N</td>\n",
       "    </tr>\n",
       "    <tr>\n",
       "      <th>2</th>\n",
       "      <td>id1217141</td>\n",
       "      <td>1</td>\n",
       "      <td>2016-06-30 23:59:47</td>\n",
       "      <td>1</td>\n",
       "      <td>-73.997437</td>\n",
       "      <td>40.737583</td>\n",
       "      <td>-73.986160</td>\n",
       "      <td>40.729523</td>\n",
       "      <td>N</td>\n",
       "    </tr>\n",
       "    <tr>\n",
       "      <th>3</th>\n",
       "      <td>id2150126</td>\n",
       "      <td>2</td>\n",
       "      <td>2016-06-30 23:59:41</td>\n",
       "      <td>1</td>\n",
       "      <td>-73.956070</td>\n",
       "      <td>40.771900</td>\n",
       "      <td>-73.986427</td>\n",
       "      <td>40.730469</td>\n",
       "      <td>N</td>\n",
       "    </tr>\n",
       "    <tr>\n",
       "      <th>4</th>\n",
       "      <td>id1598245</td>\n",
       "      <td>1</td>\n",
       "      <td>2016-06-30 23:59:33</td>\n",
       "      <td>1</td>\n",
       "      <td>-73.970215</td>\n",
       "      <td>40.761475</td>\n",
       "      <td>-73.961510</td>\n",
       "      <td>40.755890</td>\n",
       "      <td>N</td>\n",
       "    </tr>\n",
       "  </tbody>\n",
       "</table>\n",
       "</div>"
      ],
      "text/plain": [
       "          id  vendor_id      pickup_datetime  passenger_count  \\\n",
       "0  id3004672          1  2016-06-30 23:59:58                1   \n",
       "1  id3505355          1  2016-06-30 23:59:53                1   \n",
       "2  id1217141          1  2016-06-30 23:59:47                1   \n",
       "3  id2150126          2  2016-06-30 23:59:41                1   \n",
       "4  id1598245          1  2016-06-30 23:59:33                1   \n",
       "\n",
       "   pickup_longitude  pickup_latitude  dropoff_longitude  dropoff_latitude  \\\n",
       "0        -73.988129        40.732029         -73.990173         40.756680   \n",
       "1        -73.964203        40.679993         -73.959808         40.655403   \n",
       "2        -73.997437        40.737583         -73.986160         40.729523   \n",
       "3        -73.956070        40.771900         -73.986427         40.730469   \n",
       "4        -73.970215        40.761475         -73.961510         40.755890   \n",
       "\n",
       "  store_and_fwd_flag  \n",
       "0                  N  \n",
       "1                  N  \n",
       "2                  N  \n",
       "3                  N  \n",
       "4                  N  "
      ]
     },
     "execution_count": 5,
     "metadata": {},
     "output_type": "execute_result"
    }
   ],
   "source": [
    "eval_data.head(5)"
   ]
  },
  {
   "cell_type": "code",
   "execution_count": 6,
   "metadata": {
    "ExecuteTime": {
     "end_time": "2017-09-02T09:35:44.542255Z",
     "start_time": "2017-09-02T09:35:44.422676Z"
    }
   },
   "outputs": [
    {
     "data": {
      "text/plain": [
       "array(['dropoff_datetime', 'trip_duration'], dtype=object)"
      ]
     },
     "execution_count": 6,
     "metadata": {},
     "output_type": "execute_result"
    }
   ],
   "source": [
    "diff_cols = np.setdiff1d(train_data.columns.values, eval_data.columns.values)\n",
    "diff_cols"
   ]
  },
  {
   "cell_type": "markdown",
   "metadata": {},
   "source": [
    "## Check trip_duration"
   ]
  },
  {
   "cell_type": "code",
   "execution_count": 7,
   "metadata": {
    "ExecuteTime": {
     "end_time": "2017-09-02T09:35:44.656332Z",
     "start_time": "2017-09-02T09:35:44.544756Z"
    },
    "collapsed": true
   },
   "outputs": [],
   "source": [
    "data = train_data"
   ]
  },
  {
   "cell_type": "code",
   "execution_count": 39,
   "metadata": {
    "ExecuteTime": {
     "end_time": "2017-09-02T10:23:30.915869Z",
     "start_time": "2017-09-02T10:23:30.039287Z"
    }
   },
   "outputs": [
    {
     "data": {
      "text/plain": [
       "count    1.456738e+06\n",
       "mean     8.424561e+02\n",
       "std      8.535369e+02\n",
       "min      1.000000e+00\n",
       "25%      3.970000e+02\n",
       "50%      6.620000e+02\n",
       "75%      1.073000e+03\n",
       "max      7.915000e+04\n",
       "Name: trip_duration, dtype: float64"
      ]
     },
     "execution_count": 39,
     "metadata": {},
     "output_type": "execute_result"
    }
   ],
   "source": [
    "label='trip_duration'\n",
    "# data1 = data[(data[label] < 1000000) & (data[label] > 86000) ]\n",
    "#data1 = data[(data[label] < 1000000) & (data[label] > 22 * 3600) ]\n",
    "#data1 = data[(data[label] > 1000000) ]\n",
    "# data1 = data[(data[label] <= 86000) ]\n",
    "data1 = data[(data[label] <22 * 3600) ]\n",
    "data1['datetime_obj'] = pd.to_datetime(data1['pickup_datetime'])\n",
    "\n",
    "data1[label].describe()"
   ]
  },
  {
   "cell_type": "code",
   "execution_count": 19,
   "metadata": {
    "ExecuteTime": {
     "end_time": "2017-09-02T10:05:57.118691Z",
     "start_time": "2017-09-02T10:05:43.737793Z"
    }
   },
   "outputs": [
    {
     "data": {
      "text/plain": [
       "<matplotlib.collections.PathCollection at 0x17602d14eb8>"
      ]
     },
     "execution_count": 19,
     "metadata": {},
     "output_type": "execute_result"
    },
    {
     "data": {
      "image/png": "[encoded data removed]",
      "text/plain": [
       "<matplotlib.figure.Figure at 0x1760298e278>"
      ]
     },
     "metadata": {},
     "output_type": "display_data"
    }
   ],
   "source": [
    "plt.scatter(data1['datetime_obj'].dt.dayofyear, data1[label])"
   ]
  },
  {
   "cell_type": "code",
   "execution_count": 32,
   "metadata": {
    "ExecuteTime": {
     "end_time": "2017-09-02T10:22:00.286618Z",
     "start_time": "2017-09-02T10:21:59.848329Z"
    }
   },
   "outputs": [
    {
     "data": {
      "text/plain": [
       "<matplotlib.axes._subplots.AxesSubplot at 0x17621fb0518>"
      ]
     },
     "execution_count": 32,
     "metadata": {},
     "output_type": "execute_result"
    },
    {
     "data": {
      "image/png": "[encoded data removed]",
      "text/plain": [
       "<matplotlib.figure.Figure at 0x1761dabaef0>"
      ]
     },
     "metadata": {},
     "output_type": "display_data"
    }
   ],
   "source": [
    "sns.distplot(data1[label], bins=100)"
   ]
  },
  {
   "cell_type": "code",
   "execution_count": 40,
   "metadata": {
    "ExecuteTime": {
     "end_time": "2017-09-02T10:23:36.072610Z",
     "start_time": "2017-09-02T10:23:36.062603Z"
    }
   },
   "outputs": [],
   "source": [
    "data2 = np.sqrt(data1[label])"
   ]
  },
  {
   "cell_type": "code",
   "execution_count": 41,
   "metadata": {
    "ExecuteTime": {
     "end_time": "2017-09-02T10:23:48.774180Z",
     "start_time": "2017-09-02T10:23:38.405801Z"
    }
   },
   "outputs": [
    {
     "data": {
      "text/plain": [
       "<matplotlib.axes._subplots.AxesSubplot at 0x17622739320>"
      ]
     },
     "execution_count": 41,
     "metadata": {},
     "output_type": "execute_result"
    },
    {
     "data": {
      "image/png": "[encoded data removed]",
      "text/plain": [
       "<matplotlib.figure.Figure at 0x17622559a58>"
      ]
     },
     "metadata": {},
     "output_type": "display_data"
    }
   ],
   "source": [
    "sns.distplot(data2, bins=100)"
   ]
  },
  {
   "cell_type": "markdown",
   "metadata": {},
   "source": [
    "### Combine train data and eval data"
   ]
  },
  {
   "cell_type": "code",
   "execution_count": 3,
   "metadata": {
    "ExecuteTime": {
     "end_time": "2017-07-23T09:23:57.394839Z",
     "start_time": "2017-07-23T09:23:56.750413Z"
    }
   },
   "outputs": [
    {
     "data": {
      "text/html": [
       "<div>\n",
       "<style>\n",
       "    .dataframe thead tr:only-child th {\n",
       "        text-align: right;\n",
       "    }\n",
       "\n",
       "    .dataframe thead th {\n",
       "        text-align: left;\n",
       "    }\n",
       "\n",
       "    .dataframe tbody tr th {\n",
       "        vertical-align: top;\n",
       "    }\n",
       "</style>\n",
       "<table border=\"1\" class=\"dataframe\">\n",
       "  <thead>\n",
       "    <tr style=\"text-align: right;\">\n",
       "      <th></th>\n",
       "      <th></th>\n",
       "      <th>id</th>\n",
       "      <th>vendor_id</th>\n",
       "      <th>pickup_datetime</th>\n",
       "      <th>passenger_count</th>\n",
       "      <th>pickup_longitude</th>\n",
       "      <th>pickup_latitude</th>\n",
       "      <th>dropoff_longitude</th>\n",
       "      <th>dropoff_latitude</th>\n",
       "      <th>store_and_fwd_flag</th>\n",
       "    </tr>\n",
       "  </thead>\n",
       "  <tbody>\n",
       "    <tr>\n",
       "      <th rowspan=\"5\" valign=\"top\">train</th>\n",
       "      <th>0</th>\n",
       "      <td>id2875421</td>\n",
       "      <td>2</td>\n",
       "      <td>2016-03-14 17:24:55</td>\n",
       "      <td>1</td>\n",
       "      <td>-73.982155</td>\n",
       "      <td>40.767937</td>\n",
       "      <td>-73.964630</td>\n",
       "      <td>40.765602</td>\n",
       "      <td>N</td>\n",
       "    </tr>\n",
       "    <tr>\n",
       "      <th>1</th>\n",
       "      <td>id2377394</td>\n",
       "      <td>1</td>\n",
       "      <td>2016-06-12 00:43:35</td>\n",
       "      <td>1</td>\n",
       "      <td>-73.980415</td>\n",
       "      <td>40.738564</td>\n",
       "      <td>-73.999481</td>\n",
       "      <td>40.731152</td>\n",
       "      <td>N</td>\n",
       "    </tr>\n",
       "    <tr>\n",
       "      <th>2</th>\n",
       "      <td>id3858529</td>\n",
       "      <td>2</td>\n",
       "      <td>2016-01-19 11:35:24</td>\n",
       "      <td>1</td>\n",
       "      <td>-73.979027</td>\n",
       "      <td>40.763939</td>\n",
       "      <td>-74.005333</td>\n",
       "      <td>40.710087</td>\n",
       "      <td>N</td>\n",
       "    </tr>\n",
       "    <tr>\n",
       "      <th>3</th>\n",
       "      <td>id3504673</td>\n",
       "      <td>2</td>\n",
       "      <td>2016-04-06 19:32:31</td>\n",
       "      <td>1</td>\n",
       "      <td>-74.010040</td>\n",
       "      <td>40.719971</td>\n",
       "      <td>-74.012268</td>\n",
       "      <td>40.706718</td>\n",
       "      <td>N</td>\n",
       "    </tr>\n",
       "    <tr>\n",
       "      <th>4</th>\n",
       "      <td>id2181028</td>\n",
       "      <td>2</td>\n",
       "      <td>2016-03-26 13:30:55</td>\n",
       "      <td>1</td>\n",
       "      <td>-73.973053</td>\n",
       "      <td>40.793209</td>\n",
       "      <td>-73.972923</td>\n",
       "      <td>40.782520</td>\n",
       "      <td>N</td>\n",
       "    </tr>\n",
       "  </tbody>\n",
       "</table>\n",
       "</div>"
      ],
      "text/plain": [
       "                id  vendor_id      pickup_datetime  passenger_count  \\\n",
       "train 0  id2875421          2  2016-03-14 17:24:55                1   \n",
       "      1  id2377394          1  2016-06-12 00:43:35                1   \n",
       "      2  id3858529          2  2016-01-19 11:35:24                1   \n",
       "      3  id3504673          2  2016-04-06 19:32:31                1   \n",
       "      4  id2181028          2  2016-03-26 13:30:55                1   \n",
       "\n",
       "         pickup_longitude  pickup_latitude  dropoff_longitude  \\\n",
       "train 0        -73.982155        40.767937         -73.964630   \n",
       "      1        -73.980415        40.738564         -73.999481   \n",
       "      2        -73.979027        40.763939         -74.005333   \n",
       "      3        -74.010040        40.719971         -74.012268   \n",
       "      4        -73.973053        40.793209         -73.972923   \n",
       "\n",
       "         dropoff_latitude store_and_fwd_flag  \n",
       "train 0         40.765602                  N  \n",
       "      1         40.731152                  N  \n",
       "      2         40.710087                  N  \n",
       "      3         40.706718                  N  \n",
       "      4         40.782520                  N  "
      ]
     },
     "execution_count": 3,
     "metadata": {},
     "output_type": "execute_result"
    }
   ],
   "source": [
    "label = 'trip_duration'\n",
    "features = eval_data.columns.values\n",
    "target = train_data[label].values\n",
    "combine_data = pd.concat([train_data[features], eval_data], keys=['train','eval'])\n",
    "combine_data.head(5)"
   ]
  },
  {
   "cell_type": "markdown",
   "metadata": {},
   "source": [
    "# Pre-process data"
   ]
  },
  {
   "cell_type": "markdown",
   "metadata": {},
   "source": [
    "### Check NaN columns"
   ]
  },
  {
   "cell_type": "code",
   "execution_count": 4,
   "metadata": {
    "ExecuteTime": {
     "end_time": "2017-07-23T09:23:57.562950Z",
     "start_time": "2017-07-23T09:23:57.547942Z"
    },
    "collapsed": true
   },
   "outputs": [],
   "source": [
    "def check_null_data(data):\n",
    "    #Get high percent of NaN data\n",
    "    null_data = combine_data.isnull()\n",
    "    total = null_data.sum().sort_values(ascending=False)\n",
    "    percent = (null_data.sum()/null_data.count()).sort_values(ascending=False)\n",
    "    missing_data = pd.concat([total, percent], axis=1, keys=['Total', 'Percent'])\n",
    "    high_percent_miss_data = missing_data[missing_data['Percent']>0]\n",
    "    #print(missing_data)\n",
    "    print(high_percent_miss_data)\n",
    "    miss_data_cols = high_percent_miss_data.index.values\n",
    "    return miss_data_cols"
   ]
  },
  {
   "cell_type": "code",
   "execution_count": 9,
   "metadata": {},
   "outputs": [
    {
     "name": "stdout",
     "output_type": "stream",
     "text": [
      "Empty DataFrame\n",
      "Columns: [Total, Percent]\n",
      "Index: []\n"
     ]
    },
    {
     "data": {
      "text/plain": [
       "array([], dtype=object)"
      ]
     },
     "execution_count": 9,
     "metadata": {},
     "output_type": "execute_result"
    }
   ],
   "source": [
    "# Check target for null\n",
    "check_null_data(target)"
   ]
  },
  {
   "cell_type": "code",
   "execution_count": 10,
   "metadata": {},
   "outputs": [
    {
     "name": "stdout",
     "output_type": "stream",
     "text": [
      "Empty DataFrame\n",
      "Columns: [Total, Percent]\n",
      "Index: []\n"
     ]
    },
    {
     "data": {
      "text/plain": [
       "array([], dtype=object)"
      ]
     },
     "execution_count": 10,
     "metadata": {},
     "output_type": "execute_result"
    }
   ],
   "source": [
    "# combine data for null\n",
    "check_null_data(combine_data)"
   ]
  },
  {
   "cell_type": "code",
   "execution_count": 11,
   "metadata": {},
   "outputs": [
    {
     "data": {
      "text/plain": [
       "id                     object\n",
       "vendor_id               int64\n",
       "pickup_datetime        object\n",
       "passenger_count         int64\n",
       "pickup_longitude      float64\n",
       "pickup_latitude       float64\n",
       "dropoff_longitude     float64\n",
       "dropoff_latitude      float64\n",
       "store_and_fwd_flag     object\n",
       "dtype: object"
      ]
     },
     "execution_count": 11,
     "metadata": {},
     "output_type": "execute_result"
    }
   ],
   "source": [
    "combine_data.dtypes"
   ]
  },
  {
   "cell_type": "markdown",
   "metadata": {},
   "source": [
    "## Transform object data"
   ]
  },
  {
   "cell_type": "code",
   "execution_count": 5,
   "metadata": {
    "ExecuteTime": {
     "end_time": "2017-07-23T09:24:03.279834Z",
     "start_time": "2017-07-23T09:24:03.276832Z"
    },
    "collapsed": true
   },
   "outputs": [],
   "source": [
    "data = combine_data"
   ]
  },
  {
   "cell_type": "markdown",
   "metadata": {},
   "source": [
    "### Convert datetime string to object"
   ]
  },
  {
   "cell_type": "code",
   "execution_count": 6,
   "metadata": {
    "ExecuteTime": {
     "end_time": "2017-07-23T09:24:05.153304Z",
     "start_time": "2017-07-23T09:24:05.148301Z"
    },
    "collapsed": true
   },
   "outputs": [],
   "source": [
    "def pd_datetime(data):\n",
    "    date_format = \"%Y-%m-%d %H:%M:%S\"\n",
    "    datetime_obj = data['pickup_datetime'].apply(lambda x: datetime.strptime(x, date_format))\n",
    "    return datetime_obj "
   ]
  },
  {
   "cell_type": "code",
   "execution_count": 7,
   "metadata": {
    "ExecuteTime": {
     "end_time": "2017-07-23T09:24:06.695862Z",
     "start_time": "2017-07-23T09:24:05.941362Z"
    }
   },
   "outputs": [
    {
     "data": {
      "text/plain": [
       "train  0   2016-03-14 17:24:55\n",
       "       1   2016-06-12 00:43:35\n",
       "       2   2016-01-19 11:35:24\n",
       "       3   2016-04-06 19:32:31\n",
       "       4   2016-03-26 13:30:55\n",
       "Name: datetime_obj, dtype: datetime64[ns]"
      ]
     },
     "execution_count": 7,
     "metadata": {},
     "output_type": "execute_result"
    }
   ],
   "source": [
    "#data['datetime_obj'] = pd_datetime(data)\n",
    "data['datetime_obj'] = pd.to_datetime(data['pickup_datetime'])\n",
    "data['datetime_obj'][:5]"
   ]
  },
  {
   "cell_type": "code",
   "execution_count": 8,
   "metadata": {
    "ExecuteTime": {
     "end_time": "2017-07-23T09:24:10.485468Z",
     "start_time": "2017-07-23T09:24:09.579866Z"
    },
    "collapsed": true
   },
   "outputs": [],
   "source": [
    "data['pickup_year'] = data['datetime_obj'].dt.year\n",
    "data['pickup_month'] = data['datetime_obj'].dt.month\n",
    "data['pickup_weekday'] = data['datetime_obj'].dt.weekday\n",
    "data['pickup_day'] = data['datetime_obj'].dt.day\n",
    "data['pickup_hour'] = data['datetime_obj'].dt.hour\n",
    "data['pickup_minute'] = data['datetime_obj'].dt.minute"
   ]
  },
  {
   "cell_type": "code",
   "execution_count": 10,
   "metadata": {
    "ExecuteTime": {
     "end_time": "2017-07-23T09:19:57.194336Z",
     "start_time": "2017-07-23T09:19:57.171322Z"
    }
   },
   "outputs": [
    {
     "data": {
      "text/html": [
       "<div>\n",
       "<style>\n",
       "    .dataframe thead tr:only-child th {\n",
       "        text-align: right;\n",
       "    }\n",
       "\n",
       "    .dataframe thead th {\n",
       "        text-align: left;\n",
       "    }\n",
       "\n",
       "    .dataframe tbody tr th {\n",
       "        vertical-align: top;\n",
       "    }\n",
       "</style>\n",
       "<table border=\"1\" class=\"dataframe\">\n",
       "  <thead>\n",
       "    <tr style=\"text-align: right;\">\n",
       "      <th></th>\n",
       "      <th></th>\n",
       "      <th>id</th>\n",
       "      <th>vendor_id</th>\n",
       "      <th>pickup_datetime</th>\n",
       "      <th>passenger_count</th>\n",
       "      <th>pickup_longitude</th>\n",
       "      <th>pickup_latitude</th>\n",
       "      <th>dropoff_longitude</th>\n",
       "      <th>dropoff_latitude</th>\n",
       "      <th>store_and_fwd_flag</th>\n",
       "      <th>datetime_obj</th>\n",
       "      <th>pickup_year</th>\n",
       "      <th>pickup_month</th>\n",
       "      <th>pickup_weekday</th>\n",
       "      <th>pickup_day</th>\n",
       "      <th>pickup_hour</th>\n",
       "      <th>pickup_minute</th>\n",
       "    </tr>\n",
       "  </thead>\n",
       "  <tbody>\n",
       "    <tr>\n",
       "      <th rowspan=\"5\" valign=\"top\">train</th>\n",
       "      <th>0</th>\n",
       "      <td>id2875421</td>\n",
       "      <td>2</td>\n",
       "      <td>2016-03-14 17:24:55</td>\n",
       "      <td>1</td>\n",
       "      <td>-73.982155</td>\n",
       "      <td>40.767937</td>\n",
       "      <td>-73.964630</td>\n",
       "      <td>40.765602</td>\n",
       "      <td>N</td>\n",
       "      <td>2016-03-14 17:24:55</td>\n",
       "      <td>2016</td>\n",
       "      <td>3</td>\n",
       "      <td>0</td>\n",
       "      <td>14</td>\n",
       "      <td>17</td>\n",
       "      <td>24</td>\n",
       "    </tr>\n",
       "    <tr>\n",
       "      <th>1</th>\n",
       "      <td>id2377394</td>\n",
       "      <td>1</td>\n",
       "      <td>2016-06-12 00:43:35</td>\n",
       "      <td>1</td>\n",
       "      <td>-73.980415</td>\n",
       "      <td>40.738564</td>\n",
       "      <td>-73.999481</td>\n",
       "      <td>40.731152</td>\n",
       "      <td>N</td>\n",
       "      <td>2016-06-12 00:43:35</td>\n",
       "      <td>2016</td>\n",
       "      <td>6</td>\n",
       "      <td>6</td>\n",
       "      <td>12</td>\n",
       "      <td>0</td>\n",
       "      <td>43</td>\n",
       "    </tr>\n",
       "    <tr>\n",
       "      <th>2</th>\n",
       "      <td>id3858529</td>\n",
       "      <td>2</td>\n",
       "      <td>2016-01-19 11:35:24</td>\n",
       "      <td>1</td>\n",
       "      <td>-73.979027</td>\n",
       "      <td>40.763939</td>\n",
       "      <td>-74.005333</td>\n",
       "      <td>40.710087</td>\n",
       "      <td>N</td>\n",
       "      <td>2016-01-19 11:35:24</td>\n",
       "      <td>2016</td>\n",
       "      <td>1</td>\n",
       "      <td>1</td>\n",
       "      <td>19</td>\n",
       "      <td>11</td>\n",
       "      <td>35</td>\n",
       "    </tr>\n",
       "    <tr>\n",
       "      <th>3</th>\n",
       "      <td>id3504673</td>\n",
       "      <td>2</td>\n",
       "      <td>2016-04-06 19:32:31</td>\n",
       "      <td>1</td>\n",
       "      <td>-74.010040</td>\n",
       "      <td>40.719971</td>\n",
       "      <td>-74.012268</td>\n",
       "      <td>40.706718</td>\n",
       "      <td>N</td>\n",
       "      <td>2016-04-06 19:32:31</td>\n",
       "      <td>2016</td>\n",
       "      <td>4</td>\n",
       "      <td>2</td>\n",
       "      <td>6</td>\n",
       "      <td>19</td>\n",
       "      <td>32</td>\n",
       "    </tr>\n",
       "    <tr>\n",
       "      <th>4</th>\n",
       "      <td>id2181028</td>\n",
       "      <td>2</td>\n",
       "      <td>2016-03-26 13:30:55</td>\n",
       "      <td>1</td>\n",
       "      <td>-73.973053</td>\n",
       "      <td>40.793209</td>\n",
       "      <td>-73.972923</td>\n",
       "      <td>40.782520</td>\n",
       "      <td>N</td>\n",
       "      <td>2016-03-26 13:30:55</td>\n",
       "      <td>2016</td>\n",
       "      <td>3</td>\n",
       "      <td>5</td>\n",
       "      <td>26</td>\n",
       "      <td>13</td>\n",
       "      <td>30</td>\n",
       "    </tr>\n",
       "  </tbody>\n",
       "</table>\n",
       "</div>"
      ],
      "text/plain": [
       "                id  vendor_id      pickup_datetime  passenger_count  \\\n",
       "train 0  id2875421          2  2016-03-14 17:24:55                1   \n",
       "      1  id2377394          1  2016-06-12 00:43:35                1   \n",
       "      2  id3858529          2  2016-01-19 11:35:24                1   \n",
       "      3  id3504673          2  2016-04-06 19:32:31                1   \n",
       "      4  id2181028          2  2016-03-26 13:30:55                1   \n",
       "\n",
       "         pickup_longitude  pickup_latitude  dropoff_longitude  \\\n",
       "train 0        -73.982155        40.767937         -73.964630   \n",
       "      1        -73.980415        40.738564         -73.999481   \n",
       "      2        -73.979027        40.763939         -74.005333   \n",
       "      3        -74.010040        40.719971         -74.012268   \n",
       "      4        -73.973053        40.793209         -73.972923   \n",
       "\n",
       "         dropoff_latitude store_and_fwd_flag        datetime_obj  pickup_year  \\\n",
       "train 0         40.765602                  N 2016-03-14 17:24:55         2016   \n",
       "      1         40.731152                  N 2016-06-12 00:43:35         2016   \n",
       "      2         40.710087                  N 2016-01-19 11:35:24         2016   \n",
       "      3         40.706718                  N 2016-04-06 19:32:31         2016   \n",
       "      4         40.782520                  N 2016-03-26 13:30:55         2016   \n",
       "\n",
       "         pickup_month  pickup_weekday  pickup_day  pickup_hour  pickup_minute  \n",
       "train 0             3               0          14           17             24  \n",
       "      1             6               6          12            0             43  \n",
       "      2             1               1          19           11             35  \n",
       "      3             4               2           6           19             32  \n",
       "      4             3               5          26           13             30  "
      ]
     },
     "execution_count": 10,
     "metadata": {},
     "output_type": "execute_result"
    }
   ],
   "source": [
    "data[:5]"
   ]
  },
  {
   "cell_type": "markdown",
   "metadata": {},
   "source": [
    "### store_and_fwd_flag"
   ]
  },
  {
   "cell_type": "code",
   "execution_count": 9,
   "metadata": {
    "ExecuteTime": {
     "end_time": "2017-07-23T09:24:13.939301Z",
     "start_time": "2017-07-23T09:24:13.652110Z"
    }
   },
   "outputs": [
    {
     "data": {
      "text/plain": [
       "N    2072303\n",
       "Y      11475\n",
       "Name: store_and_fwd_flag, dtype: int64"
      ]
     },
     "execution_count": 9,
     "metadata": {},
     "output_type": "execute_result"
    }
   ],
   "source": [
    "col = 'store_and_fwd_flag'\n",
    "data[col].value_counts()"
   ]
  },
  {
   "cell_type": "code",
   "execution_count": 10,
   "metadata": {
    "ExecuteTime": {
     "end_time": "2017-07-23T09:24:15.164612Z",
     "start_time": "2017-07-23T09:24:14.726322Z"
    }
   },
   "outputs": [
    {
     "data": {
      "text/html": [
       "<div>\n",
       "<style>\n",
       "    .dataframe thead tr:only-child th {\n",
       "        text-align: right;\n",
       "    }\n",
       "\n",
       "    .dataframe thead th {\n",
       "        text-align: left;\n",
       "    }\n",
       "\n",
       "    .dataframe tbody tr th {\n",
       "        vertical-align: top;\n",
       "    }\n",
       "</style>\n",
       "<table border=\"1\" class=\"dataframe\">\n",
       "  <thead>\n",
       "    <tr style=\"text-align: right;\">\n",
       "      <th></th>\n",
       "      <th></th>\n",
       "      <th>id</th>\n",
       "      <th>vendor_id</th>\n",
       "      <th>pickup_datetime</th>\n",
       "      <th>passenger_count</th>\n",
       "      <th>pickup_longitude</th>\n",
       "      <th>pickup_latitude</th>\n",
       "      <th>dropoff_longitude</th>\n",
       "      <th>dropoff_latitude</th>\n",
       "      <th>store_and_fwd_flag</th>\n",
       "      <th>datetime_obj</th>\n",
       "      <th>pickup_year</th>\n",
       "      <th>pickup_month</th>\n",
       "      <th>pickup_weekday</th>\n",
       "      <th>pickup_day</th>\n",
       "      <th>pickup_hour</th>\n",
       "      <th>pickup_minute</th>\n",
       "    </tr>\n",
       "  </thead>\n",
       "  <tbody>\n",
       "    <tr>\n",
       "      <th rowspan=\"5\" valign=\"top\">train</th>\n",
       "      <th>0</th>\n",
       "      <td>id2875421</td>\n",
       "      <td>2</td>\n",
       "      <td>2016-03-14 17:24:55</td>\n",
       "      <td>1</td>\n",
       "      <td>-73.982155</td>\n",
       "      <td>40.767937</td>\n",
       "      <td>-73.964630</td>\n",
       "      <td>40.765602</td>\n",
       "      <td>0</td>\n",
       "      <td>2016-03-14 17:24:55</td>\n",
       "      <td>2016</td>\n",
       "      <td>3</td>\n",
       "      <td>0</td>\n",
       "      <td>14</td>\n",
       "      <td>17</td>\n",
       "      <td>24</td>\n",
       "    </tr>\n",
       "    <tr>\n",
       "      <th>1</th>\n",
       "      <td>id2377394</td>\n",
       "      <td>1</td>\n",
       "      <td>2016-06-12 00:43:35</td>\n",
       "      <td>1</td>\n",
       "      <td>-73.980415</td>\n",
       "      <td>40.738564</td>\n",
       "      <td>-73.999481</td>\n",
       "      <td>40.731152</td>\n",
       "      <td>0</td>\n",
       "      <td>2016-06-12 00:43:35</td>\n",
       "      <td>2016</td>\n",
       "      <td>6</td>\n",
       "      <td>6</td>\n",
       "      <td>12</td>\n",
       "      <td>0</td>\n",
       "      <td>43</td>\n",
       "    </tr>\n",
       "    <tr>\n",
       "      <th>2</th>\n",
       "      <td>id3858529</td>\n",
       "      <td>2</td>\n",
       "      <td>2016-01-19 11:35:24</td>\n",
       "      <td>1</td>\n",
       "      <td>-73.979027</td>\n",
       "      <td>40.763939</td>\n",
       "      <td>-74.005333</td>\n",
       "      <td>40.710087</td>\n",
       "      <td>0</td>\n",
       "      <td>2016-01-19 11:35:24</td>\n",
       "      <td>2016</td>\n",
       "      <td>1</td>\n",
       "      <td>1</td>\n",
       "      <td>19</td>\n",
       "      <td>11</td>\n",
       "      <td>35</td>\n",
       "    </tr>\n",
       "    <tr>\n",
       "      <th>3</th>\n",
       "      <td>id3504673</td>\n",
       "      <td>2</td>\n",
       "      <td>2016-04-06 19:32:31</td>\n",
       "      <td>1</td>\n",
       "      <td>-74.010040</td>\n",
       "      <td>40.719971</td>\n",
       "      <td>-74.012268</td>\n",
       "      <td>40.706718</td>\n",
       "      <td>0</td>\n",
       "      <td>2016-04-06 19:32:31</td>\n",
       "      <td>2016</td>\n",
       "      <td>4</td>\n",
       "      <td>2</td>\n",
       "      <td>6</td>\n",
       "      <td>19</td>\n",
       "      <td>32</td>\n",
       "    </tr>\n",
       "    <tr>\n",
       "      <th>4</th>\n",
       "      <td>id2181028</td>\n",
       "      <td>2</td>\n",
       "      <td>2016-03-26 13:30:55</td>\n",
       "      <td>1</td>\n",
       "      <td>-73.973053</td>\n",
       "      <td>40.793209</td>\n",
       "      <td>-73.972923</td>\n",
       "      <td>40.782520</td>\n",
       "      <td>0</td>\n",
       "      <td>2016-03-26 13:30:55</td>\n",
       "      <td>2016</td>\n",
       "      <td>3</td>\n",
       "      <td>5</td>\n",
       "      <td>26</td>\n",
       "      <td>13</td>\n",
       "      <td>30</td>\n",
       "    </tr>\n",
       "  </tbody>\n",
       "</table>\n",
       "</div>"
      ],
      "text/plain": [
       "                id  vendor_id      pickup_datetime  passenger_count  \\\n",
       "train 0  id2875421          2  2016-03-14 17:24:55                1   \n",
       "      1  id2377394          1  2016-06-12 00:43:35                1   \n",
       "      2  id3858529          2  2016-01-19 11:35:24                1   \n",
       "      3  id3504673          2  2016-04-06 19:32:31                1   \n",
       "      4  id2181028          2  2016-03-26 13:30:55                1   \n",
       "\n",
       "         pickup_longitude  pickup_latitude  dropoff_longitude  \\\n",
       "train 0        -73.982155        40.767937         -73.964630   \n",
       "      1        -73.980415        40.738564         -73.999481   \n",
       "      2        -73.979027        40.763939         -74.005333   \n",
       "      3        -74.010040        40.719971         -74.012268   \n",
       "      4        -73.973053        40.793209         -73.972923   \n",
       "\n",
       "         dropoff_latitude store_and_fwd_flag        datetime_obj  pickup_year  \\\n",
       "train 0         40.765602                  0 2016-03-14 17:24:55         2016   \n",
       "      1         40.731152                  0 2016-06-12 00:43:35         2016   \n",
       "      2         40.710087                  0 2016-01-19 11:35:24         2016   \n",
       "      3         40.706718                  0 2016-04-06 19:32:31         2016   \n",
       "      4         40.782520                  0 2016-03-26 13:30:55         2016   \n",
       "\n",
       "         pickup_month  pickup_weekday  pickup_day  pickup_hour  pickup_minute  \n",
       "train 0             3               0          14           17             24  \n",
       "      1             6               6          12            0             43  \n",
       "      2             1               1          19           11             35  \n",
       "      3             4               2           6           19             32  \n",
       "      4             3               5          26           13             30  "
      ]
     },
     "execution_count": 10,
     "metadata": {},
     "output_type": "execute_result"
    }
   ],
   "source": [
    "data_dict = {'Y':1, 'N':0}\n",
    "data_tf = data[col].map(data_dict)\n",
    "data[col].update(data_tf)\n",
    "data[:5]"
   ]
  },
  {
   "cell_type": "markdown",
   "metadata": {},
   "source": [
    "### Drop unused cols"
   ]
  },
  {
   "cell_type": "code",
   "execution_count": 11,
   "metadata": {
    "ExecuteTime": {
     "end_time": "2017-07-23T09:24:18.545469Z",
     "start_time": "2017-07-23T09:24:17.877025Z"
    },
    "collapsed": true
   },
   "outputs": [],
   "source": [
    "# Drop pickup_datetime\n",
    "data.drop('pickup_datetime', axis=1, inplace=True)\n",
    "data.drop('datetime_obj', axis=1, inplace=True)"
   ]
  },
  {
   "cell_type": "code",
   "execution_count": 12,
   "metadata": {
    "ExecuteTime": {
     "end_time": "2017-07-23T09:24:20.830214Z",
     "start_time": "2017-07-23T09:24:20.827212Z"
    },
    "collapsed": true
   },
   "outputs": [],
   "source": [
    "combine_data_tf = data"
   ]
  },
  {
   "cell_type": "markdown",
   "metadata": {},
   "source": [
    "## Feature scaling (not use)"
   ]
  },
  {
   "cell_type": "raw",
   "metadata": {
    "ExecuteTime": {
     "end_time": "2017-07-22T15:04:57.780151Z",
     "start_time": "2017-07-22T15:04:55.834361Z"
    }
   },
   "source": [
    "data = combine_data_tf.drop('id', axis=1).astype(float)\n",
    "std_scale = data.apply(StandardScaler().fit_transform)\n",
    "combine_data_tf.update(std_scale)\n",
    "combine_data_tf[:5]"
   ]
  },
  {
   "cell_type": "code",
   "execution_count": 13,
   "metadata": {
    "ExecuteTime": {
     "end_time": "2017-07-23T09:24:25.980900Z",
     "start_time": "2017-07-23T09:24:25.947877Z"
    }
   },
   "outputs": [
    {
     "data": {
      "text/plain": [
       "2016    2083778\n",
       "Name: pickup_year, dtype: int64"
      ]
     },
     "execution_count": 13,
     "metadata": {},
     "output_type": "execute_result"
    }
   ],
   "source": [
    "combine_data_tf['pickup_year'].value_counts()"
   ]
  },
  {
   "cell_type": "code",
   "execution_count": 14,
   "metadata": {
    "ExecuteTime": {
     "end_time": "2017-07-23T09:24:27.263965Z",
     "start_time": "2017-07-23T09:24:27.099857Z"
    },
    "collapsed": true
   },
   "outputs": [],
   "source": [
    "# Drop pickup year\n",
    "combine_data_tf.drop('pickup_year', axis=1, inplace=True)"
   ]
  },
  {
   "cell_type": "markdown",
   "metadata": {},
   "source": [
    "## Feature engineering"
   ]
  },
  {
   "cell_type": "markdown",
   "metadata": {},
   "source": [
    "### Distance between pickup and dropoff"
   ]
  },
  {
   "cell_type": "raw",
   "metadata": {
    "ExecuteTime": {
     "end_time": "2017-07-23T11:26:39.686748Z",
     "start_time": "2017-07-23T11:22:26.446325Z"
    },
    "collapsed": true
   },
   "source": [
    "# credit: https://www.kaggle.com/ankasor/driving-distance-using-open-street-maps-data/notebook\n",
    "# Settings for Streetnetwork-Download\n",
    "STREETGRAPH_FILENAME = 'streetnetwork.graphml'\n",
    "FORCE_CREATE = False\n",
    "# This Checks if the Streetnetwork File exists (or creation is overwritten\n",
    "# using FORCE_CREATE)\n",
    "if (not os.path.isfile(\".//data//\"+STREETGRAPH_FILENAME) )or FORCE_CREATE:\n",
    "    #There are many different ways to create the Network Graph. See the osmnx documentation for details\n",
    "    area_graph = ox.graph_from_place('New York, USA', network_type='drive_service')\n",
    "    ox.save_graphml(area_graph, filename=STREETGRAPH_FILENAME)\n",
    "else:\n",
    "    area_graph = ox.load_graphml(STREETGRAPH_FILENAME)"
   ]
  },
  {
   "cell_type": "code",
   "execution_count": 65,
   "metadata": {
    "ExecuteTime": {
     "end_time": "2017-07-23T11:56:49.181767Z",
     "start_time": "2017-07-23T11:56:49.175762Z"
    },
    "collapsed": true
   },
   "outputs": [],
   "source": [
    "geod = Geodesic.WGS84  # define the WGS84 ellipsoid\n",
    "\n",
    "\n",
    "def point_distance(startpoint, endpoint):\n",
    "    distance = geod.Inverse(\n",
    "        startpoint[0], startpoint[1], endpoint[0], endpoint[1])\n",
    "    return distance['s12']"
   ]
  },
  {
   "cell_type": "code",
   "execution_count": 66,
   "metadata": {
    "ExecuteTime": {
     "end_time": "2017-07-23T11:56:50.998631Z",
     "start_time": "2017-07-23T11:56:50.981621Z"
    },
    "collapsed": true
   },
   "outputs": [],
   "source": [
    "def driving_distance(area_graph, startpoint, endpoint):\n",
    "    \"\"\"\n",
    "    Calculates the driving distance along an osmnx street network between two coordinate-points.\n",
    "    The Driving distance is calculated from the closest nodes to the coordinate points.\n",
    "    This can lead to problems if the coordinates fall outside the area encompassed by the network.\n",
    "\n",
    "    Arguments:\n",
    "    area_graph -- An osmnx street network\n",
    "    startpoint -- The Starting point as coordinate Tuple\n",
    "    endpoint -- The Ending point as coordinate Tuple\n",
    "    \"\"\"\n",
    "\n",
    "    # Find nodes closest to the specified Coordinates\n",
    "    node_start = ox.utils.get_nearest_node(area_graph, startpoint)\n",
    "    node_stop = ox.utils.get_nearest_node(area_graph, endpoint)\n",
    "    #print(\"node_start:\", node_start, \" node_stop:\", node_stop)\n",
    "    # Calculate the shortest network distance between the nodes via the edges\n",
    "    # \"length\" attribute\n",
    "    try:\n",
    "        distance = nx.shortest_path_length(\n",
    "            area_graph, node_start, node_stop, weight=\"length\")\n",
    "    except:\n",
    "        print(\"Can not calculate path from \", startpoint,\n",
    "              \" to \", endpoint, \". Using backup function\")\n",
    "        distance = point_distance(startpoint, endpoint)\n",
    "\n",
    "    return distance"
   ]
  },
  {
   "cell_type": "code",
   "execution_count": 1,
   "metadata": {
    "ExecuteTime": {
     "end_time": "2017-07-26T08:06:03.509235Z",
     "start_time": "2017-07-26T08:06:03.496225Z"
    },
    "collapsed": true
   },
   "outputs": [],
   "source": [
    "# credit to: https://stackoverflow.com/questions/15736995/how-can-i-quickly-estimate-the-distance-between-two-latitude-longitude-points\n",
    "def haversine(lon1, lat1, lon2, lat2):\n",
    "    \"\"\"\n",
    "    Calculate the great circle distance between two points \n",
    "    on the earth (specified in decimal degrees)\n",
    "    \"\"\"\n",
    "    # convert decimal degrees to radians \n",
    "    lon1, lat1, lon2, lat2 = map(radians, [lon1, lat1, lon2, lat2])\n",
    "    # haversine formula \n",
    "    dlon = lon2 - lon1 \n",
    "    dlat = lat2 - lat1 \n",
    "    a = sin(dlat/2)**2 + cos(lat1) * cos(lat2) * sin(dlon/2)**2\n",
    "    c = 2 * asin(sqrt(a)) \n",
    "    km = 6367 * c\n",
    "    return km"
   ]
  },
  {
   "cell_type": "raw",
   "metadata": {
    "ExecuteTime": {
     "end_time": "2017-07-23T11:56:54.693946Z",
     "start_time": "2017-07-23T11:56:54.104555Z"
    }
   },
   "source": [
    "# Usage example:\n",
    "row = combine_data_tf.ix[115]\n",
    "# Coordinates of the first drive in the train dataset\n",
    "startpoint = (row['pickup_latitude'], row['pickup_longitude'])\n",
    "endpoint = (row['dropoff_latitude'], row['dropoff_longitude'])\n",
    "#startpoint = (40.797779, -73.969276)\n",
    "#endpoint = (40.760559, -73.922470)\n",
    "#startpoint = (40.767937, -73.982155)\n",
    "#endpoint = (40.765602, -73.964630)\n",
    "print(driving_distance(area_graph, startpoint, endpoint))"
   ]
  },
  {
   "cell_type": "code",
   "execution_count": null,
   "metadata": {
    "collapsed": true
   },
   "outputs": [],
   "source": [
    "data = combine_data_tf\n",
    "data['distance'] = combine_data_tf.apply(lambda row: haversine(row['pickup_latitude'], row['pickup_longitude'], row['dropoff_latitude'], row['dropoff_longitude']), axis=1)\n",
    "combine_data_tf[:5]"
   ]
  },
  {
   "cell_type": "markdown",
   "metadata": {},
   "source": [
    "## Clearning data"
   ]
  },
  {
   "cell_type": "markdown",
   "metadata": {},
   "source": [
    "### Split train_set and eval_set"
   ]
  },
  {
   "cell_type": "code",
   "execution_count": 197,
   "metadata": {
    "ExecuteTime": {
     "end_time": "2017-07-23T04:16:28.397882Z",
     "start_time": "2017-07-23T04:16:28.002621Z"
    }
   },
   "outputs": [
    {
     "data": {
      "text/html": [
       "<div>\n",
       "<style>\n",
       "    .dataframe thead tr:only-child th {\n",
       "        text-align: right;\n",
       "    }\n",
       "\n",
       "    .dataframe thead th {\n",
       "        text-align: left;\n",
       "    }\n",
       "\n",
       "    .dataframe tbody tr th {\n",
       "        vertical-align: top;\n",
       "    }\n",
       "</style>\n",
       "<table border=\"1\" class=\"dataframe\">\n",
       "  <thead>\n",
       "    <tr style=\"text-align: right;\">\n",
       "      <th></th>\n",
       "      <th>id</th>\n",
       "      <th>vendor_id</th>\n",
       "      <th>passenger_count</th>\n",
       "      <th>pickup_longitude</th>\n",
       "      <th>pickup_latitude</th>\n",
       "      <th>dropoff_longitude</th>\n",
       "      <th>dropoff_latitude</th>\n",
       "      <th>store_and_fwd_flag</th>\n",
       "      <th>pickup_month</th>\n",
       "      <th>pickup_weekday</th>\n",
       "      <th>pickup_day</th>\n",
       "      <th>pickup_hour</th>\n",
       "      <th>pickup_minute</th>\n",
       "      <th>distance</th>\n",
       "      <th>trip_duration</th>\n",
       "    </tr>\n",
       "  </thead>\n",
       "  <tbody>\n",
       "    <tr>\n",
       "      <th>0</th>\n",
       "      <td>id2875421</td>\n",
       "      <td>2</td>\n",
       "      <td>1</td>\n",
       "      <td>-73.982155</td>\n",
       "      <td>40.767937</td>\n",
       "      <td>-73.964630</td>\n",
       "      <td>40.765602</td>\n",
       "      <td>0</td>\n",
       "      <td>3</td>\n",
       "      <td>0</td>\n",
       "      <td>14</td>\n",
       "      <td>17</td>\n",
       "      <td>24</td>\n",
       "      <td>1502.171837</td>\n",
       "      <td>455</td>\n",
       "    </tr>\n",
       "    <tr>\n",
       "      <th>1</th>\n",
       "      <td>id2377394</td>\n",
       "      <td>1</td>\n",
       "      <td>1</td>\n",
       "      <td>-73.980415</td>\n",
       "      <td>40.738564</td>\n",
       "      <td>-73.999481</td>\n",
       "      <td>40.731152</td>\n",
       "      <td>0</td>\n",
       "      <td>6</td>\n",
       "      <td>6</td>\n",
       "      <td>12</td>\n",
       "      <td>0</td>\n",
       "      <td>43</td>\n",
       "      <td>1808.659969</td>\n",
       "      <td>663</td>\n",
       "    </tr>\n",
       "    <tr>\n",
       "      <th>2</th>\n",
       "      <td>id3858529</td>\n",
       "      <td>2</td>\n",
       "      <td>1</td>\n",
       "      <td>-73.979027</td>\n",
       "      <td>40.763939</td>\n",
       "      <td>-74.005333</td>\n",
       "      <td>40.710087</td>\n",
       "      <td>0</td>\n",
       "      <td>1</td>\n",
       "      <td>1</td>\n",
       "      <td>19</td>\n",
       "      <td>11</td>\n",
       "      <td>35</td>\n",
       "      <td>6379.687175</td>\n",
       "      <td>2124</td>\n",
       "    </tr>\n",
       "    <tr>\n",
       "      <th>3</th>\n",
       "      <td>id3504673</td>\n",
       "      <td>2</td>\n",
       "      <td>1</td>\n",
       "      <td>-74.010040</td>\n",
       "      <td>40.719971</td>\n",
       "      <td>-74.012268</td>\n",
       "      <td>40.706718</td>\n",
       "      <td>0</td>\n",
       "      <td>4</td>\n",
       "      <td>2</td>\n",
       "      <td>6</td>\n",
       "      <td>19</td>\n",
       "      <td>32</td>\n",
       "      <td>1483.632481</td>\n",
       "      <td>429</td>\n",
       "    </tr>\n",
       "    <tr>\n",
       "      <th>4</th>\n",
       "      <td>id2181028</td>\n",
       "      <td>2</td>\n",
       "      <td>1</td>\n",
       "      <td>-73.973053</td>\n",
       "      <td>40.793209</td>\n",
       "      <td>-73.972923</td>\n",
       "      <td>40.782520</td>\n",
       "      <td>0</td>\n",
       "      <td>3</td>\n",
       "      <td>5</td>\n",
       "      <td>26</td>\n",
       "      <td>13</td>\n",
       "      <td>30</td>\n",
       "      <td>1187.037659</td>\n",
       "      <td>435</td>\n",
       "    </tr>\n",
       "  </tbody>\n",
       "</table>\n",
       "</div>"
      ],
      "text/plain": [
       "          id  vendor_id  passenger_count  pickup_longitude  pickup_latitude  \\\n",
       "0  id2875421          2                1        -73.982155        40.767937   \n",
       "1  id2377394          1                1        -73.980415        40.738564   \n",
       "2  id3858529          2                1        -73.979027        40.763939   \n",
       "3  id3504673          2                1        -74.010040        40.719971   \n",
       "4  id2181028          2                1        -73.973053        40.793209   \n",
       "\n",
       "   dropoff_longitude  dropoff_latitude store_and_fwd_flag  pickup_month  \\\n",
       "0         -73.964630         40.765602                  0             3   \n",
       "1         -73.999481         40.731152                  0             6   \n",
       "2         -74.005333         40.710087                  0             1   \n",
       "3         -74.012268         40.706718                  0             4   \n",
       "4         -73.972923         40.782520                  0             3   \n",
       "\n",
       "   pickup_weekday  pickup_day  pickup_hour  pickup_minute     distance  \\\n",
       "0               0          14           17             24  1502.171837   \n",
       "1               6          12            0             43  1808.659969   \n",
       "2               1          19           11             35  6379.687175   \n",
       "3               2           6           19             32  1483.632481   \n",
       "4               5          26           13             30  1187.037659   \n",
       "\n",
       "   trip_duration  \n",
       "0            455  \n",
       "1            663  \n",
       "2           2124  \n",
       "3            429  \n",
       "4            435  "
      ]
     },
     "execution_count": 197,
     "metadata": {},
     "output_type": "execute_result"
    }
   ],
   "source": [
    "data = combine_data_tf\n",
    "train_set = data.loc['train']\n",
    "eval_set = data.loc['eval']\n",
    "data = train_set\n",
    "data[label] = target\n",
    "target_log = np.log(target)\n",
    "data[:5]"
   ]
  },
  {
   "cell_type": "markdown",
   "metadata": {},
   "source": [
    "### Trip duration outliner"
   ]
  },
  {
   "cell_type": "markdown",
   "metadata": {},
   "source": [
    "####  Search for outliner"
   ]
  },
  {
   "cell_type": "code",
   "execution_count": 138,
   "metadata": {
    "ExecuteTime": {
     "end_time": "2017-07-23T02:17:34.919355Z",
     "start_time": "2017-07-23T02:17:22.610188Z"
    }
   },
   "outputs": [
    {
     "data": {
      "text/plain": [
       "<matplotlib.collections.PathCollection at 0x1fd8af225f8>"
      ]
     },
     "execution_count": 138,
     "metadata": {},
     "output_type": "execute_result"
    },
    {
     "data": {
      "image/png": "[encoded data removed]",
      "text/plain": [
       "<matplotlib.figure.Figure at 0x1fd8a715b38>"
      ]
     },
     "metadata": {},
     "output_type": "display_data"
    }
   ],
   "source": [
    "plt.scatter(data.index, data[label])"
   ]
  },
  {
   "cell_type": "markdown",
   "metadata": {},
   "source": [
    " - Note: Outliners are trip_duration> 1800000"
   ]
  },
  {
   "cell_type": "code",
   "execution_count": 139,
   "metadata": {
    "ExecuteTime": {
     "end_time": "2017-07-23T02:19:17.200316Z",
     "start_time": "2017-07-23T02:19:17.177301Z"
    }
   },
   "outputs": [
    {
     "data": {
      "text/html": [
       "<div>\n",
       "<style>\n",
       "    .dataframe thead tr:only-child th {\n",
       "        text-align: right;\n",
       "    }\n",
       "\n",
       "    .dataframe thead th {\n",
       "        text-align: left;\n",
       "    }\n",
       "\n",
       "    .dataframe tbody tr th {\n",
       "        vertical-align: top;\n",
       "    }\n",
       "</style>\n",
       "<table border=\"1\" class=\"dataframe\">\n",
       "  <thead>\n",
       "    <tr style=\"text-align: right;\">\n",
       "      <th></th>\n",
       "      <th>id</th>\n",
       "      <th>vendor_id</th>\n",
       "      <th>passenger_count</th>\n",
       "      <th>pickup_longitude</th>\n",
       "      <th>pickup_latitude</th>\n",
       "      <th>dropoff_longitude</th>\n",
       "      <th>dropoff_latitude</th>\n",
       "      <th>store_and_fwd_flag</th>\n",
       "      <th>pickup_year</th>\n",
       "      <th>pickup_month</th>\n",
       "      <th>pickup_day</th>\n",
       "      <th>pickup_hour</th>\n",
       "      <th>pickup_weekday</th>\n",
       "      <th>trip_duration</th>\n",
       "    </tr>\n",
       "  </thead>\n",
       "  <tbody>\n",
       "    <tr>\n",
       "      <th>355003</th>\n",
       "      <td>id1864733</td>\n",
       "      <td>1</td>\n",
       "      <td>1</td>\n",
       "      <td>-73.789650</td>\n",
       "      <td>40.643559</td>\n",
       "      <td>-73.956810</td>\n",
       "      <td>40.773087</td>\n",
       "      <td>0</td>\n",
       "      <td>2016</td>\n",
       "      <td>1</td>\n",
       "      <td>5</td>\n",
       "      <td>0</td>\n",
       "      <td>1</td>\n",
       "      <td>1939736</td>\n",
       "    </tr>\n",
       "    <tr>\n",
       "      <th>680594</th>\n",
       "      <td>id0369307</td>\n",
       "      <td>1</td>\n",
       "      <td>2</td>\n",
       "      <td>-73.921677</td>\n",
       "      <td>40.735252</td>\n",
       "      <td>-73.984749</td>\n",
       "      <td>40.759979</td>\n",
       "      <td>0</td>\n",
       "      <td>2016</td>\n",
       "      <td>2</td>\n",
       "      <td>13</td>\n",
       "      <td>22</td>\n",
       "      <td>5</td>\n",
       "      <td>2049578</td>\n",
       "    </tr>\n",
       "    <tr>\n",
       "      <th>924150</th>\n",
       "      <td>id1325766</td>\n",
       "      <td>1</td>\n",
       "      <td>1</td>\n",
       "      <td>-73.983788</td>\n",
       "      <td>40.742325</td>\n",
       "      <td>-73.985489</td>\n",
       "      <td>40.727676</td>\n",
       "      <td>0</td>\n",
       "      <td>2016</td>\n",
       "      <td>1</td>\n",
       "      <td>5</td>\n",
       "      <td>6</td>\n",
       "      <td>1</td>\n",
       "      <td>2227612</td>\n",
       "    </tr>\n",
       "    <tr>\n",
       "      <th>978383</th>\n",
       "      <td>id0053347</td>\n",
       "      <td>1</td>\n",
       "      <td>1</td>\n",
       "      <td>-73.783905</td>\n",
       "      <td>40.648632</td>\n",
       "      <td>-73.978271</td>\n",
       "      <td>40.750202</td>\n",
       "      <td>0</td>\n",
       "      <td>2016</td>\n",
       "      <td>2</td>\n",
       "      <td>13</td>\n",
       "      <td>22</td>\n",
       "      <td>5</td>\n",
       "      <td>3526282</td>\n",
       "    </tr>\n",
       "  </tbody>\n",
       "</table>\n",
       "</div>"
      ],
      "text/plain": [
       "               id  vendor_id  passenger_count  pickup_longitude  \\\n",
       "355003  id1864733          1                1        -73.789650   \n",
       "680594  id0369307          1                2        -73.921677   \n",
       "924150  id1325766          1                1        -73.983788   \n",
       "978383  id0053347          1                1        -73.783905   \n",
       "\n",
       "        pickup_latitude  dropoff_longitude  dropoff_latitude  \\\n",
       "355003        40.643559         -73.956810         40.773087   \n",
       "680594        40.735252         -73.984749         40.759979   \n",
       "924150        40.742325         -73.985489         40.727676   \n",
       "978383        40.648632         -73.978271         40.750202   \n",
       "\n",
       "       store_and_fwd_flag  pickup_year  pickup_month  pickup_day  pickup_hour  \\\n",
       "355003                  0         2016             1           5            0   \n",
       "680594                  0         2016             2          13           22   \n",
       "924150                  0         2016             1           5            6   \n",
       "978383                  0         2016             2          13           22   \n",
       "\n",
       "        pickup_weekday  trip_duration  \n",
       "355003               1        1939736  \n",
       "680594               5        2049578  \n",
       "924150               1        2227612  \n",
       "978383               5        3526282  "
      ]
     },
     "execution_count": 139,
     "metadata": {},
     "output_type": "execute_result"
    }
   ],
   "source": [
    "data = train_set\n",
    "data_ol = data[data[label] > 1800000]\n",
    "data_ol[-5:]"
   ]
  },
  {
   "cell_type": "markdown",
   "metadata": {},
   "source": [
    "#### Drop trip-duration outliner"
   ]
  },
  {
   "cell_type": "code",
   "execution_count": 198,
   "metadata": {
    "ExecuteTime": {
     "end_time": "2017-07-23T04:16:54.123529Z",
     "start_time": "2017-07-23T04:16:41.593217Z"
    }
   },
   "outputs": [
    {
     "data": {
      "text/plain": [
       "<matplotlib.collections.PathCollection at 0x1fd8a580358>"
      ]
     },
     "execution_count": 198,
     "metadata": {},
     "output_type": "execute_result"
    },
    {
     "data": {
      "image/png": "[encoded data removed]",
      "text/plain": [
       "<matplotlib.figure.Figure at 0x1fd81a29c50>"
      ]
     },
     "metadata": {},
     "output_type": "display_data"
    }
   ],
   "source": [
    "data_ol = data[data[label] < 1800000]\n",
    "plt.scatter(data_ol.index, data_ol[label])"
   ]
  },
  {
   "cell_type": "code",
   "execution_count": 199,
   "metadata": {
    "ExecuteTime": {
     "end_time": "2017-07-23T04:16:54.440740Z",
     "start_time": "2017-07-23T04:16:54.417725Z"
    },
    "collapsed": true
   },
   "outputs": [],
   "source": [
    "train_set = data_ol\n",
    "data = train_set\n",
    "# use np.log to balance distribution\n",
    "target_log = np.log(train_set[label].values)"
   ]
  },
  {
   "cell_type": "code",
   "execution_count": 185,
   "metadata": {
    "ExecuteTime": {
     "end_time": "2017-07-23T03:18:33.064191Z",
     "start_time": "2017-07-23T03:18:32.928100Z"
    }
   },
   "outputs": [
    {
     "data": {
      "text/plain": [
       "count    1.458640e+06\n",
       "mean     9.528153e+02\n",
       "std      3.171322e+03\n",
       "min      1.000000e+00\n",
       "25%      3.970000e+02\n",
       "50%      6.620000e+02\n",
       "75%      1.075000e+03\n",
       "max      8.639200e+04\n",
       "Name: trip_duration, dtype: float64"
      ]
     },
     "execution_count": 185,
     "metadata": {},
     "output_type": "execute_result"
    }
   ],
   "source": [
    "train_set[label].describe()"
   ]
  },
  {
   "cell_type": "markdown",
   "metadata": {},
   "source": [
    "### Trip duration distribution"
   ]
  },
  {
   "cell_type": "code",
   "execution_count": 149,
   "metadata": {
    "ExecuteTime": {
     "end_time": "2017-07-23T02:30:40.439930Z",
     "start_time": "2017-07-23T02:30:20.575752Z"
    },
    "scrolled": true
   },
   "outputs": [
    {
     "data": {
      "text/plain": [
       "<matplotlib.text.Text at 0x1fd81ecdc88>"
      ]
     },
     "execution_count": 149,
     "metadata": {},
     "output_type": "execute_result"
    },
    {
     "data": {
      "image/png": "[encoded data removed]",
      "text/plain": [
       "<matplotlib.figure.Figure at 0x1fd81a5af28>"
      ]
     },
     "metadata": {},
     "output_type": "display_data"
    }
   ],
   "source": [
    "plt.figure(figsize=(10,5))\n",
    "plt.subplot(1,2,1)\n",
    "sns.distplot(data[label], bins=50)\n",
    "plt.title('Original Data')\n",
    "plt.xlabel(label)\n",
    "plt.subplot(1,2,2)\n",
    "sns.distplot(target_log, bins=50)\n",
    "plt.title('Natural Log of Data')\n",
    "plt.xlabel('Natural Log of ' + label)\n"
   ]
  },
  {
   "cell_type": "markdown",
   "metadata": {},
   "source": [
    "## Feature correlation"
   ]
  },
  {
   "cell_type": "code",
   "execution_count": 81,
   "metadata": {
    "ExecuteTime": {
     "end_time": "2017-07-22T15:09:56.044885Z",
     "start_time": "2017-07-22T15:09:55.477011Z"
    }
   },
   "outputs": [
    {
     "data": {
      "text/plain": [
       "pickup_latitude     -0.194434\n",
       "dropoff_latitude    -0.160230\n",
       "pickup_weekday      -0.033654\n",
       "vendor_id            0.008366\n",
       "pickup_day           0.011006\n",
       "passenger_count      0.015356\n",
       "pickup_hour          0.031282\n",
       "pickup_month         0.057805\n",
       "dropoff_longitude    0.111933\n",
       "pickup_longitude     0.189226\n",
       "trip_duration        1.000000\n",
       "Name: trip_duration, dtype: float64"
      ]
     },
     "execution_count": 81,
     "metadata": {},
     "output_type": "execute_result"
    }
   ],
   "source": [
    "correlation = data.corr()[label].sort_values()[-20:]\n",
    "correlation"
   ]
  },
  {
   "cell_type": "code",
   "execution_count": 200,
   "metadata": {
    "ExecuteTime": {
     "end_time": "2017-07-23T04:16:56.937619Z",
     "start_time": "2017-07-23T04:16:55.179452Z"
    }
   },
   "outputs": [
    {
     "name": "stdout",
     "output_type": "stream",
     "text": [
      "['trip_duration' 'distance' 'pickup_longitude' 'vendor_id'\n",
      " 'dropoff_longitude' 'passenger_count' 'pickup_month' 'pickup_hour'\n",
      " 'pickup_day' 'pickup_weekday' 'pickup_minute' 'dropoff_latitude'\n",
      " 'pickup_latitude']\n"
     ]
    },
    {
     "data": {
      "image/png": "[encoded data removed]",
      "text/plain": [
       "<matplotlib.figure.Figure at 0x1fd81c12e80>"
      ]
     },
     "metadata": {},
     "output_type": "display_data"
    }
   ],
   "source": [
    "#correlation matrix\n",
    "corrmat = data.corr()\n",
    "k = 15 #number of variables for heatmap\n",
    "cols = corrmat.nlargest(k, label)[label].index\n",
    "print(cols.values)\n",
    "cm = np.corrcoef(data[cols].values.T)\n",
    "sns.set(font_scale=1.25)\n",
    "hm = sns.heatmap(cm, cbar=True, annot=True, square=True, fmt='.2f', annot_kws={'size': 10}, yticklabels=cols.values, xticklabels=cols.values)\n",
    "plt.show()"
   ]
  },
  {
   "cell_type": "code",
   "execution_count": 201,
   "metadata": {
    "ExecuteTime": {
     "end_time": "2017-07-23T04:17:26.876605Z",
     "start_time": "2017-07-23T04:17:25.935982Z"
    }
   },
   "outputs": [
    {
     "data": {
      "image/png": "[encoded data removed]",
      "text/plain": [
       "<matplotlib.figure.Figure at 0x1fd81ec9470>"
      ]
     },
     "metadata": {},
     "output_type": "display_data"
    }
   ],
   "source": [
    "# Correlation matrix of cols except label\n",
    "other_cols = np.setdiff1d(cols.values, label)\n",
    "cm = np.corrcoef(data[other_cols].values.T)\n",
    "sns.set(font_scale=1.25)\n",
    "hm = sns.heatmap(cm, cbar=True, annot=True, square=True, fmt='.2f', annot_kws={'size': 10}, yticklabels=other_cols, xticklabels=other_cols)\n",
    "plt.show()"
   ]
  },
  {
   "cell_type": "markdown",
   "metadata": {},
   "source": [
    "# Train model"
   ]
  },
  {
   "cell_type": "code",
   "execution_count": 202,
   "metadata": {
    "ExecuteTime": {
     "end_time": "2017-07-23T04:17:35.825957Z",
     "start_time": "2017-07-23T04:17:35.465718Z"
    }
   },
   "outputs": [
    {
     "name": "stdout",
     "output_type": "stream",
     "text": [
      "(1458640, 13)\n"
     ]
    },
    {
     "data": {
      "text/html": [
       "<div>\n",
       "<style>\n",
       "    .dataframe thead tr:only-child th {\n",
       "        text-align: right;\n",
       "    }\n",
       "\n",
       "    .dataframe thead th {\n",
       "        text-align: left;\n",
       "    }\n",
       "\n",
       "    .dataframe tbody tr th {\n",
       "        vertical-align: top;\n",
       "    }\n",
       "</style>\n",
       "<table border=\"1\" class=\"dataframe\">\n",
       "  <thead>\n",
       "    <tr style=\"text-align: right;\">\n",
       "      <th></th>\n",
       "      <th>vendor_id</th>\n",
       "      <th>passenger_count</th>\n",
       "      <th>pickup_longitude</th>\n",
       "      <th>pickup_latitude</th>\n",
       "      <th>dropoff_longitude</th>\n",
       "      <th>dropoff_latitude</th>\n",
       "      <th>store_and_fwd_flag</th>\n",
       "      <th>pickup_month</th>\n",
       "      <th>pickup_weekday</th>\n",
       "      <th>pickup_day</th>\n",
       "      <th>pickup_hour</th>\n",
       "      <th>pickup_minute</th>\n",
       "      <th>distance</th>\n",
       "    </tr>\n",
       "  </thead>\n",
       "  <tbody>\n",
       "    <tr>\n",
       "      <th>0</th>\n",
       "      <td>2.0</td>\n",
       "      <td>1.0</td>\n",
       "      <td>-73.982155</td>\n",
       "      <td>40.767937</td>\n",
       "      <td>-73.964630</td>\n",
       "      <td>40.765602</td>\n",
       "      <td>0.0</td>\n",
       "      <td>3.0</td>\n",
       "      <td>0.0</td>\n",
       "      <td>14.0</td>\n",
       "      <td>17.0</td>\n",
       "      <td>24.0</td>\n",
       "      <td>1502.171837</td>\n",
       "    </tr>\n",
       "    <tr>\n",
       "      <th>1</th>\n",
       "      <td>1.0</td>\n",
       "      <td>1.0</td>\n",
       "      <td>-73.980415</td>\n",
       "      <td>40.738564</td>\n",
       "      <td>-73.999481</td>\n",
       "      <td>40.731152</td>\n",
       "      <td>0.0</td>\n",
       "      <td>6.0</td>\n",
       "      <td>6.0</td>\n",
       "      <td>12.0</td>\n",
       "      <td>0.0</td>\n",
       "      <td>43.0</td>\n",
       "      <td>1808.659969</td>\n",
       "    </tr>\n",
       "    <tr>\n",
       "      <th>2</th>\n",
       "      <td>2.0</td>\n",
       "      <td>1.0</td>\n",
       "      <td>-73.979027</td>\n",
       "      <td>40.763939</td>\n",
       "      <td>-74.005333</td>\n",
       "      <td>40.710087</td>\n",
       "      <td>0.0</td>\n",
       "      <td>1.0</td>\n",
       "      <td>1.0</td>\n",
       "      <td>19.0</td>\n",
       "      <td>11.0</td>\n",
       "      <td>35.0</td>\n",
       "      <td>6379.687175</td>\n",
       "    </tr>\n",
       "    <tr>\n",
       "      <th>3</th>\n",
       "      <td>2.0</td>\n",
       "      <td>1.0</td>\n",
       "      <td>-74.010040</td>\n",
       "      <td>40.719971</td>\n",
       "      <td>-74.012268</td>\n",
       "      <td>40.706718</td>\n",
       "      <td>0.0</td>\n",
       "      <td>4.0</td>\n",
       "      <td>2.0</td>\n",
       "      <td>6.0</td>\n",
       "      <td>19.0</td>\n",
       "      <td>32.0</td>\n",
       "      <td>1483.632481</td>\n",
       "    </tr>\n",
       "    <tr>\n",
       "      <th>4</th>\n",
       "      <td>2.0</td>\n",
       "      <td>1.0</td>\n",
       "      <td>-73.973053</td>\n",
       "      <td>40.793209</td>\n",
       "      <td>-73.972923</td>\n",
       "      <td>40.782520</td>\n",
       "      <td>0.0</td>\n",
       "      <td>3.0</td>\n",
       "      <td>5.0</td>\n",
       "      <td>26.0</td>\n",
       "      <td>13.0</td>\n",
       "      <td>30.0</td>\n",
       "      <td>1187.037659</td>\n",
       "    </tr>\n",
       "  </tbody>\n",
       "</table>\n",
       "</div>"
      ],
      "text/plain": [
       "   vendor_id  passenger_count  pickup_longitude  pickup_latitude  \\\n",
       "0        2.0              1.0        -73.982155        40.767937   \n",
       "1        1.0              1.0        -73.980415        40.738564   \n",
       "2        2.0              1.0        -73.979027        40.763939   \n",
       "3        2.0              1.0        -74.010040        40.719971   \n",
       "4        2.0              1.0        -73.973053        40.793209   \n",
       "\n",
       "   dropoff_longitude  dropoff_latitude  store_and_fwd_flag  pickup_month  \\\n",
       "0         -73.964630         40.765602                 0.0           3.0   \n",
       "1         -73.999481         40.731152                 0.0           6.0   \n",
       "2         -74.005333         40.710087                 0.0           1.0   \n",
       "3         -74.012268         40.706718                 0.0           4.0   \n",
       "4         -73.972923         40.782520                 0.0           3.0   \n",
       "\n",
       "   pickup_weekday  pickup_day  pickup_hour  pickup_minute     distance  \n",
       "0             0.0        14.0         17.0           24.0  1502.171837  \n",
       "1             6.0        12.0          0.0           43.0  1808.659969  \n",
       "2             1.0        19.0         11.0           35.0  6379.687175  \n",
       "3             2.0         6.0         19.0           32.0  1483.632481  \n",
       "4             5.0        26.0         13.0           30.0  1187.037659  "
      ]
     },
     "execution_count": 202,
     "metadata": {},
     "output_type": "execute_result"
    }
   ],
   "source": [
    "data = train_set.drop(['id', label], axis=1).astype(float)\n",
    "print(data.shape)\n",
    "data[:5]"
   ]
  },
  {
   "cell_type": "markdown",
   "metadata": {},
   "source": [
    "## Model definition"
   ]
  },
  {
   "cell_type": "code",
   "execution_count": 27,
   "metadata": {
    "ExecuteTime": {
     "end_time": "2017-07-22T11:36:34.685362Z",
     "start_time": "2017-07-22T11:36:34.667852Z"
    },
    "code_folding": [],
    "collapsed": true
   },
   "outputs": [],
   "source": [
    "# A function to calculate Root Mean Squared Logarithmic Error (RMSLE)\n",
    "# credit: https://www.kaggle.com/marknagelberg/rmsle-function\n",
    "\n",
    "\n",
    "def rmsle(y, y_pred, log=True):\n",
    "    assert len(y) == len(y_pred)\n",
    "    terms_to_sum = 0\n",
    "    if log:\n",
    "        terms_to_sum = [(math.log(math.fabs(y_pred[i]) + 1) -\n",
    "                         math.log(y[i] + 1)) ** 2.0 for i, pred in enumerate(y_pred)]\n",
    "    else:\n",
    "        terms_to_sum = [(math.fabs(y_pred[i]) - y[i]) **\n",
    "                        2.0 for i, pred in enumerate(y_pred)]\n",
    "    # for i, pred in enumerate(y_pred):\n",
    "    #    print(\"i:\", i, \" pred:\", y_pred[i])\n",
    "    #    print(math.log(y_pred[i] + 1))\n",
    "    #    print(math.log(y[i] + 1))\n",
    "    return (sum(terms_to_sum) * (1.0 / len(y))) ** 0.5"
   ]
  },
  {
   "cell_type": "code",
   "execution_count": 203,
   "metadata": {
    "ExecuteTime": {
     "end_time": "2017-07-23T04:17:44.504636Z",
     "start_time": "2017-07-23T04:17:44.479617Z"
    },
    "collapsed": true
   },
   "outputs": [],
   "source": [
    "#model = CatBoostRegressor(iterations=100, depth=5, thread_count=4, use_best_model=True)\n",
    "model = XGBRegressor(n_estimators=10000, max_depth=5,\n",
    "                     learning_rate=0.1, min_child_weight=1, n_jobs=-1)"
   ]
  },
  {
   "cell_type": "markdown",
   "metadata": {},
   "source": [
    "### Find the best hyperparam for model using GridSearchCV (not use)"
   ]
  },
  {
   "cell_type": "raw",
   "metadata": {},
   "source": [
    "start = time.time()\n",
    "param_grid = {\"max_depth\"         : [1, 5, 10],\n",
    "              'learning_rate'     :[0.1, 0.03, 0.01],\n",
    "              'min_child_weight':  [1, 5, 10]\n",
    "             }\n",
    "#grid_search = GridSearchCV(model, param_grid, n_jobs=1, cv=5)\n",
    "#grid_search.fit(data, target_log)\n",
    "#print(grid_search.best_params_)\n",
    "end = time.time() - start\n",
    "end"
   ]
  },
  {
   "cell_type": "markdown",
   "metadata": {},
   "source": [
    "#### Tuning param after GridSearchCV (not use)"
   ]
  },
  {
   "cell_type": "raw",
   "metadata": {
    "collapsed": true
   },
   "source": [
    "model.set_params(**grid_search.best_params_)"
   ]
  },
  {
   "cell_type": "markdown",
   "metadata": {
    "collapsed": true
   },
   "source": [
    "### Cross validate  (not use)"
   ]
  },
  {
   "cell_type": "raw",
   "metadata": {},
   "source": [
    "start = time.time()\n",
    "dtrain = xgb.DMatrix(data,label=target_log, feature_names=data.columns.values)\n",
    "params = model.get_xgb_params()\n",
    "cvresults = xgb.cv(params, dtrain, num_boost_round=2000, nfold=5, early_stopping_rounds=50, verbose_eval=50)\n",
    "end = time.time() - start\n",
    "print(end)"
   ]
  },
  {
   "cell_type": "raw",
   "metadata": {},
   "source": [
    "print(cvresults.shape[0])\n",
    "print(cvresults[-5:])\n",
    "#print(cvresults.index.values)"
   ]
  },
  {
   "cell_type": "raw",
   "metadata": {
    "scrolled": true
   },
   "source": [
    "# plot cross validate\n",
    "plt.plot(cvresults.index.values, cvresults['test-rmse-mean'], c='b', label='test')\n",
    "plt.plot(cvresults.index.values, cvresults['train-rmse-mean'], c='r', label='train')\n",
    "plt.xlabel('Rounds')\n",
    "plt.ylabel('Score')\n",
    "plt.legend()\n",
    "plt.show()\n"
   ]
  },
  {
   "cell_type": "markdown",
   "metadata": {},
   "source": [
    "#### Tuning param after CV  (not use)"
   ]
  },
  {
   "cell_type": "raw",
   "metadata": {},
   "source": [
    "model.set_params(n_estimators=cvresults.shape[0])"
   ]
  },
  {
   "cell_type": "markdown",
   "metadata": {},
   "source": [
    "### Plot learning curve to determine best train/test split  (not use)"
   ]
  },
  {
   "cell_type": "code",
   "execution_count": 29,
   "metadata": {
    "ExecuteTime": {
     "end_time": "2017-07-22T11:38:45.026983Z",
     "start_time": "2017-07-22T11:38:44.993962Z"
    },
    "collapsed": true
   },
   "outputs": [],
   "source": [
    "def plot_learning_curve(X, Y):\n",
    "    plt.figure(figsize=(20,10))\n",
    "    plt.title(\"Learing curve\")\n",
    "    # if ylim is not None:\n",
    "    #     plt.ylim(*ylim)\n",
    "    plt.xlabel(\"Training examples\")\n",
    "    plt.ylabel(\"Score\")\n",
    "    train_sizes, train_scores, test_scores = learning_curve(model, X, Y)\n",
    "    train_scores_mean = np.mean(train_scores, axis=1)\n",
    "    train_scores_std = np.std(train_scores, axis=1)\n",
    "    test_scores_mean = np.mean(test_scores, axis=1)\n",
    "    test_scores_std = np.std(test_scores, axis=1)\n",
    "    plt.grid()\n",
    "\n",
    "    plt.fill_between(train_sizes, train_scores_mean - train_scores_std,\n",
    "                     train_scores_mean + train_scores_std, alpha=0.1,\n",
    "                     color=\"r\")\n",
    "    plt.fill_between(train_sizes, test_scores_mean - test_scores_std,\n",
    "                     test_scores_mean + test_scores_std, alpha=0.1, color=\"g\")\n",
    "    plt.plot(train_sizes, train_scores_mean, 'o-', color=\"r\",\n",
    "             label=\"Training score\")\n",
    "    plt.plot(train_sizes, test_scores_mean, 'o-', color=\"g\",\n",
    "             label=\"Cross-validation score\")\n",
    "\n",
    "    plt.legend(loc=\"best\")\n",
    "    plt.show()"
   ]
  },
  {
   "cell_type": "raw",
   "metadata": {},
   "source": [
    "start = time.time()\n",
    "plot_learning_curve(data, target_log)\n",
    "end = time.time() - start\n",
    "end"
   ]
  },
  {
   "cell_type": "markdown",
   "metadata": {},
   "source": [
    "### Split train/test set"
   ]
  },
  {
   "cell_type": "code",
   "execution_count": 204,
   "metadata": {
    "ExecuteTime": {
     "end_time": "2017-07-23T04:17:52.429053Z",
     "start_time": "2017-07-23T04:17:52.033791Z"
    }
   },
   "outputs": [
    {
     "name": "stdout",
     "output_type": "stream",
     "text": [
      "X_train: (1239844, 13)  Y_train: (1239844,)  X_test: (218796, 13)  Y_test: (218796,)\n"
     ]
    },
    {
     "data": {
      "text/html": [
       "<div>\n",
       "<style>\n",
       "    .dataframe thead tr:only-child th {\n",
       "        text-align: right;\n",
       "    }\n",
       "\n",
       "    .dataframe thead th {\n",
       "        text-align: left;\n",
       "    }\n",
       "\n",
       "    .dataframe tbody tr th {\n",
       "        vertical-align: top;\n",
       "    }\n",
       "</style>\n",
       "<table border=\"1\" class=\"dataframe\">\n",
       "  <thead>\n",
       "    <tr style=\"text-align: right;\">\n",
       "      <th></th>\n",
       "      <th>vendor_id</th>\n",
       "      <th>passenger_count</th>\n",
       "      <th>pickup_longitude</th>\n",
       "      <th>pickup_latitude</th>\n",
       "      <th>dropoff_longitude</th>\n",
       "      <th>dropoff_latitude</th>\n",
       "      <th>store_and_fwd_flag</th>\n",
       "      <th>pickup_month</th>\n",
       "      <th>pickup_weekday</th>\n",
       "      <th>pickup_day</th>\n",
       "      <th>pickup_hour</th>\n",
       "      <th>pickup_minute</th>\n",
       "      <th>distance</th>\n",
       "    </tr>\n",
       "  </thead>\n",
       "  <tbody>\n",
       "    <tr>\n",
       "      <th>9624</th>\n",
       "      <td>2.0</td>\n",
       "      <td>1.0</td>\n",
       "      <td>-73.978073</td>\n",
       "      <td>40.737499</td>\n",
       "      <td>-73.986183</td>\n",
       "      <td>40.768196</td>\n",
       "      <td>0.0</td>\n",
       "      <td>6.0</td>\n",
       "      <td>0.0</td>\n",
       "      <td>20.0</td>\n",
       "      <td>19.0</td>\n",
       "      <td>59.0</td>\n",
       "      <td>3476.980808</td>\n",
       "    </tr>\n",
       "    <tr>\n",
       "      <th>390139</th>\n",
       "      <td>2.0</td>\n",
       "      <td>5.0</td>\n",
       "      <td>-73.994362</td>\n",
       "      <td>40.745819</td>\n",
       "      <td>-74.012383</td>\n",
       "      <td>40.716808</td>\n",
       "      <td>0.0</td>\n",
       "      <td>6.0</td>\n",
       "      <td>5.0</td>\n",
       "      <td>11.0</td>\n",
       "      <td>15.0</td>\n",
       "      <td>23.0</td>\n",
       "      <td>3563.171430</td>\n",
       "    </tr>\n",
       "    <tr>\n",
       "      <th>998910</th>\n",
       "      <td>1.0</td>\n",
       "      <td>1.0</td>\n",
       "      <td>-73.977974</td>\n",
       "      <td>40.773602</td>\n",
       "      <td>-73.977356</td>\n",
       "      <td>40.758083</td>\n",
       "      <td>0.0</td>\n",
       "      <td>1.0</td>\n",
       "      <td>6.0</td>\n",
       "      <td>17.0</td>\n",
       "      <td>17.0</td>\n",
       "      <td>0.0</td>\n",
       "      <td>1724.075012</td>\n",
       "    </tr>\n",
       "    <tr>\n",
       "      <th>911435</th>\n",
       "      <td>2.0</td>\n",
       "      <td>1.0</td>\n",
       "      <td>-73.981659</td>\n",
       "      <td>40.779060</td>\n",
       "      <td>-73.982292</td>\n",
       "      <td>40.775070</td>\n",
       "      <td>0.0</td>\n",
       "      <td>1.0</td>\n",
       "      <td>3.0</td>\n",
       "      <td>7.0</td>\n",
       "      <td>18.0</td>\n",
       "      <td>56.0</td>\n",
       "      <td>446.320052</td>\n",
       "    </tr>\n",
       "    <tr>\n",
       "      <th>129338</th>\n",
       "      <td>1.0</td>\n",
       "      <td>1.0</td>\n",
       "      <td>-73.977921</td>\n",
       "      <td>40.773502</td>\n",
       "      <td>-73.965164</td>\n",
       "      <td>40.755020</td>\n",
       "      <td>0.0</td>\n",
       "      <td>5.0</td>\n",
       "      <td>3.0</td>\n",
       "      <td>19.0</td>\n",
       "      <td>17.0</td>\n",
       "      <td>54.0</td>\n",
       "      <td>2317.883496</td>\n",
       "    </tr>\n",
       "  </tbody>\n",
       "</table>\n",
       "</div>"
      ],
      "text/plain": [
       "        vendor_id  passenger_count  pickup_longitude  pickup_latitude  \\\n",
       "9624          2.0              1.0        -73.978073        40.737499   \n",
       "390139        2.0              5.0        -73.994362        40.745819   \n",
       "998910        1.0              1.0        -73.977974        40.773602   \n",
       "911435        2.0              1.0        -73.981659        40.779060   \n",
       "129338        1.0              1.0        -73.977921        40.773502   \n",
       "\n",
       "        dropoff_longitude  dropoff_latitude  store_and_fwd_flag  pickup_month  \\\n",
       "9624           -73.986183         40.768196                 0.0           6.0   \n",
       "390139         -74.012383         40.716808                 0.0           6.0   \n",
       "998910         -73.977356         40.758083                 0.0           1.0   \n",
       "911435         -73.982292         40.775070                 0.0           1.0   \n",
       "129338         -73.965164         40.755020                 0.0           5.0   \n",
       "\n",
       "        pickup_weekday  pickup_day  pickup_hour  pickup_minute     distance  \n",
       "9624               0.0        20.0         19.0           59.0  3476.980808  \n",
       "390139             5.0        11.0         15.0           23.0  3563.171430  \n",
       "998910             6.0        17.0         17.0            0.0  1724.075012  \n",
       "911435             3.0         7.0         18.0           56.0   446.320052  \n",
       "129338             3.0        19.0         17.0           54.0  2317.883496  "
      ]
     },
     "execution_count": 204,
     "metadata": {},
     "output_type": "execute_result"
    }
   ],
   "source": [
    "X_train, X_test, Y_train, Y_test = train_test_split(\n",
    "    data, target_log, train_size=0.85, random_state=1234)\n",
    "print(\"X_train:\", X_train.shape, \" Y_train:\", Y_train.shape,\n",
    "      \" X_test:\", X_test.shape, \" Y_test:\", Y_test.shape)\n",
    "X_train[:5]"
   ]
  },
  {
   "cell_type": "markdown",
   "metadata": {},
   "source": [
    "## Train data"
   ]
  },
  {
   "cell_type": "code",
   "execution_count": 206,
   "metadata": {
    "ExecuteTime": {
     "end_time": "2017-07-23T05:26:11.101187Z",
     "start_time": "2017-07-23T04:56:59.261907Z"
    }
   },
   "outputs": [
    {
     "name": "stdout",
     "output_type": "stream",
     "text": [
      "[0]\tvalidation_0-rmse:5.41988\n",
      "Will train until validation_0-rmse hasn't improved in 50 rounds.\n",
      "[50]\tvalidation_0-rmse:0.442988\n",
      "[100]\tvalidation_0-rmse:0.428435\n",
      "[150]\tvalidation_0-rmse:0.42162\n",
      "[200]\tvalidation_0-rmse:0.417811\n",
      "[250]\tvalidation_0-rmse:0.415138\n",
      "[300]\tvalidation_0-rmse:0.413329\n",
      "[350]\tvalidation_0-rmse:0.41151\n",
      "[400]\tvalidation_0-rmse:0.410681\n",
      "[450]\tvalidation_0-rmse:0.409317\n",
      "[500]\tvalidation_0-rmse:0.407984\n",
      "[550]\tvalidation_0-rmse:0.406823\n",
      "[600]\tvalidation_0-rmse:0.405887\n",
      "[650]\tvalidation_0-rmse:0.40516\n",
      "[700]\tvalidation_0-rmse:0.404552\n",
      "[750]\tvalidation_0-rmse:0.404054\n",
      "[800]\tvalidation_0-rmse:0.403681\n",
      "[850]\tvalidation_0-rmse:0.403084\n",
      "[900]\tvalidation_0-rmse:0.40256\n",
      "[950]\tvalidation_0-rmse:0.402102\n",
      "[1000]\tvalidation_0-rmse:0.401561\n",
      "[1050]\tvalidation_0-rmse:0.401015\n",
      "[1100]\tvalidation_0-rmse:0.400523\n",
      "[1150]\tvalidation_0-rmse:0.400171\n",
      "[1200]\tvalidation_0-rmse:0.399798\n",
      "[1250]\tvalidation_0-rmse:0.399626\n",
      "[1300]\tvalidation_0-rmse:0.399439\n",
      "[1350]\tvalidation_0-rmse:0.399244\n",
      "[1400]\tvalidation_0-rmse:0.399029\n",
      "[1450]\tvalidation_0-rmse:0.398884\n",
      "[1500]\tvalidation_0-rmse:0.398646\n",
      "[1550]\tvalidation_0-rmse:0.398338\n",
      "[1600]\tvalidation_0-rmse:0.398158\n",
      "[1650]\tvalidation_0-rmse:0.398037\n",
      "[1700]\tvalidation_0-rmse:0.397915\n",
      "[1750]\tvalidation_0-rmse:0.397893\n",
      "[1800]\tvalidation_0-rmse:0.397773\n",
      "[1850]\tvalidation_0-rmse:0.397653\n",
      "[1900]\tvalidation_0-rmse:0.397517\n",
      "[1950]\tvalidation_0-rmse:0.39749\n",
      "[2000]\tvalidation_0-rmse:0.397422\n",
      "[2050]\tvalidation_0-rmse:0.397286\n",
      "[2100]\tvalidation_0-rmse:0.397121\n",
      "[2150]\tvalidation_0-rmse:0.396973\n",
      "[2200]\tvalidation_0-rmse:0.396808\n",
      "[2250]\tvalidation_0-rmse:0.396817\n",
      "[2300]\tvalidation_0-rmse:0.396712\n",
      "[2350]\tvalidation_0-rmse:0.396672\n",
      "[2400]\tvalidation_0-rmse:0.396602\n",
      "[2450]\tvalidation_0-rmse:0.396521\n",
      "[2500]\tvalidation_0-rmse:0.396472\n",
      "[2550]\tvalidation_0-rmse:0.396409\n",
      "[2600]\tvalidation_0-rmse:0.396338\n",
      "[2650]\tvalidation_0-rmse:0.396274\n",
      "[2700]\tvalidation_0-rmse:0.396149\n",
      "[2750]\tvalidation_0-rmse:0.396066\n",
      "[2800]\tvalidation_0-rmse:0.396019\n",
      "[2850]\tvalidation_0-rmse:0.395987\n",
      "[2900]\tvalidation_0-rmse:0.39593\n",
      "[2950]\tvalidation_0-rmse:0.395871\n",
      "[3000]\tvalidation_0-rmse:0.395899\n",
      "Stopping. Best iteration:\n",
      "[2983]\tvalidation_0-rmse:0.395858\n",
      "\n",
      "1751.8312721252441\n"
     ]
    }
   ],
   "source": [
    "start = time.time()\n",
    "early_stopping_rounds = 50\n",
    "model.fit(\n",
    "    X_train, Y_train, eval_set = [(X_test, Y_test)],\n",
    "    eval_metric=\"rmse\", early_stopping_rounds=early_stopping_rounds,\n",
    "    verbose=early_stopping_rounds\n",
    ")\n",
    "end = time.time() - start\n",
    "print(end)"
   ]
  },
  {
   "cell_type": "markdown",
   "metadata": {},
   "source": [
    "### Predict for test data"
   ]
  },
  {
   "cell_type": "code",
   "execution_count": 207,
   "metadata": {
    "ExecuteTime": {
     "end_time": "2017-07-23T06:38:40.569540Z",
     "start_time": "2017-07-23T06:38:30.091589Z"
    }
   },
   "outputs": [
    {
     "data": {
      "text/plain": [
       "10.470948696136475"
      ]
     },
     "execution_count": 207,
     "metadata": {},
     "output_type": "execute_result"
    }
   ],
   "source": [
    "start = time.time()\n",
    "y_pred = model.predict(X_test)\n",
    "end = time.time() - start\n",
    "end"
   ]
  },
  {
   "cell_type": "code",
   "execution_count": 208,
   "metadata": {
    "ExecuteTime": {
     "end_time": "2017-07-23T06:38:41.573205Z",
     "start_time": "2017-07-23T06:38:40.880747Z"
    }
   },
   "outputs": [
    {
     "name": "stdout",
     "output_type": "stream",
     "text": [
      "[ 5.68732786  5.46377277  4.93266582  6.93084335  7.49049044]\n",
      "RMSLE score: 0.05865621413937626  RMSLE without-log: 0.395957129069\n"
     ]
    }
   ],
   "source": [
    "# Evaluate score\n",
    "print(y_pred[:5])\n",
    "score = rmsle(Y_test, y_pred)\n",
    "score1 = rmsle(Y_test, y_pred, log=False)\n",
    "print(\"RMSLE score:\", score, \" RMSLE without-log:\", score1)"
   ]
  },
  {
   "cell_type": "markdown",
   "metadata": {},
   "source": [
    "### Feature importances"
   ]
  },
  {
   "cell_type": "code",
   "execution_count": 209,
   "metadata": {
    "ExecuteTime": {
     "end_time": "2017-07-23T06:39:05.162542Z",
     "start_time": "2017-07-23T06:39:04.419050Z"
    }
   },
   "outputs": [
    {
     "data": {
      "image/png": "[encoded data removed]",
      "text/plain": [
       "<matplotlib.figure.Figure at 0x1fda856e4a8>"
      ]
     },
     "metadata": {},
     "output_type": "display_data"
    }
   ],
   "source": [
    "plot_importance(model)\n",
    "plt.show()"
   ]
  },
  {
   "cell_type": "code",
   "execution_count": null,
   "metadata": {
    "collapsed": true
   },
   "outputs": [],
   "source": [
    "model_params = model.get_params()\n",
    "model_params"
   ]
  },
  {
   "cell_type": "code",
   "execution_count": null,
   "metadata": {
    "collapsed": true
   },
   "outputs": [],
   "source": [
    "# Fit model using each importance as a threshold\n",
    "thresholds = sort(model.feature_importances_)\n",
    "for thresh in thresholds:\n",
    "    break\n",
    "    # select features using threshold\n",
    "    #print(\"X_train:\", X_train.shape, \" X_test:\", X_test.shape)\n",
    "    selection = SelectFromModel(model, threshold=thresh, prefit=True)\n",
    "    select_X_train = selection.transform(X_train)\n",
    "    # train model\n",
    "    selection_model = XGBRegressor()\n",
    "    selection_model.set_params(**model_params)\n",
    "    selection_model.fit(select_X_train, Y_train)\n",
    "    # eval model\n",
    "    select_X_test = selection.transform(X_test)\n",
    "    y_pred = selection_model.predict(select_X_test)\n",
    "    score = rmsle(Y_test, y_pred)\n",
    "    print(\"Thresh=%.3f, n=%d, Score: %.2f%%\" % (thresh, select_X_train.shape[1], score))"
   ]
  },
  {
   "cell_type": "markdown",
   "metadata": {},
   "source": [
    "# Predict and save submission"
   ]
  },
  {
   "cell_type": "code",
   "execution_count": 210,
   "metadata": {
    "ExecuteTime": {
     "end_time": "2017-07-23T06:39:56.183798Z",
     "start_time": "2017-07-23T06:39:26.257943Z"
    }
   },
   "outputs": [
    {
     "name": "stdout",
     "output_type": "stream",
     "text": [
      "29.91484546661377\n",
      "[ 6.81487608  6.40462923  6.07336092  6.88927174  5.72299194]\n",
      "[ 911.30358887  604.63757324  434.1373291   981.68621826  305.81854248]\n"
     ]
    }
   ],
   "source": [
    "start = time.time()\n",
    "data = eval_set.drop('id', axis=1).astype(float)\n",
    "Y_eval_log = model.predict(data)\n",
    "Y_eval = np.exp(Y_eval_log.ravel())\n",
    "end = time.time() - start\n",
    "print(end)\n",
    "print(Y_eval_log[:5])\n",
    "print(Y_eval[:5])"
   ]
  },
  {
   "cell_type": "code",
   "execution_count": 211,
   "metadata": {
    "ExecuteTime": {
     "end_time": "2017-07-23T06:40:02.081873Z",
     "start_time": "2017-07-23T06:40:02.033842Z"
    }
   },
   "outputs": [
    {
     "name": "stdout",
     "output_type": "stream",
     "text": [
      "625134\n"
     ]
    },
    {
     "data": {
      "text/html": [
       "<div>\n",
       "<style>\n",
       "    .dataframe thead tr:only-child th {\n",
       "        text-align: right;\n",
       "    }\n",
       "\n",
       "    .dataframe thead th {\n",
       "        text-align: left;\n",
       "    }\n",
       "\n",
       "    .dataframe tbody tr th {\n",
       "        vertical-align: top;\n",
       "    }\n",
       "</style>\n",
       "<table border=\"1\" class=\"dataframe\">\n",
       "  <thead>\n",
       "    <tr style=\"text-align: right;\">\n",
       "      <th></th>\n",
       "      <th>id</th>\n",
       "      <th>trip_duration</th>\n",
       "    </tr>\n",
       "  </thead>\n",
       "  <tbody>\n",
       "    <tr>\n",
       "      <th>0</th>\n",
       "      <td>id3004672</td>\n",
       "      <td>911.303589</td>\n",
       "    </tr>\n",
       "    <tr>\n",
       "      <th>1</th>\n",
       "      <td>id3505355</td>\n",
       "      <td>604.637573</td>\n",
       "    </tr>\n",
       "    <tr>\n",
       "      <th>2</th>\n",
       "      <td>id1217141</td>\n",
       "      <td>434.137329</td>\n",
       "    </tr>\n",
       "    <tr>\n",
       "      <th>3</th>\n",
       "      <td>id2150126</td>\n",
       "      <td>981.686218</td>\n",
       "    </tr>\n",
       "    <tr>\n",
       "      <th>4</th>\n",
       "      <td>id1598245</td>\n",
       "      <td>305.818542</td>\n",
       "    </tr>\n",
       "  </tbody>\n",
       "</table>\n",
       "</div>"
      ],
      "text/plain": [
       "          id  trip_duration\n",
       "0  id3004672     911.303589\n",
       "1  id3505355     604.637573\n",
       "2  id1217141     434.137329\n",
       "3  id2150126     981.686218\n",
       "4  id1598245     305.818542"
      ]
     },
     "execution_count": 211,
     "metadata": {},
     "output_type": "execute_result"
    }
   ],
   "source": [
    "eval_output = pd.DataFrame({'id': eval_data['id'], 'trip_duration': Y_eval})\n",
    "print(len(eval_output))\n",
    "eval_output.head()"
   ]
  },
  {
   "cell_type": "code",
   "execution_count": 214,
   "metadata": {
    "ExecuteTime": {
     "end_time": "2017-07-23T06:41:13.738140Z",
     "start_time": "2017-07-23T06:41:10.843219Z"
    }
   },
   "outputs": [
    {
     "name": "stdout",
     "output_type": "stream",
     "text": [
      "2017-07-23\n"
     ]
    },
    {
     "data": {
      "text/plain": [
       "2.8869168758392334"
      ]
     },
     "execution_count": 214,
     "metadata": {},
     "output_type": "execute_result"
    }
   ],
   "source": [
    "start = time.time()\n",
    "today = str(dtime.date.today())\n",
    "print(today)\n",
    "eval_output.to_csv(DATA_DIR +'/' +today+'-submission.csv',index=False)\n",
    "end = time.time() - start\n",
    "end"
   ]
  },
  {
   "cell_type": "code",
   "execution_count": null,
   "metadata": {
    "collapsed": true
   },
   "outputs": [],
   "source": []
  }
 ],
 "metadata": {
  "kernelspec": {
   "display_name": "Python 3",
   "language": "python",
   "name": "python3"
  },
  "language_info": {
   "codemirror_mode": {
    "name": "ipython",
    "version": 3
   },
   "file_extension": ".py",
   "mimetype": "text/x-python",
   "name": "python",
   "nbconvert_exporter": "python",
   "pygments_lexer": "ipython3",
   "version": "3.5.2"
  },
  "toc": {
   "nav_menu": {
    "height": "512px",
    "width": "252px"
   },
   "number_sections": true,
   "sideBar": true,
   "skip_h1_title": false,
   "toc_cell": true,
   "toc_position": {
    "height": "650px",
    "left": "0px",
    "right": "1248.8px",
    "top": "108px",
    "width": "287px"
   },
   "toc_section_display": "block",
   "toc_window_display": true
  },
  "varInspector": {
   "cols": {
    "lenName": 16,
    "lenType": 16,
    "lenVar": 40
   },
   "kernels_config": {
    "python": {
     "delete_cmd_postfix": "",
     "delete_cmd_prefix": "del ",
     "library": "var_list.py",
     "varRefreshCmd": "print(var_dic_list())"
    },
    "r": {
     "delete_cmd_postfix": ") ",
     "delete_cmd_prefix": "rm(",
     "library": "var_list.r",
     "varRefreshCmd": "cat(var_dic_list()) "
    }
   },
   "position": {
    "height": "607px",
    "left": "1139px",
    "right": "20px",
    "top": "68px",
    "width": "310px"
   },
   "types_to_exclude": [
    "module",
    "function",
    "builtin_function_or_method",
    "instance",
    "_Feature"
   ],
   "window_display": false
  }
 },
 "nbformat": 4,
 "nbformat_minor": 2
}
