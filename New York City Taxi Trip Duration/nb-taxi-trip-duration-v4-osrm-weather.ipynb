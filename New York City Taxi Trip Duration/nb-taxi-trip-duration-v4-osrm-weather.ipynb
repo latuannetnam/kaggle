{
 "cells": [
  {
   "cell_type": "code",
   "execution_count": null,
   "metadata": {
    "collapsed": true
   },
   "outputs": [],
   "source": []
  },
  {
   "cell_type": "markdown",
   "metadata": {
    "toc": "true"
   },
   "source": [
    "# Table of Contents\n",
    " <p><div class=\"lev1 toc-item\"><a href=\"#New-York-City-Taxi-Trip-Duration\" data-toc-modified-id=\"New-York-City-Taxi-Trip-Duration-1\"><span class=\"toc-item-num\">1&nbsp;&nbsp;</span>New York City Taxi Trip Duration</a></div><div class=\"lev2 toc-item\"><a href=\"#Credit-to:\" data-toc-modified-id=\"Credit-to:-11\"><span class=\"toc-item-num\">1.1&nbsp;&nbsp;</span>Credit to:</a></div><div class=\"lev1 toc-item\"><a href=\"#Load-data\" data-toc-modified-id=\"Load-data-2\"><span class=\"toc-item-num\">2&nbsp;&nbsp;</span>Load data</a></div><div class=\"lev3 toc-item\"><a href=\"#Load-another-dataset-with-distance-from-OSMR\" data-toc-modified-id=\"Load-another-dataset-with-distance-from-OSMR-201\"><span class=\"toc-item-num\">2.0.1&nbsp;&nbsp;</span>Load another dataset with distance from OSMR</a></div><div class=\"lev4 toc-item\"><a href=\"#Check-different-between-orginal-train-data-and-OSM-data-set\" data-toc-modified-id=\"Check-different-between-orginal-train-data-and-OSM-data-set-2011\"><span class=\"toc-item-num\">2.0.1.1&nbsp;&nbsp;</span>Check different between orginal train data and OSM data set</a></div><div class=\"lev3 toc-item\"><a href=\"#Combine-train-data-and-eval-data\" data-toc-modified-id=\"Combine-train-data-and-eval-data-202\"><span class=\"toc-item-num\">2.0.2&nbsp;&nbsp;</span>Combine train data and eval data</a></div><div class=\"lev3 toc-item\"><a href=\"#Load-weather-data-set\" data-toc-modified-id=\"Load-weather-data-set-203\"><span class=\"toc-item-num\">2.0.3&nbsp;&nbsp;</span>Load weather data set</a></div><div class=\"lev4 toc-item\"><a href=\"#Convert-date-to-DateTime-obj\" data-toc-modified-id=\"Convert-date-to-DateTime-obj-2031\"><span class=\"toc-item-num\">2.0.3.1&nbsp;&nbsp;</span>Convert date to DateTime obj</a></div><div class=\"lev3 toc-item\"><a href=\"#Combine-combine_data-and-weather_data\" data-toc-modified-id=\"Combine-combine_data-and-weather_data-204\"><span class=\"toc-item-num\">2.0.4&nbsp;&nbsp;</span>Combine combine_data and weather_data</a></div><div class=\"lev1 toc-item\"><a href=\"#Pre-process-data\" data-toc-modified-id=\"Pre-process-data-3\"><span class=\"toc-item-num\">3&nbsp;&nbsp;</span>Pre-process data</a></div><div class=\"lev2 toc-item\"><a href=\"#Check&amp;-Fill--NaN\" data-toc-modified-id=\"Check&amp;-Fill--NaN-31\"><span class=\"toc-item-num\">3.1&nbsp;&nbsp;</span>Check&amp; Fill  NaN</a></div><div class=\"lev3 toc-item\"><a href=\"#FillNA-for-total_distance\" data-toc-modified-id=\"FillNA-for-total_distance-311\"><span class=\"toc-item-num\">3.1.1&nbsp;&nbsp;</span>FillNA for total_distance</a></div><div class=\"lev3 toc-item\"><a href=\"#FillNaN-for-number_of_streets\" data-toc-modified-id=\"FillNaN-for-number_of_streets-312\"><span class=\"toc-item-num\">3.1.2&nbsp;&nbsp;</span>FillNaN for number_of_streets</a></div><div class=\"lev2 toc-item\"><a href=\"#Transform-object-data\" data-toc-modified-id=\"Transform-object-data-32\"><span class=\"toc-item-num\">3.2&nbsp;&nbsp;</span>Transform object data</a></div><div class=\"lev3 toc-item\"><a href=\"#Convert-datetime-string-to-object\" data-toc-modified-id=\"Convert-datetime-string-to-object-321\"><span class=\"toc-item-num\">3.2.1&nbsp;&nbsp;</span>Convert datetime string to object</a></div><div class=\"lev3 toc-item\"><a href=\"#store_and_fwd_flag\" data-toc-modified-id=\"store_and_fwd_flag-322\"><span class=\"toc-item-num\">3.2.2&nbsp;&nbsp;</span>store_and_fwd_flag</a></div><div class=\"lev3 toc-item\"><a href=\"#start_street\" data-toc-modified-id=\"start_street-323\"><span class=\"toc-item-num\">3.2.3&nbsp;&nbsp;</span>start_street</a></div><div class=\"lev3 toc-item\"><a href=\"#end_street\" data-toc-modified-id=\"end_street-324\"><span class=\"toc-item-num\">3.2.4&nbsp;&nbsp;</span>end_street</a></div><div class=\"lev3 toc-item\"><a href=\"#weather-data\" data-toc-modified-id=\"weather-data-325\"><span class=\"toc-item-num\">3.2.5&nbsp;&nbsp;</span>weather data</a></div><div class=\"lev3 toc-item\"><a href=\"#Drop-unused-cols\" data-toc-modified-id=\"Drop-unused-cols-326\"><span class=\"toc-item-num\">3.2.6&nbsp;&nbsp;</span>Drop unused cols</a></div><div class=\"lev1 toc-item\"><a href=\"#Feature-Engineering\" data-toc-modified-id=\"Feature-Engineering-4\"><span class=\"toc-item-num\">4&nbsp;&nbsp;</span>Feature Engineering</a></div><div class=\"lev2 toc-item\"><a href=\"#Turn,-left,-right\" data-toc-modified-id=\"Turn,-left,-right-41\"><span class=\"toc-item-num\">4.1&nbsp;&nbsp;</span>Turn, left, right</a></div>"
   ]
  },
  {
   "cell_type": "markdown",
   "metadata": {},
   "source": [
    "# New York City Taxi Trip Duration\n",
    "- Share code and data to improve ride time predictions\n",
    "- https://www.kaggle.com/c/nyc-taxi-trip-duration/data\n",
    "- install: http://jupyter-contrib-nbextensions.readthedocs.io/en/latest/install.html\n",
    "- install: https://github.com/Jupyter-contrib/jupyter_nbextensions_configurator\n",
    "- install GDAL: https://sandbox.idre.ucla.edu/sandbox/tutorials/installing-gdal-for-windows\n",
    "- install osmnx: http://geoffboeing.com/2014/09/using-geopandas-windows/\n"
   ]
  },
  {
   "cell_type": "markdown",
   "metadata": {},
   "source": [
    "## Credit to:\n",
    "- https://www.kaggle.com/ankasor/driving-distance-using-open-street-maps-data/notebook\n",
    "- https://www.kaggle.com/oscarleo/new-york-city-taxi-with-osrm\n",
    "- https://www.kaggle.com/gaborfodor/from-eda-to-the-top-lb-0-368/notebook"
   ]
  },
  {
   "cell_type": "code",
   "execution_count": 1,
   "metadata": {
    "ExecuteTime": {
     "end_time": "2017-08-01T04:32:39.650858Z",
     "start_time": "2017-08-01T04:32:38.722892Z"
    }
   },
   "outputs": [
    {
     "name": "stderr",
     "output_type": "stream",
     "text": [
      "/usr/local/lib/python3.4/dist-packages/sklearn/cross_validation.py:41: DeprecationWarning: This module was deprecated in version 0.18 in favor of the model_selection module into which all the refactored classes and functions are moved. Also note that the interface of the new CV iterators are different from that of this module. This module will be removed in 0.20.\n",
      "  \"This module will be removed in 0.20.\", DeprecationWarning)\n",
      "/usr/local/lib/python3.4/dist-packages/sklearn/grid_search.py:42: DeprecationWarning: This module was deprecated in version 0.18 in favor of the model_selection module into which all the refactored classes and functions are moved. This module will be removed in 0.20.\n",
      "  DeprecationWarning)\n"
     ]
    }
   ],
   "source": [
    "# data processing\n",
    "import pandas as pd\n",
    "import matplotlib.pyplot as plt\n",
    "import seaborn as sns\n",
    "import numpy as np\n",
    "from math import sqrt\n",
    "from scipy import stats\n",
    "from scipy.stats import norm\n",
    "import math\n",
    "from math import radians, cos, sin, asin, sqrt\n",
    "from numpy import sort\n",
    "\n",
    "# ML\n",
    "# # Scikit-learn\n",
    "from sklearn.preprocessing import StandardScaler\n",
    "from sklearn.tree import DecisionTreeRegressor\n",
    "from sklearn.linear_model import LinearRegression\n",
    "from sklearn.ensemble import RandomForestRegressor, AdaBoostRegressor, GradientBoostingRegressor, ExtraTreesRegressor\n",
    "from sklearn.model_selection import cross_val_score, train_test_split, learning_curve, validation_curve, KFold\n",
    "from sklearn.metrics import mean_squared_error, make_scorer\n",
    "from sklearn.grid_search import GridSearchCV\n",
    "from sklearn.preprocessing import LabelEncoder, StandardScaler\n",
    "from sklearn.feature_selection import SelectFromModel\n",
    "# # XGB\n",
    "from xgboost.sklearn import XGBRegressor\n",
    "import xgboost as xgb\n",
    "from xgboost import plot_importance\n",
    "# # CatBoost\n",
    "#from catboost import Pool, CatBoostRegressor, cv, CatboostIpythonWidget\n",
    "# System\n",
    "import datetime as dtime\n",
    "from datetime import datetime\n",
    "import sys\n",
    "from inspect import getsourcefile\n",
    "import os.path\n",
    "import re\n",
    "import time\n",
    "\n",
    "# Other\n",
    "from geographiclib.geodesic import Geodesic\n",
    "#import osmnx as ox\n",
    "#import networkx as nx\n",
    "\n",
    "import warnings\n",
    "warnings.filterwarnings('ignore')\n",
    "%matplotlib inline"
   ]
  },
  {
   "cell_type": "markdown",
   "metadata": {},
   "source": [
    "# Load data"
   ]
  },
  {
   "cell_type": "code",
   "execution_count": 2,
   "metadata": {
    "ExecuteTime": {
     "end_time": "2017-08-01T04:32:44.639289Z",
     "start_time": "2017-08-01T04:32:39.652303Z"
    },
    "collapsed": true
   },
   "outputs": [],
   "source": [
    "pd.options.display.float_format = '{:,.4f}'.format\n",
    "# Input data files are available in the DATA_DIR directory.\n",
    "DATA_DIR = \"data-temp\"\n",
    "# Load data. Download from:https://www.kaggle.com/c/nyc-taxi-trip-duration/data\n",
    "train_data = pd.read_csv(DATA_DIR + \"/train.csv\")\n",
    "eval_data =  pd.read_csv(DATA_DIR + \"/test.csv\")"
   ]
  },
  {
   "cell_type": "code",
   "execution_count": 3,
   "metadata": {
    "ExecuteTime": {
     "end_time": "2017-08-01T04:32:44.643904Z",
     "start_time": "2017-08-01T04:32:44.640973Z"
    }
   },
   "outputs": [
    {
     "name": "stdout",
     "output_type": "stream",
     "text": [
      "train size: (1458644, 11)  test size: (625134, 9)\n"
     ]
    }
   ],
   "source": [
    "print(\"train size:\", train_data.shape, \" test size:\", eval_data.shape)"
   ]
  },
  {
   "cell_type": "code",
   "execution_count": 4,
   "metadata": {
    "ExecuteTime": {
     "end_time": "2017-08-01T04:32:44.858389Z",
     "start_time": "2017-08-01T04:32:44.644941Z"
    },
    "scrolled": true
   },
   "outputs": [
    {
     "data": {
      "text/html": [
       "<div>\n",
       "<style>\n",
       "    .dataframe thead tr:only-child th {\n",
       "        text-align: right;\n",
       "    }\n",
       "\n",
       "    .dataframe thead th {\n",
       "        text-align: left;\n",
       "    }\n",
       "\n",
       "    .dataframe tbody tr th {\n",
       "        vertical-align: top;\n",
       "    }\n",
       "</style>\n",
       "<table border=\"1\" class=\"dataframe\">\n",
       "  <thead>\n",
       "    <tr style=\"text-align: right;\">\n",
       "      <th></th>\n",
       "      <th>id</th>\n",
       "      <th>vendor_id</th>\n",
       "      <th>pickup_datetime</th>\n",
       "      <th>dropoff_datetime</th>\n",
       "      <th>passenger_count</th>\n",
       "      <th>pickup_longitude</th>\n",
       "      <th>pickup_latitude</th>\n",
       "      <th>dropoff_longitude</th>\n",
       "      <th>dropoff_latitude</th>\n",
       "      <th>store_and_fwd_flag</th>\n",
       "      <th>trip_duration</th>\n",
       "    </tr>\n",
       "  </thead>\n",
       "  <tbody>\n",
       "    <tr>\n",
       "      <th>0</th>\n",
       "      <td>id2875421</td>\n",
       "      <td>2</td>\n",
       "      <td>2016-03-14 17:24:55</td>\n",
       "      <td>2016-03-14 17:32:30</td>\n",
       "      <td>1</td>\n",
       "      <td>-73.9822</td>\n",
       "      <td>40.7679</td>\n",
       "      <td>-73.9646</td>\n",
       "      <td>40.7656</td>\n",
       "      <td>N</td>\n",
       "      <td>455</td>\n",
       "    </tr>\n",
       "    <tr>\n",
       "      <th>1</th>\n",
       "      <td>id2377394</td>\n",
       "      <td>1</td>\n",
       "      <td>2016-06-12 00:43:35</td>\n",
       "      <td>2016-06-12 00:54:38</td>\n",
       "      <td>1</td>\n",
       "      <td>-73.9804</td>\n",
       "      <td>40.7386</td>\n",
       "      <td>-73.9995</td>\n",
       "      <td>40.7312</td>\n",
       "      <td>N</td>\n",
       "      <td>663</td>\n",
       "    </tr>\n",
       "    <tr>\n",
       "      <th>2</th>\n",
       "      <td>id3858529</td>\n",
       "      <td>2</td>\n",
       "      <td>2016-01-19 11:35:24</td>\n",
       "      <td>2016-01-19 12:10:48</td>\n",
       "      <td>1</td>\n",
       "      <td>-73.9790</td>\n",
       "      <td>40.7639</td>\n",
       "      <td>-74.0053</td>\n",
       "      <td>40.7101</td>\n",
       "      <td>N</td>\n",
       "      <td>2124</td>\n",
       "    </tr>\n",
       "    <tr>\n",
       "      <th>3</th>\n",
       "      <td>id3504673</td>\n",
       "      <td>2</td>\n",
       "      <td>2016-04-06 19:32:31</td>\n",
       "      <td>2016-04-06 19:39:40</td>\n",
       "      <td>1</td>\n",
       "      <td>-74.0100</td>\n",
       "      <td>40.7200</td>\n",
       "      <td>-74.0123</td>\n",
       "      <td>40.7067</td>\n",
       "      <td>N</td>\n",
       "      <td>429</td>\n",
       "    </tr>\n",
       "    <tr>\n",
       "      <th>4</th>\n",
       "      <td>id2181028</td>\n",
       "      <td>2</td>\n",
       "      <td>2016-03-26 13:30:55</td>\n",
       "      <td>2016-03-26 13:38:10</td>\n",
       "      <td>1</td>\n",
       "      <td>-73.9731</td>\n",
       "      <td>40.7932</td>\n",
       "      <td>-73.9729</td>\n",
       "      <td>40.7825</td>\n",
       "      <td>N</td>\n",
       "      <td>435</td>\n",
       "    </tr>\n",
       "  </tbody>\n",
       "</table>\n",
       "</div>"
      ],
      "text/plain": [
       "          id  vendor_id      pickup_datetime     dropoff_datetime  \\\n",
       "0  id2875421          2  2016-03-14 17:24:55  2016-03-14 17:32:30   \n",
       "1  id2377394          1  2016-06-12 00:43:35  2016-06-12 00:54:38   \n",
       "2  id3858529          2  2016-01-19 11:35:24  2016-01-19 12:10:48   \n",
       "3  id3504673          2  2016-04-06 19:32:31  2016-04-06 19:39:40   \n",
       "4  id2181028          2  2016-03-26 13:30:55  2016-03-26 13:38:10   \n",
       "\n",
       "   passenger_count  pickup_longitude  pickup_latitude  dropoff_longitude  \\\n",
       "0                1          -73.9822          40.7679           -73.9646   \n",
       "1                1          -73.9804          40.7386           -73.9995   \n",
       "2                1          -73.9790          40.7639           -74.0053   \n",
       "3                1          -74.0100          40.7200           -74.0123   \n",
       "4                1          -73.9731          40.7932           -73.9729   \n",
       "\n",
       "   dropoff_latitude store_and_fwd_flag  trip_duration  \n",
       "0           40.7656                  N            455  \n",
       "1           40.7312                  N            663  \n",
       "2           40.7101                  N           2124  \n",
       "3           40.7067                  N            429  \n",
       "4           40.7825                  N            435  "
      ]
     },
     "execution_count": 4,
     "metadata": {},
     "output_type": "execute_result"
    }
   ],
   "source": [
    "train_data.head(5)"
   ]
  },
  {
   "cell_type": "code",
   "execution_count": 5,
   "metadata": {
    "ExecuteTime": {
     "end_time": "2017-08-01T04:32:45.047910Z",
     "start_time": "2017-08-01T04:32:44.860169Z"
    }
   },
   "outputs": [
    {
     "data": {
      "text/html": [
       "<div>\n",
       "<style>\n",
       "    .dataframe thead tr:only-child th {\n",
       "        text-align: right;\n",
       "    }\n",
       "\n",
       "    .dataframe thead th {\n",
       "        text-align: left;\n",
       "    }\n",
       "\n",
       "    .dataframe tbody tr th {\n",
       "        vertical-align: top;\n",
       "    }\n",
       "</style>\n",
       "<table border=\"1\" class=\"dataframe\">\n",
       "  <thead>\n",
       "    <tr style=\"text-align: right;\">\n",
       "      <th></th>\n",
       "      <th>id</th>\n",
       "      <th>vendor_id</th>\n",
       "      <th>pickup_datetime</th>\n",
       "      <th>passenger_count</th>\n",
       "      <th>pickup_longitude</th>\n",
       "      <th>pickup_latitude</th>\n",
       "      <th>dropoff_longitude</th>\n",
       "      <th>dropoff_latitude</th>\n",
       "      <th>store_and_fwd_flag</th>\n",
       "    </tr>\n",
       "  </thead>\n",
       "  <tbody>\n",
       "    <tr>\n",
       "      <th>0</th>\n",
       "      <td>id3004672</td>\n",
       "      <td>1</td>\n",
       "      <td>2016-06-30 23:59:58</td>\n",
       "      <td>1</td>\n",
       "      <td>-73.9881</td>\n",
       "      <td>40.7320</td>\n",
       "      <td>-73.9902</td>\n",
       "      <td>40.7567</td>\n",
       "      <td>N</td>\n",
       "    </tr>\n",
       "    <tr>\n",
       "      <th>1</th>\n",
       "      <td>id3505355</td>\n",
       "      <td>1</td>\n",
       "      <td>2016-06-30 23:59:53</td>\n",
       "      <td>1</td>\n",
       "      <td>-73.9642</td>\n",
       "      <td>40.6800</td>\n",
       "      <td>-73.9598</td>\n",
       "      <td>40.6554</td>\n",
       "      <td>N</td>\n",
       "    </tr>\n",
       "    <tr>\n",
       "      <th>2</th>\n",
       "      <td>id1217141</td>\n",
       "      <td>1</td>\n",
       "      <td>2016-06-30 23:59:47</td>\n",
       "      <td>1</td>\n",
       "      <td>-73.9974</td>\n",
       "      <td>40.7376</td>\n",
       "      <td>-73.9862</td>\n",
       "      <td>40.7295</td>\n",
       "      <td>N</td>\n",
       "    </tr>\n",
       "    <tr>\n",
       "      <th>3</th>\n",
       "      <td>id2150126</td>\n",
       "      <td>2</td>\n",
       "      <td>2016-06-30 23:59:41</td>\n",
       "      <td>1</td>\n",
       "      <td>-73.9561</td>\n",
       "      <td>40.7719</td>\n",
       "      <td>-73.9864</td>\n",
       "      <td>40.7305</td>\n",
       "      <td>N</td>\n",
       "    </tr>\n",
       "    <tr>\n",
       "      <th>4</th>\n",
       "      <td>id1598245</td>\n",
       "      <td>1</td>\n",
       "      <td>2016-06-30 23:59:33</td>\n",
       "      <td>1</td>\n",
       "      <td>-73.9702</td>\n",
       "      <td>40.7615</td>\n",
       "      <td>-73.9615</td>\n",
       "      <td>40.7559</td>\n",
       "      <td>N</td>\n",
       "    </tr>\n",
       "  </tbody>\n",
       "</table>\n",
       "</div>"
      ],
      "text/plain": [
       "          id  vendor_id      pickup_datetime  passenger_count  \\\n",
       "0  id3004672          1  2016-06-30 23:59:58                1   \n",
       "1  id3505355          1  2016-06-30 23:59:53                1   \n",
       "2  id1217141          1  2016-06-30 23:59:47                1   \n",
       "3  id2150126          2  2016-06-30 23:59:41                1   \n",
       "4  id1598245          1  2016-06-30 23:59:33                1   \n",
       "\n",
       "   pickup_longitude  pickup_latitude  dropoff_longitude  dropoff_latitude  \\\n",
       "0          -73.9881          40.7320           -73.9902           40.7567   \n",
       "1          -73.9642          40.6800           -73.9598           40.6554   \n",
       "2          -73.9974          40.7376           -73.9862           40.7295   \n",
       "3          -73.9561          40.7719           -73.9864           40.7305   \n",
       "4          -73.9702          40.7615           -73.9615           40.7559   \n",
       "\n",
       "  store_and_fwd_flag  \n",
       "0                  N  \n",
       "1                  N  \n",
       "2                  N  \n",
       "3                  N  \n",
       "4                  N  "
      ]
     },
     "execution_count": 5,
     "metadata": {},
     "output_type": "execute_result"
    }
   ],
   "source": [
    "eval_data.head(5)"
   ]
  },
  {
   "cell_type": "code",
   "execution_count": 6,
   "metadata": {
    "ExecuteTime": {
     "end_time": "2017-08-01T04:32:45.253591Z",
     "start_time": "2017-08-01T04:32:45.049071Z"
    }
   },
   "outputs": [
    {
     "data": {
      "text/plain": [
       "array(['dropoff_datetime', 'trip_duration'], dtype=object)"
      ]
     },
     "execution_count": 6,
     "metadata": {},
     "output_type": "execute_result"
    }
   ],
   "source": [
    "diff_cols = np.setdiff1d(train_data.columns.values, eval_data.columns.values)\n",
    "diff_cols"
   ]
  },
  {
   "cell_type": "markdown",
   "metadata": {},
   "source": [
    "### Load another dataset with distance from OSMR"
   ]
  },
  {
   "cell_type": "code",
   "execution_count": 7,
   "metadata": {
    "ExecuteTime": {
     "end_time": "2017-08-01T04:32:56.138975Z",
     "start_time": "2017-08-01T04:32:45.257870Z"
    },
    "collapsed": true
   },
   "outputs": [],
   "source": [
    "# Download from:\n",
    "# https://www.kaggle.com/oscarleo/new-york-city-taxi-with-osrm\n",
    "train_osm = pd.read_csv(DATA_DIR + \"/fastest_route_train.csv\")\n",
    "eval_osm = pd.read_csv(DATA_DIR + \"/fastest_route_test.csv\")"
   ]
  },
  {
   "cell_type": "code",
   "execution_count": 8,
   "metadata": {
    "ExecuteTime": {
     "end_time": "2017-08-01T04:32:56.143621Z",
     "start_time": "2017-08-01T04:32:56.140521Z"
    }
   },
   "outputs": [
    {
     "name": "stdout",
     "output_type": "stream",
     "text": [
      "train_osm size: (1458643, 11)  test osm size: (625134, 11)\n"
     ]
    }
   ],
   "source": [
    "print(\"train_osm size:\", train_osm.shape, \" test osm size:\", eval_osm.shape)"
   ]
  },
  {
   "cell_type": "code",
   "execution_count": 9,
   "metadata": {
    "ExecuteTime": {
     "end_time": "2017-08-01T04:32:56.400486Z",
     "start_time": "2017-08-01T04:32:56.145205Z"
    }
   },
   "outputs": [
    {
     "data": {
      "text/html": [
       "<div>\n",
       "<style>\n",
       "    .dataframe thead tr:only-child th {\n",
       "        text-align: right;\n",
       "    }\n",
       "\n",
       "    .dataframe thead th {\n",
       "        text-align: left;\n",
       "    }\n",
       "\n",
       "    .dataframe tbody tr th {\n",
       "        vertical-align: top;\n",
       "    }\n",
       "</style>\n",
       "<table border=\"1\" class=\"dataframe\">\n",
       "  <thead>\n",
       "    <tr style=\"text-align: right;\">\n",
       "      <th></th>\n",
       "      <th>id</th>\n",
       "      <th>starting_street</th>\n",
       "      <th>end_street</th>\n",
       "      <th>total_distance</th>\n",
       "      <th>total_travel_time</th>\n",
       "      <th>number_of_steps</th>\n",
       "      <th>street_for_each_step</th>\n",
       "      <th>distance_per_step</th>\n",
       "      <th>travel_time_per_step</th>\n",
       "      <th>step_maneuvers</th>\n",
       "      <th>step_direction</th>\n",
       "    </tr>\n",
       "  </thead>\n",
       "  <tbody>\n",
       "    <tr>\n",
       "      <th>0</th>\n",
       "      <td>id2085575</td>\n",
       "      <td>Center Boulevard</td>\n",
       "      <td>West 29th Street</td>\n",
       "      <td>3,588.5000</td>\n",
       "      <td>359.8000</td>\n",
       "      <td>7</td>\n",
       "      <td>Center Boulevard|East 49th Street|2nd Avenue|E...</td>\n",
       "      <td>8.1|383.4|962.5|1423.4|640.1|171.1|0</td>\n",
       "      <td>7|42.2|85.4|118.4|87.7|19.1|0</td>\n",
       "      <td>depart|turn|turn|turn|turn|turn|arrive</td>\n",
       "      <td>left|uturn|left|right|left|right|arrive</td>\n",
       "    </tr>\n",
       "    <tr>\n",
       "      <th>1</th>\n",
       "      <td>id0633227</td>\n",
       "      <td>East 42nd Street</td>\n",
       "      <td>East 78th Street</td>\n",
       "      <td>3,935.6000</td>\n",
       "      <td>358.0000</td>\n",
       "      <td>7</td>\n",
       "      <td>East 42nd Street|3rd Avenue|3rd Avenue|East 57...</td>\n",
       "      <td>435.1|1039.8|165.5|445.1|1695.5|154.5|0</td>\n",
       "      <td>64.1|83.5|14.4|35.9|137.9|22.2|0</td>\n",
       "      <td>depart|turn|fork|turn|turn|turn|arrive</td>\n",
       "      <td>right|left|slight right|right|left|right|arrive</td>\n",
       "    </tr>\n",
       "    <tr>\n",
       "      <th>2</th>\n",
       "      <td>id1356036</td>\n",
       "      <td>West 74th Street</td>\n",
       "      <td>Joe DiMaggio Highway</td>\n",
       "      <td>3,468.3000</td>\n",
       "      <td>228.2000</td>\n",
       "      <td>10</td>\n",
       "      <td>West 74th Street|Amsterdam Avenue|West 79th St...</td>\n",
       "      <td>55.1|410|571.2|326.1|1635.7|24.1|90|187.1|169.1|0</td>\n",
       "      <td>15.3|38|46.7|25.1|70.8|12.3|5.8|7.5|6.7|0</td>\n",
       "      <td>depart|turn|turn|roundabout|merge|turn|turn|ne...</td>\n",
       "      <td>right|left|left|right|slight left|left|left|st...</td>\n",
       "    </tr>\n",
       "    <tr>\n",
       "      <th>3</th>\n",
       "      <td>id2360318</td>\n",
       "      <td>East 31st Street</td>\n",
       "      <td>Park Avenue</td>\n",
       "      <td>2,369.6000</td>\n",
       "      <td>240.0000</td>\n",
       "      <td>5</td>\n",
       "      <td>East 31st Street|Park Avenue South|Park Avenue...</td>\n",
       "      <td>172.6|158|1996.1|42.9|0</td>\n",
       "      <td>25.3|19.8|184.9|10|0</td>\n",
       "      <td>depart|turn|fork|continue|arrive</td>\n",
       "      <td>right|right|slight left|uturn|arrive</td>\n",
       "    </tr>\n",
       "    <tr>\n",
       "      <th>4</th>\n",
       "      <td>id1397932</td>\n",
       "      <td>Cleveland Place</td>\n",
       "      <td>East 28th Street</td>\n",
       "      <td>3,050.7000</td>\n",
       "      <td>415.1000</td>\n",
       "      <td>9</td>\n",
       "      <td>Cleveland Place|Lafayette Street|4th Avenue|Un...</td>\n",
       "      <td>119.1|1129|388.6|251.9|781.6|163.9|78|138.6|0</td>\n",
       "      <td>17.4|144.5|53.5|34.2|112.8|24.4|12.8|15.5|0</td>\n",
       "      <td>depart|new name|new name|new name|new name|tur...</td>\n",
       "      <td>right|slight right|straight|straight|straight|...</td>\n",
       "    </tr>\n",
       "  </tbody>\n",
       "</table>\n",
       "</div>"
      ],
      "text/plain": [
       "          id   starting_street            end_street  total_distance  \\\n",
       "0  id2085575  Center Boulevard      West 29th Street      3,588.5000   \n",
       "1  id0633227  East 42nd Street      East 78th Street      3,935.6000   \n",
       "2  id1356036  West 74th Street  Joe DiMaggio Highway      3,468.3000   \n",
       "3  id2360318  East 31st Street           Park Avenue      2,369.6000   \n",
       "4  id1397932   Cleveland Place      East 28th Street      3,050.7000   \n",
       "\n",
       "   total_travel_time  number_of_steps  \\\n",
       "0           359.8000                7   \n",
       "1           358.0000                7   \n",
       "2           228.2000               10   \n",
       "3           240.0000                5   \n",
       "4           415.1000                9   \n",
       "\n",
       "                                street_for_each_step  \\\n",
       "0  Center Boulevard|East 49th Street|2nd Avenue|E...   \n",
       "1  East 42nd Street|3rd Avenue|3rd Avenue|East 57...   \n",
       "2  West 74th Street|Amsterdam Avenue|West 79th St...   \n",
       "3  East 31st Street|Park Avenue South|Park Avenue...   \n",
       "4  Cleveland Place|Lafayette Street|4th Avenue|Un...   \n",
       "\n",
       "                                   distance_per_step  \\\n",
       "0               8.1|383.4|962.5|1423.4|640.1|171.1|0   \n",
       "1            435.1|1039.8|165.5|445.1|1695.5|154.5|0   \n",
       "2  55.1|410|571.2|326.1|1635.7|24.1|90|187.1|169.1|0   \n",
       "3                            172.6|158|1996.1|42.9|0   \n",
       "4      119.1|1129|388.6|251.9|781.6|163.9|78|138.6|0   \n",
       "\n",
       "                          travel_time_per_step  \\\n",
       "0                7|42.2|85.4|118.4|87.7|19.1|0   \n",
       "1             64.1|83.5|14.4|35.9|137.9|22.2|0   \n",
       "2    15.3|38|46.7|25.1|70.8|12.3|5.8|7.5|6.7|0   \n",
       "3                         25.3|19.8|184.9|10|0   \n",
       "4  17.4|144.5|53.5|34.2|112.8|24.4|12.8|15.5|0   \n",
       "\n",
       "                                      step_maneuvers  \\\n",
       "0             depart|turn|turn|turn|turn|turn|arrive   \n",
       "1             depart|turn|fork|turn|turn|turn|arrive   \n",
       "2  depart|turn|turn|roundabout|merge|turn|turn|ne...   \n",
       "3                   depart|turn|fork|continue|arrive   \n",
       "4  depart|new name|new name|new name|new name|tur...   \n",
       "\n",
       "                                      step_direction  \n",
       "0            left|uturn|left|right|left|right|arrive  \n",
       "1    right|left|slight right|right|left|right|arrive  \n",
       "2  right|left|left|right|slight left|left|left|st...  \n",
       "3               right|right|slight left|uturn|arrive  \n",
       "4  right|slight right|straight|straight|straight|...  "
      ]
     },
     "execution_count": 9,
     "metadata": {},
     "output_type": "execute_result"
    }
   ],
   "source": [
    "train_osm[:5]"
   ]
  },
  {
   "cell_type": "code",
   "execution_count": 10,
   "metadata": {
    "ExecuteTime": {
     "end_time": "2017-08-01T04:32:56.668654Z",
     "start_time": "2017-08-01T04:32:56.401792Z"
    },
    "scrolled": true
   },
   "outputs": [
    {
     "data": {
      "text/html": [
       "<div>\n",
       "<style>\n",
       "    .dataframe thead tr:only-child th {\n",
       "        text-align: right;\n",
       "    }\n",
       "\n",
       "    .dataframe thead th {\n",
       "        text-align: left;\n",
       "    }\n",
       "\n",
       "    .dataframe tbody tr th {\n",
       "        vertical-align: top;\n",
       "    }\n",
       "</style>\n",
       "<table border=\"1\" class=\"dataframe\">\n",
       "  <thead>\n",
       "    <tr style=\"text-align: right;\">\n",
       "      <th></th>\n",
       "      <th>id</th>\n",
       "      <th>starting_street</th>\n",
       "      <th>end_street</th>\n",
       "      <th>total_distance</th>\n",
       "      <th>total_travel_time</th>\n",
       "      <th>number_of_steps</th>\n",
       "      <th>street_for_each_step</th>\n",
       "      <th>distance_per_step</th>\n",
       "      <th>travel_time_per_step</th>\n",
       "      <th>step_maneuvers</th>\n",
       "      <th>step_direction</th>\n",
       "    </tr>\n",
       "  </thead>\n",
       "  <tbody>\n",
       "    <tr>\n",
       "      <th>0</th>\n",
       "      <td>id3109230</td>\n",
       "      <td>East 29th Street</td>\n",
       "      <td>West Street</td>\n",
       "      <td>5,225.2000</td>\n",
       "      <td>701.5000</td>\n",
       "      <td>8</td>\n",
       "      <td>East 29th Street|2nd Avenue|East 9th Street|Wa...</td>\n",
       "      <td>184.1|1581.9|314.2|137.4|2393.2|595.6|18.8|0</td>\n",
       "      <td>28|206.5|39.1|24.3|321.2|81|1.4|0</td>\n",
       "      <td>depart|turn|turn|new name|turn|turn|turn|arrive</td>\n",
       "      <td>right|left|right|straight|left|right|left|arrive</td>\n",
       "    </tr>\n",
       "    <tr>\n",
       "      <th>1</th>\n",
       "      <td>id2725273</td>\n",
       "      <td>7th Avenue</td>\n",
       "      <td>East 42nd Street</td>\n",
       "      <td>2,346.9000</td>\n",
       "      <td>250.8000</td>\n",
       "      <td>7</td>\n",
       "      <td>7th Avenue|West 32nd Street|6th Avenue|West 36...</td>\n",
       "      <td>16|275.3|328.4|933.9|478.4|314.9|0</td>\n",
       "      <td>9.3|38.3|47|78.4|40.6|37.2|0</td>\n",
       "      <td>depart|turn|turn|turn|turn|turn|arrive</td>\n",
       "      <td>right|left|left|right|left|right|arrive</td>\n",
       "    </tr>\n",
       "    <tr>\n",
       "      <th>2</th>\n",
       "      <td>id1101610</td>\n",
       "      <td>Amsterdam Avenue</td>\n",
       "      <td>West 60th Street</td>\n",
       "      <td>1,690.2000</td>\n",
       "      <td>183.7000</td>\n",
       "      <td>8</td>\n",
       "      <td>Amsterdam Avenue|West 70th Street|Broadway|Col...</td>\n",
       "      <td>123.2|35.5|501.5|431.4|271.9|78.7|247.9|0</td>\n",
       "      <td>13|7.5|39.9|35.8|43.3|8.5|35.7|0</td>\n",
       "      <td>depart|turn|turn|turn|turn|turn|turn|arrive</td>\n",
       "      <td>left|right|right|slight right|right|right|righ...</td>\n",
       "    </tr>\n",
       "    <tr>\n",
       "      <th>3</th>\n",
       "      <td>id0502191</td>\n",
       "      <td>West 75th Street</td>\n",
       "      <td>East 79th Street</td>\n",
       "      <td>2,414.4000</td>\n",
       "      <td>229.2000</td>\n",
       "      <td>6</td>\n",
       "      <td>West 75th Street|Amsterdam Avenue|West 81st St...</td>\n",
       "      <td>34.6|495.9|545.9|973.4|364.6|0</td>\n",
       "      <td>9|41.6|39.8|108.9|29.9|0</td>\n",
       "      <td>depart|turn|turn|new name|new name|arrive</td>\n",
       "      <td>right|right|right|straight|straight|arrive</td>\n",
       "    </tr>\n",
       "    <tr>\n",
       "      <th>4</th>\n",
       "      <td>id0002695</td>\n",
       "      <td>7th Avenue</td>\n",
       "      <td>Park Avenue Tunnel</td>\n",
       "      <td>2,742.1000</td>\n",
       "      <td>260.8000</td>\n",
       "      <td>6</td>\n",
       "      <td>7th Avenue|West 50th Street|Lexington Avenue|E...</td>\n",
       "      <td>66.8|1050.2|1367.7|151.9|105.5|0</td>\n",
       "      <td>11.7|82.8|137.3|17.3|11.7|0</td>\n",
       "      <td>depart|turn|turn|turn|turn|arrive</td>\n",
       "      <td>left|left|right|right|right|arrive</td>\n",
       "    </tr>\n",
       "  </tbody>\n",
       "</table>\n",
       "</div>"
      ],
      "text/plain": [
       "          id   starting_street          end_street  total_distance  \\\n",
       "0  id3109230  East 29th Street         West Street      5,225.2000   \n",
       "1  id2725273        7th Avenue    East 42nd Street      2,346.9000   \n",
       "2  id1101610  Amsterdam Avenue    West 60th Street      1,690.2000   \n",
       "3  id0502191  West 75th Street    East 79th Street      2,414.4000   \n",
       "4  id0002695        7th Avenue  Park Avenue Tunnel      2,742.1000   \n",
       "\n",
       "   total_travel_time  number_of_steps  \\\n",
       "0           701.5000                8   \n",
       "1           250.8000                7   \n",
       "2           183.7000                8   \n",
       "3           229.2000                6   \n",
       "4           260.8000                6   \n",
       "\n",
       "                                street_for_each_step  \\\n",
       "0  East 29th Street|2nd Avenue|East 9th Street|Wa...   \n",
       "1  7th Avenue|West 32nd Street|6th Avenue|West 36...   \n",
       "2  Amsterdam Avenue|West 70th Street|Broadway|Col...   \n",
       "3  West 75th Street|Amsterdam Avenue|West 81st St...   \n",
       "4  7th Avenue|West 50th Street|Lexington Avenue|E...   \n",
       "\n",
       "                              distance_per_step  \\\n",
       "0  184.1|1581.9|314.2|137.4|2393.2|595.6|18.8|0   \n",
       "1            16|275.3|328.4|933.9|478.4|314.9|0   \n",
       "2     123.2|35.5|501.5|431.4|271.9|78.7|247.9|0   \n",
       "3                34.6|495.9|545.9|973.4|364.6|0   \n",
       "4              66.8|1050.2|1367.7|151.9|105.5|0   \n",
       "\n",
       "                travel_time_per_step  \\\n",
       "0  28|206.5|39.1|24.3|321.2|81|1.4|0   \n",
       "1       9.3|38.3|47|78.4|40.6|37.2|0   \n",
       "2   13|7.5|39.9|35.8|43.3|8.5|35.7|0   \n",
       "3           9|41.6|39.8|108.9|29.9|0   \n",
       "4        11.7|82.8|137.3|17.3|11.7|0   \n",
       "\n",
       "                                    step_maneuvers  \\\n",
       "0  depart|turn|turn|new name|turn|turn|turn|arrive   \n",
       "1           depart|turn|turn|turn|turn|turn|arrive   \n",
       "2      depart|turn|turn|turn|turn|turn|turn|arrive   \n",
       "3        depart|turn|turn|new name|new name|arrive   \n",
       "4                depart|turn|turn|turn|turn|arrive   \n",
       "\n",
       "                                      step_direction  \n",
       "0   right|left|right|straight|left|right|left|arrive  \n",
       "1            right|left|left|right|left|right|arrive  \n",
       "2  left|right|right|slight right|right|right|righ...  \n",
       "3         right|right|right|straight|straight|arrive  \n",
       "4                 left|left|right|right|right|arrive  "
      ]
     },
     "execution_count": 10,
     "metadata": {},
     "output_type": "execute_result"
    }
   ],
   "source": [
    "eval_osm[:5]"
   ]
  },
  {
   "cell_type": "markdown",
   "metadata": {},
   "source": [
    "#### Check different between orginal train data and OSM data set"
   ]
  },
  {
   "cell_type": "code",
   "execution_count": 11,
   "metadata": {
    "ExecuteTime": {
     "end_time": "2017-07-28T13:09:03.743464Z",
     "start_time": "2017-07-28T13:09:03.658824Z"
    }
   },
   "outputs": [
    {
     "data": {
      "text/plain": [
       "array(['distance_per_street_list', 'duration_per_street_list',\n",
       "       'end_street', 'number_of_streets', 'starting_street', 'street_list',\n",
       "       'total_distance', 'total_duration'], dtype=object)"
      ]
     },
     "execution_count": 11,
     "metadata": {},
     "output_type": "execute_result"
    }
   ],
   "source": [
    "diff_cols = np.setdiff1d(train_osm.columns.values, train_data.columns.values)\n",
    "diff_cols"
   ]
  },
  {
   "cell_type": "code",
   "execution_count": 11,
   "metadata": {
    "ExecuteTime": {
     "end_time": "2017-08-01T04:33:53.773408Z",
     "start_time": "2017-08-01T04:33:53.728811Z"
    }
   },
   "outputs": [
    {
     "data": {
      "text/html": [
       "<div>\n",
       "<style>\n",
       "    .dataframe thead tr:only-child th {\n",
       "        text-align: right;\n",
       "    }\n",
       "\n",
       "    .dataframe thead th {\n",
       "        text-align: left;\n",
       "    }\n",
       "\n",
       "    .dataframe tbody tr th {\n",
       "        vertical-align: top;\n",
       "    }\n",
       "</style>\n",
       "<table border=\"1\" class=\"dataframe\">\n",
       "  <thead>\n",
       "    <tr style=\"text-align: right;\">\n",
       "      <th></th>\n",
       "      <th>id</th>\n",
       "      <th>total_distance</th>\n",
       "      <th>total_travel_time</th>\n",
       "      <th>number_of_steps</th>\n",
       "      <th>starting_street</th>\n",
       "      <th>end_street</th>\n",
       "    </tr>\n",
       "  </thead>\n",
       "  <tbody>\n",
       "    <tr>\n",
       "      <th>0</th>\n",
       "      <td>id2085575</td>\n",
       "      <td>3,588.5000</td>\n",
       "      <td>359.8000</td>\n",
       "      <td>7</td>\n",
       "      <td>Center Boulevard</td>\n",
       "      <td>West 29th Street</td>\n",
       "    </tr>\n",
       "    <tr>\n",
       "      <th>1</th>\n",
       "      <td>id0633227</td>\n",
       "      <td>3,935.6000</td>\n",
       "      <td>358.0000</td>\n",
       "      <td>7</td>\n",
       "      <td>East 42nd Street</td>\n",
       "      <td>East 78th Street</td>\n",
       "    </tr>\n",
       "    <tr>\n",
       "      <th>2</th>\n",
       "      <td>id1356036</td>\n",
       "      <td>3,468.3000</td>\n",
       "      <td>228.2000</td>\n",
       "      <td>10</td>\n",
       "      <td>West 74th Street</td>\n",
       "      <td>Joe DiMaggio Highway</td>\n",
       "    </tr>\n",
       "    <tr>\n",
       "      <th>3</th>\n",
       "      <td>id2360318</td>\n",
       "      <td>2,369.6000</td>\n",
       "      <td>240.0000</td>\n",
       "      <td>5</td>\n",
       "      <td>East 31st Street</td>\n",
       "      <td>Park Avenue</td>\n",
       "    </tr>\n",
       "    <tr>\n",
       "      <th>4</th>\n",
       "      <td>id1397932</td>\n",
       "      <td>3,050.7000</td>\n",
       "      <td>415.1000</td>\n",
       "      <td>9</td>\n",
       "      <td>Cleveland Place</td>\n",
       "      <td>East 28th Street</td>\n",
       "    </tr>\n",
       "  </tbody>\n",
       "</table>\n",
       "</div>"
      ],
      "text/plain": [
       "          id  total_distance  total_travel_time  number_of_steps  \\\n",
       "0  id2085575      3,588.5000           359.8000                7   \n",
       "1  id0633227      3,935.6000           358.0000                7   \n",
       "2  id1356036      3,468.3000           228.2000               10   \n",
       "3  id2360318      2,369.6000           240.0000                5   \n",
       "4  id1397932      3,050.7000           415.1000                9   \n",
       "\n",
       "    starting_street            end_street  \n",
       "0  Center Boulevard      West 29th Street  \n",
       "1  East 42nd Street      East 78th Street  \n",
       "2  West 74th Street  Joe DiMaggio Highway  \n",
       "3  East 31st Street           Park Avenue  \n",
       "4   Cleveland Place      East 28th Street  "
      ]
     },
     "execution_count": 11,
     "metadata": {},
     "output_type": "execute_result"
    }
   ],
   "source": [
    "col_use =col_use = ['id', 'total_distance', 'total_travel_time',\n",
    "                   'number_of_steps',\n",
    "                   'starting_street', 'end_street']\n",
    "train_osm_data = train_osm[col_use]\n",
    "train_osm_data[:5]"
   ]
  },
  {
   "cell_type": "code",
   "execution_count": 12,
   "metadata": {
    "ExecuteTime": {
     "end_time": "2017-08-01T04:34:01.766170Z",
     "start_time": "2017-08-01T04:34:01.738055Z"
    }
   },
   "outputs": [
    {
     "data": {
      "text/html": [
       "<div>\n",
       "<style>\n",
       "    .dataframe thead tr:only-child th {\n",
       "        text-align: right;\n",
       "    }\n",
       "\n",
       "    .dataframe thead th {\n",
       "        text-align: left;\n",
       "    }\n",
       "\n",
       "    .dataframe tbody tr th {\n",
       "        vertical-align: top;\n",
       "    }\n",
       "</style>\n",
       "<table border=\"1\" class=\"dataframe\">\n",
       "  <thead>\n",
       "    <tr style=\"text-align: right;\">\n",
       "      <th></th>\n",
       "      <th>id</th>\n",
       "      <th>total_distance</th>\n",
       "      <th>total_travel_time</th>\n",
       "      <th>number_of_steps</th>\n",
       "      <th>starting_street</th>\n",
       "      <th>end_street</th>\n",
       "    </tr>\n",
       "  </thead>\n",
       "  <tbody>\n",
       "    <tr>\n",
       "      <th>0</th>\n",
       "      <td>id3109230</td>\n",
       "      <td>5,225.2000</td>\n",
       "      <td>701.5000</td>\n",
       "      <td>8</td>\n",
       "      <td>East 29th Street</td>\n",
       "      <td>West Street</td>\n",
       "    </tr>\n",
       "    <tr>\n",
       "      <th>1</th>\n",
       "      <td>id2725273</td>\n",
       "      <td>2,346.9000</td>\n",
       "      <td>250.8000</td>\n",
       "      <td>7</td>\n",
       "      <td>7th Avenue</td>\n",
       "      <td>East 42nd Street</td>\n",
       "    </tr>\n",
       "    <tr>\n",
       "      <th>2</th>\n",
       "      <td>id1101610</td>\n",
       "      <td>1,690.2000</td>\n",
       "      <td>183.7000</td>\n",
       "      <td>8</td>\n",
       "      <td>Amsterdam Avenue</td>\n",
       "      <td>West 60th Street</td>\n",
       "    </tr>\n",
       "    <tr>\n",
       "      <th>3</th>\n",
       "      <td>id0502191</td>\n",
       "      <td>2,414.4000</td>\n",
       "      <td>229.2000</td>\n",
       "      <td>6</td>\n",
       "      <td>West 75th Street</td>\n",
       "      <td>East 79th Street</td>\n",
       "    </tr>\n",
       "    <tr>\n",
       "      <th>4</th>\n",
       "      <td>id0002695</td>\n",
       "      <td>2,742.1000</td>\n",
       "      <td>260.8000</td>\n",
       "      <td>6</td>\n",
       "      <td>7th Avenue</td>\n",
       "      <td>Park Avenue Tunnel</td>\n",
       "    </tr>\n",
       "  </tbody>\n",
       "</table>\n",
       "</div>"
      ],
      "text/plain": [
       "          id  total_distance  total_travel_time  number_of_steps  \\\n",
       "0  id3109230      5,225.2000           701.5000                8   \n",
       "1  id2725273      2,346.9000           250.8000                7   \n",
       "2  id1101610      1,690.2000           183.7000                8   \n",
       "3  id0502191      2,414.4000           229.2000                6   \n",
       "4  id0002695      2,742.1000           260.8000                6   \n",
       "\n",
       "    starting_street          end_street  \n",
       "0  East 29th Street         West Street  \n",
       "1        7th Avenue    East 42nd Street  \n",
       "2  Amsterdam Avenue    West 60th Street  \n",
       "3  West 75th Street    East 79th Street  \n",
       "4        7th Avenue  Park Avenue Tunnel  "
      ]
     },
     "execution_count": 12,
     "metadata": {},
     "output_type": "execute_result"
    }
   ],
   "source": [
    "eval_osm_data = eval_osm[col_use]\n",
    "eval_osm_data[:5] "
   ]
  },
  {
   "cell_type": "code",
   "execution_count": 14,
   "metadata": {
    "ExecuteTime": {
     "end_time": "2017-07-28T13:09:04.075517Z",
     "start_time": "2017-07-28T13:09:03.997388Z"
    },
    "collapsed": true
   },
   "outputs": [],
   "source": [
    "del train_osm"
   ]
  },
  {
   "cell_type": "code",
   "execution_count": 15,
   "metadata": {
    "ExecuteTime": {
     "end_time": "2017-07-28T13:09:04.297891Z",
     "start_time": "2017-07-28T13:09:04.077523Z"
    },
    "collapsed": true
   },
   "outputs": [],
   "source": [
    "del eval_osm"
   ]
  },
  {
   "cell_type": "markdown",
   "metadata": {},
   "source": [
    "### Combine train data and eval data"
   ]
  },
  {
   "cell_type": "code",
   "execution_count": 14,
   "metadata": {
    "ExecuteTime": {
     "end_time": "2017-08-01T04:36:38.150340Z",
     "start_time": "2017-08-01T04:36:35.793873Z"
    }
   },
   "outputs": [
    {
     "data": {
      "text/html": [
       "<div>\n",
       "<style>\n",
       "    .dataframe thead tr:only-child th {\n",
       "        text-align: right;\n",
       "    }\n",
       "\n",
       "    .dataframe thead th {\n",
       "        text-align: left;\n",
       "    }\n",
       "\n",
       "    .dataframe tbody tr th {\n",
       "        vertical-align: top;\n",
       "    }\n",
       "</style>\n",
       "<table border=\"1\" class=\"dataframe\">\n",
       "  <thead>\n",
       "    <tr style=\"text-align: right;\">\n",
       "      <th></th>\n",
       "      <th>id</th>\n",
       "      <th>total_distance</th>\n",
       "      <th>total_travel_time</th>\n",
       "      <th>number_of_steps</th>\n",
       "      <th>starting_street</th>\n",
       "      <th>end_street</th>\n",
       "      <th>vendor_id</th>\n",
       "      <th>pickup_datetime</th>\n",
       "      <th>dropoff_datetime</th>\n",
       "      <th>passenger_count</th>\n",
       "      <th>pickup_longitude</th>\n",
       "      <th>pickup_latitude</th>\n",
       "      <th>dropoff_longitude</th>\n",
       "      <th>dropoff_latitude</th>\n",
       "      <th>store_and_fwd_flag</th>\n",
       "      <th>trip_duration</th>\n",
       "    </tr>\n",
       "  </thead>\n",
       "  <tbody>\n",
       "    <tr>\n",
       "      <th>0</th>\n",
       "      <td>id2085575</td>\n",
       "      <td>3,588.5000</td>\n",
       "      <td>359.8000</td>\n",
       "      <td>7</td>\n",
       "      <td>Center Boulevard</td>\n",
       "      <td>West 29th Street</td>\n",
       "      <td>2</td>\n",
       "      <td>2016-03-18 13:47:52</td>\n",
       "      <td>2016-03-18 14:25:40</td>\n",
       "      <td>5</td>\n",
       "      <td>-73.9653</td>\n",
       "      <td>40.7526</td>\n",
       "      <td>-73.9947</td>\n",
       "      <td>40.7486</td>\n",
       "      <td>N</td>\n",
       "      <td>2268</td>\n",
       "    </tr>\n",
       "    <tr>\n",
       "      <th>1</th>\n",
       "      <td>id0633227</td>\n",
       "      <td>3,935.6000</td>\n",
       "      <td>358.0000</td>\n",
       "      <td>7</td>\n",
       "      <td>East 42nd Street</td>\n",
       "      <td>East 78th Street</td>\n",
       "      <td>1</td>\n",
       "      <td>2016-03-01 19:24:44</td>\n",
       "      <td>2016-03-01 19:40:36</td>\n",
       "      <td>1</td>\n",
       "      <td>-73.9790</td>\n",
       "      <td>40.7526</td>\n",
       "      <td>-73.9516</td>\n",
       "      <td>40.7709</td>\n",
       "      <td>N</td>\n",
       "      <td>952</td>\n",
       "    </tr>\n",
       "    <tr>\n",
       "      <th>2</th>\n",
       "      <td>id1356036</td>\n",
       "      <td>3,468.3000</td>\n",
       "      <td>228.2000</td>\n",
       "      <td>10</td>\n",
       "      <td>West 74th Street</td>\n",
       "      <td>Joe DiMaggio Highway</td>\n",
       "      <td>2</td>\n",
       "      <td>2016-05-20 22:49:05</td>\n",
       "      <td>2016-05-20 22:54:43</td>\n",
       "      <td>1</td>\n",
       "      <td>-73.9813</td>\n",
       "      <td>40.7801</td>\n",
       "      <td>-73.9920</td>\n",
       "      <td>40.7743</td>\n",
       "      <td>N</td>\n",
       "      <td>338</td>\n",
       "    </tr>\n",
       "    <tr>\n",
       "      <th>3</th>\n",
       "      <td>id2360318</td>\n",
       "      <td>2,369.6000</td>\n",
       "      <td>240.0000</td>\n",
       "      <td>5</td>\n",
       "      <td>East 31st Street</td>\n",
       "      <td>Park Avenue</td>\n",
       "      <td>2</td>\n",
       "      <td>2016-05-23 09:55:24</td>\n",
       "      <td>2016-05-23 10:05:50</td>\n",
       "      <td>1</td>\n",
       "      <td>-73.9808</td>\n",
       "      <td>40.7445</td>\n",
       "      <td>-73.9710</td>\n",
       "      <td>40.7615</td>\n",
       "      <td>N</td>\n",
       "      <td>626</td>\n",
       "    </tr>\n",
       "    <tr>\n",
       "      <th>4</th>\n",
       "      <td>id1397932</td>\n",
       "      <td>3,050.7000</td>\n",
       "      <td>415.1000</td>\n",
       "      <td>9</td>\n",
       "      <td>Cleveland Place</td>\n",
       "      <td>East 28th Street</td>\n",
       "      <td>1</td>\n",
       "      <td>2016-06-02 20:01:15</td>\n",
       "      <td>2016-06-02 20:16:00</td>\n",
       "      <td>1</td>\n",
       "      <td>-73.9974</td>\n",
       "      <td>40.7212</td>\n",
       "      <td>-73.9843</td>\n",
       "      <td>40.7434</td>\n",
       "      <td>N</td>\n",
       "      <td>885</td>\n",
       "    </tr>\n",
       "  </tbody>\n",
       "</table>\n",
       "</div>"
      ],
      "text/plain": [
       "          id  total_distance  total_travel_time  number_of_steps  \\\n",
       "0  id2085575      3,588.5000           359.8000                7   \n",
       "1  id0633227      3,935.6000           358.0000                7   \n",
       "2  id1356036      3,468.3000           228.2000               10   \n",
       "3  id2360318      2,369.6000           240.0000                5   \n",
       "4  id1397932      3,050.7000           415.1000                9   \n",
       "\n",
       "    starting_street            end_street  vendor_id      pickup_datetime  \\\n",
       "0  Center Boulevard      West 29th Street          2  2016-03-18 13:47:52   \n",
       "1  East 42nd Street      East 78th Street          1  2016-03-01 19:24:44   \n",
       "2  West 74th Street  Joe DiMaggio Highway          2  2016-05-20 22:49:05   \n",
       "3  East 31st Street           Park Avenue          2  2016-05-23 09:55:24   \n",
       "4   Cleveland Place      East 28th Street          1  2016-06-02 20:01:15   \n",
       "\n",
       "      dropoff_datetime  passenger_count  pickup_longitude  pickup_latitude  \\\n",
       "0  2016-03-18 14:25:40                5          -73.9653          40.7526   \n",
       "1  2016-03-01 19:40:36                1          -73.9790          40.7526   \n",
       "2  2016-05-20 22:54:43                1          -73.9813          40.7801   \n",
       "3  2016-05-23 10:05:50                1          -73.9808          40.7445   \n",
       "4  2016-06-02 20:16:00                1          -73.9974          40.7212   \n",
       "\n",
       "   dropoff_longitude  dropoff_latitude store_and_fwd_flag  trip_duration  \n",
       "0           -73.9947           40.7486                  N           2268  \n",
       "1           -73.9516           40.7709                  N            952  \n",
       "2           -73.9920           40.7743                  N            338  \n",
       "3           -73.9710           40.7615                  N            626  \n",
       "4           -73.9843           40.7434                  N            885  "
      ]
     },
     "execution_count": 14,
     "metadata": {},
     "output_type": "execute_result"
    }
   ],
   "source": [
    "train_data = train_osm_data.join(train_data.set_index('id'), on='id')\n",
    "train_data[:5]"
   ]
  },
  {
   "cell_type": "code",
   "execution_count": 15,
   "metadata": {
    "ExecuteTime": {
     "end_time": "2017-08-01T04:36:38.913193Z",
     "start_time": "2017-08-01T04:36:38.151740Z"
    },
    "scrolled": true
   },
   "outputs": [
    {
     "data": {
      "text/html": [
       "<div>\n",
       "<style>\n",
       "    .dataframe thead tr:only-child th {\n",
       "        text-align: right;\n",
       "    }\n",
       "\n",
       "    .dataframe thead th {\n",
       "        text-align: left;\n",
       "    }\n",
       "\n",
       "    .dataframe tbody tr th {\n",
       "        vertical-align: top;\n",
       "    }\n",
       "</style>\n",
       "<table border=\"1\" class=\"dataframe\">\n",
       "  <thead>\n",
       "    <tr style=\"text-align: right;\">\n",
       "      <th></th>\n",
       "      <th>id</th>\n",
       "      <th>total_distance</th>\n",
       "      <th>total_travel_time</th>\n",
       "      <th>number_of_steps</th>\n",
       "      <th>starting_street</th>\n",
       "      <th>end_street</th>\n",
       "      <th>vendor_id</th>\n",
       "      <th>pickup_datetime</th>\n",
       "      <th>passenger_count</th>\n",
       "      <th>pickup_longitude</th>\n",
       "      <th>pickup_latitude</th>\n",
       "      <th>dropoff_longitude</th>\n",
       "      <th>dropoff_latitude</th>\n",
       "      <th>store_and_fwd_flag</th>\n",
       "    </tr>\n",
       "  </thead>\n",
       "  <tbody>\n",
       "    <tr>\n",
       "      <th>0</th>\n",
       "      <td>id3109230</td>\n",
       "      <td>5,225.2000</td>\n",
       "      <td>701.5000</td>\n",
       "      <td>8</td>\n",
       "      <td>East 29th Street</td>\n",
       "      <td>West Street</td>\n",
       "      <td>1</td>\n",
       "      <td>2016-02-12 07:59:49</td>\n",
       "      <td>1</td>\n",
       "      <td>-73.9762</td>\n",
       "      <td>40.7409</td>\n",
       "      <td>-74.0137</td>\n",
       "      <td>40.7151</td>\n",
       "      <td>N</td>\n",
       "    </tr>\n",
       "    <tr>\n",
       "      <th>1</th>\n",
       "      <td>id2725273</td>\n",
       "      <td>2,346.9000</td>\n",
       "      <td>250.8000</td>\n",
       "      <td>7</td>\n",
       "      <td>7th Avenue</td>\n",
       "      <td>East 42nd Street</td>\n",
       "      <td>2</td>\n",
       "      <td>2016-01-01 16:11:51</td>\n",
       "      <td>1</td>\n",
       "      <td>-73.9919</td>\n",
       "      <td>40.7500</td>\n",
       "      <td>-73.9711</td>\n",
       "      <td>40.7495</td>\n",
       "      <td>N</td>\n",
       "    </tr>\n",
       "    <tr>\n",
       "      <th>2</th>\n",
       "      <td>id1101610</td>\n",
       "      <td>1,690.2000</td>\n",
       "      <td>183.7000</td>\n",
       "      <td>8</td>\n",
       "      <td>Amsterdam Avenue</td>\n",
       "      <td>West 60th Street</td>\n",
       "      <td>1</td>\n",
       "      <td>2016-05-18 07:53:45</td>\n",
       "      <td>1</td>\n",
       "      <td>-73.9835</td>\n",
       "      <td>40.7764</td>\n",
       "      <td>-73.9845</td>\n",
       "      <td>40.7701</td>\n",
       "      <td>N</td>\n",
       "    </tr>\n",
       "    <tr>\n",
       "      <th>3</th>\n",
       "      <td>id0502191</td>\n",
       "      <td>2,414.4000</td>\n",
       "      <td>229.2000</td>\n",
       "      <td>6</td>\n",
       "      <td>West 75th Street</td>\n",
       "      <td>East 79th Street</td>\n",
       "      <td>1</td>\n",
       "      <td>2016-05-04 11:51:02</td>\n",
       "      <td>1</td>\n",
       "      <td>-73.9798</td>\n",
       "      <td>40.7805</td>\n",
       "      <td>-73.9599</td>\n",
       "      <td>40.7755</td>\n",
       "      <td>N</td>\n",
       "    </tr>\n",
       "    <tr>\n",
       "      <th>4</th>\n",
       "      <td>id0002695</td>\n",
       "      <td>2,742.1000</td>\n",
       "      <td>260.8000</td>\n",
       "      <td>6</td>\n",
       "      <td>7th Avenue</td>\n",
       "      <td>Park Avenue Tunnel</td>\n",
       "      <td>1</td>\n",
       "      <td>2016-01-13 21:16:48</td>\n",
       "      <td>1</td>\n",
       "      <td>-73.9828</td>\n",
       "      <td>40.7616</td>\n",
       "      <td>-73.9812</td>\n",
       "      <td>40.7472</td>\n",
       "      <td>N</td>\n",
       "    </tr>\n",
       "  </tbody>\n",
       "</table>\n",
       "</div>"
      ],
      "text/plain": [
       "          id  total_distance  total_travel_time  number_of_steps  \\\n",
       "0  id3109230      5,225.2000           701.5000                8   \n",
       "1  id2725273      2,346.9000           250.8000                7   \n",
       "2  id1101610      1,690.2000           183.7000                8   \n",
       "3  id0502191      2,414.4000           229.2000                6   \n",
       "4  id0002695      2,742.1000           260.8000                6   \n",
       "\n",
       "    starting_street          end_street  vendor_id      pickup_datetime  \\\n",
       "0  East 29th Street         West Street          1  2016-02-12 07:59:49   \n",
       "1        7th Avenue    East 42nd Street          2  2016-01-01 16:11:51   \n",
       "2  Amsterdam Avenue    West 60th Street          1  2016-05-18 07:53:45   \n",
       "3  West 75th Street    East 79th Street          1  2016-05-04 11:51:02   \n",
       "4        7th Avenue  Park Avenue Tunnel          1  2016-01-13 21:16:48   \n",
       "\n",
       "   passenger_count  pickup_longitude  pickup_latitude  dropoff_longitude  \\\n",
       "0                1          -73.9762          40.7409           -74.0137   \n",
       "1                1          -73.9919          40.7500           -73.9711   \n",
       "2                1          -73.9835          40.7764           -73.9845   \n",
       "3                1          -73.9798          40.7805           -73.9599   \n",
       "4                1          -73.9828          40.7616           -73.9812   \n",
       "\n",
       "   dropoff_latitude store_and_fwd_flag  \n",
       "0           40.7151                  N  \n",
       "1           40.7495                  N  \n",
       "2           40.7701                  N  \n",
       "3           40.7755                  N  \n",
       "4           40.7472                  N  "
      ]
     },
     "execution_count": 15,
     "metadata": {},
     "output_type": "execute_result"
    }
   ],
   "source": [
    "eval_data = eval_osm_data.join(eval_data.set_index('id'), on='id')\n",
    "eval_data[:5]"
   ]
  },
  {
   "cell_type": "code",
   "execution_count": 16,
   "metadata": {
    "ExecuteTime": {
     "end_time": "2017-08-01T04:36:38.916903Z",
     "start_time": "2017-08-01T04:36:38.914667Z"
    },
    "collapsed": true
   },
   "outputs": [],
   "source": [
    "del train_osm_data\n",
    "del eval_osm_data"
   ]
  },
  {
   "cell_type": "code",
   "execution_count": 17,
   "metadata": {
    "ExecuteTime": {
     "end_time": "2017-08-01T04:36:41.209085Z",
     "start_time": "2017-08-01T04:36:38.918335Z"
    }
   },
   "outputs": [
    {
     "name": "stdout",
     "output_type": "stream",
     "text": [
      "combine data: 2083777\n"
     ]
    },
    {
     "data": {
      "text/html": [
       "<div>\n",
       "<style>\n",
       "    .dataframe thead tr:only-child th {\n",
       "        text-align: right;\n",
       "    }\n",
       "\n",
       "    .dataframe thead th {\n",
       "        text-align: left;\n",
       "    }\n",
       "\n",
       "    .dataframe tbody tr th {\n",
       "        vertical-align: top;\n",
       "    }\n",
       "</style>\n",
       "<table border=\"1\" class=\"dataframe\">\n",
       "  <thead>\n",
       "    <tr style=\"text-align: right;\">\n",
       "      <th></th>\n",
       "      <th></th>\n",
       "      <th>id</th>\n",
       "      <th>total_distance</th>\n",
       "      <th>total_travel_time</th>\n",
       "      <th>number_of_steps</th>\n",
       "      <th>starting_street</th>\n",
       "      <th>end_street</th>\n",
       "      <th>vendor_id</th>\n",
       "      <th>pickup_datetime</th>\n",
       "      <th>passenger_count</th>\n",
       "      <th>pickup_longitude</th>\n",
       "      <th>pickup_latitude</th>\n",
       "      <th>dropoff_longitude</th>\n",
       "      <th>dropoff_latitude</th>\n",
       "      <th>store_and_fwd_flag</th>\n",
       "    </tr>\n",
       "  </thead>\n",
       "  <tbody>\n",
       "    <tr>\n",
       "      <th rowspan=\"5\" valign=\"top\">train</th>\n",
       "      <th>0</th>\n",
       "      <td>id2085575</td>\n",
       "      <td>3,588.5000</td>\n",
       "      <td>359.8000</td>\n",
       "      <td>7</td>\n",
       "      <td>Center Boulevard</td>\n",
       "      <td>West 29th Street</td>\n",
       "      <td>2</td>\n",
       "      <td>2016-03-18 13:47:52</td>\n",
       "      <td>5</td>\n",
       "      <td>-73.9653</td>\n",
       "      <td>40.7526</td>\n",
       "      <td>-73.9947</td>\n",
       "      <td>40.7486</td>\n",
       "      <td>N</td>\n",
       "    </tr>\n",
       "    <tr>\n",
       "      <th>1</th>\n",
       "      <td>id0633227</td>\n",
       "      <td>3,935.6000</td>\n",
       "      <td>358.0000</td>\n",
       "      <td>7</td>\n",
       "      <td>East 42nd Street</td>\n",
       "      <td>East 78th Street</td>\n",
       "      <td>1</td>\n",
       "      <td>2016-03-01 19:24:44</td>\n",
       "      <td>1</td>\n",
       "      <td>-73.9790</td>\n",
       "      <td>40.7526</td>\n",
       "      <td>-73.9516</td>\n",
       "      <td>40.7709</td>\n",
       "      <td>N</td>\n",
       "    </tr>\n",
       "    <tr>\n",
       "      <th>2</th>\n",
       "      <td>id1356036</td>\n",
       "      <td>3,468.3000</td>\n",
       "      <td>228.2000</td>\n",
       "      <td>10</td>\n",
       "      <td>West 74th Street</td>\n",
       "      <td>Joe DiMaggio Highway</td>\n",
       "      <td>2</td>\n",
       "      <td>2016-05-20 22:49:05</td>\n",
       "      <td>1</td>\n",
       "      <td>-73.9813</td>\n",
       "      <td>40.7801</td>\n",
       "      <td>-73.9920</td>\n",
       "      <td>40.7743</td>\n",
       "      <td>N</td>\n",
       "    </tr>\n",
       "    <tr>\n",
       "      <th>3</th>\n",
       "      <td>id2360318</td>\n",
       "      <td>2,369.6000</td>\n",
       "      <td>240.0000</td>\n",
       "      <td>5</td>\n",
       "      <td>East 31st Street</td>\n",
       "      <td>Park Avenue</td>\n",
       "      <td>2</td>\n",
       "      <td>2016-05-23 09:55:24</td>\n",
       "      <td>1</td>\n",
       "      <td>-73.9808</td>\n",
       "      <td>40.7445</td>\n",
       "      <td>-73.9710</td>\n",
       "      <td>40.7615</td>\n",
       "      <td>N</td>\n",
       "    </tr>\n",
       "    <tr>\n",
       "      <th>4</th>\n",
       "      <td>id1397932</td>\n",
       "      <td>3,050.7000</td>\n",
       "      <td>415.1000</td>\n",
       "      <td>9</td>\n",
       "      <td>Cleveland Place</td>\n",
       "      <td>East 28th Street</td>\n",
       "      <td>1</td>\n",
       "      <td>2016-06-02 20:01:15</td>\n",
       "      <td>1</td>\n",
       "      <td>-73.9974</td>\n",
       "      <td>40.7212</td>\n",
       "      <td>-73.9843</td>\n",
       "      <td>40.7434</td>\n",
       "      <td>N</td>\n",
       "    </tr>\n",
       "  </tbody>\n",
       "</table>\n",
       "</div>"
      ],
      "text/plain": [
       "                id  total_distance  total_travel_time  number_of_steps  \\\n",
       "train 0  id2085575      3,588.5000           359.8000                7   \n",
       "      1  id0633227      3,935.6000           358.0000                7   \n",
       "      2  id1356036      3,468.3000           228.2000               10   \n",
       "      3  id2360318      2,369.6000           240.0000                5   \n",
       "      4  id1397932      3,050.7000           415.1000                9   \n",
       "\n",
       "          starting_street            end_street  vendor_id  \\\n",
       "train 0  Center Boulevard      West 29th Street          2   \n",
       "      1  East 42nd Street      East 78th Street          1   \n",
       "      2  West 74th Street  Joe DiMaggio Highway          2   \n",
       "      3  East 31st Street           Park Avenue          2   \n",
       "      4   Cleveland Place      East 28th Street          1   \n",
       "\n",
       "             pickup_datetime  passenger_count  pickup_longitude  \\\n",
       "train 0  2016-03-18 13:47:52                5          -73.9653   \n",
       "      1  2016-03-01 19:24:44                1          -73.9790   \n",
       "      2  2016-05-20 22:49:05                1          -73.9813   \n",
       "      3  2016-05-23 09:55:24                1          -73.9808   \n",
       "      4  2016-06-02 20:01:15                1          -73.9974   \n",
       "\n",
       "         pickup_latitude  dropoff_longitude  dropoff_latitude  \\\n",
       "train 0          40.7526           -73.9947           40.7486   \n",
       "      1          40.7526           -73.9516           40.7709   \n",
       "      2          40.7801           -73.9920           40.7743   \n",
       "      3          40.7445           -73.9710           40.7615   \n",
       "      4          40.7212           -73.9843           40.7434   \n",
       "\n",
       "        store_and_fwd_flag  \n",
       "train 0                  N  \n",
       "      1                  N  \n",
       "      2                  N  \n",
       "      3                  N  \n",
       "      4                  N  "
      ]
     },
     "execution_count": 17,
     "metadata": {},
     "output_type": "execute_result"
    }
   ],
   "source": [
    "label = 'trip_duration'\n",
    "features = eval_data.columns.values\n",
    "target = train_data[label]\n",
    "combine_data = pd.concat([train_data[features], eval_data], keys=['train','eval'])\n",
    "print(\"combine data:\", len(combine_data))\n",
    "combine_data.head(5)"
   ]
  },
  {
   "cell_type": "markdown",
   "metadata": {},
   "source": [
    "### Load weather data set"
   ]
  },
  {
   "cell_type": "code",
   "execution_count": 13,
   "metadata": {
    "ExecuteTime": {
     "end_time": "2017-08-01T04:35:48.659379Z",
     "start_time": "2017-08-01T04:35:48.643580Z"
    }
   },
   "outputs": [
    {
     "name": "stdout",
     "output_type": "stream",
     "text": [
      "366\n"
     ]
    },
    {
     "data": {
      "text/html": [
       "<div>\n",
       "<style>\n",
       "    .dataframe thead tr:only-child th {\n",
       "        text-align: right;\n",
       "    }\n",
       "\n",
       "    .dataframe thead th {\n",
       "        text-align: left;\n",
       "    }\n",
       "\n",
       "    .dataframe tbody tr th {\n",
       "        vertical-align: top;\n",
       "    }\n",
       "</style>\n",
       "<table border=\"1\" class=\"dataframe\">\n",
       "  <thead>\n",
       "    <tr style=\"text-align: right;\">\n",
       "      <th></th>\n",
       "      <th>date</th>\n",
       "      <th>maximum temerature</th>\n",
       "      <th>minimum temperature</th>\n",
       "      <th>average temperature</th>\n",
       "      <th>precipitation</th>\n",
       "      <th>snow fall</th>\n",
       "      <th>snow depth</th>\n",
       "    </tr>\n",
       "  </thead>\n",
       "  <tbody>\n",
       "    <tr>\n",
       "      <th>0</th>\n",
       "      <td>1-1-2016</td>\n",
       "      <td>42</td>\n",
       "      <td>34</td>\n",
       "      <td>38.0000</td>\n",
       "      <td>0.00</td>\n",
       "      <td>0.0</td>\n",
       "      <td>0</td>\n",
       "    </tr>\n",
       "    <tr>\n",
       "      <th>1</th>\n",
       "      <td>2-1-2016</td>\n",
       "      <td>40</td>\n",
       "      <td>32</td>\n",
       "      <td>36.0000</td>\n",
       "      <td>0.00</td>\n",
       "      <td>0.0</td>\n",
       "      <td>0</td>\n",
       "    </tr>\n",
       "    <tr>\n",
       "      <th>2</th>\n",
       "      <td>3-1-2016</td>\n",
       "      <td>45</td>\n",
       "      <td>35</td>\n",
       "      <td>40.0000</td>\n",
       "      <td>0.00</td>\n",
       "      <td>0.0</td>\n",
       "      <td>0</td>\n",
       "    </tr>\n",
       "    <tr>\n",
       "      <th>3</th>\n",
       "      <td>4-1-2016</td>\n",
       "      <td>36</td>\n",
       "      <td>14</td>\n",
       "      <td>25.0000</td>\n",
       "      <td>0.00</td>\n",
       "      <td>0.0</td>\n",
       "      <td>0</td>\n",
       "    </tr>\n",
       "    <tr>\n",
       "      <th>4</th>\n",
       "      <td>5-1-2016</td>\n",
       "      <td>29</td>\n",
       "      <td>11</td>\n",
       "      <td>20.0000</td>\n",
       "      <td>0.00</td>\n",
       "      <td>0.0</td>\n",
       "      <td>0</td>\n",
       "    </tr>\n",
       "  </tbody>\n",
       "</table>\n",
       "</div>"
      ],
      "text/plain": [
       "       date  maximum temerature  minimum temperature  average temperature  \\\n",
       "0  1-1-2016                  42                   34              38.0000   \n",
       "1  2-1-2016                  40                   32              36.0000   \n",
       "2  3-1-2016                  45                   35              40.0000   \n",
       "3  4-1-2016                  36                   14              25.0000   \n",
       "4  5-1-2016                  29                   11              20.0000   \n",
       "\n",
       "  precipitation snow fall snow depth  \n",
       "0          0.00       0.0          0  \n",
       "1          0.00       0.0          0  \n",
       "2          0.00       0.0          0  \n",
       "3          0.00       0.0          0  \n",
       "4          0.00       0.0          0  "
      ]
     },
     "execution_count": 13,
     "metadata": {},
     "output_type": "execute_result"
    }
   ],
   "source": [
    "weather_data = pd.read_csv(DATA_DIR + \"/weather_data_nyc_centralpark_2016.csv\")\n",
    "print(len(weather_data))\n",
    "weather_data[:5]"
   ]
  },
  {
   "cell_type": "code",
   "execution_count": 59,
   "metadata": {
    "ExecuteTime": {
     "end_time": "2017-08-01T07:24:41.203460Z",
     "start_time": "2017-08-01T07:24:41.195106Z"
    },
    "scrolled": false
   },
   "outputs": [
    {
     "data": {
      "text/plain": [
       "date                    object\n",
       "maximum temerature       int64\n",
       "minimum temperature      int64\n",
       "average temperature    float64\n",
       "precipitation           object\n",
       "snow fall               object\n",
       "snow depth              object\n",
       "date_obj                object\n",
       "dtype: object"
      ]
     },
     "execution_count": 59,
     "metadata": {},
     "output_type": "execute_result"
    }
   ],
   "source": [
    "weather_data.dtypes"
   ]
  },
  {
   "cell_type": "markdown",
   "metadata": {},
   "source": [
    "#### Convert date to DateTime obj"
   ]
  },
  {
   "cell_type": "code",
   "execution_count": 57,
   "metadata": {
    "ExecuteTime": {
     "end_time": "2017-08-01T07:24:31.376348Z",
     "start_time": "2017-08-01T07:24:31.179566Z"
    }
   },
   "outputs": [],
   "source": [
    "weather_data.loc[:, 'date_obj'] = pd.to_datetime(weather_data['date'], dayfirst=True).dt.date"
   ]
  },
  {
   "cell_type": "code",
   "execution_count": 58,
   "metadata": {
    "ExecuteTime": {
     "end_time": "2017-08-01T07:24:37.648134Z",
     "start_time": "2017-08-01T07:24:37.636067Z"
    }
   },
   "outputs": [
    {
     "data": {
      "text/html": [
       "<div>\n",
       "<style>\n",
       "    .dataframe thead tr:only-child th {\n",
       "        text-align: right;\n",
       "    }\n",
       "\n",
       "    .dataframe thead th {\n",
       "        text-align: left;\n",
       "    }\n",
       "\n",
       "    .dataframe tbody tr th {\n",
       "        vertical-align: top;\n",
       "    }\n",
       "</style>\n",
       "<table border=\"1\" class=\"dataframe\">\n",
       "  <thead>\n",
       "    <tr style=\"text-align: right;\">\n",
       "      <th></th>\n",
       "      <th>date</th>\n",
       "      <th>maximum temerature</th>\n",
       "      <th>minimum temperature</th>\n",
       "      <th>average temperature</th>\n",
       "      <th>precipitation</th>\n",
       "      <th>snow fall</th>\n",
       "      <th>snow depth</th>\n",
       "      <th>date_obj</th>\n",
       "    </tr>\n",
       "  </thead>\n",
       "  <tbody>\n",
       "    <tr>\n",
       "      <th>0</th>\n",
       "      <td>1-1-2016</td>\n",
       "      <td>42</td>\n",
       "      <td>34</td>\n",
       "      <td>38.0000</td>\n",
       "      <td>0.00</td>\n",
       "      <td>0.0</td>\n",
       "      <td>0</td>\n",
       "      <td>2016-01-01</td>\n",
       "    </tr>\n",
       "    <tr>\n",
       "      <th>1</th>\n",
       "      <td>2-1-2016</td>\n",
       "      <td>40</td>\n",
       "      <td>32</td>\n",
       "      <td>36.0000</td>\n",
       "      <td>0.00</td>\n",
       "      <td>0.0</td>\n",
       "      <td>0</td>\n",
       "      <td>2016-01-02</td>\n",
       "    </tr>\n",
       "    <tr>\n",
       "      <th>2</th>\n",
       "      <td>3-1-2016</td>\n",
       "      <td>45</td>\n",
       "      <td>35</td>\n",
       "      <td>40.0000</td>\n",
       "      <td>0.00</td>\n",
       "      <td>0.0</td>\n",
       "      <td>0</td>\n",
       "      <td>2016-01-03</td>\n",
       "    </tr>\n",
       "    <tr>\n",
       "      <th>3</th>\n",
       "      <td>4-1-2016</td>\n",
       "      <td>36</td>\n",
       "      <td>14</td>\n",
       "      <td>25.0000</td>\n",
       "      <td>0.00</td>\n",
       "      <td>0.0</td>\n",
       "      <td>0</td>\n",
       "      <td>2016-01-04</td>\n",
       "    </tr>\n",
       "    <tr>\n",
       "      <th>4</th>\n",
       "      <td>5-1-2016</td>\n",
       "      <td>29</td>\n",
       "      <td>11</td>\n",
       "      <td>20.0000</td>\n",
       "      <td>0.00</td>\n",
       "      <td>0.0</td>\n",
       "      <td>0</td>\n",
       "      <td>2016-01-05</td>\n",
       "    </tr>\n",
       "  </tbody>\n",
       "</table>\n",
       "</div>"
      ],
      "text/plain": [
       "       date  maximum temerature  minimum temperature  average temperature  \\\n",
       "0  1-1-2016                  42                   34              38.0000   \n",
       "1  2-1-2016                  40                   32              36.0000   \n",
       "2  3-1-2016                  45                   35              40.0000   \n",
       "3  4-1-2016                  36                   14              25.0000   \n",
       "4  5-1-2016                  29                   11              20.0000   \n",
       "\n",
       "  precipitation snow fall snow depth    date_obj  \n",
       "0          0.00       0.0          0  2016-01-01  \n",
       "1          0.00       0.0          0  2016-01-02  \n",
       "2          0.00       0.0          0  2016-01-03  \n",
       "3          0.00       0.0          0  2016-01-04  \n",
       "4          0.00       0.0          0  2016-01-05  "
      ]
     },
     "execution_count": 58,
     "metadata": {},
     "output_type": "execute_result"
    }
   ],
   "source": [
    "weather_data[:5]"
   ]
  },
  {
   "cell_type": "code",
   "execution_count": 55,
   "metadata": {
    "ExecuteTime": {
     "end_time": "2017-08-01T07:23:20.712278Z",
     "start_time": "2017-08-01T07:23:20.666689Z"
    }
   },
   "outputs": [
    {
     "data": {
      "text/html": [
       "<div>\n",
       "<style>\n",
       "    .dataframe thead tr:only-child th {\n",
       "        text-align: right;\n",
       "    }\n",
       "\n",
       "    .dataframe thead th {\n",
       "        text-align: left;\n",
       "    }\n",
       "\n",
       "    .dataframe tbody tr th {\n",
       "        vertical-align: top;\n",
       "    }\n",
       "</style>\n",
       "<table border=\"1\" class=\"dataframe\">\n",
       "  <thead>\n",
       "    <tr style=\"text-align: right;\">\n",
       "      <th></th>\n",
       "      <th>date</th>\n",
       "      <th>maximum temerature</th>\n",
       "      <th>minimum temperature</th>\n",
       "      <th>average temperature</th>\n",
       "      <th>precipitation</th>\n",
       "      <th>snow fall</th>\n",
       "      <th>snow depth</th>\n",
       "      <th>date_obj</th>\n",
       "    </tr>\n",
       "  </thead>\n",
       "  <tbody>\n",
       "    <tr>\n",
       "      <th>77</th>\n",
       "      <td>18-3-2016</td>\n",
       "      <td>57</td>\n",
       "      <td>42</td>\n",
       "      <td>49.5000</td>\n",
       "      <td>0.00</td>\n",
       "      <td>0.0</td>\n",
       "      <td>0</td>\n",
       "      <td>2016-03-18</td>\n",
       "    </tr>\n",
       "  </tbody>\n",
       "</table>\n",
       "</div>"
      ],
      "text/plain": [
       "         date  maximum temerature  minimum temperature  average temperature  \\\n",
       "77  18-3-2016                  57                   42              49.5000   \n",
       "\n",
       "   precipitation snow fall snow depth   date_obj  \n",
       "77          0.00       0.0          0 2016-03-18  "
      ]
     },
     "execution_count": 55,
     "metadata": {},
     "output_type": "execute_result"
    }
   ],
   "source": [
    "weather_data[weather_data['date_obj'] =='2016-03-18']"
   ]
  },
  {
   "cell_type": "markdown",
   "metadata": {},
   "source": [
    "### Combine combine_data and weather_data"
   ]
  },
  {
   "cell_type": "code",
   "execution_count": 48,
   "metadata": {
    "ExecuteTime": {
     "end_time": "2017-08-01T07:18:19.262274Z",
     "start_time": "2017-08-01T07:18:13.210515Z"
    }
   },
   "outputs": [],
   "source": [
    "combine_data.loc[:, 'date_obj'] = pd.to_datetime(combine_data['pickup_datetime'], format=\"%Y-%m-%d\").dt.date"
   ]
  },
  {
   "cell_type": "code",
   "execution_count": 49,
   "metadata": {
    "ExecuteTime": {
     "end_time": "2017-08-01T07:18:20.268417Z",
     "start_time": "2017-08-01T07:18:20.263447Z"
    }
   },
   "outputs": [
    {
     "data": {
      "text/plain": [
       "train  0    2016-03-18\n",
       "       1    2016-03-01\n",
       "       2    2016-05-20\n",
       "       3    2016-05-23\n",
       "       4    2016-06-02\n",
       "Name: date_obj, dtype: object"
      ]
     },
     "execution_count": 49,
     "metadata": {},
     "output_type": "execute_result"
    }
   ],
   "source": [
    "combine_data['date_obj'][:5]"
   ]
  },
  {
   "cell_type": "code",
   "execution_count": 62,
   "metadata": {
    "ExecuteTime": {
     "end_time": "2017-08-01T07:27:14.088018Z",
     "start_time": "2017-08-01T07:27:14.074132Z"
    }
   },
   "outputs": [
    {
     "data": {
      "text/html": [
       "<div>\n",
       "<style>\n",
       "    .dataframe thead tr:only-child th {\n",
       "        text-align: right;\n",
       "    }\n",
       "\n",
       "    .dataframe thead th {\n",
       "        text-align: left;\n",
       "    }\n",
       "\n",
       "    .dataframe tbody tr th {\n",
       "        vertical-align: top;\n",
       "    }\n",
       "</style>\n",
       "<table border=\"1\" class=\"dataframe\">\n",
       "  <thead>\n",
       "    <tr style=\"text-align: right;\">\n",
       "      <th></th>\n",
       "      <th>date</th>\n",
       "      <th>maximum temerature</th>\n",
       "      <th>minimum temperature</th>\n",
       "      <th>average temperature</th>\n",
       "      <th>precipitation</th>\n",
       "      <th>snow fall</th>\n",
       "      <th>snow depth</th>\n",
       "    </tr>\n",
       "    <tr>\n",
       "      <th>date_obj</th>\n",
       "      <th></th>\n",
       "      <th></th>\n",
       "      <th></th>\n",
       "      <th></th>\n",
       "      <th></th>\n",
       "      <th></th>\n",
       "      <th></th>\n",
       "    </tr>\n",
       "  </thead>\n",
       "  <tbody>\n",
       "    <tr>\n",
       "      <th>2016-01-01</th>\n",
       "      <td>1-1-2016</td>\n",
       "      <td>42</td>\n",
       "      <td>34</td>\n",
       "      <td>38.0000</td>\n",
       "      <td>0.00</td>\n",
       "      <td>0.0</td>\n",
       "      <td>0</td>\n",
       "    </tr>\n",
       "    <tr>\n",
       "      <th>2016-01-02</th>\n",
       "      <td>2-1-2016</td>\n",
       "      <td>40</td>\n",
       "      <td>32</td>\n",
       "      <td>36.0000</td>\n",
       "      <td>0.00</td>\n",
       "      <td>0.0</td>\n",
       "      <td>0</td>\n",
       "    </tr>\n",
       "    <tr>\n",
       "      <th>2016-01-03</th>\n",
       "      <td>3-1-2016</td>\n",
       "      <td>45</td>\n",
       "      <td>35</td>\n",
       "      <td>40.0000</td>\n",
       "      <td>0.00</td>\n",
       "      <td>0.0</td>\n",
       "      <td>0</td>\n",
       "    </tr>\n",
       "    <tr>\n",
       "      <th>2016-01-04</th>\n",
       "      <td>4-1-2016</td>\n",
       "      <td>36</td>\n",
       "      <td>14</td>\n",
       "      <td>25.0000</td>\n",
       "      <td>0.00</td>\n",
       "      <td>0.0</td>\n",
       "      <td>0</td>\n",
       "    </tr>\n",
       "    <tr>\n",
       "      <th>2016-01-05</th>\n",
       "      <td>5-1-2016</td>\n",
       "      <td>29</td>\n",
       "      <td>11</td>\n",
       "      <td>20.0000</td>\n",
       "      <td>0.00</td>\n",
       "      <td>0.0</td>\n",
       "      <td>0</td>\n",
       "    </tr>\n",
       "  </tbody>\n",
       "</table>\n",
       "</div>"
      ],
      "text/plain": [
       "                date  maximum temerature  minimum temperature  \\\n",
       "date_obj                                                        \n",
       "2016-01-01  1-1-2016                  42                   34   \n",
       "2016-01-02  2-1-2016                  40                   32   \n",
       "2016-01-03  3-1-2016                  45                   35   \n",
       "2016-01-04  4-1-2016                  36                   14   \n",
       "2016-01-05  5-1-2016                  29                   11   \n",
       "\n",
       "            average temperature precipitation snow fall snow depth  \n",
       "date_obj                                                            \n",
       "2016-01-01              38.0000          0.00       0.0          0  \n",
       "2016-01-02              36.0000          0.00       0.0          0  \n",
       "2016-01-03              40.0000          0.00       0.0          0  \n",
       "2016-01-04              25.0000          0.00       0.0          0  \n",
       "2016-01-05              20.0000          0.00       0.0          0  "
      ]
     },
     "execution_count": 62,
     "metadata": {},
     "output_type": "execute_result"
    }
   ],
   "source": [
    "weather_data_2 = weather_data.set_index('date_obj')\n",
    "weather_data_2[:5]"
   ]
  },
  {
   "cell_type": "code",
   "execution_count": 63,
   "metadata": {
    "ExecuteTime": {
     "end_time": "2017-08-01T07:27:39.772298Z",
     "start_time": "2017-08-01T07:27:39.098484Z"
    }
   },
   "outputs": [],
   "source": [
    "combine_data2 = combine_data.join(weather_data_2, on='date_obj')"
   ]
  },
  {
   "cell_type": "code",
   "execution_count": 64,
   "metadata": {
    "ExecuteTime": {
     "end_time": "2017-08-01T07:27:44.644185Z",
     "start_time": "2017-08-01T07:27:44.620138Z"
    },
    "scrolled": true
   },
   "outputs": [
    {
     "data": {
      "text/html": [
       "<div>\n",
       "<style>\n",
       "    .dataframe thead tr:only-child th {\n",
       "        text-align: right;\n",
       "    }\n",
       "\n",
       "    .dataframe thead th {\n",
       "        text-align: left;\n",
       "    }\n",
       "\n",
       "    .dataframe tbody tr th {\n",
       "        vertical-align: top;\n",
       "    }\n",
       "</style>\n",
       "<table border=\"1\" class=\"dataframe\">\n",
       "  <thead>\n",
       "    <tr style=\"text-align: right;\">\n",
       "      <th></th>\n",
       "      <th></th>\n",
       "      <th>id</th>\n",
       "      <th>total_distance</th>\n",
       "      <th>total_travel_time</th>\n",
       "      <th>number_of_steps</th>\n",
       "      <th>starting_street</th>\n",
       "      <th>end_street</th>\n",
       "      <th>vendor_id</th>\n",
       "      <th>pickup_datetime</th>\n",
       "      <th>passenger_count</th>\n",
       "      <th>pickup_longitude</th>\n",
       "      <th>...</th>\n",
       "      <th>pickup_hour</th>\n",
       "      <th>pickup_minute</th>\n",
       "      <th>date_obj</th>\n",
       "      <th>date</th>\n",
       "      <th>maximum temerature</th>\n",
       "      <th>minimum temperature</th>\n",
       "      <th>average temperature</th>\n",
       "      <th>precipitation</th>\n",
       "      <th>snow fall</th>\n",
       "      <th>snow depth</th>\n",
       "    </tr>\n",
       "  </thead>\n",
       "  <tbody>\n",
       "    <tr>\n",
       "      <th rowspan=\"5\" valign=\"top\">train</th>\n",
       "      <th>0</th>\n",
       "      <td>id2085575</td>\n",
       "      <td>3,588.5000</td>\n",
       "      <td>359.8000</td>\n",
       "      <td>7</td>\n",
       "      <td>Center Boulevard</td>\n",
       "      <td>West 29th Street</td>\n",
       "      <td>2</td>\n",
       "      <td>2016-03-18 13:47:52</td>\n",
       "      <td>5</td>\n",
       "      <td>-73.9653</td>\n",
       "      <td>...</td>\n",
       "      <td>13</td>\n",
       "      <td>47</td>\n",
       "      <td>2016-03-18</td>\n",
       "      <td>18-3-2016</td>\n",
       "      <td>57</td>\n",
       "      <td>42</td>\n",
       "      <td>49.5000</td>\n",
       "      <td>0.00</td>\n",
       "      <td>0.0</td>\n",
       "      <td>0</td>\n",
       "    </tr>\n",
       "    <tr>\n",
       "      <th>1</th>\n",
       "      <td>id0633227</td>\n",
       "      <td>3,935.6000</td>\n",
       "      <td>358.0000</td>\n",
       "      <td>7</td>\n",
       "      <td>East 42nd Street</td>\n",
       "      <td>East 78th Street</td>\n",
       "      <td>1</td>\n",
       "      <td>2016-03-01 19:24:44</td>\n",
       "      <td>1</td>\n",
       "      <td>-73.9790</td>\n",
       "      <td>...</td>\n",
       "      <td>19</td>\n",
       "      <td>24</td>\n",
       "      <td>2016-03-01</td>\n",
       "      <td>1-3-2016</td>\n",
       "      <td>52</td>\n",
       "      <td>39</td>\n",
       "      <td>45.5000</td>\n",
       "      <td>0.00</td>\n",
       "      <td>0.0</td>\n",
       "      <td>0</td>\n",
       "    </tr>\n",
       "    <tr>\n",
       "      <th>2</th>\n",
       "      <td>id1356036</td>\n",
       "      <td>3,468.3000</td>\n",
       "      <td>228.2000</td>\n",
       "      <td>10</td>\n",
       "      <td>West 74th Street</td>\n",
       "      <td>Joe DiMaggio Highway</td>\n",
       "      <td>2</td>\n",
       "      <td>2016-05-20 22:49:05</td>\n",
       "      <td>1</td>\n",
       "      <td>-73.9813</td>\n",
       "      <td>...</td>\n",
       "      <td>22</td>\n",
       "      <td>49</td>\n",
       "      <td>2016-05-20</td>\n",
       "      <td>20-5-2016</td>\n",
       "      <td>76</td>\n",
       "      <td>53</td>\n",
       "      <td>64.5000</td>\n",
       "      <td>0.00</td>\n",
       "      <td>0.0</td>\n",
       "      <td>0</td>\n",
       "    </tr>\n",
       "    <tr>\n",
       "      <th>3</th>\n",
       "      <td>id2360318</td>\n",
       "      <td>2,369.6000</td>\n",
       "      <td>240.0000</td>\n",
       "      <td>5</td>\n",
       "      <td>East 31st Street</td>\n",
       "      <td>Park Avenue</td>\n",
       "      <td>2</td>\n",
       "      <td>2016-05-23 09:55:24</td>\n",
       "      <td>1</td>\n",
       "      <td>-73.9808</td>\n",
       "      <td>...</td>\n",
       "      <td>9</td>\n",
       "      <td>55</td>\n",
       "      <td>2016-05-23</td>\n",
       "      <td>23-5-2016</td>\n",
       "      <td>78</td>\n",
       "      <td>56</td>\n",
       "      <td>67.0000</td>\n",
       "      <td>0.02</td>\n",
       "      <td>0.0</td>\n",
       "      <td>0</td>\n",
       "    </tr>\n",
       "    <tr>\n",
       "      <th>4</th>\n",
       "      <td>id1397932</td>\n",
       "      <td>3,050.7000</td>\n",
       "      <td>415.1000</td>\n",
       "      <td>9</td>\n",
       "      <td>Cleveland Place</td>\n",
       "      <td>East 28th Street</td>\n",
       "      <td>1</td>\n",
       "      <td>2016-06-02 20:01:15</td>\n",
       "      <td>1</td>\n",
       "      <td>-73.9974</td>\n",
       "      <td>...</td>\n",
       "      <td>20</td>\n",
       "      <td>1</td>\n",
       "      <td>2016-06-02</td>\n",
       "      <td>2-6-2016</td>\n",
       "      <td>78</td>\n",
       "      <td>62</td>\n",
       "      <td>70.0000</td>\n",
       "      <td>0.00</td>\n",
       "      <td>0.0</td>\n",
       "      <td>0</td>\n",
       "    </tr>\n",
       "  </tbody>\n",
       "</table>\n",
       "<p>5 rows × 29 columns</p>\n",
       "</div>"
      ],
      "text/plain": [
       "                id  total_distance  total_travel_time  number_of_steps  \\\n",
       "train 0  id2085575      3,588.5000           359.8000                7   \n",
       "      1  id0633227      3,935.6000           358.0000                7   \n",
       "      2  id1356036      3,468.3000           228.2000               10   \n",
       "      3  id2360318      2,369.6000           240.0000                5   \n",
       "      4  id1397932      3,050.7000           415.1000                9   \n",
       "\n",
       "          starting_street            end_street  vendor_id  \\\n",
       "train 0  Center Boulevard      West 29th Street          2   \n",
       "      1  East 42nd Street      East 78th Street          1   \n",
       "      2  West 74th Street  Joe DiMaggio Highway          2   \n",
       "      3  East 31st Street           Park Avenue          2   \n",
       "      4   Cleveland Place      East 28th Street          1   \n",
       "\n",
       "             pickup_datetime  passenger_count  pickup_longitude     ...      \\\n",
       "train 0  2016-03-18 13:47:52                5          -73.9653     ...       \n",
       "      1  2016-03-01 19:24:44                1          -73.9790     ...       \n",
       "      2  2016-05-20 22:49:05                1          -73.9813     ...       \n",
       "      3  2016-05-23 09:55:24                1          -73.9808     ...       \n",
       "      4  2016-06-02 20:01:15                1          -73.9974     ...       \n",
       "\n",
       "         pickup_hour  pickup_minute    date_obj       date maximum temerature  \\\n",
       "train 0           13             47  2016-03-18  18-3-2016                 57   \n",
       "      1           19             24  2016-03-01   1-3-2016                 52   \n",
       "      2           22             49  2016-05-20  20-5-2016                 76   \n",
       "      3            9             55  2016-05-23  23-5-2016                 78   \n",
       "      4           20              1  2016-06-02   2-6-2016                 78   \n",
       "\n",
       "         minimum temperature  average temperature  precipitation  snow fall  \\\n",
       "train 0                   42              49.5000           0.00        0.0   \n",
       "      1                   39              45.5000           0.00        0.0   \n",
       "      2                   53              64.5000           0.00        0.0   \n",
       "      3                   56              67.0000           0.02        0.0   \n",
       "      4                   62              70.0000           0.00        0.0   \n",
       "\n",
       "         snow depth  \n",
       "train 0           0  \n",
       "      1           0  \n",
       "      2           0  \n",
       "      3           0  \n",
       "      4           0  \n",
       "\n",
       "[5 rows x 29 columns]"
      ]
     },
     "execution_count": 64,
     "metadata": {},
     "output_type": "execute_result"
    }
   ],
   "source": [
    "combine_data2[:5]"
   ]
  },
  {
   "cell_type": "code",
   "execution_count": 66,
   "metadata": {
    "ExecuteTime": {
     "end_time": "2017-08-01T07:28:40.991819Z",
     "start_time": "2017-08-01T07:28:40.989458Z"
    }
   },
   "outputs": [],
   "source": [
    "combine_data = combine_data2"
   ]
  },
  {
   "cell_type": "code",
   "execution_count": 20,
   "metadata": {
    "ExecuteTime": {
     "end_time": "2017-07-28T13:09:07.854433Z",
     "start_time": "2017-07-28T13:09:07.834298Z"
    },
    "collapsed": true
   },
   "outputs": [],
   "source": [
    "del train_data\n",
    "del eval_data"
   ]
  },
  {
   "cell_type": "markdown",
   "metadata": {},
   "source": [
    "# Pre-process data"
   ]
  },
  {
   "cell_type": "markdown",
   "metadata": {},
   "source": [
    "## Check& Fill  NaN "
   ]
  },
  {
   "cell_type": "code",
   "execution_count": 67,
   "metadata": {
    "ExecuteTime": {
     "end_time": "2017-08-01T07:28:43.987452Z",
     "start_time": "2017-08-01T07:28:43.978867Z"
    },
    "collapsed": true
   },
   "outputs": [],
   "source": [
    "def check_null_data(data):\n",
    "    #Get high percent of NaN data\n",
    "    null_data = data.isnull()\n",
    "    total = null_data.sum().sort_values(ascending=False)\n",
    "    percent = (null_data.sum()/null_data.count()).sort_values(ascending=False)\n",
    "    missing_data = pd.concat([total, percent], axis=1, keys=['Total', 'Percent'])\n",
    "    high_percent_miss_data = missing_data[missing_data['Percent']>0]\n",
    "    #print(missing_data)\n",
    "    print(high_percent_miss_data)\n",
    "    miss_data_cols = high_percent_miss_data.index.values\n",
    "    return miss_data_cols"
   ]
  },
  {
   "cell_type": "code",
   "execution_count": 68,
   "metadata": {
    "ExecuteTime": {
     "end_time": "2017-08-01T07:28:49.259529Z",
     "start_time": "2017-08-01T07:28:45.788246Z"
    },
    "scrolled": true
   },
   "outputs": [
    {
     "name": "stdout",
     "output_type": "stream",
     "text": [
      "Empty DataFrame\n",
      "Columns: [Total, Percent]\n",
      "Index: []\n"
     ]
    },
    {
     "data": {
      "text/plain": [
       "array([], dtype=object)"
      ]
     },
     "execution_count": 68,
     "metadata": {},
     "output_type": "execute_result"
    }
   ],
   "source": [
    "# combine data for null\n",
    "check_null_data(combine_data)"
   ]
  },
  {
   "cell_type": "code",
   "execution_count": 70,
   "metadata": {
    "ExecuteTime": {
     "end_time": "2017-08-01T07:31:00.678994Z",
     "start_time": "2017-08-01T07:31:00.674590Z"
    },
    "scrolled": false
   },
   "outputs": [
    {
     "data": {
      "text/plain": [
       "id                             object\n",
       "total_distance                float64\n",
       "total_travel_time             float64\n",
       "number_of_steps                 int64\n",
       "starting_street                object\n",
       "end_street                     object\n",
       "vendor_id                       int64\n",
       "pickup_datetime                object\n",
       "passenger_count                 int64\n",
       "pickup_longitude              float64\n",
       "pickup_latitude               float64\n",
       "dropoff_longitude             float64\n",
       "dropoff_latitude              float64\n",
       "store_and_fwd_flag             object\n",
       "datetime_obj           datetime64[ns]\n",
       "pickup_year                     int64\n",
       "pickup_month                    int64\n",
       "pickup_weekday                  int64\n",
       "pickup_day                      int64\n",
       "pickup_hour                     int64\n",
       "pickup_minute                   int64\n",
       "date_obj                       object\n",
       "date                           object\n",
       "maximum temerature              int64\n",
       "minimum temperature             int64\n",
       "average temperature           float64\n",
       "precipitation                  object\n",
       "snow fall                      object\n",
       "snow depth                     object\n",
       "dtype: object"
      ]
     },
     "execution_count": 70,
     "metadata": {},
     "output_type": "execute_result"
    }
   ],
   "source": [
    "combine_data.dtypes"
   ]
  },
  {
   "cell_type": "markdown",
   "metadata": {},
   "source": [
    "### FillNA for total_distance"
   ]
  },
  {
   "cell_type": "code",
   "execution_count": 24,
   "metadata": {
    "ExecuteTime": {
     "end_time": "2017-07-28T13:09:09.709774Z",
     "start_time": "2017-07-28T13:09:09.631138Z"
    },
    "collapsed": true
   },
   "outputs": [],
   "source": [
    "combine_data['total_distance'].fillna(0, inplace=True)"
   ]
  },
  {
   "cell_type": "markdown",
   "metadata": {},
   "source": [
    "### FillNaN for number_of_streets"
   ]
  },
  {
   "cell_type": "code",
   "execution_count": 25,
   "metadata": {
    "ExecuteTime": {
     "end_time": "2017-07-28T13:09:09.778324Z",
     "start_time": "2017-07-28T13:09:09.709774Z"
    },
    "collapsed": true
   },
   "outputs": [],
   "source": [
    "combine_data['number_of_streets'].fillna(1, inplace=True)"
   ]
  },
  {
   "cell_type": "markdown",
   "metadata": {},
   "source": [
    "## Transform object data"
   ]
  },
  {
   "cell_type": "code",
   "execution_count": 20,
   "metadata": {
    "ExecuteTime": {
     "end_time": "2017-08-01T04:45:06.693949Z",
     "start_time": "2017-08-01T04:45:06.691558Z"
    },
    "collapsed": true
   },
   "outputs": [],
   "source": [
    "data = combine_data"
   ]
  },
  {
   "cell_type": "markdown",
   "metadata": {},
   "source": [
    "### Convert datetime string to object"
   ]
  },
  {
   "cell_type": "code",
   "execution_count": 21,
   "metadata": {
    "ExecuteTime": {
     "end_time": "2017-08-01T04:45:08.189129Z",
     "start_time": "2017-08-01T04:45:08.157283Z"
    },
    "collapsed": true
   },
   "outputs": [],
   "source": [
    "def pd_datetime(data):\n",
    "    date_format = \"%Y-%m-%d %H:%M:%S\"\n",
    "    datetime_obj = data['pickup_datetime'].apply(lambda x: datetime.strptime(x, date_format))\n",
    "    return datetime_obj "
   ]
  },
  {
   "cell_type": "code",
   "execution_count": 22,
   "metadata": {
    "ExecuteTime": {
     "end_time": "2017-08-01T04:45:11.452563Z",
     "start_time": "2017-08-01T04:45:10.511297Z"
    }
   },
   "outputs": [
    {
     "data": {
      "text/plain": [
       "train  0   2016-03-18 13:47:52\n",
       "       1   2016-03-01 19:24:44\n",
       "       2   2016-05-20 22:49:05\n",
       "       3   2016-05-23 09:55:24\n",
       "       4   2016-06-02 20:01:15\n",
       "Name: datetime_obj, dtype: datetime64[ns]"
      ]
     },
     "execution_count": 22,
     "metadata": {},
     "output_type": "execute_result"
    }
   ],
   "source": [
    "#data['datetime_obj'] = pd_datetime(data)\n",
    "data['datetime_obj'] = pd.to_datetime(data['pickup_datetime'])\n",
    "data['datetime_obj'][:5]"
   ]
  },
  {
   "cell_type": "code",
   "execution_count": 23,
   "metadata": {
    "ExecuteTime": {
     "end_time": "2017-08-01T04:45:24.801712Z",
     "start_time": "2017-08-01T04:45:24.242239Z"
    },
    "collapsed": true
   },
   "outputs": [],
   "source": [
    "data['pickup_year'] = data['datetime_obj'].dt.year\n",
    "data['pickup_month'] = data['datetime_obj'].dt.month\n",
    "data['pickup_weekday'] = data['datetime_obj'].dt.weekday\n",
    "data['pickup_day'] = data['datetime_obj'].dt.day\n",
    "data['pickup_hour'] = data['datetime_obj'].dt.hour\n",
    "data['pickup_minute'] = data['datetime_obj'].dt.minute"
   ]
  },
  {
   "cell_type": "code",
   "execution_count": 24,
   "metadata": {
    "ExecuteTime": {
     "end_time": "2017-08-01T04:45:28.548430Z",
     "start_time": "2017-08-01T04:45:28.419978Z"
    }
   },
   "outputs": [
    {
     "data": {
      "text/html": [
       "<div>\n",
       "<style>\n",
       "    .dataframe thead tr:only-child th {\n",
       "        text-align: right;\n",
       "    }\n",
       "\n",
       "    .dataframe thead th {\n",
       "        text-align: left;\n",
       "    }\n",
       "\n",
       "    .dataframe tbody tr th {\n",
       "        vertical-align: top;\n",
       "    }\n",
       "</style>\n",
       "<table border=\"1\" class=\"dataframe\">\n",
       "  <thead>\n",
       "    <tr style=\"text-align: right;\">\n",
       "      <th></th>\n",
       "      <th></th>\n",
       "      <th>id</th>\n",
       "      <th>total_distance</th>\n",
       "      <th>total_travel_time</th>\n",
       "      <th>number_of_steps</th>\n",
       "      <th>starting_street</th>\n",
       "      <th>end_street</th>\n",
       "      <th>vendor_id</th>\n",
       "      <th>pickup_datetime</th>\n",
       "      <th>passenger_count</th>\n",
       "      <th>pickup_longitude</th>\n",
       "      <th>...</th>\n",
       "      <th>dropoff_longitude</th>\n",
       "      <th>dropoff_latitude</th>\n",
       "      <th>store_and_fwd_flag</th>\n",
       "      <th>datetime_obj</th>\n",
       "      <th>pickup_year</th>\n",
       "      <th>pickup_month</th>\n",
       "      <th>pickup_weekday</th>\n",
       "      <th>pickup_day</th>\n",
       "      <th>pickup_hour</th>\n",
       "      <th>pickup_minute</th>\n",
       "    </tr>\n",
       "  </thead>\n",
       "  <tbody>\n",
       "    <tr>\n",
       "      <th rowspan=\"5\" valign=\"top\">train</th>\n",
       "      <th>0</th>\n",
       "      <td>id2085575</td>\n",
       "      <td>3,588.5000</td>\n",
       "      <td>359.8000</td>\n",
       "      <td>7</td>\n",
       "      <td>Center Boulevard</td>\n",
       "      <td>West 29th Street</td>\n",
       "      <td>2</td>\n",
       "      <td>2016-03-18 13:47:52</td>\n",
       "      <td>5</td>\n",
       "      <td>-73.9653</td>\n",
       "      <td>...</td>\n",
       "      <td>-73.9947</td>\n",
       "      <td>40.7486</td>\n",
       "      <td>N</td>\n",
       "      <td>2016-03-18 13:47:52</td>\n",
       "      <td>2016</td>\n",
       "      <td>3</td>\n",
       "      <td>4</td>\n",
       "      <td>18</td>\n",
       "      <td>13</td>\n",
       "      <td>47</td>\n",
       "    </tr>\n",
       "    <tr>\n",
       "      <th>1</th>\n",
       "      <td>id0633227</td>\n",
       "      <td>3,935.6000</td>\n",
       "      <td>358.0000</td>\n",
       "      <td>7</td>\n",
       "      <td>East 42nd Street</td>\n",
       "      <td>East 78th Street</td>\n",
       "      <td>1</td>\n",
       "      <td>2016-03-01 19:24:44</td>\n",
       "      <td>1</td>\n",
       "      <td>-73.9790</td>\n",
       "      <td>...</td>\n",
       "      <td>-73.9516</td>\n",
       "      <td>40.7709</td>\n",
       "      <td>N</td>\n",
       "      <td>2016-03-01 19:24:44</td>\n",
       "      <td>2016</td>\n",
       "      <td>3</td>\n",
       "      <td>1</td>\n",
       "      <td>1</td>\n",
       "      <td>19</td>\n",
       "      <td>24</td>\n",
       "    </tr>\n",
       "    <tr>\n",
       "      <th>2</th>\n",
       "      <td>id1356036</td>\n",
       "      <td>3,468.3000</td>\n",
       "      <td>228.2000</td>\n",
       "      <td>10</td>\n",
       "      <td>West 74th Street</td>\n",
       "      <td>Joe DiMaggio Highway</td>\n",
       "      <td>2</td>\n",
       "      <td>2016-05-20 22:49:05</td>\n",
       "      <td>1</td>\n",
       "      <td>-73.9813</td>\n",
       "      <td>...</td>\n",
       "      <td>-73.9920</td>\n",
       "      <td>40.7743</td>\n",
       "      <td>N</td>\n",
       "      <td>2016-05-20 22:49:05</td>\n",
       "      <td>2016</td>\n",
       "      <td>5</td>\n",
       "      <td>4</td>\n",
       "      <td>20</td>\n",
       "      <td>22</td>\n",
       "      <td>49</td>\n",
       "    </tr>\n",
       "    <tr>\n",
       "      <th>3</th>\n",
       "      <td>id2360318</td>\n",
       "      <td>2,369.6000</td>\n",
       "      <td>240.0000</td>\n",
       "      <td>5</td>\n",
       "      <td>East 31st Street</td>\n",
       "      <td>Park Avenue</td>\n",
       "      <td>2</td>\n",
       "      <td>2016-05-23 09:55:24</td>\n",
       "      <td>1</td>\n",
       "      <td>-73.9808</td>\n",
       "      <td>...</td>\n",
       "      <td>-73.9710</td>\n",
       "      <td>40.7615</td>\n",
       "      <td>N</td>\n",
       "      <td>2016-05-23 09:55:24</td>\n",
       "      <td>2016</td>\n",
       "      <td>5</td>\n",
       "      <td>0</td>\n",
       "      <td>23</td>\n",
       "      <td>9</td>\n",
       "      <td>55</td>\n",
       "    </tr>\n",
       "    <tr>\n",
       "      <th>4</th>\n",
       "      <td>id1397932</td>\n",
       "      <td>3,050.7000</td>\n",
       "      <td>415.1000</td>\n",
       "      <td>9</td>\n",
       "      <td>Cleveland Place</td>\n",
       "      <td>East 28th Street</td>\n",
       "      <td>1</td>\n",
       "      <td>2016-06-02 20:01:15</td>\n",
       "      <td>1</td>\n",
       "      <td>-73.9974</td>\n",
       "      <td>...</td>\n",
       "      <td>-73.9843</td>\n",
       "      <td>40.7434</td>\n",
       "      <td>N</td>\n",
       "      <td>2016-06-02 20:01:15</td>\n",
       "      <td>2016</td>\n",
       "      <td>6</td>\n",
       "      <td>3</td>\n",
       "      <td>2</td>\n",
       "      <td>20</td>\n",
       "      <td>1</td>\n",
       "    </tr>\n",
       "  </tbody>\n",
       "</table>\n",
       "<p>5 rows × 21 columns</p>\n",
       "</div>"
      ],
      "text/plain": [
       "                id  total_distance  total_travel_time  number_of_steps  \\\n",
       "train 0  id2085575      3,588.5000           359.8000                7   \n",
       "      1  id0633227      3,935.6000           358.0000                7   \n",
       "      2  id1356036      3,468.3000           228.2000               10   \n",
       "      3  id2360318      2,369.6000           240.0000                5   \n",
       "      4  id1397932      3,050.7000           415.1000                9   \n",
       "\n",
       "          starting_street            end_street  vendor_id  \\\n",
       "train 0  Center Boulevard      West 29th Street          2   \n",
       "      1  East 42nd Street      East 78th Street          1   \n",
       "      2  West 74th Street  Joe DiMaggio Highway          2   \n",
       "      3  East 31st Street           Park Avenue          2   \n",
       "      4   Cleveland Place      East 28th Street          1   \n",
       "\n",
       "             pickup_datetime  passenger_count  pickup_longitude  \\\n",
       "train 0  2016-03-18 13:47:52                5          -73.9653   \n",
       "      1  2016-03-01 19:24:44                1          -73.9790   \n",
       "      2  2016-05-20 22:49:05                1          -73.9813   \n",
       "      3  2016-05-23 09:55:24                1          -73.9808   \n",
       "      4  2016-06-02 20:01:15                1          -73.9974   \n",
       "\n",
       "             ...        dropoff_longitude  dropoff_latitude  \\\n",
       "train 0      ...                 -73.9947           40.7486   \n",
       "      1      ...                 -73.9516           40.7709   \n",
       "      2      ...                 -73.9920           40.7743   \n",
       "      3      ...                 -73.9710           40.7615   \n",
       "      4      ...                 -73.9843           40.7434   \n",
       "\n",
       "         store_and_fwd_flag        datetime_obj pickup_year  pickup_month  \\\n",
       "train 0                   N 2016-03-18 13:47:52        2016             3   \n",
       "      1                   N 2016-03-01 19:24:44        2016             3   \n",
       "      2                   N 2016-05-20 22:49:05        2016             5   \n",
       "      3                   N 2016-05-23 09:55:24        2016             5   \n",
       "      4                   N 2016-06-02 20:01:15        2016             6   \n",
       "\n",
       "         pickup_weekday  pickup_day  pickup_hour  pickup_minute  \n",
       "train 0               4          18           13             47  \n",
       "      1               1           1           19             24  \n",
       "      2               4          20           22             49  \n",
       "      3               0          23            9             55  \n",
       "      4               3           2           20              1  \n",
       "\n",
       "[5 rows x 21 columns]"
      ]
     },
     "execution_count": 24,
     "metadata": {},
     "output_type": "execute_result"
    }
   ],
   "source": [
    "data[:5]"
   ]
  },
  {
   "cell_type": "code",
   "execution_count": 31,
   "metadata": {
    "ExecuteTime": {
     "end_time": "2017-08-01T04:59:05.217097Z",
     "start_time": "2017-08-01T04:59:05.197375Z"
    }
   },
   "outputs": [
    {
     "data": {
      "text/plain": [
       "3    365886\n",
       "4    359077\n",
       "5    356057\n",
       "2    340614\n",
       "6    334760\n",
       "1    327383\n",
       "Name: pickup_month, dtype: int64"
      ]
     },
     "execution_count": 31,
     "metadata": {},
     "output_type": "execute_result"
    }
   ],
   "source": [
    "data['pickup_month'].value_counts()"
   ]
  },
  {
   "cell_type": "markdown",
   "metadata": {},
   "source": [
    "### store_and_fwd_flag"
   ]
  },
  {
   "cell_type": "code",
   "execution_count": 31,
   "metadata": {
    "ExecuteTime": {
     "end_time": "2017-07-28T13:09:12.290720Z",
     "start_time": "2017-07-28T13:09:11.891152Z"
    }
   },
   "outputs": [
    {
     "data": {
      "text/plain": [
       "N    2072303\n",
       "Y      11475\n",
       "Name: store_and_fwd_flag, dtype: int64"
      ]
     },
     "execution_count": 31,
     "metadata": {},
     "output_type": "execute_result"
    }
   ],
   "source": [
    "col = 'store_and_fwd_flag'\n",
    "data[col].value_counts()"
   ]
  },
  {
   "cell_type": "code",
   "execution_count": 32,
   "metadata": {
    "ExecuteTime": {
     "end_time": "2017-07-28T13:09:12.813446Z",
     "start_time": "2017-07-28T13:09:12.292727Z"
    }
   },
   "outputs": [
    {
     "data": {
      "text/html": [
       "<div>\n",
       "<style>\n",
       "    .dataframe thead tr:only-child th {\n",
       "        text-align: right;\n",
       "    }\n",
       "\n",
       "    .dataframe thead th {\n",
       "        text-align: left;\n",
       "    }\n",
       "\n",
       "    .dataframe tbody tr th {\n",
       "        vertical-align: top;\n",
       "    }\n",
       "</style>\n",
       "<table border=\"1\" class=\"dataframe\">\n",
       "  <thead>\n",
       "    <tr style=\"text-align: right;\">\n",
       "      <th></th>\n",
       "      <th></th>\n",
       "      <th>id</th>\n",
       "      <th>vendor_id</th>\n",
       "      <th>pickup_datetime</th>\n",
       "      <th>passenger_count</th>\n",
       "      <th>pickup_longitude</th>\n",
       "      <th>pickup_latitude</th>\n",
       "      <th>dropoff_longitude</th>\n",
       "      <th>dropoff_latitude</th>\n",
       "      <th>store_and_fwd_flag</th>\n",
       "      <th>total_distance</th>\n",
       "      <th>number_of_streets</th>\n",
       "      <th>starting_street</th>\n",
       "      <th>end_street</th>\n",
       "      <th>datetime_obj</th>\n",
       "      <th>pickup_year</th>\n",
       "      <th>pickup_month</th>\n",
       "      <th>pickup_weekday</th>\n",
       "      <th>pickup_day</th>\n",
       "      <th>pickup_hour</th>\n",
       "      <th>pickup_minute</th>\n",
       "    </tr>\n",
       "  </thead>\n",
       "  <tbody>\n",
       "    <tr>\n",
       "      <th rowspan=\"5\" valign=\"top\">train</th>\n",
       "      <th>0</th>\n",
       "      <td>id2875421</td>\n",
       "      <td>2</td>\n",
       "      <td>2016-03-14 17:24:55</td>\n",
       "      <td>1</td>\n",
       "      <td>-73.9822</td>\n",
       "      <td>40.7679</td>\n",
       "      <td>-73.9646</td>\n",
       "      <td>40.7656</td>\n",
       "      <td>0</td>\n",
       "      <td>2,009.1000</td>\n",
       "      <td>5.0000</td>\n",
       "      <td>Columbus Circle</td>\n",
       "      <td>East 65th Street</td>\n",
       "      <td>2016-03-14 17:24:55</td>\n",
       "      <td>2016</td>\n",
       "      <td>3</td>\n",
       "      <td>0</td>\n",
       "      <td>14</td>\n",
       "      <td>17</td>\n",
       "      <td>24</td>\n",
       "    </tr>\n",
       "    <tr>\n",
       "      <th>1</th>\n",
       "      <td>id2377394</td>\n",
       "      <td>1</td>\n",
       "      <td>2016-06-12 00:43:35</td>\n",
       "      <td>1</td>\n",
       "      <td>-73.9804</td>\n",
       "      <td>40.7386</td>\n",
       "      <td>-73.9995</td>\n",
       "      <td>40.7312</td>\n",
       "      <td>0</td>\n",
       "      <td>2,513.2000</td>\n",
       "      <td>6.0000</td>\n",
       "      <td>2nd Avenue</td>\n",
       "      <td>Washington Square West</td>\n",
       "      <td>2016-06-12 00:43:35</td>\n",
       "      <td>2016</td>\n",
       "      <td>6</td>\n",
       "      <td>6</td>\n",
       "      <td>12</td>\n",
       "      <td>0</td>\n",
       "      <td>43</td>\n",
       "    </tr>\n",
       "    <tr>\n",
       "      <th>2</th>\n",
       "      <td>id3858529</td>\n",
       "      <td>2</td>\n",
       "      <td>2016-01-19 11:35:24</td>\n",
       "      <td>1</td>\n",
       "      <td>-73.9790</td>\n",
       "      <td>40.7639</td>\n",
       "      <td>-74.0053</td>\n",
       "      <td>40.7101</td>\n",
       "      <td>0</td>\n",
       "      <td>11,060.8000</td>\n",
       "      <td>16.0000</td>\n",
       "      <td>West 56th Street</td>\n",
       "      <td>Beekman Street</td>\n",
       "      <td>2016-01-19 11:35:24</td>\n",
       "      <td>2016</td>\n",
       "      <td>1</td>\n",
       "      <td>1</td>\n",
       "      <td>19</td>\n",
       "      <td>11</td>\n",
       "      <td>35</td>\n",
       "    </tr>\n",
       "    <tr>\n",
       "      <th>3</th>\n",
       "      <td>id3504673</td>\n",
       "      <td>2</td>\n",
       "      <td>2016-04-06 19:32:31</td>\n",
       "      <td>1</td>\n",
       "      <td>-74.0100</td>\n",
       "      <td>40.7200</td>\n",
       "      <td>-74.0123</td>\n",
       "      <td>40.7067</td>\n",
       "      <td>0</td>\n",
       "      <td>1,779.4000</td>\n",
       "      <td>4.0000</td>\n",
       "      <td>Greenwich Street</td>\n",
       "      <td>Broadway</td>\n",
       "      <td>2016-04-06 19:32:31</td>\n",
       "      <td>2016</td>\n",
       "      <td>4</td>\n",
       "      <td>2</td>\n",
       "      <td>6</td>\n",
       "      <td>19</td>\n",
       "      <td>32</td>\n",
       "    </tr>\n",
       "    <tr>\n",
       "      <th>4</th>\n",
       "      <td>id2181028</td>\n",
       "      <td>2</td>\n",
       "      <td>2016-03-26 13:30:55</td>\n",
       "      <td>1</td>\n",
       "      <td>-73.9731</td>\n",
       "      <td>40.7932</td>\n",
       "      <td>-73.9729</td>\n",
       "      <td>40.7825</td>\n",
       "      <td>0</td>\n",
       "      <td>1,614.9000</td>\n",
       "      <td>5.0000</td>\n",
       "      <td>Broadway</td>\n",
       "      <td>West 81st Street</td>\n",
       "      <td>2016-03-26 13:30:55</td>\n",
       "      <td>2016</td>\n",
       "      <td>3</td>\n",
       "      <td>5</td>\n",
       "      <td>26</td>\n",
       "      <td>13</td>\n",
       "      <td>30</td>\n",
       "    </tr>\n",
       "  </tbody>\n",
       "</table>\n",
       "</div>"
      ],
      "text/plain": [
       "                id  vendor_id      pickup_datetime  passenger_count  \\\n",
       "train 0  id2875421          2  2016-03-14 17:24:55                1   \n",
       "      1  id2377394          1  2016-06-12 00:43:35                1   \n",
       "      2  id3858529          2  2016-01-19 11:35:24                1   \n",
       "      3  id3504673          2  2016-04-06 19:32:31                1   \n",
       "      4  id2181028          2  2016-03-26 13:30:55                1   \n",
       "\n",
       "         pickup_longitude  pickup_latitude  dropoff_longitude  \\\n",
       "train 0          -73.9822          40.7679           -73.9646   \n",
       "      1          -73.9804          40.7386           -73.9995   \n",
       "      2          -73.9790          40.7639           -74.0053   \n",
       "      3          -74.0100          40.7200           -74.0123   \n",
       "      4          -73.9731          40.7932           -73.9729   \n",
       "\n",
       "         dropoff_latitude store_and_fwd_flag  total_distance  \\\n",
       "train 0           40.7656                  0      2,009.1000   \n",
       "      1           40.7312                  0      2,513.2000   \n",
       "      2           40.7101                  0     11,060.8000   \n",
       "      3           40.7067                  0      1,779.4000   \n",
       "      4           40.7825                  0      1,614.9000   \n",
       "\n",
       "         number_of_streets   starting_street              end_street  \\\n",
       "train 0             5.0000   Columbus Circle        East 65th Street   \n",
       "      1             6.0000        2nd Avenue  Washington Square West   \n",
       "      2            16.0000  West 56th Street          Beekman Street   \n",
       "      3             4.0000  Greenwich Street                Broadway   \n",
       "      4             5.0000          Broadway        West 81st Street   \n",
       "\n",
       "               datetime_obj  pickup_year  pickup_month  pickup_weekday  \\\n",
       "train 0 2016-03-14 17:24:55         2016             3               0   \n",
       "      1 2016-06-12 00:43:35         2016             6               6   \n",
       "      2 2016-01-19 11:35:24         2016             1               1   \n",
       "      3 2016-04-06 19:32:31         2016             4               2   \n",
       "      4 2016-03-26 13:30:55         2016             3               5   \n",
       "\n",
       "         pickup_day  pickup_hour  pickup_minute  \n",
       "train 0          14           17             24  \n",
       "      1          12            0             43  \n",
       "      2          19           11             35  \n",
       "      3           6           19             32  \n",
       "      4          26           13             30  "
      ]
     },
     "execution_count": 32,
     "metadata": {},
     "output_type": "execute_result"
    }
   ],
   "source": [
    "data_dict = {'Y':1, 'N':0}\n",
    "data_tf = data[col].map(data_dict)\n",
    "data[col].update(data_tf)\n",
    "data[:5]"
   ]
  },
  {
   "cell_type": "markdown",
   "metadata": {},
   "source": [
    "### start_street"
   ]
  },
  {
   "cell_type": "code",
   "execution_count": 33,
   "metadata": {
    "ExecuteTime": {
     "end_time": "2017-07-28T13:09:13.304226Z",
     "start_time": "2017-07-28T13:09:12.813446Z"
    }
   },
   "outputs": [
    {
     "name": "stdout",
     "output_type": "stream",
     "text": [
      "2027362\n"
     ]
    },
    {
     "data": {
      "text/html": [
       "<div>\n",
       "<style>\n",
       "    .dataframe thead tr:only-child th {\n",
       "        text-align: right;\n",
       "    }\n",
       "\n",
       "    .dataframe thead th {\n",
       "        text-align: left;\n",
       "    }\n",
       "\n",
       "    .dataframe tbody tr th {\n",
       "        vertical-align: top;\n",
       "    }\n",
       "</style>\n",
       "<table border=\"1\" class=\"dataframe\">\n",
       "  <thead>\n",
       "    <tr style=\"text-align: right;\">\n",
       "      <th></th>\n",
       "      <th></th>\n",
       "      <th>id</th>\n",
       "      <th>vendor_id</th>\n",
       "      <th>pickup_datetime</th>\n",
       "      <th>passenger_count</th>\n",
       "      <th>pickup_longitude</th>\n",
       "      <th>pickup_latitude</th>\n",
       "      <th>dropoff_longitude</th>\n",
       "      <th>dropoff_latitude</th>\n",
       "      <th>store_and_fwd_flag</th>\n",
       "      <th>total_distance</th>\n",
       "      <th>number_of_streets</th>\n",
       "      <th>starting_street</th>\n",
       "      <th>end_street</th>\n",
       "      <th>datetime_obj</th>\n",
       "      <th>pickup_year</th>\n",
       "      <th>pickup_month</th>\n",
       "      <th>pickup_weekday</th>\n",
       "      <th>pickup_day</th>\n",
       "      <th>pickup_hour</th>\n",
       "      <th>pickup_minute</th>\n",
       "    </tr>\n",
       "  </thead>\n",
       "  <tbody>\n",
       "    <tr>\n",
       "      <th rowspan=\"5\" valign=\"top\">train</th>\n",
       "      <th>0</th>\n",
       "      <td>id2875421</td>\n",
       "      <td>2</td>\n",
       "      <td>2016-03-14 17:24:55</td>\n",
       "      <td>1</td>\n",
       "      <td>-73.9822</td>\n",
       "      <td>40.7679</td>\n",
       "      <td>-73.9646</td>\n",
       "      <td>40.7656</td>\n",
       "      <td>0</td>\n",
       "      <td>2,009.1000</td>\n",
       "      <td>5.0000</td>\n",
       "      <td>Columbus Circle</td>\n",
       "      <td>East 65th Street</td>\n",
       "      <td>2016-03-14 17:24:55</td>\n",
       "      <td>2016</td>\n",
       "      <td>3</td>\n",
       "      <td>0</td>\n",
       "      <td>14</td>\n",
       "      <td>17</td>\n",
       "      <td>24</td>\n",
       "    </tr>\n",
       "    <tr>\n",
       "      <th>1</th>\n",
       "      <td>id2377394</td>\n",
       "      <td>1</td>\n",
       "      <td>2016-06-12 00:43:35</td>\n",
       "      <td>1</td>\n",
       "      <td>-73.9804</td>\n",
       "      <td>40.7386</td>\n",
       "      <td>-73.9995</td>\n",
       "      <td>40.7312</td>\n",
       "      <td>0</td>\n",
       "      <td>2,513.2000</td>\n",
       "      <td>6.0000</td>\n",
       "      <td>2nd Avenue</td>\n",
       "      <td>Washington Square West</td>\n",
       "      <td>2016-06-12 00:43:35</td>\n",
       "      <td>2016</td>\n",
       "      <td>6</td>\n",
       "      <td>6</td>\n",
       "      <td>12</td>\n",
       "      <td>0</td>\n",
       "      <td>43</td>\n",
       "    </tr>\n",
       "    <tr>\n",
       "      <th>2</th>\n",
       "      <td>id3858529</td>\n",
       "      <td>2</td>\n",
       "      <td>2016-01-19 11:35:24</td>\n",
       "      <td>1</td>\n",
       "      <td>-73.9790</td>\n",
       "      <td>40.7639</td>\n",
       "      <td>-74.0053</td>\n",
       "      <td>40.7101</td>\n",
       "      <td>0</td>\n",
       "      <td>11,060.8000</td>\n",
       "      <td>16.0000</td>\n",
       "      <td>West 56th Street</td>\n",
       "      <td>Beekman Street</td>\n",
       "      <td>2016-01-19 11:35:24</td>\n",
       "      <td>2016</td>\n",
       "      <td>1</td>\n",
       "      <td>1</td>\n",
       "      <td>19</td>\n",
       "      <td>11</td>\n",
       "      <td>35</td>\n",
       "    </tr>\n",
       "    <tr>\n",
       "      <th>3</th>\n",
       "      <td>id3504673</td>\n",
       "      <td>2</td>\n",
       "      <td>2016-04-06 19:32:31</td>\n",
       "      <td>1</td>\n",
       "      <td>-74.0100</td>\n",
       "      <td>40.7200</td>\n",
       "      <td>-74.0123</td>\n",
       "      <td>40.7067</td>\n",
       "      <td>0</td>\n",
       "      <td>1,779.4000</td>\n",
       "      <td>4.0000</td>\n",
       "      <td>Greenwich Street</td>\n",
       "      <td>Broadway</td>\n",
       "      <td>2016-04-06 19:32:31</td>\n",
       "      <td>2016</td>\n",
       "      <td>4</td>\n",
       "      <td>2</td>\n",
       "      <td>6</td>\n",
       "      <td>19</td>\n",
       "      <td>32</td>\n",
       "    </tr>\n",
       "    <tr>\n",
       "      <th>4</th>\n",
       "      <td>id2181028</td>\n",
       "      <td>2</td>\n",
       "      <td>2016-03-26 13:30:55</td>\n",
       "      <td>1</td>\n",
       "      <td>-73.9731</td>\n",
       "      <td>40.7932</td>\n",
       "      <td>-73.9729</td>\n",
       "      <td>40.7825</td>\n",
       "      <td>0</td>\n",
       "      <td>1,614.9000</td>\n",
       "      <td>5.0000</td>\n",
       "      <td>Broadway</td>\n",
       "      <td>West 81st Street</td>\n",
       "      <td>2016-03-26 13:30:55</td>\n",
       "      <td>2016</td>\n",
       "      <td>3</td>\n",
       "      <td>5</td>\n",
       "      <td>26</td>\n",
       "      <td>13</td>\n",
       "      <td>30</td>\n",
       "    </tr>\n",
       "  </tbody>\n",
       "</table>\n",
       "</div>"
      ],
      "text/plain": [
       "                id  vendor_id      pickup_datetime  passenger_count  \\\n",
       "train 0  id2875421          2  2016-03-14 17:24:55                1   \n",
       "      1  id2377394          1  2016-06-12 00:43:35                1   \n",
       "      2  id3858529          2  2016-01-19 11:35:24                1   \n",
       "      3  id3504673          2  2016-04-06 19:32:31                1   \n",
       "      4  id2181028          2  2016-03-26 13:30:55                1   \n",
       "\n",
       "         pickup_longitude  pickup_latitude  dropoff_longitude  \\\n",
       "train 0          -73.9822          40.7679           -73.9646   \n",
       "      1          -73.9804          40.7386           -73.9995   \n",
       "      2          -73.9790          40.7639           -74.0053   \n",
       "      3          -74.0100          40.7200           -74.0123   \n",
       "      4          -73.9731          40.7932           -73.9729   \n",
       "\n",
       "         dropoff_latitude store_and_fwd_flag  total_distance  \\\n",
       "train 0           40.7656                  0      2,009.1000   \n",
       "      1           40.7312                  0      2,513.2000   \n",
       "      2           40.7101                  0     11,060.8000   \n",
       "      3           40.7067                  0      1,779.4000   \n",
       "      4           40.7825                  0      1,614.9000   \n",
       "\n",
       "         number_of_streets   starting_street              end_street  \\\n",
       "train 0             5.0000   Columbus Circle        East 65th Street   \n",
       "      1             6.0000        2nd Avenue  Washington Square West   \n",
       "      2            16.0000  West 56th Street          Beekman Street   \n",
       "      3             4.0000  Greenwich Street                Broadway   \n",
       "      4             5.0000          Broadway        West 81st Street   \n",
       "\n",
       "               datetime_obj  pickup_year  pickup_month  pickup_weekday  \\\n",
       "train 0 2016-03-14 17:24:55         2016             3               0   \n",
       "      1 2016-06-12 00:43:35         2016             6               6   \n",
       "      2 2016-01-19 11:35:24         2016             1               1   \n",
       "      3 2016-04-06 19:32:31         2016             4               2   \n",
       "      4 2016-03-26 13:30:55         2016             3               5   \n",
       "\n",
       "         pickup_day  pickup_hour  pickup_minute  \n",
       "train 0          14           17             24  \n",
       "      1          12            0             43  \n",
       "      2          19           11             35  \n",
       "      3           6           19             32  \n",
       "      4          26           13             30  "
      ]
     },
     "execution_count": 33,
     "metadata": {},
     "output_type": "execute_result"
    }
   ],
   "source": [
    "col = 'starting_street'\n",
    "data_not_null = data[data[col].notnull()]\n",
    "print(len(data_not_null))\n",
    "data_not_null[:5]"
   ]
  },
  {
   "cell_type": "code",
   "execution_count": 34,
   "metadata": {
    "ExecuteTime": {
     "end_time": "2017-07-28T13:09:16.250007Z",
     "start_time": "2017-07-28T13:09:13.304226Z"
    }
   },
   "outputs": [
    {
     "data": {
      "text/plain": [
       "array([ 774,  166, 2613, 1316,  609], dtype=int64)"
      ]
     },
     "execution_count": 34,
     "metadata": {},
     "output_type": "execute_result"
    }
   ],
   "source": [
    "le = LabelEncoder()\n",
    "data_tf = le.fit_transform(data_not_null[col])\n",
    "data_tf[:5]"
   ]
  },
  {
   "cell_type": "code",
   "execution_count": 35,
   "metadata": {
    "ExecuteTime": {
     "end_time": "2017-07-28T13:09:16.730086Z",
     "start_time": "2017-07-28T13:09:16.250007Z"
    },
    "collapsed": true
   },
   "outputs": [],
   "source": [
    "col_tf = col + '_tf'\n",
    "data_not_null.loc[:,col_tf] = data_tf"
   ]
  },
  {
   "cell_type": "code",
   "execution_count": 36,
   "metadata": {
    "ExecuteTime": {
     "end_time": "2017-07-28T13:09:17.261177Z",
     "start_time": "2017-07-28T13:09:16.732088Z"
    },
    "collapsed": true
   },
   "outputs": [],
   "source": [
    "data[col_tf] = data_not_null[col_tf]"
   ]
  },
  {
   "cell_type": "code",
   "execution_count": 37,
   "metadata": {
    "ExecuteTime": {
     "end_time": "2017-07-28T13:09:17.496476Z",
     "start_time": "2017-07-28T13:09:17.263178Z"
    },
    "scrolled": true
   },
   "outputs": [
    {
     "data": {
      "text/html": [
       "<div>\n",
       "<style>\n",
       "    .dataframe thead tr:only-child th {\n",
       "        text-align: right;\n",
       "    }\n",
       "\n",
       "    .dataframe thead th {\n",
       "        text-align: left;\n",
       "    }\n",
       "\n",
       "    .dataframe tbody tr th {\n",
       "        vertical-align: top;\n",
       "    }\n",
       "</style>\n",
       "<table border=\"1\" class=\"dataframe\">\n",
       "  <thead>\n",
       "    <tr style=\"text-align: right;\">\n",
       "      <th></th>\n",
       "      <th></th>\n",
       "      <th>id</th>\n",
       "      <th>vendor_id</th>\n",
       "      <th>pickup_datetime</th>\n",
       "      <th>passenger_count</th>\n",
       "      <th>pickup_longitude</th>\n",
       "      <th>pickup_latitude</th>\n",
       "      <th>dropoff_longitude</th>\n",
       "      <th>dropoff_latitude</th>\n",
       "      <th>store_and_fwd_flag</th>\n",
       "      <th>total_distance</th>\n",
       "      <th>...</th>\n",
       "      <th>starting_street</th>\n",
       "      <th>end_street</th>\n",
       "      <th>datetime_obj</th>\n",
       "      <th>pickup_year</th>\n",
       "      <th>pickup_month</th>\n",
       "      <th>pickup_weekday</th>\n",
       "      <th>pickup_day</th>\n",
       "      <th>pickup_hour</th>\n",
       "      <th>pickup_minute</th>\n",
       "      <th>starting_street_tf</th>\n",
       "    </tr>\n",
       "  </thead>\n",
       "  <tbody>\n",
       "    <tr>\n",
       "      <th rowspan=\"5\" valign=\"top\">train</th>\n",
       "      <th>18</th>\n",
       "      <td>id3552682</td>\n",
       "      <td>1</td>\n",
       "      <td>2016-06-27 09:55:13</td>\n",
       "      <td>1</td>\n",
       "      <td>-74.0040</td>\n",
       "      <td>40.7130</td>\n",
       "      <td>-73.9792</td>\n",
       "      <td>40.7499</td>\n",
       "      <td>0</td>\n",
       "      <td>4,673.9000</td>\n",
       "      <td>...</td>\n",
       "      <td>NaN</td>\n",
       "      <td>Park Avenue</td>\n",
       "      <td>2016-06-27 09:55:13</td>\n",
       "      <td>2016</td>\n",
       "      <td>6</td>\n",
       "      <td>0</td>\n",
       "      <td>27</td>\n",
       "      <td>9</td>\n",
       "      <td>55</td>\n",
       "      <td>nan</td>\n",
       "    </tr>\n",
       "    <tr>\n",
       "      <th>70</th>\n",
       "      <td>id3896508</td>\n",
       "      <td>2</td>\n",
       "      <td>2016-06-07 22:32:32</td>\n",
       "      <td>1</td>\n",
       "      <td>-73.8634</td>\n",
       "      <td>40.7699</td>\n",
       "      <td>-73.8371</td>\n",
       "      <td>40.7214</td>\n",
       "      <td>0</td>\n",
       "      <td>8,171.9000</td>\n",
       "      <td>...</td>\n",
       "      <td>NaN</td>\n",
       "      <td>72nd Road</td>\n",
       "      <td>2016-06-07 22:32:32</td>\n",
       "      <td>2016</td>\n",
       "      <td>6</td>\n",
       "      <td>1</td>\n",
       "      <td>7</td>\n",
       "      <td>22</td>\n",
       "      <td>32</td>\n",
       "      <td>nan</td>\n",
       "    </tr>\n",
       "    <tr>\n",
       "      <th>93</th>\n",
       "      <td>id2030290</td>\n",
       "      <td>1</td>\n",
       "      <td>2016-03-31 11:33:30</td>\n",
       "      <td>3</td>\n",
       "      <td>-73.8643</td>\n",
       "      <td>40.7698</td>\n",
       "      <td>-73.9859</td>\n",
       "      <td>40.7610</td>\n",
       "      <td>0</td>\n",
       "      <td>16,077.1000</td>\n",
       "      <td>...</td>\n",
       "      <td>NaN</td>\n",
       "      <td>West 48th Street</td>\n",
       "      <td>2016-03-31 11:33:30</td>\n",
       "      <td>2016</td>\n",
       "      <td>3</td>\n",
       "      <td>3</td>\n",
       "      <td>31</td>\n",
       "      <td>11</td>\n",
       "      <td>33</td>\n",
       "      <td>nan</td>\n",
       "    </tr>\n",
       "    <tr>\n",
       "      <th>98</th>\n",
       "      <td>id2102594</td>\n",
       "      <td>1</td>\n",
       "      <td>2016-03-30 16:14:29</td>\n",
       "      <td>1</td>\n",
       "      <td>-73.7898</td>\n",
       "      <td>40.6436</td>\n",
       "      <td>-73.9707</td>\n",
       "      <td>40.6873</td>\n",
       "      <td>0</td>\n",
       "      <td>20,236.7000</td>\n",
       "      <td>...</td>\n",
       "      <td>NaN</td>\n",
       "      <td>Adelphi Street</td>\n",
       "      <td>2016-03-30 16:14:29</td>\n",
       "      <td>2016</td>\n",
       "      <td>3</td>\n",
       "      <td>2</td>\n",
       "      <td>30</td>\n",
       "      <td>16</td>\n",
       "      <td>14</td>\n",
       "      <td>nan</td>\n",
       "    </tr>\n",
       "    <tr>\n",
       "      <th>102</th>\n",
       "      <td>id0105610</td>\n",
       "      <td>1</td>\n",
       "      <td>2016-02-19 20:01:24</td>\n",
       "      <td>3</td>\n",
       "      <td>-73.7897</td>\n",
       "      <td>40.6437</td>\n",
       "      <td>-73.9787</td>\n",
       "      <td>40.7503</td>\n",
       "      <td>0</td>\n",
       "      <td>27,983.1000</td>\n",
       "      <td>...</td>\n",
       "      <td>NaN</td>\n",
       "      <td>Park Avenue</td>\n",
       "      <td>2016-02-19 20:01:24</td>\n",
       "      <td>2016</td>\n",
       "      <td>2</td>\n",
       "      <td>4</td>\n",
       "      <td>19</td>\n",
       "      <td>20</td>\n",
       "      <td>1</td>\n",
       "      <td>nan</td>\n",
       "    </tr>\n",
       "  </tbody>\n",
       "</table>\n",
       "<p>5 rows × 21 columns</p>\n",
       "</div>"
      ],
      "text/plain": [
       "                  id  vendor_id      pickup_datetime  passenger_count  \\\n",
       "train 18   id3552682          1  2016-06-27 09:55:13                1   \n",
       "      70   id3896508          2  2016-06-07 22:32:32                1   \n",
       "      93   id2030290          1  2016-03-31 11:33:30                3   \n",
       "      98   id2102594          1  2016-03-30 16:14:29                1   \n",
       "      102  id0105610          1  2016-02-19 20:01:24                3   \n",
       "\n",
       "           pickup_longitude  pickup_latitude  dropoff_longitude  \\\n",
       "train 18           -74.0040          40.7130           -73.9792   \n",
       "      70           -73.8634          40.7699           -73.8371   \n",
       "      93           -73.8643          40.7698           -73.9859   \n",
       "      98           -73.7898          40.6436           -73.9707   \n",
       "      102          -73.7897          40.6437           -73.9787   \n",
       "\n",
       "           dropoff_latitude store_and_fwd_flag  total_distance  \\\n",
       "train 18            40.7499                  0      4,673.9000   \n",
       "      70            40.7214                  0      8,171.9000   \n",
       "      93            40.7610                  0     16,077.1000   \n",
       "      98            40.6873                  0     20,236.7000   \n",
       "      102           40.7503                  0     27,983.1000   \n",
       "\n",
       "                  ...          starting_street        end_street  \\\n",
       "train 18          ...                      NaN       Park Avenue   \n",
       "      70          ...                      NaN         72nd Road   \n",
       "      93          ...                      NaN  West 48th Street   \n",
       "      98          ...                      NaN    Adelphi Street   \n",
       "      102         ...                      NaN       Park Avenue   \n",
       "\n",
       "                 datetime_obj pickup_year  pickup_month  pickup_weekday  \\\n",
       "train 18  2016-06-27 09:55:13        2016             6               0   \n",
       "      70  2016-06-07 22:32:32        2016             6               1   \n",
       "      93  2016-03-31 11:33:30        2016             3               3   \n",
       "      98  2016-03-30 16:14:29        2016             3               2   \n",
       "      102 2016-02-19 20:01:24        2016             2               4   \n",
       "\n",
       "           pickup_day  pickup_hour  pickup_minute  starting_street_tf  \n",
       "train 18           27            9             55                 nan  \n",
       "      70            7           22             32                 nan  \n",
       "      93           31           11             33                 nan  \n",
       "      98           30           16             14                 nan  \n",
       "      102          19           20              1                 nan  \n",
       "\n",
       "[5 rows x 21 columns]"
      ]
     },
     "execution_count": 37,
     "metadata": {},
     "output_type": "execute_result"
    }
   ],
   "source": [
    "data[data[col].isnull()][:5]"
   ]
  },
  {
   "cell_type": "markdown",
   "metadata": {},
   "source": [
    "### end_street"
   ]
  },
  {
   "cell_type": "code",
   "execution_count": 38,
   "metadata": {
    "ExecuteTime": {
     "end_time": "2017-07-28T13:09:17.859796Z",
     "start_time": "2017-07-28T13:09:17.496476Z"
    }
   },
   "outputs": [
    {
     "name": "stdout",
     "output_type": "stream",
     "text": [
      "2043287\n"
     ]
    },
    {
     "data": {
      "text/html": [
       "<div>\n",
       "<style>\n",
       "    .dataframe thead tr:only-child th {\n",
       "        text-align: right;\n",
       "    }\n",
       "\n",
       "    .dataframe thead th {\n",
       "        text-align: left;\n",
       "    }\n",
       "\n",
       "    .dataframe tbody tr th {\n",
       "        vertical-align: top;\n",
       "    }\n",
       "</style>\n",
       "<table border=\"1\" class=\"dataframe\">\n",
       "  <thead>\n",
       "    <tr style=\"text-align: right;\">\n",
       "      <th></th>\n",
       "      <th></th>\n",
       "      <th>id</th>\n",
       "      <th>vendor_id</th>\n",
       "      <th>pickup_datetime</th>\n",
       "      <th>passenger_count</th>\n",
       "      <th>pickup_longitude</th>\n",
       "      <th>pickup_latitude</th>\n",
       "      <th>dropoff_longitude</th>\n",
       "      <th>dropoff_latitude</th>\n",
       "      <th>store_and_fwd_flag</th>\n",
       "      <th>total_distance</th>\n",
       "      <th>...</th>\n",
       "      <th>starting_street</th>\n",
       "      <th>end_street</th>\n",
       "      <th>datetime_obj</th>\n",
       "      <th>pickup_year</th>\n",
       "      <th>pickup_month</th>\n",
       "      <th>pickup_weekday</th>\n",
       "      <th>pickup_day</th>\n",
       "      <th>pickup_hour</th>\n",
       "      <th>pickup_minute</th>\n",
       "      <th>starting_street_tf</th>\n",
       "    </tr>\n",
       "  </thead>\n",
       "  <tbody>\n",
       "    <tr>\n",
       "      <th rowspan=\"5\" valign=\"top\">train</th>\n",
       "      <th>0</th>\n",
       "      <td>id2875421</td>\n",
       "      <td>2</td>\n",
       "      <td>2016-03-14 17:24:55</td>\n",
       "      <td>1</td>\n",
       "      <td>-73.9822</td>\n",
       "      <td>40.7679</td>\n",
       "      <td>-73.9646</td>\n",
       "      <td>40.7656</td>\n",
       "      <td>0</td>\n",
       "      <td>2,009.1000</td>\n",
       "      <td>...</td>\n",
       "      <td>Columbus Circle</td>\n",
       "      <td>East 65th Street</td>\n",
       "      <td>2016-03-14 17:24:55</td>\n",
       "      <td>2016</td>\n",
       "      <td>3</td>\n",
       "      <td>0</td>\n",
       "      <td>14</td>\n",
       "      <td>17</td>\n",
       "      <td>24</td>\n",
       "      <td>774.0000</td>\n",
       "    </tr>\n",
       "    <tr>\n",
       "      <th>1</th>\n",
       "      <td>id2377394</td>\n",
       "      <td>1</td>\n",
       "      <td>2016-06-12 00:43:35</td>\n",
       "      <td>1</td>\n",
       "      <td>-73.9804</td>\n",
       "      <td>40.7386</td>\n",
       "      <td>-73.9995</td>\n",
       "      <td>40.7312</td>\n",
       "      <td>0</td>\n",
       "      <td>2,513.2000</td>\n",
       "      <td>...</td>\n",
       "      <td>2nd Avenue</td>\n",
       "      <td>Washington Square West</td>\n",
       "      <td>2016-06-12 00:43:35</td>\n",
       "      <td>2016</td>\n",
       "      <td>6</td>\n",
       "      <td>6</td>\n",
       "      <td>12</td>\n",
       "      <td>0</td>\n",
       "      <td>43</td>\n",
       "      <td>166.0000</td>\n",
       "    </tr>\n",
       "    <tr>\n",
       "      <th>2</th>\n",
       "      <td>id3858529</td>\n",
       "      <td>2</td>\n",
       "      <td>2016-01-19 11:35:24</td>\n",
       "      <td>1</td>\n",
       "      <td>-73.9790</td>\n",
       "      <td>40.7639</td>\n",
       "      <td>-74.0053</td>\n",
       "      <td>40.7101</td>\n",
       "      <td>0</td>\n",
       "      <td>11,060.8000</td>\n",
       "      <td>...</td>\n",
       "      <td>West 56th Street</td>\n",
       "      <td>Beekman Street</td>\n",
       "      <td>2016-01-19 11:35:24</td>\n",
       "      <td>2016</td>\n",
       "      <td>1</td>\n",
       "      <td>1</td>\n",
       "      <td>19</td>\n",
       "      <td>11</td>\n",
       "      <td>35</td>\n",
       "      <td>2,613.0000</td>\n",
       "    </tr>\n",
       "    <tr>\n",
       "      <th>3</th>\n",
       "      <td>id3504673</td>\n",
       "      <td>2</td>\n",
       "      <td>2016-04-06 19:32:31</td>\n",
       "      <td>1</td>\n",
       "      <td>-74.0100</td>\n",
       "      <td>40.7200</td>\n",
       "      <td>-74.0123</td>\n",
       "      <td>40.7067</td>\n",
       "      <td>0</td>\n",
       "      <td>1,779.4000</td>\n",
       "      <td>...</td>\n",
       "      <td>Greenwich Street</td>\n",
       "      <td>Broadway</td>\n",
       "      <td>2016-04-06 19:32:31</td>\n",
       "      <td>2016</td>\n",
       "      <td>4</td>\n",
       "      <td>2</td>\n",
       "      <td>6</td>\n",
       "      <td>19</td>\n",
       "      <td>32</td>\n",
       "      <td>1,316.0000</td>\n",
       "    </tr>\n",
       "    <tr>\n",
       "      <th>4</th>\n",
       "      <td>id2181028</td>\n",
       "      <td>2</td>\n",
       "      <td>2016-03-26 13:30:55</td>\n",
       "      <td>1</td>\n",
       "      <td>-73.9731</td>\n",
       "      <td>40.7932</td>\n",
       "      <td>-73.9729</td>\n",
       "      <td>40.7825</td>\n",
       "      <td>0</td>\n",
       "      <td>1,614.9000</td>\n",
       "      <td>...</td>\n",
       "      <td>Broadway</td>\n",
       "      <td>West 81st Street</td>\n",
       "      <td>2016-03-26 13:30:55</td>\n",
       "      <td>2016</td>\n",
       "      <td>3</td>\n",
       "      <td>5</td>\n",
       "      <td>26</td>\n",
       "      <td>13</td>\n",
       "      <td>30</td>\n",
       "      <td>609.0000</td>\n",
       "    </tr>\n",
       "  </tbody>\n",
       "</table>\n",
       "<p>5 rows × 21 columns</p>\n",
       "</div>"
      ],
      "text/plain": [
       "                id  vendor_id      pickup_datetime  passenger_count  \\\n",
       "train 0  id2875421          2  2016-03-14 17:24:55                1   \n",
       "      1  id2377394          1  2016-06-12 00:43:35                1   \n",
       "      2  id3858529          2  2016-01-19 11:35:24                1   \n",
       "      3  id3504673          2  2016-04-06 19:32:31                1   \n",
       "      4  id2181028          2  2016-03-26 13:30:55                1   \n",
       "\n",
       "         pickup_longitude  pickup_latitude  dropoff_longitude  \\\n",
       "train 0          -73.9822          40.7679           -73.9646   \n",
       "      1          -73.9804          40.7386           -73.9995   \n",
       "      2          -73.9790          40.7639           -74.0053   \n",
       "      3          -74.0100          40.7200           -74.0123   \n",
       "      4          -73.9731          40.7932           -73.9729   \n",
       "\n",
       "         dropoff_latitude store_and_fwd_flag  total_distance  \\\n",
       "train 0           40.7656                  0      2,009.1000   \n",
       "      1           40.7312                  0      2,513.2000   \n",
       "      2           40.7101                  0     11,060.8000   \n",
       "      3           40.7067                  0      1,779.4000   \n",
       "      4           40.7825                  0      1,614.9000   \n",
       "\n",
       "                ...           starting_street              end_street  \\\n",
       "train 0         ...           Columbus Circle        East 65th Street   \n",
       "      1         ...                2nd Avenue  Washington Square West   \n",
       "      2         ...          West 56th Street          Beekman Street   \n",
       "      3         ...          Greenwich Street                Broadway   \n",
       "      4         ...                  Broadway        West 81st Street   \n",
       "\n",
       "               datetime_obj pickup_year  pickup_month  pickup_weekday  \\\n",
       "train 0 2016-03-14 17:24:55        2016             3               0   \n",
       "      1 2016-06-12 00:43:35        2016             6               6   \n",
       "      2 2016-01-19 11:35:24        2016             1               1   \n",
       "      3 2016-04-06 19:32:31        2016             4               2   \n",
       "      4 2016-03-26 13:30:55        2016             3               5   \n",
       "\n",
       "         pickup_day  pickup_hour  pickup_minute  starting_street_tf  \n",
       "train 0          14           17             24            774.0000  \n",
       "      1          12            0             43            166.0000  \n",
       "      2          19           11             35          2,613.0000  \n",
       "      3           6           19             32          1,316.0000  \n",
       "      4          26           13             30            609.0000  \n",
       "\n",
       "[5 rows x 21 columns]"
      ]
     },
     "execution_count": 38,
     "metadata": {},
     "output_type": "execute_result"
    }
   ],
   "source": [
    "col = 'end_street'\n",
    "data_not_null = data[data[col].notnull()]\n",
    "print(len(data_not_null))\n",
    "data_not_null[:5]"
   ]
  },
  {
   "cell_type": "code",
   "execution_count": 39,
   "metadata": {
    "ExecuteTime": {
     "end_time": "2017-07-28T13:09:20.931046Z",
     "start_time": "2017-07-28T13:09:17.861802Z"
    }
   },
   "outputs": [
    {
     "data": {
      "text/plain": [
       "array([2224, 5465, 1129, 1308, 5735], dtype=int64)"
      ]
     },
     "execution_count": 39,
     "metadata": {},
     "output_type": "execute_result"
    }
   ],
   "source": [
    "le = LabelEncoder()\n",
    "data_tf = le.fit_transform(data_not_null[col])\n",
    "data_tf[:5]"
   ]
  },
  {
   "cell_type": "code",
   "execution_count": 40,
   "metadata": {
    "ExecuteTime": {
     "end_time": "2017-07-28T13:09:21.363386Z",
     "start_time": "2017-07-28T13:09:20.931046Z"
    },
    "collapsed": true
   },
   "outputs": [],
   "source": [
    "col_tf = col + '_tf'\n",
    "data_not_null.loc[:,col_tf] = data_tf"
   ]
  },
  {
   "cell_type": "code",
   "execution_count": 41,
   "metadata": {
    "ExecuteTime": {
     "end_time": "2017-07-28T13:09:21.810926Z",
     "start_time": "2017-07-28T13:09:21.363386Z"
    },
    "collapsed": true
   },
   "outputs": [],
   "source": [
    "data[col_tf] = data_not_null[col_tf]"
   ]
  },
  {
   "cell_type": "code",
   "execution_count": 42,
   "metadata": {
    "ExecuteTime": {
     "end_time": "2017-07-28T13:09:22.088718Z",
     "start_time": "2017-07-28T13:09:21.812926Z"
    },
    "scrolled": true
   },
   "outputs": [
    {
     "data": {
      "text/html": [
       "<div>\n",
       "<style>\n",
       "    .dataframe thead tr:only-child th {\n",
       "        text-align: right;\n",
       "    }\n",
       "\n",
       "    .dataframe thead th {\n",
       "        text-align: left;\n",
       "    }\n",
       "\n",
       "    .dataframe tbody tr th {\n",
       "        vertical-align: top;\n",
       "    }\n",
       "</style>\n",
       "<table border=\"1\" class=\"dataframe\">\n",
       "  <thead>\n",
       "    <tr style=\"text-align: right;\">\n",
       "      <th></th>\n",
       "      <th></th>\n",
       "      <th>id</th>\n",
       "      <th>vendor_id</th>\n",
       "      <th>pickup_datetime</th>\n",
       "      <th>passenger_count</th>\n",
       "      <th>pickup_longitude</th>\n",
       "      <th>pickup_latitude</th>\n",
       "      <th>dropoff_longitude</th>\n",
       "      <th>dropoff_latitude</th>\n",
       "      <th>store_and_fwd_flag</th>\n",
       "      <th>total_distance</th>\n",
       "      <th>...</th>\n",
       "      <th>end_street</th>\n",
       "      <th>datetime_obj</th>\n",
       "      <th>pickup_year</th>\n",
       "      <th>pickup_month</th>\n",
       "      <th>pickup_weekday</th>\n",
       "      <th>pickup_day</th>\n",
       "      <th>pickup_hour</th>\n",
       "      <th>pickup_minute</th>\n",
       "      <th>starting_street_tf</th>\n",
       "      <th>end_street_tf</th>\n",
       "    </tr>\n",
       "  </thead>\n",
       "  <tbody>\n",
       "    <tr>\n",
       "      <th rowspan=\"5\" valign=\"top\">train</th>\n",
       "      <th>20</th>\n",
       "      <td>id2070428</td>\n",
       "      <td>1</td>\n",
       "      <td>2016-02-28 02:23:02</td>\n",
       "      <td>1</td>\n",
       "      <td>-73.9804</td>\n",
       "      <td>40.7424</td>\n",
       "      <td>-73.9629</td>\n",
       "      <td>40.7606</td>\n",
       "      <td>0</td>\n",
       "      <td>7,355.4000</td>\n",
       "      <td>...</td>\n",
       "      <td>NaN</td>\n",
       "      <td>2016-02-28 02:23:02</td>\n",
       "      <td>2016</td>\n",
       "      <td>2</td>\n",
       "      <td>6</td>\n",
       "      <td>28</td>\n",
       "      <td>2</td>\n",
       "      <td>23</td>\n",
       "      <td>201.0000</td>\n",
       "      <td>nan</td>\n",
       "    </tr>\n",
       "    <tr>\n",
       "      <th>25</th>\n",
       "      <td>id0129640</td>\n",
       "      <td>2</td>\n",
       "      <td>2016-02-14 13:27:56</td>\n",
       "      <td>1</td>\n",
       "      <td>-73.9566</td>\n",
       "      <td>40.7714</td>\n",
       "      <td>-73.9750</td>\n",
       "      <td>40.7328</td>\n",
       "      <td>0</td>\n",
       "      <td>5,296.1000</td>\n",
       "      <td>...</td>\n",
       "      <td>NaN</td>\n",
       "      <td>2016-02-14 13:27:56</td>\n",
       "      <td>2016</td>\n",
       "      <td>2</td>\n",
       "      <td>6</td>\n",
       "      <td>14</td>\n",
       "      <td>13</td>\n",
       "      <td>27</td>\n",
       "      <td>166.0000</td>\n",
       "      <td>nan</td>\n",
       "    </tr>\n",
       "    <tr>\n",
       "      <th>94</th>\n",
       "      <td>id3770790</td>\n",
       "      <td>1</td>\n",
       "      <td>2016-02-13 13:12:49</td>\n",
       "      <td>1</td>\n",
       "      <td>-73.9922</td>\n",
       "      <td>40.7443</td>\n",
       "      <td>-74.0082</td>\n",
       "      <td>40.7488</td>\n",
       "      <td>0</td>\n",
       "      <td>1,788.7000</td>\n",
       "      <td>...</td>\n",
       "      <td>NaN</td>\n",
       "      <td>2016-02-13 13:12:49</td>\n",
       "      <td>2016</td>\n",
       "      <td>2</td>\n",
       "      <td>5</td>\n",
       "      <td>13</td>\n",
       "      <td>13</td>\n",
       "      <td>12</td>\n",
       "      <td>2,579.0000</td>\n",
       "      <td>nan</td>\n",
       "    </tr>\n",
       "    <tr>\n",
       "      <th>109</th>\n",
       "      <td>id3962434</td>\n",
       "      <td>2</td>\n",
       "      <td>2016-01-10 08:45:31</td>\n",
       "      <td>2</td>\n",
       "      <td>-73.9893</td>\n",
       "      <td>40.7565</td>\n",
       "      <td>-74.0028</td>\n",
       "      <td>40.7605</td>\n",
       "      <td>0</td>\n",
       "      <td>1,496.5000</td>\n",
       "      <td>...</td>\n",
       "      <td>NaN</td>\n",
       "      <td>2016-01-10 08:45:31</td>\n",
       "      <td>2016</td>\n",
       "      <td>1</td>\n",
       "      <td>6</td>\n",
       "      <td>10</td>\n",
       "      <td>8</td>\n",
       "      <td>45</td>\n",
       "      <td>2,597.0000</td>\n",
       "      <td>nan</td>\n",
       "    </tr>\n",
       "    <tr>\n",
       "      <th>137</th>\n",
       "      <td>id0659170</td>\n",
       "      <td>2</td>\n",
       "      <td>2016-03-26 13:07:08</td>\n",
       "      <td>1</td>\n",
       "      <td>-73.9687</td>\n",
       "      <td>40.7645</td>\n",
       "      <td>-73.8728</td>\n",
       "      <td>40.7715</td>\n",
       "      <td>0</td>\n",
       "      <td>10,240.6000</td>\n",
       "      <td>...</td>\n",
       "      <td>NaN</td>\n",
       "      <td>2016-03-26 13:07:08</td>\n",
       "      <td>2016</td>\n",
       "      <td>3</td>\n",
       "      <td>5</td>\n",
       "      <td>26</td>\n",
       "      <td>13</td>\n",
       "      <td>7</td>\n",
       "      <td>1,905.0000</td>\n",
       "      <td>nan</td>\n",
       "    </tr>\n",
       "  </tbody>\n",
       "</table>\n",
       "<p>5 rows × 22 columns</p>\n",
       "</div>"
      ],
      "text/plain": [
       "                  id  vendor_id      pickup_datetime  passenger_count  \\\n",
       "train 20   id2070428          1  2016-02-28 02:23:02                1   \n",
       "      25   id0129640          2  2016-02-14 13:27:56                1   \n",
       "      94   id3770790          1  2016-02-13 13:12:49                1   \n",
       "      109  id3962434          2  2016-01-10 08:45:31                2   \n",
       "      137  id0659170          2  2016-03-26 13:07:08                1   \n",
       "\n",
       "           pickup_longitude  pickup_latitude  dropoff_longitude  \\\n",
       "train 20           -73.9804          40.7424           -73.9629   \n",
       "      25           -73.9566          40.7714           -73.9750   \n",
       "      94           -73.9922          40.7443           -74.0082   \n",
       "      109          -73.9893          40.7565           -74.0028   \n",
       "      137          -73.9687          40.7645           -73.8728   \n",
       "\n",
       "           dropoff_latitude store_and_fwd_flag  total_distance      ...        \\\n",
       "train 20            40.7606                  0      7,355.4000      ...         \n",
       "      25            40.7328                  0      5,296.1000      ...         \n",
       "      94            40.7488                  0      1,788.7000      ...         \n",
       "      109           40.7605                  0      1,496.5000      ...         \n",
       "      137           40.7715                  0     10,240.6000      ...         \n",
       "\n",
       "           end_street        datetime_obj pickup_year pickup_month  \\\n",
       "train 20          NaN 2016-02-28 02:23:02        2016            2   \n",
       "      25          NaN 2016-02-14 13:27:56        2016            2   \n",
       "      94          NaN 2016-02-13 13:12:49        2016            2   \n",
       "      109         NaN 2016-01-10 08:45:31        2016            1   \n",
       "      137         NaN 2016-03-26 13:07:08        2016            3   \n",
       "\n",
       "           pickup_weekday  pickup_day  pickup_hour  pickup_minute  \\\n",
       "train 20                6          28            2             23   \n",
       "      25                6          14           13             27   \n",
       "      94                5          13           13             12   \n",
       "      109               6          10            8             45   \n",
       "      137               5          26           13              7   \n",
       "\n",
       "           starting_street_tf  end_street_tf  \n",
       "train 20             201.0000            nan  \n",
       "      25             166.0000            nan  \n",
       "      94           2,579.0000            nan  \n",
       "      109          2,597.0000            nan  \n",
       "      137          1,905.0000            nan  \n",
       "\n",
       "[5 rows x 22 columns]"
      ]
     },
     "execution_count": 42,
     "metadata": {},
     "output_type": "execute_result"
    }
   ],
   "source": [
    "data[data[col].isnull()][:5]"
   ]
  },
  {
   "cell_type": "markdown",
   "metadata": {},
   "source": [
    "### weather data"
   ]
  },
  {
   "cell_type": "code",
   "execution_count": 73,
   "metadata": {
    "ExecuteTime": {
     "end_time": "2017-08-01T07:31:51.384480Z",
     "start_time": "2017-08-01T07:31:51.155264Z"
    }
   },
   "outputs": [
    {
     "data": {
      "text/plain": [
       "0.00    1267201\n",
       "T        152520\n",
       "0.01      81384\n",
       "0.16      47863\n",
       "0.04      47613\n",
       "0.02      47265\n",
       "0.05      44575\n",
       "0.09      35303\n",
       "0.11      27010\n",
       "0.24      23662\n",
       "0.06      23208\n",
       "0.45      22040\n",
       "0.54      13197\n",
       "0.40      12600\n",
       "0.53      12264\n",
       "0.14      12231\n",
       "0.22      12194\n",
       "0.25      12171\n",
       "0.61      12151\n",
       "1.22      12031\n",
       "0.20      11786\n",
       "0.07      11719\n",
       "0.30      11685\n",
       "0.29      11564\n",
       "0.47      11238\n",
       "0.73      11179\n",
       "0.18      11168\n",
       "1.01      11060\n",
       "0.03      11042\n",
       "0.91      10756\n",
       "1.80      10552\n",
       "0.44      10459\n",
       "0.38      10449\n",
       "0.12      10364\n",
       "1.65       7942\n",
       "2.31       2331\n",
       "Name: precipitation, dtype: int64"
      ]
     },
     "execution_count": 73,
     "metadata": {},
     "output_type": "execute_result"
    }
   ],
   "source": [
    "data = combine_data\n",
    "data['precipitation'].value_counts()"
   ]
  },
  {
   "cell_type": "code",
   "execution_count": 74,
   "metadata": {
    "ExecuteTime": {
     "end_time": "2017-08-01T07:34:35.668017Z",
     "start_time": "2017-08-01T07:34:34.732833Z"
    },
    "collapsed": true
   },
   "outputs": [],
   "source": [
    "data.loc[data['precipitation']=='T'] = 0.01"
   ]
  },
  {
   "cell_type": "code",
   "execution_count": 76,
   "metadata": {
    "ExecuteTime": {
     "end_time": "2017-08-01T07:35:49.055070Z",
     "start_time": "2017-08-01T07:35:47.506781Z"
    },
    "collapsed": true
   },
   "outputs": [],
   "source": [
    "data.loc[:, 'precipitation'] = data['precipitation'].astype(float)"
   ]
  },
  {
   "cell_type": "code",
   "execution_count": 77,
   "metadata": {
    "ExecuteTime": {
     "end_time": "2017-08-01T07:35:50.877638Z",
     "start_time": "2017-08-01T07:35:50.853442Z"
    }
   },
   "outputs": [
    {
     "data": {
      "text/html": [
       "<div>\n",
       "<style>\n",
       "    .dataframe thead tr:only-child th {\n",
       "        text-align: right;\n",
       "    }\n",
       "\n",
       "    .dataframe thead th {\n",
       "        text-align: left;\n",
       "    }\n",
       "\n",
       "    .dataframe tbody tr th {\n",
       "        vertical-align: top;\n",
       "    }\n",
       "</style>\n",
       "<table border=\"1\" class=\"dataframe\">\n",
       "  <thead>\n",
       "    <tr style=\"text-align: right;\">\n",
       "      <th></th>\n",
       "      <th></th>\n",
       "      <th>id</th>\n",
       "      <th>total_distance</th>\n",
       "      <th>total_travel_time</th>\n",
       "      <th>number_of_steps</th>\n",
       "      <th>starting_street</th>\n",
       "      <th>end_street</th>\n",
       "      <th>vendor_id</th>\n",
       "      <th>pickup_datetime</th>\n",
       "      <th>passenger_count</th>\n",
       "      <th>pickup_longitude</th>\n",
       "      <th>...</th>\n",
       "      <th>pickup_hour</th>\n",
       "      <th>pickup_minute</th>\n",
       "      <th>date_obj</th>\n",
       "      <th>date</th>\n",
       "      <th>maximum temerature</th>\n",
       "      <th>minimum temperature</th>\n",
       "      <th>average temperature</th>\n",
       "      <th>precipitation</th>\n",
       "      <th>snow fall</th>\n",
       "      <th>snow depth</th>\n",
       "    </tr>\n",
       "  </thead>\n",
       "  <tbody>\n",
       "    <tr>\n",
       "      <th rowspan=\"5\" valign=\"top\">train</th>\n",
       "      <th>0</th>\n",
       "      <td>id2085575</td>\n",
       "      <td>3,588.5000</td>\n",
       "      <td>359.8000</td>\n",
       "      <td>7.0000</td>\n",
       "      <td>Center Boulevard</td>\n",
       "      <td>West 29th Street</td>\n",
       "      <td>2.0000</td>\n",
       "      <td>2016-03-18 13:47:52</td>\n",
       "      <td>5.0000</td>\n",
       "      <td>-73.9653</td>\n",
       "      <td>...</td>\n",
       "      <td>13.0000</td>\n",
       "      <td>47.0000</td>\n",
       "      <td>2016-03-18</td>\n",
       "      <td>18-3-2016</td>\n",
       "      <td>57.0000</td>\n",
       "      <td>42.0000</td>\n",
       "      <td>49.5000</td>\n",
       "      <td>0.0000</td>\n",
       "      <td>0.0</td>\n",
       "      <td>0</td>\n",
       "    </tr>\n",
       "    <tr>\n",
       "      <th>1</th>\n",
       "      <td>id0633227</td>\n",
       "      <td>3,935.6000</td>\n",
       "      <td>358.0000</td>\n",
       "      <td>7.0000</td>\n",
       "      <td>East 42nd Street</td>\n",
       "      <td>East 78th Street</td>\n",
       "      <td>1.0000</td>\n",
       "      <td>2016-03-01 19:24:44</td>\n",
       "      <td>1.0000</td>\n",
       "      <td>-73.9790</td>\n",
       "      <td>...</td>\n",
       "      <td>19.0000</td>\n",
       "      <td>24.0000</td>\n",
       "      <td>2016-03-01</td>\n",
       "      <td>1-3-2016</td>\n",
       "      <td>52.0000</td>\n",
       "      <td>39.0000</td>\n",
       "      <td>45.5000</td>\n",
       "      <td>0.0000</td>\n",
       "      <td>0.0</td>\n",
       "      <td>0</td>\n",
       "    </tr>\n",
       "    <tr>\n",
       "      <th>2</th>\n",
       "      <td>id1356036</td>\n",
       "      <td>3,468.3000</td>\n",
       "      <td>228.2000</td>\n",
       "      <td>10.0000</td>\n",
       "      <td>West 74th Street</td>\n",
       "      <td>Joe DiMaggio Highway</td>\n",
       "      <td>2.0000</td>\n",
       "      <td>2016-05-20 22:49:05</td>\n",
       "      <td>1.0000</td>\n",
       "      <td>-73.9813</td>\n",
       "      <td>...</td>\n",
       "      <td>22.0000</td>\n",
       "      <td>49.0000</td>\n",
       "      <td>2016-05-20</td>\n",
       "      <td>20-5-2016</td>\n",
       "      <td>76.0000</td>\n",
       "      <td>53.0000</td>\n",
       "      <td>64.5000</td>\n",
       "      <td>0.0000</td>\n",
       "      <td>0.0</td>\n",
       "      <td>0</td>\n",
       "    </tr>\n",
       "    <tr>\n",
       "      <th>3</th>\n",
       "      <td>id2360318</td>\n",
       "      <td>2,369.6000</td>\n",
       "      <td>240.0000</td>\n",
       "      <td>5.0000</td>\n",
       "      <td>East 31st Street</td>\n",
       "      <td>Park Avenue</td>\n",
       "      <td>2.0000</td>\n",
       "      <td>2016-05-23 09:55:24</td>\n",
       "      <td>1.0000</td>\n",
       "      <td>-73.9808</td>\n",
       "      <td>...</td>\n",
       "      <td>9.0000</td>\n",
       "      <td>55.0000</td>\n",
       "      <td>2016-05-23</td>\n",
       "      <td>23-5-2016</td>\n",
       "      <td>78.0000</td>\n",
       "      <td>56.0000</td>\n",
       "      <td>67.0000</td>\n",
       "      <td>0.0200</td>\n",
       "      <td>0.0</td>\n",
       "      <td>0</td>\n",
       "    </tr>\n",
       "    <tr>\n",
       "      <th>4</th>\n",
       "      <td>id1397932</td>\n",
       "      <td>3,050.7000</td>\n",
       "      <td>415.1000</td>\n",
       "      <td>9.0000</td>\n",
       "      <td>Cleveland Place</td>\n",
       "      <td>East 28th Street</td>\n",
       "      <td>1.0000</td>\n",
       "      <td>2016-06-02 20:01:15</td>\n",
       "      <td>1.0000</td>\n",
       "      <td>-73.9974</td>\n",
       "      <td>...</td>\n",
       "      <td>20.0000</td>\n",
       "      <td>1.0000</td>\n",
       "      <td>2016-06-02</td>\n",
       "      <td>2-6-2016</td>\n",
       "      <td>78.0000</td>\n",
       "      <td>62.0000</td>\n",
       "      <td>70.0000</td>\n",
       "      <td>0.0000</td>\n",
       "      <td>0.0</td>\n",
       "      <td>0</td>\n",
       "    </tr>\n",
       "  </tbody>\n",
       "</table>\n",
       "<p>5 rows × 29 columns</p>\n",
       "</div>"
      ],
      "text/plain": [
       "                id  total_distance  total_travel_time  number_of_steps  \\\n",
       "train 0  id2085575      3,588.5000           359.8000           7.0000   \n",
       "      1  id0633227      3,935.6000           358.0000           7.0000   \n",
       "      2  id1356036      3,468.3000           228.2000          10.0000   \n",
       "      3  id2360318      2,369.6000           240.0000           5.0000   \n",
       "      4  id1397932      3,050.7000           415.1000           9.0000   \n",
       "\n",
       "          starting_street            end_street  vendor_id  \\\n",
       "train 0  Center Boulevard      West 29th Street     2.0000   \n",
       "      1  East 42nd Street      East 78th Street     1.0000   \n",
       "      2  West 74th Street  Joe DiMaggio Highway     2.0000   \n",
       "      3  East 31st Street           Park Avenue     2.0000   \n",
       "      4   Cleveland Place      East 28th Street     1.0000   \n",
       "\n",
       "             pickup_datetime  passenger_count  pickup_longitude     ...      \\\n",
       "train 0  2016-03-18 13:47:52           5.0000          -73.9653     ...       \n",
       "      1  2016-03-01 19:24:44           1.0000          -73.9790     ...       \n",
       "      2  2016-05-20 22:49:05           1.0000          -73.9813     ...       \n",
       "      3  2016-05-23 09:55:24           1.0000          -73.9808     ...       \n",
       "      4  2016-06-02 20:01:15           1.0000          -73.9974     ...       \n",
       "\n",
       "         pickup_hour  pickup_minute    date_obj       date maximum temerature  \\\n",
       "train 0      13.0000        47.0000  2016-03-18  18-3-2016            57.0000   \n",
       "      1      19.0000        24.0000  2016-03-01   1-3-2016            52.0000   \n",
       "      2      22.0000        49.0000  2016-05-20  20-5-2016            76.0000   \n",
       "      3       9.0000        55.0000  2016-05-23  23-5-2016            78.0000   \n",
       "      4      20.0000         1.0000  2016-06-02   2-6-2016            78.0000   \n",
       "\n",
       "         minimum temperature  average temperature  precipitation  snow fall  \\\n",
       "train 0              42.0000              49.5000         0.0000        0.0   \n",
       "      1              39.0000              45.5000         0.0000        0.0   \n",
       "      2              53.0000              64.5000         0.0000        0.0   \n",
       "      3              56.0000              67.0000         0.0200        0.0   \n",
       "      4              62.0000              70.0000         0.0000        0.0   \n",
       "\n",
       "         snow depth  \n",
       "train 0           0  \n",
       "      1           0  \n",
       "      2           0  \n",
       "      3           0  \n",
       "      4           0  \n",
       "\n",
       "[5 rows x 29 columns]"
      ]
     },
     "execution_count": 77,
     "metadata": {},
     "output_type": "execute_result"
    }
   ],
   "source": [
    "data[:5]"
   ]
  },
  {
   "cell_type": "markdown",
   "metadata": {},
   "source": [
    "### Drop unused cols"
   ]
  },
  {
   "cell_type": "code",
   "execution_count": 43,
   "metadata": {
    "ExecuteTime": {
     "end_time": "2017-07-28T13:09:22.930922Z",
     "start_time": "2017-07-28T13:09:22.088718Z"
    },
    "collapsed": true
   },
   "outputs": [],
   "source": [
    "# Drop pickup_datetime\n",
    "data.drop('pickup_datetime', axis=1, inplace=True)\n",
    "data.drop('datetime_obj', axis=1, inplace=True)\n",
    "data.drop('starting_street', axis=1, inplace=True)\n",
    "data.drop('end_street', axis=1, inplace=True)"
   ]
  },
  {
   "cell_type": "code",
   "execution_count": null,
   "metadata": {
    "collapsed": true
   },
   "outputs": [],
   "source": [
    "combine_data = data"
   ]
  },
  {
   "cell_type": "markdown",
   "metadata": {},
   "source": [
    "# Feature Engineering"
   ]
  },
  {
   "cell_type": "markdown",
   "metadata": {},
   "source": [
    "## Turn, left, right"
   ]
  },
  {
   "cell_type": "code",
   "execution_count": 82,
   "metadata": {
    "ExecuteTime": {
     "end_time": "2017-08-01T09:07:19.626822Z",
     "start_time": "2017-08-01T09:07:19.624616Z"
    },
    "collapsed": true
   },
   "outputs": [],
   "source": [
    "data = train_osm"
   ]
  },
  {
   "cell_type": "code",
   "execution_count": 83,
   "metadata": {
    "ExecuteTime": {
     "end_time": "2017-08-01T09:07:21.628504Z",
     "start_time": "2017-08-01T09:07:21.623303Z"
    }
   },
   "outputs": [
    {
     "data": {
      "text/plain": [
       "Index(['id', 'starting_street', 'end_street', 'total_distance',\n",
       "       'total_travel_time', 'number_of_steps', 'street_for_each_step',\n",
       "       'distance_per_step', 'travel_time_per_step', 'step_maneuvers',\n",
       "       'step_direction'],\n",
       "      dtype='object')"
      ]
     },
     "execution_count": 83,
     "metadata": {},
     "output_type": "execute_result"
    }
   ],
   "source": [
    "data.columns"
   ]
  },
  {
   "cell_type": "code",
   "execution_count": 88,
   "metadata": {
    "ExecuteTime": {
     "end_time": "2017-08-01T09:33:38.076096Z",
     "start_time": "2017-08-01T09:33:38.070130Z"
    }
   },
   "outputs": [
    {
     "data": {
      "text/plain": [
       "0               depart|turn|turn|turn|turn|turn|arrive\n",
       "1               depart|turn|fork|turn|turn|turn|arrive\n",
       "2    depart|turn|turn|roundabout|merge|turn|turn|ne...\n",
       "3                     depart|turn|fork|continue|arrive\n",
       "4    depart|new name|new name|new name|new name|tur...\n",
       "Name: step_maneuvers, dtype: object"
      ]
     },
     "execution_count": 88,
     "metadata": {},
     "output_type": "execute_result"
    }
   ],
   "source": [
    "data2 = data['step_maneuvers'][:5]\n",
    "data2"
   ]
  },
  {
   "cell_type": "code",
   "execution_count": 87,
   "metadata": {
    "ExecuteTime": {
     "end_time": "2017-08-01T09:21:08.774273Z",
     "start_time": "2017-08-01T09:21:08.769649Z"
    }
   },
   "outputs": [
    {
     "data": {
      "text/plain": [
       "0    5\n",
       "1    4\n",
       "2    4\n",
       "3    1\n",
       "4    3\n",
       "Name: step_maneuvers, dtype: int64"
      ]
     },
     "execution_count": 87,
     "metadata": {},
     "output_type": "execute_result"
    }
   ],
   "source": [
    "turns = data2.apply(lambda x: x.count('turn'))\n",
    "turns"
   ]
  },
  {
   "cell_type": "code",
   "execution_count": 89,
   "metadata": {
    "ExecuteTime": {
     "end_time": "2017-08-01T09:33:57.464319Z",
     "start_time": "2017-08-01T09:33:57.457161Z"
    }
   },
   "outputs": [
    {
     "data": {
      "text/plain": [
       "0              left|uturn|left|right|left|right|arrive\n",
       "1      right|left|slight right|right|left|right|arrive\n",
       "2    right|left|left|right|slight left|left|left|st...\n",
       "3                 right|right|slight left|uturn|arrive\n",
       "4    right|slight right|straight|straight|straight|...\n",
       "Name: step_direction, dtype: object"
      ]
     },
     "execution_count": 89,
     "metadata": {},
     "output_type": "execute_result"
    }
   ],
   "source": [
    "data2 = data['step_direction'][:5]\n",
    "data2"
   ]
  },
  {
   "cell_type": "code",
   "execution_count": null,
   "metadata": {
    "collapsed": true
   },
   "outputs": [],
   "source": []
  }
 ],
 "metadata": {
  "kernelspec": {
   "display_name": "Python 3",
   "language": "python",
   "name": "python3"
  },
  "language_info": {
   "codemirror_mode": {
    "name": "ipython",
    "version": 3
   },
   "file_extension": ".py",
   "mimetype": "text/x-python",
   "name": "python",
   "nbconvert_exporter": "python",
   "pygments_lexer": "ipython3",
   "version": "3.4.3"
  },
  "toc": {
   "colors": {
    "hover_highlight": "#DAA520",
    "navigate_num": "#000000",
    "navigate_text": "#333333",
    "running_highlight": "#FF0000",
    "selected_highlight": "#FFD700",
    "sidebar_border": "#EEEEEE",
    "wrapper_background": "#FFFFFF"
   },
   "moveMenuLeft": true,
   "nav_menu": {
    "height": "512px",
    "width": "252px"
   },
   "navigate_menu": true,
   "number_sections": true,
   "sideBar": true,
   "threshold": 4,
   "toc_cell": true,
   "toc_position": {
    "height": "537px",
    "left": "0px",
    "right": "1090px",
    "top": "107px",
    "width": "270px"
   },
   "toc_section_display": "block",
   "toc_window_display": true,
   "widenNotebook": false
  },
  "varInspector": {
   "cols": {
    "lenName": 16,
    "lenType": 16,
    "lenVar": 40
   },
   "kernels_config": {
    "python": {
     "delete_cmd_postfix": "",
     "delete_cmd_prefix": "del ",
     "library": "var_list.py",
     "varRefreshCmd": "print(var_dic_list())"
    },
    "r": {
     "delete_cmd_postfix": ") ",
     "delete_cmd_prefix": "rm(",
     "library": "var_list.r",
     "varRefreshCmd": "cat(var_dic_list()) "
    }
   },
   "position": {
    "height": "607px",
    "left": "1139px",
    "right": "20px",
    "top": "68px",
    "width": "310px"
   },
   "types_to_exclude": [
    "module",
    "function",
    "builtin_function_or_method",
    "instance",
    "_Feature"
   ],
   "window_display": false
  }
 },
 "nbformat": 4,
 "nbformat_minor": 2
}
